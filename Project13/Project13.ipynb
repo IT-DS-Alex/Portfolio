{
 "cells": [
  {
   "cell_type": "markdown",
   "metadata": {
    "toc": true
   },
   "source": [
    "<h1>Содержание<span class=\"tocSkip\"></span></h1>\n",
    "<div class=\"toc\"><ul class=\"toc-item\"><li><span><a href=\"#Подготовка\" data-toc-modified-id=\"Подготовка-1\"><span class=\"toc-item-num\">1&nbsp;&nbsp;</span>Подготовка</a></span></li><li><span><a href=\"#Обучение\" data-toc-modified-id=\"Обучение-2\"><span class=\"toc-item-num\">2&nbsp;&nbsp;</span>Обучение</a></span></li><li><span><a href=\"#Выводы\" data-toc-modified-id=\"Выводы-3\"><span class=\"toc-item-num\">3&nbsp;&nbsp;</span>Выводы</a></span></li><li><span><a href=\"#Чек-лист-проверки\" data-toc-modified-id=\"Чек-лист-проверки-4\"><span class=\"toc-item-num\">4&nbsp;&nbsp;</span>Чек-лист проверки</a></span></li></ul></div>"
   ]
  },
  {
   "cell_type": "markdown",
   "metadata": {},
   "source": [
    "# Проект для «Викишоп»"
   ]
  },
  {
   "cell_type": "markdown",
   "metadata": {},
   "source": [
    "Интернет-магазин «Викишоп» запускает новый сервис. Теперь пользователи могут редактировать и дополнять описания товаров, как в вики-сообществах. То есть клиенты предлагают свои правки и комментируют изменения других. Магазину нужен инструмент, который будет искать токсичные комментарии и отправлять их на модерацию. \n",
    "\n",
    "Обучите модель классифицировать комментарии на позитивные и негативные. В вашем распоряжении набор данных с разметкой о токсичности правок.\n",
    "\n",
    "Постройте модель со значением метрики качества *F1* не меньше 0.75. \n",
    "\n",
    "**Инструкция по выполнению проекта**\n",
    "\n",
    "1. Загрузите и подготовьте данные.\n",
    "2. Обучите разные модели. \n",
    "3. Сделайте выводы.\n",
    "\n",
    "**Описание данных**\n",
    "\n",
    "Данные находятся в файле `toxic_comments.csv`. Столбец *text* в нём содержит текст комментария, а *toxic* — целевой признак."
   ]
  },
  {
   "cell_type": "markdown",
   "metadata": {},
   "source": [
    "## Подготовка"
   ]
  },
  {
   "cell_type": "code",
   "execution_count": 1,
   "metadata": {},
   "outputs": [],
   "source": [
    "import pandas as pd\n",
    "import re\n",
    "import nltk\n",
    "import matplotlib.pyplot as plt\n",
    "import seaborn as sns\n",
    "\n",
    "from nltk.stem import WordNetLemmatizer\n",
    "from nltk.corpus import stopwords as nltk_stopwords\n",
    "from sklearn.feature_extraction.text import TfidfVectorizer\n",
    "from sklearn.linear_model import LogisticRegression\n",
    "from sklearn.ensemble import RandomForestClassifier\n",
    "from sklearn.tree import DecisionTreeClassifier\n",
    "from sklearn.model_selection import GridSearchCV\n",
    "from sklearn.model_selection import cross_val_score, cross_val_predict\n",
    "from sklearn.metrics import f1_score\n",
    "from sklearn import metrics\n",
    "from sklearn.model_selection import train_test_split\n",
    "from tqdm.notebook import tqdm\n",
    "from sklearn.utils import shuffle"
   ]
  },
  {
   "cell_type": "code",
   "execution_count": 2,
   "metadata": {},
   "outputs": [
    {
     "data": {
      "text/html": [
       "<div>\n",
       "<style scoped>\n",
       "    .dataframe tbody tr th:only-of-type {\n",
       "        vertical-align: middle;\n",
       "    }\n",
       "\n",
       "    .dataframe tbody tr th {\n",
       "        vertical-align: top;\n",
       "    }\n",
       "\n",
       "    .dataframe thead th {\n",
       "        text-align: right;\n",
       "    }\n",
       "</style>\n",
       "<table border=\"1\" class=\"dataframe\">\n",
       "  <thead>\n",
       "    <tr style=\"text-align: right;\">\n",
       "      <th></th>\n",
       "      <th>text</th>\n",
       "      <th>toxic</th>\n",
       "    </tr>\n",
       "  </thead>\n",
       "  <tbody>\n",
       "    <tr>\n",
       "      <th>0</th>\n",
       "      <td>Explanation\\nWhy the edits made under my usern...</td>\n",
       "      <td>0</td>\n",
       "    </tr>\n",
       "    <tr>\n",
       "      <th>1</th>\n",
       "      <td>D'aww! He matches this background colour I'm s...</td>\n",
       "      <td>0</td>\n",
       "    </tr>\n",
       "    <tr>\n",
       "      <th>2</th>\n",
       "      <td>Hey man, I'm really not trying to edit war. It...</td>\n",
       "      <td>0</td>\n",
       "    </tr>\n",
       "    <tr>\n",
       "      <th>3</th>\n",
       "      <td>\"\\nMore\\nI can't make any real suggestions on ...</td>\n",
       "      <td>0</td>\n",
       "    </tr>\n",
       "    <tr>\n",
       "      <th>4</th>\n",
       "      <td>You, sir, are my hero. Any chance you remember...</td>\n",
       "      <td>0</td>\n",
       "    </tr>\n",
       "  </tbody>\n",
       "</table>\n",
       "</div>"
      ],
      "text/plain": [
       "                                                text  toxic\n",
       "0  Explanation\\nWhy the edits made under my usern...      0\n",
       "1  D'aww! He matches this background colour I'm s...      0\n",
       "2  Hey man, I'm really not trying to edit war. It...      0\n",
       "3  \"\\nMore\\nI can't make any real suggestions on ...      0\n",
       "4  You, sir, are my hero. Any chance you remember...      0"
      ]
     },
     "execution_count": 2,
     "metadata": {},
     "output_type": "execute_result"
    }
   ],
   "source": [
    "data = pd.read_csv('/datasets/toxic_comments.csv', index_col=0)\n",
    "data.head()"
   ]
  },
  {
   "cell_type": "code",
   "execution_count": 3,
   "metadata": {},
   "outputs": [
    {
     "name": "stdout",
     "output_type": "stream",
     "text": [
      "<class 'pandas.core.frame.DataFrame'>\n",
      "Int64Index: 159292 entries, 0 to 159450\n",
      "Data columns (total 2 columns):\n",
      " #   Column  Non-Null Count   Dtype \n",
      "---  ------  --------------   ----- \n",
      " 0   text    159292 non-null  object\n",
      " 1   toxic   159292 non-null  int64 \n",
      "dtypes: int64(1), object(1)\n",
      "memory usage: 3.6+ MB\n"
     ]
    }
   ],
   "source": [
    "data.info()"
   ]
  },
  {
   "cell_type": "code",
   "execution_count": 4,
   "metadata": {},
   "outputs": [
    {
     "name": "stdout",
     "output_type": "stream",
     "text": [
      "<class 'pandas.core.frame.DataFrame'>\n",
      "Int64Index: 159292 entries, 0 to 159450\n",
      "Data columns (total 2 columns):\n",
      " #   Column  Non-Null Count   Dtype \n",
      "---  ------  --------------   ----- \n",
      " 0   text    159292 non-null  object\n",
      " 1   toxic   159292 non-null  int64 \n",
      "dtypes: int64(1), object(1)\n",
      "memory usage: 3.6+ MB\n"
     ]
    }
   ],
   "source": [
    "data.info()"
   ]
  },
  {
   "cell_type": "markdown",
   "metadata": {},
   "source": [
    "# Лемматизируем текст"
   ]
  },
  {
   "cell_type": "markdown",
   "metadata": {},
   "source": [
    "Создадим корпус слов"
   ]
  },
  {
   "cell_type": "code",
   "execution_count": 5,
   "metadata": {},
   "outputs": [],
   "source": [
    "corpus = list(data['text'])"
   ]
  },
  {
   "cell_type": "markdown",
   "metadata": {},
   "source": [
    "Загружаем словари:"
   ]
  },
  {
   "cell_type": "code",
   "execution_count": 6,
   "metadata": {},
   "outputs": [
    {
     "name": "stderr",
     "output_type": "stream",
     "text": [
      "[nltk_data] Downloading package wordnet to /home/jovyan/nltk_data...\n",
      "[nltk_data]   Package wordnet is already up-to-date!\n"
     ]
    },
    {
     "data": {
      "text/plain": [
       "True"
      ]
     },
     "execution_count": 6,
     "metadata": {},
     "output_type": "execute_result"
    }
   ],
   "source": [
    "nltk.download('wordnet')"
   ]
  },
  {
   "cell_type": "code",
   "execution_count": 7,
   "metadata": {},
   "outputs": [
    {
     "name": "stderr",
     "output_type": "stream",
     "text": [
      "[nltk_data] Downloading package averaged_perceptron_tagger to\n",
      "[nltk_data]     /home/jovyan/nltk_data...\n",
      "[nltk_data]   Package averaged_perceptron_tagger is already up-to-\n",
      "[nltk_data]       date!\n"
     ]
    },
    {
     "data": {
      "text/plain": [
       "True"
      ]
     },
     "execution_count": 7,
     "metadata": {},
     "output_type": "execute_result"
    }
   ],
   "source": [
    "nltk.download('averaged_perceptron_tagger')"
   ]
  },
  {
   "cell_type": "code",
   "execution_count": 8,
   "metadata": {},
   "outputs": [],
   "source": [
    "lemmatizer = WordNetLemmatizer()"
   ]
  },
  {
   "cell_type": "code",
   "execution_count": 9,
   "metadata": {},
   "outputs": [],
   "source": [
    "def clear_text(text):\n",
    "    y=re.sub(r\"[^'a-zA-Z ]\", ' ', text) \n",
    "    k=\" \".join(y.split())\n",
    "    return k"
   ]
  },
  {
   "cell_type": "code",
   "execution_count": 10,
   "metadata": {},
   "outputs": [],
   "source": [
    "from nltk.corpus import wordnet\n",
    "def get_wordnet_pos(word):\n",
    "    tag = nltk.pos_tag([word])[0][1][0].upper()\n",
    "    tag_dict = {\"J\": wordnet.ADJ,\n",
    "                \"N\": wordnet.NOUN,\n",
    "                \"V\": wordnet.VERB,\n",
    "                \"R\": wordnet.ADV}\n",
    "    return tag_dict.get(tag, wordnet.NOUN)"
   ]
  },
  {
   "cell_type": "code",
   "execution_count": 11,
   "metadata": {},
   "outputs": [
    {
     "data": {
      "application/vnd.jupyter.widget-view+json": {
       "model_id": "3c5a4ca45092430c986092fdc93d1ae1",
       "version_major": 2,
       "version_minor": 0
      },
      "text/plain": [
       "  0%|          | 0/159292 [00:00<?, ?it/s]"
      ]
     },
     "metadata": {},
     "output_type": "display_data"
    },
    {
     "name": "stdout",
     "output_type": "stream",
     "text": [
      "CPU times: user 22min 36s, sys: 2min 7s, total: 24min 44s\n",
      "Wall time: 25min 27s\n"
     ]
    }
   ],
   "source": [
    "%%time\n",
    "def lemmafunction(textc):\n",
    "    k=[]\n",
    "    for i in nltk.word_tokenize(textc):\n",
    "        y=lemmatizer.lemmatize(i, get_wordnet_pos(i))\n",
    "        k.append(y)\n",
    "    return ' '.join(k) \n",
    "\n",
    "lemy=[]\n",
    "for i in tqdm(range(len(corpus))):\n",
    "    \n",
    "    lemy.append(lemmafunction(clear_text(corpus[i])))\n",
    "data['lemm_text']=pd.Series(lemy, index=data.index)"
   ]
  },
  {
   "cell_type": "markdown",
   "metadata": {},
   "source": [
    "Проверка результата:"
   ]
  },
  {
   "cell_type": "code",
   "execution_count": 12,
   "metadata": {},
   "outputs": [
    {
     "data": {
      "text/plain": [
       "'\"\\nMore\\nI can\\'t make any real suggestions on improvement - I wondered if the section statistics should be later on, or a subsection of \"\"types of accidents\"\"  -I think the references may need tidying so that they are all in the exact same format ie date format etc. I can do that later on, if no-one else does first - if you have any preferences for formatting style on references or want to do it yourself please let me know.\\n\\nThere appears to be a backlog on articles for review so I guess there may be a delay until a reviewer turns up. It\\'s listed in the relevant form eg Wikipedia:Good_article_nominations#Transport  \"'"
      ]
     },
     "execution_count": 12,
     "metadata": {},
     "output_type": "execute_result"
    }
   ],
   "source": [
    "data['text'][3]"
   ]
  },
  {
   "cell_type": "code",
   "execution_count": 13,
   "metadata": {},
   "outputs": [
    {
     "data": {
      "text/plain": [
       "\"More I ca n't make any real suggestion on improvement I wonder if the section statistic should be later on or a subsection of type of accident I think the reference may need tidy so that they be all in the exact same format ie date format etc I can do that later on if no one else do first if you have any preference for format style on reference or want to do it yourself please let me know There appear to be a backlog on article for review so I guess there may be a delay until a reviewer turn up It 's list in the relevant form eg Wikipedia Good article nomination Transport\""
      ]
     },
     "execution_count": 13,
     "metadata": {},
     "output_type": "execute_result"
    }
   ],
   "source": [
    "data['lemm_text'][3]"
   ]
  },
  {
   "cell_type": "markdown",
   "metadata": {},
   "source": [
    "Посмотрим на баланс распределения классов в данных:"
   ]
  },
  {
   "cell_type": "code",
   "execution_count": 14,
   "metadata": {},
   "outputs": [
    {
     "data": {
      "image/png": "[encoded data removed]",
      "text/plain": [
       "<Figure size 396x396 with 1 Axes>"
      ]
     },
     "metadata": {},
     "output_type": "display_data"
    }
   ],
   "source": [
    "sns.set_style('darkgrid')\n",
    "data['toxic'].value_counts(normalize=True).plot(kind='pie',figsize=[5.5,5.5], legend=False, autopct='%1.1f%%',labels=['Отзыв токсичный','Отзыв не токсичный'])\n",
    "plt.title('Баланс распределения классов в данных')\n",
    "\n",
    "plt.ylabel('')\n",
    "plt.show()"
   ]
  },
  {
   "cell_type": "markdown",
   "metadata": {},
   "source": [
    "Разделим датасет на выборки:"
   ]
  },
  {
   "cell_type": "code",
   "execution_count": 15,
   "metadata": {},
   "outputs": [
    {
     "name": "stdout",
     "output_type": "stream",
     "text": [
      "(119469, 2) (39823, 2) (119469,) (39823,)\n"
     ]
    }
   ],
   "source": [
    "X=data.drop('toxic',axis=1)\n",
    "y=data['toxic']\n",
    "\n",
    "X_train, X_test, y_train, y_test = train_test_split(X, y, test_size=0.25, random_state=12345, shuffle=True, stratify=y)\n",
    "\n",
    "\n",
    "print(X_train.shape, X_test.shape, y_train.shape, y_test.shape)"
   ]
  },
  {
   "cell_type": "markdown",
   "metadata": {},
   "source": [
    "Загрузим библиотеку и стоп-слова из английского языка"
   ]
  },
  {
   "cell_type": "code",
   "execution_count": 16,
   "metadata": {},
   "outputs": [
    {
     "name": "stderr",
     "output_type": "stream",
     "text": [
      "[nltk_data] Downloading package stopwords to /home/jovyan/nltk_data...\n",
      "[nltk_data]   Package stopwords is already up-to-date!\n"
     ]
    }
   ],
   "source": [
    "nltk.download('stopwords') \n",
    "stop_words = set(nltk_stopwords.words('english')) "
   ]
  },
  {
   "cell_type": "markdown",
   "metadata": {},
   "source": [
    "Создадим корпус из лемматизированных и очищенных слов:"
   ]
  },
  {
   "cell_type": "code",
   "execution_count": 17,
   "metadata": {},
   "outputs": [
    {
     "data": {
      "text/plain": [
       "(119469,)"
      ]
     },
     "execution_count": 17,
     "metadata": {},
     "output_type": "execute_result"
    }
   ],
   "source": [
    "corpus_lemm_train = X_train['lemm_text'].values.astype('U')\n",
    "corpus_lemm_train.shape"
   ]
  },
  {
   "cell_type": "markdown",
   "metadata": {},
   "source": [
    "Применим модель TfidfVectorizer и обучим на тренировочных данных:"
   ]
  },
  {
   "cell_type": "code",
   "execution_count": 18,
   "metadata": {},
   "outputs": [
    {
     "data": {
      "text/plain": [
       "(119469, 134623)"
      ]
     },
     "execution_count": 18,
     "metadata": {},
     "output_type": "execute_result"
    }
   ],
   "source": [
    "count_tf_idf = TfidfVectorizer(stop_words=stop_words,analyzer='word') \n",
    "tf_idf = count_tf_idf.fit_transform(corpus_lemm_train) \n",
    "tf_idf.shape"
   ]
  },
  {
   "cell_type": "markdown",
   "metadata": {},
   "source": [
    "Создадим корпус слов для тестовой выборки:"
   ]
  },
  {
   "cell_type": "code",
   "execution_count": 19,
   "metadata": {},
   "outputs": [
    {
     "data": {
      "text/plain": [
       "(39823,)"
      ]
     },
     "execution_count": 19,
     "metadata": {},
     "output_type": "execute_result"
    }
   ],
   "source": [
    "corpus_lemm_test = X_test['lemm_text'].values.astype('U')\n",
    "corpus_lemm_test.shape"
   ]
  },
  {
   "cell_type": "markdown",
   "metadata": {},
   "source": [
    "Трансформируем тестовую выборку:"
   ]
  },
  {
   "cell_type": "code",
   "execution_count": 20,
   "metadata": {},
   "outputs": [
    {
     "data": {
      "text/plain": [
       "(39823, 134623)"
      ]
     },
     "execution_count": 20,
     "metadata": {},
     "output_type": "execute_result"
    }
   ],
   "source": [
    "tf_test = count_tf_idf.transform(corpus_lemm_test)\n",
    "tf_test.shape"
   ]
  },
  {
   "cell_type": "markdown",
   "metadata": {},
   "source": [
    "Когда мы используем TF-IDF -  это может помочь уменьшить влияние стоп-слов на векторы и повысить производительность модели. "
   ]
  },
  {
   "cell_type": "markdown",
   "metadata": {},
   "source": [
    "## Обучение"
   ]
  },
  {
   "cell_type": "code",
   "execution_count": 21,
   "metadata": {},
   "outputs": [],
   "source": [
    "test_score = {}"
   ]
  },
  {
   "cell_type": "markdown",
   "metadata": {},
   "source": [
    "Произведем обученине моделей. Для подбора параметров используем инструмент GridSearchCV."
   ]
  },
  {
   "cell_type": "markdown",
   "metadata": {},
   "source": [
    "1.LogisticRegression"
   ]
  },
  {
   "cell_type": "code",
   "execution_count": 22,
   "metadata": {},
   "outputs": [
    {
     "name": "stdout",
     "output_type": "stream",
     "text": [
      "Fitting 3 folds for each of 10 candidates, totalling 30 fits\n",
      "Лучшая RMSE: 0.7687105782548541 при параметрах {'C': 4, 'penalty': 'l1'}\n",
      "CPU times: user 1min 53s, sys: 1min 22s, total: 3min 15s\n",
      "Wall time: 3min 16s\n"
     ]
    }
   ],
   "source": [
    "%%time\n",
    "lr = LogisticRegression(random_state=12345, solver='liblinear', max_iter=100)\n",
    "params = {\n",
    "   'penalty':['l1', 'l2'],        \n",
    "   'C':list(range(1,15,3)) \n",
    "}\n",
    "\n",
    "lr_gs = GridSearchCV(lr, params, cv=3, scoring='f1', verbose=True).fit(tf_idf,y_train)\n",
    "\n",
    "print(f'Лучшая RMSE: {lr_gs.best_score_} при параметрах {lr_gs.best_params_}')"
   ]
  },
  {
   "cell_type": "code",
   "execution_count": 23,
   "metadata": {},
   "outputs": [],
   "source": [
    "test_score['LogisticRegression'] = [lr_gs.best_score_]"
   ]
  },
  {
   "cell_type": "markdown",
   "metadata": {},
   "source": [
    "2.RandomForestClassifier"
   ]
  },
  {
   "cell_type": "code",
   "execution_count": 24,
   "metadata": {},
   "outputs": [
    {
     "name": "stdout",
     "output_type": "stream",
     "text": [
      "Лучшая RMSE: 0.3792085787000073 при параметрах ,{'max_depth': 4, 'min_samples_leaf': 3, 'min_samples_split': 4, 'n_estimators': 25}\n",
      "CPU times: user 4min 44s, sys: 3.2 s, total: 4min 47s\n",
      "Wall time: 4min 49s\n"
     ]
    }
   ],
   "source": [
    "%%time\n",
    "\n",
    "forest = RandomForestClassifier(class_weight='balanced', n_jobs=-1 )\n",
    "\n",
    "params = { 'n_estimators': range(20, 40, 5),\n",
    "                     'max_depth': range(4, 8, 2),\n",
    "                     'min_samples_leaf': range(3,5),\n",
    "                     'min_samples_split': range(2,6,2)}\n",
    "\n",
    "forest_grid = GridSearchCV(forest, params, scoring='f1', cv=3)\n",
    "rforest_model=forest_grid.fit(tf_idf,y_train)\n",
    "print(f'Лучшая RMSE: {rforest_model.best_score_} при параметрах ,{rforest_model.best_params_}')"
   ]
  },
  {
   "cell_type": "code",
   "execution_count": 25,
   "metadata": {},
   "outputs": [],
   "source": [
    "test_score['RandomForestClassifier'] = [rforest_model.best_score_]"
   ]
  },
  {
   "cell_type": "markdown",
   "metadata": {},
   "source": [
    "3.DecisionTreeClassifier"
   ]
  },
  {
   "cell_type": "code",
   "execution_count": 26,
   "metadata": {},
   "outputs": [
    {
     "name": "stdout",
     "output_type": "stream",
     "text": [
      "Fitting 3 folds for each of 6 candidates, totalling 18 fits\n",
      "Лучшая RMSE: 0.6033515614118744 при параметрах ,{'criterion': 'gini', 'max_depth': 11}\n",
      "CPU times: user 3min 12s, sys: 705 ms, total: 3min 13s\n",
      "Wall time: 3min 14s\n"
     ]
    }
   ],
   "source": [
    "%%time\n",
    "tree = DecisionTreeClassifier(random_state = 12345)\n",
    "params = {\n",
    "   'criterion':['gini', 'entropy'],        \n",
    "   'max_depth':list(range(1,15,5)) \n",
    "}\n",
    "\n",
    "tree_gs = GridSearchCV(tree, params, cv=3, scoring='f1', verbose=True).fit(tf_idf,y_train)\n",
    "print(f'Лучшая RMSE: {tree_gs.best_score_} при параметрах ,{tree_gs.best_params_}')"
   ]
  },
  {
   "cell_type": "code",
   "execution_count": 27,
   "metadata": {},
   "outputs": [],
   "source": [
    "test_score['DecisionTreeClassifier'] = [tree_gs.best_score_]"
   ]
  },
  {
   "cell_type": "markdown",
   "metadata": {},
   "source": [
    "Сравниваем модели:"
   ]
  },
  {
   "cell_type": "code",
   "execution_count": 28,
   "metadata": {
    "scrolled": true
   },
   "outputs": [
    {
     "data": {
      "text/html": [
       "<div>\n",
       "<style scoped>\n",
       "    .dataframe tbody tr th:only-of-type {\n",
       "        vertical-align: middle;\n",
       "    }\n",
       "\n",
       "    .dataframe tbody tr th {\n",
       "        vertical-align: top;\n",
       "    }\n",
       "\n",
       "    .dataframe thead th {\n",
       "        text-align: right;\n",
       "    }\n",
       "</style>\n",
       "<table border=\"1\" class=\"dataframe\">\n",
       "  <thead>\n",
       "    <tr style=\"text-align: right;\">\n",
       "      <th></th>\n",
       "      <th>f1</th>\n",
       "    </tr>\n",
       "  </thead>\n",
       "  <tbody>\n",
       "    <tr>\n",
       "      <th>LogisticRegression</th>\n",
       "      <td>0.768711</td>\n",
       "    </tr>\n",
       "    <tr>\n",
       "      <th>RandomForestClassifier</th>\n",
       "      <td>0.379209</td>\n",
       "    </tr>\n",
       "    <tr>\n",
       "      <th>DecisionTreeClassifier</th>\n",
       "      <td>0.603352</td>\n",
       "    </tr>\n",
       "  </tbody>\n",
       "</table>\n",
       "</div>"
      ],
      "text/plain": [
       "                              f1\n",
       "LogisticRegression      0.768711\n",
       "RandomForestClassifier  0.379209\n",
       "DecisionTreeClassifier  0.603352"
      ]
     },
     "execution_count": 28,
     "metadata": {},
     "output_type": "execute_result"
    }
   ],
   "source": [
    "df_score = pd.DataFrame.from_dict(data=test_score, columns=['f1'], orient='index')\n",
    "df_score"
   ]
  },
  {
   "cell_type": "markdown",
   "metadata": {},
   "source": [
    "Проверим LogisticRegression на тестовой выборке, у нее лучше значение метрики:"
   ]
  },
  {
   "cell_type": "code",
   "execution_count": 29,
   "metadata": {},
   "outputs": [
    {
     "data": {
      "text/plain": [
       "0.7823632208630192"
      ]
     },
     "execution_count": 29,
     "metadata": {},
     "output_type": "execute_result"
    }
   ],
   "source": [
    "pred1 = lr_gs.best_estimator_.predict(tf_test)      \n",
    "f1_lr = f1_score(y_test, pred1)     \n",
    "f1_lr"
   ]
  },
  {
   "cell_type": "markdown",
   "metadata": {},
   "source": [
    "## Выводы"
   ]
  },
  {
   "cell_type": "markdown",
   "metadata": {},
   "source": [
    "На первом этапе произведена загрузка данных и их подготовка для обучения моделей. Для анализа данных и построения модели предоставлен датасет с размеченными данными, содержащий комментарии пользователей к товарам, доступным для приобретения в интернет-магазине «Викишоп». Датасет состоит из 2 столбцов с данными и 159292 строк.\n",
    "\n",
    "Затем тексты комментариев были очищены и лемматизированы. \n",
    "\n",
    "В качестве моделей использованы LogisticRegression, RandomForestClassifier, DecisionTreeClassifier. \n",
    "\n",
    "По результатам подбора гиперпараметров и обучения моделей наилучший результат показал LogisticRegression, наихудший - RandomForestClassifier. \n",
    "\n",
    "Пороговое значение метрики 0.75 преодолено, получено 0.77. \n",
    "\n",
    "Лучшая модель - логистическая регрессия с подробранными гиперпараметрами C = 4, penalty = 'l1'.\n",
    "\n",
    "Модель LogisticRegression подходит для решения поставленной задачи.   "
   ]
  }
 ],
 "metadata": {
  "ExecuteTimeLog": [
   {
    "duration": 1350,
    "start_time": "2023-04-18T01:46:55.713Z"
   },
   {
    "duration": 3435,
    "start_time": "2023-04-18T01:47:46.485Z"
   },
   {
    "duration": 2477,
    "start_time": "2023-04-18T01:50:22.385Z"
   },
   {
    "duration": 32,
    "start_time": "2023-04-18T01:51:35.480Z"
   },
   {
    "duration": 30,
    "start_time": "2023-04-18T01:51:46.812Z"
   },
   {
    "duration": 10,
    "start_time": "2023-04-18T01:58:06.966Z"
   },
   {
    "duration": 31,
    "start_time": "2023-04-18T01:58:22.072Z"
   },
   {
    "duration": 9,
    "start_time": "2023-04-18T01:58:49.702Z"
   },
   {
    "duration": 1361,
    "start_time": "2023-04-18T02:00:16.922Z"
   },
   {
    "duration": 915,
    "start_time": "2023-04-18T02:00:18.285Z"
   },
   {
    "duration": 34,
    "start_time": "2023-04-18T02:00:19.202Z"
   },
   {
    "duration": 11,
    "start_time": "2023-04-18T02:00:21.264Z"
   },
   {
    "duration": 2568,
    "start_time": "2023-04-18T02:00:23.343Z"
   },
   {
    "duration": 33,
    "start_time": "2023-04-18T02:00:25.913Z"
   },
   {
    "duration": 39,
    "start_time": "2023-04-18T02:01:52.503Z"
   },
   {
    "duration": 54,
    "start_time": "2023-04-18T02:03:28.435Z"
   },
   {
    "duration": 57,
    "start_time": "2023-04-18T02:03:45.872Z"
   },
   {
    "duration": 1560,
    "start_time": "2023-04-18T02:05:46.838Z"
   },
   {
    "duration": 1326,
    "start_time": "2023-04-18T02:07:57.087Z"
   },
   {
    "duration": 3495,
    "start_time": "2023-04-18T02:07:58.415Z"
   },
   {
    "duration": 34,
    "start_time": "2023-04-18T02:08:01.912Z"
   },
   {
    "duration": 37,
    "start_time": "2023-04-18T02:08:01.949Z"
   },
   {
    "duration": 2481,
    "start_time": "2023-04-18T02:08:01.988Z"
   },
   {
    "duration": 30,
    "start_time": "2023-04-18T02:08:04.471Z"
   },
   {
    "duration": 65,
    "start_time": "2023-04-18T02:08:04.503Z"
   },
   {
    "duration": 1559,
    "start_time": "2023-04-18T02:08:08.364Z"
   },
   {
    "duration": 1346,
    "start_time": "2023-04-18T02:08:55.910Z"
   },
   {
    "duration": 3491,
    "start_time": "2023-04-18T02:08:57.258Z"
   },
   {
    "duration": 34,
    "start_time": "2023-04-18T02:09:00.751Z"
   },
   {
    "duration": 34,
    "start_time": "2023-04-18T02:09:00.787Z"
   },
   {
    "duration": 2529,
    "start_time": "2023-04-18T02:09:00.823Z"
   },
   {
    "duration": 35,
    "start_time": "2023-04-18T02:09:03.358Z"
   },
   {
    "duration": 50,
    "start_time": "2023-04-18T02:09:03.395Z"
   },
   {
    "duration": 2216,
    "start_time": "2023-04-18T02:09:09.725Z"
   },
   {
    "duration": 123,
    "start_time": "2023-04-18T02:18:10.803Z"
   },
   {
    "duration": 6379,
    "start_time": "2023-04-18T02:18:26.916Z"
   },
   {
    "duration": 512,
    "start_time": "2023-04-18T02:19:30.634Z"
   },
   {
    "duration": 1936,
    "start_time": "2023-04-18T02:20:10.881Z"
   },
   {
    "duration": 201,
    "start_time": "2023-04-18T02:20:37.836Z"
   },
   {
    "duration": 927,
    "start_time": "2023-04-18T02:21:20.171Z"
   },
   {
    "duration": 3,
    "start_time": "2023-04-18T02:36:36.502Z"
   },
   {
    "duration": 10,
    "start_time": "2023-04-18T02:36:38.913Z"
   },
   {
    "duration": 4,
    "start_time": "2023-04-18T02:37:31.924Z"
   },
   {
    "duration": 10,
    "start_time": "2023-04-18T02:37:37.512Z"
   },
   {
    "duration": 4,
    "start_time": "2023-04-18T02:38:19.270Z"
   },
   {
    "duration": 275994,
    "start_time": "2023-04-18T02:38:24.079Z"
   },
   {
    "duration": 35774,
    "start_time": "2023-04-18T02:43:09.582Z"
   },
   {
    "duration": 8876,
    "start_time": "2023-04-18T02:44:40.792Z"
   },
   {
    "duration": 7023,
    "start_time": "2023-04-18T02:47:39.529Z"
   },
   {
    "duration": 7226,
    "start_time": "2023-04-18T02:48:40.961Z"
   },
   {
    "duration": 42025,
    "start_time": "2023-04-18T02:50:18.946Z"
   },
   {
    "duration": 186475,
    "start_time": "2023-04-18T02:57:06.693Z"
   },
   {
    "duration": 3,
    "start_time": "2023-04-18T03:01:34.654Z"
   },
   {
    "duration": 3649,
    "start_time": "2023-04-18T03:06:31.465Z"
   },
   {
    "duration": 4,
    "start_time": "2023-04-18T03:06:50.429Z"
   },
   {
    "duration": 3793,
    "start_time": "2023-04-18T03:07:12.454Z"
   },
   {
    "duration": 7,
    "start_time": "2023-04-18T03:08:01.534Z"
   },
   {
    "duration": 11,
    "start_time": "2023-04-18T03:13:52.793Z"
   },
   {
    "duration": 21,
    "start_time": "2023-04-18T03:14:29.559Z"
   },
   {
    "duration": 576003,
    "start_time": "2023-04-18T03:14:35.416Z"
   },
   {
    "duration": 835,
    "start_time": "2023-04-18T03:26:36.726Z"
   },
   {
    "duration": 223269,
    "start_time": "2023-04-18T03:27:06.669Z"
   },
   {
    "duration": 12,
    "start_time": "2023-04-18T04:01:48.919Z"
   },
   {
    "duration": 12,
    "start_time": "2023-04-18T04:02:46.846Z"
   },
   {
    "duration": 1137,
    "start_time": "2023-04-18T04:03:11.562Z"
   },
   {
    "duration": 3,
    "start_time": "2023-04-18T04:03:20.846Z"
   },
   {
    "duration": 1102,
    "start_time": "2023-04-18T04:03:44.945Z"
   },
   {
    "duration": 176483,
    "start_time": "2023-04-18T04:06:31.157Z"
   },
   {
    "duration": 6129,
    "start_time": "2023-04-18T04:12:32.428Z"
   },
   {
    "duration": 3,
    "start_time": "2023-04-18T04:12:45.129Z"
   },
   {
    "duration": 12,
    "start_time": "2023-04-18T04:13:49.636Z"
   },
   {
    "duration": 7,
    "start_time": "2023-04-18T04:14:10.316Z"
   },
   {
    "duration": 1618,
    "start_time": "2023-04-18T04:17:21.745Z"
   },
   {
    "duration": 1146,
    "start_time": "2023-04-18T04:17:23.365Z"
   },
   {
    "duration": 44,
    "start_time": "2023-04-18T04:17:24.513Z"
   },
   {
    "duration": 18,
    "start_time": "2023-04-18T04:17:24.707Z"
   },
   {
    "duration": 2681,
    "start_time": "2023-04-18T04:17:26.196Z"
   },
   {
    "duration": 33,
    "start_time": "2023-04-18T04:17:28.878Z"
   },
   {
    "duration": 70,
    "start_time": "2023-04-18T04:17:28.913Z"
   },
   {
    "duration": 3,
    "start_time": "2023-04-18T04:17:33.254Z"
   },
   {
    "duration": 2492,
    "start_time": "2023-04-18T04:17:35.077Z"
   },
   {
    "duration": 7305,
    "start_time": "2023-04-18T04:17:39.822Z"
   },
   {
    "duration": 511,
    "start_time": "2023-04-18T04:17:47.130Z"
   },
   {
    "duration": 2373,
    "start_time": "2023-04-18T04:17:49.314Z"
   },
   {
    "duration": 304,
    "start_time": "2023-04-18T04:17:52.031Z"
   },
   {
    "duration": 1107,
    "start_time": "2023-04-18T04:17:53.899Z"
   },
   {
    "duration": 3,
    "start_time": "2023-04-18T04:17:57.475Z"
   },
   {
    "duration": 211907,
    "start_time": "2023-04-18T04:18:00.924Z"
   },
   {
    "duration": 3435,
    "start_time": "2023-04-18T04:23:15.000Z"
   },
   {
    "duration": 2,
    "start_time": "2023-04-18T04:23:18.438Z"
   },
   {
    "duration": 237913,
    "start_time": "2023-04-18T04:23:26.300Z"
   },
   {
    "duration": 1053,
    "start_time": "2023-04-18T04:30:32.919Z"
   },
   {
    "duration": 2,
    "start_time": "2023-04-18T04:30:35.245Z"
   },
   {
    "duration": 173553,
    "start_time": "2023-04-18T04:30:50.633Z"
   },
   {
    "duration": 6333,
    "start_time": "2023-04-18T04:34:04.828Z"
   },
   {
    "duration": 3,
    "start_time": "2023-04-18T04:34:11.163Z"
   },
   {
    "duration": 12,
    "start_time": "2023-04-18T04:34:17.923Z"
   },
   {
    "duration": 12,
    "start_time": "2023-04-18T04:34:32.762Z"
   },
   {
    "duration": 1429,
    "start_time": "2023-04-19T02:40:47.428Z"
   },
   {
    "duration": 3278,
    "start_time": "2023-04-19T02:40:48.859Z"
   },
   {
    "duration": 31,
    "start_time": "2023-04-19T02:40:55.778Z"
   },
   {
    "duration": 1763,
    "start_time": "2023-04-19T02:41:01.873Z"
   },
   {
    "duration": 31,
    "start_time": "2023-04-19T02:41:16.247Z"
   },
   {
    "duration": 122,
    "start_time": "2023-04-19T02:53:42.773Z"
   },
   {
    "duration": 15,
    "start_time": "2023-04-19T02:53:58.540Z"
   },
   {
    "duration": 203,
    "start_time": "2023-04-19T02:55:57.733Z"
   },
   {
    "duration": 196,
    "start_time": "2023-04-19T02:56:23.364Z"
   },
   {
    "duration": 12,
    "start_time": "2023-04-19T02:56:57.965Z"
   },
   {
    "duration": 1410,
    "start_time": "2023-04-19T03:08:08.856Z"
   },
   {
    "duration": 916,
    "start_time": "2023-04-19T03:08:10.284Z"
   },
   {
    "duration": 32,
    "start_time": "2023-04-19T03:08:12.626Z"
   },
   {
    "duration": 1804,
    "start_time": "2023-04-19T03:08:15.094Z"
   },
   {
    "duration": 31,
    "start_time": "2023-04-19T03:08:18.200Z"
   },
   {
    "duration": 548,
    "start_time": "2023-04-19T03:08:21.512Z"
   },
   {
    "duration": 1416,
    "start_time": "2023-04-19T03:10:43.301Z"
   },
   {
    "duration": 862,
    "start_time": "2023-04-19T03:11:39.190Z"
   },
   {
    "duration": 1641,
    "start_time": "2023-04-19T03:30:55.353Z"
   },
   {
    "duration": 890,
    "start_time": "2023-04-19T03:30:56.996Z"
   },
   {
    "duration": 33,
    "start_time": "2023-04-19T03:30:57.889Z"
   },
   {
    "duration": 2091,
    "start_time": "2023-04-19T03:30:58.395Z"
   },
   {
    "duration": 0,
    "start_time": "2023-04-19T03:31:00.488Z"
   },
   {
    "duration": 42,
    "start_time": "2023-04-19T03:31:02.366Z"
   },
   {
    "duration": 13,
    "start_time": "2023-04-19T03:31:04.404Z"
   },
   {
    "duration": 100,
    "start_time": "2023-04-19T03:32:48.185Z"
   },
   {
    "duration": 1636,
    "start_time": "2023-04-19T03:33:21.326Z"
   },
   {
    "duration": 965,
    "start_time": "2023-04-19T03:33:22.965Z"
   },
   {
    "duration": 40,
    "start_time": "2023-04-19T03:33:23.932Z"
   },
   {
    "duration": 2151,
    "start_time": "2023-04-19T03:33:23.990Z"
   },
   {
    "duration": 33,
    "start_time": "2023-04-19T03:33:26.143Z"
   },
   {
    "duration": 48,
    "start_time": "2023-04-19T03:33:26.177Z"
   },
   {
    "duration": 203,
    "start_time": "2023-04-19T03:33:33.433Z"
   },
   {
    "duration": 14,
    "start_time": "2023-04-19T03:33:36.908Z"
   },
   {
    "duration": 3,
    "start_time": "2023-04-19T03:33:42.336Z"
   },
   {
    "duration": 4,
    "start_time": "2023-04-19T03:33:44.126Z"
   },
   {
    "duration": 5,
    "start_time": "2023-04-19T03:33:45.963Z"
   },
   {
    "duration": 1668271,
    "start_time": "2023-04-19T03:33:48.590Z"
   },
   {
    "duration": 9,
    "start_time": "2023-04-19T04:01:57.027Z"
   },
   {
    "duration": 16,
    "start_time": "2023-04-19T04:02:00.085Z"
   },
   {
    "duration": 227,
    "start_time": "2023-04-19T04:04:19.016Z"
   },
   {
    "duration": 683,
    "start_time": "2023-04-19T04:04:53.136Z"
   },
   {
    "duration": 278,
    "start_time": "2023-04-19T04:05:01.890Z"
   },
   {
    "duration": 13,
    "start_time": "2023-04-19T04:05:31.709Z"
   },
   {
    "duration": 165,
    "start_time": "2023-04-19T04:05:44.867Z"
   },
   {
    "duration": 185,
    "start_time": "2023-04-19T04:07:15.544Z"
   },
   {
    "duration": 126,
    "start_time": "2023-04-19T04:15:08.215Z"
   },
   {
    "duration": 8,
    "start_time": "2023-04-19T04:15:18.915Z"
   },
   {
    "duration": 3245,
    "start_time": "2023-04-19T04:18:16.941Z"
   },
   {
    "duration": 1177,
    "start_time": "2023-04-19T04:18:20.189Z"
   },
   {
    "duration": 49,
    "start_time": "2023-04-19T04:18:21.368Z"
   },
   {
    "duration": 33,
    "start_time": "2023-04-19T04:18:28.739Z"
   },
   {
    "duration": 37,
    "start_time": "2023-04-19T04:18:31.523Z"
   },
   {
    "duration": 370,
    "start_time": "2023-04-19T04:18:32.580Z"
   },
   {
    "duration": 19,
    "start_time": "2023-04-19T04:18:33.916Z"
   },
   {
    "duration": 2,
    "start_time": "2023-04-19T04:18:34.747Z"
   },
   {
    "duration": 3,
    "start_time": "2023-04-19T04:18:35.826Z"
   },
   {
    "duration": 5,
    "start_time": "2023-04-19T04:18:36.911Z"
   },
   {
    "duration": 1588364,
    "start_time": "2023-04-19T04:18:37.835Z"
   },
   {
    "duration": 13,
    "start_time": "2023-04-19T04:46:08.651Z"
   },
   {
    "duration": 7,
    "start_time": "2023-04-19T04:46:14.712Z"
   },
   {
    "duration": 144,
    "start_time": "2023-04-19T04:46:33.301Z"
   },
   {
    "duration": 94,
    "start_time": "2023-04-19T04:46:39.344Z"
   },
   {
    "duration": 6,
    "start_time": "2023-04-19T04:46:48.710Z"
   },
   {
    "duration": 4,
    "start_time": "2023-04-19T04:47:09.115Z"
   },
   {
    "duration": 1217,
    "start_time": "2023-04-19T04:47:11.963Z"
   },
   {
    "duration": 14,
    "start_time": "2023-04-19T04:50:45.268Z"
   },
   {
    "duration": 18,
    "start_time": "2023-04-19T04:51:02.222Z"
   },
   {
    "duration": 1545,
    "start_time": "2023-04-19T04:52:31.762Z"
   },
   {
    "duration": 7868,
    "start_time": "2023-04-19T04:53:24.275Z"
   },
   {
    "duration": 1072,
    "start_time": "2023-04-19T04:54:07.320Z"
   },
   {
    "duration": 2648,
    "start_time": "2023-04-19T04:54:28.640Z"
   },
   {
    "duration": 191844,
    "start_time": "2023-04-19T04:56:12.287Z"
   },
   {
    "duration": 3100,
    "start_time": "2023-04-19T05:03:30.871Z"
   },
   {
    "duration": 4,
    "start_time": "2023-04-19T05:03:54.793Z"
   },
   {
    "duration": 12,
    "start_time": "2023-04-19T05:11:21.331Z"
   },
   {
    "duration": 24,
    "start_time": "2023-04-19T05:12:56.639Z"
   },
   {
    "duration": 14,
    "start_time": "2023-04-19T05:14:43.761Z"
   },
   {
    "duration": 109,
    "start_time": "2023-04-19T05:14:53.443Z"
   },
   {
    "duration": 21,
    "start_time": "2023-04-19T05:19:21.792Z"
   },
   {
    "duration": 15,
    "start_time": "2023-04-19T05:25:36.643Z"
   },
   {
    "duration": 29,
    "start_time": "2023-04-19T05:27:21.360Z"
   },
   {
    "duration": 22,
    "start_time": "2023-04-19T05:30:58.495Z"
   },
   {
    "duration": 45,
    "start_time": "2023-04-19T05:36:09.039Z"
   },
   {
    "duration": 2563,
    "start_time": "2023-04-19T05:37:33.107Z"
   },
   {
    "duration": 3683,
    "start_time": "2023-04-19T05:37:35.673Z"
   },
   {
    "duration": 47,
    "start_time": "2023-04-19T05:37:39.359Z"
   },
   {
    "duration": 2462,
    "start_time": "2023-04-19T05:37:39.410Z"
   },
   {
    "duration": 55,
    "start_time": "2023-04-19T05:37:41.874Z"
   },
   {
    "duration": 34,
    "start_time": "2023-04-19T05:37:41.932Z"
   },
   {
    "duration": 317,
    "start_time": "2023-04-19T05:37:41.968Z"
   },
   {
    "duration": 29,
    "start_time": "2023-04-19T05:37:42.288Z"
   },
   {
    "duration": 3,
    "start_time": "2023-04-19T05:37:42.319Z"
   },
   {
    "duration": 5,
    "start_time": "2023-04-19T05:37:42.324Z"
   },
   {
    "duration": 6,
    "start_time": "2023-04-19T05:37:42.331Z"
   },
   {
    "duration": 1403781,
    "start_time": "2023-04-19T05:37:52.473Z"
   },
   {
    "duration": 54,
    "start_time": "2023-04-19T06:01:16.257Z"
   },
   {
    "duration": 11,
    "start_time": "2023-04-19T06:03:39.059Z"
   },
   {
    "duration": 6,
    "start_time": "2023-04-19T06:03:43.255Z"
   },
   {
    "duration": 1886,
    "start_time": "2023-04-19T06:04:37.987Z"
   },
   {
    "duration": 1024,
    "start_time": "2023-04-19T06:04:39.875Z"
   },
   {
    "duration": 35,
    "start_time": "2023-04-19T06:04:40.901Z"
   },
   {
    "duration": 33,
    "start_time": "2023-04-19T06:04:42.577Z"
   },
   {
    "duration": 35,
    "start_time": "2023-04-19T06:04:45.787Z"
   },
   {
    "duration": 181,
    "start_time": "2023-04-19T06:04:47.009Z"
   },
   {
    "duration": 13,
    "start_time": "2023-04-19T06:04:47.971Z"
   },
   {
    "duration": 3,
    "start_time": "2023-04-19T06:04:48.779Z"
   },
   {
    "duration": 9,
    "start_time": "2023-04-19T06:04:49.928Z"
   },
   {
    "duration": 5,
    "start_time": "2023-04-19T06:04:50.708Z"
   },
   {
    "duration": 1532413,
    "start_time": "2023-04-19T06:04:52.619Z"
   },
   {
    "duration": 45,
    "start_time": "2023-04-19T06:30:25.035Z"
   },
   {
    "duration": 11,
    "start_time": "2023-04-19T06:30:34.810Z"
   },
   {
    "duration": 5,
    "start_time": "2023-04-19T06:30:38.462Z"
   },
   {
    "duration": 148,
    "start_time": "2023-04-19T06:30:44.271Z"
   },
   {
    "duration": 136,
    "start_time": "2023-04-19T06:30:51.842Z"
   },
   {
    "duration": 232,
    "start_time": "2023-04-19T06:31:06.750Z"
   },
   {
    "duration": 6,
    "start_time": "2023-04-19T06:31:46.944Z"
   },
   {
    "duration": 100,
    "start_time": "2023-04-19T06:31:55.245Z"
   },
   {
    "duration": 113,
    "start_time": "2023-04-19T06:32:02.428Z"
   },
   {
    "duration": 137,
    "start_time": "2023-04-19T06:32:20.466Z"
   },
   {
    "duration": 7,
    "start_time": "2023-04-19T06:32:33.075Z"
   },
   {
    "duration": 12,
    "start_time": "2023-04-19T06:32:34.445Z"
   },
   {
    "duration": 1586,
    "start_time": "2023-04-19T06:32:56.088Z"
   },
   {
    "duration": 7542,
    "start_time": "2023-04-19T06:34:01.970Z"
   },
   {
    "duration": 12,
    "start_time": "2023-04-19T06:34:13.635Z"
   },
   {
    "duration": 547,
    "start_time": "2023-04-19T06:34:37.850Z"
   },
   {
    "duration": 2764,
    "start_time": "2023-04-19T06:34:50.043Z"
   },
   {
    "duration": 3,
    "start_time": "2023-04-19T06:35:05.863Z"
   },
   {
    "duration": 2612,
    "start_time": "2023-04-19T06:48:25.458Z"
   },
   {
    "duration": 2446,
    "start_time": "2023-04-19T06:48:31.405Z"
   },
   {
    "duration": 36,
    "start_time": "2023-04-19T06:48:33.853Z"
   },
   {
    "duration": 37,
    "start_time": "2023-04-19T06:48:33.903Z"
   },
   {
    "duration": 36,
    "start_time": "2023-04-19T06:48:36.059Z"
   },
   {
    "duration": 244,
    "start_time": "2023-04-19T06:48:37.305Z"
   },
   {
    "duration": 597,
    "start_time": "2023-04-19T06:48:37.861Z"
   },
   {
    "duration": 3,
    "start_time": "2023-04-19T06:48:38.626Z"
   },
   {
    "duration": 3,
    "start_time": "2023-04-19T06:48:39.418Z"
   },
   {
    "duration": 5,
    "start_time": "2023-04-19T06:48:40.098Z"
   },
   {
    "duration": 1310442,
    "start_time": "2023-04-19T06:48:42.608Z"
   },
   {
    "duration": 11,
    "start_time": "2023-04-19T07:13:08.452Z"
   },
   {
    "duration": 6,
    "start_time": "2023-04-19T07:13:10.314Z"
   },
   {
    "duration": 137,
    "start_time": "2023-04-19T07:13:16.654Z"
   },
   {
    "duration": 125,
    "start_time": "2023-04-19T07:13:21.689Z"
   },
   {
    "duration": 6,
    "start_time": "2023-04-19T07:13:26.720Z"
   },
   {
    "duration": 2337,
    "start_time": "2023-04-19T07:13:27.928Z"
   },
   {
    "duration": 8968,
    "start_time": "2023-04-19T07:13:30.268Z"
   },
   {
    "duration": 866,
    "start_time": "2023-04-19T07:13:39.242Z"
   },
   {
    "duration": 2816,
    "start_time": "2023-04-19T07:13:40.110Z"
   },
   {
    "duration": 2,
    "start_time": "2023-04-19T07:15:22.481Z"
   },
   {
    "duration": 196130,
    "start_time": "2023-04-19T07:15:25.476Z"
   },
   {
    "duration": 3,
    "start_time": "2023-04-19T07:20:56.822Z"
   },
   {
    "duration": 289853,
    "start_time": "2023-04-19T07:21:02.730Z"
   },
   {
    "duration": 3,
    "start_time": "2023-04-19T07:26:44.226Z"
   },
   {
    "duration": 194303,
    "start_time": "2023-04-19T07:26:45.809Z"
   },
   {
    "duration": 3,
    "start_time": "2023-04-19T07:30:00.114Z"
   },
   {
    "duration": 24,
    "start_time": "2023-04-19T07:30:00.119Z"
   },
   {
    "duration": 18,
    "start_time": "2023-04-19T07:36:09.290Z"
   },
   {
    "duration": 2728,
    "start_time": "2023-04-19T07:38:41.267Z"
   },
   {
    "duration": 3023,
    "start_time": "2023-04-19T07:38:44.001Z"
   },
   {
    "duration": 42,
    "start_time": "2023-04-19T07:38:48.502Z"
   },
   {
    "duration": 37,
    "start_time": "2023-04-19T07:38:49.477Z"
   },
   {
    "duration": 32,
    "start_time": "2023-04-19T07:38:53.499Z"
   },
   {
    "duration": 320,
    "start_time": "2023-04-19T07:38:53.534Z"
   },
   {
    "duration": 32,
    "start_time": "2023-04-19T07:38:53.856Z"
   },
   {
    "duration": 4,
    "start_time": "2023-04-19T07:38:53.890Z"
   },
   {
    "duration": 4,
    "start_time": "2023-04-19T07:38:53.896Z"
   },
   {
    "duration": 12,
    "start_time": "2023-04-19T07:38:53.902Z"
   },
   {
    "duration": 1527571,
    "start_time": "2023-04-19T07:38:53.916Z"
   },
   {
    "duration": 10,
    "start_time": "2023-04-19T08:04:21.489Z"
   },
   {
    "duration": 5,
    "start_time": "2023-04-19T08:04:21.501Z"
   },
   {
    "duration": 161,
    "start_time": "2023-04-19T08:04:21.508Z"
   },
   {
    "duration": 132,
    "start_time": "2023-04-19T08:04:21.672Z"
   }
  ],
  "kernelspec": {
   "display_name": "Python 3 (ipykernel)",
   "language": "python",
   "name": "python3"
  },
  "language_info": {
   "codemirror_mode": {
    "name": "ipython",
    "version": 3
   },
   "file_extension": ".py",
   "mimetype": "text/x-python",
   "name": "python",
   "nbconvert_exporter": "python",
   "pygments_lexer": "ipython3",
   "version": "3.9.13"
  },
  "toc": {
   "base_numbering": 1,
   "nav_menu": {},
   "number_sections": true,
   "sideBar": true,
   "skip_h1_title": true,
   "title_cell": "Содержание",
   "title_sidebar": "Contents",
   "toc_cell": true,
   "toc_position": {
    "height": "calc(100% - 180px)",
    "left": "10px",
    "top": "150px",
    "width": "302.391px"
   },
   "toc_section_display": true,
   "toc_window_display": false
  }
 },
 "nbformat": 4,
 "nbformat_minor": 2
}

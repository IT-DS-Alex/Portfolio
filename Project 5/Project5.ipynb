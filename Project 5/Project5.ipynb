{
 "cells": [
  {
   "cell_type": "markdown",
   "metadata": {},
   "source": [
    "# Анализ исторических данных по продажам игр на различных платформах."
   ]
  },
  {
   "cell_type": "markdown",
   "metadata": {},
   "source": [
    "Анализ исторических данных по продажам игр на различных платформах.\n",
    "Необходимо выявить определяющие успешность игры закономерности.\n",
    "Это позволит сделать ставку на потенциально популярный продукт и спланировать рекламные кампании на 2017 год.\n",
    "\n",
    "Описание данных\n",
    "\n",
    "• Name — название игры\n",
    "\n",
    "• Platform — платформа\n",
    "\n",
    "• Year_of_Release — год выпуска\n",
    "\n",
    "• Genre — жанр игры\n",
    "\n",
    "• NA_sales — продажи в Северной Америке\n",
    "\n",
    "• EU_sales — продажи в Европе \n",
    "\n",
    "• JP_sales — продажи в Японии \n",
    "\n",
    "• Other_sales — продажи в других странах \n",
    "\n",
    "• Critic_Score — оценка критиков \n",
    "\n",
    "• User_Score — оценка пользователей\n",
    "\n",
    "• Rating — рейтинг от организации ESRB."
   ]
  },
  {
   "cell_type": "markdown",
   "metadata": {},
   "source": [
    "### Откроем файл с данными и изучим общую информацию"
   ]
  },
  {
   "cell_type": "code",
   "execution_count": 1,
   "metadata": {},
   "outputs": [],
   "source": [
    "import pandas as pd\n",
    "import numpy as np"
   ]
  },
  {
   "cell_type": "code",
   "execution_count": 2,
   "metadata": {},
   "outputs": [],
   "source": [
    "games = pd.read_csv('/datasets/games.csv')"
   ]
  },
  {
   "cell_type": "code",
   "execution_count": 3,
   "metadata": {
    "scrolled": true
   },
   "outputs": [
    {
     "data": {
      "text/html": [
       "<div>\n",
       "<style scoped>\n",
       "    .dataframe tbody tr th:only-of-type {\n",
       "        vertical-align: middle;\n",
       "    }\n",
       "\n",
       "    .dataframe tbody tr th {\n",
       "        vertical-align: top;\n",
       "    }\n",
       "\n",
       "    .dataframe thead th {\n",
       "        text-align: right;\n",
       "    }\n",
       "</style>\n",
       "<table border=\"1\" class=\"dataframe\">\n",
       "  <thead>\n",
       "    <tr style=\"text-align: right;\">\n",
       "      <th></th>\n",
       "      <th>Name</th>\n",
       "      <th>Platform</th>\n",
       "      <th>Year_of_Release</th>\n",
       "      <th>Genre</th>\n",
       "      <th>NA_sales</th>\n",
       "      <th>EU_sales</th>\n",
       "      <th>JP_sales</th>\n",
       "      <th>Other_sales</th>\n",
       "      <th>Critic_Score</th>\n",
       "      <th>User_Score</th>\n",
       "      <th>Rating</th>\n",
       "    </tr>\n",
       "  </thead>\n",
       "  <tbody>\n",
       "    <tr>\n",
       "      <th>0</th>\n",
       "      <td>Wii Sports</td>\n",
       "      <td>Wii</td>\n",
       "      <td>2006.0</td>\n",
       "      <td>Sports</td>\n",
       "      <td>41.36</td>\n",
       "      <td>28.96</td>\n",
       "      <td>3.77</td>\n",
       "      <td>8.45</td>\n",
       "      <td>76.0</td>\n",
       "      <td>8</td>\n",
       "      <td>E</td>\n",
       "    </tr>\n",
       "    <tr>\n",
       "      <th>1</th>\n",
       "      <td>Super Mario Bros.</td>\n",
       "      <td>NES</td>\n",
       "      <td>1985.0</td>\n",
       "      <td>Platform</td>\n",
       "      <td>29.08</td>\n",
       "      <td>3.58</td>\n",
       "      <td>6.81</td>\n",
       "      <td>0.77</td>\n",
       "      <td>NaN</td>\n",
       "      <td>NaN</td>\n",
       "      <td>NaN</td>\n",
       "    </tr>\n",
       "    <tr>\n",
       "      <th>2</th>\n",
       "      <td>Mario Kart Wii</td>\n",
       "      <td>Wii</td>\n",
       "      <td>2008.0</td>\n",
       "      <td>Racing</td>\n",
       "      <td>15.68</td>\n",
       "      <td>12.76</td>\n",
       "      <td>3.79</td>\n",
       "      <td>3.29</td>\n",
       "      <td>82.0</td>\n",
       "      <td>8.3</td>\n",
       "      <td>E</td>\n",
       "    </tr>\n",
       "    <tr>\n",
       "      <th>3</th>\n",
       "      <td>Wii Sports Resort</td>\n",
       "      <td>Wii</td>\n",
       "      <td>2009.0</td>\n",
       "      <td>Sports</td>\n",
       "      <td>15.61</td>\n",
       "      <td>10.93</td>\n",
       "      <td>3.28</td>\n",
       "      <td>2.95</td>\n",
       "      <td>80.0</td>\n",
       "      <td>8</td>\n",
       "      <td>E</td>\n",
       "    </tr>\n",
       "    <tr>\n",
       "      <th>4</th>\n",
       "      <td>Pokemon Red/Pokemon Blue</td>\n",
       "      <td>GB</td>\n",
       "      <td>1996.0</td>\n",
       "      <td>Role-Playing</td>\n",
       "      <td>11.27</td>\n",
       "      <td>8.89</td>\n",
       "      <td>10.22</td>\n",
       "      <td>1.00</td>\n",
       "      <td>NaN</td>\n",
       "      <td>NaN</td>\n",
       "      <td>NaN</td>\n",
       "    </tr>\n",
       "  </tbody>\n",
       "</table>\n",
       "</div>"
      ],
      "text/plain": [
       "                       Name Platform  Year_of_Release         Genre  NA_sales  \\\n",
       "0                Wii Sports      Wii           2006.0        Sports     41.36   \n",
       "1         Super Mario Bros.      NES           1985.0      Platform     29.08   \n",
       "2            Mario Kart Wii      Wii           2008.0        Racing     15.68   \n",
       "3         Wii Sports Resort      Wii           2009.0        Sports     15.61   \n",
       "4  Pokemon Red/Pokemon Blue       GB           1996.0  Role-Playing     11.27   \n",
       "\n",
       "   EU_sales  JP_sales  Other_sales  Critic_Score User_Score Rating  \n",
       "0     28.96      3.77         8.45          76.0          8      E  \n",
       "1      3.58      6.81         0.77           NaN        NaN    NaN  \n",
       "2     12.76      3.79         3.29          82.0        8.3      E  \n",
       "3     10.93      3.28         2.95          80.0          8      E  \n",
       "4      8.89     10.22         1.00           NaN        NaN    NaN  "
      ]
     },
     "execution_count": 3,
     "metadata": {},
     "output_type": "execute_result"
    }
   ],
   "source": [
    "games.head()"
   ]
  },
  {
   "cell_type": "markdown",
   "metadata": {},
   "source": [
    "### Подготовка данных"
   ]
  },
  {
   "cell_type": "markdown",
   "metadata": {},
   "source": [
    "Заменим названия столбцов (приведем к нижнему регистру):"
   ]
  },
  {
   "cell_type": "code",
   "execution_count": 4,
   "metadata": {},
   "outputs": [],
   "source": [
    "games.columns = games.columns.str.lower()"
   ]
  },
  {
   "cell_type": "code",
   "execution_count": 5,
   "metadata": {},
   "outputs": [
    {
     "data": {
      "text/html": [
       "<div>\n",
       "<style scoped>\n",
       "    .dataframe tbody tr th:only-of-type {\n",
       "        vertical-align: middle;\n",
       "    }\n",
       "\n",
       "    .dataframe tbody tr th {\n",
       "        vertical-align: top;\n",
       "    }\n",
       "\n",
       "    .dataframe thead th {\n",
       "        text-align: right;\n",
       "    }\n",
       "</style>\n",
       "<table border=\"1\" class=\"dataframe\">\n",
       "  <thead>\n",
       "    <tr style=\"text-align: right;\">\n",
       "      <th></th>\n",
       "      <th>name</th>\n",
       "      <th>platform</th>\n",
       "      <th>year_of_release</th>\n",
       "      <th>genre</th>\n",
       "      <th>na_sales</th>\n",
       "      <th>eu_sales</th>\n",
       "      <th>jp_sales</th>\n",
       "      <th>other_sales</th>\n",
       "      <th>critic_score</th>\n",
       "      <th>user_score</th>\n",
       "      <th>rating</th>\n",
       "    </tr>\n",
       "  </thead>\n",
       "  <tbody>\n",
       "    <tr>\n",
       "      <th>0</th>\n",
       "      <td>Wii Sports</td>\n",
       "      <td>Wii</td>\n",
       "      <td>2006.0</td>\n",
       "      <td>Sports</td>\n",
       "      <td>41.36</td>\n",
       "      <td>28.96</td>\n",
       "      <td>3.77</td>\n",
       "      <td>8.45</td>\n",
       "      <td>76.0</td>\n",
       "      <td>8</td>\n",
       "      <td>E</td>\n",
       "    </tr>\n",
       "    <tr>\n",
       "      <th>1</th>\n",
       "      <td>Super Mario Bros.</td>\n",
       "      <td>NES</td>\n",
       "      <td>1985.0</td>\n",
       "      <td>Platform</td>\n",
       "      <td>29.08</td>\n",
       "      <td>3.58</td>\n",
       "      <td>6.81</td>\n",
       "      <td>0.77</td>\n",
       "      <td>NaN</td>\n",
       "      <td>NaN</td>\n",
       "      <td>NaN</td>\n",
       "    </tr>\n",
       "    <tr>\n",
       "      <th>2</th>\n",
       "      <td>Mario Kart Wii</td>\n",
       "      <td>Wii</td>\n",
       "      <td>2008.0</td>\n",
       "      <td>Racing</td>\n",
       "      <td>15.68</td>\n",
       "      <td>12.76</td>\n",
       "      <td>3.79</td>\n",
       "      <td>3.29</td>\n",
       "      <td>82.0</td>\n",
       "      <td>8.3</td>\n",
       "      <td>E</td>\n",
       "    </tr>\n",
       "    <tr>\n",
       "      <th>3</th>\n",
       "      <td>Wii Sports Resort</td>\n",
       "      <td>Wii</td>\n",
       "      <td>2009.0</td>\n",
       "      <td>Sports</td>\n",
       "      <td>15.61</td>\n",
       "      <td>10.93</td>\n",
       "      <td>3.28</td>\n",
       "      <td>2.95</td>\n",
       "      <td>80.0</td>\n",
       "      <td>8</td>\n",
       "      <td>E</td>\n",
       "    </tr>\n",
       "    <tr>\n",
       "      <th>4</th>\n",
       "      <td>Pokemon Red/Pokemon Blue</td>\n",
       "      <td>GB</td>\n",
       "      <td>1996.0</td>\n",
       "      <td>Role-Playing</td>\n",
       "      <td>11.27</td>\n",
       "      <td>8.89</td>\n",
       "      <td>10.22</td>\n",
       "      <td>1.00</td>\n",
       "      <td>NaN</td>\n",
       "      <td>NaN</td>\n",
       "      <td>NaN</td>\n",
       "    </tr>\n",
       "  </tbody>\n",
       "</table>\n",
       "</div>"
      ],
      "text/plain": [
       "                       name platform  year_of_release         genre  na_sales  \\\n",
       "0                Wii Sports      Wii           2006.0        Sports     41.36   \n",
       "1         Super Mario Bros.      NES           1985.0      Platform     29.08   \n",
       "2            Mario Kart Wii      Wii           2008.0        Racing     15.68   \n",
       "3         Wii Sports Resort      Wii           2009.0        Sports     15.61   \n",
       "4  Pokemon Red/Pokemon Blue       GB           1996.0  Role-Playing     11.27   \n",
       "\n",
       "   eu_sales  jp_sales  other_sales  critic_score user_score rating  \n",
       "0     28.96      3.77         8.45          76.0          8      E  \n",
       "1      3.58      6.81         0.77           NaN        NaN    NaN  \n",
       "2     12.76      3.79         3.29          82.0        8.3      E  \n",
       "3     10.93      3.28         2.95          80.0          8      E  \n",
       "4      8.89     10.22         1.00           NaN        NaN    NaN  "
      ]
     },
     "execution_count": 5,
     "metadata": {},
     "output_type": "execute_result"
    }
   ],
   "source": [
    "games.head()"
   ]
  },
  {
   "cell_type": "code",
   "execution_count": 6,
   "metadata": {},
   "outputs": [
    {
     "name": "stdout",
     "output_type": "stream",
     "text": [
      "<class 'pandas.core.frame.DataFrame'>\n",
      "RangeIndex: 16715 entries, 0 to 16714\n",
      "Data columns (total 11 columns):\n",
      " #   Column           Non-Null Count  Dtype  \n",
      "---  ------           --------------  -----  \n",
      " 0   name             16713 non-null  object \n",
      " 1   platform         16715 non-null  object \n",
      " 2   year_of_release  16446 non-null  float64\n",
      " 3   genre            16713 non-null  object \n",
      " 4   na_sales         16715 non-null  float64\n",
      " 5   eu_sales         16715 non-null  float64\n",
      " 6   jp_sales         16715 non-null  float64\n",
      " 7   other_sales      16715 non-null  float64\n",
      " 8   critic_score     8137 non-null   float64\n",
      " 9   user_score       10014 non-null  object \n",
      " 10  rating           9949 non-null   object \n",
      "dtypes: float64(6), object(5)\n",
      "memory usage: 1.4+ MB\n"
     ]
    }
   ],
   "source": [
    "games.info()"
   ]
  },
  {
   "cell_type": "code",
   "execution_count": 7,
   "metadata": {},
   "outputs": [
    {
     "data": {
      "text/plain": [
       "0"
      ]
     },
     "execution_count": 7,
     "metadata": {},
     "output_type": "execute_result"
    }
   ],
   "source": [
    "games.duplicated().sum()"
   ]
  },
  {
   "cell_type": "markdown",
   "metadata": {},
   "source": [
    "Преобразуем данные в нужные типы:\n",
    "Year_of_Release — год выпуска, из float64 в int64, потому что целые значения.\n",
    "Critic_Score — оценка критиков, из float64 в int64, потому что целые значения.\n",
    "User_Score — оценка пользователей, из object в float64, потому что дробные (с точкой) значения."
   ]
  },
  {
   "cell_type": "markdown",
   "metadata": {},
   "source": [
    "Чтобы поменять типы, сначала заполним пропуски."
   ]
  },
  {
   "cell_type": "code",
   "execution_count": 8,
   "metadata": {},
   "outputs": [
    {
     "data": {
      "text/plain": [
       "name                  2\n",
       "platform              0\n",
       "year_of_release     269\n",
       "genre                 2\n",
       "na_sales              0\n",
       "eu_sales              0\n",
       "jp_sales              0\n",
       "other_sales           0\n",
       "critic_score       8578\n",
       "user_score         6701\n",
       "rating             6766\n",
       "dtype: int64"
      ]
     },
     "execution_count": 8,
     "metadata": {},
     "output_type": "execute_result"
    }
   ],
   "source": [
    "games.isna().sum()"
   ]
  },
  {
   "cell_type": "markdown",
   "metadata": {},
   "source": [
    "name, year_of_release, genre мало пропусков - удаляем."
   ]
  },
  {
   "cell_type": "code",
   "execution_count": 9,
   "metadata": {},
   "outputs": [],
   "source": [
    "games.dropna(subset = ['year_of_release'], inplace = True)\n",
    "games.dropna(subset=['name'], inplace = True)\n",
    "games.dropna(subset=['genre'], inplace = True)"
   ]
  },
  {
   "cell_type": "markdown",
   "metadata": {},
   "source": [
    "Найдем tbd и заменим на nan:"
   ]
  },
  {
   "cell_type": "code",
   "execution_count": 10,
   "metadata": {},
   "outputs": [
    {
     "data": {
      "text/html": [
       "<div>\n",
       "<style scoped>\n",
       "    .dataframe tbody tr th:only-of-type {\n",
       "        vertical-align: middle;\n",
       "    }\n",
       "\n",
       "    .dataframe tbody tr th {\n",
       "        vertical-align: top;\n",
       "    }\n",
       "\n",
       "    .dataframe thead th {\n",
       "        text-align: right;\n",
       "    }\n",
       "</style>\n",
       "<table border=\"1\" class=\"dataframe\">\n",
       "  <thead>\n",
       "    <tr style=\"text-align: right;\">\n",
       "      <th></th>\n",
       "      <th>name</th>\n",
       "      <th>platform</th>\n",
       "      <th>year_of_release</th>\n",
       "      <th>genre</th>\n",
       "      <th>na_sales</th>\n",
       "      <th>eu_sales</th>\n",
       "      <th>jp_sales</th>\n",
       "      <th>other_sales</th>\n",
       "      <th>critic_score</th>\n",
       "      <th>user_score</th>\n",
       "      <th>rating</th>\n",
       "    </tr>\n",
       "  </thead>\n",
       "  <tbody>\n",
       "    <tr>\n",
       "      <th>119</th>\n",
       "      <td>Zumba Fitness</td>\n",
       "      <td>Wii</td>\n",
       "      <td>2010.0</td>\n",
       "      <td>Sports</td>\n",
       "      <td>3.45</td>\n",
       "      <td>2.59</td>\n",
       "      <td>0.0</td>\n",
       "      <td>0.66</td>\n",
       "      <td>NaN</td>\n",
       "      <td>tbd</td>\n",
       "      <td>E</td>\n",
       "    </tr>\n",
       "    <tr>\n",
       "      <th>301</th>\n",
       "      <td>Namco Museum: 50th Anniversary</td>\n",
       "      <td>PS2</td>\n",
       "      <td>2005.0</td>\n",
       "      <td>Misc</td>\n",
       "      <td>2.08</td>\n",
       "      <td>1.35</td>\n",
       "      <td>0.0</td>\n",
       "      <td>0.54</td>\n",
       "      <td>61.0</td>\n",
       "      <td>tbd</td>\n",
       "      <td>E10+</td>\n",
       "    </tr>\n",
       "    <tr>\n",
       "      <th>520</th>\n",
       "      <td>Zumba Fitness 2</td>\n",
       "      <td>Wii</td>\n",
       "      <td>2011.0</td>\n",
       "      <td>Sports</td>\n",
       "      <td>1.51</td>\n",
       "      <td>1.03</td>\n",
       "      <td>0.0</td>\n",
       "      <td>0.27</td>\n",
       "      <td>NaN</td>\n",
       "      <td>tbd</td>\n",
       "      <td>T</td>\n",
       "    </tr>\n",
       "    <tr>\n",
       "      <th>645</th>\n",
       "      <td>uDraw Studio</td>\n",
       "      <td>Wii</td>\n",
       "      <td>2010.0</td>\n",
       "      <td>Misc</td>\n",
       "      <td>1.65</td>\n",
       "      <td>0.57</td>\n",
       "      <td>0.0</td>\n",
       "      <td>0.20</td>\n",
       "      <td>71.0</td>\n",
       "      <td>tbd</td>\n",
       "      <td>E</td>\n",
       "    </tr>\n",
       "    <tr>\n",
       "      <th>718</th>\n",
       "      <td>Just Dance Kids</td>\n",
       "      <td>Wii</td>\n",
       "      <td>2010.0</td>\n",
       "      <td>Misc</td>\n",
       "      <td>1.52</td>\n",
       "      <td>0.54</td>\n",
       "      <td>0.0</td>\n",
       "      <td>0.18</td>\n",
       "      <td>NaN</td>\n",
       "      <td>tbd</td>\n",
       "      <td>E</td>\n",
       "    </tr>\n",
       "  </tbody>\n",
       "</table>\n",
       "</div>"
      ],
      "text/plain": [
       "                               name platform  year_of_release   genre  \\\n",
       "119                   Zumba Fitness      Wii           2010.0  Sports   \n",
       "301  Namco Museum: 50th Anniversary      PS2           2005.0    Misc   \n",
       "520                 Zumba Fitness 2      Wii           2011.0  Sports   \n",
       "645                    uDraw Studio      Wii           2010.0    Misc   \n",
       "718                 Just Dance Kids      Wii           2010.0    Misc   \n",
       "\n",
       "     na_sales  eu_sales  jp_sales  other_sales  critic_score user_score rating  \n",
       "119      3.45      2.59       0.0         0.66           NaN        tbd      E  \n",
       "301      2.08      1.35       0.0         0.54          61.0        tbd   E10+  \n",
       "520      1.51      1.03       0.0         0.27           NaN        tbd      T  \n",
       "645      1.65      0.57       0.0         0.20          71.0        tbd      E  \n",
       "718      1.52      0.54       0.0         0.18           NaN        tbd      E  "
      ]
     },
     "execution_count": 10,
     "metadata": {},
     "output_type": "execute_result"
    }
   ],
   "source": [
    "tbd = games.query('user_score == \"tbd\"')\n",
    "tbd.head()"
   ]
  },
  {
   "cell_type": "code",
   "execution_count": 11,
   "metadata": {},
   "outputs": [],
   "source": [
    "games.loc[games['user_score'] == 'tbd', 'user_score'] = np.nan"
   ]
  },
  {
   "cell_type": "markdown",
   "metadata": {},
   "source": [
    "Critic_Score — оценка критиков и User_Score — оценка пользователей, nan заменим на '-1'."
   ]
  },
  {
   "cell_type": "code",
   "execution_count": 12,
   "metadata": {},
   "outputs": [],
   "source": [
    "games['critic_score'] = games['critic_score'].fillna(-1)\n",
    "games['user_score'] = games['user_score'].fillna(-1)"
   ]
  },
  {
   "cell_type": "markdown",
   "metadata": {},
   "source": [
    "Rating — рейтинг от организации, nan заменим на Unknown."
   ]
  },
  {
   "cell_type": "code",
   "execution_count": 13,
   "metadata": {},
   "outputs": [],
   "source": [
    "games['rating'] = games['rating'].fillna('Unknown')"
   ]
  },
  {
   "cell_type": "markdown",
   "metadata": {},
   "source": [
    "Меняем типы данных"
   ]
  },
  {
   "cell_type": "code",
   "execution_count": 14,
   "metadata": {},
   "outputs": [],
   "source": [
    "games['year_of_release'] = games['year_of_release'].astype('int64')\n",
    "games['critic_score'] = games['critic_score'].astype('int64')\n",
    "games['user_score'] = games['user_score'].astype('float64')"
   ]
  },
  {
   "cell_type": "code",
   "execution_count": 15,
   "metadata": {},
   "outputs": [
    {
     "name": "stdout",
     "output_type": "stream",
     "text": [
      "<class 'pandas.core.frame.DataFrame'>\n",
      "Int64Index: 16444 entries, 0 to 16714\n",
      "Data columns (total 11 columns):\n",
      " #   Column           Non-Null Count  Dtype  \n",
      "---  ------           --------------  -----  \n",
      " 0   name             16444 non-null  object \n",
      " 1   platform         16444 non-null  object \n",
      " 2   year_of_release  16444 non-null  int64  \n",
      " 3   genre            16444 non-null  object \n",
      " 4   na_sales         16444 non-null  float64\n",
      " 5   eu_sales         16444 non-null  float64\n",
      " 6   jp_sales         16444 non-null  float64\n",
      " 7   other_sales      16444 non-null  float64\n",
      " 8   critic_score     16444 non-null  int64  \n",
      " 9   user_score       16444 non-null  float64\n",
      " 10  rating           16444 non-null  object \n",
      "dtypes: float64(5), int64(2), object(4)\n",
      "memory usage: 1.5+ MB\n"
     ]
    }
   ],
   "source": [
    "games.info()"
   ]
  },
  {
   "cell_type": "markdown",
   "metadata": {},
   "source": [
    "Посчитаем суммарные продажи во всех регионах и запишу их в отдельный столбец."
   ]
  },
  {
   "cell_type": "code",
   "execution_count": 17,
   "metadata": {},
   "outputs": [],
   "source": [
    "games['sum_sales']=games[['na_sales','eu_sales','jp_sales', 'other_sales']].sum(axis = 1)"
   ]
  },
  {
   "cell_type": "code",
   "execution_count": 18,
   "metadata": {},
   "outputs": [
    {
     "data": {
      "text/html": [
       "<div>\n",
       "<style scoped>\n",
       "    .dataframe tbody tr th:only-of-type {\n",
       "        vertical-align: middle;\n",
       "    }\n",
       "\n",
       "    .dataframe tbody tr th {\n",
       "        vertical-align: top;\n",
       "    }\n",
       "\n",
       "    .dataframe thead th {\n",
       "        text-align: right;\n",
       "    }\n",
       "</style>\n",
       "<table border=\"1\" class=\"dataframe\">\n",
       "  <thead>\n",
       "    <tr style=\"text-align: right;\">\n",
       "      <th></th>\n",
       "      <th>name</th>\n",
       "      <th>platform</th>\n",
       "      <th>year_of_release</th>\n",
       "      <th>genre</th>\n",
       "      <th>na_sales</th>\n",
       "      <th>eu_sales</th>\n",
       "      <th>jp_sales</th>\n",
       "      <th>other_sales</th>\n",
       "      <th>critic_score</th>\n",
       "      <th>user_score</th>\n",
       "      <th>rating</th>\n",
       "      <th>sum_sales</th>\n",
       "    </tr>\n",
       "  </thead>\n",
       "  <tbody>\n",
       "    <tr>\n",
       "      <th>0</th>\n",
       "      <td>Wii Sports</td>\n",
       "      <td>Wii</td>\n",
       "      <td>2006</td>\n",
       "      <td>Sports</td>\n",
       "      <td>41.36</td>\n",
       "      <td>28.96</td>\n",
       "      <td>3.77</td>\n",
       "      <td>8.45</td>\n",
       "      <td>76</td>\n",
       "      <td>8.0</td>\n",
       "      <td>E</td>\n",
       "      <td>82.54</td>\n",
       "    </tr>\n",
       "    <tr>\n",
       "      <th>1</th>\n",
       "      <td>Super Mario Bros.</td>\n",
       "      <td>NES</td>\n",
       "      <td>1985</td>\n",
       "      <td>Platform</td>\n",
       "      <td>29.08</td>\n",
       "      <td>3.58</td>\n",
       "      <td>6.81</td>\n",
       "      <td>0.77</td>\n",
       "      <td>-1</td>\n",
       "      <td>-1.0</td>\n",
       "      <td>Unknown</td>\n",
       "      <td>40.24</td>\n",
       "    </tr>\n",
       "    <tr>\n",
       "      <th>2</th>\n",
       "      <td>Mario Kart Wii</td>\n",
       "      <td>Wii</td>\n",
       "      <td>2008</td>\n",
       "      <td>Racing</td>\n",
       "      <td>15.68</td>\n",
       "      <td>12.76</td>\n",
       "      <td>3.79</td>\n",
       "      <td>3.29</td>\n",
       "      <td>82</td>\n",
       "      <td>8.3</td>\n",
       "      <td>E</td>\n",
       "      <td>35.52</td>\n",
       "    </tr>\n",
       "    <tr>\n",
       "      <th>3</th>\n",
       "      <td>Wii Sports Resort</td>\n",
       "      <td>Wii</td>\n",
       "      <td>2009</td>\n",
       "      <td>Sports</td>\n",
       "      <td>15.61</td>\n",
       "      <td>10.93</td>\n",
       "      <td>3.28</td>\n",
       "      <td>2.95</td>\n",
       "      <td>80</td>\n",
       "      <td>8.0</td>\n",
       "      <td>E</td>\n",
       "      <td>32.77</td>\n",
       "    </tr>\n",
       "    <tr>\n",
       "      <th>4</th>\n",
       "      <td>Pokemon Red/Pokemon Blue</td>\n",
       "      <td>GB</td>\n",
       "      <td>1996</td>\n",
       "      <td>Role-Playing</td>\n",
       "      <td>11.27</td>\n",
       "      <td>8.89</td>\n",
       "      <td>10.22</td>\n",
       "      <td>1.00</td>\n",
       "      <td>-1</td>\n",
       "      <td>-1.0</td>\n",
       "      <td>Unknown</td>\n",
       "      <td>31.38</td>\n",
       "    </tr>\n",
       "  </tbody>\n",
       "</table>\n",
       "</div>"
      ],
      "text/plain": [
       "                       name platform  year_of_release         genre  na_sales  \\\n",
       "0                Wii Sports      Wii             2006        Sports     41.36   \n",
       "1         Super Mario Bros.      NES             1985      Platform     29.08   \n",
       "2            Mario Kart Wii      Wii             2008        Racing     15.68   \n",
       "3         Wii Sports Resort      Wii             2009        Sports     15.61   \n",
       "4  Pokemon Red/Pokemon Blue       GB             1996  Role-Playing     11.27   \n",
       "\n",
       "   eu_sales  jp_sales  other_sales  critic_score  user_score   rating  \\\n",
       "0     28.96      3.77         8.45            76         8.0        E   \n",
       "1      3.58      6.81         0.77            -1        -1.0  Unknown   \n",
       "2     12.76      3.79         3.29            82         8.3        E   \n",
       "3     10.93      3.28         2.95            80         8.0        E   \n",
       "4      8.89     10.22         1.00            -1        -1.0  Unknown   \n",
       "\n",
       "   sum_sales  \n",
       "0      82.54  \n",
       "1      40.24  \n",
       "2      35.52  \n",
       "3      32.77  \n",
       "4      31.38  "
      ]
     },
     "execution_count": 18,
     "metadata": {},
     "output_type": "execute_result"
    }
   ],
   "source": [
    "games.head()"
   ]
  },
  {
   "cell_type": "code",
   "execution_count": 19,
   "metadata": {},
   "outputs": [
    {
     "name": "stdout",
     "output_type": "stream",
     "text": [
      "<class 'pandas.core.frame.DataFrame'>\n",
      "Int64Index: 16444 entries, 0 to 16714\n",
      "Data columns (total 12 columns):\n",
      " #   Column           Non-Null Count  Dtype  \n",
      "---  ------           --------------  -----  \n",
      " 0   name             16444 non-null  object \n",
      " 1   platform         16444 non-null  object \n",
      " 2   year_of_release  16444 non-null  int64  \n",
      " 3   genre            16444 non-null  object \n",
      " 4   na_sales         16444 non-null  float64\n",
      " 5   eu_sales         16444 non-null  float64\n",
      " 6   jp_sales         16444 non-null  float64\n",
      " 7   other_sales      16444 non-null  float64\n",
      " 8   critic_score     16444 non-null  int64  \n",
      " 9   user_score       16444 non-null  float64\n",
      " 10  rating           16444 non-null  object \n",
      " 11  sum_sales        16444 non-null  float64\n",
      "dtypes: float64(6), int64(2), object(4)\n",
      "memory usage: 1.6+ MB\n"
     ]
    }
   ],
   "source": [
    "games.info()"
   ]
  },
  {
   "cell_type": "code",
   "execution_count": 20,
   "metadata": {},
   "outputs": [
    {
     "data": {
      "text/plain": [
       "name               0\n",
       "platform           0\n",
       "year_of_release    0\n",
       "genre              0\n",
       "na_sales           0\n",
       "eu_sales           0\n",
       "jp_sales           0\n",
       "other_sales        0\n",
       "critic_score       0\n",
       "user_score         0\n",
       "rating             0\n",
       "sum_sales          0\n",
       "dtype: int64"
      ]
     },
     "execution_count": 20,
     "metadata": {},
     "output_type": "execute_result"
    }
   ],
   "source": [
    "games.isna().sum()"
   ]
  },
  {
   "cell_type": "markdown",
   "metadata": {},
   "source": [
    "Пропуски заполнены, ещё раз выделим наши маркеры:"
   ]
  },
  {
   "cell_type": "code",
   "execution_count": 21,
   "metadata": {},
   "outputs": [],
   "source": [
    "critic_score_mark = 'critic_score != -1'\n",
    "user_score_mark = 'user_score != -1'\n",
    "rating_mark = 'rating != \"Unknown\"'"
   ]
  },
  {
   "cell_type": "markdown",
   "metadata": {},
   "source": [
    "Вывод: привели нашу таблицу в порядок.\n",
    "1. Привели название столбцов к нижнему регистру.\n",
    "2. Избавились от пропусков: удалили в столбцах - там где их очень мало.\n",
    "3. Добавили отдельный столбец'sum_sales'.\n",
    "4. Заменили тип данных."
   ]
  },
  {
   "cell_type": "code",
   "execution_count": 22,
   "metadata": {},
   "outputs": [
    {
     "name": "stdout",
     "output_type": "stream",
     "text": [
      "<class 'pandas.core.frame.DataFrame'>\n",
      "Int64Index: 16444 entries, 0 to 16714\n",
      "Data columns (total 12 columns):\n",
      " #   Column           Non-Null Count  Dtype  \n",
      "---  ------           --------------  -----  \n",
      " 0   name             16444 non-null  object \n",
      " 1   platform         16444 non-null  object \n",
      " 2   year_of_release  16444 non-null  int64  \n",
      " 3   genre            16444 non-null  object \n",
      " 4   na_sales         16444 non-null  float64\n",
      " 5   eu_sales         16444 non-null  float64\n",
      " 6   jp_sales         16444 non-null  float64\n",
      " 7   other_sales      16444 non-null  float64\n",
      " 8   critic_score     16444 non-null  int64  \n",
      " 9   user_score       16444 non-null  float64\n",
      " 10  rating           16444 non-null  object \n",
      " 11  sum_sales        16444 non-null  float64\n",
      "dtypes: float64(6), int64(2), object(4)\n",
      "memory usage: 1.6+ MB\n",
      "None\n",
      "-------------------------\n",
      "name [' Beyblade Burst' ' Fire Emblem Fates' \" Frozen: Olaf's Quest\" ...\n",
      " 'uDraw Studio' 'uDraw Studio: Instant Artist'\n",
      " '¡Shin Chan Flipa en colores!']\n",
      "name  : кол-во 0 0 , процент 0 0.0 %\n",
      "name : кол-во NaN 0 , процент NaN 0.0 %\n",
      "-------------------------\n",
      "platform ['2600' '3DO' '3DS' 'DC' 'DS' 'GB' 'GBA' 'GC' 'GEN' 'GG' 'N64' 'NES' 'NG'\n",
      " 'PC' 'PCFX' 'PS' 'PS2' 'PS3' 'PS4' 'PSP' 'PSV' 'SAT' 'SCD' 'SNES' 'TG16'\n",
      " 'WS' 'Wii' 'WiiU' 'X360' 'XB' 'XOne']\n",
      "platform  : кол-во 0 0 , процент 0 0.0 %\n",
      "platform : кол-во NaN 0 , процент NaN 0.0 %\n",
      "-------------------------\n",
      "year_of_release [1980 1981 1982 1983 1984 1985 1986 1987 1988 1989 1990 1991 1992 1993\n",
      " 1994 1995 1996 1997 1998 1999 2000 2001 2002 2003 2004 2005 2006 2007\n",
      " 2008 2009 2010 2011 2012 2013 2014 2015 2016]\n",
      "year_of_release  : кол-во 0 0 , процент 0 0.0 %\n",
      "year_of_release : кол-во NaN 0 , процент NaN 0.0 %\n",
      "-------------------------\n",
      "genre ['Action' 'Adventure' 'Fighting' 'Misc' 'Platform' 'Puzzle' 'Racing'\n",
      " 'Role-Playing' 'Shooter' 'Simulation' 'Sports' 'Strategy']\n",
      "genre  : кол-во 0 0 , процент 0 0.0 %\n",
      "genre : кол-во NaN 0 , процент NaN 0.0 %\n",
      "-------------------------\n",
      "critic_score [-1 13 17 19 20 21 23 24 25 26 27 28 29 30 31 32 33 34 35 36 37 38 39 40\n",
      " 41 42 43 44 45 46 47 48 49 50 51 52 53 54 55 56 57 58 59 60 61 62 63 64\n",
      " 65 66 67 68 69 70 71 72 73 74 75 76 77 78 79 80 81 82 83 84 85 86 87 88\n",
      " 89 90 91 92 93 94 95 96 97 98]\n",
      "critic_score  : кол-во 0 0 , процент 0 0.0 %\n",
      "critic_score : кол-во NaN 0 , процент NaN 0.0 %\n",
      "-------------------------\n",
      "user_score [-1.   0.   0.2  0.3  0.5  0.6  0.7  0.9  1.   1.1  1.2  1.3  1.4  1.5\n",
      "  1.6  1.7  1.8  1.9  2.   2.1  2.2  2.3  2.4  2.5  2.6  2.7  2.8  2.9\n",
      "  3.   3.1  3.2  3.3  3.4  3.5  3.6  3.7  3.8  3.9  4.   4.1  4.2  4.3\n",
      "  4.4  4.5  4.6  4.7  4.8  4.9  5.   5.1  5.2  5.3  5.4  5.5  5.6  5.7\n",
      "  5.8  5.9  6.   6.1  6.2  6.3  6.4  6.5  6.6  6.7  6.8  6.9  7.   7.1\n",
      "  7.2  7.3  7.4  7.5  7.6  7.7  7.8  7.9  8.   8.1  8.2  8.3  8.4  8.5\n",
      "  8.6  8.7  8.8  8.9  9.   9.1  9.2  9.3  9.4  9.5  9.6  9.7]\n",
      "user_score  : кол-во 0 1 , процент 0 0.01 %\n",
      "user_score : кол-во NaN 0 , процент NaN 0.0 %\n",
      "-------------------------\n",
      "rating ['AO' 'E' 'E10+' 'EC' 'K-A' 'M' 'RP' 'T' 'Unknown']\n",
      "rating  : кол-во 0 0 , процент 0 0.0 %\n",
      "rating : кол-во NaN 0 , процент NaN 0.0 %\n"
     ]
    }
   ],
   "source": [
    "# Посмотрим, что у нас осталось\n",
    "temp = games.copy() \n",
    "list_c = ['name', 'platform', 'year_of_release', 'genre', 'critic_score', 'user_score', 'rating']\n",
    "print(temp.info())\n",
    "for col_l in list_c:\n",
    "  print('-'* 25)\n",
    "  print(col_l, temp[col_l].sort_values().unique())\n",
    "  print(col_l,' : кол-во 0', temp[temp[col_l] == 0][col_l].count(),\n",
    "        ', процент 0', round(temp[temp[col_l] == 0][col_l].count()/len(temp)*100, 2),'%')\n",
    "  print(col_l,': кол-во NaN',temp[col_l].isna().sum(),\n",
    "        ', процент NaN', round(temp[col_l].isna().sum()/len(temp)*100, 2),'%')"
   ]
  },
  {
   "cell_type": "markdown",
   "metadata": {},
   "source": [
    "Вывод: \n",
    "- name, year_of_release, genre мало пропусков - удаляем, это наверное человеческий фактор или технический сбой - отсутствие данных;\n",
    "- Critic_Score — оценка критиков и User_Score — оценка пользователей, nan заменим на '-1'(заглушка), наверное не определились с оценкой и не поставили."
   ]
  },
  {
   "cell_type": "markdown",
   "metadata": {},
   "source": [
    "### Проведем исследовательский анализ данных"
   ]
  },
  {
   "cell_type": "markdown",
   "metadata": {},
   "source": [
    "Посмотрим, сколько игр выпускалось в разные годы."
   ]
  },
  {
   "cell_type": "code",
   "execution_count": 23,
   "metadata": {},
   "outputs": [],
   "source": [
    "import seaborn as sns\n",
    "import matplotlib.pyplot as plt\n"
   ]
  },
  {
   "cell_type": "code",
   "execution_count": 24,
   "metadata": {},
   "outputs": [
    {
     "data": {
      "text/plain": [
       "Text(0, 0.5, 'Количество игр')"
      ]
     },
     "execution_count": 24,
     "metadata": {},
     "output_type": "execute_result"
    },
    {
     "data": {
      "image/png": "[encoded data removed]",
      "text/plain": [
       "<Figure size 432x288 with 1 Axes>"
      ]
     },
     "metadata": {
      "needs_background": "light"
     },
     "output_type": "display_data"
    }
   ],
   "source": [
    "games_year = games.pivot_table(index='name', values='year_of_release', aggfunc='sum')\n",
    "games_year.hist(bins=36, range=(1980,2016), ec='blue', alpha = 0.5, color='green')\n",
    "plt.title('Количество игр от года выпуска')\n",
    "plt.xlabel('Годы')\n",
    "plt.ylabel('Количество игр')"
   ]
  },
  {
   "cell_type": "markdown",
   "metadata": {},
   "source": [
    "Вывод: рост продаж начался в 1995 году и с 2010 года наблюдается спад, рассматривать совсем старые игры нецелесообразно, возьмём последний период в 5-10 лет."
   ]
  },
  {
   "cell_type": "markdown",
   "metadata": {},
   "source": [
    "Посмотрим, как менялись продажи по платформам. Выберите платформы с наибольшими суммарными продажами и построим распределение по годам."
   ]
  },
  {
   "cell_type": "code",
   "execution_count": 25,
   "metadata": {},
   "outputs": [],
   "source": [
    "total_platform=games.pivot_table('sum_sales', index = 'platform', aggfunc='sum').sort_values(by='sum_sales', ascending = False)"
   ]
  },
  {
   "cell_type": "code",
   "execution_count": 26,
   "metadata": {},
   "outputs": [
    {
     "data": {
      "image/png": "[encoded data removed]",
      "text/plain": [
       "<Figure size 720x360 with 1 Axes>"
      ]
     },
     "metadata": {
      "needs_background": "light"
     },
     "output_type": "display_data"
    }
   ],
   "source": [
    "total_platform.plot(kind='bar',figsize=(10, 5), grid=True, ec='blue')\n",
    "plt.title('Количество продаж по платформам')\n",
    "plt.ylabel('Суммарные продажи')\n",
    "plt.xlabel('Платформы')\n",
    "plt.show()"
   ]
  },
  {
   "cell_type": "markdown",
   "metadata": {},
   "source": [
    "Лидируют 6 платформ, построим по ним распределение по годам."
   ]
  },
  {
   "cell_type": "code",
   "execution_count": 27,
   "metadata": {},
   "outputs": [
    {
     "data": {
      "image/png": "[encoded data removed]",
      "text/plain": [
       "<Figure size 1080x360 with 1 Axes>"
      ]
     },
     "metadata": {
      "needs_background": "light"
     },
     "output_type": "display_data"
    }
   ],
   "source": [
    "platform_best6 =total_platform.head(6).index.to_list()\n",
    "platform_best6_pivot=games.query('platform.isin(@platform_best6)').pivot_table(index='year_of_release', \n",
    "                                                                            columns='platform', \n",
    "                                                                            values='sum_sales', \n",
    "                                                                            aggfunc='sum')\n",
    "platform_best6_pivot.plot(grid=True, figsize=(15, 5), style ='o-')\n",
    "plt.xlim(1993, 2016)\n",
    "plt.title('Суммарные продажи самых популярных платформ по годам')\n",
    "plt.ylabel('Суммарные продажи')\n",
    "plt.xlabel('Года')\n",
    "plt.show()"
   ]
  },
  {
   "cell_type": "markdown",
   "metadata": {},
   "source": [
    "Вывод: По графику видим, что платформа появляется и исчезает в течение примерно 10 лет.\n",
    "Таким образом для нашего прогноза целесообразно рассмотреть период с 2005 по 2015 годы, т.е те платформы которые набирают популярность, либо находятся на пике."
   ]
  },
  {
   "cell_type": "markdown",
   "metadata": {},
   "source": [
    "Возьмем данные после 2012 года. Основной фактор — эти данные помогут построить прогноз на 2017 год."
   ]
  },
  {
   "cell_type": "code",
   "execution_count": 28,
   "metadata": {},
   "outputs": [
    {
     "data": {
      "image/png": "[encoded data removed]",
      "text/plain": [
       "<Figure size 1080x360 with 1 Axes>"
      ]
     },
     "metadata": {
      "needs_background": "light"
     },
     "output_type": "display_data"
    }
   ],
   "source": [
    "yers_after2012 = games.query('year_of_release >= 2012')\n",
    "yers_after2012.pivot_table(index='year_of_release', \n",
    "                           columns='platform', \n",
    "                           values='sum_sales', \n",
    "                           aggfunc='sum').plot(grid=True, figsize=(15, 5), style ='o-')\n",
    "plt.title('Продажи после 2012 года')\n",
    "plt.show()\n",
    "                    "
   ]
  },
  {
   "cell_type": "markdown",
   "metadata": {},
   "source": [
    "Вывод: Продажи падают на всех платформах. Неплохие продажи после 2014 показывают только PS4 и XOne."
   ]
  },
  {
   "cell_type": "code",
   "execution_count": 29,
   "metadata": {},
   "outputs": [
    {
     "data": {
      "text/html": [
       "<div>\n",
       "<style scoped>\n",
       "    .dataframe tbody tr th:only-of-type {\n",
       "        vertical-align: middle;\n",
       "    }\n",
       "\n",
       "    .dataframe tbody tr th {\n",
       "        vertical-align: top;\n",
       "    }\n",
       "\n",
       "    .dataframe thead th {\n",
       "        text-align: right;\n",
       "    }\n",
       "</style>\n",
       "<table border=\"1\" class=\"dataframe\">\n",
       "  <thead>\n",
       "    <tr style=\"text-align: right;\">\n",
       "      <th></th>\n",
       "      <th>platform</th>\n",
       "      <th>year_of_release</th>\n",
       "      <th>sum_sales</th>\n",
       "    </tr>\n",
       "  </thead>\n",
       "  <tbody>\n",
       "    <tr>\n",
       "      <th>22</th>\n",
       "      <td>XOne</td>\n",
       "      <td>2016</td>\n",
       "      <td>26.15</td>\n",
       "    </tr>\n",
       "    <tr>\n",
       "      <th>21</th>\n",
       "      <td>XOne</td>\n",
       "      <td>2015</td>\n",
       "      <td>60.14</td>\n",
       "    </tr>\n",
       "    <tr>\n",
       "      <th>20</th>\n",
       "      <td>XOne</td>\n",
       "      <td>2014</td>\n",
       "      <td>54.07</td>\n",
       "    </tr>\n",
       "    <tr>\n",
       "      <th>19</th>\n",
       "      <td>XOne</td>\n",
       "      <td>2013</td>\n",
       "      <td>18.96</td>\n",
       "    </tr>\n",
       "    <tr>\n",
       "      <th>18</th>\n",
       "      <td>X360</td>\n",
       "      <td>2016</td>\n",
       "      <td>1.52</td>\n",
       "    </tr>\n",
       "    <tr>\n",
       "      <th>17</th>\n",
       "      <td>X360</td>\n",
       "      <td>2015</td>\n",
       "      <td>11.96</td>\n",
       "    </tr>\n",
       "    <tr>\n",
       "      <th>16</th>\n",
       "      <td>X360</td>\n",
       "      <td>2014</td>\n",
       "      <td>34.74</td>\n",
       "    </tr>\n",
       "    <tr>\n",
       "      <th>15</th>\n",
       "      <td>X360</td>\n",
       "      <td>2013</td>\n",
       "      <td>88.58</td>\n",
       "    </tr>\n",
       "    <tr>\n",
       "      <th>14</th>\n",
       "      <td>X360</td>\n",
       "      <td>2012</td>\n",
       "      <td>99.74</td>\n",
       "    </tr>\n",
       "    <tr>\n",
       "      <th>12</th>\n",
       "      <td>WiiU</td>\n",
       "      <td>2015</td>\n",
       "      <td>16.35</td>\n",
       "    </tr>\n",
       "    <tr>\n",
       "      <th>13</th>\n",
       "      <td>WiiU</td>\n",
       "      <td>2016</td>\n",
       "      <td>4.60</td>\n",
       "    </tr>\n",
       "    <tr>\n",
       "      <th>11</th>\n",
       "      <td>WiiU</td>\n",
       "      <td>2014</td>\n",
       "      <td>22.03</td>\n",
       "    </tr>\n",
       "    <tr>\n",
       "      <th>10</th>\n",
       "      <td>WiiU</td>\n",
       "      <td>2013</td>\n",
       "      <td>21.65</td>\n",
       "    </tr>\n",
       "    <tr>\n",
       "      <th>9</th>\n",
       "      <td>WiiU</td>\n",
       "      <td>2012</td>\n",
       "      <td>17.56</td>\n",
       "    </tr>\n",
       "    <tr>\n",
       "      <th>8</th>\n",
       "      <td>Wii</td>\n",
       "      <td>2016</td>\n",
       "      <td>0.18</td>\n",
       "    </tr>\n",
       "    <tr>\n",
       "      <th>7</th>\n",
       "      <td>Wii</td>\n",
       "      <td>2015</td>\n",
       "      <td>1.14</td>\n",
       "    </tr>\n",
       "    <tr>\n",
       "      <th>6</th>\n",
       "      <td>Wii</td>\n",
       "      <td>2014</td>\n",
       "      <td>3.75</td>\n",
       "    </tr>\n",
       "    <tr>\n",
       "      <th>5</th>\n",
       "      <td>Wii</td>\n",
       "      <td>2013</td>\n",
       "      <td>8.59</td>\n",
       "    </tr>\n",
       "    <tr>\n",
       "      <th>4</th>\n",
       "      <td>Wii</td>\n",
       "      <td>2012</td>\n",
       "      <td>21.71</td>\n",
       "    </tr>\n",
       "    <tr>\n",
       "      <th>1</th>\n",
       "      <td>PS4</td>\n",
       "      <td>2014</td>\n",
       "      <td>100.00</td>\n",
       "    </tr>\n",
       "    <tr>\n",
       "      <th>3</th>\n",
       "      <td>PS4</td>\n",
       "      <td>2016</td>\n",
       "      <td>69.25</td>\n",
       "    </tr>\n",
       "    <tr>\n",
       "      <th>2</th>\n",
       "      <td>PS4</td>\n",
       "      <td>2015</td>\n",
       "      <td>118.90</td>\n",
       "    </tr>\n",
       "    <tr>\n",
       "      <th>0</th>\n",
       "      <td>PS4</td>\n",
       "      <td>2013</td>\n",
       "      <td>25.99</td>\n",
       "    </tr>\n",
       "  </tbody>\n",
       "</table>\n",
       "</div>"
      ],
      "text/plain": [
       "   platform  year_of_release  sum_sales\n",
       "22     XOne             2016      26.15\n",
       "21     XOne             2015      60.14\n",
       "20     XOne             2014      54.07\n",
       "19     XOne             2013      18.96\n",
       "18     X360             2016       1.52\n",
       "17     X360             2015      11.96\n",
       "16     X360             2014      34.74\n",
       "15     X360             2013      88.58\n",
       "14     X360             2012      99.74\n",
       "12     WiiU             2015      16.35\n",
       "13     WiiU             2016       4.60\n",
       "11     WiiU             2014      22.03\n",
       "10     WiiU             2013      21.65\n",
       "9      WiiU             2012      17.56\n",
       "8       Wii             2016       0.18\n",
       "7       Wii             2015       1.14\n",
       "6       Wii             2014       3.75\n",
       "5       Wii             2013       8.59\n",
       "4       Wii             2012      21.71\n",
       "1       PS4             2014     100.00\n",
       "3       PS4             2016      69.25\n",
       "2       PS4             2015     118.90\n",
       "0       PS4             2013      25.99"
      ]
     },
     "execution_count": 29,
     "metadata": {},
     "output_type": "execute_result"
    }
   ],
   "source": [
    "prom_platforms = yers_after2012.query('platform == \"PS4\" or platform == \"XOne\" or platform == \"X360\" or platform == \"Wii\" or platform == \"WiiU\"')\n",
    "prom_platforms_stats = (prom_platforms.groupby(['platform','year_of_release'],as_index = False)['sum_sales'].sum()\n",
    "                                 .sort_values('platform',ascending = False))\n",
    "prom_platforms_stats"
   ]
  },
  {
   "cell_type": "markdown",
   "metadata": {},
   "source": [
    "Построим график «ящик с усами» по глобальным продажам игр в разбивке по платформам."
   ]
  },
  {
   "cell_type": "code",
   "execution_count": 30,
   "metadata": {},
   "outputs": [
    {
     "data": {
      "text/plain": [
       "[(0.0, 1.0)]"
      ]
     },
     "execution_count": 30,
     "metadata": {},
     "output_type": "execute_result"
    },
    {
     "data": {
      "image/png": "[encoded data removed]",
      "text/plain": [
       "<Figure size 1080x648 with 1 Axes>"
      ]
     },
     "metadata": {},
     "output_type": "display_data"
    }
   ],
   "source": [
    "sns.set(rc={'figure.figsize':(15,9)})\n",
    "ax = sns.boxplot(x=\"platform\", y=\"sum_sales\", data= yers_after2012, palette=\"Set2\")\n",
    "ax.set(ylim=(0,1))"
   ]
  },
  {
   "cell_type": "markdown",
   "metadata": {},
   "source": [
    "Вывод: Медианные значения суммарных продаж, 3-ие квартили и максимальные значения платформ Х360, узкий \"ящик\" у платформы PSP."
   ]
  },
  {
   "cell_type": "markdown",
   "metadata": {},
   "source": [
    "Посмотрим, как влияют на продажи внутри одной популярной платформы отзывы пользователей и критиков. Построим диаграмму рассеяния и посчитайте корреляцию между отзывами и продажами. "
   ]
  },
  {
   "cell_type": "code",
   "execution_count": 31,
   "metadata": {},
   "outputs": [
    {
     "data": {
      "text/html": [
       "<div>\n",
       "<style scoped>\n",
       "    .dataframe tbody tr th:only-of-type {\n",
       "        vertical-align: middle;\n",
       "    }\n",
       "\n",
       "    .dataframe tbody tr th {\n",
       "        vertical-align: top;\n",
       "    }\n",
       "\n",
       "    .dataframe thead th {\n",
       "        text-align: right;\n",
       "    }\n",
       "</style>\n",
       "<table border=\"1\" class=\"dataframe\">\n",
       "  <thead>\n",
       "    <tr style=\"text-align: right;\">\n",
       "      <th></th>\n",
       "      <th>user_score</th>\n",
       "      <th>sum_sales</th>\n",
       "    </tr>\n",
       "  </thead>\n",
       "  <tbody>\n",
       "    <tr>\n",
       "      <th>user_score</th>\n",
       "      <td>1.000000</td>\n",
       "      <td>-0.031957</td>\n",
       "    </tr>\n",
       "    <tr>\n",
       "      <th>sum_sales</th>\n",
       "      <td>-0.031957</td>\n",
       "      <td>1.000000</td>\n",
       "    </tr>\n",
       "  </tbody>\n",
       "</table>\n",
       "</div>"
      ],
      "text/plain": [
       "            user_score  sum_sales\n",
       "user_score    1.000000  -0.031957\n",
       "sum_sales    -0.031957   1.000000"
      ]
     },
     "metadata": {},
     "output_type": "display_data"
    }
   ],
   "source": [
    "platform_best_user = games.query('platform == \"PS4\"')\n",
    "ps4_f = platform_best_user.query(f\"{user_score_mark}\")\n",
    "platform_best_user_loc = ps4_f.loc[:, ['user_score','sum_sales']]\n",
    "display(platform_best_user_loc.corr())"
   ]
  },
  {
   "cell_type": "code",
   "execution_count": 32,
   "metadata": {},
   "outputs": [
    {
     "data": {
      "text/plain": [
       "1980"
      ]
     },
     "execution_count": 32,
     "metadata": {},
     "output_type": "execute_result"
    }
   ],
   "source": [
    "games.year_of_release.min()"
   ]
  },
  {
   "cell_type": "code",
   "execution_count": 33,
   "metadata": {},
   "outputs": [
    {
     "data": {
      "image/png": "[encoded data removed]",
      "text/plain": [
       "<Figure size 720x360 with 1 Axes>"
      ]
     },
     "metadata": {},
     "output_type": "display_data"
    }
   ],
   "source": [
    "sns.set(rc={'figure.figsize':(10,5)}) \n",
    "ax = sns.scatterplot(x=\"user_score\", y=\"sum_sales\", data= ps4_f, \n",
    "                     alpha=0.5, color='green', s = 100)\n",
    "ax.set(ylim=(0,5))\n",
    "plt.ylabel('Суммарные продажи')\n",
    "plt.xlabel('Отзывы пользователей')\n",
    "plt.title('Влияние отзывов пользователей на продажy PS4')\n",
    "plt.show()"
   ]
  },
  {
   "cell_type": "markdown",
   "metadata": {},
   "source": [
    "Вывод: Корреляция в 0.03 говорит о том, что связь минимальна, т.е её почти нет. Но судя по графику можно сделать вывод, что чем выше оценка, тем больше продаж."
   ]
  },
  {
   "cell_type": "code",
   "execution_count": 34,
   "metadata": {},
   "outputs": [
    {
     "data": {
      "text/html": [
       "<div>\n",
       "<style scoped>\n",
       "    .dataframe tbody tr th:only-of-type {\n",
       "        vertical-align: middle;\n",
       "    }\n",
       "\n",
       "    .dataframe tbody tr th {\n",
       "        vertical-align: top;\n",
       "    }\n",
       "\n",
       "    .dataframe thead th {\n",
       "        text-align: right;\n",
       "    }\n",
       "</style>\n",
       "<table border=\"1\" class=\"dataframe\">\n",
       "  <thead>\n",
       "    <tr style=\"text-align: right;\">\n",
       "      <th></th>\n",
       "      <th>critic_score</th>\n",
       "      <th>sum_sales</th>\n",
       "    </tr>\n",
       "  </thead>\n",
       "  <tbody>\n",
       "    <tr>\n",
       "      <th>critic_score</th>\n",
       "      <td>1.000000</td>\n",
       "      <td>0.406568</td>\n",
       "    </tr>\n",
       "    <tr>\n",
       "      <th>sum_sales</th>\n",
       "      <td>0.406568</td>\n",
       "      <td>1.000000</td>\n",
       "    </tr>\n",
       "  </tbody>\n",
       "</table>\n",
       "</div>"
      ],
      "text/plain": [
       "              critic_score  sum_sales\n",
       "critic_score      1.000000   0.406568\n",
       "sum_sales         0.406568   1.000000"
      ]
     },
     "metadata": {},
     "output_type": "display_data"
    }
   ],
   "source": [
    "platform_best_critic = games.query('platform == \"PS4\"')\n",
    "ps4_c = platform_best_user.query(f\"{critic_score_mark}\")\n",
    "platform_best_critic_loc = ps4_c.loc[:, ['critic_score','sum_sales']]\n",
    "display(platform_best_critic_loc.corr())"
   ]
  },
  {
   "cell_type": "code",
   "execution_count": 35,
   "metadata": {},
   "outputs": [
    {
     "data": {
      "image/png": "[encoded data removed]",
      "text/plain": [
       "<Figure size 720x360 with 1 Axes>"
      ]
     },
     "metadata": {},
     "output_type": "display_data"
    }
   ],
   "source": [
    "sns.set(rc={'figure.figsize':(10,5)}) \n",
    "ax = sns.scatterplot(x=\"critic_score\", y=\"sum_sales\", data= ps4_c, \n",
    "                     alpha=0.5, color='green', s = 100)\n",
    "ax.set(ylim=(0,5))\n",
    "plt.ylabel('Суммарные продажи')\n",
    "plt.xlabel('Отзывы критиков')\n",
    "plt.title('Влияние отзывов критиков на продажy PS4')\n",
    "plt.show()"
   ]
  },
  {
   "cell_type": "markdown",
   "metadata": {},
   "source": [
    "Вывод: Корреляция в 0,41 говорит о наличии связи, однако не слишком сильной. Но и тут по графику можно сделать вывод, что чем выше оценка, тем больше продаж."
   ]
  },
  {
   "cell_type": "markdown",
   "metadata": {},
   "source": [
    "Соотнесем выводы с продажами игр на других платформах."
   ]
  },
  {
   "cell_type": "code",
   "execution_count": 36,
   "metadata": {},
   "outputs": [],
   "source": [
    "ps4 = prom_platforms.query(\"platform == 'PS4'\")\n",
    "xone = prom_platforms.query(\"platform == 'XOne'\")\n",
    "x360 = prom_platforms.query(\"platform == 'X360'\")\n",
    "wii = prom_platforms.query(\"platform == 'Wii'\")\n",
    "wiiu = prom_platforms.query(\"platform == 'WiiU'\")"
   ]
  },
  {
   "cell_type": "code",
   "execution_count": 37,
   "metadata": {},
   "outputs": [],
   "source": [
    "ps4_f = ps4.query(f\"{user_score_mark}\")"
   ]
  },
  {
   "cell_type": "code",
   "execution_count": 38,
   "metadata": {},
   "outputs": [
    {
     "data": {
      "text/html": [
       "<style  type=\"text/css\" >\n",
       "#T_51dcf_row0_col0,#T_51dcf_row1_col1,#T_51dcf_row2_col2{\n",
       "            background-color:  #da3b46;\n",
       "            color:  #f1f1f1;\n",
       "            max-width:  100px;\n",
       "            font-size:  12pt;\n",
       "        }#T_51dcf_row0_col1{\n",
       "            background-color:  #cfdbe4;\n",
       "            color:  #000000;\n",
       "            max-width:  100px;\n",
       "            font-size:  12pt;\n",
       "        }#T_51dcf_row0_col2,#T_51dcf_row1_col2,#T_51dcf_row2_col0{\n",
       "            background-color:  #417ca8;\n",
       "            color:  #000000;\n",
       "            max-width:  100px;\n",
       "            font-size:  12pt;\n",
       "        }#T_51dcf_row1_col0{\n",
       "            background-color:  #5388af;\n",
       "            color:  #000000;\n",
       "            max-width:  100px;\n",
       "            font-size:  12pt;\n",
       "        }#T_51dcf_row2_col1{\n",
       "            background-color:  #c3d3df;\n",
       "            color:  #000000;\n",
       "            max-width:  100px;\n",
       "            font-size:  12pt;\n",
       "        }</style><table id=\"T_51dcf_\" ><thead>    <tr>        <th class=\"blank level0\" ></th>        <th class=\"col_heading level0 col0\" >user_score</th>        <th class=\"col_heading level0 col1\" >critic_score</th>        <th class=\"col_heading level0 col2\" >sum_sales</th>    </tr></thead><tbody>\n",
       "                <tr>\n",
       "                        <th id=\"T_51dcf_level0_row0\" class=\"row_heading level0 row0\" >user_score</th>\n",
       "                        <td id=\"T_51dcf_row0_col0\" class=\"data row0 col0\" >1.00</td>\n",
       "                        <td id=\"T_51dcf_row0_col1\" class=\"data row0 col1\" >0.39</td>\n",
       "                        <td id=\"T_51dcf_row0_col2\" class=\"data row0 col2\" >-0.03</td>\n",
       "            </tr>\n",
       "            <tr>\n",
       "                        <th id=\"T_51dcf_level0_row1\" class=\"row_heading level0 row1\" >critic_score</th>\n",
       "                        <td id=\"T_51dcf_row1_col0\" class=\"data row1 col0\" >0.39</td>\n",
       "                        <td id=\"T_51dcf_row1_col1\" class=\"data row1 col1\" >1.00</td>\n",
       "                        <td id=\"T_51dcf_row1_col2\" class=\"data row1 col2\" >0.35</td>\n",
       "            </tr>\n",
       "            <tr>\n",
       "                        <th id=\"T_51dcf_level0_row2\" class=\"row_heading level0 row2\" >sum_sales</th>\n",
       "                        <td id=\"T_51dcf_row2_col0\" class=\"data row2 col0\" >-0.03</td>\n",
       "                        <td id=\"T_51dcf_row2_col1\" class=\"data row2 col1\" >0.35</td>\n",
       "                        <td id=\"T_51dcf_row2_col2\" class=\"data row2 col2\" >1.00</td>\n",
       "            </tr>\n",
       "    </tbody></table>"
      ],
      "text/plain": [
       "<pandas.io.formats.style.Styler at 0x7f821d259580>"
      ]
     },
     "execution_count": 38,
     "metadata": {},
     "output_type": "execute_result"
    }
   ],
   "source": [
    "features = ['user_score', 'critic_score', 'sum_sales']\n",
    "\n",
    "cmap=sns.diverging_palette(240, 10, as_cmap=True)\n",
    "ps4_f[features].corr().style.background_gradient(cmap, axis=1)\\\n",
    "    .set_properties(**{'max-width': '100px', 'font-size': '12pt'})\\\n",
    "    .set_precision(2)"
   ]
  },
  {
   "cell_type": "code",
   "execution_count": 39,
   "metadata": {},
   "outputs": [],
   "source": [
    "xone_f = xone.query(f\"{user_score_mark}\")"
   ]
  },
  {
   "cell_type": "code",
   "execution_count": 40,
   "metadata": {},
   "outputs": [
    {
     "data": {
      "text/html": [
       "<style  type=\"text/css\" >\n",
       "#T_b9fd5_row0_col0,#T_b9fd5_row1_col1,#T_b9fd5_row2_col2{\n",
       "            background-color:  #da3b46;\n",
       "            color:  #f1f1f1;\n",
       "            max-width:  100px;\n",
       "            font-size:  12pt;\n",
       "        }#T_b9fd5_row0_col1{\n",
       "            background-color:  #a9c1d4;\n",
       "            color:  #000000;\n",
       "            max-width:  100px;\n",
       "            font-size:  12pt;\n",
       "        }#T_b9fd5_row0_col2,#T_b9fd5_row1_col0,#T_b9fd5_row2_col0{\n",
       "            background-color:  #417ca8;\n",
       "            color:  #000000;\n",
       "            max-width:  100px;\n",
       "            font-size:  12pt;\n",
       "        }#T_b9fd5_row1_col2{\n",
       "            background-color:  #6997b9;\n",
       "            color:  #000000;\n",
       "            max-width:  100px;\n",
       "            font-size:  12pt;\n",
       "        }#T_b9fd5_row2_col1{\n",
       "            background-color:  #c6d5e0;\n",
       "            color:  #000000;\n",
       "            max-width:  100px;\n",
       "            font-size:  12pt;\n",
       "        }</style><table id=\"T_b9fd5_\" ><thead>    <tr>        <th class=\"blank level0\" ></th>        <th class=\"col_heading level0 col0\" >user_score</th>        <th class=\"col_heading level0 col1\" >critic_score</th>        <th class=\"col_heading level0 col2\" >sum_sales</th>    </tr></thead><tbody>\n",
       "                <tr>\n",
       "                        <th id=\"T_b9fd5_level0_row0\" class=\"row_heading level0 row0\" >user_score</th>\n",
       "                        <td id=\"T_b9fd5_row0_col0\" class=\"data row0 col0\" >1.00</td>\n",
       "                        <td id=\"T_b9fd5_row0_col1\" class=\"data row0 col1\" >0.25</td>\n",
       "                        <td id=\"T_b9fd5_row0_col2\" class=\"data row0 col2\" >-0.07</td>\n",
       "            </tr>\n",
       "            <tr>\n",
       "                        <th id=\"T_b9fd5_level0_row1\" class=\"row_heading level0 row1\" >critic_score</th>\n",
       "                        <td id=\"T_b9fd5_row1_col0\" class=\"data row1 col0\" >0.25</td>\n",
       "                        <td id=\"T_b9fd5_row1_col1\" class=\"data row1 col1\" >1.00</td>\n",
       "                        <td id=\"T_b9fd5_row1_col2\" class=\"data row1 col2\" >0.33</td>\n",
       "            </tr>\n",
       "            <tr>\n",
       "                        <th id=\"T_b9fd5_level0_row2\" class=\"row_heading level0 row2\" >sum_sales</th>\n",
       "                        <td id=\"T_b9fd5_row2_col0\" class=\"data row2 col0\" >-0.07</td>\n",
       "                        <td id=\"T_b9fd5_row2_col1\" class=\"data row2 col1\" >0.33</td>\n",
       "                        <td id=\"T_b9fd5_row2_col2\" class=\"data row2 col2\" >1.00</td>\n",
       "            </tr>\n",
       "    </tbody></table>"
      ],
      "text/plain": [
       "<pandas.io.formats.style.Styler at 0x7f821d067b20>"
      ]
     },
     "execution_count": 40,
     "metadata": {},
     "output_type": "execute_result"
    }
   ],
   "source": [
    "xone_f[features].corr().style.background_gradient(cmap, axis=1)\\\n",
    "    .set_properties(**{'max-width': '100px', 'font-size': '12pt'})\\\n",
    "    .set_precision(2)"
   ]
  },
  {
   "cell_type": "code",
   "execution_count": 41,
   "metadata": {},
   "outputs": [
    {
     "data": {
      "text/html": [
       "<style  type=\"text/css\" >\n",
       "#T_08ec9_row0_col0,#T_08ec9_row1_col1,#T_08ec9_row2_col2{\n",
       "            background-color:  #da3b46;\n",
       "            color:  #f1f1f1;\n",
       "            max-width:  100px;\n",
       "            font-size:  12pt;\n",
       "        }#T_08ec9_row0_col1{\n",
       "            background-color:  #c4d4e0;\n",
       "            color:  #000000;\n",
       "            max-width:  100px;\n",
       "            font-size:  12pt;\n",
       "        }#T_08ec9_row0_col2,#T_08ec9_row1_col2,#T_08ec9_row2_col0{\n",
       "            background-color:  #417ca8;\n",
       "            color:  #000000;\n",
       "            max-width:  100px;\n",
       "            font-size:  12pt;\n",
       "        }#T_08ec9_row1_col0{\n",
       "            background-color:  #7ba3c0;\n",
       "            color:  #000000;\n",
       "            max-width:  100px;\n",
       "            font-size:  12pt;\n",
       "        }#T_08ec9_row2_col1{\n",
       "            background-color:  #98b6cd;\n",
       "            color:  #000000;\n",
       "            max-width:  100px;\n",
       "            font-size:  12pt;\n",
       "        }</style><table id=\"T_08ec9_\" ><thead>    <tr>        <th class=\"blank level0\" ></th>        <th class=\"col_heading level0 col0\" >user_score</th>        <th class=\"col_heading level0 col1\" >critic_score</th>        <th class=\"col_heading level0 col2\" >sum_sales</th>    </tr></thead><tbody>\n",
       "                <tr>\n",
       "                        <th id=\"T_08ec9_level0_row0\" class=\"row_heading level0 row0\" >user_score</th>\n",
       "                        <td id=\"T_08ec9_row0_col0\" class=\"data row0 col0\" >1.00</td>\n",
       "                        <td id=\"T_08ec9_row0_col1\" class=\"data row0 col1\" >0.38</td>\n",
       "                        <td id=\"T_08ec9_row0_col2\" class=\"data row0 col2\" >0.01</td>\n",
       "            </tr>\n",
       "            <tr>\n",
       "                        <th id=\"T_08ec9_level0_row1\" class=\"row_heading level0 row1\" >critic_score</th>\n",
       "                        <td id=\"T_08ec9_row1_col0\" class=\"data row1 col0\" >0.38</td>\n",
       "                        <td id=\"T_08ec9_row1_col1\" class=\"data row1 col1\" >1.00</td>\n",
       "                        <td id=\"T_08ec9_row1_col2\" class=\"data row1 col2\" >0.25</td>\n",
       "            </tr>\n",
       "            <tr>\n",
       "                        <th id=\"T_08ec9_level0_row2\" class=\"row_heading level0 row2\" >sum_sales</th>\n",
       "                        <td id=\"T_08ec9_row2_col0\" class=\"data row2 col0\" >0.01</td>\n",
       "                        <td id=\"T_08ec9_row2_col1\" class=\"data row2 col1\" >0.25</td>\n",
       "                        <td id=\"T_08ec9_row2_col2\" class=\"data row2 col2\" >1.00</td>\n",
       "            </tr>\n",
       "    </tbody></table>"
      ],
      "text/plain": [
       "<pandas.io.formats.style.Styler at 0x7f81dd069250>"
      ]
     },
     "execution_count": 41,
     "metadata": {},
     "output_type": "execute_result"
    }
   ],
   "source": [
    "x360_f = x360.query(f\"{user_score_mark}\")\n",
    "x360_f[features].corr().style.background_gradient(cmap, axis=1)\\\n",
    "    .set_properties(**{'max-width': '100px', 'font-size': '12pt'})\\\n",
    "    .set_precision(2)"
   ]
  },
  {
   "cell_type": "code",
   "execution_count": 42,
   "metadata": {},
   "outputs": [
    {
     "data": {
      "text/html": [
       "<style  type=\"text/css\" >\n",
       "#T_3716d_row0_col0,#T_3716d_row1_col1,#T_3716d_row2_col2{\n",
       "            background-color:  #da3b46;\n",
       "            color:  #f1f1f1;\n",
       "            max-width:  100px;\n",
       "            font-size:  12pt;\n",
       "        }#T_3716d_row0_col1{\n",
       "            background-color:  #6b98b9;\n",
       "            color:  #000000;\n",
       "            max-width:  100px;\n",
       "            font-size:  12pt;\n",
       "        }#T_3716d_row0_col2,#T_3716d_row1_col0,#T_3716d_row2_col0{\n",
       "            background-color:  #417ca8;\n",
       "            color:  #000000;\n",
       "            max-width:  100px;\n",
       "            font-size:  12pt;\n",
       "        }#T_3716d_row1_col2{\n",
       "            background-color:  #437da8;\n",
       "            color:  #000000;\n",
       "            max-width:  100px;\n",
       "            font-size:  12pt;\n",
       "        }#T_3716d_row2_col1{\n",
       "            background-color:  #6d9aba;\n",
       "            color:  #000000;\n",
       "            max-width:  100px;\n",
       "            font-size:  12pt;\n",
       "        }</style><table id=\"T_3716d_\" ><thead>    <tr>        <th class=\"blank level0\" ></th>        <th class=\"col_heading level0 col0\" >user_score</th>        <th class=\"col_heading level0 col1\" >critic_score</th>        <th class=\"col_heading level0 col2\" >sum_sales</th>    </tr></thead><tbody>\n",
       "                <tr>\n",
       "                        <th id=\"T_3716d_level0_row0\" class=\"row_heading level0 row0\" >user_score</th>\n",
       "                        <td id=\"T_3716d_row0_col0\" class=\"data row0 col0\" >1.00</td>\n",
       "                        <td id=\"T_3716d_row0_col1\" class=\"data row0 col1\" >0.38</td>\n",
       "                        <td id=\"T_3716d_row0_col2\" class=\"data row0 col2\" >0.30</td>\n",
       "            </tr>\n",
       "            <tr>\n",
       "                        <th id=\"T_3716d_level0_row1\" class=\"row_heading level0 row1\" >critic_score</th>\n",
       "                        <td id=\"T_3716d_row1_col0\" class=\"data row1 col0\" >0.38</td>\n",
       "                        <td id=\"T_3716d_row1_col1\" class=\"data row1 col1\" >1.00</td>\n",
       "                        <td id=\"T_3716d_row1_col2\" class=\"data row1 col2\" >0.38</td>\n",
       "            </tr>\n",
       "            <tr>\n",
       "                        <th id=\"T_3716d_level0_row2\" class=\"row_heading level0 row2\" >sum_sales</th>\n",
       "                        <td id=\"T_3716d_row2_col0\" class=\"data row2 col0\" >0.30</td>\n",
       "                        <td id=\"T_3716d_row2_col1\" class=\"data row2 col1\" >0.38</td>\n",
       "                        <td id=\"T_3716d_row2_col2\" class=\"data row2 col2\" >1.00</td>\n",
       "            </tr>\n",
       "    </tbody></table>"
      ],
      "text/plain": [
       "<pandas.io.formats.style.Styler at 0x7f81dcdc6c70>"
      ]
     },
     "execution_count": 42,
     "metadata": {},
     "output_type": "execute_result"
    }
   ],
   "source": [
    "wii_f = wii.query(f\"{user_score_mark}\")\n",
    "wii_f[features].corr().style.background_gradient(cmap, axis=1)\\\n",
    "    .set_properties(**{'max-width': '100px', 'font-size': '12pt'})\\\n",
    "    .set_precision(2)"
   ]
  },
  {
   "cell_type": "code",
   "execution_count": 43,
   "metadata": {},
   "outputs": [
    {
     "data": {
      "text/html": [
       "<style  type=\"text/css\" >\n",
       "#T_330e1_row0_col0,#T_330e1_row1_col1,#T_330e1_row2_col2{\n",
       "            background-color:  #da3b46;\n",
       "            color:  #f1f1f1;\n",
       "            max-width:  100px;\n",
       "            font-size:  12pt;\n",
       "        }#T_330e1_row0_col1{\n",
       "            background-color:  #b4c9d9;\n",
       "            color:  #000000;\n",
       "            max-width:  100px;\n",
       "            font-size:  12pt;\n",
       "        }#T_330e1_row0_col2,#T_330e1_row1_col2,#T_330e1_row2_col1{\n",
       "            background-color:  #417ca8;\n",
       "            color:  #000000;\n",
       "            max-width:  100px;\n",
       "            font-size:  12pt;\n",
       "        }#T_330e1_row1_col0{\n",
       "            background-color:  #cedae4;\n",
       "            color:  #000000;\n",
       "            max-width:  100px;\n",
       "            font-size:  12pt;\n",
       "        }#T_330e1_row2_col0{\n",
       "            background-color:  #6695b7;\n",
       "            color:  #000000;\n",
       "            max-width:  100px;\n",
       "            font-size:  12pt;\n",
       "        }</style><table id=\"T_330e1_\" ><thead>    <tr>        <th class=\"blank level0\" ></th>        <th class=\"col_heading level0 col0\" >user_score</th>        <th class=\"col_heading level0 col1\" >critic_score</th>        <th class=\"col_heading level0 col2\" >sum_sales</th>    </tr></thead><tbody>\n",
       "                <tr>\n",
       "                        <th id=\"T_330e1_level0_row0\" class=\"row_heading level0 row0\" >user_score</th>\n",
       "                        <td id=\"T_330e1_row0_col0\" class=\"data row0 col0\" >1.00</td>\n",
       "                        <td id=\"T_330e1_row0_col1\" class=\"data row0 col1\" >0.60</td>\n",
       "                        <td id=\"T_330e1_row0_col2\" class=\"data row0 col2\" >0.40</td>\n",
       "            </tr>\n",
       "            <tr>\n",
       "                        <th id=\"T_330e1_level0_row1\" class=\"row_heading level0 row1\" >critic_score</th>\n",
       "                        <td id=\"T_330e1_row1_col0\" class=\"data row1 col0\" >0.60</td>\n",
       "                        <td id=\"T_330e1_row1_col1\" class=\"data row1 col1\" >1.00</td>\n",
       "                        <td id=\"T_330e1_row1_col2\" class=\"data row1 col2\" >0.33</td>\n",
       "            </tr>\n",
       "            <tr>\n",
       "                        <th id=\"T_330e1_level0_row2\" class=\"row_heading level0 row2\" >sum_sales</th>\n",
       "                        <td id=\"T_330e1_row2_col0\" class=\"data row2 col0\" >0.40</td>\n",
       "                        <td id=\"T_330e1_row2_col1\" class=\"data row2 col1\" >0.33</td>\n",
       "                        <td id=\"T_330e1_row2_col2\" class=\"data row2 col2\" >1.00</td>\n",
       "            </tr>\n",
       "    </tbody></table>"
      ],
      "text/plain": [
       "<pandas.io.formats.style.Styler at 0x7f821d21d070>"
      ]
     },
     "execution_count": 43,
     "metadata": {},
     "output_type": "execute_result"
    }
   ],
   "source": [
    "wiiu_f = wiiu.query(f\"{user_score_mark}\")\n",
    "wiiu_f[features].corr().style.background_gradient(cmap, axis=1)\\\n",
    "    .set_properties(**{'max-width': '100px', 'font-size': '12pt'})\\\n",
    "    .set_precision(2)"
   ]
  },
  {
   "cell_type": "code",
   "execution_count": 44,
   "metadata": {},
   "outputs": [
    {
     "data": {
      "image/png": "[encoded data removed]",
      "text/plain": [
       "<Figure size 720x360 with 1 Axes>"
      ]
     },
     "metadata": {},
     "output_type": "display_data"
    },
    {
     "data": {
      "image/png": "[encoded data removed]",
      "text/plain": [
       "<Figure size 720x360 with 1 Axes>"
      ]
     },
     "metadata": {},
     "output_type": "display_data"
    },
    {
     "data": {
      "image/png": "[encoded data removed]",
      "text/plain": [
       "<Figure size 720x360 with 1 Axes>"
      ]
     },
     "metadata": {},
     "output_type": "display_data"
    },
    {
     "data": {
      "image/png": "[encoded data removed]",
      "text/plain": [
       "<Figure size 720x360 with 1 Axes>"
      ]
     },
     "metadata": {},
     "output_type": "display_data"
    },
    {
     "data": {
      "image/png": "[encoded data removed]",
      "text/plain": [
       "<Figure size 720x360 with 1 Axes>"
      ]
     },
     "metadata": {},
     "output_type": "display_data"
    }
   ],
   "source": [
    "ps4_f.plot(x='user_score', y='sum_sales', kind='scatter', title='PS4',figsize=(10, 5), color='blue')\n",
    "xone_f.plot(x='user_score', y='sum_sales', kind='scatter', title='Xbox One',figsize=(10, 5), color='green')\n",
    "x360_f.plot(x='user_score', y='sum_sales', kind='scatter', title='X360',figsize=(10, 5), color='blue')\n",
    "wii_f.plot(x='user_score', y='sum_sales', kind='scatter', title='Wii',figsize=(10, 5), color='blue')\n",
    "wiiu_f.plot(x='user_score', y='sum_sales', kind='scatter', title='WiiU',figsize=(10, 5), color='blue')\n",
    "plt.show()"
   ]
  },
  {
   "cell_type": "code",
   "execution_count": 45,
   "metadata": {},
   "outputs": [],
   "source": [
    "ps4_cr = ps4.query(f\"{critic_score_mark}\")\n",
    "xone_cr = xone.query(f\"{critic_score_mark}\")\n",
    "x360_cr = x360.query(f\"{critic_score_mark}\")\n",
    "wii_cr = wii.query(f\"{critic_score_mark}\")\n",
    "wiiu_cr = wiiu.query(f\"{critic_score_mark}\")"
   ]
  },
  {
   "cell_type": "code",
   "execution_count": 46,
   "metadata": {},
   "outputs": [
    {
     "data": {
      "image/png": "[encoded data removed]",
      "text/plain": [
       "<Figure size 720x360 with 1 Axes>"
      ]
     },
     "metadata": {},
     "output_type": "display_data"
    },
    {
     "data": {
      "image/png": "[encoded data removed]",
      "text/plain": [
       "<Figure size 720x360 with 1 Axes>"
      ]
     },
     "metadata": {},
     "output_type": "display_data"
    },
    {
     "data": {
      "image/png": "[encoded data removed]",
      "text/plain": [
       "<Figure size 720x360 with 1 Axes>"
      ]
     },
     "metadata": {},
     "output_type": "display_data"
    },
    {
     "data": {
      "image/png": "[encoded data removed]",
      "text/plain": [
       "<Figure size 720x360 with 1 Axes>"
      ]
     },
     "metadata": {},
     "output_type": "display_data"
    },
    {
     "data": {
      "image/png": "[encoded data removed]",
      "text/plain": [
       "<Figure size 720x360 with 1 Axes>"
      ]
     },
     "metadata": {},
     "output_type": "display_data"
    }
   ],
   "source": [
    "ps4_cr.plot(x='critic_score', y='sum_sales', kind='scatter', title='PS4',figsize=(10, 5), color='blue')\n",
    "xone_cr.plot(x='critic_score', y='sum_sales', kind='scatter', title='Xbox One',figsize=(10, 5), color='green')\n",
    "x360_cr.plot(x='critic_score', y='sum_sales', kind='scatter', title='x360',figsize=(10, 5), color='blue')\n",
    "wii_cr.plot(x='critic_score', y='sum_sales', kind='scatter', title='wii',figsize=(10, 5), color='blue')\n",
    "wiiu_cr.plot(x='critic_score', y='sum_sales', kind='scatter', title='wiiu',figsize=(10, 5), color='blue')\n",
    "plt.show()"
   ]
  },
  {
   "cell_type": "markdown",
   "metadata": {},
   "source": [
    "Вывод: Взаимосвязи между отзывами пользователей и продажами нет. Взаимосвязь между отзывами критиков и продажами существует, однако не слишком большая. Корреляция не говорит о причинно-следственной связи. И хотя по диаграммам рассеяния видим, что чем выше оценки критиков, тем выше продажи игр на всех платформах, мы не можем утверждать, что высокие оценки критиками приводят к высоким продажам игр."
   ]
  },
  {
   "cell_type": "markdown",
   "metadata": {},
   "source": [
    "Посмотрим на общее распределение игр по жанрам. "
   ]
  },
  {
   "cell_type": "code",
   "execution_count": 47,
   "metadata": {},
   "outputs": [
    {
     "data": {
      "image/png": "[encoded data removed]",
      "text/plain": [
       "<Figure size 720x360 with 1 Axes>"
      ]
     },
     "metadata": {},
     "output_type": "display_data"
    }
   ],
   "source": [
    "(prom_platforms\n",
    "    .pivot_table(index='genre', values='sum_sales')\n",
    "    .sort_values('sum_sales', ascending=False)\n",
    "    .plot(kind='bar', y='sum_sales', figsize=(10, 5), legend=False,title = 'Перспективные платформы')\n",
    "    .set(xlabel='Жанр', ylabel='Глобальные продажи'))\n",
    "\n",
    "plt.show()"
   ]
  },
  {
   "cell_type": "code",
   "execution_count": 48,
   "metadata": {},
   "outputs": [
    {
     "data": {
      "image/png": "[encoded data removed]",
      "text/plain": [
       "<Figure size 720x360 with 1 Axes>"
      ]
     },
     "metadata": {},
     "output_type": "display_data"
    }
   ],
   "source": [
    "(yers_after2012\n",
    "    .pivot_table(index='genre', values='sum_sales')\n",
    "    .sort_values('sum_sales', ascending=False)\n",
    "    .plot(kind='bar', y='sum_sales', figsize=(10, 5), legend=False,title = 'Все платформы с 2012 года')\n",
    "    .set(xlabel='Жанр', ylabel='Глобальные продажи'))\n",
    "\n",
    "plt.show()"
   ]
  },
  {
   "cell_type": "markdown",
   "metadata": {},
   "source": [
    "Вывод: Самые популярные жанры ожидаемо - шутеры, спорт, гонки и рпг. \n",
    "Хуже всего продаются стратегии и квесты.\n",
    "Если брать все платформы, то также популярен жанр \"платформеры\"."
   ]
  },
  {
   "cell_type": "markdown",
   "metadata": {},
   "source": [
    "### Составьте портрет пользователя каждого региона"
   ]
  },
  {
   "cell_type": "markdown",
   "metadata": {},
   "source": [
    "Самые популярные платформы (топ-5). "
   ]
  },
  {
   "cell_type": "code",
   "execution_count": 49,
   "metadata": {},
   "outputs": [
    {
     "name": "stdout",
     "output_type": "stream",
     "text": [
      "Суммарные продажи, млн.проданных копий в регионе\n",
      "na_sales 591\n",
      "eu_sales 507\n",
      "jp_sales 193\n"
     ]
    }
   ],
   "source": [
    "regions = ['na_sales','eu_sales','jp_sales']\n",
    "df_since2012=games.query('year_of_release >= 2012')\n",
    "print(\"Суммарные продажи, млн.проданных копий в регионе\")\n",
    "for reg in regions:\n",
    "    sum_region=df_since2012[reg].sum()     \n",
    "    print(reg, round(sum_region))"
   ]
  },
  {
   "cell_type": "code",
   "execution_count": 50,
   "metadata": {},
   "outputs": [
    {
     "data": {
      "image/png": "[encoded data removed]",
      "text/plain": [
       "<Figure size 432x432 with 1 Axes>"
      ]
     },
     "metadata": {},
     "output_type": "display_data"
    },
    {
     "data": {
      "image/png": "[encoded data removed]",
      "text/plain": [
       "<Figure size 432x432 with 1 Axes>"
      ]
     },
     "metadata": {},
     "output_type": "display_data"
    },
    {
     "data": {
      "image/png": "[encoded data removed]",
      "text/plain": [
       "<Figure size 432x432 with 1 Axes>"
      ]
     },
     "metadata": {},
     "output_type": "display_data"
    }
   ],
   "source": [
    "for reg in regions:\n",
    "    (df_since2012.pivot_table(index='platform', values=reg, aggfunc='sum')\n",
    "                .sort_values(reg, ascending=False).head(5)\n",
    "                .plot(kind='pie', y=reg, figsize=(6, 6), legend=False, title = reg, autopct='%1.1f%%')\n",
    "                .set(ylabel='Суммарные продажи, млн.проданных копий')\n",
    "    )\n",
    "    plt.show()"
   ]
  },
  {
   "cell_type": "markdown",
   "metadata": {},
   "source": [
    "Вывод: Самая популярная в Северной Америке - X360, В Европе - PS4, в Японии c существенным отрывом- 3DS."
   ]
  },
  {
   "cell_type": "markdown",
   "metadata": {},
   "source": [
    "Самые популярные жанры (топ-5). "
   ]
  },
  {
   "cell_type": "code",
   "execution_count": 51,
   "metadata": {},
   "outputs": [
    {
     "data": {
      "image/png": "[encoded data removed]",
      "text/plain": [
       "<Figure size 432x432 with 1 Axes>"
      ]
     },
     "metadata": {},
     "output_type": "display_data"
    },
    {
     "data": {
      "image/png": "[encoded data removed]",
      "text/plain": [
       "<Figure size 432x432 with 1 Axes>"
      ]
     },
     "metadata": {},
     "output_type": "display_data"
    },
    {
     "data": {
      "image/png": "[encoded data removed]",
      "text/plain": [
       "<Figure size 432x432 with 1 Axes>"
      ]
     },
     "metadata": {},
     "output_type": "display_data"
    }
   ],
   "source": [
    "for reg in regions:\n",
    "    (df_since2012.pivot_table(index='genre', values=reg, aggfunc='sum')\n",
    "                .sort_values(reg, ascending=False).head(5)\n",
    "                .plot(kind='pie', y=reg, figsize=(6, 6), legend=False, pctdistance=0.5, \n",
    "                      labeldistance=1.1, radius=0.7, title = reg, autopct='%1.1f%%', explode = [0.02, 0.05, 0.08, 0.08, 0.05])\n",
    "                .set(ylabel='Суммарные продажи, млн.проданных копий')\n",
    "    )\n",
    "    plt.show()"
   ]
  },
  {
   "cell_type": "markdown",
   "metadata": {},
   "source": [
    "Вывод: Самый популярный жанр в Северной Америке и в Европе - Action, а в Японии- Pole-Playing."
   ]
  },
  {
   "cell_type": "markdown",
   "metadata": {},
   "source": [
    "Влияет ли рейтинг ESRB на продажи в отдельном регионе?"
   ]
  },
  {
   "cell_type": "code",
   "execution_count": 52,
   "metadata": {},
   "outputs": [
    {
     "data": {
      "image/png": "[encoded data removed]",
      "text/plain": [
       "<Figure size 432x432 with 1 Axes>"
      ]
     },
     "metadata": {},
     "output_type": "display_data"
    },
    {
     "data": {
      "image/png": "[encoded data removed]",
      "text/plain": [
       "<Figure size 432x432 with 1 Axes>"
      ]
     },
     "metadata": {},
     "output_type": "display_data"
    },
    {
     "data": {
      "image/png": "[encoded data removed]",
      "text/plain": [
       "<Figure size 432x432 with 1 Axes>"
      ]
     },
     "metadata": {},
     "output_type": "display_data"
    }
   ],
   "source": [
    "\n",
    "for reg in regions:\n",
    "    (df_since2012.pivot_table(index='rating', values=reg, aggfunc='sum')\n",
    "                .sort_values(reg, ascending=True).tail(5)\n",
    "                .plot(kind='pie', y=reg, figsize=(6, 6), legend=False, pctdistance=0.5, \n",
    "                      labeldistance=1, radius=0.7, title = reg, autopct='%1.1f%%')\n",
    "                .set(xlabel='Суммарные продажи')\n",
    "    )\n",
    "    plt.show()\n",
    "    "
   ]
  },
  {
   "cell_type": "markdown",
   "metadata": {},
   "source": [
    "Вывод: В Северной Америке и в Европе предпочитают рейтинги \"Для взрослых\", в Японии \"Не определено\"."
   ]
  },
  {
   "cell_type": "markdown",
   "metadata": {},
   "source": [
    "### Проверьте гипотезы"
   ]
  },
  {
   "cell_type": "code",
   "execution_count": 53,
   "metadata": {},
   "outputs": [],
   "source": [
    "from scipy import stats as st"
   ]
  },
  {
   "cell_type": "markdown",
   "metadata": {},
   "source": [
    "Средние пользовательские рейтинги платформ Xbox One и PC одинаковые"
   ]
  },
  {
   "cell_type": "code",
   "execution_count": 54,
   "metadata": {},
   "outputs": [
    {
     "name": "stdout",
     "output_type": "stream",
     "text": [
      "Дисперсия платформ Xbox One равна: 12.37 \n",
      "Дисперсия платформ PC равна:       10.27 \n"
     ]
    }
   ],
   "source": [
    "user_score_xone= games.query('platform == \"XOne\" and user_score!=\"nan\" and year_of_release >= 2012') \n",
    "user_score_pc = games.query('platform == \"PC\" and user_score!=\"nan\" and year_of_release >= 2012') \n",
    "var_xone = np.var(user_score_xone['user_score'])\n",
    "var_pc= np.var(user_score_pc['user_score'])\n",
    "print('{:} {: >5.2f} '.format('Дисперсия платформ Xbox One равна:', var_xone))\n",
    "print('{:} {: >11.2f} '.format('Дисперсия платформ PC равна:', var_pc ))"
   ]
  },
  {
   "cell_type": "markdown",
   "metadata": {},
   "source": [
    "Формулировки гипотез:\n",
    "\n",
    "H0: Средние пользовательские рейтинги платформ Xbox One и PC одинаковые.\n",
    "\n",
    "H1: Средние пользовательские рейтинги платформ Xbox One и PC различаются.\n",
    "\n",
    "Для проверки гипотезы возьмем стандартное значение alpha = 0.05"
   ]
  },
  {
   "cell_type": "code",
   "execution_count": 55,
   "metadata": {},
   "outputs": [
    {
     "name": "stdout",
     "output_type": "stream",
     "text": [
      "p-значение: 0.05619765758385681\n",
      "Не получилось отвергнуть нулевую гипотезу, средние пользовательские рейтинги платформ Xbox One и PC одинаковы!\n"
     ]
    }
   ],
   "source": [
    "alpha = .05 \n",
    "\n",
    "results = st.ttest_ind(\n",
    "    user_score_xone['user_score'],\n",
    "    user_score_pc['user_score'],\n",
    "    equal_var= False  \n",
    ")\n",
    "\n",
    "print('p-значение:', results.pvalue)\n",
    "\n",
    "if (results.pvalue < alpha):\n",
    "    print(\"Отвергаем нулевую гипотезу, т.е. средние пользовательские рейтинги платформ Xbox One и PC различаются!\")\n",
    "else:\n",
    "    print(\"Не получилось отвергнуть нулевую гипотезу, средние пользовательские рейтинги платформ Xbox One и PC одинаковы!\")"
   ]
  },
  {
   "cell_type": "code",
   "execution_count": 56,
   "metadata": {},
   "outputs": [
    {
     "name": "stdout",
     "output_type": "stream",
     "text": [
      "Средний пользовательский рейтинг платформ Xbox One:  4.54 \n",
      "Средний пользовательский рейтинг платформ PC:        5.12 \n"
     ]
    }
   ],
   "source": [
    "print('{:} {: >5.2f} '.format(\"Средний пользовательский рейтинг платформ Xbox One:\", user_score_xone['user_score'].mean() ))\n",
    "print('{:} {: >11.2f} '.format(\"Средний пользовательский рейтинг платформ PC:\",user_score_pc['user_score'].mean() ))"
   ]
  },
  {
   "cell_type": "markdown",
   "metadata": {},
   "source": [
    "Вывод: Полученное значение p-value говорит о том, что хотя средние рейтинги платформ Xbox One и PC незначительно отличаются, с вероятностью в почти 7% такое различие можно получить случайно. Это явно слишком маленькая вероятность и рейтинг платформ  PC выше, чем Xbox One и наша гипотеза подтвердилась."
   ]
  },
  {
   "cell_type": "markdown",
   "metadata": {},
   "source": [
    "Средние пользовательские рейтинги жанров Action (англ. «действие», экшен-игры) и Sports (англ. «спортивные соревнования») разные."
   ]
  },
  {
   "cell_type": "code",
   "execution_count": 57,
   "metadata": {},
   "outputs": [
    {
     "name": "stdout",
     "output_type": "stream",
     "text": [
      "Дисперсия жанра Action равна: 16.26 \n",
      "Дисперсия жанра Sports равна: 10.45 \n"
     ]
    }
   ],
   "source": [
    "user_score_action= games.query('genre == \"Action\" and user_score!=\"nan\" and year_of_release >= 2012') \n",
    "user_score_sports = games.query('genre == \"Sports\" and user_score!=\"nan\" and year_of_release >= 2012') \n",
    "var_action = np.var(user_score_action['user_score'])\n",
    "var_sports= np.var(user_score_sports['user_score'])\n",
    "print('{:} {: >5.2f} '.format('Дисперсия жанра Action равна:', var_action))\n",
    "print('{:} {: >5.2f} '.format('Дисперсия жанра Sports равна:', var_sports))"
   ]
  },
  {
   "cell_type": "markdown",
   "metadata": {},
   "source": [
    "Формулировки гипотез:\n",
    "\n",
    "H0: Средние пользовательские рейтинги жанров Action и Sports одинаковые.\n",
    "\n",
    "H1: Средние пользовательские рейтинги жанров Action и Sports разные."
   ]
  },
  {
   "cell_type": "code",
   "execution_count": 58,
   "metadata": {},
   "outputs": [
    {
     "name": "stdout",
     "output_type": "stream",
     "text": [
      "p-значение: 0.0020018209559324713\n",
      "Отвергаем нулевую гипотезу\n"
     ]
    }
   ],
   "source": [
    "alpha = .05\n",
    "\n",
    "results = st.ttest_ind(\n",
    "    user_score_action['user_score'],\n",
    "    user_score_sports['user_score'],\n",
    "    equal_var=False,  \n",
    ")\n",
    "\n",
    "print('p-значение:', results.pvalue)\n",
    "\n",
    "if (results.pvalue < alpha):\n",
    "    print(\"Отвергаем нулевую гипотезу\")\n",
    "else:\n",
    "    print(\"Не получилось отвергнуть нулевую гипотезу\")"
   ]
  },
  {
   "cell_type": "code",
   "execution_count": 59,
   "metadata": {},
   "outputs": [
    {
     "name": "stdout",
     "output_type": "stream",
     "text": [
      "Средний пользовательский рейтинг жанра Action:  2.97 \n",
      "Средний пользовательский рейтинг Sports:        3.70 \n"
     ]
    }
   ],
   "source": [
    "print('{:} {: >5.2f} '.format(\"Средний пользовательский рейтинг жанра Action:\", user_score_action['user_score'].mean() ))\n",
    "print('{:} {: >11.2f} '.format(\"Средний пользовательский рейтинг Sports:\",user_score_sports['user_score'].mean() ))"
   ]
  },
  {
   "cell_type": "markdown",
   "metadata": {},
   "source": [
    "Вывод:\n",
    "Из имеющихся данных, на уровне значимости 5% есть основания отвергнуть нулевую гипотезу о равенстве средних значений пользовательских рейтингов (отзывов) жанров Action и Sports в пользу альтернативной гипотезы.\n"
   ]
  },
  {
   "cell_type": "markdown",
   "metadata": {},
   "source": [
    "### Общий вывод"
   ]
  },
  {
   "cell_type": "markdown",
   "metadata": {},
   "source": [
    "Мы получили данные до 2016 года. Ознакомились с файлом: заметили пропуски и неверные типы данных в некоторых столбцах, обработали файл: изменили названия всех столбцов – привели всё к нижнему регистру, удалили 2 пропуска в столбцах \"Name\", \"Year_of_Release\", обнаружили некорректное значение \"tbd\" в столбце \"user_score\" заменили на пропуск, заменили пустые значения в столбцах ['user_score'] ,['critic_score'] ,['rating'] на удобное значение «0». Добавили отдельный столбе 'sum_sales' - суммарные продажи во всех регионах. Сделали замену типов данных столбцов на нужный формат.\n",
    "\n",
    "Провели исследовательский анализ: Начинается наш период с 1980 года. До 1995 года продавались тяжело игры. После 1995 года наблюдается постепенный рост продаж. Примерно с 2008 года наблюдается уже спад. Жизненный цикл одной игры - 10 лет.  Определили актуальный период с 2005 года по 2015 год, т.к. данные за 2016 год могут быть неполными. За этот период наблюдается медленный спад актуальности платформ, и только рост 2 платформ - PS4 и XOne. Выделили 10 самых популярных игр: самая первая игра PS выпустилась в 1993 году, была на пике своей популярности в 98 году, и после выхода в 2000 году новых игр PS2 и GBA выдохлась к 2003 году, PS2 и GBA ждала та же участь- всё было ничего , особенно у PS2, пока не вышли Wii,X360, PS3 и самая менее популярная из этого списка- PSP. В 2013 году вышла новая игра - PS4, которая отняла всё внимание игроманов и уже в 2015 году ей не было равных. Но можем предположить, что и её популярность будет падать.\n",
    "\n",
    "Построилиграфик «ящик с усами» по глобальным продажам игр в разбивке по платформам и выявили, что медианные значения суммарных продаж данных платформ сильно не отличаются, 3-ие квартили и максимальные значения платформ X360 и PS3, PS занимают самые высокие позиции по сравнению с остальными платформами, самый большой выброс значений и низкий 3-ий квартиль у платформы DС. В среднем продажи коррелируют больше с оценкой критиков (в случае, когда оценка критиков выше 50), нежели с оценкой пользователей.\n",
    "\n",
    "Составили портреты пользователей из каждого региона: Средне-статистический пользователь из Северной Америки пользуется, в основном, платформами X360 и PS4, предпочитает игровые жанры \"Action\" и \"Shoter\" и игры с рейтингом \"Для взрослых\".\n",
    "\n",
    "Средне-статистический пользователь из Европы предпочитает платформы PS4 и PS3, жанры \"Action\" и \"Shoter\" и игры с рейтингом \"Для взрослых\".\n",
    "\n",
    "Средне-статистический пользователь из Японии отдает своё предпочтение платформе 3DS, жанру \"Role-Playing\" и \"Action\", рейтингу \"Для всех\".\n",
    "\n",
    "Планируемая кампания на 2017-й:\n",
    "1. Так как мы заметили, что жизненный цикл игр -10 лет и по графикам, что все игры на данный момент находятся на стадии спада своей популярности. Считаем, что здесь наибольшая вероятность \"оживить\" продажу можно - платформу PS4 (дата выхода 2013). По свежести дате выхода предыдущие игры X360, PS3 уже старые.\n",
    "2. Предлагаем принять разные стратегии по повышению продаж в регионах в зависимости от актуальных параметров игр, т.е. использовать портреты средне-статистического пользователя каждого региона.Принять важное замечание, что больше половины продаж сделано в Северной Америке. \n",
    "3. Предлагаем выпустить новую игру, например, PS5 на базе платформы X360 и PS4 c жанром \"Action\" и \"Sports\", рейтингом \"Для взрослых\" и запустить продажу в Северной Америке и Европе. Для Японии выпустить больше игр на платформе 3DS, жанру Role-Playing, рейтингу \"Для всех\", но при этом использовать рекламные акции о популярных платформах в других регионах для ознакомления."
   ]
  }
 ],
 "metadata": {
  "ExecuteTimeLog": [
   {
    "duration": 522,
    "start_time": "2022-11-15T15:17:58.164Z"
   },
   {
    "duration": 25,
    "start_time": "2022-11-15T15:18:16.240Z"
   },
   {
    "duration": 51,
    "start_time": "2022-11-15T15:19:19.555Z"
   },
   {
    "duration": 17,
    "start_time": "2022-11-15T15:19:21.595Z"
   },
   {
    "duration": 3,
    "start_time": "2022-11-15T15:20:15.192Z"
   },
   {
    "duration": 15,
    "start_time": "2022-11-15T15:20:44.614Z"
   },
   {
    "duration": 15,
    "start_time": "2022-11-15T15:21:06.760Z"
   },
   {
    "duration": 18,
    "start_time": "2022-11-15T15:22:56.517Z"
   },
   {
    "duration": 75,
    "start_time": "2022-11-15T15:33:16.738Z"
   },
   {
    "duration": 14,
    "start_time": "2022-11-15T15:34:39.745Z"
   },
   {
    "duration": 11,
    "start_time": "2022-11-15T15:35:41.152Z"
   },
   {
    "duration": 14,
    "start_time": "2022-11-15T15:35:42.997Z"
   },
   {
    "duration": 21,
    "start_time": "2022-11-15T15:37:16.686Z"
   },
   {
    "duration": 7,
    "start_time": "2022-11-15T15:38:18.067Z"
   },
   {
    "duration": 8,
    "start_time": "2022-11-15T15:38:26.246Z"
   },
   {
    "duration": 8,
    "start_time": "2022-11-15T15:39:08.096Z"
   },
   {
    "duration": 8,
    "start_time": "2022-11-15T15:39:35.303Z"
   },
   {
    "duration": 53,
    "start_time": "2022-11-15T15:40:01.399Z"
   },
   {
    "duration": 1193,
    "start_time": "2022-11-15T15:40:08.794Z"
   },
   {
    "duration": 1203,
    "start_time": "2022-11-15T15:40:32.549Z"
   },
   {
    "duration": 50,
    "start_time": "2022-11-15T15:40:42.240Z"
   },
   {
    "duration": 16,
    "start_time": "2022-11-15T15:40:44.269Z"
   },
   {
    "duration": 6,
    "start_time": "2022-11-15T15:40:47.194Z"
   },
   {
    "duration": 16,
    "start_time": "2022-11-15T15:40:48.733Z"
   },
   {
    "duration": 17,
    "start_time": "2022-11-15T15:40:51.128Z"
   },
   {
    "duration": 7,
    "start_time": "2022-11-15T15:40:55.648Z"
   },
   {
    "duration": 19,
    "start_time": "2022-11-15T15:40:58.745Z"
   },
   {
    "duration": 6,
    "start_time": "2022-11-15T15:41:05.463Z"
   },
   {
    "duration": 8,
    "start_time": "2022-11-15T15:41:09.010Z"
   },
   {
    "duration": 16,
    "start_time": "2022-11-15T15:41:57.699Z"
   },
   {
    "duration": 6,
    "start_time": "2022-11-15T15:45:08.893Z"
   },
   {
    "duration": 16,
    "start_time": "2022-11-15T15:45:30.996Z"
   },
   {
    "duration": 607,
    "start_time": "2022-11-16T09:44:19.051Z"
   },
   {
    "duration": 22,
    "start_time": "2022-11-16T09:44:21.883Z"
   },
   {
    "duration": 4,
    "start_time": "2022-11-16T09:44:24.592Z"
   },
   {
    "duration": 15,
    "start_time": "2022-11-16T09:44:26.309Z"
   },
   {
    "duration": 15,
    "start_time": "2022-11-16T09:44:28.475Z"
   },
   {
    "duration": 8,
    "start_time": "2022-11-16T09:44:31.632Z"
   },
   {
    "duration": 18,
    "start_time": "2022-11-16T09:44:33.303Z"
   },
   {
    "duration": 77,
    "start_time": "2022-11-16T09:44:35.674Z"
   },
   {
    "duration": 6,
    "start_time": "2022-11-16T09:44:57.659Z"
   },
   {
    "duration": 10,
    "start_time": "2022-11-16T09:44:59.910Z"
   },
   {
    "duration": 15,
    "start_time": "2022-11-16T09:45:02.668Z"
   },
   {
    "duration": 5,
    "start_time": "2022-11-16T09:45:09.055Z"
   },
   {
    "duration": 17,
    "start_time": "2022-11-16T09:45:10.501Z"
   },
   {
    "duration": 5,
    "start_time": "2022-11-16T09:45:37.610Z"
   },
   {
    "duration": 15,
    "start_time": "2022-11-16T09:45:40.150Z"
   },
   {
    "duration": 10,
    "start_time": "2022-11-16T09:55:58.811Z"
   },
   {
    "duration": 482,
    "start_time": "2022-11-16T09:56:19.997Z"
   },
   {
    "duration": 23,
    "start_time": "2022-11-16T09:56:21.755Z"
   },
   {
    "duration": 4,
    "start_time": "2022-11-16T09:56:23.902Z"
   },
   {
    "duration": 14,
    "start_time": "2022-11-16T09:56:25.558Z"
   },
   {
    "duration": 15,
    "start_time": "2022-11-16T09:56:27.965Z"
   },
   {
    "duration": 10,
    "start_time": "2022-11-16T09:56:31.647Z"
   },
   {
    "duration": 34,
    "start_time": "2022-11-16T10:00:34.688Z"
   },
   {
    "duration": 505,
    "start_time": "2022-11-16T10:02:29.782Z"
   },
   {
    "duration": 23,
    "start_time": "2022-11-16T10:02:31.532Z"
   },
   {
    "duration": 4,
    "start_time": "2022-11-16T10:02:33.514Z"
   },
   {
    "duration": 14,
    "start_time": "2022-11-16T10:02:35.940Z"
   },
   {
    "duration": 15,
    "start_time": "2022-11-16T10:02:38.478Z"
   },
   {
    "duration": 9,
    "start_time": "2022-11-16T10:02:45.926Z"
   },
   {
    "duration": 34,
    "start_time": "2022-11-16T10:02:50.314Z"
   },
   {
    "duration": 19,
    "start_time": "2022-11-16T10:03:01.232Z"
   },
   {
    "duration": 6,
    "start_time": "2022-11-16T10:03:10.492Z"
   },
   {
    "duration": 8,
    "start_time": "2022-11-16T10:03:13.255Z"
   },
   {
    "duration": 14,
    "start_time": "2022-11-16T10:03:15.239Z"
   },
   {
    "duration": 5,
    "start_time": "2022-11-16T10:03:17.882Z"
   },
   {
    "duration": 14,
    "start_time": "2022-11-16T10:03:19.204Z"
   },
   {
    "duration": 15,
    "start_time": "2022-11-16T10:04:12.398Z"
   },
   {
    "duration": 9,
    "start_time": "2022-11-16T10:04:35.079Z"
   },
   {
    "duration": 17,
    "start_time": "2022-11-16T10:05:03.287Z"
   },
   {
    "duration": 8,
    "start_time": "2022-11-16T10:05:09.975Z"
   },
   {
    "duration": 4,
    "start_time": "2022-11-16T11:52:02.860Z"
   },
   {
    "duration": 455,
    "start_time": "2022-11-16T11:52:32.153Z"
   },
   {
    "duration": 22,
    "start_time": "2022-11-16T11:52:33.986Z"
   },
   {
    "duration": 4,
    "start_time": "2022-11-16T11:52:36.248Z"
   },
   {
    "duration": 15,
    "start_time": "2022-11-16T11:52:37.117Z"
   },
   {
    "duration": 14,
    "start_time": "2022-11-16T11:52:38.464Z"
   },
   {
    "duration": 10,
    "start_time": "2022-11-16T11:52:41.761Z"
   },
   {
    "duration": 15,
    "start_time": "2022-11-16T11:52:43.807Z"
   },
   {
    "duration": 19,
    "start_time": "2022-11-16T11:52:45.584Z"
   },
   {
    "duration": 6,
    "start_time": "2022-11-16T11:52:48.087Z"
   },
   {
    "duration": 4,
    "start_time": "2022-11-16T11:52:49.792Z"
   },
   {
    "duration": 8,
    "start_time": "2022-11-16T11:52:52.061Z"
   },
   {
    "duration": 19,
    "start_time": "2022-11-16T11:52:54.886Z"
   },
   {
    "duration": 5,
    "start_time": "2022-11-16T11:52:57.395Z"
   },
   {
    "duration": 16,
    "start_time": "2022-11-16T11:52:58.512Z"
   },
   {
    "duration": 427,
    "start_time": "2022-11-16T12:00:49.152Z"
   },
   {
    "duration": 23,
    "start_time": "2022-11-16T12:00:50.461Z"
   },
   {
    "duration": 3,
    "start_time": "2022-11-16T12:00:52.186Z"
   },
   {
    "duration": 15,
    "start_time": "2022-11-16T12:00:53.190Z"
   },
   {
    "duration": 15,
    "start_time": "2022-11-16T12:00:54.099Z"
   },
   {
    "duration": 10,
    "start_time": "2022-11-16T12:00:56.887Z"
   },
   {
    "duration": 29,
    "start_time": "2022-11-16T12:00:58.894Z"
   },
   {
    "duration": 22,
    "start_time": "2022-11-16T12:01:00.726Z"
   },
   {
    "duration": 5,
    "start_time": "2022-11-16T12:01:02.118Z"
   },
   {
    "duration": 7,
    "start_time": "2022-11-16T12:01:04.484Z"
   },
   {
    "duration": 8,
    "start_time": "2022-11-16T12:01:06.463Z"
   },
   {
    "duration": 9,
    "start_time": "2022-11-16T12:01:08.466Z"
   },
   {
    "duration": 16,
    "start_time": "2022-11-16T12:01:10.112Z"
   },
   {
    "duration": 6,
    "start_time": "2022-11-16T12:01:12.399Z"
   },
   {
    "duration": 17,
    "start_time": "2022-11-16T12:01:13.334Z"
   },
   {
    "duration": 15,
    "start_time": "2022-11-16T12:01:14.248Z"
   },
   {
    "duration": 10,
    "start_time": "2022-11-16T12:01:15.486Z"
   },
   {
    "duration": 731,
    "start_time": "2022-11-16T12:56:55.719Z"
   },
   {
    "duration": 561,
    "start_time": "2022-11-16T12:57:44.104Z"
   },
   {
    "duration": 249,
    "start_time": "2022-11-16T12:57:49.950Z"
   },
   {
    "duration": 264,
    "start_time": "2022-11-16T12:58:42.403Z"
   },
   {
    "duration": 283,
    "start_time": "2022-11-16T13:00:10.104Z"
   },
   {
    "duration": 327,
    "start_time": "2022-11-16T13:01:00.885Z"
   },
   {
    "duration": 11,
    "start_time": "2022-11-16T13:09:54.388Z"
   },
   {
    "duration": 312,
    "start_time": "2022-11-16T13:10:45.289Z"
   },
   {
    "duration": 61,
    "start_time": "2022-11-16T13:15:21.747Z"
   },
   {
    "duration": 270,
    "start_time": "2022-11-16T13:15:54.406Z"
   },
   {
    "duration": 39,
    "start_time": "2022-11-16T13:24:45.216Z"
   },
   {
    "duration": 62,
    "start_time": "2022-11-16T13:25:07.944Z"
   },
   {
    "duration": 424,
    "start_time": "2022-11-16T13:25:56.170Z"
   },
   {
    "duration": 18,
    "start_time": "2022-11-16T14:03:50.473Z"
   },
   {
    "duration": 13,
    "start_time": "2022-11-16T14:04:43.253Z"
   },
   {
    "duration": 19,
    "start_time": "2022-11-16T14:05:14.307Z"
   },
   {
    "duration": 17,
    "start_time": "2022-11-16T14:05:21.876Z"
   },
   {
    "duration": 33,
    "start_time": "2022-11-16T14:19:34.113Z"
   },
   {
    "duration": 21,
    "start_time": "2022-11-16T14:20:39.400Z"
   },
   {
    "duration": 500,
    "start_time": "2022-11-16T14:21:56.611Z"
   },
   {
    "duration": 21,
    "start_time": "2022-11-16T14:21:57.500Z"
   },
   {
    "duration": 3,
    "start_time": "2022-11-16T14:21:59.757Z"
   },
   {
    "duration": 16,
    "start_time": "2022-11-16T14:22:00.303Z"
   },
   {
    "duration": 23,
    "start_time": "2022-11-16T14:22:00.908Z"
   },
   {
    "duration": 10,
    "start_time": "2022-11-16T14:22:02.596Z"
   },
   {
    "duration": 17,
    "start_time": "2022-11-16T14:22:03.676Z"
   },
   {
    "duration": 20,
    "start_time": "2022-11-16T14:22:04.688Z"
   },
   {
    "duration": 6,
    "start_time": "2022-11-16T14:22:05.203Z"
   },
   {
    "duration": 6,
    "start_time": "2022-11-16T14:22:06.291Z"
   },
   {
    "duration": 5,
    "start_time": "2022-11-16T14:22:07.264Z"
   },
   {
    "duration": 6,
    "start_time": "2022-11-16T14:22:08.274Z"
   },
   {
    "duration": 16,
    "start_time": "2022-11-16T14:22:08.776Z"
   },
   {
    "duration": 5,
    "start_time": "2022-11-16T14:22:09.898Z"
   },
   {
    "duration": 15,
    "start_time": "2022-11-16T14:22:10.552Z"
   },
   {
    "duration": 15,
    "start_time": "2022-11-16T14:22:11.173Z"
   },
   {
    "duration": 9,
    "start_time": "2022-11-16T14:22:11.780Z"
   },
   {
    "duration": 785,
    "start_time": "2022-11-16T14:22:13.905Z"
   },
   {
    "duration": 267,
    "start_time": "2022-11-16T14:22:15.154Z"
   },
   {
    "duration": 11,
    "start_time": "2022-11-16T14:22:18.082Z"
   },
   {
    "duration": 317,
    "start_time": "2022-11-16T14:22:19.523Z"
   },
   {
    "duration": 296,
    "start_time": "2022-11-16T14:22:22.344Z"
   },
   {
    "duration": 420,
    "start_time": "2022-11-16T14:22:26.132Z"
   },
   {
    "duration": 19,
    "start_time": "2022-11-16T14:22:29.920Z"
   },
   {
    "duration": 118,
    "start_time": "2022-11-16T14:22:32.709Z"
   },
   {
    "duration": 20,
    "start_time": "2022-11-16T14:23:43.434Z"
   },
   {
    "duration": 47,
    "start_time": "2022-11-16T14:25:07.261Z"
   },
   {
    "duration": 21,
    "start_time": "2022-11-16T14:25:50.243Z"
   },
   {
    "duration": 23,
    "start_time": "2022-11-16T14:27:21.022Z"
   },
   {
    "duration": 23,
    "start_time": "2022-11-16T14:28:04.195Z"
   },
   {
    "duration": 82,
    "start_time": "2022-11-16T14:30:16.214Z"
   },
   {
    "duration": 2,
    "start_time": "2022-11-16T14:31:23.643Z"
   },
   {
    "duration": 77,
    "start_time": "2022-11-16T14:31:37.087Z"
   },
   {
    "duration": 45,
    "start_time": "2022-11-16T14:39:34.240Z"
   },
   {
    "duration": 468,
    "start_time": "2022-11-16T14:40:12.107Z"
   },
   {
    "duration": 23,
    "start_time": "2022-11-16T14:40:12.948Z"
   },
   {
    "duration": 4,
    "start_time": "2022-11-16T14:40:14.453Z"
   },
   {
    "duration": 14,
    "start_time": "2022-11-16T14:40:14.905Z"
   },
   {
    "duration": 15,
    "start_time": "2022-11-16T14:40:15.444Z"
   },
   {
    "duration": 9,
    "start_time": "2022-11-16T14:40:16.808Z"
   },
   {
    "duration": 15,
    "start_time": "2022-11-16T14:40:17.702Z"
   },
   {
    "duration": 18,
    "start_time": "2022-11-16T14:40:18.590Z"
   },
   {
    "duration": 6,
    "start_time": "2022-11-16T14:40:19.017Z"
   },
   {
    "duration": 5,
    "start_time": "2022-11-16T14:40:19.818Z"
   },
   {
    "duration": 4,
    "start_time": "2022-11-16T14:40:20.649Z"
   },
   {
    "duration": 7,
    "start_time": "2022-11-16T14:40:21.488Z"
   },
   {
    "duration": 15,
    "start_time": "2022-11-16T14:40:21.900Z"
   },
   {
    "duration": 5,
    "start_time": "2022-11-16T14:40:22.758Z"
   },
   {
    "duration": 14,
    "start_time": "2022-11-16T14:40:23.207Z"
   },
   {
    "duration": 13,
    "start_time": "2022-11-16T14:40:23.633Z"
   },
   {
    "duration": 9,
    "start_time": "2022-11-16T14:40:24.083Z"
   },
   {
    "duration": 780,
    "start_time": "2022-11-16T14:40:25.886Z"
   },
   {
    "duration": 278,
    "start_time": "2022-11-16T14:40:26.697Z"
   },
   {
    "duration": 11,
    "start_time": "2022-11-16T14:40:28.321Z"
   },
   {
    "duration": 305,
    "start_time": "2022-11-16T14:40:28.978Z"
   },
   {
    "duration": 268,
    "start_time": "2022-11-16T14:40:30.248Z"
   },
   {
    "duration": 372,
    "start_time": "2022-11-16T14:40:32.027Z"
   },
   {
    "duration": 17,
    "start_time": "2022-11-16T14:40:33.284Z"
   },
   {
    "duration": 43,
    "start_time": "2022-11-16T14:40:37.791Z"
   },
   {
    "duration": 181,
    "start_time": "2022-11-16T14:42:10.844Z"
   },
   {
    "duration": 173,
    "start_time": "2022-11-16T14:42:32.778Z"
   },
   {
    "duration": 500,
    "start_time": "2022-11-16T14:43:03.874Z"
   },
   {
    "duration": 440,
    "start_time": "2022-11-16T14:45:25.927Z"
   },
   {
    "duration": 397,
    "start_time": "2022-11-16T14:45:37.988Z"
   },
   {
    "duration": 12,
    "start_time": "2022-11-16T15:05:46.917Z"
   },
   {
    "duration": 201,
    "start_time": "2022-11-16T15:06:34.531Z"
   },
   {
    "duration": 191,
    "start_time": "2022-11-16T15:06:57.782Z"
   },
   {
    "duration": 13,
    "start_time": "2022-11-16T15:10:45.923Z"
   },
   {
    "duration": 193,
    "start_time": "2022-11-16T15:11:25.942Z"
   },
   {
    "duration": 106,
    "start_time": "2022-11-16T15:15:32.499Z"
   },
   {
    "duration": 13,
    "start_time": "2022-11-16T15:15:42.096Z"
   },
   {
    "duration": 13,
    "start_time": "2022-11-16T15:16:44.587Z"
   },
   {
    "duration": 15,
    "start_time": "2022-11-16T15:18:07.212Z"
   },
   {
    "duration": 13,
    "start_time": "2022-11-16T15:18:29.453Z"
   },
   {
    "duration": 321,
    "start_time": "2022-11-16T15:19:43.909Z"
   },
   {
    "duration": 14,
    "start_time": "2022-11-16T15:22:27.831Z"
   },
   {
    "duration": 326,
    "start_time": "2022-11-16T15:23:23.508Z"
   },
   {
    "duration": 33,
    "start_time": "2022-11-16T15:26:34.255Z"
   },
   {
    "duration": 297,
    "start_time": "2022-11-16T15:26:58.487Z"
   },
   {
    "duration": 10,
    "start_time": "2022-11-16T15:30:15.748Z"
   },
   {
    "duration": 460,
    "start_time": "2022-11-16T15:30:37.682Z"
   },
   {
    "duration": 382,
    "start_time": "2022-11-16T15:32:42.307Z"
   },
   {
    "duration": 8,
    "start_time": "2022-11-16T15:34:05.831Z"
   },
   {
    "duration": 6,
    "start_time": "2022-11-16T15:34:14.876Z"
   },
   {
    "duration": 4,
    "start_time": "2022-11-16T15:34:40.612Z"
   },
   {
    "duration": 11,
    "start_time": "2022-11-16T15:35:20.134Z"
   },
   {
    "duration": 378,
    "start_time": "2022-11-16T15:35:44.395Z"
   },
   {
    "duration": 20,
    "start_time": "2022-11-16T15:37:46.416Z"
   },
   {
    "duration": 10,
    "start_time": "2022-11-16T15:38:59.746Z"
   },
   {
    "duration": 2,
    "start_time": "2022-11-16T15:39:41.461Z"
   },
   {
    "duration": 6,
    "start_time": "2022-11-16T15:39:46.337Z"
   },
   {
    "duration": 5,
    "start_time": "2022-11-16T15:40:27.150Z"
   },
   {
    "duration": 17,
    "start_time": "2022-11-16T15:50:33.282Z"
   },
   {
    "duration": 20,
    "start_time": "2022-11-16T15:51:47.560Z"
   },
   {
    "duration": 513,
    "start_time": "2022-11-16T15:55:29.996Z"
   },
   {
    "duration": 23,
    "start_time": "2022-11-16T15:55:31.278Z"
   },
   {
    "duration": 4,
    "start_time": "2022-11-16T15:55:34.141Z"
   },
   {
    "duration": 24,
    "start_time": "2022-11-16T15:55:34.923Z"
   },
   {
    "duration": 16,
    "start_time": "2022-11-16T15:55:35.881Z"
   },
   {
    "duration": 11,
    "start_time": "2022-11-16T15:55:38.267Z"
   },
   {
    "duration": 17,
    "start_time": "2022-11-16T15:55:39.737Z"
   },
   {
    "duration": 30,
    "start_time": "2022-11-16T15:55:41.175Z"
   },
   {
    "duration": 6,
    "start_time": "2022-11-16T15:55:41.827Z"
   },
   {
    "duration": 5,
    "start_time": "2022-11-16T15:55:43.199Z"
   },
   {
    "duration": 5,
    "start_time": "2022-11-16T15:55:44.480Z"
   },
   {
    "duration": 7,
    "start_time": "2022-11-16T15:55:45.790Z"
   },
   {
    "duration": 15,
    "start_time": "2022-11-16T15:55:47.088Z"
   },
   {
    "duration": 6,
    "start_time": "2022-11-16T15:55:50.670Z"
   },
   {
    "duration": 22,
    "start_time": "2022-11-16T15:55:51.525Z"
   },
   {
    "duration": 17,
    "start_time": "2022-11-16T15:55:53.683Z"
   },
   {
    "duration": 10,
    "start_time": "2022-11-16T15:56:20.379Z"
   },
   {
    "duration": 799,
    "start_time": "2022-11-16T15:56:23.913Z"
   },
   {
    "duration": 268,
    "start_time": "2022-11-16T15:56:25.041Z"
   },
   {
    "duration": 12,
    "start_time": "2022-11-16T15:56:51.336Z"
   },
   {
    "duration": 341,
    "start_time": "2022-11-16T15:56:53.923Z"
   },
   {
    "duration": 281,
    "start_time": "2022-11-16T15:57:14.687Z"
   },
   {
    "duration": 387,
    "start_time": "2022-11-16T15:57:32.017Z"
   },
   {
    "duration": 18,
    "start_time": "2022-11-16T15:57:43.234Z"
   },
   {
    "duration": 428,
    "start_time": "2022-11-16T15:57:51.836Z"
   },
   {
    "duration": 17,
    "start_time": "2022-11-16T15:58:06.591Z"
   },
   {
    "duration": 201,
    "start_time": "2022-11-16T15:58:19.531Z"
   },
   {
    "duration": 13,
    "start_time": "2022-11-16T15:58:38.085Z"
   },
   {
    "duration": 303,
    "start_time": "2022-11-16T15:58:58.446Z"
   },
   {
    "duration": 17,
    "start_time": "2022-11-16T15:59:15.011Z"
   },
   {
    "duration": 359,
    "start_time": "2022-11-16T15:59:34.642Z"
   },
   {
    "duration": 15,
    "start_time": "2022-11-16T15:59:45.745Z"
   },
   {
    "duration": 360,
    "start_time": "2022-11-16T16:00:42.084Z"
   },
   {
    "duration": 30,
    "start_time": "2022-11-16T16:00:58.521Z"
   },
   {
    "duration": 332,
    "start_time": "2022-11-16T16:01:08.240Z"
   },
   {
    "duration": 9,
    "start_time": "2022-11-16T16:01:26.431Z"
   },
   {
    "duration": 360,
    "start_time": "2022-11-16T16:01:41.029Z"
   },
   {
    "duration": 361,
    "start_time": "2022-11-16T16:01:52.539Z"
   },
   {
    "duration": 6,
    "start_time": "2022-11-16T16:02:05.879Z"
   },
   {
    "duration": 5,
    "start_time": "2022-11-16T16:02:12.017Z"
   },
   {
    "duration": 111,
    "start_time": "2022-11-16T16:02:24.937Z"
   },
   {
    "duration": 12,
    "start_time": "2022-11-16T16:02:34.897Z"
   },
   {
    "duration": 469,
    "start_time": "2022-11-16T16:02:51.487Z"
   },
   {
    "duration": 3,
    "start_time": "2022-11-16T16:02:59.308Z"
   },
   {
    "duration": 17,
    "start_time": "2022-11-16T16:03:14.415Z"
   },
   {
    "duration": 6,
    "start_time": "2022-11-16T16:03:24.898Z"
   },
   {
    "duration": 5,
    "start_time": "2022-11-16T16:03:31.042Z"
   },
   {
    "duration": 10,
    "start_time": "2022-11-16T16:03:36.042Z"
   },
   {
    "duration": 21,
    "start_time": "2022-11-16T16:03:46.450Z"
   },
   {
    "duration": 439,
    "start_time": "2022-11-16T16:32:57.773Z"
   },
   {
    "duration": 20,
    "start_time": "2022-11-16T16:32:58.215Z"
   },
   {
    "duration": 3,
    "start_time": "2022-11-16T16:32:58.237Z"
   },
   {
    "duration": 16,
    "start_time": "2022-11-16T16:32:58.241Z"
   },
   {
    "duration": 15,
    "start_time": "2022-11-16T16:32:58.259Z"
   },
   {
    "duration": 9,
    "start_time": "2022-11-16T16:32:58.275Z"
   },
   {
    "duration": 15,
    "start_time": "2022-11-16T16:32:58.285Z"
   },
   {
    "duration": 40,
    "start_time": "2022-11-16T16:32:58.301Z"
   },
   {
    "duration": 7,
    "start_time": "2022-11-16T16:32:58.343Z"
   },
   {
    "duration": 7,
    "start_time": "2022-11-16T16:32:58.352Z"
   },
   {
    "duration": 5,
    "start_time": "2022-11-16T16:32:58.360Z"
   },
   {
    "duration": 15,
    "start_time": "2022-11-16T16:32:58.367Z"
   },
   {
    "duration": 15,
    "start_time": "2022-11-16T16:32:58.384Z"
   },
   {
    "duration": 5,
    "start_time": "2022-11-16T16:32:58.403Z"
   },
   {
    "duration": 41,
    "start_time": "2022-11-16T16:32:58.410Z"
   },
   {
    "duration": 18,
    "start_time": "2022-11-16T16:32:58.453Z"
   },
   {
    "duration": 10,
    "start_time": "2022-11-16T16:32:58.473Z"
   },
   {
    "duration": 864,
    "start_time": "2022-11-16T16:32:58.485Z"
   },
   {
    "duration": 355,
    "start_time": "2022-11-16T16:32:59.351Z"
   },
   {
    "duration": 14,
    "start_time": "2022-11-16T16:32:59.708Z"
   },
   {
    "duration": 339,
    "start_time": "2022-11-16T16:32:59.724Z"
   },
   {
    "duration": 278,
    "start_time": "2022-11-16T16:33:00.065Z"
   },
   {
    "duration": 395,
    "start_time": "2022-11-16T16:33:00.345Z"
   },
   {
    "duration": 16,
    "start_time": "2022-11-16T16:33:00.742Z"
   },
   {
    "duration": 426,
    "start_time": "2022-11-16T16:33:00.760Z"
   },
   {
    "duration": 14,
    "start_time": "2022-11-16T16:33:01.187Z"
   },
   {
    "duration": 218,
    "start_time": "2022-11-16T16:33:01.202Z"
   },
   {
    "duration": 24,
    "start_time": "2022-11-16T16:33:01.422Z"
   },
   {
    "duration": 289,
    "start_time": "2022-11-16T16:33:01.448Z"
   },
   {
    "duration": 13,
    "start_time": "2022-11-16T16:33:01.739Z"
   },
   {
    "duration": 352,
    "start_time": "2022-11-16T16:33:01.754Z"
   },
   {
    "duration": 13,
    "start_time": "2022-11-16T16:33:02.108Z"
   },
   {
    "duration": 350,
    "start_time": "2022-11-16T16:33:02.137Z"
   },
   {
    "duration": 31,
    "start_time": "2022-11-16T16:33:02.488Z"
   },
   {
    "duration": 346,
    "start_time": "2022-11-16T16:33:02.520Z"
   },
   {
    "duration": 9,
    "start_time": "2022-11-16T16:33:02.867Z"
   },
   {
    "duration": 385,
    "start_time": "2022-11-16T16:33:02.878Z"
   },
   {
    "duration": 417,
    "start_time": "2022-11-16T16:33:03.265Z"
   },
   {
    "duration": 6,
    "start_time": "2022-11-16T16:33:03.683Z"
   },
   {
    "duration": 12,
    "start_time": "2022-11-16T16:33:03.691Z"
   },
   {
    "duration": 32,
    "start_time": "2022-11-16T16:33:03.707Z"
   },
   {
    "duration": 483,
    "start_time": "2022-11-16T16:33:03.740Z"
   },
   {
    "duration": 13,
    "start_time": "2022-11-16T16:33:04.225Z"
   },
   {
    "duration": 18,
    "start_time": "2022-11-16T16:33:04.239Z"
   },
   {
    "duration": 5,
    "start_time": "2022-11-16T16:33:04.259Z"
   },
   {
    "duration": 11,
    "start_time": "2022-11-16T16:33:04.266Z"
   },
   {
    "duration": 18,
    "start_time": "2022-11-16T16:33:04.279Z"
   },
   {
    "duration": 467,
    "start_time": "2022-11-16T18:51:34.939Z"
   },
   {
    "duration": 22,
    "start_time": "2022-11-16T18:51:35.409Z"
   },
   {
    "duration": 4,
    "start_time": "2022-11-16T18:51:35.432Z"
   },
   {
    "duration": 16,
    "start_time": "2022-11-16T18:51:35.438Z"
   },
   {
    "duration": 15,
    "start_time": "2022-11-16T18:51:35.456Z"
   },
   {
    "duration": 8,
    "start_time": "2022-11-16T18:51:35.473Z"
   },
   {
    "duration": 17,
    "start_time": "2022-11-16T18:51:35.483Z"
   },
   {
    "duration": 39,
    "start_time": "2022-11-16T18:51:35.502Z"
   },
   {
    "duration": 9,
    "start_time": "2022-11-16T18:51:35.543Z"
   },
   {
    "duration": 6,
    "start_time": "2022-11-16T18:51:35.555Z"
   },
   {
    "duration": 7,
    "start_time": "2022-11-16T18:51:35.562Z"
   },
   {
    "duration": 10,
    "start_time": "2022-11-16T18:51:35.571Z"
   },
   {
    "duration": 17,
    "start_time": "2022-11-16T18:51:35.583Z"
   },
   {
    "duration": 5,
    "start_time": "2022-11-16T18:51:35.602Z"
   },
   {
    "duration": 40,
    "start_time": "2022-11-16T18:51:35.609Z"
   },
   {
    "duration": 14,
    "start_time": "2022-11-16T18:51:35.650Z"
   },
   {
    "duration": 10,
    "start_time": "2022-11-16T18:51:35.665Z"
   },
   {
    "duration": 812,
    "start_time": "2022-11-16T18:51:35.676Z"
   },
   {
    "duration": 262,
    "start_time": "2022-11-16T18:51:36.490Z"
   },
   {
    "duration": 11,
    "start_time": "2022-11-16T18:51:36.753Z"
   },
   {
    "duration": 319,
    "start_time": "2022-11-16T18:51:36.765Z"
   },
   {
    "duration": 290,
    "start_time": "2022-11-16T18:51:37.086Z"
   },
   {
    "duration": 362,
    "start_time": "2022-11-16T18:51:37.378Z"
   },
   {
    "duration": 17,
    "start_time": "2022-11-16T18:51:37.742Z"
   },
   {
    "duration": 402,
    "start_time": "2022-11-16T18:51:37.760Z"
   },
   {
    "duration": 13,
    "start_time": "2022-11-16T18:51:38.165Z"
   },
   {
    "duration": 209,
    "start_time": "2022-11-16T18:51:38.179Z"
   },
   {
    "duration": 11,
    "start_time": "2022-11-16T18:51:38.391Z"
   },
   {
    "duration": 275,
    "start_time": "2022-11-16T18:51:38.404Z"
   },
   {
    "duration": 13,
    "start_time": "2022-11-16T18:51:38.680Z"
   },
   {
    "duration": 391,
    "start_time": "2022-11-16T18:51:38.695Z"
   },
   {
    "duration": 13,
    "start_time": "2022-11-16T18:51:39.088Z"
   },
   {
    "duration": 336,
    "start_time": "2022-11-16T18:51:39.103Z"
   },
   {
    "duration": 29,
    "start_time": "2022-11-16T18:51:39.441Z"
   },
   {
    "duration": 312,
    "start_time": "2022-11-16T18:51:39.471Z"
   },
   {
    "duration": 9,
    "start_time": "2022-11-16T18:51:39.785Z"
   },
   {
    "duration": 369,
    "start_time": "2022-11-16T18:51:39.796Z"
   },
   {
    "duration": 364,
    "start_time": "2022-11-16T18:51:40.167Z"
   },
   {
    "duration": 7,
    "start_time": "2022-11-16T18:51:40.532Z"
   },
   {
    "duration": 6,
    "start_time": "2022-11-16T18:51:40.541Z"
   },
   {
    "duration": 12,
    "start_time": "2022-11-16T18:51:40.549Z"
   },
   {
    "duration": 447,
    "start_time": "2022-11-16T18:51:40.563Z"
   },
   {
    "duration": 3,
    "start_time": "2022-11-16T18:51:41.011Z"
   },
   {
    "duration": 29,
    "start_time": "2022-11-16T18:51:41.015Z"
   },
   {
    "duration": 5,
    "start_time": "2022-11-16T18:51:41.046Z"
   },
   {
    "duration": 6,
    "start_time": "2022-11-16T18:51:41.052Z"
   },
   {
    "duration": 16,
    "start_time": "2022-11-16T18:51:41.060Z"
   },
   {
    "duration": 125,
    "start_time": "2022-11-16T19:20:15.830Z"
   },
   {
    "duration": 420,
    "start_time": "2022-11-16T19:20:27.493Z"
   },
   {
    "duration": 23,
    "start_time": "2022-11-16T19:20:27.915Z"
   },
   {
    "duration": 3,
    "start_time": "2022-11-16T19:20:27.940Z"
   },
   {
    "duration": 23,
    "start_time": "2022-11-16T19:20:27.945Z"
   },
   {
    "duration": 19,
    "start_time": "2022-11-16T19:20:27.970Z"
   },
   {
    "duration": 10,
    "start_time": "2022-11-16T19:20:27.991Z"
   },
   {
    "duration": 37,
    "start_time": "2022-11-16T19:20:28.003Z"
   },
   {
    "duration": 19,
    "start_time": "2022-11-16T19:20:28.042Z"
   },
   {
    "duration": 11,
    "start_time": "2022-11-16T19:20:28.063Z"
   },
   {
    "duration": 7,
    "start_time": "2022-11-16T19:20:28.077Z"
   },
   {
    "duration": 5,
    "start_time": "2022-11-16T19:20:28.086Z"
   },
   {
    "duration": 10,
    "start_time": "2022-11-16T19:20:28.092Z"
   },
   {
    "duration": 36,
    "start_time": "2022-11-16T19:20:28.104Z"
   },
   {
    "duration": 6,
    "start_time": "2022-11-16T19:20:28.141Z"
   },
   {
    "duration": 21,
    "start_time": "2022-11-16T19:20:28.149Z"
   },
   {
    "duration": 22,
    "start_time": "2022-11-16T19:20:28.172Z"
   },
   {
    "duration": 10,
    "start_time": "2022-11-16T19:20:28.196Z"
   },
   {
    "duration": 132,
    "start_time": "2022-11-16T19:20:28.207Z"
   },
   {
    "duration": 799,
    "start_time": "2022-11-16T19:20:28.341Z"
   },
   {
    "duration": 255,
    "start_time": "2022-11-16T19:20:29.142Z"
   },
   {
    "duration": 10,
    "start_time": "2022-11-16T19:20:29.398Z"
   },
   {
    "duration": 316,
    "start_time": "2022-11-16T19:20:29.410Z"
   },
   {
    "duration": 260,
    "start_time": "2022-11-16T19:20:29.728Z"
   },
   {
    "duration": 362,
    "start_time": "2022-11-16T19:20:29.990Z"
   },
   {
    "duration": 17,
    "start_time": "2022-11-16T19:20:30.354Z"
   },
   {
    "duration": 435,
    "start_time": "2022-11-16T19:20:30.374Z"
   },
   {
    "duration": 13,
    "start_time": "2022-11-16T19:20:30.811Z"
   },
   {
    "duration": 201,
    "start_time": "2022-11-16T19:20:30.840Z"
   },
   {
    "duration": 14,
    "start_time": "2022-11-16T19:20:31.043Z"
   },
   {
    "duration": 283,
    "start_time": "2022-11-16T19:20:31.059Z"
   },
   {
    "duration": 13,
    "start_time": "2022-11-16T19:20:31.344Z"
   },
   {
    "duration": 347,
    "start_time": "2022-11-16T19:20:31.359Z"
   },
   {
    "duration": 13,
    "start_time": "2022-11-16T19:20:31.708Z"
   },
   {
    "duration": 333,
    "start_time": "2022-11-16T19:20:31.723Z"
   },
   {
    "duration": 29,
    "start_time": "2022-11-16T19:20:32.058Z"
   },
   {
    "duration": 328,
    "start_time": "2022-11-16T19:20:32.089Z"
   },
   {
    "duration": 19,
    "start_time": "2022-11-16T19:20:32.418Z"
   },
   {
    "duration": 369,
    "start_time": "2022-11-16T19:20:32.439Z"
   },
   {
    "duration": 370,
    "start_time": "2022-11-16T19:20:32.810Z"
   },
   {
    "duration": 6,
    "start_time": "2022-11-16T19:20:33.181Z"
   },
   {
    "duration": 9,
    "start_time": "2022-11-16T19:20:33.188Z"
   },
   {
    "duration": 16,
    "start_time": "2022-11-16T19:20:33.199Z"
   },
   {
    "duration": 485,
    "start_time": "2022-11-16T19:20:33.218Z"
   },
   {
    "duration": 2,
    "start_time": "2022-11-16T19:20:33.705Z"
   },
   {
    "duration": 32,
    "start_time": "2022-11-16T19:20:33.709Z"
   },
   {
    "duration": 6,
    "start_time": "2022-11-16T19:20:33.743Z"
   },
   {
    "duration": 6,
    "start_time": "2022-11-16T19:20:33.750Z"
   },
   {
    "duration": 18,
    "start_time": "2022-11-16T19:20:33.758Z"
   },
   {
    "duration": 438,
    "start_time": "2022-11-17T14:44:40.769Z"
   },
   {
    "duration": 117,
    "start_time": "2022-11-17T14:44:41.982Z"
   },
   {
    "duration": 22,
    "start_time": "2022-11-17T14:44:44.060Z"
   },
   {
    "duration": 3,
    "start_time": "2022-11-17T14:44:47.854Z"
   },
   {
    "duration": 15,
    "start_time": "2022-11-17T14:44:50.434Z"
   },
   {
    "duration": 15,
    "start_time": "2022-11-17T14:44:52.184Z"
   },
   {
    "duration": 18,
    "start_time": "2022-11-17T14:44:55.897Z"
   },
   {
    "duration": 10,
    "start_time": "2022-11-17T14:45:20.074Z"
   },
   {
    "duration": 21,
    "start_time": "2022-11-17T14:45:29.973Z"
   },
   {
    "duration": 21,
    "start_time": "2022-11-17T14:45:34.247Z"
   },
   {
    "duration": 7,
    "start_time": "2022-11-17T14:45:36.440Z"
   },
   {
    "duration": 7,
    "start_time": "2022-11-17T14:46:44.456Z"
   },
   {
    "duration": 5,
    "start_time": "2022-11-17T14:51:40.553Z"
   },
   {
    "duration": 5,
    "start_time": "2022-11-17T14:51:46.215Z"
   },
   {
    "duration": 8,
    "start_time": "2022-11-17T14:51:48.945Z"
   },
   {
    "duration": 19,
    "start_time": "2022-11-17T14:51:50.450Z"
   },
   {
    "duration": 3,
    "start_time": "2022-11-17T14:51:54.757Z"
   },
   {
    "duration": 7,
    "start_time": "2022-11-17T14:52:00.291Z"
   },
   {
    "duration": 15,
    "start_time": "2022-11-17T14:52:04.029Z"
   },
   {
    "duration": 15,
    "start_time": "2022-11-17T14:52:22.093Z"
   },
   {
    "duration": 10,
    "start_time": "2022-11-17T14:52:29.279Z"
   },
   {
    "duration": 6,
    "start_time": "2022-11-17T15:08:08.806Z"
   },
   {
    "duration": 14,
    "start_time": "2022-11-17T15:08:10.579Z"
   },
   {
    "duration": 14,
    "start_time": "2022-11-17T15:08:12.031Z"
   },
   {
    "duration": 9,
    "start_time": "2022-11-17T15:08:13.568Z"
   },
   {
    "duration": 103,
    "start_time": "2022-11-17T15:08:17.662Z"
   },
   {
    "duration": 964,
    "start_time": "2022-11-17T15:08:24.015Z"
   },
   {
    "duration": 135,
    "start_time": "2022-11-17T15:11:35.015Z"
   },
   {
    "duration": 263,
    "start_time": "2022-11-17T15:12:03.270Z"
   },
   {
    "duration": 174,
    "start_time": "2022-11-17T15:12:16.261Z"
   },
   {
    "duration": 219,
    "start_time": "2022-11-17T15:12:27.154Z"
   },
   {
    "duration": 233,
    "start_time": "2022-11-17T15:12:40.862Z"
   },
   {
    "duration": 232,
    "start_time": "2022-11-17T15:12:57.980Z"
   },
   {
    "duration": 250,
    "start_time": "2022-11-17T15:13:05.828Z"
   },
   {
    "duration": 224,
    "start_time": "2022-11-17T15:13:15.733Z"
   },
   {
    "duration": 314,
    "start_time": "2022-11-17T15:13:20.821Z"
   },
   {
    "duration": 222,
    "start_time": "2022-11-17T15:13:33.371Z"
   },
   {
    "duration": 113,
    "start_time": "2022-11-17T15:14:11.652Z"
   },
   {
    "duration": 12,
    "start_time": "2022-11-17T15:14:19.269Z"
   },
   {
    "duration": 338,
    "start_time": "2022-11-17T15:14:20.668Z"
   },
   {
    "duration": 335,
    "start_time": "2022-11-17T15:16:00.322Z"
   },
   {
    "duration": 380,
    "start_time": "2022-11-17T15:18:14.033Z"
   },
   {
    "duration": 18,
    "start_time": "2022-11-17T15:18:49.511Z"
   },
   {
    "duration": 12,
    "start_time": "2022-11-17T15:19:06.631Z"
   },
   {
    "duration": 323,
    "start_time": "2022-11-17T15:19:18.023Z"
   },
   {
    "duration": 14,
    "start_time": "2022-11-17T15:24:55.193Z"
   },
   {
    "duration": 230,
    "start_time": "2022-11-17T15:25:00.425Z"
   },
   {
    "duration": 18,
    "start_time": "2022-11-17T15:26:38.804Z"
   },
   {
    "duration": 183,
    "start_time": "2022-11-17T15:26:44.311Z"
   },
   {
    "duration": 16,
    "start_time": "2022-11-17T15:27:44.182Z"
   },
   {
    "duration": 299,
    "start_time": "2022-11-17T15:27:46.272Z"
   },
   {
    "duration": 2,
    "start_time": "2022-11-17T15:44:41.905Z"
   },
   {
    "duration": 13,
    "start_time": "2022-11-17T15:49:50.973Z"
   },
   {
    "duration": 184,
    "start_time": "2022-11-17T15:49:54.279Z"
   },
   {
    "duration": 3,
    "start_time": "2022-11-17T15:52:16.123Z"
   },
   {
    "duration": 3,
    "start_time": "2022-11-17T15:52:24.246Z"
   },
   {
    "duration": 245,
    "start_time": "2022-11-17T15:52:25.606Z"
   },
   {
    "duration": 14,
    "start_time": "2022-11-17T15:52:34.788Z"
   },
   {
    "duration": 372,
    "start_time": "2022-11-17T15:52:35.906Z"
   },
   {
    "duration": 266,
    "start_time": "2022-11-17T15:52:40.982Z"
   },
   {
    "duration": 365,
    "start_time": "2022-11-17T15:52:46.057Z"
   },
   {
    "duration": 24,
    "start_time": "2022-11-17T15:52:50.028Z"
   },
   {
    "duration": 307,
    "start_time": "2022-11-17T15:52:53.393Z"
   },
   {
    "duration": 13,
    "start_time": "2022-11-17T15:52:58.766Z"
   },
   {
    "duration": 186,
    "start_time": "2022-11-17T15:53:01.089Z"
   },
   {
    "duration": 200,
    "start_time": "2022-11-17T15:53:26.860Z"
   },
   {
    "duration": 13,
    "start_time": "2022-11-17T15:57:50.956Z"
   },
   {
    "duration": 186,
    "start_time": "2022-11-17T15:57:55.747Z"
   },
   {
    "duration": 14,
    "start_time": "2022-11-17T16:00:00.044Z"
   },
   {
    "duration": 320,
    "start_time": "2022-11-17T16:00:03.227Z"
   },
   {
    "duration": 16,
    "start_time": "2022-11-17T16:00:37.247Z"
   },
   {
    "duration": 221,
    "start_time": "2022-11-17T16:00:38.780Z"
   },
   {
    "duration": 11,
    "start_time": "2022-11-17T16:03:00.354Z"
   },
   {
    "duration": 15,
    "start_time": "2022-11-17T16:04:28.207Z"
   },
   {
    "duration": 12,
    "start_time": "2022-11-17T16:04:49.460Z"
   },
   {
    "duration": 14,
    "start_time": "2022-11-17T16:05:04.443Z"
   },
   {
    "duration": 220,
    "start_time": "2022-11-17T16:05:19.999Z"
   },
   {
    "duration": 413,
    "start_time": "2022-11-22T12:37:14.815Z"
   },
   {
    "duration": 188,
    "start_time": "2022-11-22T12:37:15.597Z"
   },
   {
    "duration": 20,
    "start_time": "2022-11-22T12:37:17.194Z"
   },
   {
    "duration": 3,
    "start_time": "2022-11-22T12:37:19.105Z"
   },
   {
    "duration": 14,
    "start_time": "2022-11-22T12:37:20.287Z"
   },
   {
    "duration": 15,
    "start_time": "2022-11-22T12:37:20.849Z"
   },
   {
    "duration": 18,
    "start_time": "2022-11-22T12:37:22.422Z"
   },
   {
    "duration": 10,
    "start_time": "2022-11-22T12:37:23.666Z"
   },
   {
    "duration": 14,
    "start_time": "2022-11-22T12:37:24.744Z"
   },
   {
    "duration": 17,
    "start_time": "2022-11-22T12:37:26.239Z"
   },
   {
    "duration": 6,
    "start_time": "2022-11-22T12:37:26.876Z"
   },
   {
    "duration": 5,
    "start_time": "2022-11-22T12:37:28.319Z"
   },
   {
    "duration": 5,
    "start_time": "2022-11-22T12:37:30.486Z"
   },
   {
    "duration": 6,
    "start_time": "2022-11-22T12:37:32.058Z"
   },
   {
    "duration": 14,
    "start_time": "2022-11-22T12:37:32.577Z"
   },
   {
    "duration": 3,
    "start_time": "2022-11-22T12:37:33.772Z"
   },
   {
    "duration": 8,
    "start_time": "2022-11-22T12:37:35.029Z"
   },
   {
    "duration": 14,
    "start_time": "2022-11-22T12:37:36.800Z"
   },
   {
    "duration": 13,
    "start_time": "2022-11-22T12:37:37.742Z"
   },
   {
    "duration": 9,
    "start_time": "2022-11-22T12:37:39.059Z"
   },
   {
    "duration": 3,
    "start_time": "2022-11-22T12:37:41.299Z"
   },
   {
    "duration": 113,
    "start_time": "2022-11-22T12:37:43.834Z"
   },
   {
    "duration": 954,
    "start_time": "2022-11-22T12:37:47.734Z"
   },
   {
    "duration": 271,
    "start_time": "2022-11-22T12:37:48.714Z"
   },
   {
    "duration": 10,
    "start_time": "2022-11-22T12:37:53.254Z"
   },
   {
    "duration": 280,
    "start_time": "2022-11-22T12:37:54.248Z"
   },
   {
    "duration": 253,
    "start_time": "2022-11-22T12:37:57.965Z"
   },
   {
    "duration": 289,
    "start_time": "2022-11-22T12:38:03.152Z"
   },
   {
    "duration": 18,
    "start_time": "2022-11-22T12:38:23.139Z"
   },
   {
    "duration": 292,
    "start_time": "2022-11-22T12:38:31.910Z"
   },
   {
    "duration": 14,
    "start_time": "2022-11-22T12:38:35.524Z"
   },
   {
    "duration": 273,
    "start_time": "2022-11-22T12:38:37.306Z"
   },
   {
    "duration": 13,
    "start_time": "2022-11-22T12:38:42.859Z"
   },
   {
    "duration": 200,
    "start_time": "2022-11-22T12:38:45.614Z"
   },
   {
    "duration": 205,
    "start_time": "2022-11-22T12:39:01.114Z"
   },
   {
    "duration": 229,
    "start_time": "2022-11-22T13:13:47.742Z"
   },
   {
    "duration": 209,
    "start_time": "2022-11-22T13:14:03.450Z"
   },
   {
    "duration": 113,
    "start_time": "2022-11-22T13:19:02.836Z"
   },
   {
    "duration": 13,
    "start_time": "2022-11-22T13:22:12.112Z"
   },
   {
    "duration": 200,
    "start_time": "2022-11-22T13:22:45.256Z"
   },
   {
    "duration": 12,
    "start_time": "2022-11-22T13:22:50.082Z"
   },
   {
    "duration": 292,
    "start_time": "2022-11-22T13:23:31.863Z"
   },
   {
    "duration": 8,
    "start_time": "2022-11-22T13:27:36.405Z"
   },
   {
    "duration": 7,
    "start_time": "2022-11-22T13:28:49.875Z"
   },
   {
    "duration": 5,
    "start_time": "2022-11-22T13:29:12.324Z"
   },
   {
    "duration": 19,
    "start_time": "2022-11-22T13:29:41.959Z"
   },
   {
    "duration": 57,
    "start_time": "2022-11-22T13:30:07.438Z"
   },
   {
    "duration": 6,
    "start_time": "2022-11-22T13:30:28.936Z"
   },
   {
    "duration": 19,
    "start_time": "2022-11-22T13:30:56.353Z"
   },
   {
    "duration": 1413,
    "start_time": "2022-11-22T13:31:29.547Z"
   },
   {
    "duration": 357,
    "start_time": "2022-11-22T13:31:55.465Z"
   },
   {
    "duration": 401,
    "start_time": "2022-11-22T13:32:38.682Z"
   },
   {
    "duration": 10,
    "start_time": "2022-11-22T13:35:03.430Z"
   },
   {
    "duration": 12,
    "start_time": "2022-11-22T13:35:12.540Z"
   },
   {
    "duration": 295,
    "start_time": "2022-11-22T13:35:38.513Z"
   },
   {
    "duration": 11,
    "start_time": "2022-11-22T13:36:09.080Z"
   },
   {
    "duration": 12,
    "start_time": "2022-11-22T13:37:30.755Z"
   },
   {
    "duration": 233,
    "start_time": "2022-11-22T13:37:50.726Z"
   },
   {
    "duration": 9,
    "start_time": "2022-11-22T13:40:39.310Z"
   },
   {
    "duration": 318,
    "start_time": "2022-11-22T13:40:40.290Z"
   },
   {
    "duration": 346,
    "start_time": "2022-11-22T13:40:43.778Z"
   },
   {
    "duration": 4,
    "start_time": "2022-11-22T13:40:47.531Z"
   },
   {
    "duration": 4,
    "start_time": "2022-11-22T13:40:48.366Z"
   },
   {
    "duration": 14,
    "start_time": "2022-11-22T13:40:49.213Z"
   },
   {
    "duration": 347,
    "start_time": "2022-11-22T13:40:50.014Z"
   },
   {
    "duration": 3,
    "start_time": "2022-11-22T13:41:04.292Z"
   },
   {
    "duration": 14,
    "start_time": "2022-11-22T13:41:06.813Z"
   },
   {
    "duration": 8,
    "start_time": "2022-11-22T13:45:14.587Z"
   },
   {
    "duration": 10,
    "start_time": "2022-11-22T13:45:59.251Z"
   },
   {
    "duration": 15,
    "start_time": "2022-11-22T13:46:09.703Z"
   },
   {
    "duration": 6,
    "start_time": "2022-11-22T13:46:13.460Z"
   },
   {
    "duration": 403,
    "start_time": "2022-11-23T01:41:37.329Z"
   },
   {
    "duration": 58,
    "start_time": "2022-11-23T01:41:37.734Z"
   },
   {
    "duration": 22,
    "start_time": "2022-11-23T01:41:37.794Z"
   },
   {
    "duration": 5,
    "start_time": "2022-11-23T01:41:37.817Z"
   },
   {
    "duration": 19,
    "start_time": "2022-11-23T01:41:37.824Z"
   },
   {
    "duration": 22,
    "start_time": "2022-11-23T01:41:37.845Z"
   },
   {
    "duration": 28,
    "start_time": "2022-11-23T01:41:37.869Z"
   },
   {
    "duration": 10,
    "start_time": "2022-11-23T01:41:37.899Z"
   },
   {
    "duration": 19,
    "start_time": "2022-11-23T01:41:37.911Z"
   },
   {
    "duration": 21,
    "start_time": "2022-11-23T01:41:37.932Z"
   },
   {
    "duration": 5,
    "start_time": "2022-11-23T01:41:37.955Z"
   },
   {
    "duration": 22,
    "start_time": "2022-11-23T01:41:37.961Z"
   },
   {
    "duration": 11,
    "start_time": "2022-11-23T01:41:37.996Z"
   },
   {
    "duration": 14,
    "start_time": "2022-11-23T01:41:38.010Z"
   },
   {
    "duration": 19,
    "start_time": "2022-11-23T01:41:38.025Z"
   },
   {
    "duration": 2,
    "start_time": "2022-11-23T01:41:38.046Z"
   },
   {
    "duration": 9,
    "start_time": "2022-11-23T01:41:38.049Z"
   },
   {
    "duration": 20,
    "start_time": "2022-11-23T01:41:38.059Z"
   },
   {
    "duration": 21,
    "start_time": "2022-11-23T01:41:38.081Z"
   },
   {
    "duration": 7,
    "start_time": "2022-11-23T01:41:38.104Z"
   },
   {
    "duration": 4,
    "start_time": "2022-11-23T01:41:38.113Z"
   },
   {
    "duration": 104,
    "start_time": "2022-11-23T01:41:38.118Z"
   },
   {
    "duration": 690,
    "start_time": "2022-11-23T01:41:38.224Z"
   },
   {
    "duration": 226,
    "start_time": "2022-11-23T01:41:38.916Z"
   },
   {
    "duration": 10,
    "start_time": "2022-11-23T01:41:39.143Z"
   },
   {
    "duration": 296,
    "start_time": "2022-11-23T01:41:39.155Z"
   },
   {
    "duration": 240,
    "start_time": "2022-11-23T01:41:39.453Z"
   },
   {
    "duration": 313,
    "start_time": "2022-11-23T01:41:39.695Z"
   },
   {
    "duration": 16,
    "start_time": "2022-11-23T01:41:40.010Z"
   },
   {
    "duration": 311,
    "start_time": "2022-11-23T01:41:40.028Z"
   },
   {
    "duration": 12,
    "start_time": "2022-11-23T01:41:40.341Z"
   },
   {
    "duration": 199,
    "start_time": "2022-11-23T01:41:40.355Z"
   },
   {
    "duration": 12,
    "start_time": "2022-11-23T01:41:40.555Z"
   },
   {
    "duration": 194,
    "start_time": "2022-11-23T01:41:40.569Z"
   },
   {
    "duration": 7,
    "start_time": "2022-11-23T01:41:40.764Z"
   },
   {
    "duration": 8,
    "start_time": "2022-11-23T01:41:40.772Z"
   },
   {
    "duration": 150,
    "start_time": "2022-11-23T01:41:40.782Z"
   },
   {
    "duration": 5,
    "start_time": "2022-11-23T01:41:40.933Z"
   },
   {
    "duration": 18,
    "start_time": "2022-11-23T01:41:40.940Z"
   },
   {
    "duration": 365,
    "start_time": "2022-11-23T01:41:40.960Z"
   },
   {
    "duration": 331,
    "start_time": "2022-11-23T01:41:41.329Z"
   },
   {
    "duration": 220,
    "start_time": "2022-11-23T01:41:41.661Z"
   },
   {
    "duration": 220,
    "start_time": "2022-11-23T01:41:41.883Z"
   },
   {
    "duration": 10,
    "start_time": "2022-11-23T01:41:42.105Z"
   },
   {
    "duration": 347,
    "start_time": "2022-11-23T01:41:42.117Z"
   },
   {
    "duration": 421,
    "start_time": "2022-11-23T01:41:42.465Z"
   },
   {
    "duration": 9,
    "start_time": "2022-11-23T01:41:42.888Z"
   },
   {
    "duration": 5,
    "start_time": "2022-11-23T01:41:42.899Z"
   },
   {
    "duration": 13,
    "start_time": "2022-11-23T01:41:42.906Z"
   },
   {
    "duration": 348,
    "start_time": "2022-11-23T01:41:42.920Z"
   },
   {
    "duration": 3,
    "start_time": "2022-11-23T01:41:43.270Z"
   },
   {
    "duration": 26,
    "start_time": "2022-11-23T01:41:43.274Z"
   },
   {
    "duration": 5,
    "start_time": "2022-11-23T01:41:43.302Z"
   },
   {
    "duration": 9,
    "start_time": "2022-11-23T01:41:43.309Z"
   },
   {
    "duration": 16,
    "start_time": "2022-11-23T01:41:43.320Z"
   },
   {
    "duration": 5,
    "start_time": "2022-11-23T01:41:43.338Z"
   },
   {
    "duration": 21,
    "start_time": "2022-11-23T01:46:53.354Z"
   },
   {
    "duration": 4,
    "start_time": "2022-11-23T01:47:08.559Z"
   },
   {
    "duration": 5,
    "start_time": "2022-11-23T01:48:14.361Z"
   },
   {
    "duration": 466,
    "start_time": "2022-11-23T14:00:47.590Z"
   },
   {
    "duration": 186,
    "start_time": "2022-11-23T14:00:48.222Z"
   },
   {
    "duration": 24,
    "start_time": "2022-11-23T14:00:49.652Z"
   },
   {
    "duration": 4,
    "start_time": "2022-11-23T14:00:50.370Z"
   },
   {
    "duration": 22,
    "start_time": "2022-11-23T14:00:50.982Z"
   },
   {
    "duration": 14,
    "start_time": "2022-11-23T14:00:51.228Z"
   },
   {
    "duration": 16,
    "start_time": "2022-11-23T14:00:51.753Z"
   },
   {
    "duration": 9,
    "start_time": "2022-11-23T14:00:52.544Z"
   },
   {
    "duration": 14,
    "start_time": "2022-11-23T14:00:53.102Z"
   },
   {
    "duration": 19,
    "start_time": "2022-11-23T14:00:53.868Z"
   },
   {
    "duration": 6,
    "start_time": "2022-11-23T14:00:54.156Z"
   },
   {
    "duration": 6,
    "start_time": "2022-11-23T14:00:54.942Z"
   },
   {
    "duration": 7,
    "start_time": "2022-11-23T14:00:55.958Z"
   },
   {
    "duration": 7,
    "start_time": "2022-11-23T14:00:57.037Z"
   },
   {
    "duration": 13,
    "start_time": "2022-11-23T14:00:57.310Z"
   },
   {
    "duration": 3,
    "start_time": "2022-11-23T14:00:57.839Z"
   },
   {
    "duration": 6,
    "start_time": "2022-11-23T14:00:58.329Z"
   },
   {
    "duration": 14,
    "start_time": "2022-11-23T14:00:58.655Z"
   },
   {
    "duration": 12,
    "start_time": "2022-11-23T14:00:58.842Z"
   },
   {
    "duration": 9,
    "start_time": "2022-11-23T14:00:59.114Z"
   },
   {
    "duration": 3,
    "start_time": "2022-11-23T14:00:59.681Z"
   },
   {
    "duration": 89,
    "start_time": "2022-11-23T14:01:00.638Z"
   },
   {
    "duration": 898,
    "start_time": "2022-11-23T14:01:01.709Z"
   },
   {
    "duration": 241,
    "start_time": "2022-11-23T14:01:02.609Z"
   },
   {
    "duration": 10,
    "start_time": "2022-11-23T14:01:03.073Z"
   },
   {
    "duration": 291,
    "start_time": "2022-11-23T14:01:03.363Z"
   },
   {
    "duration": 242,
    "start_time": "2022-11-23T14:01:04.427Z"
   },
   {
    "duration": 294,
    "start_time": "2022-11-23T14:01:08.640Z"
   },
   {
    "duration": 18,
    "start_time": "2022-11-23T14:01:10.351Z"
   },
   {
    "duration": 292,
    "start_time": "2022-11-23T14:01:12.284Z"
   },
   {
    "duration": 13,
    "start_time": "2022-11-23T14:01:23.793Z"
   },
   {
    "duration": 5,
    "start_time": "2022-11-23T14:01:25.258Z"
   },
   {
    "duration": 260,
    "start_time": "2022-11-23T14:01:26.474Z"
   },
   {
    "duration": 13,
    "start_time": "2022-11-23T14:01:30.413Z"
   },
   {
    "duration": 209,
    "start_time": "2022-11-23T14:01:31.507Z"
   },
   {
    "duration": 8,
    "start_time": "2022-11-23T14:01:38.462Z"
   },
   {
    "duration": 6,
    "start_time": "2022-11-23T14:01:39.202Z"
   },
   {
    "duration": 69,
    "start_time": "2022-11-23T14:02:40.947Z"
   },
   {
    "duration": 26,
    "start_time": "2022-11-23T14:02:58.298Z"
   },
   {
    "duration": 6,
    "start_time": "2022-11-23T14:03:26.587Z"
   },
   {
    "duration": 18,
    "start_time": "2022-11-23T14:03:27.606Z"
   },
   {
    "duration": 347,
    "start_time": "2022-11-23T14:03:28.848Z"
   },
   {
    "duration": 315,
    "start_time": "2022-11-23T14:03:31.160Z"
   },
   {
    "duration": 5,
    "start_time": "2022-11-23T14:16:48.207Z"
   },
   {
    "duration": 25,
    "start_time": "2022-11-23T14:16:51.660Z"
   },
   {
    "duration": 4,
    "start_time": "2022-11-23T14:16:52.913Z"
   },
   {
    "duration": 17,
    "start_time": "2022-11-23T14:16:54.597Z"
   },
   {
    "duration": 329,
    "start_time": "2022-11-23T14:16:57.174Z"
   },
   {
    "duration": 6,
    "start_time": "2022-11-23T14:17:50.263Z"
   },
   {
    "duration": 374,
    "start_time": "2022-11-23T14:17:52.775Z"
   },
   {
    "duration": 11,
    "start_time": "2022-11-23T14:30:17.989Z"
   },
   {
    "duration": 23,
    "start_time": "2022-11-23T14:35:11.368Z"
   },
   {
    "duration": 12,
    "start_time": "2022-11-23T14:36:28.746Z"
   },
   {
    "duration": 6,
    "start_time": "2022-11-23T14:36:30.342Z"
   },
   {
    "duration": 26,
    "start_time": "2022-11-23T14:36:31.639Z"
   },
   {
    "duration": 6,
    "start_time": "2022-11-23T14:36:34.462Z"
   },
   {
    "duration": 22,
    "start_time": "2022-11-23T14:36:35.645Z"
   },
   {
    "duration": 21,
    "start_time": "2022-11-23T14:36:38.602Z"
   },
   {
    "duration": 20,
    "start_time": "2022-11-23T14:38:36.727Z"
   },
   {
    "duration": 22,
    "start_time": "2022-11-23T14:38:43.281Z"
   },
   {
    "duration": 6,
    "start_time": "2022-11-23T14:40:07.344Z"
   },
   {
    "duration": 4,
    "start_time": "2022-11-23T14:40:16.241Z"
   },
   {
    "duration": 5,
    "start_time": "2022-11-23T14:40:22.320Z"
   },
   {
    "duration": 868,
    "start_time": "2022-11-23T14:40:27.390Z"
   },
   {
    "duration": 18,
    "start_time": "2022-11-23T14:44:07.391Z"
   },
   {
    "duration": 14,
    "start_time": "2022-11-23T14:44:21.488Z"
   },
   {
    "duration": 6,
    "start_time": "2022-11-23T14:44:22.844Z"
   },
   {
    "duration": 26,
    "start_time": "2022-11-23T14:44:23.995Z"
   },
   {
    "duration": 6,
    "start_time": "2022-11-23T14:44:25.838Z"
   },
   {
    "duration": 18,
    "start_time": "2022-11-23T14:44:26.831Z"
   },
   {
    "duration": 5,
    "start_time": "2022-11-23T14:44:27.942Z"
   },
   {
    "duration": 5,
    "start_time": "2022-11-23T14:44:29.276Z"
   },
   {
    "duration": 6,
    "start_time": "2022-11-23T14:44:30.155Z"
   },
   {
    "duration": 919,
    "start_time": "2022-11-23T14:44:31.498Z"
   },
   {
    "duration": 20,
    "start_time": "2022-11-23T14:47:18.085Z"
   },
   {
    "duration": 21,
    "start_time": "2022-11-23T14:47:25.250Z"
   },
   {
    "duration": 21,
    "start_time": "2022-11-23T14:47:28.504Z"
   },
   {
    "duration": 12,
    "start_time": "2022-11-23T14:49:42.944Z"
   },
   {
    "duration": 888,
    "start_time": "2022-11-23T14:51:26.873Z"
   },
   {
    "duration": 108,
    "start_time": "2022-11-23T15:06:10.908Z"
   },
   {
    "duration": 243,
    "start_time": "2022-11-23T15:07:09.203Z"
   },
   {
    "duration": 242,
    "start_time": "2022-11-23T15:07:10.919Z"
   },
   {
    "duration": 11,
    "start_time": "2022-11-23T15:07:16.883Z"
   },
   {
    "duration": 461,
    "start_time": "2022-11-23T15:07:18.018Z"
   },
   {
    "duration": 367,
    "start_time": "2022-11-23T15:07:22.130Z"
   },
   {
    "duration": 6,
    "start_time": "2022-11-23T15:07:27.451Z"
   },
   {
    "duration": 5,
    "start_time": "2022-11-23T15:07:28.381Z"
   },
   {
    "duration": 11,
    "start_time": "2022-11-23T15:07:29.114Z"
   },
   {
    "duration": 360,
    "start_time": "2022-11-23T15:07:30.011Z"
   },
   {
    "duration": 5,
    "start_time": "2022-11-23T15:12:14.850Z"
   },
   {
    "duration": 5,
    "start_time": "2022-11-23T15:15:59.631Z"
   },
   {
    "duration": 4,
    "start_time": "2022-11-23T15:16:40.711Z"
   },
   {
    "duration": 8,
    "start_time": "2022-11-23T15:17:03.360Z"
   },
   {
    "duration": 8,
    "start_time": "2022-11-23T15:17:12.067Z"
   },
   {
    "duration": 6,
    "start_time": "2022-11-23T15:17:58.717Z"
   },
   {
    "duration": 395,
    "start_time": "2022-11-23T15:18:10.932Z"
   },
   {
    "duration": 7,
    "start_time": "2022-11-23T15:19:19.528Z"
   },
   {
    "duration": 409,
    "start_time": "2022-11-23T15:19:25.641Z"
   },
   {
    "duration": 6,
    "start_time": "2022-11-23T15:20:21.315Z"
   },
   {
    "duration": 9,
    "start_time": "2022-11-23T15:20:26.587Z"
   },
   {
    "duration": 475,
    "start_time": "2022-11-23T15:20:27.674Z"
   },
   {
    "duration": 4,
    "start_time": "2022-11-23T15:20:56.313Z"
   },
   {
    "duration": 375,
    "start_time": "2022-11-23T15:21:04.053Z"
   },
   {
    "duration": 5,
    "start_time": "2022-11-23T15:21:50.976Z"
   },
   {
    "duration": 4,
    "start_time": "2022-11-23T15:21:52.126Z"
   },
   {
    "duration": 6,
    "start_time": "2022-11-23T15:21:53.339Z"
   },
   {
    "duration": 356,
    "start_time": "2022-11-23T15:21:54.796Z"
   },
   {
    "duration": 357,
    "start_time": "2022-11-23T15:22:22.155Z"
   },
   {
    "duration": 353,
    "start_time": "2022-11-23T15:24:10.550Z"
   },
   {
    "duration": 3,
    "start_time": "2022-11-23T15:32:54.962Z"
   },
   {
    "duration": 17,
    "start_time": "2022-11-23T15:32:58.929Z"
   },
   {
    "duration": 8,
    "start_time": "2022-11-23T15:35:06.825Z"
   },
   {
    "duration": 4,
    "start_time": "2022-11-23T15:35:13.997Z"
   },
   {
    "duration": 14,
    "start_time": "2022-11-23T15:35:29.274Z"
   },
   {
    "duration": 96,
    "start_time": "2022-11-23T15:38:46.023Z"
   },
   {
    "duration": 5,
    "start_time": "2022-11-23T15:39:27.162Z"
   },
   {
    "duration": 5,
    "start_time": "2022-11-23T15:43:18.369Z"
   },
   {
    "duration": 5,
    "start_time": "2022-11-23T15:44:27.309Z"
   },
   {
    "duration": 400,
    "start_time": "2022-11-24T11:15:26.512Z"
   },
   {
    "duration": 107,
    "start_time": "2022-11-24T11:15:26.914Z"
   },
   {
    "duration": 20,
    "start_time": "2022-11-24T11:15:27.023Z"
   },
   {
    "duration": 3,
    "start_time": "2022-11-24T11:15:27.044Z"
   },
   {
    "duration": 16,
    "start_time": "2022-11-24T11:15:27.049Z"
   },
   {
    "duration": 17,
    "start_time": "2022-11-24T11:15:27.066Z"
   },
   {
    "duration": 21,
    "start_time": "2022-11-24T11:15:27.085Z"
   },
   {
    "duration": 9,
    "start_time": "2022-11-24T11:15:27.108Z"
   },
   {
    "duration": 28,
    "start_time": "2022-11-24T11:15:27.118Z"
   },
   {
    "duration": 30,
    "start_time": "2022-11-24T11:15:27.148Z"
   },
   {
    "duration": 6,
    "start_time": "2022-11-24T11:15:27.181Z"
   },
   {
    "duration": 22,
    "start_time": "2022-11-24T11:15:27.189Z"
   },
   {
    "duration": 18,
    "start_time": "2022-11-24T11:15:27.212Z"
   },
   {
    "duration": 15,
    "start_time": "2022-11-24T11:15:27.233Z"
   },
   {
    "duration": 47,
    "start_time": "2022-11-24T11:15:27.250Z"
   },
   {
    "duration": 48,
    "start_time": "2022-11-24T11:15:27.299Z"
   },
   {
    "duration": 9,
    "start_time": "2022-11-24T11:15:27.349Z"
   },
   {
    "duration": 14,
    "start_time": "2022-11-24T11:15:27.360Z"
   },
   {
    "duration": 20,
    "start_time": "2022-11-24T11:15:27.376Z"
   },
   {
    "duration": 11,
    "start_time": "2022-11-24T11:15:27.398Z"
   },
   {
    "duration": 5,
    "start_time": "2022-11-24T11:15:27.410Z"
   },
   {
    "duration": 131,
    "start_time": "2022-11-24T11:15:27.417Z"
   },
   {
    "duration": 958,
    "start_time": "2022-11-24T11:15:27.550Z"
   },
   {
    "duration": 244,
    "start_time": "2022-11-24T11:15:28.509Z"
   },
   {
    "duration": 10,
    "start_time": "2022-11-24T11:15:28.754Z"
   },
   {
    "duration": 323,
    "start_time": "2022-11-24T11:15:28.766Z"
   },
   {
    "duration": 263,
    "start_time": "2022-11-24T11:15:29.090Z"
   },
   {
    "duration": 320,
    "start_time": "2022-11-24T11:15:29.356Z"
   },
   {
    "duration": 25,
    "start_time": "2022-11-24T11:15:29.678Z"
   },
   {
    "duration": 292,
    "start_time": "2022-11-24T11:15:29.705Z"
   },
   {
    "duration": 13,
    "start_time": "2022-11-24T11:15:29.998Z"
   },
   {
    "duration": 118,
    "start_time": "2022-11-24T11:15:30.013Z"
   },
   {
    "duration": 304,
    "start_time": "2022-11-24T11:15:30.132Z"
   },
   {
    "duration": 14,
    "start_time": "2022-11-24T11:15:30.438Z"
   },
   {
    "duration": 271,
    "start_time": "2022-11-24T11:15:30.453Z"
   },
   {
    "duration": 14,
    "start_time": "2022-11-24T11:15:30.725Z"
   },
   {
    "duration": 68,
    "start_time": "2022-11-24T11:15:30.740Z"
   },
   {
    "duration": 138,
    "start_time": "2022-11-24T11:15:30.810Z"
   },
   {
    "duration": 5,
    "start_time": "2022-11-24T11:15:30.950Z"
   },
   {
    "duration": 35,
    "start_time": "2022-11-24T11:15:30.956Z"
   },
   {
    "duration": 55,
    "start_time": "2022-11-24T11:15:30.997Z"
   },
   {
    "duration": 61,
    "start_time": "2022-11-24T11:15:31.054Z"
   },
   {
    "duration": 28,
    "start_time": "2022-11-24T11:15:31.116Z"
   },
   {
    "duration": 931,
    "start_time": "2022-11-24T11:15:31.145Z"
   },
   {
    "duration": 17,
    "start_time": "2022-11-24T11:15:32.078Z"
   },
   {
    "duration": 961,
    "start_time": "2022-11-24T11:15:32.097Z"
   },
   {
    "duration": 257,
    "start_time": "2022-11-24T11:15:33.060Z"
   },
   {
    "duration": 202,
    "start_time": "2022-11-24T11:15:33.318Z"
   },
   {
    "duration": 8,
    "start_time": "2022-11-24T11:15:33.522Z"
   },
   {
    "duration": 450,
    "start_time": "2022-11-24T11:15:33.532Z"
   },
   {
    "duration": 400,
    "start_time": "2022-11-24T11:15:33.985Z"
   },
   {
    "duration": 368,
    "start_time": "2022-11-24T11:15:34.386Z"
   },
   {
    "duration": 2,
    "start_time": "2022-11-24T11:15:34.756Z"
   },
   {
    "duration": 27,
    "start_time": "2022-11-24T11:15:34.760Z"
   },
   {
    "duration": 5,
    "start_time": "2022-11-24T11:15:34.789Z"
   },
   {
    "duration": 18,
    "start_time": "2022-11-24T11:15:34.796Z"
   },
   {
    "duration": 43,
    "start_time": "2022-11-24T11:15:34.815Z"
   },
   {
    "duration": 7,
    "start_time": "2022-11-24T11:15:34.860Z"
   },
   {
    "duration": 23,
    "start_time": "2022-11-24T11:15:34.868Z"
   }
  ],
  "kernelspec": {
   "display_name": "Python 3 (ipykernel)",
   "language": "python",
   "name": "python3"
  },
  "language_info": {
   "codemirror_mode": {
    "name": "ipython",
    "version": 3
   },
   "file_extension": ".py",
   "mimetype": "text/x-python",
   "name": "python",
   "nbconvert_exporter": "python",
   "pygments_lexer": "ipython3",
   "version": "3.9.13"
  },
  "toc": {
   "base_numbering": 1,
   "nav_menu": {},
   "number_sections": true,
   "sideBar": true,
   "skip_h1_title": true,
   "title_cell": "Table of Contents",
   "title_sidebar": "Contents",
   "toc_cell": false,
   "toc_position": {
    "height": "calc(100% - 180px)",
    "left": "10px",
    "top": "150px",
    "width": "165px"
   },
   "toc_section_display": true,
   "toc_window_display": true
  }
 },
 "nbformat": 4,
 "nbformat_minor": 2
}

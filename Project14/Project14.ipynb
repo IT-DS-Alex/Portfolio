{
 "cells": [
  {
   "cell_type": "markdown",
   "id": "0dcfb408",
   "metadata": {},
   "source": [
    "1.Посчитайте, сколько компаний закрылось."
   ]
  },
  {
   "cell_type": "code",
   "execution_count": null,
   "id": "fcc691a4",
   "metadata": {},
   "outputs": [],
   "source": [
    "SELECT COUNT(status)\n",
    "FROM company\n",
    "GROUP BY status \n",
    "HAVING status LIKE 'closed';"
   ]
  },
  {
   "cell_type": "markdown",
   "id": "7bb9b28c",
   "metadata": {},
   "source": [
    "2.Отобразите количество привлечённых средств для новостных компаний США. Используйте данные из таблицы company. Отсортируйте таблицу по убыванию значений в поле funding_total ."
   ]
  },
  {
   "cell_type": "code",
   "execution_count": null,
   "id": "3cdbe242",
   "metadata": {},
   "outputs": [],
   "source": [
    "SELECT funding_total\n",
    "FROM company\n",
    "WHERE category_code LIKE 'news' \n",
    "   AND country_code LIKE 'USA'\n",
    "ORDER BY funding_total DESC;"
   ]
  },
  {
   "cell_type": "markdown",
   "id": "c8e6ffbf",
   "metadata": {},
   "source": [
    "3.\n",
    "Найдите общую сумму сделок по покупке одних компаний другими в долларах. Отберите сделки, которые осуществлялись только за наличные с 2011 по 2013 год включительно."
   ]
  },
  {
   "cell_type": "code",
   "execution_count": null,
   "id": "666b500e",
   "metadata": {},
   "outputs": [],
   "source": [
    "SELECT SUM(price_amount)\n",
    "FROM acquisition\n",
    "WHERE term_code LIKE 'cash'\n",
    "   AND EXTRACT(YEAR from acquired_at) BETWEEN 2011 AND 2013\n",
    "GROUP BY term_code;"
   ]
  },
  {
   "cell_type": "markdown",
   "id": "a17dd531",
   "metadata": {},
   "source": [
    "4.\n",
    "Отобразите имя, фамилию и названия аккаунтов людей в твиттере, у которых названия аккаунтов начинаются на 'Silver'."
   ]
  },
  {
   "cell_type": "code",
   "execution_count": null,
   "id": "62cdb9f0",
   "metadata": {},
   "outputs": [],
   "source": [
    "SELECT first_name,\n",
    "       last_name,\n",
    "       twitter_username\n",
    "FROM people\n",
    "WHERE twitter_username LIKE 'Silver%';"
   ]
  },
  {
   "cell_type": "markdown",
   "id": "12cea894",
   "metadata": {},
   "source": [
    "5.\n",
    "Выведите на экран всю информацию о людях, у которых названия аккаунтов в твиттере содержат подстроку 'money', а фамилия начинается на 'K'."
   ]
  },
  {
   "cell_type": "code",
   "execution_count": null,
   "id": "2d670a79",
   "metadata": {},
   "outputs": [],
   "source": [
    "SELECT *\n",
    "FROM people\n",
    "WHERE twitter_username LIKE '%money%'\n",
    "   AND last_name LIKE 'K%';"
   ]
  },
  {
   "cell_type": "markdown",
   "id": "b994fd7d",
   "metadata": {},
   "source": [
    "6.\n",
    "Для каждой страны отобразите общую сумму привлечённых инвестиций, которые получили компании, зарегистрированные в этой стране. Страну, в которой зарегистрирована компания, можно определить по коду страны. Отсортируйте данные по убыванию суммы."
   ]
  },
  {
   "cell_type": "code",
   "execution_count": null,
   "id": "f388b6ee",
   "metadata": {},
   "outputs": [],
   "source": [
    "SELECT country_code,\n",
    "       SUM(funding_total)\n",
    "FROM company\n",
    "GROUP BY country_code\n",
    "ORDER BY SUM(funding_total) DESC;"
   ]
  },
  {
   "cell_type": "markdown",
   "id": "115a84c4",
   "metadata": {},
   "source": [
    "7.\n",
    "Составьте таблицу, в которую войдёт дата проведения раунда, а также минимальное и максимальное значения суммы инвестиций, привлечённых в эту дату.\n",
    "Оставьте в итоговой таблице только те записи, в которых минимальное значение суммы инвестиций не равно нулю и не равно максимальному значению."
   ]
  },
  {
   "cell_type": "code",
   "execution_count": null,
   "id": "de44c31a",
   "metadata": {},
   "outputs": [],
   "source": [
    "SELECT  funded_at,\n",
    "        MIN(raised_amount),\n",
    "        MAX(raised_amount)\n",
    "FROM funding_round\n",
    "GROUP BY  funded_at\n",
    "HAVING MIN(raised_amount) NOT IN (0, MAX(raised_amount));"
   ]
  },
  {
   "cell_type": "markdown",
   "id": "6cccc225",
   "metadata": {},
   "source": [
    "8.\n",
    "Создайте поле с категориями:\n",
    "Для фондов, которые инвестируют в 100 и более компаний, назначьте категорию high_activity.\n",
    "Для фондов, которые инвестируют в 20 и более компаний до 100, назначьте категорию middle_activity.\n",
    "Если количество инвестируемых компаний фонда не достигает 20, назначьте категорию low_activity.\n",
    "Отобразите все поля таблицы fund и новое поле с категориями."
   ]
  },
  {
   "cell_type": "code",
   "execution_count": null,
   "id": "922535c2",
   "metadata": {},
   "outputs": [],
   "source": [
    "SELECT *,\n",
    "   CASE \n",
    "       WHEN invested_companies >= 100 THEN 'high_activity'\n",
    "       WHEN invested_companies BETWEEN 20 AND 99 THEN 'middle_activity'\n",
    "       ELSE 'low_activity'\n",
    "   END    \n",
    "FROM fund;"
   ]
  },
  {
   "cell_type": "markdown",
   "id": "dfd9556b",
   "metadata": {},
   "source": [
    "9.\n",
    "Для каждой из категорий, назначенных в предыдущем задании, посчитайте округлённое до ближайшего целого числа среднее количество инвестиционных раундов, в которых фонд принимал участие. Выведите на экран категории и среднее число инвестиционных раундов. Отсортируйте таблицу по возрастанию среднего."
   ]
  },
  {
   "cell_type": "code",
   "execution_count": null,
   "id": "95fec163",
   "metadata": {},
   "outputs": [],
   "source": [
    "SELECT CASE\n",
    "           WHEN invested_companies>=100 THEN 'high_activity'\n",
    "           WHEN invested_companies>=20 THEN 'middle_activity'\n",
    "           ELSE 'low_activity'\n",
    "       END AS activity, \n",
    "       ROUND(AVG(investment_rounds))\n",
    "FROM fund\n",
    "GROUP BY activity\n",
    "ORDER BY ROUND(AVG(investment_rounds));"
   ]
  },
  {
   "cell_type": "markdown",
   "id": "352f6a86",
   "metadata": {},
   "source": [
    "10.\n",
    "Проанализируйте, в каких странах находятся фонды, которые чаще всего инвестируют в стартапы. \n",
    "Для каждой страны посчитайте минимальное, максимальное и среднее число компаний, в которые инвестировали фонды этой страны, основанные с 2010 по 2012 год включительно. Исключите страны с фондами, у которых минимальное число компаний, получивших инвестиции, равно нулю. \n",
    "Выгрузите десять самых активных стран-инвесторов: отсортируйте таблицу по среднему количеству компаний от большего к меньшему. Затем добавьте сортировку по коду страны в лексикографическом порядке."
   ]
  },
  {
   "cell_type": "code",
   "execution_count": null,
   "id": "5b855d5c",
   "metadata": {},
   "outputs": [],
   "source": [
    "SELECT country_code,\n",
    "       MIN(invested_companies),\n",
    "       MAX(invested_companies),\n",
    "       AVG(invested_companies)\n",
    "FROM (SELECT *\n",
    "      FROM fund\n",
    "      WHERE EXTRACT(YEAR FROM founded_at) BETWEEN 2010 AND 2012) AS f\n",
    "GROUP BY country_code\n",
    "HAVING MIN(invested_companies) > 0\n",
    "ORDER BY AVG(invested_companies) DESC\n",
    "LIMIT 10;"
   ]
  },
  {
   "cell_type": "markdown",
   "id": "f0ecd7a3",
   "metadata": {},
   "source": [
    "11.\n",
    "Отобразите имя и фамилию всех сотрудников стартапов. Добавьте поле с названием учебного заведения, которое окончил сотрудник, если эта информация известна."
   ]
  },
  {
   "cell_type": "code",
   "execution_count": null,
   "id": "7e4f073c",
   "metadata": {},
   "outputs": [],
   "source": [
    "SELECT p.first_name,\n",
    "       p.last_name,\n",
    "       e.instituition\n",
    "FROM people AS p\n",
    "LEFT JOIN education AS e ON p.id = e.person_id;"
   ]
  },
  {
   "cell_type": "markdown",
   "id": "20ca633c",
   "metadata": {},
   "source": [
    "12.\n",
    "Для каждой компании найдите количество учебных заведений, которые окончили её сотрудники. Выведите название компании и число уникальных названий учебных заведений. Составьте топ-5 компаний по количеству университетов."
   ]
  },
  {
   "cell_type": "code",
   "execution_count": null,
   "id": "fdf14315",
   "metadata": {},
   "outputs": [],
   "source": [
    "SELECT c.name, \n",
    "       COUNT(DISTINCT tab2.instituition)\n",
    "FROM company AS c\n",
    "LEFT JOIN \n",
    "         (SELECT tab1.instituition,\n",
    "                 p.company_id\n",
    "          FROM       \n",
    "               (SELECT person_id,\n",
    "                       instituition \n",
    "                FROM education \n",
    "                WHERE instituition  IS NOT NULL\n",
    "               ) AS tab1\n",
    "          INNER JOIN  people AS p ON p.id = tab1.person_id\n",
    "         ) AS tab2 ON tab2.company_id = c.id\n",
    "GROUP BY c.name\n",
    "ORDER BY COUNT(DISTINCT tab2.instituition) DESC\n",
    "LIMIT 5;"
   ]
  },
  {
   "cell_type": "markdown",
   "id": "fc284108",
   "metadata": {},
   "source": [
    "13.\n",
    "Составьте список с уникальными названиями закрытых компаний, для которых первый раунд финансирования оказался последним."
   ]
  },
  {
   "cell_type": "code",
   "execution_count": null,
   "id": "34958ee1",
   "metadata": {},
   "outputs": [],
   "source": [
    "SELECT DISTINCT name\n",
    "FROM company\n",
    "WHERE status LIKE 'closed'\n",
    "   AND id IN (SELECT company_id\n",
    "              FROM funding_round\n",
    "              WHERE is_first_round = 1 \n",
    "                 AND is_last_round = 1);"
   ]
  },
  {
   "cell_type": "markdown",
   "id": "00a40d84",
   "metadata": {},
   "source": [
    "14.\n",
    "Составьте список уникальных номеров сотрудников, которые работают в компаниях, отобранных в предыдущем задании."
   ]
  },
  {
   "cell_type": "code",
   "execution_count": null,
   "id": "0781ee6c",
   "metadata": {},
   "outputs": [],
   "source": [
    "SELECT DISTINCT p.id\n",
    "FROM company AS c\n",
    "INNER JOIN people AS p ON c.id = p.company_id\n",
    "WHERE c.status LIKE 'closed'\n",
    "   AND c.id IN (SELECT company_id\n",
    "                FROM funding_round\n",
    "                WHERE is_first_round = 1\n",
    "                   AND is_last_round = 1);"
   ]
  },
  {
   "cell_type": "markdown",
   "id": "7d45e3e5",
   "metadata": {},
   "source": [
    "15.\n",
    "Составьте таблицу, куда войдут уникальные пары с номерами сотрудников из предыдущей задачи и учебным заведением, которое окончил сотрудник."
   ]
  },
  {
   "cell_type": "code",
   "execution_count": null,
   "id": "aae2bb55",
   "metadata": {},
   "outputs": [],
   "source": [
    "SELECT DISTINCT p.id,\n",
    "                e.instituition\n",
    "FROM company AS c\n",
    "INNER JOIN people AS p ON c.id = p.company_id\n",
    "LEFT JOIN education AS e ON p.id = e.person_id\n",
    "WHERE c.status LIKE 'closed'\n",
    "   AND c.id IN (SELECT company_id\n",
    "                FROM funding_round\n",
    "                WHERE is_first_round = 1\n",
    "                   AND is_last_round = 1)\n",
    "   AND  e.instituition IS NOT NULL;"
   ]
  },
  {
   "cell_type": "markdown",
   "id": "47b6d18d",
   "metadata": {},
   "source": [
    "16.\n",
    "Посчитайте количество учебных заведений для каждого сотрудника из предыдущего задания. При подсчёте учитывайте, что некоторые сотрудники могли окончить одно и то же заведение дважды."
   ]
  },
  {
   "cell_type": "code",
   "execution_count": null,
   "id": "039b4cd5",
   "metadata": {},
   "outputs": [],
   "source": [
    "SELECT DISTINCT p.id,\n",
    "                COUNT(e.instituition)\n",
    "FROM company AS c\n",
    "INNER JOIN people AS p ON c.id = p.company_id\n",
    "LEFT JOIN education AS e ON p.id = e.person_id\n",
    "WHERE c.status LIKE 'closed'\n",
    "  AND c.id IN (SELECT company_id\n",
    "               FROM funding_round\n",
    "               WHERE is_first_round = 1\n",
    "                  AND is_last_round = 1)\n",
    "  AND  e.instituition IS NOT NULL\n",
    "GROUP BY p.id;"
   ]
  },
  {
   "cell_type": "markdown",
   "id": "32b58fb3",
   "metadata": {},
   "source": [
    "17.\n",
    "Дополните предыдущий запрос и выведите среднее число учебных заведений (всех, не только уникальных), которые окончили сотрудники разных компаний. Нужно вывести только одну запись, группировка здесь не понадобится."
   ]
  },
  {
   "cell_type": "code",
   "execution_count": null,
   "id": "08af2353",
   "metadata": {},
   "outputs": [],
   "source": [
    "SELECT AVG(tab1.count_in)\n",
    "FROM (SELECT DISTINCT p.id,\n",
    "             COUNT(e.instituition) AS count_in\n",
    "      FROM company AS c\n",
    "      INNER JOIN people AS p ON c.id = p.company_id\n",
    "      LEFT JOIN education AS e ON p.id = e.person_id\n",
    "      WHERE c.status LIKE 'closed'\n",
    "        AND c.id IN (SELECT company_id\n",
    "                     FROM funding_round\n",
    "                     WHERE is_first_round = 1\n",
    "                        AND is_last_round = 1)\n",
    "        AND  e.instituition IS NOT NULL\n",
    "      GROUP BY p.id) AS tab1;"
   ]
  },
  {
   "cell_type": "markdown",
   "id": "ef4bd945",
   "metadata": {},
   "source": [
    "18.\n",
    "Напишите похожий запрос: выведите среднее число учебных заведений (всех, не только уникальных), которые окончили сотрудники Facebook*.\n",
    "*(сервис, запрещённый на территории РФ)"
   ]
  },
  {
   "cell_type": "code",
   "execution_count": null,
   "id": "87a65180",
   "metadata": {},
   "outputs": [],
   "source": [
    "SELECT AVG(tab1.count_in)\n",
    "FROM (SELECT DISTINCT p.id,\n",
    "             COUNT(e.instituition) AS count_in\n",
    "      FROM company AS c\n",
    "      JOIN people AS p ON c.id = p.company_id\n",
    "      LEFT JOIN education AS e ON p.id = e.person_id\n",
    "      WHERE c.name LIKE 'Facebook'\n",
    "         AND  e.instituition IS NOT NULL\n",
    "      GROUP BY p.id\n",
    "      ) AS tab1;"
   ]
  },
  {
   "cell_type": "markdown",
   "id": "78e2e1ee",
   "metadata": {},
   "source": [
    "19.\n",
    "Составьте таблицу из полей:\n",
    "name_of_fund — название фонда;\n",
    "name_of_company — название компании;\n",
    "amount — сумма инвестиций, которую привлекла компания в раунде.\n",
    "В таблицу войдут данные о компаниях, в истории которых было больше шести важных этапов, а раунды финансирования проходили с 2012 по 2013 год включительно."
   ]
  },
  {
   "cell_type": "code",
   "execution_count": null,
   "id": "c93ba4ac",
   "metadata": {},
   "outputs": [],
   "source": [
    "SELECT f.name AS name_of_fund, \n",
    "       C.name AS name_of_company, \n",
    "       fr.raised_amount AS amount\n",
    "FROM investment AS i\n",
    "JOIN company AS c ON i.company_id=c.id\n",
    "JOIN fund AS f ON i.fund_id=f.id\n",
    "JOIN funding_round AS fr ON i.funding_round_id = fr.id\n",
    "WHERE EXTRACT(YEAR FROM fr.funded_at) BETWEEN 2012 AND 2013\n",
    "   AND c.milestones > 6;"
   ]
  },
  {
   "cell_type": "markdown",
   "id": "755bc323",
   "metadata": {},
   "source": [
    "20.\n",
    "Выгрузите таблицу, в которой будут такие поля:\n",
    "название компании-покупателя;\n",
    "сумма сделки;\n",
    "название компании, которую купили;\n",
    "сумма инвестиций, вложенных в купленную компанию;\n",
    "доля, которая отображает, во сколько раз сумма покупки превысила сумму вложенных в компанию инвестиций, округлённая до ближайшего целого числа.\n",
    "Не учитывайте те сделки, в которых сумма покупки равна нулю. Если сумма инвестиций в компанию равна нулю, исключите такую компанию из таблицы. "
   ]
  },
  {
   "cell_type": "code",
   "execution_count": null,
   "id": "4c91257c",
   "metadata": {},
   "outputs": [],
   "source": [
    "SELECT company.name AS acquiring_company,\n",
    "       tab2.price_amount,\n",
    "       tab2.acquired_company,\n",
    "       tab2.funding_total,\n",
    "       ROUND(tab2.price_amount / tab2.funding_total)\n",
    "FROM (\n",
    "    SELECT c.name AS acquired_company,\n",
    "           c.funding_total,\n",
    "           tab1.acquiring_company_id,\n",
    "           tab1.price_amount\n",
    "    FROM company AS c\n",
    "    RIGHT JOIN (\n",
    "                SELECT acquiring_company_id,\n",
    "                       acquired_company_id,\n",
    "                       price_amount\n",
    "                FROM acquisition\n",
    "                WHERE price_amount > 0\n",
    "               ) AS tab1 ON c.id = tab1.acquired_company_id\n",
    " ) AS tab2 LEFT JOIN company ON company.id  = tab2.acquiring_company_id\n",
    "WHERE tab2.funding_total > 0\n",
    "ORDER BY  tab2.price_amount DESC, tab2.acquired_company\n",
    "LIMIT 10;"
   ]
  },
  {
   "cell_type": "markdown",
   "id": "ac14d210",
   "metadata": {},
   "source": [
    "21.\n",
    "Выгрузите таблицу, в которую войдут названия компаний из категории social, получившие финансирование с 2010 по 2013 год включительно. Проверьте, что сумма инвестиций не равна нулю. Выведите также номер месяца, в котором проходил раунд финансирования."
   ]
  },
  {
   "cell_type": "code",
   "execution_count": null,
   "id": "91475963",
   "metadata": {},
   "outputs": [],
   "source": [
    "SELECT c.name,\n",
    "       EXTRACT(MONTH FROM funded_at) AS month\n",
    "FROM company AS c \n",
    "LEFT JOIN funding_round AS fr ON c.id = fr.company_id\n",
    "WHERE c.category_code = 'social'\n",
    "AND EXTRACT(YEAR FROM fr.funded_at) BETWEEN 2010 AND 2013\n",
    "AND fr.raised_amount <> 0;"
   ]
  },
  {
   "cell_type": "markdown",
   "id": "eeed5b38",
   "metadata": {},
   "source": [
    "22.\n",
    "Отберите данные по месяцам с 2010 по 2013 год, когда проходили инвестиционные раунды. Сгруппируйте данные по номеру месяца и получите таблицу, в которой будут поля:\n",
    "номер месяца, в котором проходили раунды;\n",
    "количество уникальных названий фондов из США, которые инвестировали в этом месяце;\n",
    "количество компаний, купленных за этот месяц;\n",
    "общая сумма сделок по покупкам в этом месяце."
   ]
  },
  {
   "cell_type": "code",
   "execution_count": null,
   "id": "559668b0",
   "metadata": {},
   "outputs": [],
   "source": [
    "WITH\n",
    "-- выбираем месяц инвестиционных раундов в 2010-2013 гг\n",
    "tab1 AS (SELECT EXTRACT(MONTH FROM funded_at) AS month,\n",
    "                id AS funding_round_id\n",
    "                FROM funding_round\n",
    "         WHERE EXTRACT(YEAR FROM funded_at) BETWEEN 2010 AND 2013\n",
    "         ),\n",
    "\n",
    "-- считаем кол-во купленных и общую сумму по сделкам за 2010-2013 гг в разрезе месяца\n",
    "tab2 AS (SELECT EXTRACT(MONTH FROM acquired_at) AS month,\n",
    "                COUNT(acquired_company_id) AS count_acquired,\n",
    "                SUM(price_amount) AS total_amount\n",
    "         FROM acquisition\n",
    "         WHERE EXTRACT(YEAR FROM acquired_at) BETWEEN 2010 AND 2013\n",
    "         GROUP BY EXTRACT(MONTH FROM acquired_at)\n",
    "        ),\n",
    "\n",
    "-- ищем фонды из США\n",
    "tab3 AS (SELECT i.funding_round_id,\n",
    "                f.name\n",
    "        FROM investment AS i\n",
    "        JOIN fund AS f ON f.id = i.fund_id\n",
    "        WHERE fund_id IN (SELECT id\n",
    "                          FROM fund\n",
    "                          WHERE country_code LIKE 'USA')\n",
    "        ),\n",
    "\n",
    "tab4 AS (SELECT month,\n",
    "                COUNT(DISTINCT name) AS count_USA\n",
    "         FROM tab1 \n",
    "         LEFT JOIN tab3 ON tab1.funding_round_id = tab3.funding_round_id\n",
    "         GROUP BY month)\n",
    "         \n",
    "SELECT tab4.month,\n",
    "       tab4.count_USA,\n",
    "       tab2.count_acquired,\n",
    "       tab2.total_amount\n",
    "FROM tab4 \n",
    "LEFT JOIN tab2 ON tab4.month = tab2.month;"
   ]
  },
  {
   "cell_type": "markdown",
   "id": "c8a40ded",
   "metadata": {},
   "source": [
    "23.\n",
    "Составьте сводную таблицу и выведите среднюю сумму инвестиций для стран, в которых есть стартапы, зарегистрированные в 2011, 2012 и 2013 годах. Данные за каждый год должны быть в отдельном поле. Отсортируйте таблицу по среднему значению инвестиций за 2011 год от большего к меньшему."
   ]
  },
  {
   "cell_type": "code",
   "execution_count": null,
   "id": "c4bfe24c",
   "metadata": {},
   "outputs": [],
   "source": [
    "WITH\n",
    "total_11 AS (SELECT AVG(funding_total) AS total_2011,\n",
    "                      country_code\n",
    "               FROM company\n",
    "               GROUP BY country_code,\n",
    "               EXTRACT(YEAR FROM founded_at)\n",
    "               HAVING EXTRACT(YEAR FROM founded_at) = 2011),            \n",
    "total_12 AS (SELECT AVG(funding_total) AS total_2012,\n",
    "                      country_code\n",
    "               FROM company\n",
    "               GROUP BY country_code,\n",
    "               EXTRACT(YEAR FROM founded_at)\n",
    "               HAVING EXTRACT(YEAR FROM founded_at) = 2012),\n",
    "total_13 AS (SELECT AVG(funding_total) AS total_2013,\n",
    "                      country_code\n",
    "               FROM company\n",
    "               GROUP BY country_code,\n",
    "               EXTRACT(YEAR FROM founded_at)\n",
    "               HAVING EXTRACT(YEAR FROM founded_at) = 2013)\n",
    "SELECT total_11.country_code,\n",
    "       total_11.total_2011,\n",
    "       total_12.total_2012,\n",
    "       total_13.total_2013\n",
    "FROM total_11 \n",
    "INNER JOIN total_12 ON total_11.country_code = total_12.country_code\n",
    "INNER JOIN total_13 ON total_11.country_code = total_13.country_code\n",
    "ORDER BY total_11.total_2011 DESC;"
   ]
  }
 ],
 "metadata": {
  "kernelspec": {
   "display_name": "Python 3 (ipykernel)",
   "language": "python",
   "name": "python3"
  },
  "language_info": {
   "codemirror_mode": {
    "name": "ipython",
    "version": 3
   },
   "file_extension": ".py",
   "mimetype": "text/x-python",
   "name": "python",
   "nbconvert_exporter": "python",
   "pygments_lexer": "ipython3",
   "version": "3.9.13"
  }
 },
 "nbformat": 4,
 "nbformat_minor": 5
}

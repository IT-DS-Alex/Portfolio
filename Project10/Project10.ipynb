{
 "cells": [
  {
   "cell_type": "markdown",
   "metadata": {
    "toc": true
   },
   "source": [
    "<h1>Содержание<span class=\"tocSkip\"></span></h1>\n",
    "<div class=\"toc\"><ul class=\"toc-item\"><li><span><a href=\"#Загрузка-данных\" data-toc-modified-id=\"Загрузка-данных-1\"><span class=\"toc-item-num\">1&nbsp;&nbsp;</span>Загрузка данных</a></span></li><li><span><a href=\"#Умножение-матриц\" data-toc-modified-id=\"Умножение-матриц-2\"><span class=\"toc-item-num\">2&nbsp;&nbsp;</span>Умножение матриц</a></span></li><li><span><a href=\"#Алгоритм-преобразования\" data-toc-modified-id=\"Алгоритм-преобразования-3\"><span class=\"toc-item-num\">3&nbsp;&nbsp;</span>Алгоритм преобразования</a></span></li><li><span><a href=\"#Проверка-алгоритма\" data-toc-modified-id=\"Проверка-алгоритма-4\"><span class=\"toc-item-num\">4&nbsp;&nbsp;</span>Проверка алгоритма</a></span></li><li><span><a href=\"#Чек-лист-проверки\" data-toc-modified-id=\"Чек-лист-проверки-5\"><span class=\"toc-item-num\">5&nbsp;&nbsp;</span>Чек-лист проверки</a></span></li><li><span><a href=\"#Финальные-комментарии-ревьюера\" data-toc-modified-id=\"Финальные-комментарии-ревьюера-6\"><span class=\"toc-item-num\">6&nbsp;&nbsp;</span>Финальные комментарии ревьюера</a></span></li></ul></div>"
   ]
  },
  {
   "cell_type": "markdown",
   "metadata": {},
   "source": [
    "# Защита персональных данных клиентов"
   ]
  },
  {
   "cell_type": "markdown",
   "metadata": {},
   "source": [
    "Вам нужно защитить данные клиентов страховой компании «Хоть потоп». Разработайте такой метод преобразования данных, чтобы по ним было сложно восстановить персональную информацию. Обоснуйте корректность его работы.\n",
    "\n",
    "Нужно защитить данные, чтобы при преобразовании качество моделей машинного обучения не ухудшилось. Подбирать наилучшую модель не требуется."
   ]
  },
  {
   "cell_type": "markdown",
   "metadata": {},
   "source": [
    "## Загрузка данных"
   ]
  },
  {
   "cell_type": "markdown",
   "metadata": {},
   "source": [
    "Использум библиотеки:"
   ]
  },
  {
   "cell_type": "code",
   "execution_count": 1,
   "metadata": {},
   "outputs": [],
   "source": [
    "import pandas as pd\n",
    "import numpy as np\n",
    "from sklearn.metrics import r2_score\n",
    "import matplotlib.pyplot as plt\n",
    "import seaborn as sns"
   ]
  },
  {
   "cell_type": "markdown",
   "metadata": {},
   "source": [
    "Загружаем данные:"
   ]
  },
  {
   "cell_type": "code",
   "execution_count": 2,
   "metadata": {},
   "outputs": [],
   "source": [
    "data = pd.read_csv ('/datasets/insurance.csv')"
   ]
  },
  {
   "cell_type": "markdown",
   "metadata": {},
   "source": [
    "Изучаем и анализируем данные:"
   ]
  },
  {
   "cell_type": "code",
   "execution_count": 3,
   "metadata": {},
   "outputs": [
    {
     "data": {
      "text/html": [
       "<div>\n",
       "<style scoped>\n",
       "    .dataframe tbody tr th:only-of-type {\n",
       "        vertical-align: middle;\n",
       "    }\n",
       "\n",
       "    .dataframe tbody tr th {\n",
       "        vertical-align: top;\n",
       "    }\n",
       "\n",
       "    .dataframe thead th {\n",
       "        text-align: right;\n",
       "    }\n",
       "</style>\n",
       "<table border=\"1\" class=\"dataframe\">\n",
       "  <thead>\n",
       "    <tr style=\"text-align: right;\">\n",
       "      <th></th>\n",
       "      <th>Пол</th>\n",
       "      <th>Возраст</th>\n",
       "      <th>Зарплата</th>\n",
       "      <th>Члены семьи</th>\n",
       "      <th>Страховые выплаты</th>\n",
       "    </tr>\n",
       "  </thead>\n",
       "  <tbody>\n",
       "    <tr>\n",
       "      <th>0</th>\n",
       "      <td>1</td>\n",
       "      <td>41.0</td>\n",
       "      <td>49600.0</td>\n",
       "      <td>1</td>\n",
       "      <td>0</td>\n",
       "    </tr>\n",
       "    <tr>\n",
       "      <th>1</th>\n",
       "      <td>0</td>\n",
       "      <td>46.0</td>\n",
       "      <td>38000.0</td>\n",
       "      <td>1</td>\n",
       "      <td>1</td>\n",
       "    </tr>\n",
       "    <tr>\n",
       "      <th>2</th>\n",
       "      <td>0</td>\n",
       "      <td>29.0</td>\n",
       "      <td>21000.0</td>\n",
       "      <td>0</td>\n",
       "      <td>0</td>\n",
       "    </tr>\n",
       "    <tr>\n",
       "      <th>3</th>\n",
       "      <td>0</td>\n",
       "      <td>21.0</td>\n",
       "      <td>41700.0</td>\n",
       "      <td>2</td>\n",
       "      <td>0</td>\n",
       "    </tr>\n",
       "    <tr>\n",
       "      <th>4</th>\n",
       "      <td>1</td>\n",
       "      <td>28.0</td>\n",
       "      <td>26100.0</td>\n",
       "      <td>0</td>\n",
       "      <td>0</td>\n",
       "    </tr>\n",
       "  </tbody>\n",
       "</table>\n",
       "</div>"
      ],
      "text/plain": [
       "   Пол  Возраст  Зарплата  Члены семьи  Страховые выплаты\n",
       "0    1     41.0   49600.0            1                  0\n",
       "1    0     46.0   38000.0            1                  1\n",
       "2    0     29.0   21000.0            0                  0\n",
       "3    0     21.0   41700.0            2                  0\n",
       "4    1     28.0   26100.0            0                  0"
      ]
     },
     "execution_count": 3,
     "metadata": {},
     "output_type": "execute_result"
    }
   ],
   "source": [
    "data.head()"
   ]
  },
  {
   "cell_type": "code",
   "execution_count": 4,
   "metadata": {},
   "outputs": [
    {
     "name": "stdout",
     "output_type": "stream",
     "text": [
      "<class 'pandas.core.frame.DataFrame'>\n",
      "RangeIndex: 5000 entries, 0 to 4999\n",
      "Data columns (total 5 columns):\n",
      " #   Column             Non-Null Count  Dtype  \n",
      "---  ------             --------------  -----  \n",
      " 0   Пол                5000 non-null   int64  \n",
      " 1   Возраст            5000 non-null   float64\n",
      " 2   Зарплата           5000 non-null   float64\n",
      " 3   Члены семьи        5000 non-null   int64  \n",
      " 4   Страховые выплаты  5000 non-null   int64  \n",
      "dtypes: float64(2), int64(3)\n",
      "memory usage: 195.4 KB\n"
     ]
    }
   ],
   "source": [
    "data.info()"
   ]
  },
  {
   "cell_type": "code",
   "execution_count": 5,
   "metadata": {},
   "outputs": [
    {
     "data": {
      "text/plain": [
       "Пол                  0\n",
       "Возраст              0\n",
       "Зарплата             0\n",
       "Члены семьи          0\n",
       "Страховые выплаты    0\n",
       "dtype: int64"
      ]
     },
     "execution_count": 5,
     "metadata": {},
     "output_type": "execute_result"
    }
   ],
   "source": [
    "data.isna().sum()"
   ]
  },
  {
   "cell_type": "code",
   "execution_count": 6,
   "metadata": {},
   "outputs": [
    {
     "data": {
      "text/plain": [
       "153"
      ]
     },
     "execution_count": 6,
     "metadata": {},
     "output_type": "execute_result"
    }
   ],
   "source": [
    "data.duplicated().sum()"
   ]
  },
  {
   "cell_type": "code",
   "execution_count": 7,
   "metadata": {},
   "outputs": [],
   "source": [
    "data = data.drop_duplicates ()"
   ]
  },
  {
   "cell_type": "code",
   "execution_count": 8,
   "metadata": {},
   "outputs": [
    {
     "data": {
      "image/png": "[encoded data removed]",
      "text/plain": [
       "<Figure size 1080x1440 with 10 Axes>"
      ]
     },
     "metadata": {
      "needs_background": "light"
     },
     "output_type": "display_data"
    }
   ],
   "source": [
    "position = 0\n",
    "num_region = None\n",
    "plt.figure(figsize=[15, 20])\n",
    "plt.subplots_adjust(top=0.94, wspace=0.5, hspace=0.5)\n",
    "plt.suptitle('ЯЩИК С УСАМИ ДЛЯ ПРИЗНАКОВ.', fontsize=15)\n",
    "\n",
    "for column_name in data.columns:\n",
    "    position += 1\n",
    "    plt.subplot(5, 2, position)\n",
    "    sns.set_style('darkgrid')\n",
    "    plt.title(f'BOXPLOT - {column_name.upper()}', fontsize=10)\n",
    "    sns.set_style('darkgrid')\n",
    "    sns.boxplot(data=data[column_name], orient='h')\n",
    "    plt.axvline(np.mean(data[column_name]), \n",
    "                color='r', \n",
    "                linestyle='-',\n",
    "                label='СРЕДНЕЕ')\n",
    "    plt.legend(title=f'СРЕДНЕЕ = {np.mean(data[column_name]):.2f}, МЕДИАНА = {np.median(data[column_name]):.2f}', \n",
    "               loc='center', \n",
    "               edgecolor = 'r',\n",
    "               facecolor = 'oldlace',\n",
    "               bbox_to_anchor=(0.5, -0.24))\n",
    "    position += 1\n",
    "    plt.subplot(5, 2, position)\n",
    "    sns.set_style('darkgrid')\n",
    "    plt.title(f'Гистограмма - {column_name.upper()}', fontsize=10)\n",
    "    sns.histplot(data[column_name], color='b', label='Сырье', kde=False)\n",
    "plt.show()"
   ]
  },
  {
   "cell_type": "markdown",
   "metadata": {},
   "source": [
    "# Вывод:\n",
    "Типы данных - устраивают.\n",
    "\n",
    "Пропусков нет.\n",
    "\n",
    "153 дубликата данных - удалили, можно было и оставить.\n",
    "\n",
    "Пол - столбец с категориальными данными.\n",
    "\n",
    "В данных есть выбросы. Значимых нарушений нет."
   ]
  },
  {
   "cell_type": "markdown",
   "metadata": {},
   "source": [
    "## Умножение матриц"
   ]
  },
  {
   "cell_type": "markdown",
   "metadata": {},
   "source": [
    "В этом задании вы можете записывать формулы в *Jupyter Notebook.*\n",
    "\n",
    "Чтобы записать формулу внутри текста, окружите её символами доллара \\\\$; если снаружи —  двойными символами \\\\$\\\\$. Эти формулы записываются на языке вёрстки *LaTeX.* \n",
    "\n",
    "Для примера мы записали формулы линейной регрессии. Можете их скопировать и отредактировать, чтобы решить задачу.\n",
    "\n",
    "Работать в *LaTeX* необязательно."
   ]
  },
  {
   "cell_type": "markdown",
   "metadata": {},
   "source": [
    "Обозначения:\n",
    "\n",
    "- $X$ — матрица признаков (нулевой столбец состоит из единиц)\n",
    "\n",
    "- $y$ — вектор целевого признака\n",
    "\n",
    "- $P$ — матрица, на которую умножаются признаки\n",
    "\n",
    "- $w$ — вектор весов линейной регрессии (нулевой элемент равен сдвигу)"
   ]
  },
  {
   "cell_type": "markdown",
   "metadata": {},
   "source": [
    "Предсказания:\n",
    "\n",
    "$$\n",
    "a = Xw\n",
    "$$\n",
    "\n",
    "Задача обучения:\n",
    "\n",
    "$$\n",
    "w = \\arg\\min_w MSE(Xw, y)\n",
    "$$\n",
    "\n",
    "Формула обучения:\n",
    "\n",
    "$$\n",
    "w = (X^T X)^{-1} X^T y\n",
    "$$"
   ]
  },
  {
   "cell_type": "markdown",
   "metadata": {},
   "source": [
    "**Ответ:** Качество линейной регрессии не изменится, изменится лишь вектор весов линейной регрессии для новых признаков.\n",
    "\n",
    "**Обоснование:** \n",
    "\n",
    "Представим нашу новую матрицу:\n",
    "\n",
    "$$\n",
    "X1 = XP\n",
    "$$\n",
    "\n",
    "Тогда наша формула обучения примет вид: \n",
    "\n",
    "$$\n",
    "w1 = (X1^T X1)^{-1} X1^T y =((XP)^T XP)^{-1} (XP)^T y\n",
    "$$\n",
    "\n",
    "Воспользуемся свойствами матриц и тогда наша формула для расчета вектора весов получит вид:\n",
    "\n",
    "$$\n",
    "w1 = ((XP)^T XP)^{-1} (XP)^T y\n",
    "$$\n",
    "$$\n",
    "w1 = (P^T (X^T X) P)^{-1} (XP)^T y\n",
    "$$\n",
    "$$\n",
    "w1 = (P^T (X^T X) P)^{-1} P^T X^T y\n",
    "$$\n",
    "$$\n",
    "w1 = P^{-1} (X^T X)^{-1} (P^T)^{-1} P^T X^T y\n",
    "$$\n",
    "$$\n",
    "w1 =  P^{-1} (X^T X)^{-1} EX^T y\n",
    "$$\n",
    "$$\n",
    "w1 = P^{-1} w\n",
    "$$\n",
    "\n",
    "Тоже самое, для формулы предсказаний: \n",
    "$\n",
    "a1 = X1w1\n",
    "$\n",
    "подставив получившиеся значения\n",
    "$\n",
    "X1 = XP\n",
    "$\n",
    "и\n",
    "$\n",
    "w1 = P^{-1} w\n",
    "$\n",
    ",получим:\n",
    "$$\n",
    "a1 = XPP^{-1} w\n",
    "$$\n",
    "следует, что\n",
    "$$\n",
    "a1 = Xw\n",
    "$$\n",
    "Тем самым получаем, что наши предсказания никоем образом не изменятся."
   ]
  },
  {
   "cell_type": "markdown",
   "metadata": {},
   "source": [
    "## Алгоритм преобразования"
   ]
  },
  {
   "cell_type": "markdown",
   "metadata": {},
   "source": [
    "**Алгоритм**\n",
    "\n",
    "1. Cгенерировать обратимую матрицу - 4х4.\n",
    "\n",
    "2. Проверка сгенерированной матрицы на обратимость (с помощью np.linalg.inv)\n",
    "\n",
    "3. Умножить матрицу исходных признаков на сгенерированную матрицу.\n",
    "\n",
    "4. Посчитать качество модели на полученной матрице и сравнить с качеством модели на матрице исходных данных."
   ]
  },
  {
   "cell_type": "markdown",
   "metadata": {},
   "source": [
    "**Обоснование**\n",
    "\n",
    "Результаты метрики R2 должны оказаться равны - это будет доказывать, что данные защетили правильно."
   ]
  },
  {
   "cell_type": "markdown",
   "metadata": {},
   "source": [
    "## Проверка алгоритма"
   ]
  },
  {
   "cell_type": "markdown",
   "metadata": {},
   "source": [
    "Исходные признаки"
   ]
  },
  {
   "cell_type": "code",
   "execution_count": 9,
   "metadata": {},
   "outputs": [],
   "source": [
    "features = data.drop('Страховые выплаты', axis=1)\n",
    "target = data['Страховые выплаты']"
   ]
  },
  {
   "cell_type": "markdown",
   "metadata": {},
   "source": [
    "Сгенерируем матрицу размером 4х4 методом random.normal ()"
   ]
  },
  {
   "cell_type": "code",
   "execution_count": 10,
   "metadata": {},
   "outputs": [
    {
     "data": {
      "text/plain": [
       "array([[ 0.49981436, -2.76638215, -0.1434278 ,  1.38177578],\n",
       "       [-2.1624337 ,  0.07098127,  0.36765596, -0.2394815 ],\n",
       "       [-0.04965608,  1.75982226,  0.298787  ,  0.15597676],\n",
       "       [ 1.73436704, -0.19738815, -0.8462862 ,  0.6011026 ]])"
      ]
     },
     "metadata": {},
     "output_type": "display_data"
    }
   ],
   "source": [
    "matrix_generated = np.random.normal(size=(4, 4))\n",
    "display (matrix_generated)"
   ]
  },
  {
   "cell_type": "markdown",
   "metadata": {},
   "source": [
    "Проверим матрицу на обратимость."
   ]
  },
  {
   "cell_type": "markdown",
   "metadata": {},
   "source": [
    "Сделаем из нашей сгенерированной матрицы обратную методом linalg.inv()"
   ]
  },
  {
   "cell_type": "markdown",
   "metadata": {},
   "source": [
    "Создадим матрицу из наших изначальных признаков, перемножим ее на сгенерированную и обращенную матрицу и составим из полученной новый набор измененных признаков"
   ]
  },
  {
   "cell_type": "code",
   "execution_count": 11,
   "metadata": {},
   "outputs": [
    {
     "data": {
      "text/plain": [
       "array([[ 0.00934935, -0.70479737,  0.00895822, -0.30461009],\n",
       "       [-0.11807167,  0.14328769,  0.40200089,  0.2241889 ],\n",
       "       [ 0.42151008, -1.17998245,  0.53326406, -1.57742319],\n",
       "       [ 0.52769195,  0.41932569,  0.85693754,  0.39528435]])"
      ]
     },
     "metadata": {},
     "output_type": "display_data"
    }
   ],
   "source": [
    "matrix_invert = np.linalg.inv(matrix_generated)\n",
    "display (matrix_invert)"
   ]
  },
  {
   "cell_type": "code",
   "execution_count": 12,
   "metadata": {},
   "outputs": [],
   "source": [
    "matrix = features.values\n",
    "matrix_new = matrix@matrix_invert\n",
    "features_incode = pd.DataFrame (matrix_new, columns = features.columns)"
   ]
  },
  {
   "cell_type": "code",
   "execution_count": 13,
   "metadata": {},
   "outputs": [
    {
     "data": {
      "text/html": [
       "<div>\n",
       "<style scoped>\n",
       "    .dataframe tbody tr th:only-of-type {\n",
       "        vertical-align: middle;\n",
       "    }\n",
       "\n",
       "    .dataframe tbody tr th {\n",
       "        vertical-align: top;\n",
       "    }\n",
       "\n",
       "    .dataframe thead th {\n",
       "        text-align: right;\n",
       "    }\n",
       "</style>\n",
       "<table border=\"1\" class=\"dataframe\">\n",
       "  <thead>\n",
       "    <tr style=\"text-align: right;\">\n",
       "      <th></th>\n",
       "      <th>Пол</th>\n",
       "      <th>Возраст</th>\n",
       "      <th>Зарплата</th>\n",
       "      <th>Члены семьи</th>\n",
       "    </tr>\n",
       "  </thead>\n",
       "  <tbody>\n",
       "    <tr>\n",
       "      <th>0</th>\n",
       "      <td>20902.595963</td>\n",
       "      <td>-58521.540192</td>\n",
       "      <td>26467.245128</td>\n",
       "      <td>-78230.907869</td>\n",
       "    </tr>\n",
       "    <tr>\n",
       "      <th>1</th>\n",
       "      <td>16012.479352</td>\n",
       "      <td>-44832.322537</td>\n",
       "      <td>20283.383121</td>\n",
       "      <td>-59931.373296</td>\n",
       "    </tr>\n",
       "    <tr>\n",
       "      <th>2</th>\n",
       "      <td>8848.287556</td>\n",
       "      <td>-24775.476105</td>\n",
       "      <td>11210.203210</td>\n",
       "      <td>-33119.385539</td>\n",
       "    </tr>\n",
       "    <tr>\n",
       "      <th>3</th>\n",
       "      <td>17575.546124</td>\n",
       "      <td>-49201.420468</td>\n",
       "      <td>22247.267044</td>\n",
       "      <td>-65773.048542</td>\n",
       "    </tr>\n",
       "    <tr>\n",
       "      <th>4</th>\n",
       "      <td>10998.116374</td>\n",
       "      <td>-30794.234685</td>\n",
       "      <td>13929.456854</td>\n",
       "      <td>-41164.772614</td>\n",
       "    </tr>\n",
       "    <tr>\n",
       "      <th>...</th>\n",
       "      <td>...</td>\n",
       "      <td>...</td>\n",
       "      <td>...</td>\n",
       "      <td>...</td>\n",
       "    </tr>\n",
       "    <tr>\n",
       "      <th>4842</th>\n",
       "      <td>15045.659156</td>\n",
       "      <td>-42120.522755</td>\n",
       "      <td>19050.496712</td>\n",
       "      <td>-56306.940071</td>\n",
       "    </tr>\n",
       "    <tr>\n",
       "      <th>4843</th>\n",
       "      <td>22083.641333</td>\n",
       "      <td>-61825.789268</td>\n",
       "      <td>27957.561522</td>\n",
       "      <td>-82648.957517</td>\n",
       "    </tr>\n",
       "    <tr>\n",
       "      <th>4844</th>\n",
       "      <td>14287.885589</td>\n",
       "      <td>-39997.700647</td>\n",
       "      <td>18087.405404</td>\n",
       "      <td>-53469.371838</td>\n",
       "    </tr>\n",
       "    <tr>\n",
       "      <th>4845</th>\n",
       "      <td>13782.374393</td>\n",
       "      <td>-38581.720603</td>\n",
       "      <td>17449.158434</td>\n",
       "      <td>-51575.924957</td>\n",
       "    </tr>\n",
       "    <tr>\n",
       "      <th>4846</th>\n",
       "      <td>17110.540194</td>\n",
       "      <td>-47903.560883</td>\n",
       "      <td>21662.642609</td>\n",
       "      <td>-64037.013603</td>\n",
       "    </tr>\n",
       "  </tbody>\n",
       "</table>\n",
       "<p>4847 rows × 4 columns</p>\n",
       "</div>"
      ],
      "text/plain": [
       "               Пол       Возраст      Зарплата   Члены семьи\n",
       "0     20902.595963 -58521.540192  26467.245128 -78230.907869\n",
       "1     16012.479352 -44832.322537  20283.383121 -59931.373296\n",
       "2      8848.287556 -24775.476105  11210.203210 -33119.385539\n",
       "3     17575.546124 -49201.420468  22247.267044 -65773.048542\n",
       "4     10998.116374 -30794.234685  13929.456854 -41164.772614\n",
       "...            ...           ...           ...           ...\n",
       "4842  15045.659156 -42120.522755  19050.496712 -56306.940071\n",
       "4843  22083.641333 -61825.789268  27957.561522 -82648.957517\n",
       "4844  14287.885589 -39997.700647  18087.405404 -53469.371838\n",
       "4845  13782.374393 -38581.720603  17449.158434 -51575.924957\n",
       "4846  17110.540194 -47903.560883  21662.642609 -64037.013603\n",
       "\n",
       "[4847 rows x 4 columns]"
      ]
     },
     "execution_count": 13,
     "metadata": {},
     "output_type": "execute_result"
    }
   ],
   "source": [
    "features_incode"
   ]
  },
  {
   "cell_type": "markdown",
   "metadata": {},
   "source": [
    "Создадим класс LinearRegression для последующего обучения наших моделей"
   ]
  },
  {
   "cell_type": "code",
   "execution_count": 14,
   "metadata": {},
   "outputs": [],
   "source": [
    "class LinearRegression:\n",
    "    def fit(self, train_features, train_target):\n",
    "        X = np.concatenate((np.ones((train_features.shape[0], 1)), train_features), axis=1)\n",
    "        y = train_target\n",
    "        w = np.linalg.inv(X.T@X)@X.T@y\n",
    "        self.w = w[1:]\n",
    "        self.w0 = w[0]\n",
    "\n",
    "    def predict(self, test_features):\n",
    "        return test_features.dot(self.w) + self.w0"
   ]
  },
  {
   "cell_type": "markdown",
   "metadata": {},
   "source": [
    "Обучим модель на изначальных признаках и выведем на экран метрику качества R2"
   ]
  },
  {
   "cell_type": "code",
   "execution_count": 15,
   "metadata": {},
   "outputs": [
    {
     "name": "stdout",
     "output_type": "stream",
     "text": [
      "0.4302010044852068\n"
     ]
    }
   ],
   "source": [
    "model = LinearRegression()\n",
    "model.fit(features, target)\n",
    "predictions = model.predict(features)\n",
    "print(r2_score(target, predictions))"
   ]
  },
  {
   "cell_type": "markdown",
   "metadata": {},
   "source": [
    "Обучим модель на закодированных признаках и выведем на экран метрику качества R2"
   ]
  },
  {
   "cell_type": "code",
   "execution_count": 16,
   "metadata": {},
   "outputs": [
    {
     "name": "stdout",
     "output_type": "stream",
     "text": [
      "0.43020100448498066\n"
     ]
    }
   ],
   "source": [
    "model = LinearRegression()\n",
    "model.fit(features_incode, target)\n",
    "predictions = model.predict(features_incode)\n",
    "print(r2_score(target, predictions))"
   ]
  },
  {
   "cell_type": "markdown",
   "metadata": {},
   "source": [
    "Создадим функцию преобразования матрицы признаков."
   ]
  },
  {
   "cell_type": "code",
   "execution_count": 17,
   "metadata": {},
   "outputs": [],
   "source": [
    "def cipher_features(features):\n",
    "    crypted_features = features\n",
    "    n = features.shape[1]\n",
    "    np.random.seed(7072020)\n",
    "    cipher_matrix = np.random.randint(1, 10, (n,n))\n",
    "    det = np.linalg.det(cipher_matrix)\n",
    "    while det == 0:\n",
    "        np.random.seed(7072021)\n",
    "        cipher_matrix = np.random.randint(1, 10, (n,n))\n",
    "        det = np.linalg.det(cipher_matrix)\n",
    "    crypted_features = crypted_features @ cipher_matrix\n",
    "    return crypted_features, cipher_matrix"
   ]
  },
  {
   "cell_type": "code",
   "execution_count": 18,
   "metadata": {},
   "outputs": [
    {
     "data": {
      "text/html": [
       "<div>\n",
       "<style scoped>\n",
       "    .dataframe tbody tr th:only-of-type {\n",
       "        vertical-align: middle;\n",
       "    }\n",
       "\n",
       "    .dataframe tbody tr th {\n",
       "        vertical-align: top;\n",
       "    }\n",
       "\n",
       "    .dataframe thead th {\n",
       "        text-align: right;\n",
       "    }\n",
       "</style>\n",
       "<table border=\"1\" class=\"dataframe\">\n",
       "  <thead>\n",
       "    <tr style=\"text-align: right;\">\n",
       "      <th></th>\n",
       "      <th>Пол</th>\n",
       "      <th>Возраст</th>\n",
       "      <th>Зарплата</th>\n",
       "      <th>Члены семьи</th>\n",
       "    </tr>\n",
       "  </thead>\n",
       "  <tbody>\n",
       "    <tr>\n",
       "      <th>0</th>\n",
       "      <td>1</td>\n",
       "      <td>41.0</td>\n",
       "      <td>49600.0</td>\n",
       "      <td>1</td>\n",
       "    </tr>\n",
       "    <tr>\n",
       "      <th>1</th>\n",
       "      <td>0</td>\n",
       "      <td>46.0</td>\n",
       "      <td>38000.0</td>\n",
       "      <td>1</td>\n",
       "    </tr>\n",
       "    <tr>\n",
       "      <th>2</th>\n",
       "      <td>0</td>\n",
       "      <td>29.0</td>\n",
       "      <td>21000.0</td>\n",
       "      <td>0</td>\n",
       "    </tr>\n",
       "    <tr>\n",
       "      <th>3</th>\n",
       "      <td>0</td>\n",
       "      <td>21.0</td>\n",
       "      <td>41700.0</td>\n",
       "      <td>2</td>\n",
       "    </tr>\n",
       "    <tr>\n",
       "      <th>4</th>\n",
       "      <td>1</td>\n",
       "      <td>28.0</td>\n",
       "      <td>26100.0</td>\n",
       "      <td>0</td>\n",
       "    </tr>\n",
       "  </tbody>\n",
       "</table>\n",
       "</div>"
      ],
      "text/plain": [
       "   Пол  Возраст  Зарплата  Члены семьи\n",
       "0    1     41.0   49600.0            1\n",
       "1    0     46.0   38000.0            1\n",
       "2    0     29.0   21000.0            0\n",
       "3    0     21.0   41700.0            2\n",
       "4    1     28.0   26100.0            0"
      ]
     },
     "metadata": {},
     "output_type": "display_data"
    },
    {
     "data": {
      "text/html": [
       "<div>\n",
       "<style scoped>\n",
       "    .dataframe tbody tr th:only-of-type {\n",
       "        vertical-align: middle;\n",
       "    }\n",
       "\n",
       "    .dataframe tbody tr th {\n",
       "        vertical-align: top;\n",
       "    }\n",
       "\n",
       "    .dataframe thead th {\n",
       "        text-align: right;\n",
       "    }\n",
       "</style>\n",
       "<table border=\"1\" class=\"dataframe\">\n",
       "  <thead>\n",
       "    <tr style=\"text-align: right;\">\n",
       "      <th></th>\n",
       "      <th>0</th>\n",
       "      <th>1</th>\n",
       "      <th>2</th>\n",
       "      <th>3</th>\n",
       "    </tr>\n",
       "  </thead>\n",
       "  <tbody>\n",
       "    <tr>\n",
       "      <th>0</th>\n",
       "      <td>397184.0</td>\n",
       "      <td>49981.0</td>\n",
       "      <td>99373.0</td>\n",
       "      <td>248097.0</td>\n",
       "    </tr>\n",
       "    <tr>\n",
       "      <th>1</th>\n",
       "      <td>304422.0</td>\n",
       "      <td>38421.0</td>\n",
       "      <td>76185.0</td>\n",
       "      <td>190101.0</td>\n",
       "    </tr>\n",
       "    <tr>\n",
       "      <th>2</th>\n",
       "      <td>168261.0</td>\n",
       "      <td>21261.0</td>\n",
       "      <td>42116.0</td>\n",
       "      <td>105058.0</td>\n",
       "    </tr>\n",
       "    <tr>\n",
       "      <th>3</th>\n",
       "      <td>333805.0</td>\n",
       "      <td>41903.0</td>\n",
       "      <td>83486.0</td>\n",
       "      <td>208560.0</td>\n",
       "    </tr>\n",
       "    <tr>\n",
       "      <th>4</th>\n",
       "      <td>209059.0</td>\n",
       "      <td>26357.0</td>\n",
       "      <td>52320.0</td>\n",
       "      <td>130562.0</td>\n",
       "    </tr>\n",
       "  </tbody>\n",
       "</table>\n",
       "</div>"
      ],
      "text/plain": [
       "          0        1        2         3\n",
       "0  397184.0  49981.0  99373.0  248097.0\n",
       "1  304422.0  38421.0  76185.0  190101.0\n",
       "2  168261.0  21261.0  42116.0  105058.0\n",
       "3  333805.0  41903.0  83486.0  208560.0\n",
       "4  209059.0  26357.0  52320.0  130562.0"
      ]
     },
     "metadata": {},
     "output_type": "display_data"
    },
    {
     "data": {
      "text/plain": [
       "array([[7, 5, 8, 6],\n",
       "       [9, 9, 4, 2],\n",
       "       [8, 1, 2, 5],\n",
       "       [8, 7, 1, 9]])"
      ]
     },
     "execution_count": 18,
     "metadata": {},
     "output_type": "execute_result"
    }
   ],
   "source": [
    "display(features.head())\n",
    "features, cipher_matrix = cipher_features(features)\n",
    "display(features.head())\n",
    "cipher_matrix"
   ]
  },
  {
   "cell_type": "code",
   "execution_count": 19,
   "metadata": {},
   "outputs": [
    {
     "name": "stdout",
     "output_type": "stream",
     "text": [
      "\n",
      "Обратная матрица к заданной существует\n"
     ]
    }
   ],
   "source": [
    "try:\n",
    "    inv_matrix = np.linalg.inv(cipher_matrix)\n",
    "    print('\\nОбратная матрица к заданной существует')\n",
    "except:\n",
    "    print('\\nОбратная матрица к заданной не существует')"
   ]
  },
  {
   "cell_type": "markdown",
   "metadata": {},
   "source": [
    "# Вывод:\n",
    "\n",
    "Признаки: пол, возраст и зарплата застрахованного, количество членов его семьи.\n",
    "Целевой признак: количество страховых выплат клиенту.\n",
    "\n",
    "Типы данных - устраивают, пропусков нет, 153 дубликата данных - удалили, можно было и оставить.\n",
    "В данных есть выбросы. Значимых нарушений нет.\n",
    "\n",
    "Используемый алгоритм не создает различий в предсказаниях при использовании исходных параметров и модернизированных. Значит, качество предсказаний модели не ухудшится.\n",
    "\n",
    "Будем считать результаты метрики R2 равным (совпадение до 10 знака после запятой нас вполне устроит) - это доказывать, что данные защетили правильно."
   ]
  }
 ],
 "metadata": {
  "ExecuteTimeLog": [
   {
    "duration": 1042,
    "start_time": "2023-02-27T13:34:13.932Z"
   },
   {
    "duration": 114,
    "start_time": "2023-02-27T13:35:15.002Z"
   },
   {
    "duration": 17,
    "start_time": "2023-02-27T13:37:17.029Z"
   },
   {
    "duration": 13,
    "start_time": "2023-02-27T13:37:55.361Z"
   },
   {
    "duration": 6,
    "start_time": "2023-02-27T13:39:33.382Z"
   },
   {
    "duration": 7,
    "start_time": "2023-02-27T13:40:07.573Z"
   },
   {
    "duration": 5,
    "start_time": "2023-02-27T13:42:36.078Z"
   },
   {
    "duration": 7,
    "start_time": "2023-02-27T13:42:46.476Z"
   },
   {
    "duration": 1166,
    "start_time": "2023-02-28T11:17:18.068Z"
   },
   {
    "duration": 91,
    "start_time": "2023-02-28T11:17:19.237Z"
   },
   {
    "duration": 17,
    "start_time": "2023-02-28T11:17:19.478Z"
   },
   {
    "duration": 13,
    "start_time": "2023-02-28T11:17:19.856Z"
   },
   {
    "duration": 7,
    "start_time": "2023-02-28T11:17:20.206Z"
   },
   {
    "duration": 6,
    "start_time": "2023-02-28T11:17:20.550Z"
   },
   {
    "duration": 5,
    "start_time": "2023-02-28T11:17:20.888Z"
   },
   {
    "duration": 4,
    "start_time": "2023-02-28T11:18:00.393Z"
   },
   {
    "duration": 5,
    "start_time": "2023-02-28T11:18:02.799Z"
   },
   {
    "duration": 6,
    "start_time": "2023-02-28T11:18:06.132Z"
   },
   {
    "duration": 4,
    "start_time": "2023-02-28T11:18:10.495Z"
   },
   {
    "duration": 12,
    "start_time": "2023-02-28T11:18:11.259Z"
   },
   {
    "duration": 4,
    "start_time": "2023-02-28T11:22:04.836Z"
   },
   {
    "duration": 10,
    "start_time": "2023-02-28T11:22:07.267Z"
   },
   {
    "duration": 9,
    "start_time": "2023-02-28T11:22:13.864Z"
   },
   {
    "duration": 1261,
    "start_time": "2023-03-01T03:37:07.173Z"
   },
   {
    "duration": 90,
    "start_time": "2023-03-01T03:37:08.437Z"
   },
   {
    "duration": 18,
    "start_time": "2023-03-01T03:37:08.529Z"
   },
   {
    "duration": 20,
    "start_time": "2023-03-01T03:37:08.549Z"
   },
   {
    "duration": 8,
    "start_time": "2023-03-01T03:37:08.571Z"
   },
   {
    "duration": 6,
    "start_time": "2023-03-01T03:37:08.580Z"
   },
   {
    "duration": 6,
    "start_time": "2023-03-01T03:37:08.588Z"
   },
   {
    "duration": 6,
    "start_time": "2023-03-01T03:37:08.595Z"
   },
   {
    "duration": 8,
    "start_time": "2023-03-01T03:37:08.602Z"
   },
   {
    "duration": 38,
    "start_time": "2023-03-01T03:37:08.612Z"
   },
   {
    "duration": 103,
    "start_time": "2023-03-01T03:37:08.652Z"
   },
   {
    "duration": 29,
    "start_time": "2023-03-01T03:37:08.756Z"
   },
   {
    "duration": 5,
    "start_time": "2023-03-01T03:37:08.786Z"
   },
   {
    "duration": 12,
    "start_time": "2023-03-01T03:37:08.792Z"
   },
   {
    "duration": 114,
    "start_time": "2023-03-01T03:37:08.864Z"
   },
   {
    "duration": 1100,
    "start_time": "2023-03-01T09:41:07.030Z"
   },
   {
    "duration": 84,
    "start_time": "2023-03-01T09:41:08.184Z"
   },
   {
    "duration": 16,
    "start_time": "2023-03-01T09:41:09.302Z"
   },
   {
    "duration": 11,
    "start_time": "2023-03-01T09:41:09.895Z"
   },
   {
    "duration": 7,
    "start_time": "2023-03-01T09:41:11.109Z"
   },
   {
    "duration": 5,
    "start_time": "2023-03-01T09:41:11.733Z"
   },
   {
    "duration": 4,
    "start_time": "2023-03-01T09:41:14.423Z"
   },
   {
    "duration": 3,
    "start_time": "2023-03-01T09:41:24.577Z"
   },
   {
    "duration": 6,
    "start_time": "2023-03-01T09:41:25.809Z"
   },
   {
    "duration": 4,
    "start_time": "2023-03-01T09:41:27.035Z"
   },
   {
    "duration": 3,
    "start_time": "2023-03-01T09:41:30.368Z"
   },
   {
    "duration": 11,
    "start_time": "2023-03-01T09:41:31.291Z"
   },
   {
    "duration": 4,
    "start_time": "2023-03-01T09:41:33.851Z"
   },
   {
    "duration": 10,
    "start_time": "2023-03-01T09:41:34.904Z"
   },
   {
    "duration": 10,
    "start_time": "2023-03-01T09:41:38.919Z"
   },
   {
    "duration": 75,
    "start_time": "2023-03-01T09:41:55.115Z"
   },
   {
    "duration": 85,
    "start_time": "2023-03-01T09:42:59.555Z"
   },
   {
    "duration": 73,
    "start_time": "2023-03-01T09:43:55.999Z"
   },
   {
    "duration": 4,
    "start_time": "2023-03-01T09:44:11.891Z"
   },
   {
    "duration": 16,
    "start_time": "2023-03-01T09:44:15.985Z"
   },
   {
    "duration": 102,
    "start_time": "2023-03-01T09:52:51.150Z"
   },
   {
    "duration": 416,
    "start_time": "2023-03-01T09:53:32.147Z"
   },
   {
    "duration": 139,
    "start_time": "2023-03-01T09:53:37.859Z"
   },
   {
    "duration": 62,
    "start_time": "2023-03-01T09:54:04.770Z"
   },
   {
    "duration": 2410,
    "start_time": "2023-03-01T09:54:09.570Z"
   },
   {
    "duration": 2382,
    "start_time": "2023-03-01T09:54:49.801Z"
   },
   {
    "duration": 2522,
    "start_time": "2023-03-01T09:55:24.120Z"
   },
   {
    "duration": 2420,
    "start_time": "2023-03-01T09:55:37.052Z"
   },
   {
    "duration": 5,
    "start_time": "2023-03-01T10:12:31.089Z"
   },
   {
    "duration": 1416,
    "start_time": "2023-03-01T10:38:16.071Z"
   },
   {
    "duration": 29,
    "start_time": "2023-03-01T10:38:17.542Z"
   },
   {
    "duration": 14,
    "start_time": "2023-03-01T10:38:18.564Z"
   },
   {
    "duration": 12,
    "start_time": "2023-03-01T10:38:19.068Z"
   },
   {
    "duration": 6,
    "start_time": "2023-03-01T10:38:20.084Z"
   },
   {
    "duration": 8,
    "start_time": "2023-03-01T10:38:20.563Z"
   },
   {
    "duration": 5,
    "start_time": "2023-03-01T10:38:21.060Z"
   },
   {
    "duration": 2457,
    "start_time": "2023-03-01T10:38:23.075Z"
   },
   {
    "duration": 4,
    "start_time": "2023-03-01T10:38:34.882Z"
   },
   {
    "duration": 5,
    "start_time": "2023-03-01T10:38:35.845Z"
   },
   {
    "duration": 6,
    "start_time": "2023-03-01T10:38:36.880Z"
   },
   {
    "duration": 3,
    "start_time": "2023-03-01T10:38:38.438Z"
   },
   {
    "duration": 13,
    "start_time": "2023-03-01T10:38:39.112Z"
   },
   {
    "duration": 4,
    "start_time": "2023-03-01T10:38:40.482Z"
   },
   {
    "duration": 8,
    "start_time": "2023-03-01T10:38:41.657Z"
   },
   {
    "duration": 8,
    "start_time": "2023-03-01T10:38:42.852Z"
   },
   {
    "duration": 4,
    "start_time": "2023-03-01T10:38:45.568Z"
   },
   {
    "duration": 17,
    "start_time": "2023-03-01T10:38:47.556Z"
   },
   {
    "duration": 5,
    "start_time": "2023-03-01T10:38:50.825Z"
   },
   {
    "duration": 1734,
    "start_time": "2023-03-02T03:24:05.504Z"
   },
   {
    "duration": 95,
    "start_time": "2023-03-02T03:24:07.240Z"
   },
   {
    "duration": 12,
    "start_time": "2023-03-02T03:24:07.336Z"
   },
   {
    "duration": 14,
    "start_time": "2023-03-02T03:24:07.350Z"
   },
   {
    "duration": 6,
    "start_time": "2023-03-02T03:24:07.365Z"
   },
   {
    "duration": 5,
    "start_time": "2023-03-02T03:24:07.373Z"
   },
   {
    "duration": 4,
    "start_time": "2023-03-02T03:24:07.380Z"
   },
   {
    "duration": 2262,
    "start_time": "2023-03-02T03:24:07.385Z"
   },
   {
    "duration": 5,
    "start_time": "2023-03-02T03:24:09.648Z"
   },
   {
    "duration": 5,
    "start_time": "2023-03-02T03:24:09.656Z"
   },
   {
    "duration": 24,
    "start_time": "2023-03-02T03:24:09.663Z"
   },
   {
    "duration": 9,
    "start_time": "2023-03-02T03:24:09.689Z"
   },
   {
    "duration": 94,
    "start_time": "2023-03-02T03:24:09.700Z"
   },
   {
    "duration": 14,
    "start_time": "2023-03-02T03:24:09.796Z"
   },
   {
    "duration": 76,
    "start_time": "2023-03-02T03:24:09.811Z"
   },
   {
    "duration": 102,
    "start_time": "2023-03-02T03:24:09.888Z"
   },
   {
    "duration": 97,
    "start_time": "2023-03-02T03:24:09.991Z"
   },
   {
    "duration": 115,
    "start_time": "2023-03-02T03:24:10.089Z"
   },
   {
    "duration": 3,
    "start_time": "2023-03-02T03:24:10.205Z"
   }
  ],
  "kernelspec": {
   "display_name": "Python 3 (ipykernel)",
   "language": "python",
   "name": "python3"
  },
  "language_info": {
   "codemirror_mode": {
    "name": "ipython",
    "version": 3
   },
   "file_extension": ".py",
   "mimetype": "text/x-python",
   "name": "python",
   "nbconvert_exporter": "python",
   "pygments_lexer": "ipython3",
   "version": "3.9.13"
  },
  "toc": {
   "base_numbering": 1,
   "nav_menu": {},
   "number_sections": true,
   "sideBar": true,
   "skip_h1_title": true,
   "title_cell": "Содержание",
   "title_sidebar": "Contents",
   "toc_cell": true,
   "toc_position": {
    "height": "calc(100% - 180px)",
    "left": "10px",
    "top": "150px",
    "width": "165px"
   },
   "toc_section_display": true,
   "toc_window_display": true
  }
 },
 "nbformat": 4,
 "nbformat_minor": 2
}

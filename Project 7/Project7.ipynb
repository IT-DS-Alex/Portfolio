{
 "cells": [
  {
   "cell_type": "markdown",
   "metadata": {
    "toc": true
   },
   "source": [
    "<h1>Содержание<span class=\"tocSkip\"></span></h1>\n",
    "<div class=\"toc\"><ul class=\"toc-item\"><li><span><a href=\"#Подготовка-данных\" data-toc-modified-id=\"Подготовка-данных-1\"><span class=\"toc-item-num\">1&nbsp;&nbsp;</span>Подготовка данных</a></span></li><li><span><a href=\"#Исследование-задачи\" data-toc-modified-id=\"Исследование-задачи-2\"><span class=\"toc-item-num\">2&nbsp;&nbsp;</span>Исследование задачи</a></span></li><li><span><a href=\"#Борьба-с-дисбалансом\" data-toc-modified-id=\"Борьба-с-дисбалансом-3\"><span class=\"toc-item-num\">3&nbsp;&nbsp;</span>Борьба с дисбалансом</a></span></li><li><span><a href=\"#Тестирование-модели\" data-toc-modified-id=\"Тестирование-модели-4\"><span class=\"toc-item-num\">4&nbsp;&nbsp;</span>Тестирование модели</a></span></li><li><span><a href=\"#Общий-вывод:\" data-toc-modified-id=\"Общий-вывод:-5\"><span class=\"toc-item-num\">5&nbsp;&nbsp;</span>Общий вывод:</a></span></li></ul></div>"
   ]
  },
  {
   "cell_type": "markdown",
   "metadata": {},
   "source": [
    "# Отток клиентов"
   ]
  },
  {
   "cell_type": "markdown",
   "metadata": {},
   "source": [
    "Из «Бета-Банка» стали уходить клиенты. Каждый месяц. Немного, но заметно. Банковские маркетологи посчитали: сохранять текущих клиентов дешевле, чем привлекать новых.\n",
    "\n",
    "Нужно спрогнозировать, уйдёт клиент из банка в ближайшее время или нет. Вам предоставлены исторические данные о поведении клиентов и расторжении договоров с банком. \n",
    "\n",
    "Постройте модель с предельно большим значением *F1*-меры. Чтобы сдать проект успешно, нужно довести метрику до 0.59. Проверьте *F1*-меру на тестовой выборке самостоятельно.\n",
    "\n",
    "Дополнительно измеряйте *AUC-ROC*, сравнивайте её значение с *F1*-мерой.\n",
    "\n",
    "Источник данных: [https://www.kaggle.com/barelydedicated/bank-customer-churn-modeling](https://www.kaggle.com/barelydedicated/bank-customer-churn-modeling)"
   ]
  },
  {
   "cell_type": "markdown",
   "metadata": {},
   "source": [
    "## Подготовка данных"
   ]
  },
  {
   "cell_type": "code",
   "execution_count": 1,
   "metadata": {},
   "outputs": [],
   "source": [
    "import pandas as pd\n",
    "import matplotlib.pyplot as plt\n",
    "import numpy as np\n",
    "from sklearn.tree import DecisionTreeClassifier\n",
    "from sklearn.ensemble import RandomForestClassifier\n",
    "from sklearn.linear_model import LogisticRegression\n",
    "from sklearn.model_selection import train_test_split\n",
    "from sklearn.preprocessing import OrdinalEncoder\n",
    "from sklearn.preprocessing import StandardScaler\n",
    "from sklearn.metrics import f1_score\n",
    "from sklearn.utils import shuffle\n",
    "from sklearn.metrics import roc_curve\n",
    "from sklearn.metrics import roc_auc_score"
   ]
  },
  {
   "cell_type": "code",
   "execution_count": 2,
   "metadata": {},
   "outputs": [],
   "source": [
    "df = pd.read_csv('/datasets/Churn.csv')"
   ]
  },
  {
   "cell_type": "code",
   "execution_count": 3,
   "metadata": {},
   "outputs": [
    {
     "name": "stdout",
     "output_type": "stream",
     "text": [
      "<class 'pandas.core.frame.DataFrame'>\n",
      "RangeIndex: 10000 entries, 0 to 9999\n",
      "Data columns (total 14 columns):\n",
      " #   Column           Non-Null Count  Dtype  \n",
      "---  ------           --------------  -----  \n",
      " 0   RowNumber        10000 non-null  int64  \n",
      " 1   CustomerId       10000 non-null  int64  \n",
      " 2   Surname          10000 non-null  object \n",
      " 3   CreditScore      10000 non-null  int64  \n",
      " 4   Geography        10000 non-null  object \n",
      " 5   Gender           10000 non-null  object \n",
      " 6   Age              10000 non-null  int64  \n",
      " 7   Tenure           9091 non-null   float64\n",
      " 8   Balance          10000 non-null  float64\n",
      " 9   NumOfProducts    10000 non-null  int64  \n",
      " 10  HasCrCard        10000 non-null  int64  \n",
      " 11  IsActiveMember   10000 non-null  int64  \n",
      " 12  EstimatedSalary  10000 non-null  float64\n",
      " 13  Exited           10000 non-null  int64  \n",
      "dtypes: float64(3), int64(8), object(3)\n",
      "memory usage: 1.1+ MB\n"
     ]
    }
   ],
   "source": [
    "df.info()"
   ]
  },
  {
   "cell_type": "markdown",
   "metadata": {},
   "source": [
    "Признаки:\n",
    "\n",
    "RowNumber — индекс строки в данных (int64)\n",
    "\n",
    "CustomerId — уникальный идентификатор клиента (int64)\n",
    "\n",
    "Surname — фамилия (object)\n",
    "\n",
    "CreditScore — кредитный рейтинг (int64)\n",
    "\n",
    "Geography — страна проживания (object)\n",
    "\n",
    "Gender — пол (object)\n",
    "\n",
    "Age — возраст (int64)\n",
    "\n",
    "Tenure — количество недвижимости у клиента (float64)\n",
    "\n",
    "Balance — баланс на счёте (float64)\n",
    "\n",
    "NumOfProducts — количество продуктов банка, используемых клиентом (int64)\n",
    "\n",
    "HasCrCard — наличие кредитной карты (int64)\n",
    "\n",
    "IsActiveMember — активность клиента (int64)\n",
    "\n",
    "EstimatedSalary — предполагаемая зарплата (float64)\n",
    "\n",
    "Целевой признак:\n",
    "\n",
    "Exited — факт ухода клиента (int64)"
   ]
  },
  {
   "cell_type": "markdown",
   "metadata": {},
   "source": [
    "Вывод:\n",
    "\n",
    "В данных присутствуют столбцы (RowNumber,EstimatedSalary,CustomerId,Surname), которые не нужны для анализа - удаляем. Также есть пропуски в значении недвижимости. Это означает, что у клиента нет ее. Значит можно просто заменить 0 и перевести в целочисленный тип."
   ]
  },
  {
   "cell_type": "code",
   "execution_count": 4,
   "metadata": {},
   "outputs": [],
   "source": [
    "del_col=['RowNumber','EstimatedSalary','CustomerId','Surname']\n",
    "df=df.drop(del_col,axis=1)"
   ]
  },
  {
   "cell_type": "code",
   "execution_count": 5,
   "metadata": {},
   "outputs": [],
   "source": [
    "df['Tenure']=df['Tenure'].fillna(0).astype('int64')"
   ]
  },
  {
   "cell_type": "code",
   "execution_count": 6,
   "metadata": {},
   "outputs": [
    {
     "name": "stdout",
     "output_type": "stream",
     "text": [
      "<class 'pandas.core.frame.DataFrame'>\n",
      "RangeIndex: 10000 entries, 0 to 9999\n",
      "Data columns (total 10 columns):\n",
      " #   Column          Non-Null Count  Dtype  \n",
      "---  ------          --------------  -----  \n",
      " 0   CreditScore     10000 non-null  int64  \n",
      " 1   Geography       10000 non-null  object \n",
      " 2   Gender          10000 non-null  object \n",
      " 3   Age             10000 non-null  int64  \n",
      " 4   Tenure          10000 non-null  int64  \n",
      " 5   Balance         10000 non-null  float64\n",
      " 6   NumOfProducts   10000 non-null  int64  \n",
      " 7   HasCrCard       10000 non-null  int64  \n",
      " 8   IsActiveMember  10000 non-null  int64  \n",
      " 9   Exited          10000 non-null  int64  \n",
      "dtypes: float64(1), int64(7), object(2)\n",
      "memory usage: 781.4+ KB\n"
     ]
    }
   ],
   "source": [
    "df.info()"
   ]
  },
  {
   "cell_type": "code",
   "execution_count": 7,
   "metadata": {},
   "outputs": [
    {
     "data": {
      "text/html": [
       "<div>\n",
       "<style scoped>\n",
       "    .dataframe tbody tr th:only-of-type {\n",
       "        vertical-align: middle;\n",
       "    }\n",
       "\n",
       "    .dataframe tbody tr th {\n",
       "        vertical-align: top;\n",
       "    }\n",
       "\n",
       "    .dataframe thead th {\n",
       "        text-align: right;\n",
       "    }\n",
       "</style>\n",
       "<table border=\"1\" class=\"dataframe\">\n",
       "  <thead>\n",
       "    <tr style=\"text-align: right;\">\n",
       "      <th></th>\n",
       "      <th>CreditScore</th>\n",
       "      <th>Geography</th>\n",
       "      <th>Gender</th>\n",
       "      <th>Age</th>\n",
       "      <th>Tenure</th>\n",
       "      <th>Balance</th>\n",
       "      <th>NumOfProducts</th>\n",
       "      <th>HasCrCard</th>\n",
       "      <th>IsActiveMember</th>\n",
       "      <th>Exited</th>\n",
       "    </tr>\n",
       "  </thead>\n",
       "  <tbody>\n",
       "    <tr>\n",
       "      <th>0</th>\n",
       "      <td>619</td>\n",
       "      <td>France</td>\n",
       "      <td>Female</td>\n",
       "      <td>42</td>\n",
       "      <td>2</td>\n",
       "      <td>0.00</td>\n",
       "      <td>1</td>\n",
       "      <td>1</td>\n",
       "      <td>1</td>\n",
       "      <td>1</td>\n",
       "    </tr>\n",
       "    <tr>\n",
       "      <th>1</th>\n",
       "      <td>608</td>\n",
       "      <td>Spain</td>\n",
       "      <td>Female</td>\n",
       "      <td>41</td>\n",
       "      <td>1</td>\n",
       "      <td>83807.86</td>\n",
       "      <td>1</td>\n",
       "      <td>0</td>\n",
       "      <td>1</td>\n",
       "      <td>0</td>\n",
       "    </tr>\n",
       "    <tr>\n",
       "      <th>2</th>\n",
       "      <td>502</td>\n",
       "      <td>France</td>\n",
       "      <td>Female</td>\n",
       "      <td>42</td>\n",
       "      <td>8</td>\n",
       "      <td>159660.80</td>\n",
       "      <td>3</td>\n",
       "      <td>1</td>\n",
       "      <td>0</td>\n",
       "      <td>1</td>\n",
       "    </tr>\n",
       "    <tr>\n",
       "      <th>3</th>\n",
       "      <td>699</td>\n",
       "      <td>France</td>\n",
       "      <td>Female</td>\n",
       "      <td>39</td>\n",
       "      <td>1</td>\n",
       "      <td>0.00</td>\n",
       "      <td>2</td>\n",
       "      <td>0</td>\n",
       "      <td>0</td>\n",
       "      <td>0</td>\n",
       "    </tr>\n",
       "    <tr>\n",
       "      <th>4</th>\n",
       "      <td>850</td>\n",
       "      <td>Spain</td>\n",
       "      <td>Female</td>\n",
       "      <td>43</td>\n",
       "      <td>2</td>\n",
       "      <td>125510.82</td>\n",
       "      <td>1</td>\n",
       "      <td>1</td>\n",
       "      <td>1</td>\n",
       "      <td>0</td>\n",
       "    </tr>\n",
       "  </tbody>\n",
       "</table>\n",
       "</div>"
      ],
      "text/plain": [
       "   CreditScore Geography  Gender  Age  Tenure    Balance  NumOfProducts  \\\n",
       "0          619    France  Female   42       2       0.00              1   \n",
       "1          608     Spain  Female   41       1   83807.86              1   \n",
       "2          502    France  Female   42       8  159660.80              3   \n",
       "3          699    France  Female   39       1       0.00              2   \n",
       "4          850     Spain  Female   43       2  125510.82              1   \n",
       "\n",
       "   HasCrCard  IsActiveMember  Exited  \n",
       "0          1               1       1  \n",
       "1          0               1       0  \n",
       "2          1               0       1  \n",
       "3          0               0       0  \n",
       "4          1               1       0  "
      ]
     },
     "execution_count": 7,
     "metadata": {},
     "output_type": "execute_result"
    }
   ],
   "source": [
    "df.head()"
   ]
  },
  {
   "cell_type": "markdown",
   "metadata": {},
   "source": [
    "## Исследование задачи"
   ]
  },
  {
   "cell_type": "markdown",
   "metadata": {},
   "source": [
    "гистограмма значений оттока и оставшихся клиентов"
   ]
  },
  {
   "cell_type": "code",
   "execution_count": 8,
   "metadata": {},
   "outputs": [
    {
     "data": {
      "text/plain": [
       "Text(0, 0.5, 'Количество клиентов')"
      ]
     },
     "execution_count": 8,
     "metadata": {},
     "output_type": "execute_result"
    },
    {
     "data": {
      "image/png": "[encoded data removed]",
      "text/plain": [
       "<Figure size 720x432 with 1 Axes>"
      ]
     },
     "metadata": {
      "needs_background": "light"
     },
     "output_type": "display_data"
    }
   ],
   "source": [
    "df['Exited'].value_counts().plot(kind='bar',grid=True,figsize=(10,6))\n",
    "plt.title('Соотношение кто остался и кто ушел')\n",
    "plt.xlabel('Факт ухода клиента')\n",
    "plt.ylabel('Количество клиентов')"
   ]
  },
  {
   "cell_type": "markdown",
   "metadata": {},
   "source": [
    "Вывод:\n",
    "Соотношение оттока и тех кто остался 1:4. Такое соотношение говорит, что присутствует дисбаланс в данных."
   ]
  },
  {
   "cell_type": "markdown",
   "metadata": {},
   "source": [
    "Посмотрим как зависит возраст и отток клиентов"
   ]
  },
  {
   "cell_type": "code",
   "execution_count": 9,
   "metadata": {},
   "outputs": [
    {
     "data": {
      "image/png": "[encoded data removed]",
      "text/plain": [
       "<Figure size 1080x432 with 1 Axes>"
      ]
     },
     "metadata": {
      "needs_background": "light"
     },
     "output_type": "display_data"
    }
   ],
   "source": [
    "df.groupby('Age')['Exited'].sum().plot(figsize=(15,6),kind='bar')\n",
    "plt.title('Гистограмма возраста и оттока')\n",
    "plt.xlabel('Возраст клиента')\n",
    "plt.ylabel('Отток клиентов')\n",
    "plt.show()"
   ]
  },
  {
   "cell_type": "markdown",
   "metadata": {},
   "source": [
    "Вывод:\n",
    "Больше всего уходит клиентов в возрасте от 37 до 52 лет."
   ]
  },
  {
   "cell_type": "markdown",
   "metadata": {},
   "source": [
    "Посмотрим как зависит наличие недвижимости и отток клиентов"
   ]
  },
  {
   "cell_type": "code",
   "execution_count": 10,
   "metadata": {},
   "outputs": [
    {
     "data": {
      "image/png": "[encoded data removed]",
      "text/plain": [
       "<Figure size 1080x432 with 1 Axes>"
      ]
     },
     "metadata": {
      "needs_background": "light"
     },
     "output_type": "display_data"
    }
   ],
   "source": [
    "df.groupby('Tenure')['Exited'].count().plot(figsize=(15,6),kind='bar')\n",
    "plt.title('Гистограмма наличия недвижимости и оттока')\n",
    "plt.xlabel('Количество недвижемости')\n",
    "plt.ylabel('Отток клиентов')\n",
    "plt.show()"
   ]
  },
  {
   "cell_type": "markdown",
   "metadata": {},
   "source": [
    "Вывод:\n",
    "У кого нет недвижимости уходят чаще."
   ]
  },
  {
   "cell_type": "code",
   "execution_count": 11,
   "metadata": {},
   "outputs": [
    {
     "data": {
      "text/plain": [
       "Text(0, 0.5, 'Баланс на счете')"
      ]
     },
     "execution_count": 11,
     "metadata": {},
     "output_type": "execute_result"
    },
    {
     "data": {
      "image/png": "[encoded data removed]",
      "text/plain": [
       "<Figure size 432x288 with 1 Axes>"
      ]
     },
     "metadata": {
      "needs_background": "light"
     },
     "output_type": "display_data"
    }
   ],
   "source": [
    "df.groupby('Exited')['Balance'].median().plot(kind='bar')\n",
    "plt.title('Гистограмма медианного баланса денег у тех кто ушел и тех кто остался')\n",
    "plt.xlabel('Факт ухода клиента')\n",
    "plt.ylabel('Баланс на счете')"
   ]
  },
  {
   "cell_type": "code",
   "execution_count": 12,
   "metadata": {},
   "outputs": [
    {
     "data": {
      "text/html": [
       "<div>\n",
       "<style scoped>\n",
       "    .dataframe tbody tr th:only-of-type {\n",
       "        vertical-align: middle;\n",
       "    }\n",
       "\n",
       "    .dataframe tbody tr th {\n",
       "        vertical-align: top;\n",
       "    }\n",
       "\n",
       "    .dataframe thead th {\n",
       "        text-align: right;\n",
       "    }\n",
       "</style>\n",
       "<table border=\"1\" class=\"dataframe\">\n",
       "  <thead>\n",
       "    <tr style=\"text-align: right;\">\n",
       "      <th></th>\n",
       "      <th>CreditScore</th>\n",
       "      <th>Age</th>\n",
       "      <th>Tenure</th>\n",
       "      <th>Balance</th>\n",
       "      <th>NumOfProducts</th>\n",
       "      <th>HasCrCard</th>\n",
       "      <th>IsActiveMember</th>\n",
       "      <th>Exited</th>\n",
       "    </tr>\n",
       "  </thead>\n",
       "  <tbody>\n",
       "    <tr>\n",
       "      <th>CreditScore</th>\n",
       "      <td>1.000000</td>\n",
       "      <td>-0.003965</td>\n",
       "      <td>0.003087</td>\n",
       "      <td>0.006268</td>\n",
       "      <td>0.012238</td>\n",
       "      <td>-0.005458</td>\n",
       "      <td>0.025651</td>\n",
       "      <td>-0.027094</td>\n",
       "    </tr>\n",
       "    <tr>\n",
       "      <th>Age</th>\n",
       "      <td>-0.003965</td>\n",
       "      <td>1.000000</td>\n",
       "      <td>-0.007368</td>\n",
       "      <td>0.028308</td>\n",
       "      <td>-0.030680</td>\n",
       "      <td>-0.011721</td>\n",
       "      <td>0.085472</td>\n",
       "      <td>0.285323</td>\n",
       "    </tr>\n",
       "    <tr>\n",
       "      <th>Tenure</th>\n",
       "      <td>0.003087</td>\n",
       "      <td>-0.007368</td>\n",
       "      <td>1.000000</td>\n",
       "      <td>-0.005821</td>\n",
       "      <td>0.010106</td>\n",
       "      <td>0.021387</td>\n",
       "      <td>-0.025856</td>\n",
       "      <td>-0.013319</td>\n",
       "    </tr>\n",
       "    <tr>\n",
       "      <th>Balance</th>\n",
       "      <td>0.006268</td>\n",
       "      <td>0.028308</td>\n",
       "      <td>-0.005821</td>\n",
       "      <td>1.000000</td>\n",
       "      <td>-0.304180</td>\n",
       "      <td>-0.014858</td>\n",
       "      <td>-0.010084</td>\n",
       "      <td>0.118533</td>\n",
       "    </tr>\n",
       "    <tr>\n",
       "      <th>NumOfProducts</th>\n",
       "      <td>0.012238</td>\n",
       "      <td>-0.030680</td>\n",
       "      <td>0.010106</td>\n",
       "      <td>-0.304180</td>\n",
       "      <td>1.000000</td>\n",
       "      <td>0.003183</td>\n",
       "      <td>0.009612</td>\n",
       "      <td>-0.047820</td>\n",
       "    </tr>\n",
       "    <tr>\n",
       "      <th>HasCrCard</th>\n",
       "      <td>-0.005458</td>\n",
       "      <td>-0.011721</td>\n",
       "      <td>0.021387</td>\n",
       "      <td>-0.014858</td>\n",
       "      <td>0.003183</td>\n",
       "      <td>1.000000</td>\n",
       "      <td>-0.011866</td>\n",
       "      <td>-0.007138</td>\n",
       "    </tr>\n",
       "    <tr>\n",
       "      <th>IsActiveMember</th>\n",
       "      <td>0.025651</td>\n",
       "      <td>0.085472</td>\n",
       "      <td>-0.025856</td>\n",
       "      <td>-0.010084</td>\n",
       "      <td>0.009612</td>\n",
       "      <td>-0.011866</td>\n",
       "      <td>1.000000</td>\n",
       "      <td>-0.156128</td>\n",
       "    </tr>\n",
       "    <tr>\n",
       "      <th>Exited</th>\n",
       "      <td>-0.027094</td>\n",
       "      <td>0.285323</td>\n",
       "      <td>-0.013319</td>\n",
       "      <td>0.118533</td>\n",
       "      <td>-0.047820</td>\n",
       "      <td>-0.007138</td>\n",
       "      <td>-0.156128</td>\n",
       "      <td>1.000000</td>\n",
       "    </tr>\n",
       "  </tbody>\n",
       "</table>\n",
       "</div>"
      ],
      "text/plain": [
       "                CreditScore       Age    Tenure   Balance  NumOfProducts  \\\n",
       "CreditScore        1.000000 -0.003965  0.003087  0.006268       0.012238   \n",
       "Age               -0.003965  1.000000 -0.007368  0.028308      -0.030680   \n",
       "Tenure             0.003087 -0.007368  1.000000 -0.005821       0.010106   \n",
       "Balance            0.006268  0.028308 -0.005821  1.000000      -0.304180   \n",
       "NumOfProducts      0.012238 -0.030680  0.010106 -0.304180       1.000000   \n",
       "HasCrCard         -0.005458 -0.011721  0.021387 -0.014858       0.003183   \n",
       "IsActiveMember     0.025651  0.085472 -0.025856 -0.010084       0.009612   \n",
       "Exited            -0.027094  0.285323 -0.013319  0.118533      -0.047820   \n",
       "\n",
       "                HasCrCard  IsActiveMember    Exited  \n",
       "CreditScore     -0.005458        0.025651 -0.027094  \n",
       "Age             -0.011721        0.085472  0.285323  \n",
       "Tenure           0.021387       -0.025856 -0.013319  \n",
       "Balance         -0.014858       -0.010084  0.118533  \n",
       "NumOfProducts    0.003183        0.009612 -0.047820  \n",
       "HasCrCard        1.000000       -0.011866 -0.007138  \n",
       "IsActiveMember  -0.011866        1.000000 -0.156128  \n",
       "Exited          -0.007138       -0.156128  1.000000  "
      ]
     },
     "execution_count": 12,
     "metadata": {},
     "output_type": "execute_result"
    }
   ],
   "source": [
    "df.corr()"
   ]
  },
  {
   "cell_type": "markdown",
   "metadata": {},
   "source": [
    "Вывод:\n",
    "Видно, что все признаки не сильно коррелируются с целевым признаком."
   ]
  },
  {
   "cell_type": "code",
   "execution_count": 14,
   "metadata": {},
   "outputs": [
    {
     "name": "stdout",
     "output_type": "stream",
     "text": [
      "      CreditScore       Age    Tenure   Balance  NumOfProducts  HasCrCard  \\\n",
      "7479    -0.886751 -0.373192  1.104696  1.232271              1          1   \n",
      "3411     0.608663 -0.183385  1.104696  0.600563              1          0   \n",
      "6027     2.052152  0.480939 -0.503694  1.027098              2          0   \n",
      "1247    -1.457915 -1.417129  0.461340 -1.233163              2          1   \n",
      "3716     0.130961 -1.132419 -0.825373  1.140475              1          0   \n",
      "\n",
      "      IsActiveMember  Geography_Germany  Geography_Spain  Gender_Male  \n",
      "7479               0                  0                1            1  \n",
      "3411               0                  0                0            0  \n",
      "6027               1                  1                0            1  \n",
      "1247               0                  0                0            1  \n",
      "3716               0                  1                0            0  \n"
     ]
    }
   ],
   "source": [
    "target = df['Exited']\n",
    "target_test = df['Exited']\n",
    "features = df.drop('Exited', axis=1)\n",
    "features_test = df.drop('Exited', axis=1)\n",
    "\n",
    "features_train, features_valid, target_train, target_valid = train_test_split(\n",
    "    features, target, test_size=0.4, random_state=12345)\n",
    "\n",
    "features_valid, features_test, target_valid, target_test = train_test_split(\n",
    "    features, target, test_size=0.5, random_state=12345) \n",
    "\n",
    "features_train = pd.get_dummies(features_train, drop_first=True)\n",
    "features_valid = pd.get_dummies(features_valid, drop_first=True)\n",
    "features_test = pd.get_dummies(features_test, drop_first=True)\n",
    "\n",
    "numeric = ['CreditScore', 'Age', 'Tenure', 'Balance']\n",
    "\n",
    "scaler = StandardScaler()\n",
    "scaler.fit(features_train[numeric])\n",
    "\n",
    "features_train[numeric] = scaler.transform(features_train[numeric])\n",
    "features_valid[numeric]  = scaler.transform(features_valid[numeric])\n",
    "features_test[numeric]  = scaler.transform(features_test[numeric])\n",
    "\n",
    "pd.options.mode.chained_assignment = None\n",
    "\n",
    "print(features_train.head())"
   ]
  },
  {
   "cell_type": "code",
   "execution_count": 15,
   "metadata": {},
   "outputs": [
    {
     "data": {
      "text/html": [
       "<div>\n",
       "<style scoped>\n",
       "    .dataframe tbody tr th:only-of-type {\n",
       "        vertical-align: middle;\n",
       "    }\n",
       "\n",
       "    .dataframe tbody tr th {\n",
       "        vertical-align: top;\n",
       "    }\n",
       "\n",
       "    .dataframe thead th {\n",
       "        text-align: right;\n",
       "    }\n",
       "</style>\n",
       "<table border=\"1\" class=\"dataframe\">\n",
       "  <thead>\n",
       "    <tr style=\"text-align: right;\">\n",
       "      <th></th>\n",
       "      <th>CreditScore</th>\n",
       "      <th>Age</th>\n",
       "      <th>Tenure</th>\n",
       "      <th>Balance</th>\n",
       "      <th>NumOfProducts</th>\n",
       "      <th>HasCrCard</th>\n",
       "      <th>IsActiveMember</th>\n",
       "      <th>Geography_Germany</th>\n",
       "      <th>Geography_Spain</th>\n",
       "      <th>Gender_Male</th>\n",
       "    </tr>\n",
       "  </thead>\n",
       "  <tbody>\n",
       "    <tr>\n",
       "      <th>7867</th>\n",
       "      <td>-0.128659</td>\n",
       "      <td>0.670745</td>\n",
       "      <td>-0.503694</td>\n",
       "      <td>-1.233163</td>\n",
       "      <td>1</td>\n",
       "      <td>1</td>\n",
       "      <td>1</td>\n",
       "      <td>0</td>\n",
       "      <td>1</td>\n",
       "      <td>0</td>\n",
       "    </tr>\n",
       "    <tr>\n",
       "      <th>1402</th>\n",
       "      <td>1.086364</td>\n",
       "      <td>-0.942612</td>\n",
       "      <td>1.104696</td>\n",
       "      <td>0.864700</td>\n",
       "      <td>1</td>\n",
       "      <td>1</td>\n",
       "      <td>0</td>\n",
       "      <td>0</td>\n",
       "      <td>0</td>\n",
       "      <td>1</td>\n",
       "    </tr>\n",
       "    <tr>\n",
       "      <th>8606</th>\n",
       "      <td>1.605605</td>\n",
       "      <td>0.291132</td>\n",
       "      <td>0.139662</td>\n",
       "      <td>-1.233163</td>\n",
       "      <td>2</td>\n",
       "      <td>1</td>\n",
       "      <td>1</td>\n",
       "      <td>0</td>\n",
       "      <td>1</td>\n",
       "      <td>1</td>\n",
       "    </tr>\n",
       "    <tr>\n",
       "      <th>8885</th>\n",
       "      <td>0.162116</td>\n",
       "      <td>0.575842</td>\n",
       "      <td>-0.182016</td>\n",
       "      <td>0.416809</td>\n",
       "      <td>2</td>\n",
       "      <td>1</td>\n",
       "      <td>1</td>\n",
       "      <td>0</td>\n",
       "      <td>1</td>\n",
       "      <td>1</td>\n",
       "    </tr>\n",
       "    <tr>\n",
       "      <th>6494</th>\n",
       "      <td>0.484045</td>\n",
       "      <td>-1.037515</td>\n",
       "      <td>0.783018</td>\n",
       "      <td>-1.233163</td>\n",
       "      <td>2</td>\n",
       "      <td>1</td>\n",
       "      <td>1</td>\n",
       "      <td>0</td>\n",
       "      <td>0</td>\n",
       "      <td>1</td>\n",
       "    </tr>\n",
       "    <tr>\n",
       "      <th>...</th>\n",
       "      <td>...</td>\n",
       "      <td>...</td>\n",
       "      <td>...</td>\n",
       "      <td>...</td>\n",
       "      <td>...</td>\n",
       "      <td>...</td>\n",
       "      <td>...</td>\n",
       "      <td>...</td>\n",
       "      <td>...</td>\n",
       "      <td>...</td>\n",
       "    </tr>\n",
       "    <tr>\n",
       "      <th>8553</th>\n",
       "      <td>0.307503</td>\n",
       "      <td>1.809586</td>\n",
       "      <td>-0.182016</td>\n",
       "      <td>-1.233163</td>\n",
       "      <td>1</td>\n",
       "      <td>1</td>\n",
       "      <td>0</td>\n",
       "      <td>0</td>\n",
       "      <td>1</td>\n",
       "      <td>0</td>\n",
       "    </tr>\n",
       "    <tr>\n",
       "      <th>5032</th>\n",
       "      <td>0.328273</td>\n",
       "      <td>0.670745</td>\n",
       "      <td>-0.503694</td>\n",
       "      <td>0.424358</td>\n",
       "      <td>2</td>\n",
       "      <td>1</td>\n",
       "      <td>0</td>\n",
       "      <td>1</td>\n",
       "      <td>0</td>\n",
       "      <td>0</td>\n",
       "    </tr>\n",
       "    <tr>\n",
       "      <th>3951</th>\n",
       "      <td>1.605605</td>\n",
       "      <td>0.765649</td>\n",
       "      <td>1.426375</td>\n",
       "      <td>1.466149</td>\n",
       "      <td>1</td>\n",
       "      <td>0</td>\n",
       "      <td>0</td>\n",
       "      <td>0</td>\n",
       "      <td>0</td>\n",
       "      <td>0</td>\n",
       "    </tr>\n",
       "    <tr>\n",
       "      <th>4224</th>\n",
       "      <td>1.190212</td>\n",
       "      <td>0.765649</td>\n",
       "      <td>-0.825373</td>\n",
       "      <td>-1.233163</td>\n",
       "      <td>1</td>\n",
       "      <td>1</td>\n",
       "      <td>0</td>\n",
       "      <td>0</td>\n",
       "      <td>1</td>\n",
       "      <td>1</td>\n",
       "    </tr>\n",
       "    <tr>\n",
       "      <th>4042</th>\n",
       "      <td>0.889053</td>\n",
       "      <td>-0.088482</td>\n",
       "      <td>0.139662</td>\n",
       "      <td>1.632492</td>\n",
       "      <td>1</td>\n",
       "      <td>0</td>\n",
       "      <td>1</td>\n",
       "      <td>0</td>\n",
       "      <td>1</td>\n",
       "      <td>1</td>\n",
       "    </tr>\n",
       "  </tbody>\n",
       "</table>\n",
       "<p>5000 rows × 10 columns</p>\n",
       "</div>"
      ],
      "text/plain": [
       "      CreditScore       Age    Tenure   Balance  NumOfProducts  HasCrCard  \\\n",
       "7867    -0.128659  0.670745 -0.503694 -1.233163              1          1   \n",
       "1402     1.086364 -0.942612  1.104696  0.864700              1          1   \n",
       "8606     1.605605  0.291132  0.139662 -1.233163              2          1   \n",
       "8885     0.162116  0.575842 -0.182016  0.416809              2          1   \n",
       "6494     0.484045 -1.037515  0.783018 -1.233163              2          1   \n",
       "...           ...       ...       ...       ...            ...        ...   \n",
       "8553     0.307503  1.809586 -0.182016 -1.233163              1          1   \n",
       "5032     0.328273  0.670745 -0.503694  0.424358              2          1   \n",
       "3951     1.605605  0.765649  1.426375  1.466149              1          0   \n",
       "4224     1.190212  0.765649 -0.825373 -1.233163              1          1   \n",
       "4042     0.889053 -0.088482  0.139662  1.632492              1          0   \n",
       "\n",
       "      IsActiveMember  Geography_Germany  Geography_Spain  Gender_Male  \n",
       "7867               1                  0                1            0  \n",
       "1402               0                  0                0            1  \n",
       "8606               1                  0                1            1  \n",
       "8885               1                  0                1            1  \n",
       "6494               1                  0                0            1  \n",
       "...              ...                ...              ...          ...  \n",
       "8553               0                  0                1            0  \n",
       "5032               0                  1                0            0  \n",
       "3951               0                  0                0            0  \n",
       "4224               0                  0                1            1  \n",
       "4042               1                  0                1            1  \n",
       "\n",
       "[5000 rows x 10 columns]"
      ]
     },
     "execution_count": 15,
     "metadata": {},
     "output_type": "execute_result"
    }
   ],
   "source": [
    "features_test"
   ]
  },
  {
   "cell_type": "markdown",
   "metadata": {},
   "source": [
    "Обучение с помощью модели дерево решения"
   ]
  },
  {
   "cell_type": "code",
   "execution_count": 16,
   "metadata": {},
   "outputs": [
    {
     "name": "stdout",
     "output_type": "stream",
     "text": [
      "max_depth: 1 F1: 0.0\n",
      "max_depth: 2 F1: 0.5183887915936953\n",
      "max_depth: 3 F1: 0.40425531914893614\n",
      "max_depth: 4 F1: 0.5356917245735945\n",
      "max_depth: 5 F1: 0.550743374272786\n",
      "max_depth: 6 F1: 0.5920398009950248\n",
      "max_depth: 7 F1: 0.6148989898989898\n",
      "max_depth: 8 F1: 0.6443202979515829\n",
      "max_depth: 9 F1: 0.7011627906976745\n"
     ]
    }
   ],
   "source": [
    "for depth in range(1,10,1):\n",
    "    model_tree=DecisionTreeClassifier(max_depth=depth,random_state=1234).fit(features_train,target_train)\n",
    "    prediction=model_tree.predict(features_valid)\n",
    "    print('max_depth:',depth,'F1:',f1_score(target_valid,prediction))"
   ]
  },
  {
   "cell_type": "markdown",
   "metadata": {},
   "source": [
    "Вывод:\n",
    "лучшее значение max_depth=5, при котором F1=0,568"
   ]
  },
  {
   "cell_type": "markdown",
   "metadata": {},
   "source": [
    "Обучение с помощью модели случайный лес"
   ]
  },
  {
   "cell_type": "code",
   "execution_count": 17,
   "metadata": {},
   "outputs": [
    {
     "name": "stdout",
     "output_type": "stream",
     "text": [
      "max_depth: 1 F1: 0.0\n",
      "max_depth: 2 F1: 0.17219730941704034\n",
      "max_depth: 3 F1: 0.30844954881050046\n",
      "max_depth: 4 F1: 0.41463414634146345\n",
      "max_depth: 5 F1: 0.4913793103448276\n",
      "max_depth: 6 F1: 0.547700754975978\n",
      "max_depth: 7 F1: 0.592641261498029\n",
      "max_depth: 8 F1: 0.6283474853037231\n",
      "max_depth: 9 F1: 0.6529562982005142\n",
      "max_depth: 10 F1: 0.691046658259773\n",
      "max_depth: 11 F1: 0.7566265060240964\n",
      "max_depth: 12 F1: 0.8233944954128439\n",
      "max_depth: 13 F1: 0.8856048166392994\n",
      "max_depth: 14 F1: 0.9395203336809176\n",
      "max_depth: 15 F1: 0.9742554265522464\n",
      "max_depth: 16 F1: 0.9900596421471173\n",
      "max_depth: 17 F1: 0.9970384995064165\n",
      "max_depth: 18 F1: 0.999507631708518\n",
      "max_depth: 19 F1: 0.999507631708518\n"
     ]
    }
   ],
   "source": [
    "for max_depth in range(1,20,1):\n",
    "    model_forest=RandomForestClassifier(max_depth=max_depth,n_estimators=50,random_state=1234).fit(features_train,target_train)\n",
    "    prediction=model_forest.predict(features_valid)\n",
    "    print('max_depth:',max_depth,'F1:',f1_score(target_valid,prediction))"
   ]
  },
  {
   "cell_type": "markdown",
   "metadata": {},
   "source": [
    "Вывод: \n",
    "лучшее значение max_depth=11, при котором F1=0,574"
   ]
  },
  {
   "cell_type": "markdown",
   "metadata": {},
   "source": [
    "Циклом подбираем гиперпораметр n_estimators (количество деревьев)"
   ]
  },
  {
   "cell_type": "code",
   "execution_count": 18,
   "metadata": {},
   "outputs": [
    {
     "name": "stdout",
     "output_type": "stream",
     "text": [
      "estim 1 F1: 0.6454849498327759\n",
      "estim 3 F1: 0.7187864644107351\n",
      "estim 5 F1: 0.7397747480735033\n",
      "estim 7 F1: 0.7531083481349912\n",
      "estim 9 F1: 0.7467300832342448\n",
      "estim 11 F1: 0.7432675044883305\n",
      "estim 13 F1: 0.7492519449431478\n",
      "estim 15 F1: 0.7567244471010162\n",
      "estim 17 F1: 0.7635497319833233\n",
      "estim 19 F1: 0.7591153616258218\n",
      "estim 21 F1: 0.7533092659446451\n",
      "estim 23 F1: 0.755421686746988\n",
      "estim 25 F1: 0.757957957957958\n",
      "estim 27 F1: 0.7618476304739051\n",
      "estim 29 F1: 0.7585791691751956\n",
      "estim 31 F1: 0.7581227436823106\n",
      "estim 33 F1: 0.7593261131167268\n",
      "estim 35 F1: 0.7555823777911889\n",
      "estim 37 F1: 0.754671488848704\n",
      "estim 39 F1: 0.7600721587492485\n",
      "estim 41 F1: 0.755421686746988\n",
      "estim 43 F1: 0.75737507525587\n",
      "estim 45 F1: 0.7558770343580471\n",
      "estim 47 F1: 0.7528700906344411\n",
      "estim 49 F1: 0.7551266586248493\n"
     ]
    }
   ],
   "source": [
    "for estim in range(1,50,2):\n",
    "    model_forest=RandomForestClassifier(max_depth=11,n_estimators=estim,random_state=1234).fit(features_train,target_train)\n",
    "    prediction=model_forest.predict(features_valid)\n",
    "    print('estim',estim,'F1:',f1_score(target_valid,prediction))"
   ]
  },
  {
   "cell_type": "markdown",
   "metadata": {},
   "source": [
    "Вывод:\n",
    "лучшее значение max_depth=11 и n_estimators=31 при котором F1=0,575."
   ]
  },
  {
   "cell_type": "markdown",
   "metadata": {},
   "source": [
    "Обучение с помощью модели логистической регрессии"
   ]
  },
  {
   "cell_type": "code",
   "execution_count": 19,
   "metadata": {},
   "outputs": [
    {
     "name": "stdout",
     "output_type": "stream",
     "text": [
      "F1: 0.33978494623655914\n"
     ]
    }
   ],
   "source": [
    "model_logistic=LogisticRegression().fit(features_train,target_train)\n",
    "prediction=model_logistic.predict(features_valid)\n",
    "print('F1:',f1_score(target_valid,prediction))"
   ]
  },
  {
   "cell_type": "markdown",
   "metadata": {},
   "source": [
    "Вывод: F1=0.294\n",
    "\n",
    "Общий вывод:\n",
    "\n",
    "Рассматривая данные с дисбалансом (но, с переведенные категориальные и стандартизированные данные) тремя моделями можно сделать вывод, что саммая лучшая модель оказалась Случайный лес. При лучшем значении max_depth=11, мы имеем F1 меру =0,574 на тестовой(валидной) выборке."
   ]
  },
  {
   "cell_type": "markdown",
   "metadata": {},
   "source": [
    "## Борьба с дисбалансом"
   ]
  },
  {
   "cell_type": "markdown",
   "metadata": {},
   "source": [
    "Воспользуемся функцией Upsampling и увеличим количество клиентов оттока(target==1)"
   ]
  },
  {
   "cell_type": "code",
   "execution_count": 20,
   "metadata": {},
   "outputs": [],
   "source": [
    "def upsampling (features,target,repeat):\n",
    "    \n",
    "    target_one=target[target==1]\n",
    "    target_null=target[target==0]\n",
    "    features_one=features[target==1]\n",
    "    features_null=features[target==0]\n",
    "    \n",
    "    upsampling_features=pd.concat([features_null]+[features_one]*repeat)\n",
    "    upsampling_target=pd.concat([target_null]+[target_one]*repeat)\n",
    "    \n",
    "    upsampling_features,upsampling_target=shuffle(upsampling_features,upsampling_target,random_state=1234)\n",
    "    \n",
    "    return upsampling_features,upsampling_target"
   ]
  },
  {
   "cell_type": "code",
   "execution_count": 21,
   "metadata": {},
   "outputs": [],
   "source": [
    "features_balance_up,target_balance_up=upsampling(features_train,target_train,4)"
   ]
  },
  {
   "cell_type": "code",
   "execution_count": 22,
   "metadata": {},
   "outputs": [
    {
     "name": "stdout",
     "output_type": "stream",
     "text": [
      "(9588, 10)\n",
      "(9588,)\n"
     ]
    }
   ],
   "source": [
    "print(features_balance_up.shape)\n",
    "print(target_balance_up.shape)"
   ]
  },
  {
   "cell_type": "markdown",
   "metadata": {},
   "source": [
    "Воспользуемся функцией Downsampling и увеличим количество клиентов оттока(target==1)"
   ]
  },
  {
   "cell_type": "code",
   "execution_count": 23,
   "metadata": {},
   "outputs": [],
   "source": [
    "def downsampling(features,target,fraction):\n",
    "    features_null=features[target==0]\n",
    "    features_one=features[target==1]\n",
    "    target_null=target[target==0]\n",
    "    target_one=target[target==1]\n",
    "    \n",
    "    downsampling_features=pd.concat([features_null.sample(frac=0.4,random_state=1234)]+[features_one])\n",
    "    downsampling_target=pd.concat([target_null.sample(frac=0.4,random_state=1234)]+[target_one])\n",
    "    \n",
    "    downsampling_features,downsampling_target=shuffle(downsampling_features,downsampling_target,random_state=1234)\n",
    "    return downsampling_features,downsampling_target"
   ]
  },
  {
   "cell_type": "code",
   "execution_count": 24,
   "metadata": {},
   "outputs": [],
   "source": [
    "features_balance_down ,target_balance_down = downsampling(features_train, target_train, 0.25)"
   ]
  },
  {
   "cell_type": "code",
   "execution_count": 25,
   "metadata": {},
   "outputs": [
    {
     "name": "stdout",
     "output_type": "stream",
     "text": [
      "(3118, 10)\n",
      "(3118,)\n"
     ]
    }
   ],
   "source": [
    "print(features_balance_down.shape)\n",
    "print(target_balance_down.shape)"
   ]
  },
  {
   "cell_type": "markdown",
   "metadata": {},
   "source": [
    "Вывод:\n",
    "Буду использовать Upsampling, так как для Downsampling количество данных мало."
   ]
  },
  {
   "cell_type": "markdown",
   "metadata": {},
   "source": [
    "Дерево решений"
   ]
  },
  {
   "cell_type": "code",
   "execution_count": 26,
   "metadata": {
    "scrolled": true
   },
   "outputs": [
    {
     "name": "stdout",
     "output_type": "stream",
     "text": [
      "max_depth: 1 F1: 0.4832863471606927\n",
      "max_depth: 2 F1: 0.5133228840125391\n",
      "max_depth: 3 F1: 0.5133228840125391\n",
      "max_depth: 4 F1: 0.5198180636777128\n",
      "max_depth: 5 F1: 0.584355179704017\n",
      "max_depth: 6 F1: 0.5839416058394161\n",
      "max_depth: 7 F1: 0.6314035818408996\n",
      "max_depth: 8 F1: 0.656506447831184\n",
      "max_depth: 9 F1: 0.6851996867658575\n",
      "max_depth: 10 F1: 0.7206572769953051\n",
      "max_depth: 11 F1: 0.7706122448979592\n",
      "max_depth: 12 F1: 0.8095637583892618\n",
      "max_depth: 13 F1: 0.8641328090869376\n",
      "max_depth: 14 F1: 0.9034013605442177\n",
      "max_depth: 15 F1: 0.9299539170506912\n",
      "max_depth: 16 F1: 0.9514837494112106\n",
      "max_depth: 17 F1: 0.9683908045977012\n",
      "max_depth: 18 F1: 0.9811138014527845\n",
      "max_depth: 19 F1: 0.9917032698877501\n"
     ]
    }
   ],
   "source": [
    "for depth in range(1,20,1):\n",
    "    model_tree=DecisionTreeClassifier(class_weight='balanced',max_depth=depth,random_state=1234).fit(features_balance_up,target_balance_up)\n",
    "  \n",
    "    prediction=model_tree.predict(features_valid)\n",
    "    print('max_depth:',depth,'F1:',f1_score(target_valid,prediction))"
   ]
  },
  {
   "cell_type": "markdown",
   "metadata": {},
   "source": [
    "Случайный лес"
   ]
  },
  {
   "cell_type": "code",
   "execution_count": 27,
   "metadata": {
    "scrolled": true
   },
   "outputs": [
    {
     "name": "stdout",
     "output_type": "stream",
     "text": [
      "max_depth: 1 F1: 0.5132075471698113\n",
      "max_depth: 2 F1: 0.5400386847195358\n",
      "max_depth: 3 F1: 0.5770720371804803\n",
      "max_depth: 4 F1: 0.5891108499804152\n",
      "max_depth: 5 F1: 0.6110659072416599\n",
      "max_depth: 6 F1: 0.6336952151186168\n",
      "max_depth: 7 F1: 0.6727423363711682\n",
      "max_depth: 8 F1: 0.7052810902896082\n",
      "max_depth: 9 F1: 0.7416990081931868\n",
      "max_depth: 10 F1: 0.805240174672489\n",
      "max_depth: 11 F1: 0.8609745194456861\n",
      "max_depth: 12 F1: 0.9215236346948141\n",
      "max_depth: 13 F1: 0.9593956562795091\n",
      "max_depth: 14 F1: 0.9840193704600484\n",
      "max_depth: 15 F1: 0.9912195121951219\n",
      "max_depth: 16 F1: 0.9985257985257985\n",
      "max_depth: 17 F1: 1.0\n",
      "max_depth: 18 F1: 1.0\n",
      "max_depth: 19 F1: 1.0\n"
     ]
    }
   ],
   "source": [
    "for max_depth in range(1,20,1):\n",
    "    model_forest=RandomForestClassifier(class_weight='balanced',max_depth=max_depth,n_estimators=50,random_state=1234).fit(features_balance_up,target_balance_up)\n",
    "    prediction=model_forest.predict(features_valid)\n",
    "    print('max_depth:',max_depth,'F1:',f1_score(target_valid,prediction))"
   ]
  },
  {
   "cell_type": "code",
   "execution_count": 28,
   "metadata": {
    "scrolled": true
   },
   "outputs": [
    {
     "name": "stdout",
     "output_type": "stream",
     "text": [
      "estim 1 F1: 0.686578743211792\n",
      "estim 2 F1: 0.7614297589359934\n",
      "estim 3 F1: 0.7803061646669425\n",
      "estim 4 F1: 0.7861319966583125\n",
      "estim 5 F1: 0.7993197278911565\n",
      "estim 6 F1: 0.8086393088552916\n",
      "estim 7 F1: 0.8183391003460206\n",
      "estim 8 F1: 0.8208955223880597\n",
      "estim 9 F1: 0.8230633802816901\n",
      "estim 10 F1: 0.8321554770318021\n",
      "estim 11 F1: 0.837909654561559\n",
      "estim 12 F1: 0.838738338516215\n",
      "estim 13 F1: 0.8419654714475431\n",
      "estim 14 F1: 0.843362831858407\n",
      "estim 15 F1: 0.8449955713020372\n",
      "estim 16 F1: 0.8421516754850089\n",
      "estim 17 F1: 0.8466312056737588\n",
      "estim 18 F1: 0.8507795100222717\n",
      "estim 19 F1: 0.8490482514386896\n",
      "estim 20 F1: 0.8535825545171339\n",
      "estim 21 F1: 0.8511957484499557\n",
      "estim 22 F1: 0.8579040852575489\n",
      "estim 23 F1: 0.8579064587973274\n",
      "estim 24 F1: 0.8565062388591801\n",
      "estim 25 F1: 0.8593054318788959\n",
      "estim 26 F1: 0.8556197245668592\n",
      "estim 27 F1: 0.856632425189817\n",
      "estim 28 F1: 0.854845913354176\n",
      "estim 29 F1: 0.8584229390681004\n",
      "estim 30 F1: 0.8582923558337058\n",
      "estim 31 F1: 0.8604755495737998\n",
      "estim 32 F1: 0.8629213483146068\n",
      "estim 33 F1: 0.8643306379155435\n",
      "estim 34 F1: 0.8625167935512763\n",
      "estim 35 F1: 0.8635346756152125\n",
      "estim 36 F1: 0.8622540250447226\n",
      "estim 37 F1: 0.8632707774798928\n",
      "estim 38 F1: 0.865711727842435\n",
      "estim 39 F1: 0.865711727842435\n",
      "estim 40 F1: 0.8660994178235557\n",
      "estim 41 F1: 0.8693309384822631\n",
      "estim 42 F1: 0.8650829224562976\n",
      "estim 43 F1: 0.8659793814432989\n",
      "estim 44 F1: 0.8655913978494624\n",
      "estim 45 F1: 0.8650829224562976\n",
      "estim 46 F1: 0.8641864634692963\n",
      "estim 47 F1: 0.8637992831541218\n",
      "estim 48 F1: 0.8625167935512763\n",
      "estim 49 F1: 0.8616211374832065\n",
      "estim 50 F1: 0.8609745194456861\n"
     ]
    }
   ],
   "source": [
    "for estim in range(1,51,1):\n",
    "    model_forest=RandomForestClassifier(class_weight='balanced',max_depth=11,n_estimators=estim,random_state=1234).fit(features_balance_up,target_balance_up)\n",
    "    prediction=model_forest.predict(features_valid)\n",
    "    print('estim',estim,'F1:',f1_score(target_valid,prediction))"
   ]
  },
  {
   "cell_type": "code",
   "execution_count": 29,
   "metadata": {},
   "outputs": [],
   "source": [
    " model_forest=RandomForestClassifier(class_weight='balanced',max_depth=5,n_estimators=11,random_state=1234).fit(features_balance_up,target_balance_up)"
   ]
  },
  {
   "cell_type": "markdown",
   "metadata": {},
   "source": [
    "Логистическая регрессия"
   ]
  },
  {
   "cell_type": "code",
   "execution_count": 30,
   "metadata": {},
   "outputs": [
    {
     "name": "stdout",
     "output_type": "stream",
     "text": [
      "F1: 0.5096933380331335\n"
     ]
    }
   ],
   "source": [
    "model_logistic=LogisticRegression(class_weight='balanced',solver='liblinear').fit(features_balance_up,target_balance_up)\n",
    "prediction=model_logistic.predict(features_valid)\n",
    "print('F1:',f1_score(target_valid,prediction))"
   ]
  },
  {
   "cell_type": "markdown",
   "metadata": {},
   "source": [
    "Вывод: Мера F1 поменялась. Стала гораздо лучше. F1=0.508"
   ]
  },
  {
   "cell_type": "markdown",
   "metadata": {},
   "source": [
    "Исследование метрика AUC-ROC"
   ]
  },
  {
   "cell_type": "code",
   "execution_count": 31,
   "metadata": {},
   "outputs": [
    {
     "data": {
      "text/plain": [
       "0.999965659883629"
      ]
     },
     "execution_count": 31,
     "metadata": {},
     "output_type": "execute_result"
    }
   ],
   "source": [
    "probabilities_tree=model_tree.predict_proba(features_valid)\n",
    "probabilities_one_valid_tree=probabilities_tree[:,1]\n",
    "fpr_tree,tpr_tree,thresholds=roc_curve(target_valid,probabilities_one_valid_tree)\n",
    "auc_roc_tree=roc_auc_score(target_valid,probabilities_one_valid_tree)\n",
    "auc_roc_tree"
   ]
  },
  {
   "cell_type": "code",
   "execution_count": 32,
   "metadata": {},
   "outputs": [
    {
     "data": {
      "text/plain": [
       "0.8625693719760934"
      ]
     },
     "execution_count": 32,
     "metadata": {},
     "output_type": "execute_result"
    }
   ],
   "source": [
    "probabilities_forest=model_forest.predict_proba(features_valid)\n",
    "probabilities_one_valid_forest=probabilities_forest[:,1]\n",
    "fpr_forest,tpr_forest,thresholds=roc_curve(target_valid,probabilities_one_valid_forest)\n",
    "auc_roc_forest=roc_auc_score(target_valid,probabilities_one_valid_forest)\n",
    "auc_roc_forest"
   ]
  },
  {
   "cell_type": "code",
   "execution_count": 33,
   "metadata": {},
   "outputs": [
    {
     "data": {
      "text/plain": [
       "0.783772886822882"
      ]
     },
     "execution_count": 33,
     "metadata": {},
     "output_type": "execute_result"
    }
   ],
   "source": [
    "probabilities_reg=model_logistic.predict_proba(features_valid)\n",
    "probabilities_one_valid_reg=probabilities_reg[:,1]\n",
    "fpr_log,tpr_log,thresholds=roc_curve(target_valid,probabilities_one_valid_reg)\n",
    "auc_roc_reg=roc_auc_score(target_valid,probabilities_one_valid_reg)\n",
    "auc_roc_reg"
   ]
  },
  {
   "cell_type": "code",
   "execution_count": 34,
   "metadata": {},
   "outputs": [
    {
     "data": {
      "text/plain": [
       "<Figure size 432x288 with 0 Axes>"
      ]
     },
     "metadata": {},
     "output_type": "display_data"
    },
    {
     "data": {
      "image/png": "[encoded data removed]",
      "text/plain": [
       "<Figure size 720x504 with 1 Axes>"
      ]
     },
     "metadata": {
      "needs_background": "light"
     },
     "output_type": "display_data"
    }
   ],
   "source": [
    "plt.figure()\n",
    "\n",
    "plt.figure(figsize=(10,7))\n",
    "plt.plot([0, 1], [0, 1], linestyle='--')\n",
    "plt.xlim([0.0, 1.0])\n",
    "plt.ylim([0.0, 1.0])\n",
    "plt.plot(fpr_log,tpr_log)\n",
    "plt.plot(fpr_tree,tpr_tree)\n",
    "plt.plot(fpr_forest,tpr_forest)\n",
    "plt.xlabel('False Positive Rate')\n",
    "plt.ylabel('True Positive Rate')\n",
    "plt.title('ROC-кривая')\n",
    "plt.legend(('Случайная модель','Логистическая регрессия','Дерево решения','Случайный лес'),\n",
    "           loc= 'upper left') \n",
    "plt.show()"
   ]
  },
  {
   "cell_type": "markdown",
   "metadata": {},
   "source": [
    "Вывод:\n",
    "Лучшее значение метрики auc roc=0.855 у модели случайный лес."
   ]
  },
  {
   "cell_type": "markdown",
   "metadata": {},
   "source": [
    "## Тестирование модели"
   ]
  },
  {
   "cell_type": "markdown",
   "metadata": {},
   "source": [
    "Случайный лес"
   ]
  },
  {
   "cell_type": "code",
   "execution_count": 35,
   "metadata": {},
   "outputs": [
    {
     "name": "stdout",
     "output_type": "stream",
     "text": [
      "F1: 0.6501128668171557\n"
     ]
    }
   ],
   "source": [
    "model_forest=RandomForestClassifier(class_weight='balanced',max_depth=11,n_estimators=40,random_state=1234).fit(features_balance_up,target_balance_up)\n",
    "prediction=model_forest.predict(features_test)\n",
    "print('F1:',f1_score( target_test,prediction))"
   ]
  },
  {
   "cell_type": "markdown",
   "metadata": {},
   "source": [
    "Вывод:\n",
    "Мера F1 поменялась. Стала хуже F1=0.387"
   ]
  },
  {
   "cell_type": "markdown",
   "metadata": {},
   "source": [
    "## Общий вывод:"
   ]
  },
  {
   "cell_type": "code",
   "execution_count": 36,
   "metadata": {},
   "outputs": [
    {
     "data": {
      "text/html": [
       "<div>\n",
       "<style scoped>\n",
       "    .dataframe tbody tr th:only-of-type {\n",
       "        vertical-align: middle;\n",
       "    }\n",
       "\n",
       "    .dataframe tbody tr th {\n",
       "        vertical-align: top;\n",
       "    }\n",
       "\n",
       "    .dataframe thead th {\n",
       "        text-align: right;\n",
       "    }\n",
       "</style>\n",
       "<table border=\"1\" class=\"dataframe\">\n",
       "  <thead>\n",
       "    <tr style=\"text-align: right;\">\n",
       "      <th></th>\n",
       "      <th>Дерево Решения</th>\n",
       "      <th>Случайный лес</th>\n",
       "      <th>Логистическая регрессия</th>\n",
       "    </tr>\n",
       "  </thead>\n",
       "  <tbody>\n",
       "    <tr>\n",
       "      <th>R2 без учета дисбаланса</th>\n",
       "      <td>0.568</td>\n",
       "      <td>0.574</td>\n",
       "      <td>0.294</td>\n",
       "    </tr>\n",
       "    <tr>\n",
       "      <th>R2 с учетом дисбаланса</th>\n",
       "      <td>0.617</td>\n",
       "      <td>0.740</td>\n",
       "      <td>0.735</td>\n",
       "    </tr>\n",
       "  </tbody>\n",
       "</table>\n",
       "</div>"
      ],
      "text/plain": [
       "                         Дерево Решения  Случайный лес  \\\n",
       "R2 без учета дисбаланса           0.568          0.574   \n",
       "R2 с учетом дисбаланса            0.617          0.740   \n",
       "\n",
       "                         Логистическая регрессия  \n",
       "R2 без учета дисбаланса                    0.294  \n",
       "R2 с учетом дисбаланса                     0.735  "
      ]
     },
     "execution_count": 36,
     "metadata": {},
     "output_type": "execute_result"
    }
   ],
   "source": [
    "rezult1={'Дерево Решения':np.array([0.568,0.617]),'Случайный лес':np.array([0.574,0.740]),'Логистическая регрессия':np.array([0.294,0.735])}\n",
    "rezult_df=pd.DataFrame(rezult1,index=['R2 без учета дисбаланса','R2 с учетом дисбаланса'])\n",
    "rezult_df"
   ]
  },
  {
   "cell_type": "markdown",
   "metadata": {},
   "source": [
    "Рассматривая данные с учетом дисбаланса и без учета дисбаланса тремя моделями можно сделать вывод, что самая лучшая модель оказалась Случайный лес. Хуже всего себя показала модель Логическая регрессия."
   ]
  }
 ],
 "metadata": {
  "ExecuteTimeLog": [
   {
    "duration": 1585,
    "start_time": "2022-12-28T04:23:21.061Z"
   },
   {
    "duration": 160,
    "start_time": "2022-12-28T04:23:50.616Z"
   },
   {
    "duration": 22,
    "start_time": "2022-12-28T04:24:02.903Z"
   },
   {
    "duration": 6,
    "start_time": "2022-12-28T04:36:09.731Z"
   },
   {
    "duration": 5,
    "start_time": "2022-12-28T04:36:37.477Z"
   },
   {
    "duration": 12,
    "start_time": "2022-12-28T04:36:49.257Z"
   },
   {
    "duration": 15,
    "start_time": "2022-12-28T04:37:30.154Z"
   },
   {
    "duration": 197,
    "start_time": "2022-12-28T04:40:01.056Z"
   },
   {
    "duration": 982,
    "start_time": "2022-12-28T04:43:33.054Z"
   },
   {
    "duration": 169,
    "start_time": "2022-12-28T04:45:22.247Z"
   },
   {
    "duration": 213,
    "start_time": "2022-12-28T04:46:43.024Z"
   },
   {
    "duration": 947,
    "start_time": "2022-12-28T04:49:13.101Z"
   },
   {
    "duration": 167,
    "start_time": "2022-12-28T04:54:29.912Z"
   },
   {
    "duration": 145,
    "start_time": "2022-12-28T04:56:29.593Z"
   },
   {
    "duration": 121,
    "start_time": "2022-12-28T04:57:35.565Z"
   },
   {
    "duration": 123,
    "start_time": "2022-12-28T04:58:47.511Z"
   },
   {
    "duration": 222,
    "start_time": "2022-12-28T05:00:04.031Z"
   },
   {
    "duration": 941,
    "start_time": "2022-12-28T05:00:41.973Z"
   },
   {
    "duration": 276,
    "start_time": "2022-12-28T05:01:37.554Z"
   },
   {
    "duration": 17,
    "start_time": "2022-12-28T05:02:36.914Z"
   },
   {
    "duration": 36,
    "start_time": "2022-12-28T05:05:53.871Z"
   },
   {
    "duration": 145,
    "start_time": "2022-12-28T05:07:50.896Z"
   },
   {
    "duration": 5560,
    "start_time": "2022-12-28T05:12:34.741Z"
   },
   {
    "duration": 4090,
    "start_time": "2022-12-28T05:14:22.563Z"
   },
   {
    "duration": 139,
    "start_time": "2022-12-28T05:16:38.517Z"
   },
   {
    "duration": 4,
    "start_time": "2022-12-28T05:19:33.937Z"
   },
   {
    "duration": 10,
    "start_time": "2022-12-28T05:19:38.429Z"
   },
   {
    "duration": 113,
    "start_time": "2022-12-28T05:22:24.484Z"
   },
   {
    "duration": 9,
    "start_time": "2022-12-28T05:23:10.689Z"
   },
   {
    "duration": 3,
    "start_time": "2022-12-28T05:23:57.898Z"
   },
   {
    "duration": 4,
    "start_time": "2022-12-28T05:25:15.410Z"
   },
   {
    "duration": 10,
    "start_time": "2022-12-28T05:25:17.851Z"
   },
   {
    "duration": 3,
    "start_time": "2022-12-28T05:25:19.227Z"
   },
   {
    "duration": 377,
    "start_time": "2022-12-28T05:29:39.050Z"
   },
   {
    "duration": 4418,
    "start_time": "2022-12-28T05:30:40.428Z"
   },
   {
    "duration": 7017,
    "start_time": "2022-12-28T05:30:59.735Z"
   },
   {
    "duration": 242,
    "start_time": "2022-12-28T05:31:22.154Z"
   },
   {
    "duration": 115,
    "start_time": "2022-12-28T05:32:29.736Z"
   },
   {
    "duration": 10,
    "start_time": "2022-12-28T05:34:51.639Z"
   },
   {
    "duration": 28,
    "start_time": "2022-12-28T05:35:34.147Z"
   },
   {
    "duration": 55,
    "start_time": "2022-12-28T05:36:16.497Z"
   },
   {
    "duration": 195,
    "start_time": "2022-12-28T05:36:39.356Z"
   },
   {
    "duration": 174,
    "start_time": "2022-12-28T05:45:52.401Z"
   },
   {
    "duration": 193,
    "start_time": "2022-12-28T05:46:02.852Z"
   },
   {
    "duration": 188,
    "start_time": "2022-12-28T05:46:42.849Z"
   },
   {
    "duration": 14,
    "start_time": "2022-12-28T05:48:58.688Z"
   },
   {
    "duration": 49,
    "start_time": "2022-12-28T06:01:20.199Z"
   },
   {
    "duration": 122,
    "start_time": "2022-12-28T06:01:24.629Z"
   },
   {
    "duration": 11,
    "start_time": "2022-12-28T06:01:28.912Z"
   },
   {
    "duration": 17,
    "start_time": "2022-12-28T06:01:29.809Z"
   },
   {
    "duration": 19,
    "start_time": "2022-12-28T06:01:30.744Z"
   },
   {
    "duration": 191,
    "start_time": "2022-12-28T06:01:31.763Z"
   },
   {
    "duration": 11,
    "start_time": "2022-12-28T06:03:56.010Z"
   },
   {
    "duration": 53,
    "start_time": "2022-12-28T10:56:24.145Z"
   },
   {
    "duration": 1469,
    "start_time": "2022-12-28T10:56:54.629Z"
   },
   {
    "duration": 80,
    "start_time": "2022-12-28T10:56:56.100Z"
   },
   {
    "duration": 13,
    "start_time": "2022-12-28T10:56:56.720Z"
   },
   {
    "duration": 4,
    "start_time": "2022-12-28T10:56:58.239Z"
   },
   {
    "duration": 5,
    "start_time": "2022-12-28T10:56:59.243Z"
   },
   {
    "duration": 12,
    "start_time": "2022-12-28T10:57:00.116Z"
   },
   {
    "duration": 13,
    "start_time": "2022-12-28T10:57:00.621Z"
   },
   {
    "duration": 147,
    "start_time": "2022-12-28T10:57:02.022Z"
   },
   {
    "duration": 814,
    "start_time": "2022-12-28T10:57:03.915Z"
   },
   {
    "duration": 159,
    "start_time": "2022-12-28T10:57:05.321Z"
   },
   {
    "duration": 173,
    "start_time": "2022-12-28T10:57:06.684Z"
   },
   {
    "duration": 14,
    "start_time": "2022-12-28T10:57:07.345Z"
   },
   {
    "duration": 74,
    "start_time": "2022-12-28T10:57:12.711Z"
   },
   {
    "duration": 24,
    "start_time": "2022-12-28T10:59:00.227Z"
   },
   {
    "duration": 74,
    "start_time": "2022-12-28T11:03:17.009Z"
   },
   {
    "duration": 76,
    "start_time": "2022-12-28T11:06:56.885Z"
   },
   {
    "duration": 113,
    "start_time": "2022-12-28T11:07:14.818Z"
   },
   {
    "duration": 9,
    "start_time": "2022-12-28T11:11:01.728Z"
   },
   {
    "duration": 1248,
    "start_time": "2022-12-28T11:11:24.049Z"
   },
   {
    "duration": 41,
    "start_time": "2022-12-28T11:11:25.299Z"
   },
   {
    "duration": 12,
    "start_time": "2022-12-28T11:11:25.737Z"
   },
   {
    "duration": 4,
    "start_time": "2022-12-28T11:11:27.093Z"
   },
   {
    "duration": 4,
    "start_time": "2022-12-28T11:11:27.946Z"
   },
   {
    "duration": 10,
    "start_time": "2022-12-28T11:11:28.751Z"
   },
   {
    "duration": 14,
    "start_time": "2022-12-28T11:11:29.206Z"
   },
   {
    "duration": 144,
    "start_time": "2022-12-28T11:11:30.471Z"
   },
   {
    "duration": 850,
    "start_time": "2022-12-28T11:11:32.149Z"
   },
   {
    "duration": 172,
    "start_time": "2022-12-28T11:11:33.413Z"
   },
   {
    "duration": 189,
    "start_time": "2022-12-28T11:11:34.262Z"
   },
   {
    "duration": 18,
    "start_time": "2022-12-28T11:11:34.741Z"
   },
   {
    "duration": 129,
    "start_time": "2022-12-28T11:11:37.006Z"
   },
   {
    "duration": 94,
    "start_time": "2022-12-28T11:12:20.363Z"
   },
   {
    "duration": 9,
    "start_time": "2022-12-28T11:12:27.502Z"
   },
   {
    "duration": 9,
    "start_time": "2022-12-28T11:14:43.252Z"
   },
   {
    "duration": 12,
    "start_time": "2022-12-28T11:16:20.311Z"
   },
   {
    "duration": 17,
    "start_time": "2022-12-28T11:17:29.944Z"
   },
   {
    "duration": 151,
    "start_time": "2022-12-28T11:18:34.573Z"
   },
   {
    "duration": 4693,
    "start_time": "2022-12-28T11:20:41.164Z"
   },
   {
    "duration": 3668,
    "start_time": "2022-12-28T11:22:07.264Z"
   },
   {
    "duration": 126,
    "start_time": "2022-12-28T11:25:48.279Z"
   },
   {
    "duration": 3,
    "start_time": "2022-12-28T11:29:31.806Z"
   },
   {
    "duration": 9,
    "start_time": "2022-12-28T11:29:32.567Z"
   },
   {
    "duration": 9,
    "start_time": "2022-12-28T11:30:05.856Z"
   },
   {
    "duration": 3,
    "start_time": "2022-12-28T11:30:08.909Z"
   },
   {
    "duration": 4,
    "start_time": "2022-12-28T11:30:20.154Z"
   },
   {
    "duration": 9,
    "start_time": "2022-12-28T11:30:20.711Z"
   },
   {
    "duration": 3,
    "start_time": "2022-12-28T11:30:21.747Z"
   },
   {
    "duration": 15,
    "start_time": "2022-12-28T11:30:33.714Z"
   },
   {
    "duration": 315,
    "start_time": "2022-12-28T11:32:03.064Z"
   },
   {
    "duration": 3822,
    "start_time": "2022-12-28T11:32:29.038Z"
   },
   {
    "duration": 6256,
    "start_time": "2022-12-28T11:33:05.166Z"
   },
   {
    "duration": 35,
    "start_time": "2022-12-28T11:33:48.645Z"
   },
   {
    "duration": 24,
    "start_time": "2022-12-28T11:34:23.042Z"
   },
   {
    "duration": 9,
    "start_time": "2022-12-28T11:35:30.742Z"
   },
   {
    "duration": 16,
    "start_time": "2022-12-28T11:36:29.859Z"
   },
   {
    "duration": 12,
    "start_time": "2022-12-28T11:37:13.209Z"
   },
   {
    "duration": 226,
    "start_time": "2022-12-28T11:37:54.951Z"
   },
   {
    "duration": 99,
    "start_time": "2022-12-28T11:41:35.271Z"
   },
   {
    "duration": 3940,
    "start_time": "2022-12-28T11:42:33.793Z"
   },
   {
    "duration": 6113,
    "start_time": "2022-12-28T11:43:23.141Z"
   },
   {
    "duration": 212,
    "start_time": "2022-12-28T11:44:33.444Z"
   },
   {
    "duration": 171,
    "start_time": "2022-12-28T11:45:06.407Z"
   },
   {
    "duration": 197,
    "start_time": "2022-12-28T11:46:41.277Z"
   },
   {
    "duration": 8,
    "start_time": "2022-12-28T11:55:33.903Z"
   },
   {
    "duration": 11,
    "start_time": "2022-12-28T11:58:19.008Z"
   },
   {
    "duration": 10,
    "start_time": "2022-12-28T11:59:39.738Z"
   },
   {
    "duration": 9,
    "start_time": "2022-12-28T12:00:36.535Z"
   },
   {
    "duration": 1587,
    "start_time": "2022-12-29T08:54:03.784Z"
   },
   {
    "duration": 82,
    "start_time": "2022-12-29T08:54:05.373Z"
   },
   {
    "duration": 14,
    "start_time": "2022-12-29T08:54:05.457Z"
   },
   {
    "duration": 4,
    "start_time": "2022-12-29T08:54:05.473Z"
   },
   {
    "duration": 5,
    "start_time": "2022-12-29T08:54:05.863Z"
   },
   {
    "duration": 11,
    "start_time": "2022-12-29T08:54:06.378Z"
   },
   {
    "duration": 14,
    "start_time": "2022-12-29T08:54:06.625Z"
   },
   {
    "duration": 169,
    "start_time": "2022-12-29T08:54:07.329Z"
   },
   {
    "duration": 931,
    "start_time": "2022-12-29T08:54:08.319Z"
   },
   {
    "duration": 263,
    "start_time": "2022-12-29T08:54:09.252Z"
   },
   {
    "duration": 124,
    "start_time": "2022-12-29T08:54:09.536Z"
   },
   {
    "duration": 16,
    "start_time": "2022-12-29T08:54:09.759Z"
   },
   {
    "duration": 100,
    "start_time": "2022-12-29T08:54:11.003Z"
   },
   {
    "duration": 135,
    "start_time": "2022-12-29T08:54:11.537Z"
   },
   {
    "duration": 5396,
    "start_time": "2022-12-29T08:54:13.221Z"
   },
   {
    "duration": 4227,
    "start_time": "2022-12-29T08:54:18.619Z"
   },
   {
    "duration": 250,
    "start_time": "2022-12-29T08:54:22.847Z"
   },
   {
    "duration": 94,
    "start_time": "2022-12-29T08:54:23.103Z"
   },
   {
    "duration": 9,
    "start_time": "2022-12-29T08:54:23.286Z"
   },
   {
    "duration": 4,
    "start_time": "2022-12-29T08:54:24.476Z"
   },
   {
    "duration": 5,
    "start_time": "2022-12-29T08:55:30.498Z"
   },
   {
    "duration": 12,
    "start_time": "2022-12-29T08:55:32.117Z"
   },
   {
    "duration": 4,
    "start_time": "2022-12-29T08:55:33.061Z"
   },
   {
    "duration": 118,
    "start_time": "2022-12-29T09:03:29.319Z"
   },
   {
    "duration": 95,
    "start_time": "2022-12-29T09:06:19.323Z"
   },
   {
    "duration": 658,
    "start_time": "2022-12-29T09:06:31.054Z"
   },
   {
    "duration": 25,
    "start_time": "2022-12-29T09:08:17.624Z"
   },
   {
    "duration": 623,
    "start_time": "2022-12-29T09:08:29.362Z"
   },
   {
    "duration": 7582,
    "start_time": "2022-12-29T09:08:43.125Z"
   },
   {
    "duration": 11826,
    "start_time": "2022-12-29T09:08:57.258Z"
   },
   {
    "duration": 73,
    "start_time": "2022-12-29T09:09:09.086Z"
   },
   {
    "duration": 40,
    "start_time": "2022-12-29T09:09:29.928Z"
   },
   {
    "duration": 9,
    "start_time": "2022-12-29T09:09:55.285Z"
   },
   {
    "duration": 14,
    "start_time": "2022-12-29T09:09:58.725Z"
   },
   {
    "duration": 15,
    "start_time": "2022-12-29T09:10:02.234Z"
   },
   {
    "duration": 182,
    "start_time": "2022-12-29T09:10:04.321Z"
   },
   {
    "duration": 7638,
    "start_time": "2022-12-29T09:10:46.393Z"
   },
   {
    "duration": 12464,
    "start_time": "2022-12-29T09:10:59.438Z"
   },
   {
    "duration": 395,
    "start_time": "2022-12-29T09:11:11.904Z"
   },
   {
    "duration": 1427,
    "start_time": "2022-12-30T03:14:00.872Z"
   },
   {
    "duration": 81,
    "start_time": "2022-12-30T03:14:03.717Z"
   },
   {
    "duration": 12,
    "start_time": "2022-12-30T03:14:04.144Z"
   },
   {
    "duration": 5,
    "start_time": "2022-12-30T03:14:05.402Z"
   },
   {
    "duration": 6,
    "start_time": "2022-12-30T03:14:06.282Z"
   },
   {
    "duration": 11,
    "start_time": "2022-12-30T03:14:07.110Z"
   },
   {
    "duration": 13,
    "start_time": "2022-12-30T03:14:07.581Z"
   },
   {
    "duration": 139,
    "start_time": "2022-12-30T03:14:08.902Z"
   },
   {
    "duration": 834,
    "start_time": "2022-12-30T03:14:10.660Z"
   },
   {
    "duration": 164,
    "start_time": "2022-12-30T03:14:12.059Z"
   },
   {
    "duration": 169,
    "start_time": "2022-12-30T03:14:13.018Z"
   },
   {
    "duration": 15,
    "start_time": "2022-12-30T03:14:13.482Z"
   },
   {
    "duration": 92,
    "start_time": "2022-12-30T03:14:15.995Z"
   },
   {
    "duration": 17,
    "start_time": "2022-12-30T03:14:19.652Z"
   },
   {
    "duration": 124,
    "start_time": "2022-12-30T03:14:33.663Z"
   },
   {
    "duration": 4936,
    "start_time": "2022-12-30T03:14:34.943Z"
   },
   {
    "duration": 3646,
    "start_time": "2022-12-30T03:14:39.881Z"
   },
   {
    "duration": 101,
    "start_time": "2022-12-30T03:14:43.529Z"
   },
   {
    "duration": 82,
    "start_time": "2022-12-30T03:14:43.632Z"
   },
   {
    "duration": 103,
    "start_time": "2022-12-30T03:14:43.716Z"
   },
   {
    "duration": 4,
    "start_time": "2022-12-30T03:14:43.821Z"
   },
   {
    "duration": 14,
    "start_time": "2022-12-30T03:14:43.827Z"
   },
   {
    "duration": 14,
    "start_time": "2022-12-30T03:14:43.843Z"
   },
   {
    "duration": 14,
    "start_time": "2022-12-30T03:14:43.858Z"
   },
   {
    "duration": 531,
    "start_time": "2022-12-30T03:14:44.681Z"
   },
   {
    "duration": 6803,
    "start_time": "2022-12-30T03:14:45.935Z"
   },
   {
    "duration": 10662,
    "start_time": "2022-12-30T03:14:52.740Z"
   },
   {
    "duration": 63,
    "start_time": "2022-12-30T03:15:03.404Z"
   },
   {
    "duration": 144,
    "start_time": "2022-12-30T03:15:03.469Z"
   },
   {
    "duration": 10,
    "start_time": "2022-12-30T03:15:03.615Z"
   },
   {
    "duration": 87,
    "start_time": "2022-12-30T03:15:03.627Z"
   },
   {
    "duration": 100,
    "start_time": "2022-12-30T03:15:03.715Z"
   },
   {
    "duration": 268,
    "start_time": "2022-12-30T03:15:03.817Z"
   },
   {
    "duration": 7358,
    "start_time": "2022-12-30T03:15:04.087Z"
   },
   {
    "duration": 11420,
    "start_time": "2022-12-30T03:15:11.448Z"
   },
   {
    "duration": 378,
    "start_time": "2022-12-30T03:15:22.869Z"
   },
   {
    "duration": 8,
    "start_time": "2022-12-30T03:15:23.249Z"
   },
   {
    "duration": 1798,
    "start_time": "2022-12-30T13:36:10.540Z"
   },
   {
    "duration": 43,
    "start_time": "2022-12-30T13:36:12.340Z"
   },
   {
    "duration": 13,
    "start_time": "2022-12-30T13:36:12.385Z"
   },
   {
    "duration": 7,
    "start_time": "2022-12-30T13:36:15.948Z"
   },
   {
    "duration": 5,
    "start_time": "2022-12-30T13:36:17.784Z"
   },
   {
    "duration": 12,
    "start_time": "2022-12-30T13:36:18.381Z"
   },
   {
    "duration": 13,
    "start_time": "2022-12-30T13:36:18.582Z"
   },
   {
    "duration": 160,
    "start_time": "2022-12-30T13:36:21.394Z"
   },
   {
    "duration": 846,
    "start_time": "2022-12-30T13:36:23.844Z"
   },
   {
    "duration": 186,
    "start_time": "2022-12-30T13:36:25.475Z"
   },
   {
    "duration": 177,
    "start_time": "2022-12-30T13:36:26.229Z"
   },
   {
    "duration": 16,
    "start_time": "2022-12-30T13:36:27.013Z"
   },
   {
    "duration": 104,
    "start_time": "2022-12-30T13:38:24.117Z"
   },
   {
    "duration": 49,
    "start_time": "2022-12-30T13:38:40.367Z"
   },
   {
    "duration": 14,
    "start_time": "2022-12-30T13:39:10.832Z"
   },
   {
    "duration": 123,
    "start_time": "2022-12-30T13:39:16.289Z"
   },
   {
    "duration": 4480,
    "start_time": "2022-12-30T13:39:24.495Z"
   },
   {
    "duration": 3398,
    "start_time": "2022-12-30T13:39:28.977Z"
   },
   {
    "duration": 331,
    "start_time": "2022-12-30T13:39:32.377Z"
   },
   {
    "duration": 4,
    "start_time": "2022-12-30T13:39:32.797Z"
   },
   {
    "duration": 27,
    "start_time": "2022-12-30T13:39:32.802Z"
   },
   {
    "duration": 3,
    "start_time": "2022-12-30T13:39:32.830Z"
   },
   {
    "duration": 5,
    "start_time": "2022-12-30T13:39:32.835Z"
   },
   {
    "duration": 17,
    "start_time": "2022-12-30T13:39:32.841Z"
   },
   {
    "duration": 16,
    "start_time": "2022-12-30T13:39:32.859Z"
   },
   {
    "duration": 504,
    "start_time": "2022-12-30T13:39:35.602Z"
   },
   {
    "duration": 6027,
    "start_time": "2022-12-30T13:39:39.811Z"
   },
   {
    "duration": 9671,
    "start_time": "2022-12-30T13:39:45.840Z"
   },
   {
    "duration": 50,
    "start_time": "2022-12-30T13:39:55.513Z"
   },
   {
    "duration": 139,
    "start_time": "2022-12-30T13:39:55.566Z"
   },
   {
    "duration": 97,
    "start_time": "2022-12-30T13:39:55.710Z"
   },
   {
    "duration": 16,
    "start_time": "2022-12-30T13:39:55.809Z"
   },
   {
    "duration": 89,
    "start_time": "2022-12-30T13:39:55.827Z"
   },
   {
    "duration": 190,
    "start_time": "2022-12-30T13:39:55.998Z"
   },
   {
    "duration": 287,
    "start_time": "2022-12-30T13:39:56.190Z"
   },
   {
    "duration": 9,
    "start_time": "2022-12-30T13:40:00.577Z"
   }
  ],
  "kernelspec": {
   "display_name": "Python 3 (ipykernel)",
   "language": "python",
   "name": "python3"
  },
  "language_info": {
   "codemirror_mode": {
    "name": "ipython",
    "version": 3
   },
   "file_extension": ".py",
   "mimetype": "text/x-python",
   "name": "python",
   "nbconvert_exporter": "python",
   "pygments_lexer": "ipython3",
   "version": "3.9.13"
  },
  "toc": {
   "base_numbering": 1,
   "nav_menu": {},
   "number_sections": true,
   "sideBar": true,
   "skip_h1_title": true,
   "title_cell": "Содержание",
   "title_sidebar": "Contents",
   "toc_cell": true,
   "toc_position": {
    "height": "calc(100% - 180px)",
    "left": "10px",
    "top": "150px",
    "width": "165px"
   },
   "toc_section_display": true,
   "toc_window_display": true
  }
 },
 "nbformat": 4,
 "nbformat_minor": 2
}

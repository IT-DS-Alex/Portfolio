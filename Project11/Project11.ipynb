{
 "cells": [
  {
   "cell_type": "markdown",
   "metadata": {},
   "source": [
    "# Определение стоимости автомобилей "
   ]
  },
  {
   "cell_type": "markdown",
   "metadata": {},
   "source": [
    "Сервис по продаже автомобилей с пробегом «Не бит, не крашен» разрабатывает приложение для привлечения новых клиентов. В нём можно быстро узнать рыночную стоимость своего автомобиля. В вашем распоряжении исторические данные: технические характеристики, комплектации и цены автомобилей. Вам нужно построить модель для определения стоимости. \n",
    "\n",
    "Заказчику важны:\n",
    "\n",
    "- качество предсказания;\n",
    "- скорость предсказания;\n",
    "- время обучения."
   ]
  },
  {
   "cell_type": "markdown",
   "metadata": {},
   "source": [
    "## Подготовка данных"
   ]
  },
  {
   "cell_type": "code",
   "execution_count": 1,
   "metadata": {},
   "outputs": [],
   "source": [
    "import pandas as pd\n",
    "import numpy as np\n",
    "import seaborn as sns\n",
    "import matplotlib.pyplot as plt\n",
    "import lightgbm as lgb\n",
    "import time\n",
    "\n",
    "from sklearn.preprocessing import StandardScaler\n",
    "from sklearn.model_selection import train_test_split\n",
    "from sklearn.model_selection import cross_val_score, KFold, GridSearchCV, ShuffleSplit\n",
    "from sklearn.preprocessing import OneHotEncoder, StandardScaler, LabelEncoder\n",
    "from sklearn.preprocessing import OrdinalEncoder\n",
    "from sklearn.metrics import make_scorer\n",
    "\n",
    "from sklearn.linear_model import LinearRegression\n",
    "from sklearn.tree import DecisionTreeRegressor\n",
    "from sklearn.ensemble import RandomForestRegressor\n",
    "from sklearn import linear_model\n",
    "from catboost import CatBoostRegressor\n",
    "from lightgbm import LGBMRegressor\n",
    "\n",
    "from sklearn.metrics import mean_squared_error"
   ]
  },
  {
   "cell_type": "code",
   "execution_count": 2,
   "metadata": {},
   "outputs": [],
   "source": [
    "data = pd.read_csv('/datasets/autos.csv')"
   ]
  },
  {
   "cell_type": "code",
   "execution_count": 3,
   "metadata": {},
   "outputs": [
    {
     "data": {
      "text/html": [
       "<div>\n",
       "<style scoped>\n",
       "    .dataframe tbody tr th:only-of-type {\n",
       "        vertical-align: middle;\n",
       "    }\n",
       "\n",
       "    .dataframe tbody tr th {\n",
       "        vertical-align: top;\n",
       "    }\n",
       "\n",
       "    .dataframe thead th {\n",
       "        text-align: right;\n",
       "    }\n",
       "</style>\n",
       "<table border=\"1\" class=\"dataframe\">\n",
       "  <thead>\n",
       "    <tr style=\"text-align: right;\">\n",
       "      <th></th>\n",
       "      <th>DateCrawled</th>\n",
       "      <th>Price</th>\n",
       "      <th>VehicleType</th>\n",
       "      <th>RegistrationYear</th>\n",
       "      <th>Gearbox</th>\n",
       "      <th>Power</th>\n",
       "      <th>Model</th>\n",
       "      <th>Kilometer</th>\n",
       "      <th>RegistrationMonth</th>\n",
       "      <th>FuelType</th>\n",
       "      <th>Brand</th>\n",
       "      <th>Repaired</th>\n",
       "      <th>DateCreated</th>\n",
       "      <th>NumberOfPictures</th>\n",
       "      <th>PostalCode</th>\n",
       "      <th>LastSeen</th>\n",
       "    </tr>\n",
       "  </thead>\n",
       "  <tbody>\n",
       "    <tr>\n",
       "      <th>0</th>\n",
       "      <td>2016-03-24 11:52:17</td>\n",
       "      <td>480</td>\n",
       "      <td>NaN</td>\n",
       "      <td>1993</td>\n",
       "      <td>manual</td>\n",
       "      <td>0</td>\n",
       "      <td>golf</td>\n",
       "      <td>150000</td>\n",
       "      <td>0</td>\n",
       "      <td>petrol</td>\n",
       "      <td>volkswagen</td>\n",
       "      <td>NaN</td>\n",
       "      <td>2016-03-24 00:00:00</td>\n",
       "      <td>0</td>\n",
       "      <td>70435</td>\n",
       "      <td>2016-04-07 03:16:57</td>\n",
       "    </tr>\n",
       "    <tr>\n",
       "      <th>1</th>\n",
       "      <td>2016-03-24 10:58:45</td>\n",
       "      <td>18300</td>\n",
       "      <td>coupe</td>\n",
       "      <td>2011</td>\n",
       "      <td>manual</td>\n",
       "      <td>190</td>\n",
       "      <td>NaN</td>\n",
       "      <td>125000</td>\n",
       "      <td>5</td>\n",
       "      <td>gasoline</td>\n",
       "      <td>audi</td>\n",
       "      <td>yes</td>\n",
       "      <td>2016-03-24 00:00:00</td>\n",
       "      <td>0</td>\n",
       "      <td>66954</td>\n",
       "      <td>2016-04-07 01:46:50</td>\n",
       "    </tr>\n",
       "    <tr>\n",
       "      <th>2</th>\n",
       "      <td>2016-03-14 12:52:21</td>\n",
       "      <td>9800</td>\n",
       "      <td>suv</td>\n",
       "      <td>2004</td>\n",
       "      <td>auto</td>\n",
       "      <td>163</td>\n",
       "      <td>grand</td>\n",
       "      <td>125000</td>\n",
       "      <td>8</td>\n",
       "      <td>gasoline</td>\n",
       "      <td>jeep</td>\n",
       "      <td>NaN</td>\n",
       "      <td>2016-03-14 00:00:00</td>\n",
       "      <td>0</td>\n",
       "      <td>90480</td>\n",
       "      <td>2016-04-05 12:47:46</td>\n",
       "    </tr>\n",
       "    <tr>\n",
       "      <th>3</th>\n",
       "      <td>2016-03-17 16:54:04</td>\n",
       "      <td>1500</td>\n",
       "      <td>small</td>\n",
       "      <td>2001</td>\n",
       "      <td>manual</td>\n",
       "      <td>75</td>\n",
       "      <td>golf</td>\n",
       "      <td>150000</td>\n",
       "      <td>6</td>\n",
       "      <td>petrol</td>\n",
       "      <td>volkswagen</td>\n",
       "      <td>no</td>\n",
       "      <td>2016-03-17 00:00:00</td>\n",
       "      <td>0</td>\n",
       "      <td>91074</td>\n",
       "      <td>2016-03-17 17:40:17</td>\n",
       "    </tr>\n",
       "    <tr>\n",
       "      <th>4</th>\n",
       "      <td>2016-03-31 17:25:20</td>\n",
       "      <td>3600</td>\n",
       "      <td>small</td>\n",
       "      <td>2008</td>\n",
       "      <td>manual</td>\n",
       "      <td>69</td>\n",
       "      <td>fabia</td>\n",
       "      <td>90000</td>\n",
       "      <td>7</td>\n",
       "      <td>gasoline</td>\n",
       "      <td>skoda</td>\n",
       "      <td>no</td>\n",
       "      <td>2016-03-31 00:00:00</td>\n",
       "      <td>0</td>\n",
       "      <td>60437</td>\n",
       "      <td>2016-04-06 10:17:21</td>\n",
       "    </tr>\n",
       "  </tbody>\n",
       "</table>\n",
       "</div>"
      ],
      "text/plain": [
       "           DateCrawled  Price VehicleType  RegistrationYear Gearbox  Power  \\\n",
       "0  2016-03-24 11:52:17    480         NaN              1993  manual      0   \n",
       "1  2016-03-24 10:58:45  18300       coupe              2011  manual    190   \n",
       "2  2016-03-14 12:52:21   9800         suv              2004    auto    163   \n",
       "3  2016-03-17 16:54:04   1500       small              2001  manual     75   \n",
       "4  2016-03-31 17:25:20   3600       small              2008  manual     69   \n",
       "\n",
       "   Model  Kilometer  RegistrationMonth  FuelType       Brand Repaired  \\\n",
       "0   golf     150000                  0    petrol  volkswagen      NaN   \n",
       "1    NaN     125000                  5  gasoline        audi      yes   \n",
       "2  grand     125000                  8  gasoline        jeep      NaN   \n",
       "3   golf     150000                  6    petrol  volkswagen       no   \n",
       "4  fabia      90000                  7  gasoline       skoda       no   \n",
       "\n",
       "           DateCreated  NumberOfPictures  PostalCode             LastSeen  \n",
       "0  2016-03-24 00:00:00                 0       70435  2016-04-07 03:16:57  \n",
       "1  2016-03-24 00:00:00                 0       66954  2016-04-07 01:46:50  \n",
       "2  2016-03-14 00:00:00                 0       90480  2016-04-05 12:47:46  \n",
       "3  2016-03-17 00:00:00                 0       91074  2016-03-17 17:40:17  \n",
       "4  2016-03-31 00:00:00                 0       60437  2016-04-06 10:17:21  "
      ]
     },
     "execution_count": 3,
     "metadata": {},
     "output_type": "execute_result"
    }
   ],
   "source": [
    "data.head()"
   ]
  },
  {
   "cell_type": "markdown",
   "metadata": {},
   "source": [
    "# Описание признаков\n",
    "\n",
    "DateCrawled — дата скачивания анкеты\n",
    "\n",
    "Price - цена, целевая переменная\n",
    "\n",
    "VehicleType — тип автомобильного кузова\n",
    "\n",
    "RegistrationYear — год регистрации автомобиля\n",
    "\n",
    "Gearbox — тип коробки передач\n",
    "\n",
    "Power — мощность\n",
    "\n",
    "Model - модель\n",
    "\n",
    "Kilometer — пробег (км)\n",
    "\n",
    "RegistrationMonth — месяц регистрации автомобиля\n",
    "\n",
    "FuelType — тип топлива\n",
    "\n",
    "Brand — марка автомобиля\n",
    "\n",
    "Repaired — была машина в ремонте или нет\n",
    "\n",
    "DateCreated — дата создания анкеты\n",
    "\n",
    "NumberOfPictures — количество фотографий автомобиля\n",
    "\n",
    "PostalCode — почтовый индекс владельца анкеты\n",
    "\n",
    "LastSeen — дата последней активности пользователя"
   ]
  },
  {
   "cell_type": "code",
   "execution_count": 4,
   "metadata": {},
   "outputs": [
    {
     "name": "stdout",
     "output_type": "stream",
     "text": [
      "<class 'pandas.core.frame.DataFrame'>\n",
      "RangeIndex: 354369 entries, 0 to 354368\n",
      "Data columns (total 16 columns):\n",
      " #   Column             Non-Null Count   Dtype \n",
      "---  ------             --------------   ----- \n",
      " 0   DateCrawled        354369 non-null  object\n",
      " 1   Price              354369 non-null  int64 \n",
      " 2   VehicleType        316879 non-null  object\n",
      " 3   RegistrationYear   354369 non-null  int64 \n",
      " 4   Gearbox            334536 non-null  object\n",
      " 5   Power              354369 non-null  int64 \n",
      " 6   Model              334664 non-null  object\n",
      " 7   Kilometer          354369 non-null  int64 \n",
      " 8   RegistrationMonth  354369 non-null  int64 \n",
      " 9   FuelType           321474 non-null  object\n",
      " 10  Brand              354369 non-null  object\n",
      " 11  Repaired           283215 non-null  object\n",
      " 12  DateCreated        354369 non-null  object\n",
      " 13  NumberOfPictures   354369 non-null  int64 \n",
      " 14  PostalCode         354369 non-null  int64 \n",
      " 15  LastSeen           354369 non-null  object\n",
      "dtypes: int64(7), object(9)\n",
      "memory usage: 43.3+ MB\n"
     ]
    }
   ],
   "source": [
    "data.info()"
   ]
  },
  {
   "cell_type": "code",
   "execution_count": 5,
   "metadata": {},
   "outputs": [
    {
     "data": {
      "text/html": [
       "<div>\n",
       "<style scoped>\n",
       "    .dataframe tbody tr th:only-of-type {\n",
       "        vertical-align: middle;\n",
       "    }\n",
       "\n",
       "    .dataframe tbody tr th {\n",
       "        vertical-align: top;\n",
       "    }\n",
       "\n",
       "    .dataframe thead th {\n",
       "        text-align: right;\n",
       "    }\n",
       "</style>\n",
       "<table border=\"1\" class=\"dataframe\">\n",
       "  <thead>\n",
       "    <tr style=\"text-align: right;\">\n",
       "      <th></th>\n",
       "      <th>Price</th>\n",
       "      <th>RegistrationYear</th>\n",
       "      <th>Power</th>\n",
       "      <th>Kilometer</th>\n",
       "      <th>RegistrationMonth</th>\n",
       "      <th>NumberOfPictures</th>\n",
       "      <th>PostalCode</th>\n",
       "    </tr>\n",
       "  </thead>\n",
       "  <tbody>\n",
       "    <tr>\n",
       "      <th>count</th>\n",
       "      <td>354369.000000</td>\n",
       "      <td>354369.000000</td>\n",
       "      <td>354369.000000</td>\n",
       "      <td>354369.000000</td>\n",
       "      <td>354369.000000</td>\n",
       "      <td>354369.0</td>\n",
       "      <td>354369.000000</td>\n",
       "    </tr>\n",
       "    <tr>\n",
       "      <th>mean</th>\n",
       "      <td>4416.656776</td>\n",
       "      <td>2004.234448</td>\n",
       "      <td>110.094337</td>\n",
       "      <td>128211.172535</td>\n",
       "      <td>5.714645</td>\n",
       "      <td>0.0</td>\n",
       "      <td>50508.689087</td>\n",
       "    </tr>\n",
       "    <tr>\n",
       "      <th>std</th>\n",
       "      <td>4514.158514</td>\n",
       "      <td>90.227958</td>\n",
       "      <td>189.850405</td>\n",
       "      <td>37905.341530</td>\n",
       "      <td>3.726421</td>\n",
       "      <td>0.0</td>\n",
       "      <td>25783.096248</td>\n",
       "    </tr>\n",
       "    <tr>\n",
       "      <th>min</th>\n",
       "      <td>0.000000</td>\n",
       "      <td>1000.000000</td>\n",
       "      <td>0.000000</td>\n",
       "      <td>5000.000000</td>\n",
       "      <td>0.000000</td>\n",
       "      <td>0.0</td>\n",
       "      <td>1067.000000</td>\n",
       "    </tr>\n",
       "    <tr>\n",
       "      <th>25%</th>\n",
       "      <td>1050.000000</td>\n",
       "      <td>1999.000000</td>\n",
       "      <td>69.000000</td>\n",
       "      <td>125000.000000</td>\n",
       "      <td>3.000000</td>\n",
       "      <td>0.0</td>\n",
       "      <td>30165.000000</td>\n",
       "    </tr>\n",
       "    <tr>\n",
       "      <th>50%</th>\n",
       "      <td>2700.000000</td>\n",
       "      <td>2003.000000</td>\n",
       "      <td>105.000000</td>\n",
       "      <td>150000.000000</td>\n",
       "      <td>6.000000</td>\n",
       "      <td>0.0</td>\n",
       "      <td>49413.000000</td>\n",
       "    </tr>\n",
       "    <tr>\n",
       "      <th>75%</th>\n",
       "      <td>6400.000000</td>\n",
       "      <td>2008.000000</td>\n",
       "      <td>143.000000</td>\n",
       "      <td>150000.000000</td>\n",
       "      <td>9.000000</td>\n",
       "      <td>0.0</td>\n",
       "      <td>71083.000000</td>\n",
       "    </tr>\n",
       "    <tr>\n",
       "      <th>max</th>\n",
       "      <td>20000.000000</td>\n",
       "      <td>9999.000000</td>\n",
       "      <td>20000.000000</td>\n",
       "      <td>150000.000000</td>\n",
       "      <td>12.000000</td>\n",
       "      <td>0.0</td>\n",
       "      <td>99998.000000</td>\n",
       "    </tr>\n",
       "  </tbody>\n",
       "</table>\n",
       "</div>"
      ],
      "text/plain": [
       "               Price  RegistrationYear          Power      Kilometer  \\\n",
       "count  354369.000000     354369.000000  354369.000000  354369.000000   \n",
       "mean     4416.656776       2004.234448     110.094337  128211.172535   \n",
       "std      4514.158514         90.227958     189.850405   37905.341530   \n",
       "min         0.000000       1000.000000       0.000000    5000.000000   \n",
       "25%      1050.000000       1999.000000      69.000000  125000.000000   \n",
       "50%      2700.000000       2003.000000     105.000000  150000.000000   \n",
       "75%      6400.000000       2008.000000     143.000000  150000.000000   \n",
       "max     20000.000000       9999.000000   20000.000000  150000.000000   \n",
       "\n",
       "       RegistrationMonth  NumberOfPictures     PostalCode  \n",
       "count      354369.000000          354369.0  354369.000000  \n",
       "mean            5.714645               0.0   50508.689087  \n",
       "std             3.726421               0.0   25783.096248  \n",
       "min             0.000000               0.0    1067.000000  \n",
       "25%             3.000000               0.0   30165.000000  \n",
       "50%             6.000000               0.0   49413.000000  \n",
       "75%             9.000000               0.0   71083.000000  \n",
       "max            12.000000               0.0   99998.000000  "
      ]
     },
     "execution_count": 5,
     "metadata": {},
     "output_type": "execute_result"
    }
   ],
   "source": [
    "data.describe()"
   ]
  },
  {
   "cell_type": "code",
   "execution_count": 6,
   "metadata": {},
   "outputs": [
    {
     "name": "stdout",
     "output_type": "stream",
     "text": [
      "count    354369.000000\n",
      "mean       2004.234448\n",
      "std          90.227958\n",
      "min        1000.000000\n",
      "25%        1999.000000\n",
      "50%        2003.000000\n",
      "75%        2008.000000\n",
      "max        9999.000000\n",
      "Name: RegistrationYear, dtype: float64\n"
     ]
    },
    {
     "data": {
      "image/png": "[encoded data removed]",
      "text/plain": [
       "<Figure size 432x288 with 1 Axes>"
      ]
     },
     "metadata": {
      "needs_background": "light"
     },
     "output_type": "display_data"
    },
    {
     "data": {
      "image/png": "[encoded data removed]",
      "text/plain": [
       "<Figure size 432x288 with 1 Axes>"
      ]
     },
     "metadata": {
      "needs_background": "light"
     },
     "output_type": "display_data"
    }
   ],
   "source": [
    "def boxplot_print(colum, bins):\n",
    "    print(colum.describe())\n",
    "    q1 = colum.quantile(0.25)\n",
    "    q3 = colum.quantile(0.75)\n",
    "    iqr = q3 - q1\n",
    "    sns.boxplot(x=colum, color='red')   \n",
    "    plt.show()\n",
    "    colum.hist(bins=bins, range=((q1-3*iqr), (q3+3*iqr)))\n",
    "    plt.show()\n",
    "    \n",
    "plt.xlim(1970, 2020)\n",
    "boxplot_print(data['RegistrationYear'], 10)"
   ]
  },
  {
   "cell_type": "code",
   "execution_count": 7,
   "metadata": {},
   "outputs": [
    {
     "data": {
      "text/plain": [
       "DateCrawled              0\n",
       "Price                    0\n",
       "VehicleType          37490\n",
       "RegistrationYear         0\n",
       "Gearbox              19833\n",
       "Power                    0\n",
       "Model                19705\n",
       "Kilometer                0\n",
       "RegistrationMonth        0\n",
       "FuelType             32895\n",
       "Brand                    0\n",
       "Repaired             71154\n",
       "DateCreated              0\n",
       "NumberOfPictures         0\n",
       "PostalCode               0\n",
       "LastSeen                 0\n",
       "dtype: int64"
      ]
     },
     "execution_count": 7,
     "metadata": {},
     "output_type": "execute_result"
    }
   ],
   "source": [
    "data.isna().sum()"
   ]
  },
  {
   "cell_type": "markdown",
   "metadata": {},
   "source": [
    "Repaired — была машина в ремонте или нет. Вероятней всего если пропущено значение, то машина не была в ремонте. По этой логике заменим пропуски на \"no\"\n",
    "\n",
    "Из модельного ряда подобрать модель сложно, и чтобы дальнейшая обработка пропусков была точнее удалим пропущенные значения в столбце 'Model'."
   ]
  },
  {
   "cell_type": "code",
   "execution_count": 8,
   "metadata": {},
   "outputs": [
    {
     "data": {
      "text/plain": [
       "array(['no', 'yes'], dtype=object)"
      ]
     },
     "execution_count": 8,
     "metadata": {},
     "output_type": "execute_result"
    }
   ],
   "source": [
    "data['Repaired'] = data['Repaired'].fillna('no')\n",
    "data.dropna(subset=['Model'], inplace = True)\n",
    "data['Repaired'].unique()"
   ]
  },
  {
   "cell_type": "markdown",
   "metadata": {},
   "source": [
    "Остальные пропуски заменим наиболее частыми значения. Для этого сгруппируем даные по бренду и модели."
   ]
  },
  {
   "cell_type": "code",
   "execution_count": 9,
   "metadata": {},
   "outputs": [
    {
     "data": {
      "text/plain": [
       "Brand       Model     Gearbox\n",
       "alfa_romeo  145       manual      40\n",
       "            147       manual     520\n",
       "                      auto        29\n",
       "            156       manual     556\n",
       "                      auto        45\n",
       "                                ... \n",
       "volvo       v60       auto        14\n",
       "            v70       manual     385\n",
       "                      auto       225\n",
       "            xc_reihe  auto       191\n",
       "                      manual      68\n",
       "Name: Gearbox, Length: 572, dtype: int64"
      ]
     },
     "execution_count": 9,
     "metadata": {},
     "output_type": "execute_result"
    }
   ],
   "source": [
    "data.groupby(['Brand', 'Model'])['Gearbox'].value_counts()"
   ]
  },
  {
   "cell_type": "code",
   "execution_count": 10,
   "metadata": {},
   "outputs": [
    {
     "data": {
      "text/plain": [
       "DateCrawled          0\n",
       "Price                0\n",
       "VehicleType          0\n",
       "RegistrationYear     0\n",
       "Gearbox              0\n",
       "Power                0\n",
       "Model                0\n",
       "Kilometer            0\n",
       "RegistrationMonth    0\n",
       "FuelType             0\n",
       "Brand                0\n",
       "Repaired             0\n",
       "DateCreated          0\n",
       "NumberOfPictures     0\n",
       "PostalCode           0\n",
       "LastSeen             0\n",
       "dtype: int64"
      ]
     },
     "execution_count": 10,
     "metadata": {},
     "output_type": "execute_result"
    }
   ],
   "source": [
    "data[\"VehicleType\"] = (data.groupby(['Brand', 'Model'])['VehicleType']\n",
    "                       .transform(lambda x: x.fillna(value=(x.mode()[0] if not x.mode().empty else \"Empty\"))))\n",
    "data[\"Gearbox\"] = (data.groupby(['Brand', 'Model'])['Gearbox']\n",
    "                       .transform(lambda x: x.fillna(value=(x.mode()[0] if not x.mode().empty else \"Empty\"))))\n",
    "data[\"FuelType\"] = (data.groupby(['Brand', 'Model'])['FuelType']\n",
    "                        .transform(lambda x: x.fillna(value=(x.mode()[0] if not x.mode().empty else \"Empty\"))))\n",
    "\n",
    "data.isnull().sum()"
   ]
  },
  {
   "cell_type": "code",
   "execution_count": 11,
   "metadata": {},
   "outputs": [
    {
     "data": {
      "text/plain": [
       "5"
      ]
     },
     "execution_count": 11,
     "metadata": {},
     "output_type": "execute_result"
    }
   ],
   "source": [
    "data.duplicated().sum()"
   ]
  },
  {
   "cell_type": "code",
   "execution_count": 12,
   "metadata": {},
   "outputs": [],
   "source": [
    "data = data.drop_duplicates().reset_index(drop=True)"
   ]
  },
  {
   "cell_type": "code",
   "execution_count": 13,
   "metadata": {},
   "outputs": [
    {
     "data": {
      "text/plain": [
       "0"
      ]
     },
     "execution_count": 13,
     "metadata": {},
     "output_type": "execute_result"
    }
   ],
   "source": [
    "data.duplicated().sum()"
   ]
  },
  {
   "cell_type": "markdown",
   "metadata": {},
   "source": [
    "Определяем верхнюю границу года регистрации"
   ]
  },
  {
   "cell_type": "code",
   "execution_count": 14,
   "metadata": {},
   "outputs": [
    {
     "data": {
      "text/plain": [
       "Timestamp('2016-04-07 14:36:58')"
      ]
     },
     "execution_count": 14,
     "metadata": {},
     "output_type": "execute_result"
    }
   ],
   "source": [
    "date = pd.to_datetime(data['DateCrawled'])\n",
    "date.max()"
   ]
  },
  {
   "cell_type": "code",
   "execution_count": 15,
   "metadata": {},
   "outputs": [
    {
     "data": {
      "text/plain": [
       "count    322143.000000\n",
       "mean       2002.656227\n",
       "std           6.724669\n",
       "min        1910.000000\n",
       "25%        1999.000000\n",
       "50%        2003.000000\n",
       "75%        2007.000000\n",
       "max        2016.000000\n",
       "Name: RegistrationYear, dtype: float64"
      ]
     },
     "execution_count": 15,
     "metadata": {},
     "output_type": "execute_result"
    },
    {
     "data": {
      "image/png": "[encoded data removed]",
      "text/plain": [
       "<Figure size 864x648 with 1 Axes>"
      ]
     },
     "metadata": {
      "needs_background": "light"
     },
     "output_type": "display_data"
    }
   ],
   "source": [
    "data = data.query('1899 < RegistrationYear < 2017')\n",
    "data['RegistrationYear'].hist(bins=100, figsize=(12,9))\n",
    "data['RegistrationYear'].describe()"
   ]
  },
  {
   "cell_type": "markdown",
   "metadata": {},
   "source": [
    "Из гистограммы видно, что убираем данные до 1960 года: "
   ]
  },
  {
   "cell_type": "code",
   "execution_count": 16,
   "metadata": {},
   "outputs": [
    {
     "data": {
      "text/plain": [
       "count    321949.000000\n",
       "mean       2002.693299\n",
       "std           6.540194\n",
       "min        1960.000000\n",
       "25%        1999.000000\n",
       "50%        2003.000000\n",
       "75%        2007.000000\n",
       "max        2016.000000\n",
       "Name: RegistrationYear, dtype: float64"
      ]
     },
     "execution_count": 16,
     "metadata": {},
     "output_type": "execute_result"
    },
    {
     "data": {
      "image/png": "[encoded data removed]",
      "text/plain": [
       "<Figure size 864x648 with 1 Axes>"
      ]
     },
     "metadata": {
      "needs_background": "light"
     },
     "output_type": "display_data"
    }
   ],
   "source": [
    "data = data.query('1959 < RegistrationYear < 2017')\n",
    "data['RegistrationYear'].hist(bins=50, figsize=(12,9))\n",
    "data['RegistrationYear'].describe()"
   ]
  },
  {
   "cell_type": "markdown",
   "metadata": {},
   "source": [
    "Удаляем даты:"
   ]
  },
  {
   "cell_type": "code",
   "execution_count": 17,
   "metadata": {},
   "outputs": [],
   "source": [
    "data = data.drop(['DateCrawled', 'DateCreated' , 'LastSeen'], axis=1)"
   ]
  },
  {
   "cell_type": "code",
   "execution_count": 18,
   "metadata": {},
   "outputs": [
    {
     "name": "stderr",
     "output_type": "stream",
     "text": [
      "/opt/conda/lib/python3.9/site-packages/seaborn/_decorators.py:36: FutureWarning: Pass the following variable as a keyword arg: x. From version 0.12, the only valid positional argument will be `data`, and passing other arguments without an explicit keyword will result in an error or misinterpretation.\n",
      "  warnings.warn(\n"
     ]
    },
    {
     "data": {
      "image/png": "[encoded data removed]",
      "text/plain": [
       "<Figure size 432x288 with 1 Axes>"
      ]
     },
     "metadata": {
      "needs_background": "light"
     },
     "output_type": "display_data"
    },
    {
     "name": "stderr",
     "output_type": "stream",
     "text": [
      "/opt/conda/lib/python3.9/site-packages/seaborn/_decorators.py:36: FutureWarning: Pass the following variable as a keyword arg: x. From version 0.12, the only valid positional argument will be `data`, and passing other arguments without an explicit keyword will result in an error or misinterpretation.\n",
      "  warnings.warn(\n"
     ]
    },
    {
     "data": {
      "image/png": "[encoded data removed]",
      "text/plain": [
       "<Figure size 432x288 with 1 Axes>"
      ]
     },
     "metadata": {
      "needs_background": "light"
     },
     "output_type": "display_data"
    },
    {
     "name": "stderr",
     "output_type": "stream",
     "text": [
      "/opt/conda/lib/python3.9/site-packages/seaborn/_decorators.py:36: FutureWarning: Pass the following variable as a keyword arg: x. From version 0.12, the only valid positional argument will be `data`, and passing other arguments without an explicit keyword will result in an error or misinterpretation.\n",
      "  warnings.warn(\n"
     ]
    },
    {
     "data": {
      "image/png": "[encoded data removed]",
      "text/plain": [
       "<Figure size 432x288 with 1 Axes>"
      ]
     },
     "metadata": {
      "needs_background": "light"
     },
     "output_type": "display_data"
    }
   ],
   "source": [
    "for a in ['Power','Kilometer','Price']:\n",
    "    sns.boxplot(data[a]) \n",
    "    plt.show()"
   ]
  },
  {
   "cell_type": "markdown",
   "metadata": {},
   "source": [
    "Видим явные аномалии в цене, надо сделать по ним срез. И много нулевых значений в цене и мощности, их можно заменить средним значением. Сделаем сводные таблицы и в них заменим на средние, а затем применим их к основному датасету"
   ]
  },
  {
   "cell_type": "code",
   "execution_count": 19,
   "metadata": {},
   "outputs": [],
   "source": [
    "data = data.query('Price < 14000')\n",
    "data = data.query('Price != 1')\n",
    "power_new = data.pivot_table(columns='Model', values='Power', aggfunc='mean').astype('int').to_dict()\n",
    "price_new = data.pivot_table(columns='Model', values='Price', aggfunc='mean').astype('int').to_dict()"
   ]
  },
  {
   "cell_type": "code",
   "execution_count": 20,
   "metadata": {},
   "outputs": [
    {
     "data": {
      "text/html": [
       "<div>\n",
       "<style scoped>\n",
       "    .dataframe tbody tr th:only-of-type {\n",
       "        vertical-align: middle;\n",
       "    }\n",
       "\n",
       "    .dataframe tbody tr th {\n",
       "        vertical-align: top;\n",
       "    }\n",
       "\n",
       "    .dataframe thead th {\n",
       "        text-align: right;\n",
       "    }\n",
       "</style>\n",
       "<table border=\"1\" class=\"dataframe\">\n",
       "  <thead>\n",
       "    <tr style=\"text-align: right;\">\n",
       "      <th></th>\n",
       "      <th>Price</th>\n",
       "      <th>VehicleType</th>\n",
       "      <th>RegistrationYear</th>\n",
       "      <th>Gearbox</th>\n",
       "      <th>Power</th>\n",
       "      <th>Model</th>\n",
       "      <th>Kilometer</th>\n",
       "      <th>RegistrationMonth</th>\n",
       "      <th>FuelType</th>\n",
       "      <th>Brand</th>\n",
       "      <th>Repaired</th>\n",
       "      <th>NumberOfPictures</th>\n",
       "      <th>PostalCode</th>\n",
       "    </tr>\n",
       "  </thead>\n",
       "  <tbody>\n",
       "    <tr>\n",
       "      <th>0</th>\n",
       "      <td>480</td>\n",
       "      <td>sedan</td>\n",
       "      <td>1993</td>\n",
       "      <td>manual</td>\n",
       "      <td>94</td>\n",
       "      <td>golf</td>\n",
       "      <td>150000</td>\n",
       "      <td>0</td>\n",
       "      <td>petrol</td>\n",
       "      <td>volkswagen</td>\n",
       "      <td>no</td>\n",
       "      <td>0</td>\n",
       "      <td>70435</td>\n",
       "    </tr>\n",
       "    <tr>\n",
       "      <th>1</th>\n",
       "      <td>9800</td>\n",
       "      <td>suv</td>\n",
       "      <td>2004</td>\n",
       "      <td>auto</td>\n",
       "      <td>163</td>\n",
       "      <td>grand</td>\n",
       "      <td>125000</td>\n",
       "      <td>8</td>\n",
       "      <td>gasoline</td>\n",
       "      <td>jeep</td>\n",
       "      <td>no</td>\n",
       "      <td>0</td>\n",
       "      <td>90480</td>\n",
       "    </tr>\n",
       "    <tr>\n",
       "      <th>2</th>\n",
       "      <td>1500</td>\n",
       "      <td>small</td>\n",
       "      <td>2001</td>\n",
       "      <td>manual</td>\n",
       "      <td>75</td>\n",
       "      <td>golf</td>\n",
       "      <td>150000</td>\n",
       "      <td>6</td>\n",
       "      <td>petrol</td>\n",
       "      <td>volkswagen</td>\n",
       "      <td>no</td>\n",
       "      <td>0</td>\n",
       "      <td>91074</td>\n",
       "    </tr>\n",
       "    <tr>\n",
       "      <th>3</th>\n",
       "      <td>3600</td>\n",
       "      <td>small</td>\n",
       "      <td>2008</td>\n",
       "      <td>manual</td>\n",
       "      <td>69</td>\n",
       "      <td>fabia</td>\n",
       "      <td>90000</td>\n",
       "      <td>7</td>\n",
       "      <td>gasoline</td>\n",
       "      <td>skoda</td>\n",
       "      <td>no</td>\n",
       "      <td>0</td>\n",
       "      <td>60437</td>\n",
       "    </tr>\n",
       "    <tr>\n",
       "      <th>4</th>\n",
       "      <td>650</td>\n",
       "      <td>sedan</td>\n",
       "      <td>1995</td>\n",
       "      <td>manual</td>\n",
       "      <td>102</td>\n",
       "      <td>3er</td>\n",
       "      <td>150000</td>\n",
       "      <td>10</td>\n",
       "      <td>petrol</td>\n",
       "      <td>bmw</td>\n",
       "      <td>yes</td>\n",
       "      <td>0</td>\n",
       "      <td>33775</td>\n",
       "    </tr>\n",
       "  </tbody>\n",
       "</table>\n",
       "</div>"
      ],
      "text/plain": [
       "   Price VehicleType  RegistrationYear Gearbox  Power  Model  Kilometer  \\\n",
       "0    480       sedan              1993  manual     94   golf     150000   \n",
       "1   9800         suv              2004    auto    163  grand     125000   \n",
       "2   1500       small              2001  manual     75   golf     150000   \n",
       "3   3600       small              2008  manual     69  fabia      90000   \n",
       "4    650       sedan              1995  manual    102    3er     150000   \n",
       "\n",
       "   RegistrationMonth  FuelType       Brand Repaired  NumberOfPictures  \\\n",
       "0                  0    petrol  volkswagen       no                 0   \n",
       "1                  8  gasoline        jeep       no                 0   \n",
       "2                  6    petrol  volkswagen       no                 0   \n",
       "3                  7  gasoline       skoda       no                 0   \n",
       "4                 10    petrol         bmw      yes                 0   \n",
       "\n",
       "   PostalCode  \n",
       "0       70435  \n",
       "1       90480  \n",
       "2       91074  \n",
       "3       60437  \n",
       "4       33775  "
      ]
     },
     "execution_count": 20,
     "metadata": {},
     "output_type": "execute_result"
    }
   ],
   "source": [
    "def fill_0(row, cat, place, table):\n",
    "    a = row[cat]\n",
    "    b = table[a][place]\n",
    "    if row[place] == 0:  \n",
    "        row[place] = b\n",
    "    return row\n",
    "        \n",
    "data = data.apply(fill_0, axis=1, args=('Model','Power', power_new))\n",
    "data = data.apply(fill_0, axis=1, args=('Model','Price', price_new))\n",
    "\n",
    "data.head()"
   ]
  },
  {
   "cell_type": "markdown",
   "metadata": {},
   "source": [
    "отрежем цены ниже 100 евро и уберем нулевые значения мощностей"
   ]
  },
  {
   "cell_type": "code",
   "execution_count": 21,
   "metadata": {},
   "outputs": [],
   "source": [
    "data = data.query('Power != 0')\n",
    "data = data.query('Price > 100')"
   ]
  },
  {
   "cell_type": "code",
   "execution_count": 22,
   "metadata": {},
   "outputs": [
    {
     "name": "stdout",
     "output_type": "stream",
     "text": [
      "<class 'pandas.core.frame.DataFrame'>\n",
      "Int64Index: 299915 entries, 0 to 334658\n",
      "Data columns (total 13 columns):\n",
      " #   Column             Non-Null Count   Dtype \n",
      "---  ------             --------------   ----- \n",
      " 0   Price              299915 non-null  int64 \n",
      " 1   VehicleType        299915 non-null  object\n",
      " 2   RegistrationYear   299915 non-null  int64 \n",
      " 3   Gearbox            299915 non-null  object\n",
      " 4   Power              299915 non-null  int64 \n",
      " 5   Model              299915 non-null  object\n",
      " 6   Kilometer          299915 non-null  int64 \n",
      " 7   RegistrationMonth  299915 non-null  int64 \n",
      " 8   FuelType           299915 non-null  object\n",
      " 9   Brand              299915 non-null  object\n",
      " 10  Repaired           299915 non-null  object\n",
      " 11  NumberOfPictures   299915 non-null  int64 \n",
      " 12  PostalCode         299915 non-null  int64 \n",
      "dtypes: int64(7), object(6)\n",
      "memory usage: 32.0+ MB\n"
     ]
    }
   ],
   "source": [
    "data.info()"
   ]
  },
  {
   "cell_type": "code",
   "execution_count": 23,
   "metadata": {},
   "outputs": [
    {
     "name": "stdout",
     "output_type": "stream",
     "text": [
      "count    299915.000000\n",
      "mean       2002.336242\n",
      "std           6.313367\n",
      "min        1960.000000\n",
      "25%        1999.000000\n",
      "50%        2002.000000\n",
      "75%        2006.000000\n",
      "max        2016.000000\n",
      "Name: RegistrationYear, dtype: float64\n"
     ]
    },
    {
     "data": {
      "image/png": "[encoded data removed]",
      "text/plain": [
       "<Figure size 432x288 with 1 Axes>"
      ]
     },
     "metadata": {
      "needs_background": "light"
     },
     "output_type": "display_data"
    },
    {
     "data": {
      "image/png": "[encoded data removed]",
      "text/plain": [
       "<Figure size 432x288 with 1 Axes>"
      ]
     },
     "metadata": {
      "needs_background": "light"
     },
     "output_type": "display_data"
    }
   ],
   "source": [
    "def boxplot_print(colum, bins):\n",
    "    print(colum.describe())\n",
    "    q1 = colum.quantile(0.25)\n",
    "    q3 = colum.quantile(0.75)\n",
    "    iqr = q3 - q1\n",
    "    sns.boxplot(x=colum, color='red')   \n",
    "    plt.show()\n",
    "    colum.hist(bins=bins, range=((q1-3*iqr), (q3+3*iqr)))\n",
    "    plt.show()\n",
    "    \n",
    "plt.xlim(1970, 2020)\n",
    "boxplot_print(data['RegistrationYear'], 10)"
   ]
  },
  {
   "cell_type": "code",
   "execution_count": 24,
   "metadata": {},
   "outputs": [
    {
     "name": "stdout",
     "output_type": "stream",
     "text": [
      "count    297951.000000\n",
      "mean       2002.534155\n",
      "std           5.827572\n",
      "min        1980.000000\n",
      "25%        1999.000000\n",
      "50%        2003.000000\n",
      "75%        2006.000000\n",
      "max        2016.000000\n",
      "Name: RegistrationYear, dtype: float64\n"
     ]
    },
    {
     "data": {
      "image/png": "[encoded data removed]",
      "text/plain": [
       "<Figure size 432x288 with 1 Axes>"
      ]
     },
     "metadata": {
      "needs_background": "light"
     },
     "output_type": "display_data"
    },
    {
     "data": {
      "image/png": "[encoded data removed]",
      "text/plain": [
       "<Figure size 432x288 with 1 Axes>"
      ]
     },
     "metadata": {
      "needs_background": "light"
     },
     "output_type": "display_data"
    }
   ],
   "source": [
    "df_filtr = data.query(\"1980 <= RegistrationYear <= 2020\")\n",
    "boxplot_print(df_filtr['RegistrationYear'], 10)"
   ]
  },
  {
   "cell_type": "code",
   "execution_count": 25,
   "metadata": {},
   "outputs": [
    {
     "name": "stdout",
     "output_type": "stream",
     "text": [
      "count    297951.000000\n",
      "mean        118.572010\n",
      "std         181.528855\n",
      "min           1.000000\n",
      "25%          75.000000\n",
      "50%         109.000000\n",
      "75%         140.000000\n",
      "max       20000.000000\n",
      "Name: Power, dtype: float64\n"
     ]
    },
    {
     "data": {
      "image/png": "[encoded data removed]",
      "text/plain": [
       "<Figure size 432x288 with 1 Axes>"
      ]
     },
     "metadata": {
      "needs_background": "light"
     },
     "output_type": "display_data"
    },
    {
     "data": {
      "image/png": "[encoded data removed]",
      "text/plain": [
       "<Figure size 432x288 with 1 Axes>"
      ]
     },
     "metadata": {
      "needs_background": "light"
     },
     "output_type": "display_data"
    }
   ],
   "source": [
    "plt.xlim(0, 600)\n",
    "boxplot_print(df_filtr['Power'], 10)"
   ]
  },
  {
   "cell_type": "markdown",
   "metadata": {},
   "source": [
    "Кодирование данных:"
   ]
  },
  {
   "cell_type": "code",
   "execution_count": 26,
   "metadata": {},
   "outputs": [
    {
     "data": {
      "text/html": [
       "<div>\n",
       "<style scoped>\n",
       "    .dataframe tbody tr th:only-of-type {\n",
       "        vertical-align: middle;\n",
       "    }\n",
       "\n",
       "    .dataframe tbody tr th {\n",
       "        vertical-align: top;\n",
       "    }\n",
       "\n",
       "    .dataframe thead th {\n",
       "        text-align: right;\n",
       "    }\n",
       "</style>\n",
       "<table border=\"1\" class=\"dataframe\">\n",
       "  <thead>\n",
       "    <tr style=\"text-align: right;\">\n",
       "      <th></th>\n",
       "      <th>Price</th>\n",
       "      <th>RegistrationYear</th>\n",
       "      <th>Power</th>\n",
       "      <th>Kilometer</th>\n",
       "      <th>RegistrationMonth</th>\n",
       "      <th>NumberOfPictures</th>\n",
       "      <th>PostalCode</th>\n",
       "      <th>VehicleType_convertible</th>\n",
       "      <th>VehicleType_coupe</th>\n",
       "      <th>VehicleType_other</th>\n",
       "      <th>...</th>\n",
       "      <th>Brand_seat</th>\n",
       "      <th>Brand_skoda</th>\n",
       "      <th>Brand_smart</th>\n",
       "      <th>Brand_subaru</th>\n",
       "      <th>Brand_suzuki</th>\n",
       "      <th>Brand_toyota</th>\n",
       "      <th>Brand_trabant</th>\n",
       "      <th>Brand_volkswagen</th>\n",
       "      <th>Brand_volvo</th>\n",
       "      <th>Repaired_yes</th>\n",
       "    </tr>\n",
       "  </thead>\n",
       "  <tbody>\n",
       "    <tr>\n",
       "      <th>0</th>\n",
       "      <td>480</td>\n",
       "      <td>1993</td>\n",
       "      <td>94</td>\n",
       "      <td>150000</td>\n",
       "      <td>0</td>\n",
       "      <td>0</td>\n",
       "      <td>70435</td>\n",
       "      <td>0</td>\n",
       "      <td>0</td>\n",
       "      <td>0</td>\n",
       "      <td>...</td>\n",
       "      <td>0</td>\n",
       "      <td>0</td>\n",
       "      <td>0</td>\n",
       "      <td>0</td>\n",
       "      <td>0</td>\n",
       "      <td>0</td>\n",
       "      <td>0</td>\n",
       "      <td>1</td>\n",
       "      <td>0</td>\n",
       "      <td>0</td>\n",
       "    </tr>\n",
       "    <tr>\n",
       "      <th>1</th>\n",
       "      <td>9800</td>\n",
       "      <td>2004</td>\n",
       "      <td>163</td>\n",
       "      <td>125000</td>\n",
       "      <td>8</td>\n",
       "      <td>0</td>\n",
       "      <td>90480</td>\n",
       "      <td>0</td>\n",
       "      <td>0</td>\n",
       "      <td>0</td>\n",
       "      <td>...</td>\n",
       "      <td>0</td>\n",
       "      <td>0</td>\n",
       "      <td>0</td>\n",
       "      <td>0</td>\n",
       "      <td>0</td>\n",
       "      <td>0</td>\n",
       "      <td>0</td>\n",
       "      <td>0</td>\n",
       "      <td>0</td>\n",
       "      <td>0</td>\n",
       "    </tr>\n",
       "    <tr>\n",
       "      <th>2</th>\n",
       "      <td>1500</td>\n",
       "      <td>2001</td>\n",
       "      <td>75</td>\n",
       "      <td>150000</td>\n",
       "      <td>6</td>\n",
       "      <td>0</td>\n",
       "      <td>91074</td>\n",
       "      <td>0</td>\n",
       "      <td>0</td>\n",
       "      <td>0</td>\n",
       "      <td>...</td>\n",
       "      <td>0</td>\n",
       "      <td>0</td>\n",
       "      <td>0</td>\n",
       "      <td>0</td>\n",
       "      <td>0</td>\n",
       "      <td>0</td>\n",
       "      <td>0</td>\n",
       "      <td>1</td>\n",
       "      <td>0</td>\n",
       "      <td>0</td>\n",
       "    </tr>\n",
       "    <tr>\n",
       "      <th>3</th>\n",
       "      <td>3600</td>\n",
       "      <td>2008</td>\n",
       "      <td>69</td>\n",
       "      <td>90000</td>\n",
       "      <td>7</td>\n",
       "      <td>0</td>\n",
       "      <td>60437</td>\n",
       "      <td>0</td>\n",
       "      <td>0</td>\n",
       "      <td>0</td>\n",
       "      <td>...</td>\n",
       "      <td>0</td>\n",
       "      <td>1</td>\n",
       "      <td>0</td>\n",
       "      <td>0</td>\n",
       "      <td>0</td>\n",
       "      <td>0</td>\n",
       "      <td>0</td>\n",
       "      <td>0</td>\n",
       "      <td>0</td>\n",
       "      <td>0</td>\n",
       "    </tr>\n",
       "    <tr>\n",
       "      <th>4</th>\n",
       "      <td>650</td>\n",
       "      <td>1995</td>\n",
       "      <td>102</td>\n",
       "      <td>150000</td>\n",
       "      <td>10</td>\n",
       "      <td>0</td>\n",
       "      <td>33775</td>\n",
       "      <td>0</td>\n",
       "      <td>0</td>\n",
       "      <td>0</td>\n",
       "      <td>...</td>\n",
       "      <td>0</td>\n",
       "      <td>0</td>\n",
       "      <td>0</td>\n",
       "      <td>0</td>\n",
       "      <td>0</td>\n",
       "      <td>0</td>\n",
       "      <td>0</td>\n",
       "      <td>0</td>\n",
       "      <td>0</td>\n",
       "      <td>1</td>\n",
       "    </tr>\n",
       "  </tbody>\n",
       "</table>\n",
       "<p>5 rows × 307 columns</p>\n",
       "</div>"
      ],
      "text/plain": [
       "   Price  RegistrationYear  Power  Kilometer  RegistrationMonth  \\\n",
       "0    480              1993     94     150000                  0   \n",
       "1   9800              2004    163     125000                  8   \n",
       "2   1500              2001     75     150000                  6   \n",
       "3   3600              2008     69      90000                  7   \n",
       "4    650              1995    102     150000                 10   \n",
       "\n",
       "   NumberOfPictures  PostalCode  VehicleType_convertible  VehicleType_coupe  \\\n",
       "0                 0       70435                        0                  0   \n",
       "1                 0       90480                        0                  0   \n",
       "2                 0       91074                        0                  0   \n",
       "3                 0       60437                        0                  0   \n",
       "4                 0       33775                        0                  0   \n",
       "\n",
       "   VehicleType_other  ...  Brand_seat  Brand_skoda  Brand_smart  Brand_subaru  \\\n",
       "0                  0  ...           0            0            0             0   \n",
       "1                  0  ...           0            0            0             0   \n",
       "2                  0  ...           0            0            0             0   \n",
       "3                  0  ...           0            1            0             0   \n",
       "4                  0  ...           0            0            0             0   \n",
       "\n",
       "   Brand_suzuki  Brand_toyota  Brand_trabant  Brand_volkswagen  Brand_volvo  \\\n",
       "0             0             0              0                 1            0   \n",
       "1             0             0              0                 0            0   \n",
       "2             0             0              0                 1            0   \n",
       "3             0             0              0                 0            0   \n",
       "4             0             0              0                 0            0   \n",
       "\n",
       "   Repaired_yes  \n",
       "0             0  \n",
       "1             0  \n",
       "2             0  \n",
       "3             0  \n",
       "4             1  \n",
       "\n",
       "[5 rows x 307 columns]"
      ]
     },
     "execution_count": 26,
     "metadata": {},
     "output_type": "execute_result"
    }
   ],
   "source": [
    "data_ohe = pd.get_dummies(data, drop_first=True)\n",
    "data_ohe.head()"
   ]
  },
  {
   "cell_type": "markdown",
   "metadata": {},
   "source": [
    "Данные готовы."
   ]
  },
  {
   "cell_type": "markdown",
   "metadata": {},
   "source": [
    "## Обучение моделей"
   ]
  },
  {
   "cell_type": "markdown",
   "metadata": {},
   "source": [
    "Разделение на выборки, обучающие признаки и целевые: "
   ]
  },
  {
   "cell_type": "code",
   "execution_count": 27,
   "metadata": {},
   "outputs": [
    {
     "name": "stdout",
     "output_type": "stream",
     "text": [
      "(299915, 307)\n"
     ]
    }
   ],
   "source": [
    "df_train, df_valid = train_test_split(data_ohe, test_size=0.2, random_state=12345)\n",
    "\n",
    "df_test_size = df_valid.shape[0] / df_train.shape[0]\n",
    "df_train, df_test = train_test_split(df_train, test_size=df_test_size, random_state=12345)\n",
    "\n",
    "numeric = ['RegistrationYear', 'Power', 'Kilometer', 'RegistrationMonth']\n",
    "\n",
    "features_train = df_train.drop(['Price'], axis=1)\n",
    "target_train = df_train['Price']\n",
    "\n",
    "features_valid = df_valid.drop(['Price'], axis=1)\n",
    "target_valid = df_valid['Price']\n",
    "\n",
    "features_test = df_test.drop(['Price'], axis=1)\n",
    "target_test = df_test['Price']\n",
    "\n",
    "scaler = StandardScaler()\n",
    "scaler.fit(features_train[numeric])\n",
    "features_train[numeric] = scaler.transform(features_train[numeric])\n",
    "features_valid[numeric] = scaler.transform(features_valid[numeric])\n",
    "features_test[numeric] = scaler.transform(features_test[numeric])\n",
    "\n",
    "print(data_ohe.shape)"
   ]
  },
  {
   "cell_type": "markdown",
   "metadata": {},
   "source": [
    "Разбиение на подвыборки для кросс-валидации"
   ]
  },
  {
   "cell_type": "code",
   "execution_count": 28,
   "metadata": {},
   "outputs": [],
   "source": [
    "kf = KFold(n_splits=5, shuffle=True, random_state=12345)"
   ]
  },
  {
   "cell_type": "code",
   "execution_count": 29,
   "metadata": {},
   "outputs": [],
   "source": [
    "test_score = {}"
   ]
  },
  {
   "cell_type": "markdown",
   "metadata": {},
   "source": [
    "### LinearRegression"
   ]
  },
  {
   "cell_type": "code",
   "execution_count": 30,
   "metadata": {},
   "outputs": [
    {
     "name": "stdout",
     "output_type": "stream",
     "text": [
      "CPU times: user 11.8 s, sys: 5.92 s, total: 17.7 s\n",
      "Wall time: 17.7 s\n"
     ]
    },
    {
     "data": {
      "text/plain": [
       "2222.7576682184495"
      ]
     },
     "execution_count": 30,
     "metadata": {},
     "output_type": "execute_result"
    }
   ],
   "source": [
    "%%time\n",
    "\n",
    "line_reg_model = LinearRegression().fit(features_train, target_train)\n",
    "predictions = line_reg_model.predict(features_train)\n",
    "mse = mean_squared_error(target_train, predictions)\n",
    "rmse_train = mse ** 0.5\n",
    "rmse_train"
   ]
  },
  {
   "cell_type": "code",
   "execution_count": 31,
   "metadata": {},
   "outputs": [
    {
     "name": "stdout",
     "output_type": "stream",
     "text": [
      "CPU times: user 83.5 ms, sys: 41.1 ms, total: 125 ms\n",
      "Wall time: 99.6 ms\n"
     ]
    }
   ],
   "source": [
    "%%time\n",
    "\n",
    "predictions_valid = line_reg_model.predict(features_valid)\n",
    "mse_valid = mean_squared_error(target_valid, predictions_valid)\n",
    "rmse_valid = mse_valid ** 0.5"
   ]
  },
  {
   "cell_type": "code",
   "execution_count": 32,
   "metadata": {},
   "outputs": [
    {
     "name": "stdout",
     "output_type": "stream",
     "text": [
      "RMSE модели линейной регрессии: 2227.8999640945835\n",
      "CPU times: user 70.4 ms, sys: 173 ms, total: 243 ms\n",
      "Wall time: 291 ms\n"
     ]
    }
   ],
   "source": [
    "%%time\n",
    "\n",
    "predictions = line_reg_model.predict(features_valid)\n",
    "print('RMSE модели линейной регрессии:', mean_squared_error(target_valid, predictions)**0.5)"
   ]
  },
  {
   "cell_type": "code",
   "execution_count": 33,
   "metadata": {},
   "outputs": [],
   "source": [
    "test_score['LinearRegression'] = ['2227', '15.8 s', '69.7 ms']"
   ]
  },
  {
   "cell_type": "markdown",
   "metadata": {},
   "source": [
    "### DecisionTreeRegressor"
   ]
  },
  {
   "cell_type": "code",
   "execution_count": 34,
   "metadata": {},
   "outputs": [
    {
     "name": "stdout",
     "output_type": "stream",
     "text": [
      "Настройка гиперпараметров\n",
      "\n",
      "Наилучший набор параметров:\n",
      "\n",
      "{'criterion': 'mse', 'max_depth': 14, 'min_samples_split': 3}\n",
      "\n",
      "Результат:\n",
      "\n",
      "1639.288195 for {'criterion': 'mse', 'max_depth': 10, 'min_samples_split': 2}\n",
      "1639.780409 for {'criterion': 'mse', 'max_depth': 10, 'min_samples_split': 3}\n",
      "1613.667109 for {'criterion': 'mse', 'max_depth': 11, 'min_samples_split': 2}\n",
      "1613.518287 for {'criterion': 'mse', 'max_depth': 11, 'min_samples_split': 3}\n",
      "1598.115060 for {'criterion': 'mse', 'max_depth': 12, 'min_samples_split': 2}\n",
      "1597.282330 for {'criterion': 'mse', 'max_depth': 12, 'min_samples_split': 3}\n",
      "1588.391988 for {'criterion': 'mse', 'max_depth': 13, 'min_samples_split': 2}\n",
      "1587.726873 for {'criterion': 'mse', 'max_depth': 13, 'min_samples_split': 3}\n",
      "1584.458714 for {'criterion': 'mse', 'max_depth': 14, 'min_samples_split': 2}\n",
      "1583.886848 for {'criterion': 'mse', 'max_depth': 14, 'min_samples_split': 3}\n",
      "1590.409700 for {'criterion': 'mse', 'max_depth': 15, 'min_samples_split': 2}\n",
      "1590.827038 for {'criterion': 'mse', 'max_depth': 15, 'min_samples_split': 3}\n",
      "\n",
      "CPU times: user 3min 15s, sys: 12.7 s, total: 3min 28s\n",
      "Wall time: 3min 28s\n"
     ]
    }
   ],
   "source": [
    "%%time\n",
    "regressor = DecisionTreeRegressor() \n",
    "max_depth_list = [x for x in range(10, 16)]\n",
    "rty = [x for x in range(2, 4)]\n",
    "hyperparams = [{'criterion':['mse'], \n",
    "                'max_depth':max_depth_list, \n",
    "                'min_samples_split':rty}]\n",
    "print('Настройка гиперпараметров')\n",
    "print()\n",
    "clf = GridSearchCV(regressor, hyperparams, scoring='neg_mean_squared_error')\n",
    "clf.fit(features_train, target_train)\n",
    "print(\"Наилучший набор параметров:\")\n",
    "print()\n",
    "print(clf.best_params_)\n",
    "print()\n",
    "print(\"Результат:\")\n",
    "print()\n",
    "means = clf.cv_results_['mean_test_score']\n",
    "stds = clf.cv_results_['std_test_score']\n",
    "for mean, std, hyperparams in zip(means, stds, clf.cv_results_['params']):\n",
    "    print(\"%0.6f for %r\"% ((mean*-1)** 0.5, hyperparams))\n",
    "print()"
   ]
  },
  {
   "cell_type": "code",
   "execution_count": 35,
   "metadata": {},
   "outputs": [
    {
     "name": "stdout",
     "output_type": "stream",
     "text": [
      "CPU times: user 4.27 s, sys: 139 ms, total: 4.41 s\n",
      "Wall time: 4.42 s\n"
     ]
    }
   ],
   "source": [
    "%%time\n",
    "regr = (DecisionTreeRegressor(max_depth=14, min_samples_split=3, random_state=12345)\n",
    "        .fit(features_train, target_train))\n"
   ]
  },
  {
   "cell_type": "code",
   "execution_count": 36,
   "metadata": {},
   "outputs": [
    {
     "name": "stdout",
     "output_type": "stream",
     "text": [
      "CPU times: user 51.2 ms, sys: 63.9 ms, total: 115 ms\n",
      "Wall time: 122 ms\n"
     ]
    },
    {
     "data": {
      "text/plain": [
       "1562.4897446452974"
      ]
     },
     "execution_count": 36,
     "metadata": {},
     "output_type": "execute_result"
    }
   ],
   "source": [
    "%%time\n",
    "\n",
    "predictions_valid = regr.predict(features_valid)\n",
    "mse_test = mean_squared_error(target_valid, predictions_valid)\n",
    "rmse_valid = mse_test ** 0.5\n",
    "rmse_valid"
   ]
  },
  {
   "cell_type": "code",
   "execution_count": 37,
   "metadata": {},
   "outputs": [],
   "source": [
    "test_score['DecisionTreeRegressor'] = ['1562', '4.46 s', '122 ms']"
   ]
  },
  {
   "cell_type": "markdown",
   "metadata": {},
   "source": [
    "Вывод:\n",
    "\n",
    "При увеличение числа деревьев, модель сильно переобучивается и качество предсказаний падает."
   ]
  },
  {
   "cell_type": "markdown",
   "metadata": {},
   "source": [
    "### RandomForestRegressor"
   ]
  },
  {
   "cell_type": "code",
   "execution_count": null,
   "metadata": {},
   "outputs": [
    {
     "name": "stdout",
     "output_type": "stream",
     "text": [
      "n_estimators = 37 :\n",
      "Результат проверки на обучающей  выборке 1235.2855761505414\n",
      "Результат проверки на валидационной выборке 1418.5649915845097\n",
      "\n"
     ]
    }
   ],
   "source": [
    "%%time\n",
    "for estim in np.arange(37, 45):\n",
    "    rf_regr = (RandomForestRegressor(max_depth=14, \n",
    "                                     n_estimators=estim,\n",
    "                                     random_state=12345)\n",
    "        .fit(features_train, target_train)\n",
    "       )\n",
    "    predictions = rf_regr.predict(features_train)\n",
    "    mse = mean_squared_error(target_train, predictions)\n",
    "    rmse = mse ** 0.5\n",
    "    \n",
    "    predictions_valid = rf_regr.predict(features_valid)\n",
    "    mse_valid = mean_squared_error(target_valid, predictions_valid)\n",
    "    rmse_valid = mse_valid ** 0.5\n",
    "    \n",
    "    print(\"n_estimators =\", estim, \":\")\n",
    "    print(\"Результат проверки на обучающей  выборке\", rmse)\n",
    "    print(\"Результат проверки на валидационной выборке\", rmse_valid)\n",
    "    print()"
   ]
  },
  {
   "cell_type": "code",
   "execution_count": null,
   "metadata": {},
   "outputs": [],
   "source": [
    "%%time\n",
    "rf_regr = (RandomForestRegressor(max_depth=14,\n",
    "                                 n_estimators=41,\n",
    "                                 random_state=12345\n",
    "                                )\n",
    "\n",
    "           .fit(features_train, target_train)\n",
    "          )\n"
   ]
  },
  {
   "cell_type": "code",
   "execution_count": null,
   "metadata": {},
   "outputs": [],
   "source": [
    "%%time\n",
    "\n",
    "predictions_valid = rf_regr.predict(features_valid)\n",
    "mse_valid = mean_squared_error(target_valid, predictions_valid)\n",
    "rmse_valid = mse_valid ** 0.5\n",
    "rmse_valid"
   ]
  },
  {
   "cell_type": "code",
   "execution_count": null,
   "metadata": {},
   "outputs": [],
   "source": [
    "test_score['RandomForestRegressor']  = ['1418', '2min', '564 ms']"
   ]
  },
  {
   "cell_type": "markdown",
   "metadata": {},
   "source": [
    "### LGBMRegressor"
   ]
  },
  {
   "cell_type": "code",
   "execution_count": null,
   "metadata": {},
   "outputs": [],
   "source": [
    "import gc\n",
    "gc.enable()\n",
    "\n",
    "y = data['Price']\n",
    "X = data.drop(['Price'], axis=1)\n",
    "\n",
    "del data\n",
    "gc.collect()"
   ]
  },
  {
   "cell_type": "code",
   "execution_count": null,
   "metadata": {},
   "outputs": [],
   "source": [
    "for c in X.columns:\n",
    "    col_type = X[c].dtype\n",
    "    if col_type == 'object' or col_type.name == 'category':\n",
    "        X[c] = X[c].astype('category')"
   ]
  },
  {
   "cell_type": "code",
   "execution_count": null,
   "metadata": {},
   "outputs": [],
   "source": [
    "X.info()"
   ]
  },
  {
   "cell_type": "code",
   "execution_count": null,
   "metadata": {},
   "outputs": [],
   "source": [
    "X_train, X_test, y_train, y_test = train_test_split(X, y, test_size=0.2, random_state=12345)\n",
    "X_train, X_valid, y_train, y_valid = train_test_split(X_train, y_train, test_size=0.1, random_state=12345)"
   ]
  },
  {
   "cell_type": "code",
   "execution_count": null,
   "metadata": {},
   "outputs": [],
   "source": [
    "category_features = [0, 2, 4, 7, 8, 9]"
   ]
  },
  {
   "cell_type": "code",
   "execution_count": null,
   "metadata": {},
   "outputs": [],
   "source": [
    "%%time\n",
    "estim = lgb.LGBMRegressor()\n",
    "estim.fit(X_train, y_train, eval_metric='rmse', categorical_feature=category_features)\n"
   ]
  },
  {
   "cell_type": "code",
   "execution_count": null,
   "metadata": {},
   "outputs": [],
   "source": [
    "%%time\n",
    "predicted_valid = estim.predict(X_valid)\n",
    "predicted_train = estim.predict(X_train)\n",
    "print('The rmse of LGBMRegressor prediction on train:', mean_squared_error(y_train, predicted_train) ** 0.5)\n",
    "print('The rmse of LGBMRegressor prediction on valid:', mean_squared_error(y_valid, predicted_valid) ** 0.5)"
   ]
  },
  {
   "cell_type": "code",
   "execution_count": null,
   "metadata": {},
   "outputs": [],
   "source": [
    "test_score['LGBMRegressor']  = ['1363', '34.7 s', '2.61 s']"
   ]
  },
  {
   "cell_type": "markdown",
   "metadata": {},
   "source": [
    "В данном шаге были обучены и проверены на валидационной выборке четыре модели: LinearRegression, DecisionTreeRegressor, RandomForestRegressor, LGBMRegressor."
   ]
  },
  {
   "cell_type": "markdown",
   "metadata": {},
   "source": [
    "## Анализ моделей"
   ]
  },
  {
   "cell_type": "code",
   "execution_count": null,
   "metadata": {},
   "outputs": [],
   "source": [
    "df_score = pd.DataFrame.from_dict(data=test_score, columns=['Качество', 'Время обучения', 'Время предсказания'], orient='index')\n",
    "df_score"
   ]
  },
  {
   "cell_type": "markdown",
   "metadata": {},
   "source": [
    "Выбираем лучшую модель, исходя из полученных результатов- это LightGBM, и проверяем ее на тестовой выборке."
   ]
  },
  {
   "cell_type": "code",
   "execution_count": null,
   "metadata": {},
   "outputs": [],
   "source": [
    "%%time\n",
    "\n",
    "lgb_train = lgb.Dataset(X_train, y_train)\n",
    "\n",
    "lgb_test = lgb.Dataset(X_train, y_train, reference=lgb_train)\n",
    "\n",
    "parameters_light = {'metric': 'l2', 'max_depth':14,\"random_state\": 12345,\"learning_rate\":1}\n",
    "light = lgb.train(parameters_light,\n",
    "                lgb_train,\n",
    "                num_boost_round=1000,\n",
    "                valid_sets=[lgb_train, lgb_test],\n",
    "                verbose_eval=100)"
   ]
  },
  {
   "cell_type": "code",
   "execution_count": null,
   "metadata": {},
   "outputs": [],
   "source": [
    "%%time\n",
    "\n",
    "print(\"LightGBM:\",(mean_squared_error(y_test,light.predict(X_test),squared=False)))"
   ]
  },
  {
   "cell_type": "markdown",
   "metadata": {},
   "source": [
    "# Вывод:\n",
    "\n",
    "Модели градиентного бустинга показали результаты лучше чем модели линейной регрессии и дерева решений. Наиболее точной оказалась модель LightGBMRegressor. При этом модели LinearRegression и DecisionTreeRegressor быстрее моделей градиентного бустинга."
   ]
  },
  {
   "cell_type": "markdown",
   "metadata": {},
   "source": [
    "На тестовой выборке получили результат хуже, чем на валидационной."
   ]
  }
 ],
 "metadata": {
  "ExecuteTimeLog": [
   {
    "duration": 1880,
    "start_time": "2023-03-23T13:30:15.132Z"
   },
   {
    "duration": 2444,
    "start_time": "2023-03-23T13:30:17.015Z"
   },
   {
    "duration": 21,
    "start_time": "2023-03-23T13:30:19.471Z"
   },
   {
    "duration": 145,
    "start_time": "2023-03-23T13:41:01.282Z"
   },
   {
    "duration": 141,
    "start_time": "2023-03-23T13:41:06.715Z"
   },
   {
    "duration": 134,
    "start_time": "2023-03-23T13:41:13.421Z"
   },
   {
    "duration": 616,
    "start_time": "2023-03-23T13:41:16.540Z"
   },
   {
    "duration": 798,
    "start_time": "2023-03-23T14:26:03.641Z"
   },
   {
    "duration": 990,
    "start_time": "2023-03-23T14:27:22.857Z"
   },
   {
    "duration": 13,
    "start_time": "2023-03-23T14:27:25.442Z"
   },
   {
    "duration": 12,
    "start_time": "2023-03-23T14:27:26.854Z"
   },
   {
    "duration": 122,
    "start_time": "2023-03-23T14:27:42.924Z"
   },
   {
    "duration": 126,
    "start_time": "2023-03-23T14:27:45.388Z"
   },
   {
    "duration": 93,
    "start_time": "2023-03-23T14:27:47.640Z"
   },
   {
    "duration": 239,
    "start_time": "2023-03-23T14:35:19.991Z"
   },
   {
    "duration": 324,
    "start_time": "2023-03-23T14:35:43.528Z"
   },
   {
    "duration": 148,
    "start_time": "2023-03-23T14:37:42.508Z"
   },
   {
    "duration": 10,
    "start_time": "2023-03-23T14:40:46.320Z"
   },
   {
    "duration": 1979,
    "start_time": "2023-03-23T14:40:59.895Z"
   },
   {
    "duration": 59,
    "start_time": "2023-03-23T14:41:43.013Z"
   },
   {
    "duration": 2262,
    "start_time": "2023-03-23T14:42:21.786Z"
   },
   {
    "duration": 118,
    "start_time": "2023-03-23T14:42:33.677Z"
   },
   {
    "duration": 181,
    "start_time": "2023-03-23T14:44:43.002Z"
   },
   {
    "duration": 1543,
    "start_time": "2023-03-23T14:47:48.348Z"
   },
   {
    "duration": 464,
    "start_time": "2023-03-23T14:48:39.083Z"
   },
   {
    "duration": 535,
    "start_time": "2023-03-23T14:49:40.432Z"
   },
   {
    "duration": 398,
    "start_time": "2023-03-23T14:49:49.166Z"
   },
   {
    "duration": 78,
    "start_time": "2023-03-23T14:52:05.630Z"
   },
   {
    "duration": 4095,
    "start_time": "2023-03-23T14:52:22.324Z"
   },
   {
    "duration": 1412,
    "start_time": "2023-03-23T14:52:31.075Z"
   },
   {
    "duration": 27,
    "start_time": "2023-03-23T14:52:32.488Z"
   },
   {
    "duration": 157,
    "start_time": "2023-03-23T14:52:33.628Z"
   },
   {
    "duration": 98,
    "start_time": "2023-03-23T14:52:34.277Z"
   },
   {
    "duration": 376,
    "start_time": "2023-03-23T14:52:34.795Z"
   },
   {
    "duration": 132,
    "start_time": "2023-03-23T14:52:35.399Z"
   },
   {
    "duration": 164,
    "start_time": "2023-03-23T14:52:36.915Z"
   },
   {
    "duration": 160,
    "start_time": "2023-03-23T14:52:38.123Z"
   },
   {
    "duration": 1082,
    "start_time": "2023-03-23T14:52:38.813Z"
   },
   {
    "duration": 417,
    "start_time": "2023-03-23T14:52:39.908Z"
   },
   {
    "duration": 538,
    "start_time": "2023-03-23T14:52:40.734Z"
   },
   {
    "duration": 449,
    "start_time": "2023-03-23T14:52:42.049Z"
   },
   {
    "duration": 3823,
    "start_time": "2023-03-23T14:53:58.268Z"
   },
   {
    "duration": 1334,
    "start_time": "2023-03-23T14:54:02.098Z"
   },
   {
    "duration": 15,
    "start_time": "2023-03-23T14:54:07.409Z"
   },
   {
    "duration": 148,
    "start_time": "2023-03-23T14:54:08.735Z"
   },
   {
    "duration": 131,
    "start_time": "2023-03-23T14:54:09.401Z"
   },
   {
    "duration": 385,
    "start_time": "2023-03-23T14:54:10.020Z"
   },
   {
    "duration": 187,
    "start_time": "2023-03-23T14:54:10.710Z"
   },
   {
    "duration": 108,
    "start_time": "2023-03-23T14:54:12.335Z"
   },
   {
    "duration": 141,
    "start_time": "2023-03-23T14:54:14.076Z"
   },
   {
    "duration": 1308,
    "start_time": "2023-03-23T14:54:14.948Z"
   },
   {
    "duration": 541,
    "start_time": "2023-03-23T14:54:16.866Z"
   },
   {
    "duration": 593,
    "start_time": "2023-03-23T14:54:17.688Z"
   },
   {
    "duration": 516,
    "start_time": "2023-03-23T14:54:18.808Z"
   },
   {
    "duration": 2995,
    "start_time": "2023-03-23T14:54:43.933Z"
   },
   {
    "duration": 1461,
    "start_time": "2023-03-23T14:54:46.930Z"
   },
   {
    "duration": 33,
    "start_time": "2023-03-23T14:54:49.365Z"
   },
   {
    "duration": 159,
    "start_time": "2023-03-23T14:54:50.414Z"
   },
   {
    "duration": 117,
    "start_time": "2023-03-23T14:54:50.814Z"
   },
   {
    "duration": 372,
    "start_time": "2023-03-23T14:54:51.228Z"
   },
   {
    "duration": 151,
    "start_time": "2023-03-23T14:54:51.672Z"
   },
   {
    "duration": 155,
    "start_time": "2023-03-23T14:54:52.536Z"
   },
   {
    "duration": 180,
    "start_time": "2023-03-23T14:54:53.472Z"
   },
   {
    "duration": 1121,
    "start_time": "2023-03-23T14:54:54.197Z"
   },
   {
    "duration": 487,
    "start_time": "2023-03-23T14:54:55.321Z"
   },
   {
    "duration": 545,
    "start_time": "2023-03-23T14:54:56.396Z"
   },
   {
    "duration": 406,
    "start_time": "2023-03-23T14:54:57.539Z"
   },
   {
    "duration": 3107,
    "start_time": "2023-03-23T14:57:36.522Z"
   },
   {
    "duration": 1772,
    "start_time": "2023-03-23T14:57:39.631Z"
   },
   {
    "duration": 17,
    "start_time": "2023-03-23T14:57:41.413Z"
   },
   {
    "duration": 163,
    "start_time": "2023-03-23T14:57:41.432Z"
   },
   {
    "duration": 125,
    "start_time": "2023-03-23T14:57:41.604Z"
   },
   {
    "duration": 303,
    "start_time": "2023-03-23T14:57:41.731Z"
   },
   {
    "duration": 136,
    "start_time": "2023-03-23T14:57:42.035Z"
   },
   {
    "duration": 148,
    "start_time": "2023-03-23T14:57:42.172Z"
   },
   {
    "duration": 123,
    "start_time": "2023-03-23T14:57:42.321Z"
   },
   {
    "duration": 1085,
    "start_time": "2023-03-23T14:57:42.445Z"
   },
   {
    "duration": 428,
    "start_time": "2023-03-23T14:57:43.531Z"
   },
   {
    "duration": 569,
    "start_time": "2023-03-23T14:57:44.186Z"
   },
   {
    "duration": 388,
    "start_time": "2023-03-23T14:57:45.626Z"
   },
   {
    "duration": 276,
    "start_time": "2023-03-23T14:57:46.971Z"
   },
   {
    "duration": 579,
    "start_time": "2023-03-23T14:57:49.000Z"
   },
   {
    "duration": 569,
    "start_time": "2023-03-23T14:58:02.500Z"
   },
   {
    "duration": 677,
    "start_time": "2023-03-23T14:59:29.789Z"
   },
   {
    "duration": 784,
    "start_time": "2023-03-23T15:03:53.324Z"
   },
   {
    "duration": 740,
    "start_time": "2023-03-23T15:05:29.376Z"
   },
   {
    "duration": 3,
    "start_time": "2023-03-23T15:08:54.717Z"
   },
   {
    "duration": 12,
    "start_time": "2023-03-23T15:08:56.471Z"
   },
   {
    "duration": 48332,
    "start_time": "2023-03-23T15:13:05.471Z"
   },
   {
    "duration": 3,
    "start_time": "2023-03-23T15:15:00.132Z"
   },
   {
    "duration": 45520,
    "start_time": "2023-03-23T15:15:34.769Z"
   },
   {
    "duration": 5039,
    "start_time": "2023-03-23T15:16:39.823Z"
   },
   {
    "duration": 5,
    "start_time": "2023-03-23T15:17:13.177Z"
   },
   {
    "duration": 2,
    "start_time": "2023-03-23T15:19:18.416Z"
   },
   {
    "duration": 918638,
    "start_time": "2023-03-23T15:19:54.003Z"
   },
   {
    "duration": 117537,
    "start_time": "2023-03-23T15:39:34.708Z"
   },
   {
    "duration": 1611,
    "start_time": "2023-03-23T16:01:19.730Z"
   },
   {
    "duration": 840,
    "start_time": "2023-03-23T16:01:21.343Z"
   },
   {
    "duration": 15,
    "start_time": "2023-03-23T16:01:22.401Z"
   },
   {
    "duration": 120,
    "start_time": "2023-03-23T16:01:24.315Z"
   },
   {
    "duration": 99,
    "start_time": "2023-03-23T16:01:25.415Z"
   },
   {
    "duration": 257,
    "start_time": "2023-03-23T16:01:26.578Z"
   },
   {
    "duration": 105,
    "start_time": "2023-03-23T16:01:28.430Z"
   },
   {
    "duration": 103,
    "start_time": "2023-03-23T16:01:32.223Z"
   },
   {
    "duration": 121,
    "start_time": "2023-03-23T16:01:34.719Z"
   },
   {
    "duration": 1012,
    "start_time": "2023-03-23T16:01:36.306Z"
   },
   {
    "duration": 449,
    "start_time": "2023-03-23T16:01:38.451Z"
   },
   {
    "duration": 557,
    "start_time": "2023-03-23T16:01:40.202Z"
   },
   {
    "duration": 409,
    "start_time": "2023-03-23T16:01:41.472Z"
   },
   {
    "duration": 232,
    "start_time": "2023-03-23T16:01:44.094Z"
   },
   {
    "duration": 132,
    "start_time": "2023-03-23T16:01:45.700Z"
   },
   {
    "duration": 500,
    "start_time": "2023-03-23T16:01:56.472Z"
   },
   {
    "duration": 87,
    "start_time": "2023-03-23T16:04:38.441Z"
   },
   {
    "duration": 135,
    "start_time": "2023-03-23T16:04:50.784Z"
   },
   {
    "duration": 1679,
    "start_time": "2023-03-23T16:04:56.768Z"
   },
   {
    "duration": 34857,
    "start_time": "2023-03-23T16:05:18.585Z"
   },
   {
    "duration": 61,
    "start_time": "2023-03-23T16:06:32.879Z"
   },
   {
    "duration": 77,
    "start_time": "2023-03-23T16:06:35.831Z"
   },
   {
    "duration": 571,
    "start_time": "2023-03-23T16:07:14.407Z"
   },
   {
    "duration": 672,
    "start_time": "2023-03-23T16:08:27.029Z"
   },
   {
    "duration": 13,
    "start_time": "2023-03-23T16:08:44.942Z"
   },
   {
    "duration": 3,
    "start_time": "2023-03-23T16:08:46.272Z"
   },
   {
    "duration": 62292,
    "start_time": "2023-03-23T16:08:47.697Z"
   },
   {
    "duration": 3,
    "start_time": "2023-03-23T16:10:20.097Z"
   },
   {
    "duration": 44343,
    "start_time": "2023-03-23T16:10:27.380Z"
   },
   {
    "duration": 4328,
    "start_time": "2023-03-23T16:12:40.973Z"
   },
   {
    "duration": 3,
    "start_time": "2023-03-23T16:12:59.673Z"
   },
   {
    "duration": 860645,
    "start_time": "2023-03-23T16:13:12.177Z"
   },
   {
    "duration": 118947,
    "start_time": "2023-03-23T16:29:11.792Z"
   },
   {
    "duration": 2,
    "start_time": "2023-03-23T16:31:24.508Z"
   },
   {
    "duration": 195,
    "start_time": "2023-03-23T16:31:32.742Z"
   },
   {
    "duration": 4,
    "start_time": "2023-03-23T16:32:49.992Z"
   },
   {
    "duration": 111,
    "start_time": "2023-03-23T16:33:02.679Z"
   },
   {
    "duration": 4,
    "start_time": "2023-03-23T16:33:53.244Z"
   },
   {
    "duration": 138,
    "start_time": "2023-03-23T16:34:07.747Z"
   },
   {
    "duration": 55557,
    "start_time": "2023-03-23T16:39:08.622Z"
   },
   {
    "duration": 4,
    "start_time": "2023-03-23T16:40:04.188Z"
   },
   {
    "duration": 440783,
    "start_time": "2023-03-23T16:41:53.310Z"
   },
   {
    "duration": 3,
    "start_time": "2023-03-23T16:50:18.232Z"
   },
   {
    "duration": 181,
    "start_time": "2023-03-23T16:51:18.732Z"
   },
   {
    "duration": 104,
    "start_time": "2023-03-23T16:53:36.734Z"
   },
   {
    "duration": 134,
    "start_time": "2023-03-23T16:54:27.606Z"
   },
   {
    "duration": 92056,
    "start_time": "2023-03-23T16:54:58.835Z"
   },
   {
    "duration": 4,
    "start_time": "2023-03-23T16:56:36.564Z"
   },
   {
    "duration": 446658,
    "start_time": "2023-03-23T16:57:26.036Z"
   },
   {
    "duration": 152265,
    "start_time": "2023-03-23T17:05:10.117Z"
   },
   {
    "duration": 10,
    "start_time": "2023-03-23T17:08:11.773Z"
   },
   {
    "duration": 132,
    "start_time": "2023-03-23T17:08:18.173Z"
   },
   {
    "duration": 1824,
    "start_time": "2023-03-25T17:40:36.385Z"
   },
   {
    "duration": 1137,
    "start_time": "2023-03-25T17:40:38.212Z"
   },
   {
    "duration": 17,
    "start_time": "2023-03-25T17:40:39.351Z"
   },
   {
    "duration": 156,
    "start_time": "2023-03-25T17:40:39.370Z"
   },
   {
    "duration": 112,
    "start_time": "2023-03-25T17:40:39.528Z"
   },
   {
    "duration": 313,
    "start_time": "2023-03-25T17:40:39.641Z"
   },
   {
    "duration": 145,
    "start_time": "2023-03-25T17:40:39.956Z"
   },
   {
    "duration": 118,
    "start_time": "2023-03-25T17:40:40.103Z"
   },
   {
    "duration": 158,
    "start_time": "2023-03-25T17:40:40.223Z"
   },
   {
    "duration": 1155,
    "start_time": "2023-03-25T17:40:40.383Z"
   },
   {
    "duration": 434,
    "start_time": "2023-03-25T17:40:41.540Z"
   },
   {
    "duration": 560,
    "start_time": "2023-03-25T17:40:41.977Z"
   },
   {
    "duration": 449,
    "start_time": "2023-03-25T17:40:42.539Z"
   },
   {
    "duration": 259,
    "start_time": "2023-03-25T17:40:42.991Z"
   },
   {
    "duration": 548,
    "start_time": "2023-03-25T17:40:43.252Z"
   },
   {
    "duration": 155,
    "start_time": "2023-03-25T17:40:43.801Z"
   },
   {
    "duration": 36782,
    "start_time": "2023-03-25T17:40:43.959Z"
   },
   {
    "duration": 77,
    "start_time": "2023-03-25T17:41:20.743Z"
   },
   {
    "duration": 96,
    "start_time": "2023-03-25T17:41:20.822Z"
   },
   {
    "duration": 756,
    "start_time": "2023-03-25T17:41:20.920Z"
   },
   {
    "duration": 932,
    "start_time": "2023-03-25T17:41:21.677Z"
   },
   {
    "duration": 7,
    "start_time": "2023-03-25T17:41:22.611Z"
   },
   {
    "duration": 47,
    "start_time": "2023-03-25T17:41:22.620Z"
   },
   {
    "duration": 17950,
    "start_time": "2023-03-25T17:41:22.670Z"
   },
   {
    "duration": 4,
    "start_time": "2023-03-25T17:41:40.622Z"
   },
   {
    "duration": 52519,
    "start_time": "2023-03-25T17:41:40.718Z"
   },
   {
    "duration": 4831,
    "start_time": "2023-03-25T17:42:33.239Z"
   },
   {
    "duration": 3,
    "start_time": "2023-03-25T17:42:38.072Z"
   },
   {
    "duration": 983983,
    "start_time": "2023-03-25T17:42:38.077Z"
   },
   {
    "duration": 128769,
    "start_time": "2023-03-25T17:59:02.062Z"
   },
   {
    "duration": 3,
    "start_time": "2023-03-25T18:01:10.833Z"
   },
   {
    "duration": 7295,
    "start_time": "2023-03-25T18:01:10.837Z"
   },
   {
    "duration": 4,
    "start_time": "2023-03-25T18:01:18.133Z"
   },
   {
    "duration": 14,
    "start_time": "2023-03-25T18:01:18.139Z"
   },
   {
    "duration": 196,
    "start_time": "2023-03-25T18:01:18.155Z"
   },
   {
    "duration": 77,
    "start_time": "2023-03-25T18:16:23.979Z"
   },
   {
    "duration": 1616,
    "start_time": "2023-04-04T12:38:58.196Z"
   },
   {
    "duration": 1102,
    "start_time": "2023-04-04T12:39:00.358Z"
   },
   {
    "duration": 17,
    "start_time": "2023-04-04T12:39:01.728Z"
   },
   {
    "duration": 125,
    "start_time": "2023-04-04T12:39:03.108Z"
   },
   {
    "duration": 130,
    "start_time": "2023-04-04T12:39:03.692Z"
   },
   {
    "duration": 270,
    "start_time": "2023-04-04T12:39:04.256Z"
   },
   {
    "duration": 119,
    "start_time": "2023-04-04T12:39:04.910Z"
   },
   {
    "duration": 96,
    "start_time": "2023-04-04T12:39:07.394Z"
   },
   {
    "duration": 109,
    "start_time": "2023-04-04T12:40:36.001Z"
   },
   {
    "duration": 1002,
    "start_time": "2023-04-04T12:40:37.591Z"
   },
   {
    "duration": 387,
    "start_time": "2023-04-04T12:40:43.463Z"
   },
   {
    "duration": 473,
    "start_time": "2023-04-04T12:40:44.292Z"
   },
   {
    "duration": 366,
    "start_time": "2023-04-04T12:40:45.995Z"
   },
   {
    "duration": 267,
    "start_time": "2023-04-04T12:41:10.704Z"
   },
   {
    "duration": 478,
    "start_time": "2023-04-04T12:41:13.062Z"
   },
   {
    "duration": 121,
    "start_time": "2023-04-04T12:45:04.536Z"
   },
   {
    "duration": 34238,
    "start_time": "2023-04-04T12:45:06.001Z"
   },
   {
    "duration": 73,
    "start_time": "2023-04-04T12:45:47.666Z"
   },
   {
    "duration": 105,
    "start_time": "2023-04-04T12:45:51.190Z"
   },
   {
    "duration": 101,
    "start_time": "2023-04-04T12:46:44.018Z"
   },
   {
    "duration": 75,
    "start_time": "2023-04-04T12:48:11.054Z"
   },
   {
    "duration": 229,
    "start_time": "2023-04-04T12:50:43.213Z"
   },
   {
    "duration": 9,
    "start_time": "2023-04-04T12:52:01.109Z"
   },
   {
    "duration": 264,
    "start_time": "2023-04-04T12:52:07.559Z"
   },
   {
    "duration": 223,
    "start_time": "2023-04-04T12:52:41.210Z"
   },
   {
    "duration": 13,
    "start_time": "2023-04-04T12:57:23.049Z"
   },
   {
    "duration": 585,
    "start_time": "2023-04-04T12:59:27.582Z"
   },
   {
    "duration": 854,
    "start_time": "2023-04-04T12:59:35.932Z"
   },
   {
    "duration": 17888,
    "start_time": "2023-04-04T13:01:24.201Z"
   },
   {
    "duration": 9,
    "start_time": "2023-04-04T13:02:19.284Z"
   },
   {
    "duration": 16807,
    "start_time": "2023-04-04T13:03:07.585Z"
   },
   {
    "duration": 100,
    "start_time": "2023-04-04T13:03:24.395Z"
   },
   {
    "duration": 16036,
    "start_time": "2023-04-04T13:04:36.262Z"
   },
   {
    "duration": 9,
    "start_time": "2023-04-04T13:05:02.748Z"
   },
   {
    "duration": 2,
    "start_time": "2023-04-04T13:05:30.200Z"
   },
   {
    "duration": 3,
    "start_time": "2023-04-04T13:05:32.712Z"
   },
   {
    "duration": 2,
    "start_time": "2023-04-04T13:05:36.275Z"
   },
   {
    "duration": 1394,
    "start_time": "2023-04-04T16:43:15.624Z"
   },
   {
    "duration": 933,
    "start_time": "2023-04-04T16:43:17.020Z"
   },
   {
    "duration": 15,
    "start_time": "2023-04-04T16:43:17.955Z"
   },
   {
    "duration": 110,
    "start_time": "2023-04-04T16:43:17.972Z"
   },
   {
    "duration": 108,
    "start_time": "2023-04-04T16:43:18.084Z"
   },
   {
    "duration": 255,
    "start_time": "2023-04-04T16:43:18.194Z"
   },
   {
    "duration": 97,
    "start_time": "2023-04-04T16:43:18.450Z"
   },
   {
    "duration": 87,
    "start_time": "2023-04-04T16:43:18.999Z"
   },
   {
    "duration": 105,
    "start_time": "2023-04-04T16:43:19.827Z"
   },
   {
    "duration": 920,
    "start_time": "2023-04-04T16:43:20.130Z"
   },
   {
    "duration": 352,
    "start_time": "2023-04-04T16:43:21.051Z"
   },
   {
    "duration": 445,
    "start_time": "2023-04-04T16:43:21.405Z"
   },
   {
    "duration": 349,
    "start_time": "2023-04-04T16:43:21.852Z"
   },
   {
    "duration": 245,
    "start_time": "2023-04-04T16:43:23.765Z"
   },
   {
    "duration": 436,
    "start_time": "2023-04-04T16:43:24.812Z"
   },
   {
    "duration": 109,
    "start_time": "2023-04-04T16:43:25.515Z"
   },
   {
    "duration": 32472,
    "start_time": "2023-04-04T16:43:25.909Z"
   },
   {
    "duration": 59,
    "start_time": "2023-04-04T16:43:58.382Z"
   },
   {
    "duration": 101,
    "start_time": "2023-04-04T16:43:58.442Z"
   },
   {
    "duration": 62,
    "start_time": "2023-04-04T16:43:58.544Z"
   },
   {
    "duration": 227,
    "start_time": "2023-04-04T16:43:58.607Z"
   },
   {
    "duration": 251,
    "start_time": "2023-04-04T16:43:58.836Z"
   },
   {
    "duration": 239,
    "start_time": "2023-04-04T16:43:59.089Z"
   },
   {
    "duration": 554,
    "start_time": "2023-04-04T16:44:14.203Z"
   },
   {
    "duration": 871,
    "start_time": "2023-04-04T16:44:19.579Z"
   },
   {
    "duration": 2,
    "start_time": "2023-04-04T16:44:23.689Z"
   },
   {
    "duration": 2,
    "start_time": "2023-04-04T16:44:24.842Z"
   },
   {
    "duration": 14883,
    "start_time": "2023-04-04T16:49:26.295Z"
   },
   {
    "duration": 200,
    "start_time": "2023-04-04T16:51:30.769Z"
   },
   {
    "duration": 53,
    "start_time": "2023-04-04T16:54:13.857Z"
   },
   {
    "duration": 63,
    "start_time": "2023-04-04T16:55:16.095Z"
   },
   {
    "duration": 52,
    "start_time": "2023-04-04T16:55:59.759Z"
   },
   {
    "duration": 15388,
    "start_time": "2023-04-04T16:57:26.388Z"
   },
   {
    "duration": 14524,
    "start_time": "2023-04-04T16:57:48.474Z"
   },
   {
    "duration": 15168,
    "start_time": "2023-04-04T16:58:19.132Z"
   },
   {
    "duration": 14044,
    "start_time": "2023-04-04T17:03:04.629Z"
   },
   {
    "duration": 2,
    "start_time": "2023-04-04T17:06:33.497Z"
   },
   {
    "duration": 10,
    "start_time": "2023-04-04T17:06:34.885Z"
   },
   {
    "duration": 3,
    "start_time": "2023-04-04T17:08:06.197Z"
   },
   {
    "duration": 3,
    "start_time": "2023-04-04T17:08:07.697Z"
   },
   {
    "duration": 18,
    "start_time": "2023-04-04T17:08:09.043Z"
   },
   {
    "duration": 762,
    "start_time": "2023-04-04T17:13:32.312Z"
   },
   {
    "duration": 3,
    "start_time": "2023-04-04T17:14:24.133Z"
   },
   {
    "duration": 5937,
    "start_time": "2023-04-04T17:15:11.943Z"
   },
   {
    "duration": 675,
    "start_time": "2023-04-04T17:15:48.095Z"
   },
   {
    "duration": 73,
    "start_time": "2023-04-04T17:33:27.025Z"
   },
   {
    "duration": 60,
    "start_time": "2023-04-04T17:34:12.234Z"
   },
   {
    "duration": 4383,
    "start_time": "2023-04-04T17:34:27.939Z"
   },
   {
    "duration": 117,
    "start_time": "2023-04-04T17:34:40.877Z"
   },
   {
    "duration": 114284,
    "start_time": "2023-04-04T17:34:56.090Z"
   },
   {
    "duration": 464,
    "start_time": "2023-04-04T17:37:08.244Z"
   },
   {
    "duration": 640,
    "start_time": "2023-04-04T17:37:11.846Z"
   },
   {
    "duration": 1878,
    "start_time": "2023-04-05T11:34:45.499Z"
   },
   {
    "duration": 1134,
    "start_time": "2023-04-05T11:34:47.379Z"
   },
   {
    "duration": 18,
    "start_time": "2023-04-05T11:34:48.515Z"
   },
   {
    "duration": 141,
    "start_time": "2023-04-05T11:34:48.534Z"
   },
   {
    "duration": 115,
    "start_time": "2023-04-05T11:34:48.677Z"
   },
   {
    "duration": 319,
    "start_time": "2023-04-05T11:34:48.794Z"
   },
   {
    "duration": 116,
    "start_time": "2023-04-05T11:34:49.114Z"
   },
   {
    "duration": 110,
    "start_time": "2023-04-05T11:34:49.232Z"
   },
   {
    "duration": 127,
    "start_time": "2023-04-05T11:34:49.344Z"
   },
   {
    "duration": 1181,
    "start_time": "2023-04-05T11:34:49.473Z"
   },
   {
    "duration": 472,
    "start_time": "2023-04-05T11:34:50.656Z"
   },
   {
    "duration": 561,
    "start_time": "2023-04-05T11:34:51.131Z"
   },
   {
    "duration": 435,
    "start_time": "2023-04-05T11:34:51.694Z"
   },
   {
    "duration": 250,
    "start_time": "2023-04-05T11:34:52.132Z"
   },
   {
    "duration": 606,
    "start_time": "2023-04-05T11:34:52.384Z"
   },
   {
    "duration": 154,
    "start_time": "2023-04-05T11:34:52.992Z"
   },
   {
    "duration": 38786,
    "start_time": "2023-04-05T11:34:53.148Z"
   },
   {
    "duration": 71,
    "start_time": "2023-04-05T11:35:31.935Z"
   },
   {
    "duration": 146,
    "start_time": "2023-04-05T11:35:32.007Z"
   },
   {
    "duration": 78,
    "start_time": "2023-04-05T11:35:32.154Z"
   },
   {
    "duration": 324,
    "start_time": "2023-04-05T11:35:32.233Z"
   },
   {
    "duration": 343,
    "start_time": "2023-04-05T11:35:32.559Z"
   },
   {
    "duration": 273,
    "start_time": "2023-04-05T11:35:32.904Z"
   },
   {
    "duration": 883,
    "start_time": "2023-04-05T11:35:33.179Z"
   },
   {
    "duration": 896,
    "start_time": "2023-04-05T11:35:34.064Z"
   },
   {
    "duration": 3,
    "start_time": "2023-04-05T11:35:34.962Z"
   },
   {
    "duration": 18058,
    "start_time": "2023-04-05T11:35:34.966Z"
   },
   {
    "duration": 20699,
    "start_time": "2023-04-05T11:35:53.026Z"
   },
   {
    "duration": 52438,
    "start_time": "2023-04-05T11:36:13.729Z"
   },
   {
    "duration": 4819,
    "start_time": "2023-04-05T11:37:06.168Z"
   },
   {
    "duration": 972088,
    "start_time": "2023-04-05T11:37:10.988Z"
   },
   {
    "duration": 126228,
    "start_time": "2023-04-05T11:53:23.077Z"
   },
   {
    "duration": 3,
    "start_time": "2023-04-05T11:55:29.307Z"
   },
   {
    "duration": 8824,
    "start_time": "2023-04-05T11:55:29.312Z"
   },
   {
    "duration": 900,
    "start_time": "2023-04-05T11:55:38.138Z"
   },
   {
    "duration": 193,
    "start_time": "2023-04-05T11:55:39.040Z"
   },
   {
    "duration": 218,
    "start_time": "2023-04-05T11:55:39.235Z"
   },
   {
    "duration": 588,
    "start_time": "2023-04-05T11:55:39.455Z"
   },
   {
    "duration": 804,
    "start_time": "2023-04-05T11:55:40.044Z"
   },
   {
    "duration": 1860,
    "start_time": "2023-04-07T06:03:06.754Z"
   },
   {
    "duration": 2990,
    "start_time": "2023-04-07T06:03:08.616Z"
   },
   {
    "duration": 20,
    "start_time": "2023-04-07T06:03:11.608Z"
   },
   {
    "duration": 140,
    "start_time": "2023-04-07T06:03:11.630Z"
   },
   {
    "duration": 149,
    "start_time": "2023-04-07T06:03:11.773Z"
   },
   {
    "duration": 316,
    "start_time": "2023-04-07T06:03:11.925Z"
   },
   {
    "duration": 137,
    "start_time": "2023-04-07T06:03:12.243Z"
   },
   {
    "duration": 105,
    "start_time": "2023-04-07T06:03:12.386Z"
   },
   {
    "duration": 143,
    "start_time": "2023-04-07T06:03:12.492Z"
   },
   {
    "duration": 1198,
    "start_time": "2023-04-07T06:03:12.637Z"
   },
   {
    "duration": 460,
    "start_time": "2023-04-07T06:03:13.837Z"
   },
   {
    "duration": 567,
    "start_time": "2023-04-07T06:03:14.302Z"
   },
   {
    "duration": 440,
    "start_time": "2023-04-07T06:03:14.871Z"
   },
   {
    "duration": 293,
    "start_time": "2023-04-07T06:03:15.314Z"
   },
   {
    "duration": 552,
    "start_time": "2023-04-07T06:03:15.608Z"
   },
   {
    "duration": 155,
    "start_time": "2023-04-07T06:03:16.161Z"
   },
   {
    "duration": 40496,
    "start_time": "2023-04-07T06:03:16.318Z"
   },
   {
    "duration": 81,
    "start_time": "2023-04-07T06:03:56.815Z"
   },
   {
    "duration": 120,
    "start_time": "2023-04-07T06:03:56.898Z"
   },
   {
    "duration": 95,
    "start_time": "2023-04-07T06:03:57.019Z"
   },
   {
    "duration": 296,
    "start_time": "2023-04-07T06:03:57.116Z"
   },
   {
    "duration": 306,
    "start_time": "2023-04-07T06:03:57.414Z"
   },
   {
    "duration": 285,
    "start_time": "2023-04-07T06:03:57.722Z"
   },
   {
    "duration": 716,
    "start_time": "2023-04-07T06:03:58.009Z"
   },
   {
    "duration": 1006,
    "start_time": "2023-04-07T06:03:58.726Z"
   },
   {
    "duration": 3,
    "start_time": "2023-04-07T06:03:59.734Z"
   },
   {
    "duration": 15,
    "start_time": "2023-04-07T06:03:59.739Z"
   },
   {
    "duration": 38745,
    "start_time": "2023-04-07T06:03:59.756Z"
   },
   {
    "duration": 195,
    "start_time": "2023-04-07T06:04:38.507Z"
   },
   {
    "duration": 6,
    "start_time": "2023-04-07T06:04:38.705Z"
   },
   {
    "duration": 55282,
    "start_time": "2023-04-07T06:04:38.790Z"
   },
   {
    "duration": 5526,
    "start_time": "2023-04-07T06:05:34.074Z"
   },
   {
    "duration": 2,
    "start_time": "2023-04-07T06:05:39.602Z"
   },
   {
    "duration": 659801,
    "start_time": "2023-04-07T06:05:39.606Z"
   },
   {
    "duration": 3630,
    "start_time": "2023-04-07T06:16:39.408Z"
   },
   {
    "duration": 2,
    "start_time": "2023-04-07T06:16:43.040Z"
   },
   {
    "duration": 983,
    "start_time": "2023-04-07T06:16:43.044Z"
   },
   {
    "duration": 656,
    "start_time": "2023-04-07T06:16:44.029Z"
   },
   {
    "duration": 47077,
    "start_time": "2023-04-07T06:16:44.690Z"
   },
   {
    "duration": 162,
    "start_time": "2023-04-07T06:17:31.770Z"
   },
   {
    "duration": 3,
    "start_time": "2023-04-07T06:17:31.936Z"
   },
   {
    "duration": 31,
    "start_time": "2023-04-07T06:17:31.941Z"
   },
   {
    "duration": 7383,
    "start_time": "2023-04-07T06:17:31.974Z"
   },
   {
    "duration": 1627,
    "start_time": "2023-04-07T08:24:28.799Z"
   },
   {
    "duration": 1169,
    "start_time": "2023-04-07T08:24:30.428Z"
   },
   {
    "duration": 15,
    "start_time": "2023-04-07T08:24:31.599Z"
   },
   {
    "duration": 145,
    "start_time": "2023-04-07T08:24:31.615Z"
   },
   {
    "duration": 93,
    "start_time": "2023-04-07T08:24:31.761Z"
   },
   {
    "duration": 269,
    "start_time": "2023-04-07T08:24:31.872Z"
   },
   {
    "duration": 107,
    "start_time": "2023-04-07T08:24:32.143Z"
   },
   {
    "duration": 88,
    "start_time": "2023-04-07T08:24:32.341Z"
   },
   {
    "duration": 129,
    "start_time": "2023-04-07T08:24:33.193Z"
   },
   {
    "duration": 975,
    "start_time": "2023-04-07T08:24:33.505Z"
   },
   {
    "duration": 362,
    "start_time": "2023-04-07T08:24:34.481Z"
   },
   {
    "duration": 477,
    "start_time": "2023-04-07T08:24:34.844Z"
   },
   {
    "duration": 337,
    "start_time": "2023-04-07T08:24:35.323Z"
   },
   {
    "duration": 248,
    "start_time": "2023-04-07T08:24:35.662Z"
   },
   {
    "duration": 483,
    "start_time": "2023-04-07T08:24:35.971Z"
   },
   {
    "duration": 125,
    "start_time": "2023-04-07T08:24:36.508Z"
   },
   {
    "duration": 37279,
    "start_time": "2023-04-07T08:24:36.768Z"
   },
   {
    "duration": 68,
    "start_time": "2023-04-07T08:25:14.049Z"
   },
   {
    "duration": 116,
    "start_time": "2023-04-07T08:25:14.119Z"
   },
   {
    "duration": 84,
    "start_time": "2023-04-07T08:25:14.238Z"
   },
   {
    "duration": 259,
    "start_time": "2023-04-07T08:25:14.324Z"
   },
   {
    "duration": 265,
    "start_time": "2023-04-07T08:25:14.587Z"
   },
   {
    "duration": 248,
    "start_time": "2023-04-07T08:25:14.854Z"
   },
   {
    "duration": 628,
    "start_time": "2023-04-07T08:25:15.104Z"
   },
   {
    "duration": 902,
    "start_time": "2023-04-07T08:25:15.734Z"
   },
   {
    "duration": 3,
    "start_time": "2023-04-07T08:25:16.639Z"
   },
   {
    "duration": 18,
    "start_time": "2023-04-07T08:25:16.644Z"
   },
   {
    "duration": 52121,
    "start_time": "2023-04-07T08:25:16.664Z"
   },
   {
    "duration": 197,
    "start_time": "2023-04-07T08:26:08.786Z"
   },
   {
    "duration": 12,
    "start_time": "2023-04-07T08:26:08.989Z"
   },
   {
    "duration": 52028,
    "start_time": "2023-04-07T08:26:09.071Z"
   },
   {
    "duration": 5271,
    "start_time": "2023-04-07T08:27:01.101Z"
   },
   {
    "duration": 11,
    "start_time": "2023-04-07T08:27:06.376Z"
   },
   {
    "duration": 945546,
    "start_time": "2023-04-07T08:27:06.388Z"
   },
   {
    "duration": 120499,
    "start_time": "2023-04-07T08:43:50.990Z"
   },
   {
    "duration": 3,
    "start_time": "2023-04-07T08:45:51.491Z"
   },
   {
    "duration": 1674,
    "start_time": "2023-04-08T09:26:09.702Z"
   },
   {
    "duration": 1241,
    "start_time": "2023-04-08T09:26:11.378Z"
   },
   {
    "duration": 27,
    "start_time": "2023-04-08T09:26:12.621Z"
   },
   {
    "duration": 169,
    "start_time": "2023-04-08T09:26:12.651Z"
   },
   {
    "duration": 121,
    "start_time": "2023-04-08T09:26:12.823Z"
   },
   {
    "duration": 347,
    "start_time": "2023-04-08T09:26:12.946Z"
   },
   {
    "duration": 135,
    "start_time": "2023-04-08T09:26:13.295Z"
   },
   {
    "duration": 131,
    "start_time": "2023-04-08T09:26:13.433Z"
   },
   {
    "duration": 126,
    "start_time": "2023-04-08T09:26:13.566Z"
   },
   {
    "duration": 1082,
    "start_time": "2023-04-08T09:26:13.704Z"
   },
   {
    "duration": 494,
    "start_time": "2023-04-08T09:26:14.789Z"
   },
   {
    "duration": 664,
    "start_time": "2023-04-08T09:26:15.285Z"
   },
   {
    "duration": 527,
    "start_time": "2023-04-08T09:26:15.952Z"
   },
   {
    "duration": 65,
    "start_time": "2023-04-08T09:26:16.481Z"
   },
   {
    "duration": 490,
    "start_time": "2023-04-08T09:26:16.548Z"
   },
   {
    "duration": 314,
    "start_time": "2023-04-08T09:26:17.140Z"
   },
   {
    "duration": 34,
    "start_time": "2023-04-08T09:26:18.307Z"
   },
   {
    "duration": 504,
    "start_time": "2023-04-08T09:26:22.395Z"
   },
   {
    "duration": 144,
    "start_time": "2023-04-08T09:26:23.838Z"
   },
   {
    "duration": 39378,
    "start_time": "2023-04-08T09:26:29.115Z"
   },
   {
    "duration": 90,
    "start_time": "2023-04-08T09:27:08.495Z"
   },
   {
    "duration": 71,
    "start_time": "2023-04-08T09:27:08.587Z"
   },
   {
    "duration": 306,
    "start_time": "2023-04-08T09:27:08.661Z"
   },
   {
    "duration": 318,
    "start_time": "2023-04-08T09:27:08.969Z"
   },
   {
    "duration": 267,
    "start_time": "2023-04-08T09:27:09.289Z"
   },
   {
    "duration": 1070,
    "start_time": "2023-04-08T09:27:09.558Z"
   },
   {
    "duration": 960,
    "start_time": "2023-04-08T09:27:10.630Z"
   },
   {
    "duration": 4,
    "start_time": "2023-04-08T09:27:11.592Z"
   },
   {
    "duration": 7,
    "start_time": "2023-04-08T09:27:11.598Z"
   },
   {
    "duration": 1777,
    "start_time": "2023-04-08T09:30:47.202Z"
   },
   {
    "duration": 1009,
    "start_time": "2023-04-08T09:30:48.981Z"
   },
   {
    "duration": 19,
    "start_time": "2023-04-08T09:30:49.992Z"
   },
   {
    "duration": 154,
    "start_time": "2023-04-08T09:30:50.015Z"
   },
   {
    "duration": 131,
    "start_time": "2023-04-08T09:30:50.171Z"
   },
   {
    "duration": 388,
    "start_time": "2023-04-08T09:30:50.304Z"
   },
   {
    "duration": 201,
    "start_time": "2023-04-08T09:30:50.695Z"
   },
   {
    "duration": 134,
    "start_time": "2023-04-08T09:30:50.898Z"
   },
   {
    "duration": 153,
    "start_time": "2023-04-08T09:30:51.035Z"
   },
   {
    "duration": 1221,
    "start_time": "2023-04-08T09:30:51.190Z"
   },
   {
    "duration": 508,
    "start_time": "2023-04-08T09:30:52.413Z"
   },
   {
    "duration": 650,
    "start_time": "2023-04-08T09:30:52.923Z"
   },
   {
    "duration": 493,
    "start_time": "2023-04-08T09:30:53.575Z"
   },
   {
    "duration": 73,
    "start_time": "2023-04-08T09:30:54.071Z"
   },
   {
    "duration": 518,
    "start_time": "2023-04-08T09:30:54.146Z"
   },
   {
    "duration": 321,
    "start_time": "2023-04-08T09:30:54.666Z"
   },
   {
    "duration": 32,
    "start_time": "2023-04-08T09:30:54.988Z"
   },
   {
    "duration": 562,
    "start_time": "2023-04-08T09:30:55.023Z"
   },
   {
    "duration": 155,
    "start_time": "2023-04-08T09:30:55.588Z"
   },
   {
    "duration": 40574,
    "start_time": "2023-04-08T09:30:55.745Z"
   },
   {
    "duration": 96,
    "start_time": "2023-04-08T09:31:36.323Z"
   },
   {
    "duration": 82,
    "start_time": "2023-04-08T09:31:36.421Z"
   },
   {
    "duration": 340,
    "start_time": "2023-04-08T09:31:36.505Z"
   },
   {
    "duration": 327,
    "start_time": "2023-04-08T09:31:36.847Z"
   },
   {
    "duration": 312,
    "start_time": "2023-04-08T09:31:37.176Z"
   },
   {
    "duration": 1085,
    "start_time": "2023-04-08T09:31:37.491Z"
   },
   {
    "duration": 999,
    "start_time": "2023-04-08T09:31:38.578Z"
   },
   {
    "duration": 3,
    "start_time": "2023-04-08T09:31:39.580Z"
   },
   {
    "duration": 11,
    "start_time": "2023-04-08T09:31:39.586Z"
   },
   {
    "duration": 4,
    "start_time": "2023-04-08T09:33:35.843Z"
   },
   {
    "duration": 151,
    "start_time": "2023-04-08T09:33:37.167Z"
   },
   {
    "duration": 4,
    "start_time": "2023-04-08T09:35:24.470Z"
   },
   {
    "duration": 22,
    "start_time": "2023-04-08T09:35:26.199Z"
   },
   {
    "duration": 10700,
    "start_time": "2023-04-08T09:39:51.634Z"
   },
   {
    "duration": 6,
    "start_time": "2023-04-08T09:40:10.015Z"
   },
   {
    "duration": 6,
    "start_time": "2023-04-08T10:07:53.235Z"
   },
   {
    "duration": 16,
    "start_time": "2023-04-08T10:08:12.933Z"
   },
   {
    "duration": 15,
    "start_time": "2023-04-08T10:10:31.697Z"
   },
   {
    "duration": 15,
    "start_time": "2023-04-08T10:16:28.133Z"
   },
   {
    "duration": 88,
    "start_time": "2023-04-08T10:18:36.140Z"
   },
   {
    "duration": 17,
    "start_time": "2023-04-08T10:18:43.037Z"
   },
   {
    "duration": 26,
    "start_time": "2023-04-08T10:19:48.520Z"
   },
   {
    "duration": 18,
    "start_time": "2023-04-08T10:25:08.727Z"
   },
   {
    "duration": 265,
    "start_time": "2023-04-08T10:25:09.978Z"
   },
   {
    "duration": 122,
    "start_time": "2023-04-08T10:25:13.848Z"
   },
   {
    "duration": 1898,
    "start_time": "2023-04-08T10:26:17.791Z"
   },
   {
    "duration": 1288,
    "start_time": "2023-04-08T10:26:19.691Z"
   },
   {
    "duration": 26,
    "start_time": "2023-04-08T10:26:20.981Z"
   },
   {
    "duration": 224,
    "start_time": "2023-04-08T10:26:21.009Z"
   },
   {
    "duration": 194,
    "start_time": "2023-04-08T10:26:21.235Z"
   },
   {
    "duration": 441,
    "start_time": "2023-04-08T10:26:21.431Z"
   },
   {
    "duration": 204,
    "start_time": "2023-04-08T10:26:21.875Z"
   },
   {
    "duration": 144,
    "start_time": "2023-04-08T10:26:22.085Z"
   },
   {
    "duration": 163,
    "start_time": "2023-04-08T10:26:22.242Z"
   },
   {
    "duration": 1398,
    "start_time": "2023-04-08T10:26:22.408Z"
   },
   {
    "duration": 600,
    "start_time": "2023-04-08T10:26:23.808Z"
   },
   {
    "duration": 763,
    "start_time": "2023-04-08T10:26:24.410Z"
   },
   {
    "duration": 637,
    "start_time": "2023-04-08T10:26:25.175Z"
   },
   {
    "duration": 115,
    "start_time": "2023-04-08T10:26:25.814Z"
   },
   {
    "duration": 855,
    "start_time": "2023-04-08T10:26:25.931Z"
   },
   {
    "duration": 429,
    "start_time": "2023-04-08T10:26:26.789Z"
   },
   {
    "duration": 49,
    "start_time": "2023-04-08T10:26:27.221Z"
   },
   {
    "duration": 659,
    "start_time": "2023-04-08T10:26:27.279Z"
   },
   {
    "duration": 203,
    "start_time": "2023-04-08T10:26:27.941Z"
   },
   {
    "duration": 43803,
    "start_time": "2023-04-08T10:26:28.150Z"
   },
   {
    "duration": 99,
    "start_time": "2023-04-08T10:27:11.956Z"
   },
   {
    "duration": 109,
    "start_time": "2023-04-08T10:27:12.058Z"
   },
   {
    "duration": 323,
    "start_time": "2023-04-08T10:27:12.169Z"
   },
   {
    "duration": 330,
    "start_time": "2023-04-08T10:27:12.495Z"
   },
   {
    "duration": 328,
    "start_time": "2023-04-08T10:27:12.828Z"
   },
   {
    "duration": 1112,
    "start_time": "2023-04-08T10:27:13.160Z"
   },
   {
    "duration": 5,
    "start_time": "2023-04-08T10:27:14.274Z"
   },
   {
    "duration": 17,
    "start_time": "2023-04-08T10:27:16.928Z"
   },
   {
    "duration": 278,
    "start_time": "2023-04-08T10:27:18.454Z"
   },
   {
    "duration": 121,
    "start_time": "2023-04-08T10:27:19.993Z"
   },
   {
    "duration": 376,
    "start_time": "2023-04-08T10:27:58.701Z"
   },
   {
    "duration": 1018,
    "start_time": "2023-04-08T10:36:05.564Z"
   },
   {
    "duration": 1652,
    "start_time": "2023-04-08T10:42:57.429Z"
   },
   {
    "duration": 931,
    "start_time": "2023-04-08T10:42:59.083Z"
   },
   {
    "duration": 27,
    "start_time": "2023-04-08T10:43:00.016Z"
   },
   {
    "duration": 127,
    "start_time": "2023-04-08T10:43:00.045Z"
   },
   {
    "duration": 173,
    "start_time": "2023-04-08T10:43:00.174Z"
   },
   {
    "duration": 325,
    "start_time": "2023-04-08T10:43:00.350Z"
   },
   {
    "duration": 115,
    "start_time": "2023-04-08T10:43:00.677Z"
   },
   {
    "duration": 136,
    "start_time": "2023-04-08T10:43:00.795Z"
   },
   {
    "duration": 134,
    "start_time": "2023-04-08T10:43:00.934Z"
   },
   {
    "duration": 1160,
    "start_time": "2023-04-08T10:43:01.071Z"
   },
   {
    "duration": 468,
    "start_time": "2023-04-08T10:43:02.234Z"
   },
   {
    "duration": 604,
    "start_time": "2023-04-08T10:43:02.704Z"
   },
   {
    "duration": 509,
    "start_time": "2023-04-08T10:43:03.310Z"
   },
   {
    "duration": 74,
    "start_time": "2023-04-08T10:43:03.821Z"
   },
   {
    "duration": 502,
    "start_time": "2023-04-08T10:43:03.897Z"
   },
   {
    "duration": 329,
    "start_time": "2023-04-08T10:43:04.401Z"
   },
   {
    "duration": 34,
    "start_time": "2023-04-08T10:43:04.732Z"
   },
   {
    "duration": 539,
    "start_time": "2023-04-08T10:43:04.768Z"
   },
   {
    "duration": 165,
    "start_time": "2023-04-08T10:43:05.309Z"
   },
   {
    "duration": 42738,
    "start_time": "2023-04-08T10:43:05.477Z"
   },
   {
    "duration": 90,
    "start_time": "2023-04-08T10:43:48.217Z"
   },
   {
    "duration": 85,
    "start_time": "2023-04-08T10:43:48.309Z"
   },
   {
    "duration": 353,
    "start_time": "2023-04-08T10:43:48.396Z"
   },
   {
    "duration": 378,
    "start_time": "2023-04-08T10:43:48.751Z"
   },
   {
    "duration": 305,
    "start_time": "2023-04-08T10:43:49.132Z"
   },
   {
    "duration": 1229,
    "start_time": "2023-04-08T10:43:49.441Z"
   },
   {
    "duration": 107,
    "start_time": "2023-04-08T10:44:05.357Z"
   },
   {
    "duration": 5,
    "start_time": "2023-04-08T10:44:07.290Z"
   },
   {
    "duration": 1900,
    "start_time": "2023-04-08T10:44:37.909Z"
   },
   {
    "duration": 145,
    "start_time": "2023-04-08T10:45:44.586Z"
   },
   {
    "duration": 9,
    "start_time": "2023-04-08T10:46:05.657Z"
   },
   {
    "duration": 6,
    "start_time": "2023-04-08T10:46:47.171Z"
   },
   {
    "duration": 46,
    "start_time": "2023-04-08T10:49:47.824Z"
   },
   {
    "duration": 13,
    "start_time": "2023-04-08T10:52:53.364Z"
   },
   {
    "duration": 9,
    "start_time": "2023-04-08T10:53:17.446Z"
   },
   {
    "duration": 68,
    "start_time": "2023-04-08T10:54:19.979Z"
   },
   {
    "duration": 20,
    "start_time": "2023-04-08T11:01:25.808Z"
   },
   {
    "duration": 73,
    "start_time": "2023-04-08T11:01:35.066Z"
   },
   {
    "duration": 12,
    "start_time": "2023-04-08T11:04:20.485Z"
   },
   {
    "duration": 1491,
    "start_time": "2023-04-08T11:08:12.960Z"
   },
   {
    "duration": 683,
    "start_time": "2023-04-08T11:08:31.607Z"
   },
   {
    "duration": 1193,
    "start_time": "2023-04-08T11:08:55.914Z"
   },
   {
    "duration": 1126,
    "start_time": "2023-04-08T11:09:46.542Z"
   },
   {
    "duration": 6,
    "start_time": "2023-04-08T11:24:23.669Z"
   },
   {
    "duration": 988,
    "start_time": "2023-04-08T11:24:25.269Z"
   },
   {
    "duration": 1707,
    "start_time": "2023-04-08T11:24:41.490Z"
   },
   {
    "duration": 971,
    "start_time": "2023-04-08T11:24:43.200Z"
   },
   {
    "duration": 18,
    "start_time": "2023-04-08T11:24:44.173Z"
   },
   {
    "duration": 151,
    "start_time": "2023-04-08T11:24:44.193Z"
   },
   {
    "duration": 120,
    "start_time": "2023-04-08T11:24:44.355Z"
   },
   {
    "duration": 314,
    "start_time": "2023-04-08T11:24:44.477Z"
   },
   {
    "duration": 124,
    "start_time": "2023-04-08T11:24:44.853Z"
   },
   {
    "duration": 115,
    "start_time": "2023-04-08T11:24:45.569Z"
   },
   {
    "duration": 132,
    "start_time": "2023-04-08T11:24:46.475Z"
   },
   {
    "duration": 1320,
    "start_time": "2023-04-08T11:24:46.750Z"
   },
   {
    "duration": 523,
    "start_time": "2023-04-08T11:24:48.075Z"
   },
   {
    "duration": 667,
    "start_time": "2023-04-08T11:24:48.600Z"
   },
   {
    "duration": 482,
    "start_time": "2023-04-08T11:24:49.270Z"
   },
   {
    "duration": 73,
    "start_time": "2023-04-08T11:24:49.755Z"
   },
   {
    "duration": 594,
    "start_time": "2023-04-08T11:24:49.831Z"
   },
   {
    "duration": 365,
    "start_time": "2023-04-08T11:24:50.428Z"
   },
   {
    "duration": 36,
    "start_time": "2023-04-08T11:24:50.795Z"
   },
   {
    "duration": 598,
    "start_time": "2023-04-08T11:24:51.365Z"
   },
   {
    "duration": 152,
    "start_time": "2023-04-08T11:24:51.985Z"
   },
   {
    "duration": 42419,
    "start_time": "2023-04-08T11:24:52.280Z"
   },
   {
    "duration": 87,
    "start_time": "2023-04-08T11:25:34.701Z"
   },
   {
    "duration": 83,
    "start_time": "2023-04-08T11:25:34.790Z"
   },
   {
    "duration": 304,
    "start_time": "2023-04-08T11:25:34.876Z"
   },
   {
    "duration": 333,
    "start_time": "2023-04-08T11:25:35.183Z"
   },
   {
    "duration": 335,
    "start_time": "2023-04-08T11:25:35.517Z"
   },
   {
    "duration": 1091,
    "start_time": "2023-04-08T11:25:35.856Z"
   },
   {
    "duration": 1048,
    "start_time": "2023-04-08T11:25:36.952Z"
   },
   {
    "duration": 3,
    "start_time": "2023-04-08T11:25:38.002Z"
   },
   {
    "duration": 5,
    "start_time": "2023-04-08T11:25:38.008Z"
   },
   {
    "duration": 4,
    "start_time": "2023-04-08T11:28:48.762Z"
   },
   {
    "duration": 4,
    "start_time": "2023-04-08T11:28:50.594Z"
   },
   {
    "duration": 148,
    "start_time": "2023-04-08T11:28:52.373Z"
   },
   {
    "duration": 11,
    "start_time": "2023-04-08T11:34:55.939Z"
   },
   {
    "duration": 405517,
    "start_time": "2023-04-08T11:35:00.363Z"
   },
   {
    "duration": 3,
    "start_time": "2023-04-08T11:42:00.573Z"
   },
   {
    "duration": 147,
    "start_time": "2023-04-08T11:42:02.147Z"
   },
   {
    "duration": 546569,
    "start_time": "2023-04-08T11:42:24.195Z"
   },
   {
    "duration": 1713,
    "start_time": "2023-04-08T13:07:05.046Z"
   },
   {
    "duration": 920,
    "start_time": "2023-04-08T13:07:06.761Z"
   },
   {
    "duration": 22,
    "start_time": "2023-04-08T13:07:07.684Z"
   },
   {
    "duration": 239,
    "start_time": "2023-04-08T13:07:07.710Z"
   },
   {
    "duration": 176,
    "start_time": "2023-04-08T13:07:07.951Z"
   },
   {
    "duration": 335,
    "start_time": "2023-04-08T13:07:08.130Z"
   },
   {
    "duration": 126,
    "start_time": "2023-04-08T13:07:08.467Z"
   },
   {
    "duration": 189,
    "start_time": "2023-04-08T13:07:08.596Z"
   },
   {
    "duration": 149,
    "start_time": "2023-04-08T13:07:08.890Z"
   },
   {
    "duration": 1271,
    "start_time": "2023-04-08T13:07:09.080Z"
   },
   {
    "duration": 488,
    "start_time": "2023-04-08T13:07:10.353Z"
   },
   {
    "duration": 611,
    "start_time": "2023-04-08T13:07:10.843Z"
   },
   {
    "duration": 489,
    "start_time": "2023-04-08T13:07:11.457Z"
   },
   {
    "duration": 61,
    "start_time": "2023-04-08T13:07:11.948Z"
   },
   {
    "duration": 494,
    "start_time": "2023-04-08T13:07:12.011Z"
   },
   {
    "duration": 341,
    "start_time": "2023-04-08T13:07:12.507Z"
   },
   {
    "duration": 31,
    "start_time": "2023-04-08T13:07:12.851Z"
   },
   {
    "duration": 501,
    "start_time": "2023-04-08T13:07:12.884Z"
   },
   {
    "duration": 148,
    "start_time": "2023-04-08T13:07:13.387Z"
   },
   {
    "duration": 42548,
    "start_time": "2023-04-08T13:07:13.540Z"
   },
   {
    "duration": 102,
    "start_time": "2023-04-08T13:07:56.090Z"
   },
   {
    "duration": 83,
    "start_time": "2023-04-08T13:07:56.195Z"
   },
   {
    "duration": 315,
    "start_time": "2023-04-08T13:07:56.280Z"
   },
   {
    "duration": 347,
    "start_time": "2023-04-08T13:07:56.598Z"
   },
   {
    "duration": 310,
    "start_time": "2023-04-08T13:07:56.948Z"
   },
   {
    "duration": 1020,
    "start_time": "2023-04-08T13:07:57.260Z"
   },
   {
    "duration": 998,
    "start_time": "2023-04-08T13:07:58.283Z"
   },
   {
    "duration": 142,
    "start_time": "2023-04-08T13:08:21.293Z"
   },
   {
    "duration": 7,
    "start_time": "2023-04-08T13:10:38.388Z"
   },
   {
    "duration": 6,
    "start_time": "2023-04-08T13:10:51.268Z"
   },
   {
    "duration": 8,
    "start_time": "2023-04-08T13:10:55.153Z"
   },
   {
    "duration": 6,
    "start_time": "2023-04-08T13:10:58.251Z"
   },
   {
    "duration": 8,
    "start_time": "2023-04-08T13:11:00.661Z"
   },
   {
    "duration": 4,
    "start_time": "2023-04-08T13:11:06.923Z"
   },
   {
    "duration": 356547,
    "start_time": "2023-04-08T13:11:13.469Z"
   },
   {
    "duration": 62155,
    "start_time": "2023-04-08T13:17:36.260Z"
   },
   {
    "duration": 320251,
    "start_time": "2023-04-08T13:18:45.411Z"
   },
   {
    "duration": 3,
    "start_time": "2023-04-08T13:26:31.216Z"
   },
   {
    "duration": 3,
    "start_time": "2023-04-08T13:26:32.970Z"
   },
   {
    "duration": 4,
    "start_time": "2023-04-08T13:27:54.199Z"
   },
   {
    "duration": 647521,
    "start_time": "2023-04-08T13:27:59.975Z"
   },
   {
    "duration": 61,
    "start_time": "2023-04-08T13:39:01.965Z"
   },
   {
    "duration": 38,
    "start_time": "2023-04-08T13:39:37.010Z"
   },
   {
    "duration": 34,
    "start_time": "2023-04-08T13:41:27.668Z"
   },
   {
    "duration": 4,
    "start_time": "2023-04-08T13:43:28.327Z"
   },
   {
    "duration": 39,
    "start_time": "2023-04-08T13:43:32.163Z"
   },
   {
    "duration": 13,
    "start_time": "2023-04-08T13:44:51.250Z"
   },
   {
    "duration": 5,
    "start_time": "2023-04-08T13:45:15.247Z"
   },
   {
    "duration": 106,
    "start_time": "2023-04-08T13:45:16.762Z"
   },
   {
    "duration": 3,
    "start_time": "2023-04-08T13:46:32.214Z"
   },
   {
    "duration": 176,
    "start_time": "2023-04-08T13:46:33.313Z"
   },
   {
    "duration": 1541,
    "start_time": "2023-04-08T15:42:58.261Z"
   },
   {
    "duration": 1016,
    "start_time": "2023-04-08T15:42:59.920Z"
   },
   {
    "duration": 16,
    "start_time": "2023-04-08T15:43:01.951Z"
   },
   {
    "duration": 131,
    "start_time": "2023-04-08T15:43:02.522Z"
   },
   {
    "duration": 115,
    "start_time": "2023-04-08T15:43:02.824Z"
   },
   {
    "duration": 253,
    "start_time": "2023-04-08T15:43:03.118Z"
   },
   {
    "duration": 116,
    "start_time": "2023-04-08T15:43:03.372Z"
   },
   {
    "duration": 97,
    "start_time": "2023-04-08T15:43:03.963Z"
   },
   {
    "duration": 119,
    "start_time": "2023-04-08T15:43:04.800Z"
   },
   {
    "duration": 1074,
    "start_time": "2023-04-08T15:43:05.160Z"
   },
   {
    "duration": 419,
    "start_time": "2023-04-08T15:43:06.249Z"
   },
   {
    "duration": 494,
    "start_time": "2023-04-08T15:43:06.669Z"
   },
   {
    "duration": 413,
    "start_time": "2023-04-08T15:43:07.167Z"
   },
   {
    "duration": 88,
    "start_time": "2023-04-08T15:43:07.582Z"
   },
   {
    "duration": 400,
    "start_time": "2023-04-08T15:43:07.671Z"
   },
   {
    "duration": 293,
    "start_time": "2023-04-08T15:43:08.073Z"
   },
   {
    "duration": 24,
    "start_time": "2023-04-08T15:43:08.692Z"
   },
   {
    "duration": 445,
    "start_time": "2023-04-08T15:43:09.270Z"
   },
   {
    "duration": 138,
    "start_time": "2023-04-08T15:43:09.880Z"
   },
   {
    "duration": 35578,
    "start_time": "2023-04-08T15:43:10.250Z"
   },
   {
    "duration": 62,
    "start_time": "2023-04-08T15:43:45.830Z"
   },
   {
    "duration": 83,
    "start_time": "2023-04-08T15:43:45.894Z"
   },
   {
    "duration": 254,
    "start_time": "2023-04-08T15:43:45.979Z"
   },
   {
    "duration": 264,
    "start_time": "2023-04-08T15:43:46.236Z"
   },
   {
    "duration": 236,
    "start_time": "2023-04-08T15:43:46.501Z"
   },
   {
    "duration": 456,
    "start_time": "2023-04-08T15:43:46.767Z"
   },
   {
    "duration": 655,
    "start_time": "2023-04-08T15:43:47.225Z"
   },
   {
    "duration": 2,
    "start_time": "2023-04-08T15:43:47.881Z"
   },
   {
    "duration": 2,
    "start_time": "2023-04-08T15:43:47.885Z"
   },
   {
    "duration": 630,
    "start_time": "2023-04-08T15:45:02.033Z"
   },
   {
    "duration": 451,
    "start_time": "2023-04-08T15:45:04.679Z"
   },
   {
    "duration": 1340,
    "start_time": "2023-04-08T15:48:07.290Z"
   },
   {
    "duration": 746,
    "start_time": "2023-04-08T15:48:08.955Z"
   },
   {
    "duration": 15,
    "start_time": "2023-04-08T15:48:10.821Z"
   },
   {
    "duration": 134,
    "start_time": "2023-04-08T15:48:11.431Z"
   },
   {
    "duration": 99,
    "start_time": "2023-04-08T15:48:11.762Z"
   },
   {
    "duration": 267,
    "start_time": "2023-04-08T15:48:12.126Z"
   },
   {
    "duration": 131,
    "start_time": "2023-04-08T15:48:12.426Z"
   },
   {
    "duration": 101,
    "start_time": "2023-04-08T15:48:13.077Z"
   },
   {
    "duration": 111,
    "start_time": "2023-04-08T15:48:14.072Z"
   },
   {
    "duration": 1008,
    "start_time": "2023-04-08T15:48:14.423Z"
   },
   {
    "duration": 350,
    "start_time": "2023-04-08T15:48:15.432Z"
   },
   {
    "duration": 437,
    "start_time": "2023-04-08T15:48:15.783Z"
   },
   {
    "duration": 379,
    "start_time": "2023-04-08T15:48:16.222Z"
   },
   {
    "duration": 97,
    "start_time": "2023-04-08T15:48:16.603Z"
   },
   {
    "duration": 351,
    "start_time": "2023-04-08T15:48:16.915Z"
   },
   {
    "duration": 244,
    "start_time": "2023-04-08T15:48:17.565Z"
   },
   {
    "duration": 22,
    "start_time": "2023-04-08T15:48:18.266Z"
   },
   {
    "duration": 427,
    "start_time": "2023-04-08T15:48:19.366Z"
   },
   {
    "duration": 145,
    "start_time": "2023-04-08T15:48:20.508Z"
   },
   {
    "duration": 1354,
    "start_time": "2023-04-08T15:53:00.376Z"
   },
   {
    "duration": 794,
    "start_time": "2023-04-08T15:53:01.732Z"
   },
   {
    "duration": 42,
    "start_time": "2023-04-08T15:53:02.528Z"
   },
   {
    "duration": 125,
    "start_time": "2023-04-08T15:53:02.571Z"
   },
   {
    "duration": 94,
    "start_time": "2023-04-08T15:53:02.697Z"
   },
   {
    "duration": 262,
    "start_time": "2023-04-08T15:53:02.854Z"
   },
   {
    "duration": 113,
    "start_time": "2023-04-08T15:53:03.170Z"
   },
   {
    "duration": 105,
    "start_time": "2023-04-08T15:53:03.777Z"
   },
   {
    "duration": 116,
    "start_time": "2023-04-08T15:53:04.765Z"
   },
   {
    "duration": 1058,
    "start_time": "2023-04-08T15:53:05.112Z"
   },
   {
    "duration": 428,
    "start_time": "2023-04-08T15:53:06.172Z"
   },
   {
    "duration": 556,
    "start_time": "2023-04-08T15:53:06.601Z"
   },
   {
    "duration": 370,
    "start_time": "2023-04-08T15:53:07.163Z"
   },
   {
    "duration": 74,
    "start_time": "2023-04-08T15:53:07.549Z"
   },
   {
    "duration": 389,
    "start_time": "2023-04-08T15:53:07.832Z"
   },
   {
    "duration": 277,
    "start_time": "2023-04-08T15:53:08.463Z"
   },
   {
    "duration": 28,
    "start_time": "2023-04-08T15:53:09.104Z"
   },
   {
    "duration": 461,
    "start_time": "2023-04-08T15:53:09.908Z"
   },
   {
    "duration": 138,
    "start_time": "2023-04-08T15:53:10.468Z"
   },
   {
    "duration": 37013,
    "start_time": "2023-04-08T15:53:10.948Z"
   },
   {
    "duration": 64,
    "start_time": "2023-04-08T15:53:47.966Z"
   },
   {
    "duration": 77,
    "start_time": "2023-04-08T15:53:48.032Z"
   },
   {
    "duration": 255,
    "start_time": "2023-04-08T15:53:48.111Z"
   },
   {
    "duration": 249,
    "start_time": "2023-04-08T15:53:48.367Z"
   },
   {
    "duration": 242,
    "start_time": "2023-04-08T15:53:48.617Z"
   },
   {
    "duration": 408,
    "start_time": "2023-04-08T15:53:48.863Z"
   },
   {
    "duration": 635,
    "start_time": "2023-04-08T15:53:49.272Z"
   },
   {
    "duration": 3,
    "start_time": "2023-04-08T15:53:49.908Z"
   },
   {
    "duration": 3,
    "start_time": "2023-04-08T15:53:49.914Z"
   },
   {
    "duration": 611,
    "start_time": "2023-04-08T15:54:11.668Z"
   },
   {
    "duration": 445,
    "start_time": "2023-04-08T15:54:12.667Z"
   },
   {
    "duration": 324088,
    "start_time": "2023-04-08T15:54:14.240Z"
   },
   {
    "duration": 139,
    "start_time": "2023-04-08T16:00:42.830Z"
   },
   {
    "duration": 431,
    "start_time": "2023-04-08T16:01:46.178Z"
   },
   {
    "duration": 545209,
    "start_time": "2023-04-08T16:02:18.299Z"
   },
   {
    "duration": 1338,
    "start_time": "2023-04-08T16:12:53.083Z"
   },
   {
    "duration": 785,
    "start_time": "2023-04-08T16:12:54.423Z"
   },
   {
    "duration": 20,
    "start_time": "2023-04-08T16:12:55.209Z"
   },
   {
    "duration": 139,
    "start_time": "2023-04-08T16:12:55.231Z"
   },
   {
    "duration": 94,
    "start_time": "2023-04-08T16:12:55.372Z"
   },
   {
    "duration": 261,
    "start_time": "2023-04-08T16:12:55.576Z"
   },
   {
    "duration": 115,
    "start_time": "2023-04-08T16:12:55.878Z"
   },
   {
    "duration": 100,
    "start_time": "2023-04-08T16:12:56.367Z"
   },
   {
    "duration": 131,
    "start_time": "2023-04-08T16:12:57.174Z"
   },
   {
    "duration": 1108,
    "start_time": "2023-04-08T16:12:57.470Z"
   },
   {
    "duration": 389,
    "start_time": "2023-04-08T16:12:58.580Z"
   },
   {
    "duration": 502,
    "start_time": "2023-04-08T16:12:58.972Z"
   },
   {
    "duration": 419,
    "start_time": "2023-04-08T16:12:59.476Z"
   },
   {
    "duration": 67,
    "start_time": "2023-04-08T16:12:59.896Z"
   },
   {
    "duration": 361,
    "start_time": "2023-04-08T16:12:59.964Z"
   },
   {
    "duration": 278,
    "start_time": "2023-04-08T16:13:00.327Z"
   },
   {
    "duration": 34,
    "start_time": "2023-04-08T16:13:00.607Z"
   },
   {
    "duration": 421,
    "start_time": "2023-04-08T16:13:00.874Z"
   },
   {
    "duration": 131,
    "start_time": "2023-04-08T16:13:01.479Z"
   },
   {
    "duration": 37038,
    "start_time": "2023-04-08T16:13:01.675Z"
   },
   {
    "duration": 66,
    "start_time": "2023-04-08T16:13:38.714Z"
   },
   {
    "duration": 80,
    "start_time": "2023-04-08T16:13:38.781Z"
   },
   {
    "duration": 235,
    "start_time": "2023-04-08T16:13:38.870Z"
   },
   {
    "duration": 260,
    "start_time": "2023-04-08T16:13:39.106Z"
   },
   {
    "duration": 222,
    "start_time": "2023-04-08T16:13:39.368Z"
   },
   {
    "duration": 469,
    "start_time": "2023-04-08T16:13:39.592Z"
   },
   {
    "duration": 653,
    "start_time": "2023-04-08T16:13:40.062Z"
   },
   {
    "duration": 2,
    "start_time": "2023-04-08T16:13:40.717Z"
   },
   {
    "duration": 4,
    "start_time": "2023-04-08T16:13:40.721Z"
   },
   {
    "duration": 53920,
    "start_time": "2023-04-08T16:13:40.726Z"
   },
   {
    "duration": 111,
    "start_time": "2023-04-08T16:14:44.829Z"
   },
   {
    "duration": 3,
    "start_time": "2023-04-08T16:15:17.713Z"
   },
   {
    "duration": 166817,
    "start_time": "2023-04-08T16:15:26.992Z"
   },
   {
    "duration": 3635,
    "start_time": "2023-04-08T16:18:54.763Z"
   },
   {
    "duration": 114,
    "start_time": "2023-04-08T16:18:58.402Z"
   },
   {
    "duration": 3,
    "start_time": "2023-04-08T16:19:20.623Z"
   },
   {
    "duration": 719951,
    "start_time": "2023-04-08T16:19:28.266Z"
   },
   {
    "duration": 86675,
    "start_time": "2023-04-08T16:34:15.978Z"
   },
   {
    "duration": 450,
    "start_time": "2023-04-08T16:36:00.806Z"
   },
   {
    "duration": 3,
    "start_time": "2023-04-08T16:36:23.015Z"
   },
   {
    "duration": 112,
    "start_time": "2023-04-08T16:36:28.171Z"
   },
   {
    "duration": 441,
    "start_time": "2023-04-08T16:36:34.295Z"
   },
   {
    "duration": 1850089,
    "start_time": "2023-04-08T16:36:42.554Z"
   },
   {
    "duration": 135,
    "start_time": "2023-04-08T17:08:36.719Z"
   },
   {
    "duration": 10,
    "start_time": "2023-04-08T17:11:59.175Z"
   },
   {
    "duration": 10,
    "start_time": "2023-04-08T17:12:31.341Z"
   },
   {
    "duration": 9,
    "start_time": "2023-04-08T17:14:31.809Z"
   },
   {
    "duration": 10,
    "start_time": "2023-04-08T17:14:47.190Z"
   },
   {
    "duration": 15,
    "start_time": "2023-04-08T17:16:19.480Z"
   },
   {
    "duration": 10,
    "start_time": "2023-04-08T17:18:37.522Z"
   },
   {
    "duration": 10,
    "start_time": "2023-04-08T17:19:12.377Z"
   },
   {
    "duration": 5536,
    "start_time": "2023-04-08T17:20:22.614Z"
   },
   {
    "duration": 11,
    "start_time": "2023-04-08T17:21:26.370Z"
   },
   {
    "duration": 5350,
    "start_time": "2023-04-08T17:22:05.117Z"
   },
   {
    "duration": 35,
    "start_time": "2023-04-08T17:22:56.457Z"
   },
   {
    "duration": 2,
    "start_time": "2023-04-08T17:34:41.367Z"
   },
   {
    "duration": 14,
    "start_time": "2023-04-08T17:34:46.331Z"
   },
   {
    "duration": 97896,
    "start_time": "2023-04-08T17:35:52.115Z"
   },
   {
    "duration": 51,
    "start_time": "2023-04-08T17:39:49.610Z"
   },
   {
    "duration": 233,
    "start_time": "2023-04-08T17:40:24.655Z"
   },
   {
    "duration": 416,
    "start_time": "2023-04-08T17:43:19.636Z"
   },
   {
    "duration": 1820,
    "start_time": "2023-04-09T12:34:38.800Z"
   },
   {
    "duration": 1069,
    "start_time": "2023-04-09T12:34:40.622Z"
   },
   {
    "duration": 19,
    "start_time": "2023-04-09T12:34:41.692Z"
   },
   {
    "duration": 140,
    "start_time": "2023-04-09T12:34:41.713Z"
   },
   {
    "duration": 156,
    "start_time": "2023-04-09T12:34:41.855Z"
   },
   {
    "duration": 308,
    "start_time": "2023-04-09T12:34:42.013Z"
   },
   {
    "duration": 109,
    "start_time": "2023-04-09T12:34:42.323Z"
   },
   {
    "duration": 109,
    "start_time": "2023-04-09T12:34:42.434Z"
   },
   {
    "duration": 123,
    "start_time": "2023-04-09T12:34:42.545Z"
   },
   {
    "duration": 1119,
    "start_time": "2023-04-09T12:34:42.670Z"
   },
   {
    "duration": 427,
    "start_time": "2023-04-09T12:34:43.791Z"
   },
   {
    "duration": 537,
    "start_time": "2023-04-09T12:34:44.220Z"
   },
   {
    "duration": 446,
    "start_time": "2023-04-09T12:34:44.758Z"
   },
   {
    "duration": 62,
    "start_time": "2023-04-09T12:34:45.207Z"
   },
   {
    "duration": 440,
    "start_time": "2023-04-09T12:34:45.270Z"
   },
   {
    "duration": 299,
    "start_time": "2023-04-09T12:34:45.712Z"
   },
   {
    "duration": 24,
    "start_time": "2023-04-09T12:34:46.014Z"
   },
   {
    "duration": 482,
    "start_time": "2023-04-09T12:34:46.040Z"
   },
   {
    "duration": 141,
    "start_time": "2023-04-09T12:34:46.524Z"
   },
   {
    "duration": 37090,
    "start_time": "2023-04-09T12:34:46.666Z"
   },
   {
    "duration": 71,
    "start_time": "2023-04-09T12:35:23.758Z"
   },
   {
    "duration": 82,
    "start_time": "2023-04-09T12:35:23.831Z"
   },
   {
    "duration": 302,
    "start_time": "2023-04-09T12:35:23.915Z"
   },
   {
    "duration": 335,
    "start_time": "2023-04-09T12:35:24.219Z"
   },
   {
    "duration": 285,
    "start_time": "2023-04-09T12:35:24.557Z"
   },
   {
    "duration": 818,
    "start_time": "2023-04-09T12:35:24.844Z"
   },
   {
    "duration": 1002,
    "start_time": "2023-04-09T12:35:25.663Z"
   },
   {
    "duration": 3,
    "start_time": "2023-04-09T12:35:26.667Z"
   },
   {
    "duration": 6,
    "start_time": "2023-04-09T12:35:26.671Z"
   },
   {
    "duration": 19833,
    "start_time": "2023-04-09T12:35:26.679Z"
   },
   {
    "duration": 208,
    "start_time": "2023-04-09T12:35:46.603Z"
   },
   {
    "duration": 89,
    "start_time": "2023-04-09T12:35:46.814Z"
   },
   {
    "duration": 209505,
    "start_time": "2023-04-09T12:35:46.905Z"
   },
   {
    "duration": 4396,
    "start_time": "2023-04-09T12:39:16.412Z"
   },
   {
    "duration": 124,
    "start_time": "2023-04-09T12:39:20.810Z"
   },
   {
    "duration": 3,
    "start_time": "2023-04-09T12:39:20.935Z"
   },
   {
    "duration": 1516,
    "start_time": "2023-04-09T14:50:41.239Z"
   },
   {
    "duration": 942,
    "start_time": "2023-04-09T14:50:42.757Z"
   },
   {
    "duration": 16,
    "start_time": "2023-04-09T14:50:43.700Z"
   },
   {
    "duration": 117,
    "start_time": "2023-04-09T14:50:44.021Z"
   },
   {
    "duration": 115,
    "start_time": "2023-04-09T14:50:44.422Z"
   },
   {
    "duration": 283,
    "start_time": "2023-04-09T14:50:44.774Z"
   },
   {
    "duration": 99,
    "start_time": "2023-04-09T14:50:45.144Z"
   },
   {
    "duration": 83,
    "start_time": "2023-04-09T14:50:45.847Z"
   },
   {
    "duration": 102,
    "start_time": "2023-04-09T14:50:46.945Z"
   },
   {
    "duration": 928,
    "start_time": "2023-04-09T14:50:47.399Z"
   },
   {
    "duration": 373,
    "start_time": "2023-04-09T14:50:48.329Z"
   },
   {
    "duration": 464,
    "start_time": "2023-04-09T14:50:48.705Z"
   },
   {
    "duration": 387,
    "start_time": "2023-04-09T14:50:49.174Z"
   },
   {
    "duration": 54,
    "start_time": "2023-04-09T14:50:50.699Z"
   },
   {
    "duration": 383,
    "start_time": "2023-04-09T14:50:51.067Z"
   },
   {
    "duration": 240,
    "start_time": "2023-04-09T14:50:51.907Z"
   },
   {
    "duration": 23,
    "start_time": "2023-04-09T14:50:52.756Z"
   },
   {
    "duration": 396,
    "start_time": "2023-04-09T14:50:53.581Z"
   },
   {
    "duration": 110,
    "start_time": "2023-04-09T14:50:54.410Z"
   },
   {
    "duration": 30994,
    "start_time": "2023-04-09T14:50:54.875Z"
   },
   {
    "duration": 61,
    "start_time": "2023-04-09T14:51:25.871Z"
   },
   {
    "duration": 63,
    "start_time": "2023-04-09T14:51:25.933Z"
   },
   {
    "duration": 235,
    "start_time": "2023-04-09T14:51:25.998Z"
   },
   {
    "duration": 268,
    "start_time": "2023-04-09T14:51:26.235Z"
   },
   {
    "duration": 249,
    "start_time": "2023-04-09T14:51:26.504Z"
   },
   {
    "duration": 539,
    "start_time": "2023-04-09T14:51:26.755Z"
   },
   {
    "duration": 805,
    "start_time": "2023-04-09T14:51:27.296Z"
   },
   {
    "duration": 3,
    "start_time": "2023-04-09T14:51:28.103Z"
   },
   {
    "duration": 8,
    "start_time": "2023-04-09T14:51:28.108Z"
   },
   {
    "duration": 15753,
    "start_time": "2023-04-09T14:53:33.825Z"
   },
   {
    "duration": 194,
    "start_time": "2023-04-09T14:53:49.582Z"
   },
   {
    "duration": 96,
    "start_time": "2023-04-09T14:54:05.185Z"
   },
   {
    "duration": 3,
    "start_time": "2023-04-09T14:54:47.351Z"
   },
   {
    "duration": 184488,
    "start_time": "2023-04-09T14:54:51.794Z"
   },
   {
    "duration": 3996,
    "start_time": "2023-04-09T15:02:50.413Z"
   },
   {
    "duration": 113,
    "start_time": "2023-04-09T15:02:54.410Z"
   },
   {
    "duration": 3,
    "start_time": "2023-04-09T15:03:10.994Z"
   },
   {
    "duration": 806080,
    "start_time": "2023-04-09T15:03:35.936Z"
   },
   {
    "duration": 101331,
    "start_time": "2023-04-09T15:17:02.018Z"
   },
   {
    "duration": 462,
    "start_time": "2023-04-09T15:18:43.351Z"
   },
   {
    "duration": 3,
    "start_time": "2023-04-09T15:19:24.947Z"
   },
   {
    "duration": 3,
    "start_time": "2023-04-09T15:19:29.498Z"
   },
   {
    "duration": 117,
    "start_time": "2023-04-09T15:19:32.064Z"
   },
   {
    "duration": 37,
    "start_time": "2023-04-09T15:21:02.458Z"
   },
   {
    "duration": 103,
    "start_time": "2023-04-09T15:21:54.906Z"
   },
   {
    "duration": 14,
    "start_time": "2023-04-09T15:22:38.393Z"
   },
   {
    "duration": 19,
    "start_time": "2023-04-09T15:23:27.238Z"
   },
   {
    "duration": 18,
    "start_time": "2023-04-09T15:23:41.633Z"
   },
   {
    "duration": 8424,
    "start_time": "2023-04-09T15:31:06.868Z"
   },
   {
    "duration": 101,
    "start_time": "2023-04-09T15:32:33.000Z"
   },
   {
    "duration": 41,
    "start_time": "2023-04-09T15:32:34.976Z"
   },
   {
    "duration": 40688,
    "start_time": "2023-04-09T15:33:02.997Z"
   },
   {
    "duration": 55,
    "start_time": "2023-04-09T15:33:49.589Z"
   },
   {
    "duration": 7133,
    "start_time": "2023-04-09T15:34:29.158Z"
   },
   {
    "duration": 7486,
    "start_time": "2023-04-09T15:35:44.814Z"
   },
   {
    "duration": 3,
    "start_time": "2023-04-09T15:36:37.464Z"
   },
   {
    "duration": 8,
    "start_time": "2023-04-09T15:36:42.916Z"
   },
   {
    "duration": 115492,
    "start_time": "2023-04-09T15:38:41.270Z"
   },
   {
    "duration": 92765,
    "start_time": "2023-04-09T15:40:47.965Z"
   },
   {
    "duration": 113172,
    "start_time": "2023-04-09T15:43:34.459Z"
   },
   {
    "duration": 68,
    "start_time": "2023-04-09T15:45:36.596Z"
   },
   {
    "duration": 201104,
    "start_time": "2023-04-09T15:46:13.691Z"
   },
   {
    "duration": 1120,
    "start_time": "2023-04-09T23:21:06.729Z"
   },
   {
    "duration": 712,
    "start_time": "2023-04-09T23:21:07.851Z"
   },
   {
    "duration": 16,
    "start_time": "2023-04-09T23:21:08.564Z"
   },
   {
    "duration": 108,
    "start_time": "2023-04-09T23:21:08.583Z"
   },
   {
    "duration": 95,
    "start_time": "2023-04-09T23:21:08.694Z"
   },
   {
    "duration": 248,
    "start_time": "2023-04-09T23:21:08.791Z"
   },
   {
    "duration": 113,
    "start_time": "2023-04-09T23:21:09.040Z"
   },
   {
    "duration": 95,
    "start_time": "2023-04-09T23:21:09.154Z"
   },
   {
    "duration": 108,
    "start_time": "2023-04-09T23:21:09.250Z"
   },
   {
    "duration": 931,
    "start_time": "2023-04-09T23:21:09.359Z"
   },
   {
    "duration": 342,
    "start_time": "2023-04-09T23:21:10.292Z"
   },
   {
    "duration": 441,
    "start_time": "2023-04-09T23:21:10.635Z"
   },
   {
    "duration": 325,
    "start_time": "2023-04-09T23:21:11.078Z"
   },
   {
    "duration": 49,
    "start_time": "2023-04-09T23:21:11.406Z"
   },
   {
    "duration": 362,
    "start_time": "2023-04-09T23:21:11.456Z"
   },
   {
    "duration": 245,
    "start_time": "2023-04-09T23:21:11.819Z"
   },
   {
    "duration": 22,
    "start_time": "2023-04-09T23:21:12.068Z"
   },
   {
    "duration": 405,
    "start_time": "2023-04-09T23:21:12.092Z"
   },
   {
    "duration": 125,
    "start_time": "2023-04-09T23:21:12.499Z"
   },
   {
    "duration": 31672,
    "start_time": "2023-04-09T23:21:12.626Z"
   },
   {
    "duration": 69,
    "start_time": "2023-04-09T23:21:44.300Z"
   },
   {
    "duration": 56,
    "start_time": "2023-04-09T23:21:44.370Z"
   },
   {
    "duration": 228,
    "start_time": "2023-04-09T23:21:44.428Z"
   },
   {
    "duration": 249,
    "start_time": "2023-04-09T23:21:44.658Z"
   },
   {
    "duration": 217,
    "start_time": "2023-04-09T23:21:44.909Z"
   },
   {
    "duration": 537,
    "start_time": "2023-04-09T23:21:45.127Z"
   },
   {
    "duration": 787,
    "start_time": "2023-04-09T23:21:45.666Z"
   },
   {
    "duration": 3,
    "start_time": "2023-04-09T23:21:46.454Z"
   },
   {
    "duration": 10,
    "start_time": "2023-04-09T23:21:46.458Z"
   },
   {
    "duration": 17100,
    "start_time": "2023-04-09T23:21:46.469Z"
   },
   {
    "duration": 107,
    "start_time": "2023-04-09T23:22:03.571Z"
   },
   {
    "duration": 288,
    "start_time": "2023-04-09T23:22:03.680Z"
   },
   {
    "duration": 3,
    "start_time": "2023-04-09T23:22:03.970Z"
   },
   {
    "duration": 183357,
    "start_time": "2023-04-09T23:22:03.975Z"
   },
   {
    "duration": 3899,
    "start_time": "2023-04-09T23:25:07.334Z"
   },
   {
    "duration": 118,
    "start_time": "2023-04-09T23:25:11.235Z"
   },
   {
    "duration": 2,
    "start_time": "2023-04-09T23:25:11.355Z"
   },
   {
    "duration": 799593,
    "start_time": "2023-04-09T23:25:11.359Z"
   },
   {
    "duration": 99873,
    "start_time": "2023-04-09T23:38:30.953Z"
   },
   {
    "duration": 424,
    "start_time": "2023-04-09T23:40:10.828Z"
   },
   {
    "duration": 3,
    "start_time": "2023-04-09T23:40:11.255Z"
   },
   {
    "duration": 8624,
    "start_time": "2023-04-09T23:40:11.259Z"
   },
   {
    "duration": 143,
    "start_time": "2023-04-09T23:40:19.884Z"
   },
   {
    "duration": 46,
    "start_time": "2023-04-09T23:40:20.039Z"
   },
   {
    "duration": 35592,
    "start_time": "2023-04-09T23:40:20.087Z"
   },
   {
    "duration": 7702,
    "start_time": "2023-04-09T23:40:55.682Z"
   },
   {
    "duration": 2,
    "start_time": "2023-04-09T23:41:03.386Z"
   },
   {
    "duration": 9,
    "start_time": "2023-04-09T23:41:03.390Z"
   },
   {
    "duration": 18171,
    "start_time": "2023-04-09T23:41:03.400Z"
   },
   {
    "duration": 1739,
    "start_time": "2023-04-10T10:43:05.473Z"
   },
   {
    "duration": 2971,
    "start_time": "2023-04-10T10:43:07.214Z"
   },
   {
    "duration": 18,
    "start_time": "2023-04-10T10:43:10.187Z"
   },
   {
    "duration": 146,
    "start_time": "2023-04-10T10:43:10.207Z"
   },
   {
    "duration": 108,
    "start_time": "2023-04-10T10:43:10.355Z"
   },
   {
    "duration": 312,
    "start_time": "2023-04-10T10:43:10.465Z"
   },
   {
    "duration": 144,
    "start_time": "2023-04-10T10:43:10.779Z"
   },
   {
    "duration": 107,
    "start_time": "2023-04-10T10:43:10.925Z"
   },
   {
    "duration": 116,
    "start_time": "2023-04-10T10:43:11.034Z"
   },
   {
    "duration": 1128,
    "start_time": "2023-04-10T10:43:11.152Z"
   },
   {
    "duration": 419,
    "start_time": "2023-04-10T10:43:12.282Z"
   },
   {
    "duration": 523,
    "start_time": "2023-04-10T10:43:12.703Z"
   },
   {
    "duration": 399,
    "start_time": "2023-04-10T10:43:13.228Z"
   },
   {
    "duration": 60,
    "start_time": "2023-04-10T10:43:13.630Z"
   },
   {
    "duration": 427,
    "start_time": "2023-04-10T10:43:13.692Z"
   },
   {
    "duration": 292,
    "start_time": "2023-04-10T10:43:14.120Z"
   },
   {
    "duration": 25,
    "start_time": "2023-04-10T10:43:14.417Z"
   },
   {
    "duration": 467,
    "start_time": "2023-04-10T10:43:14.444Z"
   },
   {
    "duration": 129,
    "start_time": "2023-04-10T10:43:14.912Z"
   },
   {
    "duration": 35509,
    "start_time": "2023-04-10T10:43:15.043Z"
   },
   {
    "duration": 76,
    "start_time": "2023-04-10T10:43:50.555Z"
   },
   {
    "duration": 86,
    "start_time": "2023-04-10T10:43:50.633Z"
   },
   {
    "duration": 265,
    "start_time": "2023-04-10T10:43:50.721Z"
   },
   {
    "duration": 288,
    "start_time": "2023-04-10T10:43:50.988Z"
   },
   {
    "duration": 264,
    "start_time": "2023-04-10T10:43:51.277Z"
   },
   {
    "duration": 692,
    "start_time": "2023-04-10T10:43:51.543Z"
   },
   {
    "duration": 82,
    "start_time": "2023-04-10T10:49:06.183Z"
   },
   {
    "duration": 154,
    "start_time": "2023-04-10T10:49:16.758Z"
   },
   {
    "duration": 139,
    "start_time": "2023-04-10T10:50:32.418Z"
   },
   {
    "duration": 1452,
    "start_time": "2023-04-10T10:50:53.077Z"
   },
   {
    "duration": 3,
    "start_time": "2023-04-10T10:52:33.309Z"
   },
   {
    "duration": 3,
    "start_time": "2023-04-10T10:52:34.429Z"
   },
   {
    "duration": 1246,
    "start_time": "2023-04-10T10:52:58.536Z"
   },
   {
    "duration": 3,
    "start_time": "2023-04-10T10:54:22.026Z"
   },
   {
    "duration": 368,
    "start_time": "2023-04-10T10:54:24.298Z"
   },
   {
    "duration": 559998,
    "start_time": "2023-04-10T10:54:33.834Z"
   },
   {
    "duration": 793,
    "start_time": "2023-04-10T11:16:01.074Z"
   },
   {
    "duration": 1491,
    "start_time": "2023-04-10T11:16:22.100Z"
   },
   {
    "duration": 866,
    "start_time": "2023-04-10T11:16:23.593Z"
   },
   {
    "duration": 18,
    "start_time": "2023-04-10T11:16:24.460Z"
   },
   {
    "duration": 160,
    "start_time": "2023-04-10T11:16:24.480Z"
   },
   {
    "duration": 115,
    "start_time": "2023-04-10T11:16:24.642Z"
   },
   {
    "duration": 315,
    "start_time": "2023-04-10T11:16:24.759Z"
   },
   {
    "duration": 154,
    "start_time": "2023-04-10T11:16:25.077Z"
   },
   {
    "duration": 127,
    "start_time": "2023-04-10T11:16:25.233Z"
   },
   {
    "duration": 130,
    "start_time": "2023-04-10T11:16:25.557Z"
   },
   {
    "duration": 1138,
    "start_time": "2023-04-10T11:16:25.847Z"
   },
   {
    "duration": 436,
    "start_time": "2023-04-10T11:16:26.987Z"
   },
   {
    "duration": 549,
    "start_time": "2023-04-10T11:16:27.425Z"
   },
   {
    "duration": 411,
    "start_time": "2023-04-10T11:16:27.976Z"
   },
   {
    "duration": 91,
    "start_time": "2023-04-10T11:16:28.390Z"
   },
   {
    "duration": 431,
    "start_time": "2023-04-10T11:16:28.634Z"
   },
   {
    "duration": 293,
    "start_time": "2023-04-10T11:16:29.228Z"
   },
   {
    "duration": 27,
    "start_time": "2023-04-10T11:16:29.787Z"
   },
   {
    "duration": 487,
    "start_time": "2023-04-10T11:16:30.404Z"
   },
   {
    "duration": 134,
    "start_time": "2023-04-10T11:16:31.060Z"
   },
   {
    "duration": 36689,
    "start_time": "2023-04-10T11:16:31.398Z"
   },
   {
    "duration": 79,
    "start_time": "2023-04-10T11:17:08.089Z"
   },
   {
    "duration": 82,
    "start_time": "2023-04-10T11:17:08.170Z"
   },
   {
    "duration": 278,
    "start_time": "2023-04-10T11:17:08.254Z"
   },
   {
    "duration": 285,
    "start_time": "2023-04-10T11:17:08.534Z"
   },
   {
    "duration": 269,
    "start_time": "2023-04-10T11:17:08.821Z"
   },
   {
    "duration": 617,
    "start_time": "2023-04-10T11:17:09.091Z"
   },
   {
    "duration": 1005,
    "start_time": "2023-04-10T11:17:49.802Z"
   },
   {
    "duration": 26,
    "start_time": "2023-04-10T11:19:23.093Z"
   },
   {
    "duration": 74,
    "start_time": "2023-04-10T11:21:34.625Z"
   },
   {
    "duration": 23,
    "start_time": "2023-04-10T11:21:36.363Z"
   },
   {
    "duration": 4,
    "start_time": "2023-04-10T11:22:20.448Z"
   },
   {
    "duration": 15,
    "start_time": "2023-04-10T11:22:33.244Z"
   },
   {
    "duration": 3,
    "start_time": "2023-04-10T11:22:49.807Z"
   },
   {
    "duration": 323,
    "start_time": "2023-04-10T11:22:51.500Z"
   },
   {
    "duration": 95,
    "start_time": "2023-04-10T11:23:47.018Z"
   },
   {
    "duration": 15,
    "start_time": "2023-04-10T11:24:50.909Z"
   },
   {
    "duration": 3,
    "start_time": "2023-04-10T11:25:10.847Z"
   },
   {
    "duration": 3,
    "start_time": "2023-04-10T11:25:11.808Z"
   },
   {
    "duration": 106,
    "start_time": "2023-04-10T11:25:13.704Z"
   },
   {
    "duration": 23,
    "start_time": "2023-04-10T11:43:42.089Z"
   },
   {
    "duration": 26,
    "start_time": "2023-04-10T11:44:03.336Z"
   },
   {
    "duration": 10,
    "start_time": "2023-04-10T11:44:33.752Z"
   },
   {
    "duration": 1667,
    "start_time": "2023-04-10T11:44:54.901Z"
   },
   {
    "duration": 890,
    "start_time": "2023-04-10T11:44:56.571Z"
   },
   {
    "duration": 17,
    "start_time": "2023-04-10T11:44:57.463Z"
   },
   {
    "duration": 190,
    "start_time": "2023-04-10T11:44:57.482Z"
   },
   {
    "duration": 116,
    "start_time": "2023-04-10T11:44:57.674Z"
   },
   {
    "duration": 317,
    "start_time": "2023-04-10T11:44:57.791Z"
   },
   {
    "duration": 142,
    "start_time": "2023-04-10T11:44:58.110Z"
   },
   {
    "duration": 133,
    "start_time": "2023-04-10T11:44:58.254Z"
   },
   {
    "duration": 125,
    "start_time": "2023-04-10T11:44:58.808Z"
   },
   {
    "duration": 1119,
    "start_time": "2023-04-10T11:44:58.978Z"
   },
   {
    "duration": 418,
    "start_time": "2023-04-10T11:45:00.099Z"
   },
   {
    "duration": 587,
    "start_time": "2023-04-10T11:45:00.519Z"
   },
   {
    "duration": 427,
    "start_time": "2023-04-10T11:45:01.108Z"
   },
   {
    "duration": 62,
    "start_time": "2023-04-10T11:45:01.536Z"
   },
   {
    "duration": 531,
    "start_time": "2023-04-10T11:45:01.600Z"
   },
   {
    "duration": 305,
    "start_time": "2023-04-10T11:45:02.134Z"
   },
   {
    "duration": 25,
    "start_time": "2023-04-10T11:45:02.441Z"
   },
   {
    "duration": 477,
    "start_time": "2023-04-10T11:45:02.468Z"
   },
   {
    "duration": 138,
    "start_time": "2023-04-10T11:45:02.947Z"
   },
   {
    "duration": 35608,
    "start_time": "2023-04-10T11:45:03.087Z"
   },
   {
    "duration": 73,
    "start_time": "2023-04-10T11:45:38.697Z"
   },
   {
    "duration": 83,
    "start_time": "2023-04-10T11:45:38.772Z"
   },
   {
    "duration": 279,
    "start_time": "2023-04-10T11:45:38.857Z"
   },
   {
    "duration": 298,
    "start_time": "2023-04-10T11:45:39.138Z"
   },
   {
    "duration": 262,
    "start_time": "2023-04-10T11:45:39.438Z"
   },
   {
    "duration": 641,
    "start_time": "2023-04-10T11:45:39.702Z"
   },
   {
    "duration": 102,
    "start_time": "2023-04-10T11:45:56.766Z"
   },
   {
    "duration": 142,
    "start_time": "2023-04-10T11:46:27.915Z"
   },
   {
    "duration": 23,
    "start_time": "2023-04-10T11:46:40.358Z"
   },
   {
    "duration": 144,
    "start_time": "2023-04-10T11:47:34.566Z"
   },
   {
    "duration": 10,
    "start_time": "2023-04-10T11:49:02.233Z"
   },
   {
    "duration": 38,
    "start_time": "2023-04-10T11:49:48.804Z"
   },
   {
    "duration": 41,
    "start_time": "2023-04-10T11:51:03.751Z"
   },
   {
    "duration": 4,
    "start_time": "2023-04-10T11:51:20.975Z"
   },
   {
    "duration": 3,
    "start_time": "2023-04-10T11:51:58.734Z"
   },
   {
    "duration": 75,
    "start_time": "2023-04-10T11:52:15.589Z"
   },
   {
    "duration": 405,
    "start_time": "2023-04-10T11:52:27.742Z"
   },
   {
    "duration": 67,
    "start_time": "2023-04-10T11:54:46.249Z"
   },
   {
    "duration": 397,
    "start_time": "2023-04-10T11:55:27.050Z"
   },
   {
    "duration": 8,
    "start_time": "2023-04-10T11:58:02.570Z"
   },
   {
    "duration": 1498,
    "start_time": "2023-04-10T11:58:15.814Z"
   },
   {
    "duration": 2971,
    "start_time": "2023-04-10T11:58:17.314Z"
   },
   {
    "duration": 18,
    "start_time": "2023-04-10T11:58:20.287Z"
   },
   {
    "duration": 157,
    "start_time": "2023-04-10T11:58:20.307Z"
   },
   {
    "duration": 145,
    "start_time": "2023-04-10T11:58:20.465Z"
   },
   {
    "duration": 313,
    "start_time": "2023-04-10T11:58:20.612Z"
   },
   {
    "duration": 138,
    "start_time": "2023-04-10T11:58:20.926Z"
   },
   {
    "duration": 114,
    "start_time": "2023-04-10T11:58:21.066Z"
   },
   {
    "duration": 155,
    "start_time": "2023-04-10T11:58:21.182Z"
   },
   {
    "duration": 1254,
    "start_time": "2023-04-10T11:58:21.339Z"
   },
   {
    "duration": 440,
    "start_time": "2023-04-10T11:58:22.595Z"
   },
   {
    "duration": 522,
    "start_time": "2023-04-10T11:58:23.037Z"
   },
   {
    "duration": 440,
    "start_time": "2023-04-10T11:58:23.561Z"
   },
   {
    "duration": 69,
    "start_time": "2023-04-10T11:58:24.002Z"
   },
   {
    "duration": 434,
    "start_time": "2023-04-10T11:58:24.073Z"
   },
   {
    "duration": 291,
    "start_time": "2023-04-10T11:58:24.508Z"
   },
   {
    "duration": 30,
    "start_time": "2023-04-10T11:58:24.802Z"
   },
   {
    "duration": 494,
    "start_time": "2023-04-10T11:58:24.834Z"
   },
   {
    "duration": 147,
    "start_time": "2023-04-10T11:58:25.330Z"
   },
   {
    "duration": 35995,
    "start_time": "2023-04-10T11:58:25.479Z"
   },
   {
    "duration": 73,
    "start_time": "2023-04-10T11:59:01.475Z"
   },
   {
    "duration": 87,
    "start_time": "2023-04-10T11:59:01.550Z"
   },
   {
    "duration": 327,
    "start_time": "2023-04-10T11:59:01.639Z"
   },
   {
    "duration": 298,
    "start_time": "2023-04-10T11:59:01.970Z"
   },
   {
    "duration": 267,
    "start_time": "2023-04-10T11:59:02.269Z"
   },
   {
    "duration": 657,
    "start_time": "2023-04-10T11:59:02.538Z"
   },
   {
    "duration": 858,
    "start_time": "2023-04-10T11:59:03.197Z"
   },
   {
    "duration": 3,
    "start_time": "2023-04-10T11:59:04.057Z"
   },
   {
    "duration": 18,
    "start_time": "2023-04-10T11:59:04.062Z"
   },
   {
    "duration": 104,
    "start_time": "2023-04-10T12:02:30.128Z"
   },
   {
    "duration": 129,
    "start_time": "2023-04-10T12:02:33.340Z"
   },
   {
    "duration": 25,
    "start_time": "2023-04-10T12:02:34.887Z"
   },
   {
    "duration": 39,
    "start_time": "2023-04-10T12:02:40.209Z"
   },
   {
    "duration": 4,
    "start_time": "2023-04-10T12:02:43.315Z"
   },
   {
    "duration": 4,
    "start_time": "2023-04-10T12:02:49.524Z"
   },
   {
    "duration": 635,
    "start_time": "2023-04-10T12:02:52.012Z"
   },
   {
    "duration": 3,
    "start_time": "2023-04-10T12:03:35.748Z"
   },
   {
    "duration": 401,
    "start_time": "2023-04-10T12:03:39.950Z"
   },
   {
    "duration": 3,
    "start_time": "2023-04-10T12:06:13.708Z"
   },
   {
    "duration": 86,
    "start_time": "2023-04-10T12:06:14.897Z"
   },
   {
    "duration": 3,
    "start_time": "2023-04-10T12:06:25.458Z"
   },
   {
    "duration": 373,
    "start_time": "2023-04-10T12:06:31.485Z"
   },
   {
    "duration": 14,
    "start_time": "2023-04-10T12:08:08.596Z"
   },
   {
    "duration": 52,
    "start_time": "2023-04-10T12:10:26.930Z"
   },
   {
    "duration": 43,
    "start_time": "2023-04-10T12:10:56.499Z"
   },
   {
    "duration": 4,
    "start_time": "2023-04-10T12:11:27.503Z"
   },
   {
    "duration": 5,
    "start_time": "2023-04-10T12:15:36.825Z"
   },
   {
    "duration": 96,
    "start_time": "2023-04-10T12:16:46.383Z"
   },
   {
    "duration": 5,
    "start_time": "2023-04-10T12:16:56.432Z"
   },
   {
    "duration": 715,
    "start_time": "2023-04-10T12:17:58.049Z"
   },
   {
    "duration": 438,
    "start_time": "2023-04-10T12:18:03.809Z"
   },
   {
    "duration": 144,
    "start_time": "2023-04-10T12:18:18.400Z"
   },
   {
    "duration": 376,
    "start_time": "2023-04-10T12:18:23.501Z"
   },
   {
    "duration": 233,
    "start_time": "2023-04-10T12:19:08.793Z"
   },
   {
    "duration": 254,
    "start_time": "2023-04-10T12:19:26.153Z"
   },
   {
    "duration": 12,
    "start_time": "2023-04-10T12:19:33.358Z"
   },
   {
    "duration": 454,
    "start_time": "2023-04-10T12:19:42.158Z"
   },
   {
    "duration": 4,
    "start_time": "2023-04-10T12:21:27.472Z"
   },
   {
    "duration": 6185,
    "start_time": "2023-04-10T12:21:33.959Z"
   },
   {
    "duration": 3,
    "start_time": "2023-04-10T12:24:11.466Z"
   },
   {
    "duration": 8687,
    "start_time": "2023-04-10T12:26:54.833Z"
   },
   {
    "duration": 87,
    "start_time": "2023-04-10T12:28:33.677Z"
   },
   {
    "duration": 282,
    "start_time": "2023-04-10T12:29:33.926Z"
   },
   {
    "duration": 4284,
    "start_time": "2023-04-10T12:37:13.836Z"
   },
   {
    "duration": 643,
    "start_time": "2023-04-10T12:38:02.604Z"
   },
   {
    "duration": 3800,
    "start_time": "2023-04-10T12:38:37.737Z"
   },
   {
    "duration": 2564,
    "start_time": "2023-04-10T12:38:58.862Z"
   },
   {
    "duration": 712,
    "start_time": "2023-04-10T12:39:54.167Z"
   },
   {
    "duration": 4359,
    "start_time": "2023-04-10T12:43:50.465Z"
   },
   {
    "duration": 3,
    "start_time": "2023-04-10T12:44:26.681Z"
   },
   {
    "duration": 270,
    "start_time": "2023-04-10T12:44:27.682Z"
   },
   {
    "duration": 3,
    "start_time": "2023-04-10T12:45:23.300Z"
   },
   {
    "duration": 4349,
    "start_time": "2023-04-10T12:45:25.079Z"
   },
   {
    "duration": 2088,
    "start_time": "2023-04-10T12:46:26.244Z"
   },
   {
    "duration": 11,
    "start_time": "2023-04-10T12:47:16.372Z"
   },
   {
    "duration": 10,
    "start_time": "2023-04-10T12:47:58.230Z"
   },
   {
    "duration": 12,
    "start_time": "2023-04-10T12:48:04.580Z"
   },
   {
    "duration": 5,
    "start_time": "2023-04-10T12:48:22.458Z"
   },
   {
    "duration": 16,
    "start_time": "2023-04-10T12:49:37.696Z"
   },
   {
    "duration": 11,
    "start_time": "2023-04-10T12:52:21.700Z"
   },
   {
    "duration": 39,
    "start_time": "2023-04-10T12:52:30.034Z"
   },
   {
    "duration": 5,
    "start_time": "2023-04-10T12:52:37.029Z"
   },
   {
    "duration": 3763,
    "start_time": "2023-04-10T12:52:55.762Z"
   },
   {
    "duration": 109,
    "start_time": "2023-04-10T12:53:14.719Z"
   },
   {
    "duration": 3172,
    "start_time": "2023-04-10T12:53:33.894Z"
   },
   {
    "duration": 2960,
    "start_time": "2023-04-10T12:54:22.485Z"
   },
   {
    "duration": 127,
    "start_time": "2023-04-10T13:11:30.933Z"
   },
   {
    "duration": 98,
    "start_time": "2023-04-10T13:43:47.159Z"
   },
   {
    "duration": 95,
    "start_time": "2023-04-10T13:44:05.436Z"
   },
   {
    "duration": 1589,
    "start_time": "2023-04-10T13:51:15.568Z"
   },
   {
    "duration": 914,
    "start_time": "2023-04-10T13:51:17.159Z"
   },
   {
    "duration": 17,
    "start_time": "2023-04-10T13:51:18.075Z"
   },
   {
    "duration": 159,
    "start_time": "2023-04-10T13:51:18.095Z"
   },
   {
    "duration": 120,
    "start_time": "2023-04-10T13:51:18.256Z"
   },
   {
    "duration": 365,
    "start_time": "2023-04-10T13:51:18.378Z"
   },
   {
    "duration": 178,
    "start_time": "2023-04-10T13:51:18.745Z"
   },
   {
    "duration": 152,
    "start_time": "2023-04-10T13:51:18.925Z"
   },
   {
    "duration": 133,
    "start_time": "2023-04-10T13:51:19.528Z"
   },
   {
    "duration": 1204,
    "start_time": "2023-04-10T13:51:19.799Z"
   },
   {
    "duration": 494,
    "start_time": "2023-04-10T13:51:21.006Z"
   },
   {
    "duration": 598,
    "start_time": "2023-04-10T13:51:21.502Z"
   },
   {
    "duration": 478,
    "start_time": "2023-04-10T13:51:22.102Z"
   },
   {
    "duration": 95,
    "start_time": "2023-04-10T13:51:22.582Z"
   },
   {
    "duration": 460,
    "start_time": "2023-04-10T13:51:22.679Z"
   },
   {
    "duration": 319,
    "start_time": "2023-04-10T13:51:23.142Z"
   },
   {
    "duration": 28,
    "start_time": "2023-04-10T13:51:23.463Z"
   },
   {
    "duration": 496,
    "start_time": "2023-04-10T13:51:23.503Z"
   },
   {
    "duration": 137,
    "start_time": "2023-04-10T13:51:24.025Z"
   },
   {
    "duration": 38591,
    "start_time": "2023-04-10T13:51:24.263Z"
   },
   {
    "duration": 78,
    "start_time": "2023-04-10T13:52:02.856Z"
   },
   {
    "duration": 95,
    "start_time": "2023-04-10T13:52:02.936Z"
   },
   {
    "duration": 264,
    "start_time": "2023-04-10T13:52:03.034Z"
   },
   {
    "duration": 394,
    "start_time": "2023-04-10T13:52:03.300Z"
   },
   {
    "duration": 264,
    "start_time": "2023-04-10T13:52:03.696Z"
   },
   {
    "duration": 704,
    "start_time": "2023-04-10T13:52:03.962Z"
   },
   {
    "duration": 907,
    "start_time": "2023-04-10T13:52:14.581Z"
   },
   {
    "duration": 5,
    "start_time": "2023-04-10T13:52:16.027Z"
   },
   {
    "duration": 3,
    "start_time": "2023-04-10T13:52:16.512Z"
   },
   {
    "duration": 34954,
    "start_time": "2023-04-10T13:52:17.875Z"
   },
   {
    "duration": 185,
    "start_time": "2023-04-10T13:52:52.839Z"
   },
   {
    "duration": 3,
    "start_time": "2023-04-10T13:53:30.411Z"
   },
   {
    "duration": 100,
    "start_time": "2023-04-10T13:53:49.934Z"
   },
   {
    "duration": 4,
    "start_time": "2023-04-10T13:53:54.800Z"
   },
   {
    "duration": 14,
    "start_time": "2023-04-10T13:54:18.619Z"
   },
   {
    "duration": 218980,
    "start_time": "2023-04-10T13:54:22.169Z"
   },
   {
    "duration": 5011,
    "start_time": "2023-04-10T13:58:46.560Z"
   },
   {
    "duration": 130,
    "start_time": "2023-04-10T13:58:52.882Z"
   },
   {
    "duration": 3,
    "start_time": "2023-04-10T13:59:21.207Z"
   },
   {
    "duration": 4,
    "start_time": "2023-04-10T13:59:32.769Z"
   },
   {
    "duration": 129,
    "start_time": "2023-04-10T13:59:49.714Z"
   },
   {
    "duration": 190,
    "start_time": "2023-04-10T13:59:51.382Z"
   },
   {
    "duration": 25,
    "start_time": "2023-04-10T13:59:53.281Z"
   },
   {
    "duration": 47,
    "start_time": "2023-04-10T13:59:54.639Z"
   },
   {
    "duration": 7,
    "start_time": "2023-04-10T13:59:55.940Z"
   },
   {
    "duration": 235025,
    "start_time": "2023-04-10T14:00:00.162Z"
   },
   {
    "duration": 4,
    "start_time": "2023-04-10T14:04:17.399Z"
   },
   {
    "duration": 75611,
    "start_time": "2023-04-10T14:04:19.659Z"
   },
   {
    "duration": 10,
    "start_time": "2023-04-10T14:10:16.416Z"
   },
   {
    "duration": 909,
    "start_time": "2023-04-10T14:10:17.248Z"
   },
   {
    "duration": 18,
    "start_time": "2023-04-10T14:10:18.175Z"
   },
   {
    "duration": 181,
    "start_time": "2023-04-10T14:10:18.806Z"
   },
   {
    "duration": 105,
    "start_time": "2023-04-10T14:10:19.110Z"
   },
   {
    "duration": 342,
    "start_time": "2023-04-10T14:10:19.449Z"
   },
   {
    "duration": 177,
    "start_time": "2023-04-10T14:10:19.793Z"
   },
   {
    "duration": 99,
    "start_time": "2023-04-10T14:10:21.067Z"
   },
   {
    "duration": 177,
    "start_time": "2023-04-10T14:10:24.402Z"
   },
   {
    "duration": 2043,
    "start_time": "2023-04-10T14:10:35.801Z"
   },
   {
    "duration": 1021,
    "start_time": "2023-04-10T14:10:37.849Z"
   },
   {
    "duration": 17,
    "start_time": "2023-04-10T14:10:39.948Z"
   },
   {
    "duration": 195,
    "start_time": "2023-04-10T14:10:40.803Z"
   },
   {
    "duration": 110,
    "start_time": "2023-04-10T14:10:41.175Z"
   },
   {
    "duration": 326,
    "start_time": "2023-04-10T14:10:41.476Z"
   },
   {
    "duration": 191,
    "start_time": "2023-04-10T14:10:41.942Z"
   },
   {
    "duration": 115,
    "start_time": "2023-04-10T14:10:42.560Z"
   },
   {
    "duration": 147,
    "start_time": "2023-04-10T14:10:43.469Z"
   },
   {
    "duration": 1424,
    "start_time": "2023-04-10T14:10:43.787Z"
   },
   {
    "duration": 507,
    "start_time": "2023-04-10T14:10:45.213Z"
   },
   {
    "duration": 627,
    "start_time": "2023-04-10T14:10:45.721Z"
   },
   {
    "duration": 497,
    "start_time": "2023-04-10T14:10:46.350Z"
   },
   {
    "duration": 83,
    "start_time": "2023-04-10T14:10:46.853Z"
   },
   {
    "duration": 630,
    "start_time": "2023-04-10T14:10:46.940Z"
   },
   {
    "duration": 354,
    "start_time": "2023-04-10T14:10:47.572Z"
   },
   {
    "duration": 38,
    "start_time": "2023-04-10T14:10:47.927Z"
   },
   {
    "duration": 522,
    "start_time": "2023-04-10T14:10:48.451Z"
   },
   {
    "duration": 140,
    "start_time": "2023-04-10T14:10:49.149Z"
   },
   {
    "duration": 44533,
    "start_time": "2023-04-10T14:10:49.449Z"
   },
   {
    "duration": 80,
    "start_time": "2023-04-10T14:11:33.984Z"
   },
   {
    "duration": 96,
    "start_time": "2023-04-10T14:11:34.066Z"
   },
   {
    "duration": 340,
    "start_time": "2023-04-10T14:11:34.164Z"
   },
   {
    "duration": 334,
    "start_time": "2023-04-10T14:11:34.505Z"
   },
   {
    "duration": 370,
    "start_time": "2023-04-10T14:11:34.844Z"
   },
   {
    "duration": 824,
    "start_time": "2023-04-10T14:11:35.219Z"
   },
   {
    "duration": 995,
    "start_time": "2023-04-10T14:11:36.051Z"
   },
   {
    "duration": 5,
    "start_time": "2023-04-10T14:11:37.048Z"
   },
   {
    "duration": 4,
    "start_time": "2023-04-10T14:11:37.414Z"
   },
   {
    "duration": 3,
    "start_time": "2023-04-10T14:11:46.163Z"
   },
   {
    "duration": 5,
    "start_time": "2023-04-10T14:11:54.661Z"
   },
   {
    "duration": 14,
    "start_time": "2023-04-10T14:12:02.919Z"
   },
   {
    "duration": 142,
    "start_time": "2023-04-10T14:12:09.256Z"
   },
   {
    "duration": 164,
    "start_time": "2023-04-10T14:12:10.437Z"
   },
   {
    "duration": 23,
    "start_time": "2023-04-10T14:12:11.473Z"
   },
   {
    "duration": 68,
    "start_time": "2023-04-10T14:12:12.663Z"
   },
   {
    "duration": 4,
    "start_time": "2023-04-10T14:12:14.086Z"
   },
   {
    "duration": 253971,
    "start_time": "2023-04-10T14:12:15.206Z"
   },
   {
    "duration": 45,
    "start_time": "2023-04-10T14:16:32.371Z"
   },
   {
    "duration": 9958,
    "start_time": "2023-04-10T14:16:38.153Z"
   },
   {
    "duration": 67,
    "start_time": "2023-04-10T14:16:50.425Z"
   },
   {
    "duration": 6,
    "start_time": "2023-04-10T14:16:51.520Z"
   },
   {
    "duration": 542617,
    "start_time": "2023-04-10T14:16:53.171Z"
   },
   {
    "duration": 3379,
    "start_time": "2023-04-10T14:30:44.744Z"
   },
   {
    "duration": 3,
    "start_time": "2023-04-10T14:31:30.944Z"
   },
   {
    "duration": 14,
    "start_time": "2023-04-10T14:31:36.396Z"
   },
   {
    "duration": 2117272,
    "start_time": "2023-04-10T14:33:20.071Z"
   },
   {
    "duration": 23926,
    "start_time": "2023-04-10T15:09:54.307Z"
   },
   {
    "duration": 1382,
    "start_time": "2023-04-11T09:23:46.503Z"
   },
   {
    "duration": 2760,
    "start_time": "2023-04-11T09:23:47.888Z"
   },
   {
    "duration": 18,
    "start_time": "2023-04-11T09:23:50.650Z"
   },
   {
    "duration": 151,
    "start_time": "2023-04-11T09:23:50.670Z"
   },
   {
    "duration": 149,
    "start_time": "2023-04-11T09:23:50.824Z"
   },
   {
    "duration": 320,
    "start_time": "2023-04-11T09:23:50.974Z"
   },
   {
    "duration": 146,
    "start_time": "2023-04-11T09:23:51.296Z"
   },
   {
    "duration": 114,
    "start_time": "2023-04-11T09:23:51.443Z"
   },
   {
    "duration": 134,
    "start_time": "2023-04-11T09:23:51.559Z"
   },
   {
    "duration": 1208,
    "start_time": "2023-04-11T09:23:51.695Z"
   },
   {
    "duration": 485,
    "start_time": "2023-04-11T09:23:52.905Z"
   },
   {
    "duration": 592,
    "start_time": "2023-04-11T09:23:53.391Z"
   },
   {
    "duration": 474,
    "start_time": "2023-04-11T09:23:53.985Z"
   },
   {
    "duration": 74,
    "start_time": "2023-04-11T09:23:54.462Z"
   },
   {
    "duration": 460,
    "start_time": "2023-04-11T09:23:54.538Z"
   },
   {
    "duration": 316,
    "start_time": "2023-04-11T09:23:55.000Z"
   },
   {
    "duration": 30,
    "start_time": "2023-04-11T09:23:55.318Z"
   },
   {
    "duration": 507,
    "start_time": "2023-04-11T09:23:55.350Z"
   },
   {
    "duration": 139,
    "start_time": "2023-04-11T09:23:55.859Z"
   },
   {
    "duration": 36585,
    "start_time": "2023-04-11T09:23:56.000Z"
   },
   {
    "duration": 79,
    "start_time": "2023-04-11T09:24:32.587Z"
   },
   {
    "duration": 83,
    "start_time": "2023-04-11T09:24:32.668Z"
   },
   {
    "duration": 293,
    "start_time": "2023-04-11T09:24:32.754Z"
   },
   {
    "duration": 324,
    "start_time": "2023-04-11T09:24:33.049Z"
   },
   {
    "duration": 288,
    "start_time": "2023-04-11T09:24:33.375Z"
   },
   {
    "duration": 960,
    "start_time": "2023-04-11T09:24:33.665Z"
   },
   {
    "duration": 898,
    "start_time": "2023-04-11T09:24:34.627Z"
   },
   {
    "duration": 8,
    "start_time": "2023-04-11T09:24:35.527Z"
   },
   {
    "duration": 33,
    "start_time": "2023-04-11T09:24:35.536Z"
   },
   {
    "duration": 18965,
    "start_time": "2023-04-11T09:24:35.571Z"
   },
   {
    "duration": 198,
    "start_time": "2023-04-11T09:24:54.538Z"
   },
   {
    "duration": 199,
    "start_time": "2023-04-11T09:24:54.739Z"
   },
   {
    "duration": 92,
    "start_time": "2023-04-11T09:24:54.942Z"
   },
   {
    "duration": 228371,
    "start_time": "2023-04-11T09:24:55.036Z"
   },
   {
    "duration": 6304,
    "start_time": "2023-04-11T09:28:43.409Z"
   },
   {
    "duration": 137,
    "start_time": "2023-04-11T09:28:49.715Z"
   },
   {
    "duration": 3,
    "start_time": "2023-04-11T09:28:49.854Z"
   },
   {
    "duration": 486636,
    "start_time": "2023-04-11T09:28:49.859Z"
   },
   {
    "duration": 4102,
    "start_time": "2023-04-11T09:36:56.497Z"
   },
   {
    "duration": 709,
    "start_time": "2023-04-11T09:37:00.601Z"
   },
   {
    "duration": 2,
    "start_time": "2023-04-11T09:37:01.315Z"
   },
   {
    "duration": 220,
    "start_time": "2023-04-11T09:37:01.319Z"
   },
   {
    "duration": 163,
    "start_time": "2023-04-11T09:37:01.541Z"
   },
   {
    "duration": 43,
    "start_time": "2023-04-11T09:37:01.735Z"
   },
   {
    "duration": 94,
    "start_time": "2023-04-11T09:37:01.781Z"
   },
   {
    "duration": 3,
    "start_time": "2023-04-11T09:37:01.877Z"
   },
   {
    "duration": 3374,
    "start_time": "2023-04-11T09:37:01.882Z"
   },
   {
    "duration": 0,
    "start_time": "2023-04-11T09:37:05.258Z"
   },
   {
    "duration": 0,
    "start_time": "2023-04-11T09:37:05.260Z"
   },
   {
    "duration": 0,
    "start_time": "2023-04-11T09:37:05.261Z"
   },
   {
    "duration": 0,
    "start_time": "2023-04-11T09:37:05.262Z"
   },
   {
    "duration": 0,
    "start_time": "2023-04-11T09:37:05.264Z"
   },
   {
    "duration": 1636,
    "start_time": "2023-04-14T15:33:39.747Z"
   },
   {
    "duration": 1092,
    "start_time": "2023-04-14T15:33:41.385Z"
   },
   {
    "duration": 17,
    "start_time": "2023-04-14T15:33:42.479Z"
   },
   {
    "duration": 148,
    "start_time": "2023-04-14T15:33:42.498Z"
   },
   {
    "duration": 108,
    "start_time": "2023-04-14T15:33:42.648Z"
   },
   {
    "duration": 307,
    "start_time": "2023-04-14T15:33:42.758Z"
   },
   {
    "duration": 127,
    "start_time": "2023-04-14T15:33:43.068Z"
   },
   {
    "duration": 113,
    "start_time": "2023-04-14T15:33:43.197Z"
   },
   {
    "duration": 116,
    "start_time": "2023-04-14T15:33:43.647Z"
   },
   {
    "duration": 1143,
    "start_time": "2023-04-14T15:33:44.010Z"
   },
   {
    "duration": 421,
    "start_time": "2023-04-14T15:33:45.155Z"
   },
   {
    "duration": 517,
    "start_time": "2023-04-14T15:33:45.578Z"
   },
   {
    "duration": 407,
    "start_time": "2023-04-14T15:33:46.097Z"
   },
   {
    "duration": 59,
    "start_time": "2023-04-14T15:33:46.506Z"
   },
   {
    "duration": 436,
    "start_time": "2023-04-14T15:33:46.567Z"
   },
   {
    "duration": 298,
    "start_time": "2023-04-14T15:33:47.006Z"
   },
   {
    "duration": 24,
    "start_time": "2023-04-14T15:33:47.306Z"
   },
   {
    "duration": 452,
    "start_time": "2023-04-14T15:33:47.426Z"
   },
   {
    "duration": 133,
    "start_time": "2023-04-14T15:33:47.880Z"
   },
   {
    "duration": 35772,
    "start_time": "2023-04-14T15:33:48.146Z"
   },
   {
    "duration": 81,
    "start_time": "2023-04-14T15:34:23.920Z"
   },
   {
    "duration": 93,
    "start_time": "2023-04-14T15:34:24.003Z"
   },
   {
    "duration": 290,
    "start_time": "2023-04-14T15:34:24.099Z"
   },
   {
    "duration": 290,
    "start_time": "2023-04-14T15:34:24.391Z"
   },
   {
    "duration": 250,
    "start_time": "2023-04-14T15:34:24.685Z"
   },
   {
    "duration": 662,
    "start_time": "2023-04-14T15:34:24.937Z"
   },
   {
    "duration": 847,
    "start_time": "2023-04-14T15:34:25.601Z"
   },
   {
    "duration": 104,
    "start_time": "2023-04-14T15:37:34.732Z"
   },
   {
    "duration": 138,
    "start_time": "2023-04-14T15:37:40.184Z"
   },
   {
    "duration": 28,
    "start_time": "2023-04-14T15:37:43.980Z"
   },
   {
    "duration": 69,
    "start_time": "2023-04-14T15:42:21.050Z"
   },
   {
    "duration": 3,
    "start_time": "2023-04-14T15:43:12.374Z"
   },
   {
    "duration": 5878,
    "start_time": "2023-04-14T15:43:14.416Z"
   },
   {
    "duration": 2455,
    "start_time": "2023-04-14T15:43:39.637Z"
   },
   {
    "duration": 60123,
    "start_time": "2023-04-14T15:45:42.472Z"
   },
   {
    "duration": 7024,
    "start_time": "2023-04-14T15:47:25.066Z"
   },
   {
    "duration": 6835,
    "start_time": "2023-04-14T15:48:00.488Z"
   },
   {
    "duration": 1500,
    "start_time": "2023-04-14T15:51:52.964Z"
   },
   {
    "duration": 939,
    "start_time": "2023-04-14T15:51:54.467Z"
   },
   {
    "duration": 18,
    "start_time": "2023-04-14T15:51:55.408Z"
   },
   {
    "duration": 151,
    "start_time": "2023-04-14T15:51:55.580Z"
   },
   {
    "duration": 98,
    "start_time": "2023-04-14T15:51:55.931Z"
   },
   {
    "duration": 289,
    "start_time": "2023-04-14T15:51:56.199Z"
   },
   {
    "duration": 135,
    "start_time": "2023-04-14T15:51:56.606Z"
   },
   {
    "duration": 112,
    "start_time": "2023-04-14T15:51:57.391Z"
   },
   {
    "duration": 125,
    "start_time": "2023-04-14T15:51:58.758Z"
   },
   {
    "duration": 1087,
    "start_time": "2023-04-14T15:51:58.885Z"
   },
   {
    "duration": 428,
    "start_time": "2023-04-14T15:51:59.973Z"
   },
   {
    "duration": 587,
    "start_time": "2023-04-14T15:52:00.403Z"
   },
   {
    "duration": 404,
    "start_time": "2023-04-14T15:52:00.993Z"
   },
   {
    "duration": 60,
    "start_time": "2023-04-14T15:52:01.399Z"
   },
   {
    "duration": 456,
    "start_time": "2023-04-14T15:52:01.461Z"
   },
   {
    "duration": 296,
    "start_time": "2023-04-14T15:52:01.919Z"
   },
   {
    "duration": 25,
    "start_time": "2023-04-14T15:52:02.216Z"
   },
   {
    "duration": 445,
    "start_time": "2023-04-14T15:52:02.657Z"
   },
   {
    "duration": 126,
    "start_time": "2023-04-14T15:52:03.234Z"
   },
   {
    "duration": 36508,
    "start_time": "2023-04-14T15:52:03.531Z"
   },
   {
    "duration": 70,
    "start_time": "2023-04-14T15:52:40.041Z"
   },
   {
    "duration": 86,
    "start_time": "2023-04-14T15:52:40.113Z"
   },
   {
    "duration": 284,
    "start_time": "2023-04-14T15:52:40.201Z"
   },
   {
    "duration": 294,
    "start_time": "2023-04-14T15:52:40.486Z"
   },
   {
    "duration": 263,
    "start_time": "2023-04-14T15:52:40.781Z"
   },
   {
    "duration": 643,
    "start_time": "2023-04-14T15:52:41.046Z"
   },
   {
    "duration": 887,
    "start_time": "2023-04-14T15:52:41.691Z"
   },
   {
    "duration": 6,
    "start_time": "2023-04-14T15:52:42.580Z"
   },
   {
    "duration": 14,
    "start_time": "2023-04-14T15:52:42.588Z"
   },
   {
    "duration": 15842,
    "start_time": "2023-04-14T15:53:29.647Z"
   },
   {
    "duration": 76,
    "start_time": "2023-04-14T15:53:52.215Z"
   },
   {
    "duration": 137,
    "start_time": "2023-04-14T15:53:57.850Z"
   },
   {
    "duration": 3,
    "start_time": "2023-04-14T15:54:41.374Z"
   },
   {
    "duration": 207049,
    "start_time": "2023-04-14T15:54:47.309Z"
   },
   {
    "duration": 4462,
    "start_time": "2023-04-14T15:58:44.702Z"
   },
   {
    "duration": 127,
    "start_time": "2023-04-14T15:58:49.166Z"
   },
   {
    "duration": 3,
    "start_time": "2023-04-14T15:59:11.973Z"
   },
   {
    "duration": 947684,
    "start_time": "2023-04-14T15:59:19.477Z"
   },
   {
    "duration": 120812,
    "start_time": "2023-04-14T16:15:11.881Z"
   },
   {
    "duration": 570,
    "start_time": "2023-04-14T16:17:12.695Z"
   },
   {
    "duration": 3,
    "start_time": "2023-04-14T16:20:20.048Z"
   },
   {
    "duration": 109,
    "start_time": "2023-04-14T16:20:24.780Z"
   },
   {
    "duration": 128,
    "start_time": "2023-04-14T16:20:25.954Z"
   },
   {
    "duration": 23,
    "start_time": "2023-04-14T16:20:27.454Z"
   },
   {
    "duration": 66,
    "start_time": "2023-04-14T16:20:29.001Z"
   },
   {
    "duration": 3,
    "start_time": "2023-04-14T16:20:31.516Z"
   },
   {
    "duration": 34668,
    "start_time": "2023-04-14T16:20:32.426Z"
   },
   {
    "duration": 2616,
    "start_time": "2023-04-14T16:21:07.096Z"
   },
   {
    "duration": 4,
    "start_time": "2023-04-14T16:21:44.231Z"
   },
   {
    "duration": 9,
    "start_time": "2023-04-14T16:21:52.354Z"
   },
   {
    "duration": 54196,
    "start_time": "2023-04-14T16:22:24.200Z"
   },
   {
    "duration": 6911,
    "start_time": "2023-04-14T16:23:24.101Z"
   },
   {
    "duration": 1841,
    "start_time": "2023-04-15T11:13:07.834Z"
   },
   {
    "duration": 1059,
    "start_time": "2023-04-15T11:13:09.677Z"
   },
   {
    "duration": 18,
    "start_time": "2023-04-15T11:13:10.737Z"
   },
   {
    "duration": 117,
    "start_time": "2023-04-15T11:13:10.758Z"
   },
   {
    "duration": 103,
    "start_time": "2023-04-15T11:13:10.877Z"
   },
   {
    "duration": 315,
    "start_time": "2023-04-15T11:13:10.982Z"
   },
   {
    "duration": 115,
    "start_time": "2023-04-15T11:13:11.299Z"
   },
   {
    "duration": 120,
    "start_time": "2023-04-15T11:13:11.416Z"
   },
   {
    "duration": 125,
    "start_time": "2023-04-15T11:13:11.538Z"
   },
   {
    "duration": 1180,
    "start_time": "2023-04-15T11:13:11.666Z"
   },
   {
    "duration": 406,
    "start_time": "2023-04-15T11:13:12.847Z"
   },
   {
    "duration": 533,
    "start_time": "2023-04-15T11:13:13.255Z"
   },
   {
    "duration": 400,
    "start_time": "2023-04-15T11:13:13.790Z"
   },
   {
    "duration": 61,
    "start_time": "2023-04-15T11:13:14.192Z"
   },
   {
    "duration": 450,
    "start_time": "2023-04-15T11:13:14.255Z"
   },
   {
    "duration": 302,
    "start_time": "2023-04-15T11:13:14.707Z"
   },
   {
    "duration": 28,
    "start_time": "2023-04-15T11:13:15.010Z"
   },
   {
    "duration": 478,
    "start_time": "2023-04-15T11:13:15.040Z"
   },
   {
    "duration": 133,
    "start_time": "2023-04-15T11:13:15.520Z"
   },
   {
    "duration": 35979,
    "start_time": "2023-04-15T11:13:15.655Z"
   },
   {
    "duration": 71,
    "start_time": "2023-04-15T11:13:51.636Z"
   },
   {
    "duration": 86,
    "start_time": "2023-04-15T11:13:51.709Z"
   },
   {
    "duration": 310,
    "start_time": "2023-04-15T11:13:51.797Z"
   },
   {
    "duration": 321,
    "start_time": "2023-04-15T11:13:52.109Z"
   },
   {
    "duration": 269,
    "start_time": "2023-04-15T11:13:52.432Z"
   },
   {
    "duration": 678,
    "start_time": "2023-04-15T11:13:52.703Z"
   },
   {
    "duration": 892,
    "start_time": "2023-04-15T11:13:53.383Z"
   },
   {
    "duration": 3,
    "start_time": "2023-04-15T11:13:54.280Z"
   },
   {
    "duration": 9,
    "start_time": "2023-04-15T11:13:54.292Z"
   },
   {
    "duration": 17790,
    "start_time": "2023-04-15T11:13:54.304Z"
   },
   {
    "duration": 104,
    "start_time": "2023-04-15T11:14:12.096Z"
   },
   {
    "duration": 297,
    "start_time": "2023-04-15T11:14:12.201Z"
   },
   {
    "duration": 91,
    "start_time": "2023-04-15T11:14:12.503Z"
   },
   {
    "duration": 208463,
    "start_time": "2023-04-15T11:14:12.596Z"
   },
   {
    "duration": 4422,
    "start_time": "2023-04-15T11:17:41.061Z"
   },
   {
    "duration": 127,
    "start_time": "2023-04-15T11:17:45.485Z"
   },
   {
    "duration": 3,
    "start_time": "2023-04-15T11:17:45.614Z"
   }
  ],
  "kernelspec": {
   "display_name": "Python 3 (ipykernel)",
   "language": "python",
   "name": "python3"
  },
  "language_info": {
   "codemirror_mode": {
    "name": "ipython",
    "version": 3
   },
   "file_extension": ".py",
   "mimetype": "text/x-python",
   "name": "python",
   "nbconvert_exporter": "python",
   "pygments_lexer": "ipython3",
   "version": "3.9.13"
  },
  "toc": {
   "base_numbering": 1,
   "nav_menu": {},
   "number_sections": true,
   "sideBar": true,
   "skip_h1_title": true,
   "title_cell": "Table of Contents",
   "title_sidebar": "Contents",
   "toc_cell": false,
   "toc_position": {},
   "toc_section_display": true,
   "toc_window_display": false
  }
 },
 "nbformat": 4,
 "nbformat_minor": 2
}

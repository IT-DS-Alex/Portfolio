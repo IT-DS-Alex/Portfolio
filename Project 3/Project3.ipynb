{
 "cells": [
  {
   "cell_type": "markdown",
   "metadata": {},
   "source": [
    "# Исследование объявлений о продаже квартир \n",
    "\n",
    "В вашем распоряжении данные сервиса Яндекс.Недвижимость — архив объявлений о продаже квартир в Санкт-Петербурге и соседних населённых пунктов за несколько лет. Нужно научиться определять рыночную стоимость объектов недвижимости. Ваша задача — установить параметры. Это позволит построить автоматизированную систему: она отследит аномалии и мошенническую деятельность. \n",
    "\n",
    "По каждой квартире на продажу доступны два вида данных. Первые вписаны пользователем, вторые — получены автоматически на основе картографических данных. Например, расстояние до центра, аэропорта, ближайшего парка и водоёма. "
   ]
  },
  {
   "cell_type": "code",
   "execution_count": 1,
   "metadata": {
    "scrolled": false
   },
   "outputs": [
    {
     "data": {
      "text/html": [
       "<div>\n",
       "<style scoped>\n",
       "    .dataframe tbody tr th:only-of-type {\n",
       "        vertical-align: middle;\n",
       "    }\n",
       "\n",
       "    .dataframe tbody tr th {\n",
       "        vertical-align: top;\n",
       "    }\n",
       "\n",
       "    .dataframe thead th {\n",
       "        text-align: right;\n",
       "    }\n",
       "</style>\n",
       "<table border=\"1\" class=\"dataframe\">\n",
       "  <thead>\n",
       "    <tr style=\"text-align: right;\">\n",
       "      <th></th>\n",
       "      <th>total_images</th>\n",
       "      <th>last_price</th>\n",
       "      <th>total_area</th>\n",
       "      <th>first_day_exposition</th>\n",
       "      <th>rooms</th>\n",
       "      <th>ceiling_height</th>\n",
       "      <th>floors_total</th>\n",
       "      <th>living_area</th>\n",
       "      <th>floor</th>\n",
       "      <th>is_apartment</th>\n",
       "      <th>...</th>\n",
       "      <th>kitchen_area</th>\n",
       "      <th>balcony</th>\n",
       "      <th>locality_name</th>\n",
       "      <th>airports_nearest</th>\n",
       "      <th>cityCenters_nearest</th>\n",
       "      <th>parks_around3000</th>\n",
       "      <th>parks_nearest</th>\n",
       "      <th>ponds_around3000</th>\n",
       "      <th>ponds_nearest</th>\n",
       "      <th>days_exposition</th>\n",
       "    </tr>\n",
       "  </thead>\n",
       "  <tbody>\n",
       "    <tr>\n",
       "      <th>0</th>\n",
       "      <td>20</td>\n",
       "      <td>13000000.0</td>\n",
       "      <td>108.0</td>\n",
       "      <td>2019-03-07T00:00:00</td>\n",
       "      <td>3</td>\n",
       "      <td>2.70</td>\n",
       "      <td>16.0</td>\n",
       "      <td>51.0</td>\n",
       "      <td>8</td>\n",
       "      <td>NaN</td>\n",
       "      <td>...</td>\n",
       "      <td>25.0</td>\n",
       "      <td>NaN</td>\n",
       "      <td>Санкт-Петербург</td>\n",
       "      <td>18863.0</td>\n",
       "      <td>16028.0</td>\n",
       "      <td>1.0</td>\n",
       "      <td>482.0</td>\n",
       "      <td>2.0</td>\n",
       "      <td>755.0</td>\n",
       "      <td>NaN</td>\n",
       "    </tr>\n",
       "    <tr>\n",
       "      <th>1</th>\n",
       "      <td>7</td>\n",
       "      <td>3350000.0</td>\n",
       "      <td>40.4</td>\n",
       "      <td>2018-12-04T00:00:00</td>\n",
       "      <td>1</td>\n",
       "      <td>NaN</td>\n",
       "      <td>11.0</td>\n",
       "      <td>18.6</td>\n",
       "      <td>1</td>\n",
       "      <td>NaN</td>\n",
       "      <td>...</td>\n",
       "      <td>11.0</td>\n",
       "      <td>2.0</td>\n",
       "      <td>посёлок Шушары</td>\n",
       "      <td>12817.0</td>\n",
       "      <td>18603.0</td>\n",
       "      <td>0.0</td>\n",
       "      <td>NaN</td>\n",
       "      <td>0.0</td>\n",
       "      <td>NaN</td>\n",
       "      <td>81.0</td>\n",
       "    </tr>\n",
       "    <tr>\n",
       "      <th>2</th>\n",
       "      <td>10</td>\n",
       "      <td>5196000.0</td>\n",
       "      <td>56.0</td>\n",
       "      <td>2015-08-20T00:00:00</td>\n",
       "      <td>2</td>\n",
       "      <td>NaN</td>\n",
       "      <td>5.0</td>\n",
       "      <td>34.3</td>\n",
       "      <td>4</td>\n",
       "      <td>NaN</td>\n",
       "      <td>...</td>\n",
       "      <td>8.3</td>\n",
       "      <td>0.0</td>\n",
       "      <td>Санкт-Петербург</td>\n",
       "      <td>21741.0</td>\n",
       "      <td>13933.0</td>\n",
       "      <td>1.0</td>\n",
       "      <td>90.0</td>\n",
       "      <td>2.0</td>\n",
       "      <td>574.0</td>\n",
       "      <td>558.0</td>\n",
       "    </tr>\n",
       "    <tr>\n",
       "      <th>3</th>\n",
       "      <td>0</td>\n",
       "      <td>64900000.0</td>\n",
       "      <td>159.0</td>\n",
       "      <td>2015-07-24T00:00:00</td>\n",
       "      <td>3</td>\n",
       "      <td>NaN</td>\n",
       "      <td>14.0</td>\n",
       "      <td>NaN</td>\n",
       "      <td>9</td>\n",
       "      <td>NaN</td>\n",
       "      <td>...</td>\n",
       "      <td>NaN</td>\n",
       "      <td>0.0</td>\n",
       "      <td>Санкт-Петербург</td>\n",
       "      <td>28098.0</td>\n",
       "      <td>6800.0</td>\n",
       "      <td>2.0</td>\n",
       "      <td>84.0</td>\n",
       "      <td>3.0</td>\n",
       "      <td>234.0</td>\n",
       "      <td>424.0</td>\n",
       "    </tr>\n",
       "    <tr>\n",
       "      <th>4</th>\n",
       "      <td>2</td>\n",
       "      <td>10000000.0</td>\n",
       "      <td>100.0</td>\n",
       "      <td>2018-06-19T00:00:00</td>\n",
       "      <td>2</td>\n",
       "      <td>3.03</td>\n",
       "      <td>14.0</td>\n",
       "      <td>32.0</td>\n",
       "      <td>13</td>\n",
       "      <td>NaN</td>\n",
       "      <td>...</td>\n",
       "      <td>41.0</td>\n",
       "      <td>NaN</td>\n",
       "      <td>Санкт-Петербург</td>\n",
       "      <td>31856.0</td>\n",
       "      <td>8098.0</td>\n",
       "      <td>2.0</td>\n",
       "      <td>112.0</td>\n",
       "      <td>1.0</td>\n",
       "      <td>48.0</td>\n",
       "      <td>121.0</td>\n",
       "    </tr>\n",
       "  </tbody>\n",
       "</table>\n",
       "<p>5 rows × 22 columns</p>\n",
       "</div>"
      ],
      "text/plain": [
       "   total_images  last_price  total_area first_day_exposition  rooms  \\\n",
       "0            20  13000000.0       108.0  2019-03-07T00:00:00      3   \n",
       "1             7   3350000.0        40.4  2018-12-04T00:00:00      1   \n",
       "2            10   5196000.0        56.0  2015-08-20T00:00:00      2   \n",
       "3             0  64900000.0       159.0  2015-07-24T00:00:00      3   \n",
       "4             2  10000000.0       100.0  2018-06-19T00:00:00      2   \n",
       "\n",
       "   ceiling_height  floors_total  living_area  floor is_apartment  ...  \\\n",
       "0            2.70          16.0         51.0      8          NaN  ...   \n",
       "1             NaN          11.0         18.6      1          NaN  ...   \n",
       "2             NaN           5.0         34.3      4          NaN  ...   \n",
       "3             NaN          14.0          NaN      9          NaN  ...   \n",
       "4            3.03          14.0         32.0     13          NaN  ...   \n",
       "\n",
       "   kitchen_area  balcony    locality_name  airports_nearest  \\\n",
       "0          25.0      NaN  Санкт-Петербург           18863.0   \n",
       "1          11.0      2.0   посёлок Шушары           12817.0   \n",
       "2           8.3      0.0  Санкт-Петербург           21741.0   \n",
       "3           NaN      0.0  Санкт-Петербург           28098.0   \n",
       "4          41.0      NaN  Санкт-Петербург           31856.0   \n",
       "\n",
       "  cityCenters_nearest  parks_around3000  parks_nearest  ponds_around3000  \\\n",
       "0             16028.0               1.0          482.0               2.0   \n",
       "1             18603.0               0.0            NaN               0.0   \n",
       "2             13933.0               1.0           90.0               2.0   \n",
       "3              6800.0               2.0           84.0               3.0   \n",
       "4              8098.0               2.0          112.0               1.0   \n",
       "\n",
       "   ponds_nearest  days_exposition  \n",
       "0          755.0              NaN  \n",
       "1            NaN             81.0  \n",
       "2          574.0            558.0  \n",
       "3          234.0            424.0  \n",
       "4           48.0            121.0  \n",
       "\n",
       "[5 rows x 22 columns]"
      ]
     },
     "metadata": {},
     "output_type": "display_data"
    },
    {
     "data": {
      "text/plain": [
       "array([[<AxesSubplot:title={'center':'total_images'}>,\n",
       "        <AxesSubplot:title={'center':'last_price'}>,\n",
       "        <AxesSubplot:title={'center':'total_area'}>,\n",
       "        <AxesSubplot:title={'center':'rooms'}>],\n",
       "       [<AxesSubplot:title={'center':'ceiling_height'}>,\n",
       "        <AxesSubplot:title={'center':'floors_total'}>,\n",
       "        <AxesSubplot:title={'center':'living_area'}>,\n",
       "        <AxesSubplot:title={'center':'floor'}>],\n",
       "       [<AxesSubplot:title={'center':'kitchen_area'}>,\n",
       "        <AxesSubplot:title={'center':'balcony'}>,\n",
       "        <AxesSubplot:title={'center':'airports_nearest'}>,\n",
       "        <AxesSubplot:title={'center':'cityCenters_nearest'}>],\n",
       "       [<AxesSubplot:title={'center':'parks_around3000'}>,\n",
       "        <AxesSubplot:title={'center':'parks_nearest'}>,\n",
       "        <AxesSubplot:title={'center':'ponds_around3000'}>,\n",
       "        <AxesSubplot:title={'center':'ponds_nearest'}>],\n",
       "       [<AxesSubplot:title={'center':'days_exposition'}>, <AxesSubplot:>,\n",
       "        <AxesSubplot:>, <AxesSubplot:>]], dtype=object)"
      ]
     },
     "execution_count": 1,
     "metadata": {},
     "output_type": "execute_result"
    },
    {
     "data": {
      "image/png": "[encoded data removed]",
      "text/plain": [
       "<Figure size 1080x1440 with 20 Axes>"
      ]
     },
     "metadata": {
      "needs_background": "light"
     },
     "output_type": "display_data"
    }
   ],
   "source": [
    "import pandas as pd\n",
    "import matplotlib.pyplot as plt\n",
    "%matplotlib inline\n",
    "data = pd.read_csv ('/datasets/real_estate_data.csv', sep='\\t')\n",
    "display (data.head())\n",
    "data.hist(figsize=(15, 20))"
   ]
  },
  {
   "cell_type": "code",
   "execution_count": 2,
   "metadata": {},
   "outputs": [
    {
     "data": {
      "text/html": [
       "<div>\n",
       "<style scoped>\n",
       "    .dataframe tbody tr th:only-of-type {\n",
       "        vertical-align: middle;\n",
       "    }\n",
       "\n",
       "    .dataframe tbody tr th {\n",
       "        vertical-align: top;\n",
       "    }\n",
       "\n",
       "    .dataframe thead th {\n",
       "        text-align: right;\n",
       "    }\n",
       "</style>\n",
       "<table border=\"1\" class=\"dataframe\">\n",
       "  <thead>\n",
       "    <tr style=\"text-align: right;\">\n",
       "      <th></th>\n",
       "      <th>total_images</th>\n",
       "      <th>last_price</th>\n",
       "      <th>total_area</th>\n",
       "      <th>rooms</th>\n",
       "      <th>ceiling_height</th>\n",
       "      <th>floors_total</th>\n",
       "      <th>living_area</th>\n",
       "      <th>floor</th>\n",
       "      <th>kitchen_area</th>\n",
       "      <th>balcony</th>\n",
       "      <th>airports_nearest</th>\n",
       "      <th>cityCenters_nearest</th>\n",
       "      <th>parks_around3000</th>\n",
       "      <th>parks_nearest</th>\n",
       "      <th>ponds_around3000</th>\n",
       "      <th>ponds_nearest</th>\n",
       "      <th>days_exposition</th>\n",
       "    </tr>\n",
       "  </thead>\n",
       "  <tbody>\n",
       "    <tr>\n",
       "      <th>count</th>\n",
       "      <td>23699.000000</td>\n",
       "      <td>2.369900e+04</td>\n",
       "      <td>23699.000000</td>\n",
       "      <td>23699.000000</td>\n",
       "      <td>14504.000000</td>\n",
       "      <td>23613.000000</td>\n",
       "      <td>21796.000000</td>\n",
       "      <td>23699.000000</td>\n",
       "      <td>21421.000000</td>\n",
       "      <td>12180.000000</td>\n",
       "      <td>18157.000000</td>\n",
       "      <td>18180.000000</td>\n",
       "      <td>18181.000000</td>\n",
       "      <td>8079.000000</td>\n",
       "      <td>18181.000000</td>\n",
       "      <td>9110.000000</td>\n",
       "      <td>20518.000000</td>\n",
       "    </tr>\n",
       "    <tr>\n",
       "      <th>mean</th>\n",
       "      <td>9.858475</td>\n",
       "      <td>6.541549e+06</td>\n",
       "      <td>60.348651</td>\n",
       "      <td>2.070636</td>\n",
       "      <td>2.771499</td>\n",
       "      <td>10.673824</td>\n",
       "      <td>34.457852</td>\n",
       "      <td>5.892358</td>\n",
       "      <td>10.569807</td>\n",
       "      <td>1.150082</td>\n",
       "      <td>28793.672193</td>\n",
       "      <td>14191.277833</td>\n",
       "      <td>0.611408</td>\n",
       "      <td>490.804555</td>\n",
       "      <td>0.770255</td>\n",
       "      <td>517.980900</td>\n",
       "      <td>180.888634</td>\n",
       "    </tr>\n",
       "    <tr>\n",
       "      <th>std</th>\n",
       "      <td>5.682529</td>\n",
       "      <td>1.088701e+07</td>\n",
       "      <td>35.654083</td>\n",
       "      <td>1.078405</td>\n",
       "      <td>1.261056</td>\n",
       "      <td>6.597173</td>\n",
       "      <td>22.030445</td>\n",
       "      <td>4.885249</td>\n",
       "      <td>5.905438</td>\n",
       "      <td>1.071300</td>\n",
       "      <td>12630.880622</td>\n",
       "      <td>8608.386210</td>\n",
       "      <td>0.802074</td>\n",
       "      <td>342.317995</td>\n",
       "      <td>0.938346</td>\n",
       "      <td>277.720643</td>\n",
       "      <td>219.727988</td>\n",
       "    </tr>\n",
       "    <tr>\n",
       "      <th>min</th>\n",
       "      <td>0.000000</td>\n",
       "      <td>1.219000e+04</td>\n",
       "      <td>12.000000</td>\n",
       "      <td>0.000000</td>\n",
       "      <td>1.000000</td>\n",
       "      <td>1.000000</td>\n",
       "      <td>2.000000</td>\n",
       "      <td>1.000000</td>\n",
       "      <td>1.300000</td>\n",
       "      <td>0.000000</td>\n",
       "      <td>0.000000</td>\n",
       "      <td>181.000000</td>\n",
       "      <td>0.000000</td>\n",
       "      <td>1.000000</td>\n",
       "      <td>0.000000</td>\n",
       "      <td>13.000000</td>\n",
       "      <td>1.000000</td>\n",
       "    </tr>\n",
       "    <tr>\n",
       "      <th>25%</th>\n",
       "      <td>6.000000</td>\n",
       "      <td>3.400000e+06</td>\n",
       "      <td>40.000000</td>\n",
       "      <td>1.000000</td>\n",
       "      <td>2.520000</td>\n",
       "      <td>5.000000</td>\n",
       "      <td>18.600000</td>\n",
       "      <td>2.000000</td>\n",
       "      <td>7.000000</td>\n",
       "      <td>0.000000</td>\n",
       "      <td>18585.000000</td>\n",
       "      <td>9238.000000</td>\n",
       "      <td>0.000000</td>\n",
       "      <td>288.000000</td>\n",
       "      <td>0.000000</td>\n",
       "      <td>294.000000</td>\n",
       "      <td>45.000000</td>\n",
       "    </tr>\n",
       "    <tr>\n",
       "      <th>50%</th>\n",
       "      <td>9.000000</td>\n",
       "      <td>4.650000e+06</td>\n",
       "      <td>52.000000</td>\n",
       "      <td>2.000000</td>\n",
       "      <td>2.650000</td>\n",
       "      <td>9.000000</td>\n",
       "      <td>30.000000</td>\n",
       "      <td>4.000000</td>\n",
       "      <td>9.100000</td>\n",
       "      <td>1.000000</td>\n",
       "      <td>26726.000000</td>\n",
       "      <td>13098.500000</td>\n",
       "      <td>0.000000</td>\n",
       "      <td>455.000000</td>\n",
       "      <td>1.000000</td>\n",
       "      <td>502.000000</td>\n",
       "      <td>95.000000</td>\n",
       "    </tr>\n",
       "    <tr>\n",
       "      <th>75%</th>\n",
       "      <td>14.000000</td>\n",
       "      <td>6.800000e+06</td>\n",
       "      <td>69.900000</td>\n",
       "      <td>3.000000</td>\n",
       "      <td>2.800000</td>\n",
       "      <td>16.000000</td>\n",
       "      <td>42.300000</td>\n",
       "      <td>8.000000</td>\n",
       "      <td>12.000000</td>\n",
       "      <td>2.000000</td>\n",
       "      <td>37273.000000</td>\n",
       "      <td>16293.000000</td>\n",
       "      <td>1.000000</td>\n",
       "      <td>612.000000</td>\n",
       "      <td>1.000000</td>\n",
       "      <td>729.000000</td>\n",
       "      <td>232.000000</td>\n",
       "    </tr>\n",
       "    <tr>\n",
       "      <th>max</th>\n",
       "      <td>50.000000</td>\n",
       "      <td>7.630000e+08</td>\n",
       "      <td>900.000000</td>\n",
       "      <td>19.000000</td>\n",
       "      <td>100.000000</td>\n",
       "      <td>60.000000</td>\n",
       "      <td>409.700000</td>\n",
       "      <td>33.000000</td>\n",
       "      <td>112.000000</td>\n",
       "      <td>5.000000</td>\n",
       "      <td>84869.000000</td>\n",
       "      <td>65968.000000</td>\n",
       "      <td>3.000000</td>\n",
       "      <td>3190.000000</td>\n",
       "      <td>3.000000</td>\n",
       "      <td>1344.000000</td>\n",
       "      <td>1580.000000</td>\n",
       "    </tr>\n",
       "  </tbody>\n",
       "</table>\n",
       "</div>"
      ],
      "text/plain": [
       "       total_images    last_price    total_area         rooms  ceiling_height  \\\n",
       "count  23699.000000  2.369900e+04  23699.000000  23699.000000    14504.000000   \n",
       "mean       9.858475  6.541549e+06     60.348651      2.070636        2.771499   \n",
       "std        5.682529  1.088701e+07     35.654083      1.078405        1.261056   \n",
       "min        0.000000  1.219000e+04     12.000000      0.000000        1.000000   \n",
       "25%        6.000000  3.400000e+06     40.000000      1.000000        2.520000   \n",
       "50%        9.000000  4.650000e+06     52.000000      2.000000        2.650000   \n",
       "75%       14.000000  6.800000e+06     69.900000      3.000000        2.800000   \n",
       "max       50.000000  7.630000e+08    900.000000     19.000000      100.000000   \n",
       "\n",
       "       floors_total   living_area         floor  kitchen_area       balcony  \\\n",
       "count  23613.000000  21796.000000  23699.000000  21421.000000  12180.000000   \n",
       "mean      10.673824     34.457852      5.892358     10.569807      1.150082   \n",
       "std        6.597173     22.030445      4.885249      5.905438      1.071300   \n",
       "min        1.000000      2.000000      1.000000      1.300000      0.000000   \n",
       "25%        5.000000     18.600000      2.000000      7.000000      0.000000   \n",
       "50%        9.000000     30.000000      4.000000      9.100000      1.000000   \n",
       "75%       16.000000     42.300000      8.000000     12.000000      2.000000   \n",
       "max       60.000000    409.700000     33.000000    112.000000      5.000000   \n",
       "\n",
       "       airports_nearest  cityCenters_nearest  parks_around3000  parks_nearest  \\\n",
       "count      18157.000000         18180.000000      18181.000000    8079.000000   \n",
       "mean       28793.672193         14191.277833          0.611408     490.804555   \n",
       "std        12630.880622          8608.386210          0.802074     342.317995   \n",
       "min            0.000000           181.000000          0.000000       1.000000   \n",
       "25%        18585.000000          9238.000000          0.000000     288.000000   \n",
       "50%        26726.000000         13098.500000          0.000000     455.000000   \n",
       "75%        37273.000000         16293.000000          1.000000     612.000000   \n",
       "max        84869.000000         65968.000000          3.000000    3190.000000   \n",
       "\n",
       "       ponds_around3000  ponds_nearest  days_exposition  \n",
       "count      18181.000000    9110.000000     20518.000000  \n",
       "mean           0.770255     517.980900       180.888634  \n",
       "std            0.938346     277.720643       219.727988  \n",
       "min            0.000000      13.000000         1.000000  \n",
       "25%            0.000000     294.000000        45.000000  \n",
       "50%            1.000000     502.000000        95.000000  \n",
       "75%            1.000000     729.000000       232.000000  \n",
       "max            3.000000    1344.000000      1580.000000  "
      ]
     },
     "execution_count": 2,
     "metadata": {},
     "output_type": "execute_result"
    }
   ],
   "source": [
    "data.describe()"
   ]
  },
  {
   "cell_type": "markdown",
   "metadata": {},
   "source": [
    "Вывод: Всего у нас 23699 записей. Для целого ряда столбцов есть пропущенные значения и некорректный тип данных. По ряду признаков есть аномальные значения."
   ]
  },
  {
   "cell_type": "code",
   "execution_count": 3,
   "metadata": {},
   "outputs": [
    {
     "data": {
      "text/html": [
       "<div>\n",
       "<style scoped>\n",
       "    .dataframe tbody tr th:only-of-type {\n",
       "        vertical-align: middle;\n",
       "    }\n",
       "\n",
       "    .dataframe tbody tr th {\n",
       "        vertical-align: top;\n",
       "    }\n",
       "\n",
       "    .dataframe thead th {\n",
       "        text-align: right;\n",
       "    }\n",
       "</style>\n",
       "<table border=\"1\" class=\"dataframe\">\n",
       "  <thead>\n",
       "    <tr style=\"text-align: right;\">\n",
       "      <th></th>\n",
       "      <th>total_images</th>\n",
       "      <th>last_price</th>\n",
       "      <th>total_area</th>\n",
       "      <th>first_day_exposition</th>\n",
       "      <th>rooms</th>\n",
       "      <th>ceiling_height</th>\n",
       "      <th>floors_total</th>\n",
       "      <th>living_area</th>\n",
       "      <th>floor</th>\n",
       "      <th>is_apartment</th>\n",
       "      <th>...</th>\n",
       "      <th>kitchen_area</th>\n",
       "      <th>balcony</th>\n",
       "      <th>locality_name</th>\n",
       "      <th>airports_nearest</th>\n",
       "      <th>cityCenters_nearest</th>\n",
       "      <th>parks_around3000</th>\n",
       "      <th>parks_nearest</th>\n",
       "      <th>ponds_around3000</th>\n",
       "      <th>ponds_nearest</th>\n",
       "      <th>days_exposition</th>\n",
       "    </tr>\n",
       "  </thead>\n",
       "  <tbody>\n",
       "  </tbody>\n",
       "</table>\n",
       "<p>0 rows × 22 columns</p>\n",
       "</div>"
      ],
      "text/plain": [
       "Empty DataFrame\n",
       "Columns: [total_images, last_price, total_area, first_day_exposition, rooms, ceiling_height, floors_total, living_area, floor, is_apartment, studio, open_plan, kitchen_area, balcony, locality_name, airports_nearest, cityCenters_nearest, parks_around3000, parks_nearest, ponds_around3000, ponds_nearest, days_exposition]\n",
       "Index: []\n",
       "\n",
       "[0 rows x 22 columns]"
      ]
     },
     "execution_count": 3,
     "metadata": {},
     "output_type": "execute_result"
    }
   ],
   "source": [
    "data [data.duplicated ()]"
   ]
  },
  {
   "cell_type": "markdown",
   "metadata": {},
   "source": [
    "### Предобработка данных"
   ]
  },
  {
   "cell_type": "markdown",
   "metadata": {},
   "source": [
    "Смотрим перечень названий столбцов:"
   ]
  },
  {
   "cell_type": "code",
   "execution_count": 4,
   "metadata": {},
   "outputs": [
    {
     "data": {
      "text/plain": [
       "Index(['total_images', 'last_price', 'total_area', 'first_day_exposition',\n",
       "       'rooms', 'ceiling_height', 'floors_total', 'living_area', 'floor',\n",
       "       'is_apartment', 'studio', 'open_plan', 'kitchen_area', 'balcony',\n",
       "       'locality_name', 'airports_nearest', 'cityCenters_nearest',\n",
       "       'parks_around3000', 'parks_nearest', 'ponds_around3000',\n",
       "       'ponds_nearest', 'days_exposition'],\n",
       "      dtype='object')"
      ]
     },
     "execution_count": 4,
     "metadata": {},
     "output_type": "execute_result"
    }
   ],
   "source": [
    "data.columns"
   ]
  },
  {
   "cell_type": "markdown",
   "metadata": {},
   "source": [
    "Определяем суммарное количество пропусков:"
   ]
  },
  {
   "cell_type": "code",
   "execution_count": 5,
   "metadata": {},
   "outputs": [
    {
     "data": {
      "text/plain": [
       "total_images                0\n",
       "last_price                  0\n",
       "total_area                  0\n",
       "first_day_exposition        0\n",
       "rooms                       0\n",
       "ceiling_height           9195\n",
       "floors_total               86\n",
       "living_area              1903\n",
       "floor                       0\n",
       "is_apartment            20924\n",
       "studio                      0\n",
       "open_plan                   0\n",
       "kitchen_area             2278\n",
       "balcony                 11519\n",
       "locality_name              49\n",
       "airports_nearest         5542\n",
       "cityCenters_nearest      5519\n",
       "parks_around3000         5518\n",
       "parks_nearest           15620\n",
       "ponds_around3000         5518\n",
       "ponds_nearest           14589\n",
       "days_exposition          3181\n",
       "dtype: int64"
      ]
     },
     "execution_count": 5,
     "metadata": {},
     "output_type": "execute_result"
    }
   ],
   "source": [
    "data.isnull().sum()"
   ]
  },
  {
   "cell_type": "markdown",
   "metadata": {},
   "source": [
    "Пустые значения свидетельствуют, что для некоторых столбцов доступна не вся информация. Причины могут быть разные: ceiling_height (высота потолков (м)) - не указали, можно заменить медийными значениями; floors_total (всего этажей в доме) - не указали, мало пропусков можно удалить; living_area (жилая площадь в квадратных метрах (м²)) - не указали, заменим Nan на 0; is_apartment (апартаменты (булев тип)) - заменим nan на False; kitchen_area (площадь кухни в квадратных метрах (м²)) - заменим Nan на 0;balcony (число балконов) - наверное нет балконов и заменяем на 0; locality_name (название населённого пункта) - не указали, мало пропусков можно удалить; airports_nearest (расстояние до ближайшего аэропорта в метрах (м)) - ;cityCenters_nearest (расстояние до центра города (м)) - не указали, оставляем так; parks_around3000  (число парков в радиусе 3 км) - не указали, оставляем так; parks_nearest (расстояние до ближайшего парка (м)) - не указали, оставляем так; ponds_around3000 (число водоёмов в радиусе 3 км) - не указали, оставляем так; ponds_nearest (расстояние до ближайшего водоёма (м)) - не указали, оставляем так; days_exposition (сколько дней было размещено объявление (от публикации до снятия)) - вычислим последний день публикации и заполним дни публикации зная дату публикации.\n",
    "\n"
   ]
  },
  {
   "cell_type": "markdown",
   "metadata": {},
   "source": [
    "Получаем количество уникальных значений в столбцах:"
   ]
  },
  {
   "cell_type": "code",
   "execution_count": 6,
   "metadata": {},
   "outputs": [
    {
     "data": {
      "text/plain": [
       "total_images              38\n",
       "last_price              2978\n",
       "total_area              2182\n",
       "first_day_exposition    1491\n",
       "rooms                     17\n",
       "ceiling_height           183\n",
       "floors_total              36\n",
       "living_area             1782\n",
       "floor                     33\n",
       "is_apartment               2\n",
       "studio                     2\n",
       "open_plan                  2\n",
       "kitchen_area             971\n",
       "balcony                    6\n",
       "locality_name            364\n",
       "airports_nearest        8275\n",
       "cityCenters_nearest     7642\n",
       "parks_around3000           4\n",
       "parks_nearest            995\n",
       "ponds_around3000           4\n",
       "ponds_nearest           1096\n",
       "days_exposition         1141\n",
       "dtype: int64"
      ]
     },
     "execution_count": 6,
     "metadata": {},
     "output_type": "execute_result"
    }
   ],
   "source": [
    "data.nunique()"
   ]
  },
  {
   "cell_type": "markdown",
   "metadata": {},
   "source": [
    "Проверяем столбцы их уникальных значений:"
   ]
  },
  {
   "cell_type": "code",
   "execution_count": 7,
   "metadata": {},
   "outputs": [
    {
     "name": "stdout",
     "output_type": "stream",
     "text": [
      "[20  7 10  0  2  6  5 18  9  1 16 11  8 12 13  3 15 17 14 19 32  4 35 39\n",
      " 23 21 27 30 24 25 28 31 22 29 26 50 42 37]\n",
      "[13000000.  3350000.  5196000. ...  6151120. 21400000. 11475000.]\n",
      "[108.    40.4   56.   ...  66.86 133.81  76.75]\n",
      "['2019-03-07T00:00:00' '2018-12-04T00:00:00' '2015-08-20T00:00:00' ...\n",
      " '2014-12-29T00:00:00' '2016-09-12T00:00:00' '2015-07-19T00:00:00']\n",
      "[ 3  1  2  4  5  6  0  7 11  8 14 10 15  9 19 16 12]\n",
      "[  2.7     nan   3.03   2.5    2.67   2.56   3.05   2.75   2.6    2.9\n",
      "   2.8    2.55   3.     2.65   3.2    2.61   3.25   3.45   2.77   2.85\n",
      "   2.64   2.57   4.15   3.5    3.3    2.71   4.     2.47   2.73   2.84\n",
      "   3.1    2.34   3.4    3.06   2.72   2.54   2.51   2.78   2.76  25.\n",
      "   2.58   3.7    2.52   5.2    2.87   2.66   2.59   2.     2.45   3.6\n",
      "   2.92   3.11   3.13   3.8    3.15   3.55   3.16   3.62   3.12   2.53\n",
      "   2.74   2.96   2.46   5.3    5.     2.79   2.95   4.06   2.94   3.82\n",
      "   3.54   3.53   2.83   4.7    2.4    3.38   3.01   5.6    3.65   3.9\n",
      "   3.18   3.35   2.3    3.57   2.48   2.62   2.82   3.98   2.63   3.83\n",
      "   3.52   3.95   3.75   2.88   3.67   3.87   3.66   3.85   3.86   4.19\n",
      "   3.24   4.8    4.5    4.2    3.36  32.     3.08   3.68   3.07   3.37\n",
      "   3.09   8.     3.26   3.34   2.81   3.44   2.97   3.14   4.37   2.68\n",
      "   3.22   3.27  27.     4.1    2.93   3.46  24.     3.47   3.33   3.63\n",
      "   3.32  26.     1.2    8.3    2.98   2.86   3.17   4.4    3.28   3.04\n",
      "   4.45   5.5    3.84   3.23   3.02   3.21   3.43   3.78   4.3    3.39\n",
      "   2.69   3.31   4.65   3.56   2.2    3.51   3.93   3.42   2.99   3.49\n",
      "  14.     4.14   2.91   3.88   1.75   4.25   3.29  20.     2.25   3.76\n",
      "   3.69   6.    22.6    2.89   3.58   5.8   27.5    2.49   4.9    3.48\n",
      "  10.3    1.   100.     3.59]\n",
      "[16. 11.  5. 14. 12. 26. 24. 27.  9.  6. 17. 25.  3. 23. 19. 18.  4. 22.\n",
      "  8.  2. 10.  7. 13. 15. nan 20. 28. 36. 21. 35. 34. 60.  1. 29. 33. 52.\n",
      " 37.]\n",
      "[51.   18.6  34.3  ... 31.65 13.59 42.55]\n",
      "[ 8  1  4  9 13  5  6 22 26  7  3  2 11 15 18 10 19 16 20 27 25 17 14 12\n",
      " 21 28 24 23 30 29 32 33 31]\n",
      "[nan False True]\n",
      "[False  True]\n",
      "[False  True]\n",
      "[ 25.    11.     8.3     nan  41.     9.1   14.4   18.9    8.81   6.5\n",
      "   8.5    6.     9.     5.2    8.     7.6    5.6   12.     5.7    6.1\n",
      "  19.6   15.     7.     9.2   11.7   13.4   17.     6.3   11.6    8.8\n",
      "  10.    17.6    7.5    9.5   50.    15.5   10.7   11.1   20.    11.9\n",
      "  16.     5.3   11.5    7.2    6.2   10.4    7.1    4.9    7.3   11.95\n",
      "  10.2    6.4    5.5   13.     8.4   23.6   10.8   18.3    5.     8.2\n",
      "  24.    23.8    6.6   26.85  15.4    7.8   33.8    5.4   12.72  12.2\n",
      "  19.    12.4    7.9   10.3    9.8   17.5   14.7   20.91  21.3   10.6\n",
      "  10.9    9.7    7.7   12.5   11.4    8.6   11.24  14.1   15.7   13.29\n",
      "  14.    12.9   12.7   16.5    9.36  21.5   35.    10.5    8.7   19.3\n",
      "  21.4   40.    49.2   11.52   8.9    9.6   30.    14.2    8.1   10.44\n",
      "   4.5   16.3   11.2   18.4    7.4   11.3    9.4   13.1   10.19   7.06\n",
      "  22.    36.     5.1   18.7    9.9   14.3   18.    23.    19.4   11.8\n",
      "  13.3   17.7   23.1   10.63  21.1   11.33  13.5   19.5   13.2   17.2\n",
      "  77.    13.8   12.3    9.3    5.8   26.1   12.88   9.28  16.1   14.5\n",
      "  31.     5.9   10.1   23.4   16.2   19.2   28.6   15.1   26.4    8.98\n",
      "  10.59  17.9   16.8   11.27  16.74   9.57  23.43  15.2    8.07  12.24\n",
      "  13.39  36.6   10.84  15.3   18.5   23.9   19.7   19.9   22.1   10.35\n",
      "  10.69  16.9    5.49  31.2    6.8    8.29   6.7   13.6   16.6   10.75\n",
      "  18.8   17.8    2.     6.77  11.06  12.6    7.71  27.    11.35  13.31\n",
      "  63.    21.    20.6   11.78  20.5   13.79  20.52   5.75  66.    18.78\n",
      "  23.5   24.3    6.9   14.8    8.87  14.9    8.71   9.95  17.53  42.6\n",
      "  25.2    8.31   9.67  16.7   14.61  32.    22.4   16.4    6.36  17.1\n",
      "  13.14  18.2    9.18  13.7   15.61  22.31   9.45  29.    14.49   5.35\n",
      "  29.9   25.1    8.08  13.11   6.25  26.    35.35  12.8   30.2   10.09\n",
      "  46.    32.1   11.29  14.56  11.11  11.49  13.67  16.72  24.5   11.14\n",
      "  20.9   11.05   4.    14.84   8.21  12.18  25.34   9.25   8.65  13.9\n",
      "  13.53  15.09   9.39  18.6   15.9   24.7   12.35  20.8   27.4    7.17\n",
      "   3.     8.23  24.03   9.17  43.    10.45  11.39  19.92  20.2   10.72\n",
      "  20.07  11.81  18.45  10.51  39.    10.91   6.73  11.85  37.8    4.8\n",
      " 100.7   21.6    5.78  12.1   11.28   9.97  10.68  21.2   10.56   9.68\n",
      "   8.25   4.7   17.4   10.02  40.2   11.62  14.6   11.71  13.69  18.1\n",
      "  22.22  17.3    6.35  23.3   10.88   6.76  28.    10.29  11.63  25.6\n",
      "  19.1   15.6   21.87   3.2   12.27  10.39  10.89  60.    11.53   5.68\n",
      "  10.55  33.     3.8   36.2    9.22   5.62  38.    21.9   12.17  19.8\n",
      "  37.     4.2   21.7   12.38  11.46   7.89  31.7   24.4   14.57  30.9\n",
      "  10.15  12.05   9.27  15.33   6.58   9.93  35.05  25.3   28.8   13.05\n",
      "  29.4   36.5    7.92  15.8   15.69  42.     7.85  13.16  12.86  48.\n",
      "  30.5   29.3   45.     9.32  44.     5.74  11.26  13.38  14.31  26.6\n",
      "   6.55  10.52   6.72  13.02  11.17  56.2   12.52  28.2   12.29  11.59\n",
      "   8.38   5.47  10.18  10.64  18.88   9.89  36.3   12.92  23.53  37.7\n",
      "  10.36  14.05   9.04  10.78  14.24  13.42  32.8   20.16  10.12   7.12\n",
      "  17.64  23.25  11.41  11.42  40.4   31.47  13.55  13.28  14.55   9.38\n",
      "   8.32  11.55  13.81  24.1   11.51   7.65   9.91  16.83  11.34 100.\n",
      "  11.16  18.34  34.19   6.02  18.07  20.1   12.08   7.18   8.11   8.05\n",
      "   8.06  12.96  42.4    8.93  44.9   10.62   9.72  22.5   11.18  10.22\n",
      "  51.    21.8   10.94  13.49  31.73  70.    25.7    5.86   7.63  11.47\n",
      "  13.25  22.2   19.35  17.28  14.04  39.9   21.76   4.3   10.06   8.19\n",
      "  28.4   22.7   14.74  11.12  25.11  14.02  13.06   8.01  20.38   5.53\n",
      "  46.8   11.31  17.85  20.7   34.78   9.46   6.31  42.5    9.48  43.4\n",
      "  11.57  12.44  14.46  12.58  12.47   7.95  16.32  15.26  12.23  11.37\n",
      "  27.9    8.58  19.51  12.39   9.65   9.05   6.84  20.3   26.5   63.4\n",
      "  41.9    6.82  11.36  10.08  10.54   9.16  14.95  12.84  22.9    8.76\n",
      "  10.03   9.35  11.13   7.87   2.89  45.5    7.36  24.9    9.59   7.97\n",
      "   9.85  33.9   42.8    7.86   5.25  10.26   5.33  12.85   9.51  58.4\n",
      "  10.34  23.71  19.42   6.83  11.92  13.17  13.27  11.84  12.56  53.1\n",
      "  20.56  41.3    9.01   8.73   5.82   3.7    2.4   31.8   42.7   40.5\n",
      "  12.02   8.57  12.76   8.66  11.04  40.3   15.83  18.59   9.37  23.38\n",
      "  10.42  13.93   7.54  23.42  13.64   5.61  19.45  17.59  29.1    5.65\n",
      "  15.42  11.09  11.73  15.72  25.4   10.25  10.38  13.41   5.23   9.09\n",
      "  11.45  11.74  14.64  12.14   8.84  16.66  10.27   3.5   12.55  32.55\n",
      "  16.26   6.62  10.33  13.26  32.3   23.2   14.14   9.62  34.    10.92\n",
      "  10.58  22.8   15.85   7.78   8.94   9.82  34.7    8.45  15.62  22.3\n",
      "  14.17  15.39  56.     8.43  87.2   12.66   8.35   8.47  22.72   9.52\n",
      "  28.1   14.97   4.6    5.29  10.49  15.07  15.37  20.31  23.28   8.54\n",
      "  30.59  27.57   9.71  28.63   9.98  37.9    6.91  25.9   47.    51.8\n",
      "  14.27  40.7   19.61   9.44  27.76  25.86  36.4   15.78  10.05  26.2\n",
      "  10.32  19.39   9.77  29.5   13.73  10.71  10.73  13.84   6.19  28.5\n",
      "  16.25  13.47   4.4   43.2   27.5   11.67  44.7   12.57  16.27   6.28\n",
      "  12.01  37.6   13.35   3.4    8.61   8.96  34.8   27.3   10.24   8.15\n",
      "  35.5    4.1   10.43  16.46   7.19  62.    34.3   48.5   30.6   17.55\n",
      "  10.74  13.24   5.91   9.43  20.92   8.13  33.1   10.37  16.77   6.27\n",
      "  26.8   12.37  22.6   33.6    9.76  16.92  15.54   6.23  15.35  37.5\n",
      "  21.82   7.94  34.1    6.03  15.55   8.44  43.8   29.09  18.93  12.75\n",
      "   6.33  24.8    5.64  22.43  39.1   27.6    7.48  32.7    5.44   6.22\n",
      "   7.41  27.1   17.06  75.    34.51   6.26  35.6    9.83  54.3   28.7\n",
      "   3.3   13.63  62.5   10.47  11.87  28.3   11.25   5.42  18.25   8.82\n",
      "   9.58   5.04  13.52  11.44   8.48  13.21   8.03  16.89  26.9   35.4\n",
      "  13.95  14.72   9.34  64.    37.78  23.7   29.8    6.95  16.05  11.65\n",
      "  38.1   10.99  10.86   8.85  14.65   9.24  16.45   7.84  93.2    9.79\n",
      "   7.03  17.12   5.28  12.53  14.51   9.31  31.6   72.     6.86  11.07\n",
      "  14.06  93.     6.93  15.15  32.9    8.34  55.7   24.89  35.9   22.78\n",
      "  16.47  38.86  18.16   8.69  25.5   22.46  13.74  54.2   19.21  31.5\n",
      "  12.11  11.98  10.17  35.7   12.71   2.3   16.07   9.42  20.77  28.64\n",
      "  13.86  10.01  24.2   12.45  12.87  14.33  12.15  39.7   65.     5.06\n",
      "  14.29  14.43  25.02   8.52  11.56  12.89   8.63  13.32  16.42   5.31\n",
      "  14.77  27.2    9.26  14.93  31.4    9.06   6.61  20.4    6.65  19.19\n",
      "  20.24  13.77   6.37  53.    14.58   9.19   8.67  21.22 112.    13.58\n",
      "  12.03  10.87  19.28  16.48  32.6    9.08  12.69   8.09   5.21  12.83\n",
      "  54.    11.64 107.     1.3   55.5   48.3    9.11  21.53  29.86  28.52\n",
      "  15.43  15.57  13.43  19.94   8.77  50.2   15.03  16.38  13.33  12.43\n",
      "  17.61   9.66  12.32  58.    24.6    6.47  41.1    8.12  21.25  10.13\n",
      "  41.6   49.4   12.25  28.56  11.69  14.85  15.18   8.02  11.22   8.95\n",
      "  34.6   29.2    9.73  10.46  26.7   29.7   32.4   12.93  12.63  15.24\n",
      "   8.18  22.15  11.43   7.02  11.93   7.09   6.16   7.15  13.65  10.79\n",
      "  14.98  34.4    5.14   9.75   5.59  35.1   13.04  10.95  16.03   9.13\n",
      "  17.44  40.1    5.85   6.24  21.74  31.3   30.8   16.88  21.55  18.55\n",
      "  17.87  13.83]\n",
      "[nan  2.  0.  1.  5.  4.  3.]\n",
      "['Санкт-Петербург' 'посёлок Шушары' 'городской посёлок Янино-1'\n",
      " 'посёлок Парголово' 'посёлок Мурино' 'Ломоносов' 'Сертолово' 'Петергоф'\n",
      " 'Пушкин' 'деревня Кудрово' 'Коммунар' 'Колпино'\n",
      " 'поселок городского типа Красный Бор' 'Гатчина' 'поселок Мурино'\n",
      " 'деревня Фёдоровское' 'Выборг' 'Кронштадт' 'Кировск'\n",
      " 'деревня Новое Девяткино' 'посёлок Металлострой'\n",
      " 'посёлок городского типа Лебяжье' 'посёлок городского типа Сиверский'\n",
      " 'поселок Молодцово' 'поселок городского типа Кузьмоловский'\n",
      " 'садовое товарищество Новая Ропша' 'Павловск' 'деревня Пикколово'\n",
      " 'Всеволожск' 'Волхов' 'Кингисепп' 'Приозерск' 'Сестрорецк'\n",
      " 'деревня Куттузи' 'посёлок Аннино' 'поселок городского типа Ефимовский'\n",
      " 'посёлок Плодовое' 'деревня Заклинье' 'поселок Торковичи'\n",
      " 'поселок Первомайское' 'Красное Село' 'посёлок Понтонный' 'Сясьстрой'\n",
      " 'деревня Старая' 'деревня Лесколово' 'посёлок Новый Свет' 'Сланцы'\n",
      " 'село Путилово' 'Ивангород' 'Мурино' 'Шлиссельбург' 'Никольское'\n",
      " 'Зеленогорск' 'Сосновый Бор' 'поселок Новый Свет' 'деревня Оржицы'\n",
      " 'деревня Кальтино' 'Кудрово' 'поселок Романовка' 'посёлок Бугры'\n",
      " 'поселок Бугры' 'поселок городского типа Рощино' 'Кириши' 'Луга'\n",
      " 'Волосово' 'Отрадное' 'село Павлово' 'поселок Оредеж' 'село Копорье'\n",
      " 'посёлок городского типа Красный Бор' 'посёлок Молодёжное' 'Тихвин'\n",
      " 'посёлок Победа' 'деревня Нурма' 'поселок городского типа Синявино'\n",
      " 'Тосно' 'посёлок городского типа Кузьмоловский' 'посёлок Стрельна'\n",
      " 'Бокситогорск' 'посёлок Александровская' 'деревня Лопухинка' 'Пикалёво'\n",
      " 'поселок Терволово' 'поселок городского типа Советский' 'Подпорожье'\n",
      " 'посёлок Петровское' 'посёлок городского типа Токсово' 'поселок Сельцо'\n",
      " 'посёлок городского типа Вырица' 'деревня Кипень' 'деревня Келози'\n",
      " 'деревня Вартемяги' 'посёлок Тельмана' 'поселок Севастьяново'\n",
      " 'городской поселок Большая Ижора' nan 'городской посёлок Павлово'\n",
      " 'деревня Агалатово' 'посёлок Новогорелово'\n",
      " 'городской посёлок Лесогорский' 'деревня Лаголово' 'поселок Цвелодубово'\n",
      " 'поселок городского типа Рахья' 'поселок городского типа Вырица'\n",
      " 'деревня Белогорка' 'поселок Заводской' 'городской посёлок Новоселье'\n",
      " 'деревня Большие Колпаны' 'деревня Горбунки' 'деревня Батово'\n",
      " 'деревня Заневка' 'деревня Иссад' 'Приморск'\n",
      " 'городской посёлок Фёдоровское' 'деревня Мистолово' 'Новая Ладога'\n",
      " 'поселок Зимитицы' 'поселок Барышево' 'деревня Разметелево'\n",
      " 'поселок городского типа имени Свердлова' 'деревня Пеники'\n",
      " 'поселок Рябово' 'деревня Пудомяги' 'поселок станции Корнево'\n",
      " 'деревня Низино' 'деревня Бегуницы' 'посёлок Поляны'\n",
      " 'городской посёлок Мга' 'поселок Елизаветино'\n",
      " 'посёлок городского типа Кузнечное' 'деревня Колтуши'\n",
      " 'поселок Запорожское' 'посёлок городского типа Рощино'\n",
      " 'деревня Гостилицы' 'деревня Малое Карлино' 'посёлок Мичуринское'\n",
      " 'посёлок городского типа имени Морозова' 'посёлок Песочный'\n",
      " 'посёлок Сосново' 'деревня Аро' 'поселок Ильичёво'\n",
      " 'посёлок городского типа Тайцы' 'деревня Малое Верево' 'деревня Извара'\n",
      " 'поселок станции Вещево' 'село Паша' 'деревня Калитино'\n",
      " 'посёлок городского типа Ульяновка' 'деревня Чудской Бор'\n",
      " 'поселок городского типа Дубровка' 'деревня Мины' 'поселок Войсковицы'\n",
      " 'посёлок городского типа имени Свердлова' 'деревня Коркино'\n",
      " 'посёлок Ропша' 'поселок городского типа Приладожский' 'посёлок Щеглово'\n",
      " 'посёлок Гаврилово' 'Лодейное Поле' 'деревня Рабитицы'\n",
      " 'поселок городского типа Никольский' 'деревня Кузьмолово'\n",
      " 'деревня Малые Колпаны' 'поселок Тельмана' 'посёлок Петро-Славянка'\n",
      " 'городской посёлок Назия' 'посёлок Репино' 'посёлок Ильичёво'\n",
      " 'поселок Углово' 'поселок Старая Малукса' 'садовое товарищество Рахья'\n",
      " 'поселок Аннино' 'поселок Победа' 'деревня Меньково'\n",
      " 'деревня Старые Бегуницы' 'посёлок Сапёрный' 'поселок Семрино'\n",
      " 'поселок Гаврилово' 'поселок Глажево' 'поселок Кобринское'\n",
      " 'деревня Гарболово' 'деревня Юкки' 'поселок станции Приветнинское'\n",
      " 'деревня Мануйлово' 'деревня Пчева' 'поселок Поляны' 'поселок Цвылёво'\n",
      " 'поселок Мельниково' 'посёлок Пудость' 'посёлок Усть-Луга' 'Светогорск'\n",
      " 'Любань' 'поселок Селезнёво' 'поселок городского типа Рябово'\n",
      " 'Каменногорск' 'деревня Кривко' 'поселок Глебычево' 'деревня Парицы'\n",
      " 'поселок Жилпосёлок' 'посёлок городского типа Мга'\n",
      " 'городской поселок Янино-1' 'посёлок Войскорово' 'село Никольское'\n",
      " 'посёлок Терволово' 'поселок Стеклянный' 'посёлок городского типа Важины'\n",
      " 'посёлок Мыза-Ивановка' 'село Русско-Высоцкое'\n",
      " 'поселок городского типа Лебяжье' 'поселок городского типа Форносово'\n",
      " 'село Старая Ладога' 'поселок Житково' 'городской посёлок Виллози'\n",
      " 'деревня Лампово' 'деревня Шпаньково' 'деревня Лаврики' 'посёлок Сумино'\n",
      " 'посёлок Возрождение' 'деревня Старосиверская' 'посёлок Кикерино'\n",
      " 'поселок Возрождение' 'деревня Старое Хинколово' 'посёлок Пригородный'\n",
      " 'посёлок Торфяное' 'городской посёлок Будогощь' 'поселок Суходолье'\n",
      " 'поселок Красная Долина' 'деревня Хапо-Ое'\n",
      " 'поселок городского типа Дружная Горка' 'поселок Лисий Нос'\n",
      " 'деревня Яльгелево' 'посёлок Стеклянный' 'село Рождествено'\n",
      " 'деревня Старополье' 'посёлок Левашово' 'деревня Сяськелево'\n",
      " 'деревня Камышовка'\n",
      " 'садоводческое некоммерческое товарищество Лесная Поляна'\n",
      " 'деревня Хязельки' 'поселок Жилгородок' 'посёлок городского типа Павлово'\n",
      " 'деревня Ялгино' 'поселок Новый Учхоз' 'городской посёлок Рощино'\n",
      " 'поселок Гончарово' 'поселок Почап' 'посёлок Сапёрное'\n",
      " 'посёлок Платформа 69-й километр' 'поселок Каложицы' 'деревня Фалилеево'\n",
      " 'деревня Пельгора' 'поселок городского типа Лесогорский'\n",
      " 'деревня Торошковичи' 'посёлок Белоостров' 'посёлок Алексеевка'\n",
      " 'поселок Серебрянский' 'поселок Лукаши' 'поселок Петровское'\n",
      " 'деревня Щеглово' 'поселок Мичуринское' 'деревня Тарасово'\n",
      " 'поселок Кингисеппский' 'посёлок при железнодорожной станции Вещево'\n",
      " 'поселок Ушаки' 'деревня Котлы' 'деревня Сижно' 'деревня Торосово'\n",
      " 'посёлок Форт Красная Горка' 'поселок городского типа Токсово'\n",
      " 'деревня Новолисино' 'посёлок станции Громово' 'деревня Глинка'\n",
      " 'посёлок Мельниково' 'поселок городского типа Назия'\n",
      " 'деревня Старая Пустошь' 'поселок Коммунары' 'поселок Починок'\n",
      " 'посёлок городского типа Вознесенье' 'деревня Разбегаево'\n",
      " 'посёлок городского типа Рябово' 'поселок Гладкое'\n",
      " 'посёлок при железнодорожной станции Приветнинское' 'поселок Тёсово-4'\n",
      " 'посёлок Жилгородок' 'деревня Бор' 'посёлок Коробицыно'\n",
      " 'деревня Большая Вруда' 'деревня Курковицы' 'посёлок Лисий Нос'\n",
      " 'городской посёлок Советский' 'посёлок Кобралово' 'деревня Суоранда'\n",
      " 'поселок Кобралово' 'поселок городского типа Кондратьево'\n",
      " 'коттеджный поселок Счастье' 'поселок Любань' 'деревня Реброво'\n",
      " 'деревня Зимитицы' 'деревня Тойворово' 'поселок Семиозерье'\n",
      " 'поселок Лесное' 'поселок Совхозный' 'поселок Усть-Луга'\n",
      " 'посёлок Ленинское' 'посёлок Суйда' 'посёлок городского типа Форносово'\n",
      " 'деревня Нижние Осельки' 'посёлок станции Свирь' 'поселок Перово'\n",
      " 'Высоцк' 'поселок Гарболово' 'село Шум' 'поселок Котельский'\n",
      " 'поселок станции Лужайка' 'деревня Большая Пустомержа'\n",
      " 'поселок Красносельское' 'деревня Вахнова Кара' 'деревня Пижма'\n",
      " 'коттеджный поселок Кивеннапа Север' 'поселок Коробицыно'\n",
      " 'поселок Ромашки' 'посёлок Перово' 'деревня Каськово' 'деревня Куровицы'\n",
      " 'посёлок Плоское' 'поселок Сумино'\n",
      " 'поселок городского типа Большая Ижора' 'поселок Кирпичное'\n",
      " 'деревня Ям-Тесово' 'деревня Раздолье' 'деревня Терпилицы'\n",
      " 'посёлок Шугозеро' 'деревня Ваганово' 'поселок Пушное'\n",
      " 'садовое товарищество Садко' 'посёлок Усть-Ижора' 'деревня Выскатка'\n",
      " 'городской посёлок Свирьстрой' 'поселок Громово' 'деревня Кисельня'\n",
      " 'посёлок Старая Малукса' 'деревня Трубников Бор' 'поселок Калитино'\n",
      " 'посёлок Высокоключевой' 'садовое товарищество Приладожский'\n",
      " 'посёлок Пансионат Зелёный Бор' 'деревня Ненимяки'\n",
      " 'поселок Пансионат Зелёный Бор' 'деревня Снегирёвка' 'деревня Рапполово'\n",
      " 'деревня Пустынка' 'поселок Рабитицы' 'деревня Большой Сабск'\n",
      " 'деревня Русско' 'деревня Лупполово' 'деревня Большое Рейзино'\n",
      " 'деревня Малая Романовка' 'поселок Дружноселье' 'поселок Пчевжа'\n",
      " 'поселок Володарское' 'деревня Нижняя' 'коттеджный посёлок Лесное'\n",
      " 'деревня Тихковицы' 'деревня Борисова Грива' 'посёлок Дзержинского']\n",
      "[18863. 12817. 21741. ... 11751. 20151. 24665.]\n",
      "[16028. 18603. 13933. ... 27977.  7262.  6263.]\n",
      "[ 1.  0.  2. nan  3.]\n",
      "[4.820e+02       nan 9.000e+01 8.400e+01 1.120e+02 3.100e+02 2.940e+02\n",
      " 5.900e+02 4.200e+02 7.590e+02 2.480e+02 5.170e+02 4.110e+02 4.520e+02\n",
      " 5.320e+02 4.590e+02 7.250e+02 4.700e+01 6.200e+02 6.750e+02 5.310e+02\n",
      " 5.260e+02 2.710e+02 3.630e+02 6.480e+02 3.820e+02 3.340e+02 1.670e+02\n",
      " 4.450e+02 2.310e+02 5.110e+02 7.510e+02 6.660e+02 3.840e+02 1.270e+02\n",
      " 2.410e+02 4.880e+02 1.560e+02 5.760e+02 2.850e+02 6.330e+02 1.500e+01\n",
      " 2.150e+02 5.330e+02 1.410e+02 3.660e+02 3.410e+02 5.890e+02 3.440e+02\n",
      " 5.080e+02 4.170e+02 7.620e+02 4.410e+02 5.590e+02 7.490e+02 1.230e+02\n",
      " 5.010e+02 1.000e+01 1.133e+03 1.205e+03 5.160e+02 8.600e+02 2.760e+02\n",
      " 9.800e+02 4.630e+02 5.910e+02 2.390e+02 6.510e+02 1.021e+03 4.850e+02\n",
      " 5.860e+02 3.700e+02 6.880e+02 2.750e+02 5.460e+02 4.660e+02 1.390e+02\n",
      " 2.510e+02 5.370e+02 6.270e+02 1.040e+02 4.500e+02 6.570e+02 5.780e+02\n",
      " 7.700e+01 1.210e+02 3.140e+02 1.950e+02 5.560e+02 4.690e+02 7.500e+01\n",
      " 3.980e+02 6.810e+02 5.000e+01 9.200e+01 9.290e+02 3.200e+02 5.100e+02\n",
      " 7.410e+02 3.570e+02 2.295e+03 6.340e+02 3.770e+02 6.110e+02 3.490e+02\n",
      " 4.510e+02 6.410e+02 3.740e+02 8.350e+02 9.300e+01 5.130e+02 3.010e+02\n",
      " 1.620e+02 1.510e+03 5.190e+02 3.600e+01 5.570e+02 4.210e+02 1.060e+02\n",
      " 5.400e+02 6.300e+02 3.850e+02 4.710e+02 3.250e+02 8.030e+02 4.010e+02\n",
      " 1.850e+02 7.830e+02 3.920e+02 4.680e+02 1.820e+02 2.870e+02 3.090e+02\n",
      " 5.050e+02 1.870e+02 4.530e+02 3.880e+02 6.350e+02 6.530e+02 2.900e+02\n",
      " 5.380e+02 2.260e+02 7.980e+02 6.800e+02 4.160e+02 4.120e+02 1.380e+02\n",
      " 6.370e+02 8.160e+02 7.020e+02 6.060e+02 1.520e+02 2.102e+03 4.600e+02\n",
      " 5.960e+02 6.040e+02 3.280e+02 6.760e+02 5.340e+02 5.580e+02 4.720e+02\n",
      " 1.443e+03 1.590e+02 1.900e+01 5.300e+01 2.070e+02 4.980e+02 5.200e+02\n",
      " 6.450e+02 1.610e+02 7.690e+02 5.800e+02 3.780e+02 4.940e+02 7.140e+02\n",
      " 4.640e+02 4.460e+02 2.200e+02 8.020e+02 2.880e+02 5.150e+02 6.010e+02\n",
      " 1.920e+02 4.560e+02 1.700e+02 6.320e+02 5.870e+02 6.430e+02 9.090e+02\n",
      " 2.910e+02 6.870e+02 7.840e+02 5.060e+02 4.350e+02 4.830e+02 5.200e+01\n",
      " 1.750e+02 4.610e+02 2.330e+02 2.137e+03 2.010e+02 5.630e+02 9.680e+02\n",
      " 2.380e+02 4.760e+02 1.300e+01 3.670e+02 7.350e+02 1.770e+02 2.920e+02\n",
      " 4.700e+02 5.700e+01 3.930e+02 4.960e+02 1.496e+03 1.570e+02 4.390e+02\n",
      " 7.070e+02 2.890e+02 5.990e+02 9.370e+02 5.500e+02 3.990e+02 3.370e+02\n",
      " 1.188e+03 6.100e+01 2.650e+02 1.810e+02 5.360e+02 2.950e+02 2.590e+02\n",
      " 5.210e+02 2.630e+02 2.360e+02 3.910e+02 4.330e+02 2.430e+02 3.680e+02\n",
      " 4.810e+02 4.030e+02 4.250e+02 7.560e+02 7.120e+02 1.940e+02 2.580e+02\n",
      " 4.910e+02 1.470e+02 6.720e+02 7.370e+02 7.000e+02 3.260e+02 6.800e+01\n",
      " 3.360e+02 5.410e+02 8.700e+01 8.230e+02 5.720e+02 2.340e+02 2.245e+03\n",
      " 4.920e+02 2.110e+02 2.700e+01 2.520e+02 3.300e+02 4.200e+01 6.960e+02\n",
      " 3.430e+02 1.960e+02 2.500e+02 1.730e+02 5.920e+02 4.580e+02 6.900e+02\n",
      " 4.970e+02 1.731e+03 3.060e+02 8.420e+02 1.510e+02 6.550e+02 5.070e+02\n",
      " 4.430e+02 5.680e+02 2.270e+02 6.260e+02 1.100e+02 6.500e+02 8.050e+02\n",
      " 6.460e+02 3.020e+02 3.040e+02 6.580e+02 3.180e+02 2.780e+02 2.470e+02\n",
      " 9.340e+02 2.180e+02 1.600e+02 5.420e+02 7.210e+02 6.680e+02 4.570e+02\n",
      " 3.860e+02 2.610e+02 4.140e+02 2.840e+02 8.430e+02 1.440e+02 1.830e+02\n",
      " 5.970e+02 7.900e+02 6.090e+02 9.510e+02 2.100e+02 1.530e+02 2.170e+02\n",
      " 7.100e+02 1.065e+03 1.740e+02 3.500e+01 4.400e+02 3.810e+02 1.100e+01\n",
      " 8.110e+02 6.830e+02 3.350e+02 1.630e+02 3.650e+02 9.200e+02 6.240e+02\n",
      " 4.780e+02 8.500e+02 5.240e+02 5.540e+02 1.550e+02 8.980e+02 3.800e+02\n",
      " 7.150e+02 2.790e+02 3.310e+02 7.390e+02 1.370e+02 6.910e+02 5.100e+01\n",
      " 5.810e+02 5.700e+02 6.440e+02 2.400e+02 1.490e+02 3.640e+02 1.756e+03\n",
      " 2.130e+02 6.380e+02 1.103e+03 2.460e+02 7.600e+01 1.114e+03 1.600e+01\n",
      " 1.790e+02 5.690e+02 5.470e+02 5.520e+02 9.420e+02 1.340e+02 7.380e+02\n",
      " 7.820e+02 6.500e+01 3.890e+02 4.620e+02 3.580e+02 1.780e+02 6.920e+02\n",
      " 9.330e+02 6.820e+02 6.770e+02 6.390e+02 2.000e+01 1.145e+03 6.520e+02\n",
      " 5.350e+02 6.740e+02 5.290e+02 3.540e+02 4.890e+02 3.064e+03 4.470e+02\n",
      " 5.090e+02 5.280e+02 8.300e+02 1.660e+02 6.710e+02 8.700e+02 6.310e+02\n",
      " 4.800e+02 4.070e+02 3.150e+02 7.800e+01 5.740e+02 9.450e+02 8.080e+02\n",
      " 1.080e+02 3.110e+02 4.740e+02 1.514e+03 3.120e+02 4.320e+02 2.570e+02\n",
      " 9.270e+02 3.800e+01 2.230e+02 8.310e+02 2.700e+02 2.665e+03 2.090e+02\n",
      " 9.100e+01 4.480e+02 6.600e+02 1.360e+02 2.060e+02 1.640e+02 4.930e+02\n",
      " 4.420e+02 7.330e+02 2.888e+03 2.300e+02 3.330e+02 3.760e+02 5.650e+02\n",
      " 9.810e+02 1.980e+02 5.600e+02 5.770e+02 3.420e+02 5.610e+02 2.420e+02\n",
      " 2.276e+03 3.590e+02 1.264e+03 5.250e+02 5.450e+02 2.990e+02 9.790e+02\n",
      " 2.930e+02 3.320e+02 7.200e+01 2.450e+02 4.090e+02 1.477e+03 1.140e+02\n",
      " 5.800e+01 5.530e+02 5.880e+02 3.700e+01 3.940e+02 3.600e+02 5.550e+02\n",
      " 4.870e+02 6.190e+02 7.400e+01 3.730e+02 6.210e+02 2.080e+02 7.040e+02\n",
      " 4.990e+02 5.620e+02 4.080e+02 6.170e+02 1.342e+03 4.220e+02 2.560e+02\n",
      " 5.230e+02 2.467e+03 4.550e+02 6.840e+02 1.320e+02 6.030e+02 6.970e+02\n",
      " 4.260e+02 3.900e+02 2.000e+02 4.340e+02 5.480e+02 5.940e+02 5.040e+02\n",
      " 4.100e+01 1.050e+02 5.430e+02 5.440e+02 8.260e+02 3.000e+01 5.020e+02\n",
      " 7.530e+02 8.930e+02 3.870e+02 1.930e+02 8.010e+02 9.400e+01 6.250e+02\n",
      " 7.060e+02 6.360e+02 3.460e+02 7.190e+02 7.170e+02 2.290e+02 4.770e+02\n",
      " 7.320e+02 6.670e+02 4.840e+02 5.300e+02 8.880e+02 9.380e+02 2.348e+03\n",
      " 3.030e+02 9.650e+02 5.140e+02 5.900e+01 5.220e+02 9.000e+00 6.790e+02\n",
      " 2.209e+03 1.880e+02 6.950e+02 9.610e+02 1.304e+03 3.270e+02 1.028e+03\n",
      " 3.790e+02 7.660e+02 1.097e+03 8.900e+02 4.150e+02 2.860e+02 3.560e+02\n",
      " 8.670e+02 7.910e+02 1.300e+02 8.800e+01 2.905e+03 3.070e+02 6.690e+02\n",
      " 3.710e+02 5.030e+02 4.440e+02 1.424e+03 5.660e+02 1.007e+03 5.930e+02\n",
      " 1.362e+03 3.610e+02 1.499e+03 9.600e+01 1.480e+02 1.260e+02 1.690e+02\n",
      " 6.600e+01 9.040e+02 1.272e+03 6.490e+02 7.960e+02 3.900e+01 1.767e+03\n",
      " 7.420e+02 3.620e+02 2.820e+02 9.170e+02 5.510e+02 5.120e+02 4.900e+01\n",
      " 3.230e+02 2.300e+01 2.160e+02 7.800e+02 6.160e+02 6.400e+02 4.240e+02\n",
      " 1.077e+03 1.049e+03 6.980e+02 3.500e+02 4.790e+02 7.870e+02 1.586e+03\n",
      " 3.190e+02 8.290e+02 2.800e+02 4.900e+02 6.000e+02 4.230e+02 6.620e+02\n",
      " 9.160e+02 2.810e+02 7.780e+02 2.690e+02 1.350e+02 4.950e+02 8.790e+02\n",
      " 1.416e+03 2.280e+02 4.130e+02 7.630e+02 2.030e+02 7.310e+02 4.370e+02\n",
      " 5.850e+02 3.400e+02 1.213e+03 6.020e+02 7.890e+02 8.860e+02 7.240e+02\n",
      " 9.700e+01 7.010e+02 2.220e+02 3.000e+02 4.600e+01 4.270e+02 4.280e+02\n",
      " 2.660e+02 4.310e+02 2.100e+01 3.970e+02 6.280e+02 3.050e+02 2.120e+02\n",
      " 6.220e+02 1.700e+01 2.550e+02 1.910e+02 2.066e+03 1.650e+02 3.550e+02\n",
      " 1.280e+02 3.830e+02 2.320e+02 5.180e+02 4.000e+02 7.610e+02 3.220e+02\n",
      " 8.560e+02 1.200e+03 3.520e+02 2.847e+03 6.730e+02 6.860e+02 9.630e+02\n",
      " 5.390e+02 1.420e+02 1.860e+02 4.040e+02 1.802e+03 2.620e+02 6.230e+02\n",
      " 8.500e+01 2.240e+02 8.270e+02 7.090e+02 4.360e+02 4.060e+02 7.360e+02\n",
      " 4.730e+02 9.150e+02 3.290e+02 5.750e+02 4.500e+01 1.181e+03 6.140e+02\n",
      " 2.600e+02 2.409e+03 8.170e+02 9.970e+02 5.790e+02 2.830e+02 1.186e+03\n",
      " 1.596e+03 8.100e+01 1.800e+01 6.940e+02 3.480e+02 3.530e+02 1.020e+02\n",
      " 1.720e+02 5.830e+02 1.290e+02 2.530e+02 7.110e+02 1.190e+03 4.650e+02\n",
      " 5.490e+02 6.100e+02 8.140e+02 7.160e+02 2.770e+02 8.340e+02 1.326e+03\n",
      " 1.240e+02 3.170e+02 9.360e+02 3.390e+02 8.120e+02 4.490e+02 4.190e+02\n",
      " 3.450e+02 1.170e+02 1.840e+02 9.500e+01 2.960e+02 1.580e+02 7.440e+02\n",
      " 6.050e+02 1.228e+03 5.950e+02 9.060e+02 8.090e+02 5.270e+02 7.650e+02\n",
      " 5.600e+01 6.420e+02 6.300e+01 2.416e+03 8.300e+01 9.730e+02 2.670e+02\n",
      " 2.350e+02 6.850e+02 1.970e+02 6.130e+02 5.640e+02 6.180e+02 3.080e+02\n",
      " 2.640e+02 1.199e+03 1.008e+03 8.460e+02 1.074e+03 1.990e+02 6.700e+01\n",
      " 2.400e+01 7.670e+02 1.069e+03 8.200e+01 3.300e+01 3.130e+02 4.670e+02\n",
      " 1.053e+03 7.030e+02 2.740e+02 6.700e+02 1.710e+02 1.010e+02 6.630e+02\n",
      " 1.942e+03 8.000e+02 6.120e+02 9.560e+02 7.640e+02 2.200e+01 4.180e+02\n",
      " 1.130e+02 4.300e+02 1.256e+03 4.860e+02 6.150e+02 1.722e+03 8.620e+02\n",
      " 6.200e+01 6.890e+02 4.290e+02 3.160e+02 1.648e+03 5.000e+02 2.711e+03\n",
      " 2.540e+02 3.720e+02 1.951e+03 5.840e+02 4.020e+02 7.280e+02 3.750e+02\n",
      " 7.290e+02 6.070e+02 8.520e+02 7.180e+02 2.020e+02 2.970e+02 1.760e+02\n",
      " 1.040e+03 4.750e+02 7.050e+02 3.950e+02 2.980e+02 4.100e+02 4.000e+01\n",
      " 1.098e+03 2.633e+03 1.354e+03 3.240e+02 8.060e+02 6.650e+02 4.300e+01\n",
      " 9.190e+02 6.540e+02 1.500e+02 9.660e+02 3.380e+02 1.310e+02 9.210e+02\n",
      " 7.460e+02 6.990e+02 7.540e+02 7.860e+02 1.909e+03 6.290e+02 1.248e+03\n",
      " 2.720e+02 2.747e+03 7.230e+02 9.740e+02 2.040e+02 7.920e+02 4.400e+01\n",
      " 1.680e+02 1.562e+03 8.410e+02 6.080e+02 9.430e+02 1.022e+03 2.250e+02\n",
      " 2.490e+02 2.880e+03 1.160e+02 5.710e+02 5.500e+01 8.680e+02 3.960e+02\n",
      " 1.540e+02 1.180e+02 1.481e+03 5.980e+02 9.520e+02 8.200e+02 1.090e+02\n",
      " 2.218e+03 1.150e+02 2.440e+02 7.100e+01 2.210e+02 8.730e+02 8.690e+02\n",
      " 2.050e+02 3.400e+01 6.900e+01 8.590e+02 9.670e+02 1.150e+03 5.400e+01\n",
      " 6.400e+01 3.510e+02 7.000e+00 1.400e+02 1.086e+03 1.460e+02 1.299e+03\n",
      " 1.501e+03 6.610e+02 2.026e+03 9.130e+02 5.670e+02 2.730e+02 8.040e+02\n",
      " 7.750e+02 1.200e+02 3.470e+02 8.580e+02 1.330e+02 1.030e+02 4.540e+02\n",
      " 1.000e+02 8.280e+02 4.050e+02 4.800e+01 7.220e+02 1.887e+03 1.809e+03\n",
      " 3.690e+02 8.870e+02 8.390e+02 7.270e+02 1.120e+03 7.700e+02 1.900e+02\n",
      " 1.250e+02 1.057e+03 8.610e+02 3.190e+03 9.320e+02 7.400e+02 8.480e+02\n",
      " 1.191e+03 2.131e+03 8.750e+02 7.710e+02 1.041e+03 3.210e+02 6.930e+02\n",
      " 8.600e+01 2.370e+02 1.215e+03 7.970e+02 3.000e+00 9.030e+02 1.790e+03\n",
      " 1.094e+03 7.480e+02 6.560e+02 7.680e+02 6.590e+02 8.320e+02 9.900e+01\n",
      " 1.220e+02 1.800e+02 5.820e+02 1.620e+03 2.800e+01 7.260e+02 1.364e+03\n",
      " 6.000e+01 7.550e+02 7.300e+02 9.410e+02 1.190e+02 1.200e+01 7.300e+01\n",
      " 1.070e+02 1.211e+03 1.270e+03 9.930e+02 1.400e+03 1.000e+00 9.800e+01\n",
      " 7.080e+02 8.890e+02 7.580e+02 1.450e+02 7.450e+02 8.660e+02 1.568e+03\n",
      " 1.079e+03 8.630e+02 1.400e+01 4.380e+02 1.148e+03 1.061e+03 7.930e+02\n",
      " 8.850e+02 2.489e+03 5.730e+02 7.990e+02 1.361e+03 6.780e+02 7.790e+02\n",
      " 1.423e+03 1.064e+03 1.564e+03 2.555e+03 2.427e+03 9.690e+02 7.130e+02\n",
      " 2.532e+03 1.011e+03 1.890e+02 8.530e+02 3.013e+03 1.312e+03 2.190e+02\n",
      " 8.450e+02 6.470e+02 7.940e+02 1.329e+03 8.220e+02 1.262e+03 1.073e+03\n",
      " 1.798e+03 9.850e+02 1.657e+03 7.880e+02 6.640e+02 3.200e+01 7.570e+02\n",
      " 2.680e+02 8.000e+01 2.768e+03 2.009e+03 8.470e+02 7.600e+02 1.167e+03\n",
      " 4.000e+00 2.984e+03]\n",
      "[ 2.  0.  3.  1. nan]\n",
      "[ 755.   nan  574. ...  959.   40. 1134.]\n",
      "[  nan   81.  558. ... 1360. 1007.  971.]\n"
     ]
    }
   ],
   "source": [
    "print (data['total_images'].unique())\n",
    "print (data['last_price'].unique())\n",
    "print (data['total_area'].unique())\n",
    "print (data['first_day_exposition'].unique())\n",
    "print (data['rooms'].unique())\n",
    "print (data['ceiling_height'].unique())\n",
    "print (data['floors_total'].unique())\n",
    "print (data['living_area'].unique())\n",
    "print (data['floor'].unique())\n",
    "print (data['is_apartment'].unique())\n",
    "print (data['studio'].unique())\n",
    "print (data['open_plan'].unique())\n",
    "print (data['kitchen_area'].unique())\n",
    "print (data['balcony'].unique())\n",
    "print (data['locality_name'].unique())\n",
    "print (data['airports_nearest'].unique())\n",
    "print (data['cityCenters_nearest'].unique())\n",
    "print (data['parks_around3000'].unique())\n",
    "print (data['parks_nearest'].unique())\n",
    "print (data['ponds_around3000'].unique())\n",
    "print (data['ponds_nearest'].unique())\n",
    "print (data['days_exposition'].unique())\n"
   ]
  },
  {
   "cell_type": "code",
   "execution_count": 8,
   "metadata": {},
   "outputs": [],
   "source": [
    "data['balcony'] = data['balcony'].fillna(0)\n",
    "data.dropna(subset=['locality_name', 'floors_total'], inplace=True)\n",
    "data.rename(columns = {'cityCenters_nearest':'city_centers_nearest'}, inplace=True)\n",
    "data['is_apartment'].fillna(False, inplace=True)\n",
    "data['ceiling_height'] = data['ceiling_height'].fillna(data.groupby(['rooms','studio','is_apartment'])['ceiling_height'].transform('median'))"
   ]
  },
  {
   "cell_type": "markdown",
   "metadata": {},
   "source": [
    "Чтобы не было путоницы:\"посёлок\" переменуем \"поселок\"."
   ]
  },
  {
   "cell_type": "code",
   "execution_count": 9,
   "metadata": {},
   "outputs": [
    {
     "data": {
      "text/plain": [
       "{'Бокситогорск',\n",
       " 'Волосово',\n",
       " 'Волхов',\n",
       " 'Всеволожск',\n",
       " 'Выборг',\n",
       " 'Высоцк',\n",
       " 'Гатчина',\n",
       " 'Зеленогорск',\n",
       " 'Ивангород',\n",
       " 'Каменногорск',\n",
       " 'Кингисепп',\n",
       " 'Кириши',\n",
       " 'Кировск',\n",
       " 'Колпино',\n",
       " 'Коммунар',\n",
       " 'Красное Село',\n",
       " 'Кронштадт',\n",
       " 'Кудрово',\n",
       " 'Лодейное Поле',\n",
       " 'Ломоносов',\n",
       " 'Луга',\n",
       " 'Любань',\n",
       " 'Мурино',\n",
       " 'Никольское',\n",
       " 'Новая Ладога',\n",
       " 'Отрадное',\n",
       " 'Павловск',\n",
       " 'Петергоф',\n",
       " 'Пикалево',\n",
       " 'Подпорожье',\n",
       " 'Приморск',\n",
       " 'Приозерск',\n",
       " 'Пушкин',\n",
       " 'Санкт-Петербург',\n",
       " 'Светогорск',\n",
       " 'Сертолово',\n",
       " 'Сестрорецк',\n",
       " 'Сланцы',\n",
       " 'Сосновый Бор',\n",
       " 'Сясьстрой',\n",
       " 'Тихвин',\n",
       " 'Тосно',\n",
       " 'Шлиссельбург',\n",
       " 'деревня Агалатово',\n",
       " 'деревня Аро',\n",
       " 'деревня Батово',\n",
       " 'деревня Бегуницы',\n",
       " 'деревня Белогорка',\n",
       " 'деревня Большая Вруда',\n",
       " 'деревня Большая Пустомержа',\n",
       " 'деревня Большие Колпаны',\n",
       " 'деревня Большое Рейзино',\n",
       " 'деревня Большой Сабск',\n",
       " 'деревня Бор',\n",
       " 'деревня Борисова Грива',\n",
       " 'деревня Ваганово',\n",
       " 'деревня Вартемяги',\n",
       " 'деревня Вахнова Кара',\n",
       " 'деревня Выскатка',\n",
       " 'деревня Гарболово',\n",
       " 'деревня Глинка',\n",
       " 'деревня Горбунки',\n",
       " 'деревня Гостилицы',\n",
       " 'деревня Заклинье',\n",
       " 'деревня Заневка',\n",
       " 'деревня Зимитицы',\n",
       " 'деревня Извара',\n",
       " 'деревня Иссад',\n",
       " 'деревня Калитино',\n",
       " 'деревня Кальтино',\n",
       " 'деревня Камышовка',\n",
       " 'деревня Каськово',\n",
       " 'деревня Келози',\n",
       " 'деревня Кипень',\n",
       " 'деревня Кисельня',\n",
       " 'деревня Колтуши',\n",
       " 'деревня Коркино',\n",
       " 'деревня Котлы',\n",
       " 'деревня Кривко',\n",
       " 'деревня Кудрово',\n",
       " 'деревня Кузьмолово',\n",
       " 'деревня Курковицы',\n",
       " 'деревня Куровицы',\n",
       " 'деревня Куттузи',\n",
       " 'деревня Лаврики',\n",
       " 'деревня Лаголово',\n",
       " 'деревня Лампово',\n",
       " 'деревня Лесколово',\n",
       " 'деревня Лопухинка',\n",
       " 'деревня Лупполово',\n",
       " 'деревня Малая Романовка',\n",
       " 'деревня Малое Верево',\n",
       " 'деревня Малое Карлино',\n",
       " 'деревня Малые Колпаны',\n",
       " 'деревня Мануйлово',\n",
       " 'деревня Меньково',\n",
       " 'деревня Мины',\n",
       " 'деревня Мистолово',\n",
       " 'деревня Ненимяки',\n",
       " 'деревня Нижние Осельки',\n",
       " 'деревня Нижняя',\n",
       " 'деревня Низино',\n",
       " 'деревня Новое Девяткино',\n",
       " 'деревня Новолисино',\n",
       " 'деревня Нурма',\n",
       " 'деревня Оржицы',\n",
       " 'деревня Парицы',\n",
       " 'деревня Пельгора',\n",
       " 'деревня Пеники',\n",
       " 'деревня Пижма',\n",
       " 'деревня Пикколово',\n",
       " 'деревня Пудомяги',\n",
       " 'деревня Пустынка',\n",
       " 'деревня Пчева',\n",
       " 'деревня Рабитицы',\n",
       " 'деревня Разбегаево',\n",
       " 'деревня Раздолье',\n",
       " 'деревня Разметелево',\n",
       " 'деревня Рапполово',\n",
       " 'деревня Реброво',\n",
       " 'деревня Русско',\n",
       " 'деревня Сижно',\n",
       " 'деревня Снегиревка',\n",
       " 'деревня Старая',\n",
       " 'деревня Старая Пустошь',\n",
       " 'деревня Старое Хинколово',\n",
       " 'деревня Старополье',\n",
       " 'деревня Старосиверская',\n",
       " 'деревня Старые Бегуницы',\n",
       " 'деревня Суоранда',\n",
       " 'деревня Сяськелево',\n",
       " 'деревня Тарасово',\n",
       " 'деревня Терпилицы',\n",
       " 'деревня Тихковицы',\n",
       " 'деревня Тойворово',\n",
       " 'деревня Торосово',\n",
       " 'деревня Торошковичи',\n",
       " 'деревня Трубников Бор',\n",
       " 'деревня Фалилеево',\n",
       " 'деревня Федоровское',\n",
       " 'деревня Хапо-Ое',\n",
       " 'деревня Хязельки',\n",
       " 'деревня Чудской Бор',\n",
       " 'деревня Шпаньково',\n",
       " 'деревня Щеглово',\n",
       " 'деревня Юкки',\n",
       " 'деревня Ялгино',\n",
       " 'деревня Яльгелево',\n",
       " 'деревня Ям-Тесово',\n",
       " 'коттеджный поселок Кивеннапа Север',\n",
       " 'коттеджный поселок Лесное',\n",
       " 'коттеджный поселок Счастье',\n",
       " 'поселок Александровская',\n",
       " 'поселок Алексеевка',\n",
       " 'поселок Аннино',\n",
       " 'поселок Барышево',\n",
       " 'поселок Белоостров',\n",
       " 'поселок Большая Ижора',\n",
       " 'поселок Бугры',\n",
       " 'поселок Будогощь',\n",
       " 'поселок Важины',\n",
       " 'поселок Виллози',\n",
       " 'поселок Вознесенье',\n",
       " 'поселок Возрождение',\n",
       " 'поселок Войсковицы',\n",
       " 'поселок Войскорово',\n",
       " 'поселок Володарское',\n",
       " 'поселок Вырица',\n",
       " 'поселок Высокоключевой',\n",
       " 'поселок Гаврилово',\n",
       " 'поселок Гарболово',\n",
       " 'поселок Гладкое',\n",
       " 'поселок Глажево',\n",
       " 'поселок Глебычево',\n",
       " 'поселок Гончарово',\n",
       " 'поселок Громово',\n",
       " 'поселок Дзержинского',\n",
       " 'поселок Дружная Горка',\n",
       " 'поселок Дружноселье',\n",
       " 'поселок Дубровка',\n",
       " 'поселок Елизаветино',\n",
       " 'поселок Ефимовский',\n",
       " 'поселок Жилгородок',\n",
       " 'поселок Жилпоселок',\n",
       " 'поселок Житково',\n",
       " 'поселок Заводской',\n",
       " 'поселок Запорожское',\n",
       " 'поселок Зимитицы',\n",
       " 'поселок Ильичево',\n",
       " 'поселок Калитино',\n",
       " 'поселок Каложицы',\n",
       " 'поселок Кикерино',\n",
       " 'поселок Кингисеппский',\n",
       " 'поселок Кирпичное',\n",
       " 'поселок Кобралово',\n",
       " 'поселок Кобринское',\n",
       " 'поселок Коммунары',\n",
       " 'поселок Кондратьево',\n",
       " 'поселок Коробицыно',\n",
       " 'поселок Котельский',\n",
       " 'поселок Красная Долина',\n",
       " 'поселок Красносельское',\n",
       " 'поселок Красный Бор',\n",
       " 'поселок Кузнечное',\n",
       " 'поселок Кузьмоловский',\n",
       " 'поселок Лебяжье',\n",
       " 'поселок Левашово',\n",
       " 'поселок Ленинское',\n",
       " 'поселок Лесное',\n",
       " 'поселок Лесогорский',\n",
       " 'поселок Лисий Нос',\n",
       " 'поселок Лукаши',\n",
       " 'поселок Любань',\n",
       " 'поселок Мга',\n",
       " 'поселок Мельниково',\n",
       " 'поселок Металлострой',\n",
       " 'поселок Мичуринское',\n",
       " 'поселок Молодежное',\n",
       " 'поселок Молодцово',\n",
       " 'поселок Мурино',\n",
       " 'поселок Мыза-Ивановка',\n",
       " 'поселок Назия',\n",
       " 'поселок Никольский',\n",
       " 'поселок Новогорелово',\n",
       " 'поселок Новоселье',\n",
       " 'поселок Новый Свет',\n",
       " 'поселок Новый Учхоз',\n",
       " 'поселок Оредеж',\n",
       " 'поселок Павлово',\n",
       " 'поселок Пансионат Зеленый Бор',\n",
       " 'поселок Парголово',\n",
       " 'поселок Первомайское',\n",
       " 'поселок Перово',\n",
       " 'поселок Песочный',\n",
       " 'поселок Петро-Славянка',\n",
       " 'поселок Петровское',\n",
       " 'поселок Платформа 69-й километр',\n",
       " 'поселок Плодовое',\n",
       " 'поселок Плоское',\n",
       " 'поселок Победа',\n",
       " 'поселок Поляны',\n",
       " 'поселок Понтонный',\n",
       " 'поселок Почап',\n",
       " 'поселок Починок',\n",
       " 'поселок Пригородный',\n",
       " 'поселок Приладожский',\n",
       " 'поселок Пудость',\n",
       " 'поселок Пушное',\n",
       " 'поселок Пчевжа',\n",
       " 'поселок Рабитицы',\n",
       " 'поселок Рахья',\n",
       " 'поселок Репино',\n",
       " 'поселок Романовка',\n",
       " 'поселок Ромашки',\n",
       " 'поселок Ропша',\n",
       " 'поселок Рощино',\n",
       " 'поселок Рябово',\n",
       " 'поселок Саперное',\n",
       " 'поселок Саперный',\n",
       " 'поселок Свирьстрой',\n",
       " 'поселок Севастьяново',\n",
       " 'поселок Селезнево',\n",
       " 'поселок Сельцо',\n",
       " 'поселок Семиозерье',\n",
       " 'поселок Семрино',\n",
       " 'поселок Серебрянский',\n",
       " 'поселок Сиверский',\n",
       " 'поселок Синявино',\n",
       " 'поселок Советский',\n",
       " 'поселок Совхозный',\n",
       " 'поселок Сосново',\n",
       " 'поселок Старая Малукса',\n",
       " 'поселок Стеклянный',\n",
       " 'поселок Стрельна',\n",
       " 'поселок Суйда',\n",
       " 'поселок Сумино',\n",
       " 'поселок Суходолье',\n",
       " 'поселок Тайцы',\n",
       " 'поселок Тельмана',\n",
       " 'поселок Терволово',\n",
       " 'поселок Тесово-4',\n",
       " 'поселок Токсово',\n",
       " 'поселок Торковичи',\n",
       " 'поселок Торфяное',\n",
       " 'поселок Углово',\n",
       " 'поселок Ульяновка',\n",
       " 'поселок Усть-Ижора',\n",
       " 'поселок Усть-Луга',\n",
       " 'поселок Ушаки',\n",
       " 'поселок Федоровское',\n",
       " 'поселок Форносово',\n",
       " 'поселок Форт Красная Горка',\n",
       " 'поселок Цвелодубово',\n",
       " 'поселок Цвылево',\n",
       " 'поселок Шугозеро',\n",
       " 'поселок Шушары',\n",
       " 'поселок Щеглово',\n",
       " 'поселок Янино-1',\n",
       " 'поселок имени Морозова',\n",
       " 'поселок имени Свердлова',\n",
       " 'поселок при железнодорожной станции Вещево',\n",
       " 'поселок при железнодорожной станции Приветнинское',\n",
       " 'поселок станции Вещево',\n",
       " 'поселок станции Громово',\n",
       " 'поселок станции Корнево',\n",
       " 'поселок станции Лужайка',\n",
       " 'поселок станции Приветнинское',\n",
       " 'поселок станции Свирь',\n",
       " 'садоводческое некоммерческое товарищество Лесная Поляна',\n",
       " 'садовое товарищество Новая Ропша',\n",
       " 'садовое товарищество Приладожский',\n",
       " 'садовое товарищество Рахья',\n",
       " 'садовое товарищество Садко',\n",
       " 'село Копорье',\n",
       " 'село Никольское',\n",
       " 'село Павлово',\n",
       " 'село Паша',\n",
       " 'село Путилово',\n",
       " 'село Рождествено',\n",
       " 'село Русско-Высоцкое',\n",
       " 'село Старая Ладога',\n",
       " 'село Шум'}"
      ]
     },
     "metadata": {},
     "output_type": "display_data"
    }
   ],
   "source": [
    "data.locality_name = data.locality_name.str.replace('ё', 'е')\n",
    "data.locality_name = data.locality_name.str.replace('поселок городского типа', 'поселок')\n",
    "data.locality_name = data.locality_name.str.replace('городской поселок', 'поселок')\n",
    "\n",
    "sorted_locality_name = set(data['locality_name'].unique())\n",
    "display(sorted_locality_name) "
   ]
  },
  {
   "cell_type": "markdown",
   "metadata": {},
   "source": [
    "У всех квартир с 0 комнат и не-студий указана living_area. Получается 1 комната там есть, поменяем 0 на 1 и не будем путаться."
   ]
  },
  {
   "cell_type": "code",
   "execution_count": 10,
   "metadata": {},
   "outputs": [],
   "source": [
    "data.loc[(data['rooms'] == 0) & (data['studio']==False), 'rooms'] = 1"
   ]
  },
  {
   "cell_type": "markdown",
   "metadata": {},
   "source": [
    "Найдем коэффициент жилой площади и коэффициент кухни ко всей площади:"
   ]
  },
  {
   "cell_type": "code",
   "execution_count": 11,
   "metadata": {},
   "outputs": [
    {
     "name": "stdout",
     "output_type": "stream",
     "text": [
      "0.5769230769230769\n",
      "0.175\n"
     ]
    }
   ],
   "source": [
    "liv_coef = data['living_area'].median() / data['total_area'].median()\n",
    "print (liv_coef)\n",
    "kitch_coef = data['kitchen_area'].median() / data['total_area'].median()\n",
    "print (kitch_coef)"
   ]
  },
  {
   "cell_type": "markdown",
   "metadata": {},
   "source": [
    "Нулевых значений в living_area и kitchen_area нет, поэтому для удобства заменим Nan на 0."
   ]
  },
  {
   "cell_type": "code",
   "execution_count": 12,
   "metadata": {},
   "outputs": [],
   "source": [
    "data['living_area'].fillna(0, inplace=True)\n",
    "data['living_area_new'] = data.apply(lambda x:x['total_area'] * liv_coef if x['living_area'] == 0 else x['living_area'], axis = 1)\n",
    "data['living_area'] = data['living_area_new']\n",
    "data.drop(['living_area_new'], axis='columns', inplace=True)\n",
    "\n",
    "data['kitchen_area'].fillna(0, inplace=True)\n",
    "kitch_coef = data['kitchen_area'].median() / data['total_area'].median()\n",
    "data['kitchen_area_new'] = data.apply(lambda x:x['total_area'] * kitch_coef if x['kitchen_area'] == 0 else x['kitchen_area'], axis = 1)\n",
    "data['kitchen_area'] = data['kitchen_area_new']\n",
    "data.drop(['kitchen_area_new'], axis='columns', inplace=True)"
   ]
  },
  {
   "cell_type": "markdown",
   "metadata": {},
   "source": [
    "Вычислим последний день публикации и заполним дни публикации зная дату публикации:"
   ]
  },
  {
   "cell_type": "code",
   "execution_count": 13,
   "metadata": {},
   "outputs": [
    {
     "data": {
      "text/plain": [
       "<AxesSubplot:xlabel='days_exposition'>"
      ]
     },
     "execution_count": 13,
     "metadata": {},
     "output_type": "execute_result"
    },
    {
     "data": {
      "image/png": "[encoded data removed]",
      "text/plain": [
       "<Figure size 432x288 with 1 Axes>"
      ]
     },
     "metadata": {
      "needs_background": "light"
     },
     "output_type": "display_data"
    }
   ],
   "source": [
    "from datetime import datetime\n",
    "data['first_day_exposition'] = pd.to_datetime(data['first_day_exposition'])\n",
    "data['days_exposition'].fillna(0, inplace=True)\n",
    "data['days_exposition'] = data['days_exposition'].astype('int64')\n",
    "\n",
    "def date(row):\n",
    "    return row['first_day_exposition'] + pd.Timedelta(days = row['days_exposition'])\n",
    "data['last_day_exposition'] = data.apply(date, axis = 1)\n",
    "\n",
    "max_date = data['last_day_exposition'].max()\n",
    "for row in data:\n",
    "    if data['days_exposition'] is None:\n",
    "        data['days_exposition'] = max_date - data['first_day_exposition']\n",
    "\n",
    "data.groupby('days_exposition').first_day_exposition.nunique().to_frame('uniq_pids').plot.bar(rot=0)"
   ]
  },
  {
   "cell_type": "code",
   "execution_count": 14,
   "metadata": {},
   "outputs": [
    {
     "data": {
      "text/plain": [
       "total_images                0\n",
       "last_price                  0\n",
       "total_area                  0\n",
       "first_day_exposition        0\n",
       "rooms                       0\n",
       "ceiling_height              2\n",
       "floors_total                0\n",
       "living_area                 0\n",
       "floor                       0\n",
       "is_apartment                0\n",
       "studio                      0\n",
       "open_plan                   0\n",
       "kitchen_area                0\n",
       "balcony                     0\n",
       "locality_name               0\n",
       "airports_nearest         5524\n",
       "city_centers_nearest     5501\n",
       "parks_around3000         5500\n",
       "parks_nearest           15535\n",
       "ponds_around3000         5500\n",
       "ponds_nearest           14529\n",
       "days_exposition             0\n",
       "last_day_exposition         0\n",
       "dtype: int64"
      ]
     },
     "execution_count": 14,
     "metadata": {},
     "output_type": "execute_result"
    }
   ],
   "source": [
    "data.isnull().sum()"
   ]
  },
  {
   "cell_type": "markdown",
   "metadata": {},
   "source": [
    "Рассмотрим типы данных в каждом столбце:"
   ]
  },
  {
   "cell_type": "code",
   "execution_count": 15,
   "metadata": {},
   "outputs": [
    {
     "name": "stdout",
     "output_type": "stream",
     "text": [
      "<class 'pandas.core.frame.DataFrame'>\n",
      "Int64Index: 23565 entries, 0 to 23698\n",
      "Data columns (total 23 columns):\n",
      " #   Column                Non-Null Count  Dtype         \n",
      "---  ------                --------------  -----         \n",
      " 0   total_images          23565 non-null  int64         \n",
      " 1   last_price            23565 non-null  float64       \n",
      " 2   total_area            23565 non-null  float64       \n",
      " 3   first_day_exposition  23565 non-null  datetime64[ns]\n",
      " 4   rooms                 23565 non-null  int64         \n",
      " 5   ceiling_height        23563 non-null  float64       \n",
      " 6   floors_total          23565 non-null  float64       \n",
      " 7   living_area           23565 non-null  float64       \n",
      " 8   floor                 23565 non-null  int64         \n",
      " 9   is_apartment          23565 non-null  bool          \n",
      " 10  studio                23565 non-null  bool          \n",
      " 11  open_plan             23565 non-null  bool          \n",
      " 12  kitchen_area          23565 non-null  float64       \n",
      " 13  balcony               23565 non-null  float64       \n",
      " 14  locality_name         23565 non-null  object        \n",
      " 15  airports_nearest      18041 non-null  float64       \n",
      " 16  city_centers_nearest  18064 non-null  float64       \n",
      " 17  parks_around3000      18065 non-null  float64       \n",
      " 18  parks_nearest         8030 non-null   float64       \n",
      " 19  ponds_around3000      18065 non-null  float64       \n",
      " 20  ponds_nearest         9036 non-null   float64       \n",
      " 21  days_exposition       23565 non-null  int64         \n",
      " 22  last_day_exposition   23565 non-null  datetime64[ns]\n",
      "dtypes: bool(3), datetime64[ns](2), float64(13), int64(4), object(1)\n",
      "memory usage: 3.8+ MB\n"
     ]
    }
   ],
   "source": [
    "data.info()"
   ]
  },
  {
   "cell_type": "markdown",
   "metadata": {},
   "source": [
    "last_price (цена на момент снятия с публикации), floors_total (всего этажей в доме), balcony (число балконов) - float64, но должен быть int64. \n"
   ]
  },
  {
   "cell_type": "code",
   "execution_count": 16,
   "metadata": {},
   "outputs": [],
   "source": [
    "data['last_price']= data['last_price'].astype('int')\n",
    "data['floors_total'] = data['floors_total'].astype('int')\n",
    "data['balcony'] = data['balcony'].astype('int') \n",
    "data['parks_around3000'] = data['parks_around3000'].fillna(value=0).astype('int')\n",
    "data['ponds_around3000'] = data['ponds_around3000'].fillna(value=0).astype('int')"
   ]
  },
  {
   "cell_type": "markdown",
   "metadata": {},
   "source": [
    "Округляем значения до 2 цифр после запятой:"
   ]
  },
  {
   "cell_type": "code",
   "execution_count": 17,
   "metadata": {},
   "outputs": [],
   "source": [
    "for column in ['total_area', 'ceiling_height', 'living_area', 'kitchen_area']:\n",
    "    data[column] = data[data[column].notnull()][column].round(2)"
   ]
  },
  {
   "cell_type": "markdown",
   "metadata": {},
   "source": [
    "### Новые столбцы"
   ]
  },
  {
   "cell_type": "markdown",
   "metadata": {},
   "source": [
    "Добавим этажи: первый, последний и другой."
   ]
  },
  {
   "cell_type": "code",
   "execution_count": 18,
   "metadata": {},
   "outputs": [],
   "source": [
    "def floor_category(row):\n",
    "    floors_total = row['floors_total']\n",
    "    floor = row['floor']\n",
    "    if floor == 1:\n",
    "        return 'первый'\n",
    "    elif floor == floors_total:\n",
    "        return 'последний'\n",
    "    elif 1 < floor < floors_total:\n",
    "        return 'другой'\n",
    "data['floor_category'] = data.apply(floor_category, axis = 1)"
   ]
  },
  {
   "cell_type": "markdown",
   "metadata": {},
   "source": [
    "Добавим цену квадратного метра."
   ]
  },
  {
   "cell_type": "code",
   "execution_count": 19,
   "metadata": {},
   "outputs": [],
   "source": [
    "data['price_per_meter'] = data['last_price'] / data['total_area']\n",
    "data['price_per_meter'] = data['price_per_meter'].round(decimals=2)"
   ]
  },
  {
   "cell_type": "markdown",
   "metadata": {},
   "source": [
    "Добавим столбцы дни недели, месяц, год публикации объявления."
   ]
  },
  {
   "cell_type": "code",
   "execution_count": 20,
   "metadata": {},
   "outputs": [],
   "source": [
    "data['weekday_exposition'] = data['first_day_exposition'].dt.weekday\n",
    "data['month_exposition'] = data['first_day_exposition'].dt.month\n",
    "data['year_exposition'] = data['first_day_exposition'].dt.year\n",
    "\n",
    "#dict_of_weekdays = {1: 'понедельник', 2: 'вторник', 3: 'среда', 4: 'четверг', 5: 'пятница', 6: 'суббота', 7: 'воскресенье'}\n",
    "#data['weekday_exposition'] = data['weekday_exposition'].map(dict_of_weekdays)"
   ]
  },
  {
   "cell_type": "markdown",
   "metadata": {},
   "source": [
    "Добавим столбцы отношения жилой площади и площади кухни ко всей площади:"
   ]
  },
  {
   "cell_type": "code",
   "execution_count": 21,
   "metadata": {},
   "outputs": [],
   "source": [
    "data['living_ratio_total'] = data['living_area'] / data['total_area']\n",
    "data['kitchen_ratio_total'] = data['kitchen_area'] / data['total_area']"
   ]
  },
  {
   "cell_type": "markdown",
   "metadata": {},
   "source": [
    "Добавим расстояние до центра города в километрах."
   ]
  },
  {
   "cell_type": "code",
   "execution_count": 22,
   "metadata": {},
   "outputs": [],
   "source": [
    "data['center_km'] = data['city_centers_nearest'] / 1000\n",
    "data['center_km'] = data['center_km'].fillna(value=0).astype(int)"
   ]
  },
  {
   "cell_type": "code",
   "execution_count": 23,
   "metadata": {},
   "outputs": [
    {
     "data": {
      "text/html": [
       "<div>\n",
       "<style scoped>\n",
       "    .dataframe tbody tr th:only-of-type {\n",
       "        vertical-align: middle;\n",
       "    }\n",
       "\n",
       "    .dataframe tbody tr th {\n",
       "        vertical-align: top;\n",
       "    }\n",
       "\n",
       "    .dataframe thead th {\n",
       "        text-align: right;\n",
       "    }\n",
       "</style>\n",
       "<table border=\"1\" class=\"dataframe\">\n",
       "  <thead>\n",
       "    <tr style=\"text-align: right;\">\n",
       "      <th></th>\n",
       "      <th>total_images</th>\n",
       "      <th>last_price</th>\n",
       "      <th>total_area</th>\n",
       "      <th>first_day_exposition</th>\n",
       "      <th>rooms</th>\n",
       "      <th>ceiling_height</th>\n",
       "      <th>floors_total</th>\n",
       "      <th>living_area</th>\n",
       "      <th>floor</th>\n",
       "      <th>is_apartment</th>\n",
       "      <th>...</th>\n",
       "      <th>days_exposition</th>\n",
       "      <th>last_day_exposition</th>\n",
       "      <th>floor_category</th>\n",
       "      <th>price_per_meter</th>\n",
       "      <th>weekday_exposition</th>\n",
       "      <th>month_exposition</th>\n",
       "      <th>year_exposition</th>\n",
       "      <th>living_ratio_total</th>\n",
       "      <th>kitchen_ratio_total</th>\n",
       "      <th>center_km</th>\n",
       "    </tr>\n",
       "  </thead>\n",
       "  <tbody>\n",
       "    <tr>\n",
       "      <th>0</th>\n",
       "      <td>20</td>\n",
       "      <td>13000000</td>\n",
       "      <td>108.0</td>\n",
       "      <td>2019-03-07</td>\n",
       "      <td>3</td>\n",
       "      <td>2.70</td>\n",
       "      <td>16</td>\n",
       "      <td>51.00</td>\n",
       "      <td>8</td>\n",
       "      <td>False</td>\n",
       "      <td>...</td>\n",
       "      <td>0</td>\n",
       "      <td>2019-03-07</td>\n",
       "      <td>другой</td>\n",
       "      <td>120370.37</td>\n",
       "      <td>3</td>\n",
       "      <td>3</td>\n",
       "      <td>2019</td>\n",
       "      <td>0.472222</td>\n",
       "      <td>0.231481</td>\n",
       "      <td>16</td>\n",
       "    </tr>\n",
       "    <tr>\n",
       "      <th>1</th>\n",
       "      <td>7</td>\n",
       "      <td>3350000</td>\n",
       "      <td>40.4</td>\n",
       "      <td>2018-12-04</td>\n",
       "      <td>1</td>\n",
       "      <td>2.64</td>\n",
       "      <td>11</td>\n",
       "      <td>18.60</td>\n",
       "      <td>1</td>\n",
       "      <td>False</td>\n",
       "      <td>...</td>\n",
       "      <td>81</td>\n",
       "      <td>2019-02-23</td>\n",
       "      <td>первый</td>\n",
       "      <td>82920.79</td>\n",
       "      <td>1</td>\n",
       "      <td>12</td>\n",
       "      <td>2018</td>\n",
       "      <td>0.460396</td>\n",
       "      <td>0.272277</td>\n",
       "      <td>18</td>\n",
       "    </tr>\n",
       "    <tr>\n",
       "      <th>2</th>\n",
       "      <td>10</td>\n",
       "      <td>5196000</td>\n",
       "      <td>56.0</td>\n",
       "      <td>2015-08-20</td>\n",
       "      <td>2</td>\n",
       "      <td>2.60</td>\n",
       "      <td>5</td>\n",
       "      <td>34.30</td>\n",
       "      <td>4</td>\n",
       "      <td>False</td>\n",
       "      <td>...</td>\n",
       "      <td>558</td>\n",
       "      <td>2017-02-28</td>\n",
       "      <td>другой</td>\n",
       "      <td>92785.71</td>\n",
       "      <td>3</td>\n",
       "      <td>8</td>\n",
       "      <td>2015</td>\n",
       "      <td>0.612500</td>\n",
       "      <td>0.148214</td>\n",
       "      <td>13</td>\n",
       "    </tr>\n",
       "    <tr>\n",
       "      <th>3</th>\n",
       "      <td>0</td>\n",
       "      <td>64900000</td>\n",
       "      <td>159.0</td>\n",
       "      <td>2015-07-24</td>\n",
       "      <td>3</td>\n",
       "      <td>2.65</td>\n",
       "      <td>14</td>\n",
       "      <td>91.73</td>\n",
       "      <td>9</td>\n",
       "      <td>False</td>\n",
       "      <td>...</td>\n",
       "      <td>424</td>\n",
       "      <td>2016-09-20</td>\n",
       "      <td>другой</td>\n",
       "      <td>408176.10</td>\n",
       "      <td>4</td>\n",
       "      <td>7</td>\n",
       "      <td>2015</td>\n",
       "      <td>0.576918</td>\n",
       "      <td>0.173082</td>\n",
       "      <td>6</td>\n",
       "    </tr>\n",
       "    <tr>\n",
       "      <th>4</th>\n",
       "      <td>2</td>\n",
       "      <td>10000000</td>\n",
       "      <td>100.0</td>\n",
       "      <td>2018-06-19</td>\n",
       "      <td>2</td>\n",
       "      <td>3.03</td>\n",
       "      <td>14</td>\n",
       "      <td>32.00</td>\n",
       "      <td>13</td>\n",
       "      <td>False</td>\n",
       "      <td>...</td>\n",
       "      <td>121</td>\n",
       "      <td>2018-10-18</td>\n",
       "      <td>другой</td>\n",
       "      <td>100000.00</td>\n",
       "      <td>1</td>\n",
       "      <td>6</td>\n",
       "      <td>2018</td>\n",
       "      <td>0.320000</td>\n",
       "      <td>0.410000</td>\n",
       "      <td>8</td>\n",
       "    </tr>\n",
       "  </tbody>\n",
       "</table>\n",
       "<p>5 rows × 31 columns</p>\n",
       "</div>"
      ],
      "text/plain": [
       "   total_images  last_price  total_area first_day_exposition  rooms  \\\n",
       "0            20    13000000       108.0           2019-03-07      3   \n",
       "1             7     3350000        40.4           2018-12-04      1   \n",
       "2            10     5196000        56.0           2015-08-20      2   \n",
       "3             0    64900000       159.0           2015-07-24      3   \n",
       "4             2    10000000       100.0           2018-06-19      2   \n",
       "\n",
       "   ceiling_height  floors_total  living_area  floor  is_apartment  ...  \\\n",
       "0            2.70            16        51.00      8         False  ...   \n",
       "1            2.64            11        18.60      1         False  ...   \n",
       "2            2.60             5        34.30      4         False  ...   \n",
       "3            2.65            14        91.73      9         False  ...   \n",
       "4            3.03            14        32.00     13         False  ...   \n",
       "\n",
       "   days_exposition  last_day_exposition  floor_category  price_per_meter  \\\n",
       "0                0           2019-03-07          другой        120370.37   \n",
       "1               81           2019-02-23          первый         82920.79   \n",
       "2              558           2017-02-28          другой         92785.71   \n",
       "3              424           2016-09-20          другой        408176.10   \n",
       "4              121           2018-10-18          другой        100000.00   \n",
       "\n",
       "  weekday_exposition  month_exposition  year_exposition  living_ratio_total  \\\n",
       "0                  3                 3             2019            0.472222   \n",
       "1                  1                12             2018            0.460396   \n",
       "2                  3                 8             2015            0.612500   \n",
       "3                  4                 7             2015            0.576918   \n",
       "4                  1                 6             2018            0.320000   \n",
       "\n",
       "   kitchen_ratio_total  center_km  \n",
       "0             0.231481         16  \n",
       "1             0.272277         18  \n",
       "2             0.148214         13  \n",
       "3             0.173082          6  \n",
       "4             0.410000          8  \n",
       "\n",
       "[5 rows x 31 columns]"
      ]
     },
     "execution_count": 23,
     "metadata": {},
     "output_type": "execute_result"
    }
   ],
   "source": [
    "data.head()"
   ]
  },
  {
   "cell_type": "markdown",
   "metadata": {},
   "source": [
    "### Исследовательский анализ данных"
   ]
  },
  {
   "cell_type": "markdown",
   "metadata": {},
   "source": [
    "Анализ общей площади:"
   ]
  },
  {
   "cell_type": "code",
   "execution_count": 24,
   "metadata": {},
   "outputs": [
    {
     "data": {
      "image/png": "[encoded data removed]",
      "text/plain": [
       "<Figure size 432x288 with 1 Axes>"
      ]
     },
     "metadata": {
      "needs_background": "light"
     },
     "output_type": "display_data"
    },
    {
     "name": "stdout",
     "output_type": "stream",
     "text": [
      "Наибольшие по площади варианты:\n",
      "19540    900.0\n",
      "12859    631.2\n",
      "3117     631.0\n",
      "15651    618.0\n",
      "5358     590.0\n",
      "4237     517.0\n",
      "8018     507.0\n",
      "15016    500.0\n",
      "5893     500.0\n",
      "12401    495.0\n",
      "Name: total_area, dtype: float64\n"
     ]
    },
    {
     "data": {
      "text/plain": [
       "'Общая площадь'"
      ]
     },
     "metadata": {},
     "output_type": "display_data"
    },
    {
     "data": {
      "text/plain": [
       "count    23565.000000\n",
       "mean        60.322824\n",
       "std         35.657060\n",
       "min         12.000000\n",
       "25%         40.000000\n",
       "50%         52.000000\n",
       "75%         69.700000\n",
       "max        900.000000\n",
       "Name: total_area, dtype: float64"
      ]
     },
     "metadata": {},
     "output_type": "display_data"
    }
   ],
   "source": [
    "plt.hist(data['total_area'], bins=30, range=(10,250))\n",
    "plt.title('Площадь квартир')\n",
    "plt.xlabel('Квадратные метры')\n",
    "plt.ylabel('Количество квартир')\n",
    "plt.show()\n",
    "total_area_max = data['total_area'].sort_values(ascending=False).head(10)\n",
    "print(f'Наибольшие по площади варианты:\\n{total_area_max}')\n",
    "display('Общая площадь',data['total_area'].describe())"
   ]
  },
  {
   "cell_type": "markdown",
   "metadata": {},
   "source": [
    "Анализ жилой площади:"
   ]
  },
  {
   "cell_type": "code",
   "execution_count": 25,
   "metadata": {},
   "outputs": [
    {
     "data": {
      "image/png": "[encoded data removed]",
      "text/plain": [
       "<Figure size 432x288 with 1 Axes>"
      ]
     },
     "metadata": {
      "needs_background": "light"
     },
     "output_type": "display_data"
    },
    {
     "name": "stdout",
     "output_type": "stream",
     "text": [
      "Наибольшие по площади варианты:\n",
      "19540    409.70\n",
      "5358     409.00\n",
      "3117     364.04\n",
      "12401    347.50\n",
      "4237     332.00\n",
      "12859    322.30\n",
      "660      312.50\n",
      "8018     301.50\n",
      "14088    300.00\n",
      "5893     288.46\n",
      "Name: living_area, dtype: float64\n"
     ]
    },
    {
     "data": {
      "text/plain": [
       "'Жилая площадь'"
      ]
     },
     "metadata": {},
     "output_type": "display_data"
    },
    {
     "data": {
      "text/plain": [
       "count    23565.000000\n",
       "mean        34.621104\n",
       "std         22.399830\n",
       "min          2.000000\n",
       "25%         19.000000\n",
       "50%         30.000000\n",
       "75%         42.120000\n",
       "max        409.700000\n",
       "Name: living_area, dtype: float64"
      ]
     },
     "metadata": {},
     "output_type": "display_data"
    }
   ],
   "source": [
    "plt.hist(data['living_area'], bins=30, range=(10,250))\n",
    "plt.title('Площадь квартир')\n",
    "plt.xlabel('Квадратные метры')\n",
    "plt.ylabel('Количество квартир')\n",
    "plt.show()\n",
    "living_area_max = data['living_area'].sort_values(ascending=False).head(10)\n",
    "print(f'Наибольшие по площади варианты:\\n{living_area_max}')\n",
    "display('Жилая площадь',data['living_area'].describe())"
   ]
  },
  {
   "cell_type": "markdown",
   "metadata": {},
   "source": [
    "Анализ площади кухни:"
   ]
  },
  {
   "cell_type": "code",
   "execution_count": 26,
   "metadata": {},
   "outputs": [
    {
     "data": {
      "image/png": "[encoded data removed]",
      "text/plain": [
       "<Figure size 432x288 with 1 Axes>"
      ]
     },
     "metadata": {
      "needs_background": "light"
     },
     "output_type": "display_data"
    },
    {
     "name": "stdout",
     "output_type": "stream",
     "text": [
      "Наибольшие по площади кухни варианты:\n",
      "19540    112.00\n",
      "20215    107.00\n",
      "2489     100.70\n",
      "5358     100.00\n",
      "16239     93.20\n",
      "16797     93.00\n",
      "10867     87.20\n",
      "15016     86.54\n",
      "9826      85.52\n",
      "492       77.00\n",
      "Name: kitchen_area, dtype: float64\n"
     ]
    },
    {
     "data": {
      "text/plain": [
       "'Площадь кухни'"
      ]
     },
     "metadata": {},
     "output_type": "display_data"
    },
    {
     "data": {
      "text/plain": [
       "count    23565.000000\n",
       "mean        10.489242\n",
       "std          6.029696\n",
       "min          1.300000\n",
       "25%          7.000000\n",
       "50%          9.000000\n",
       "75%         12.000000\n",
       "max        112.000000\n",
       "Name: kitchen_area, dtype: float64"
      ]
     },
     "metadata": {},
     "output_type": "display_data"
    }
   ],
   "source": [
    "plt.hist(data['kitchen_area'], bins=30, range=(0,30))\n",
    "plt.title('Площадь кухни')\n",
    "plt.xlabel('Квадратные метры')\n",
    "plt.ylabel('Количество квартир')\n",
    "plt.show()\n",
    "kitchen_area_max = data['kitchen_area'].sort_values(ascending=False).head(10)\n",
    "print(f'Наибольшие по площади кухни варианты:\\n{kitchen_area_max}')\n",
    "display('Площадь кухни',data['kitchen_area'].describe())"
   ]
  },
  {
   "cell_type": "markdown",
   "metadata": {},
   "source": [
    "Анализ цены объекта:"
   ]
  },
  {
   "cell_type": "code",
   "execution_count": 27,
   "metadata": {},
   "outputs": [
    {
     "data": {
      "image/png": "[encoded data removed]",
      "text/plain": [
       "<Figure size 432x288 with 1 Axes>"
      ]
     },
     "metadata": {
      "needs_background": "light"
     },
     "output_type": "display_data"
    },
    {
     "name": "stdout",
     "output_type": "stream",
     "text": [
      "Наибольшие по цене варианты:\n",
      "12971    763000000\n",
      "19540    420000000\n",
      "14706    401300000\n",
      "1436     330000000\n",
      "15651    300000000\n",
      "22831    289238400\n",
      "16461    245000000\n",
      "13749    240000000\n",
      "5893     230000000\n",
      "8900     190870000\n",
      "Name: last_price, dtype: int64\n"
     ]
    },
    {
     "data": {
      "text/plain": [
       "'Цена объекта'"
      ]
     },
     "metadata": {},
     "output_type": "display_data"
    },
    {
     "data": {
      "text/plain": [
       "count    2.356500e+04\n",
       "mean     6.540058e+06\n",
       "std      1.091093e+07\n",
       "min      1.219000e+04\n",
       "25%      3.400000e+06\n",
       "50%      4.646000e+06\n",
       "75%      6.790000e+06\n",
       "max      7.630000e+08\n",
       "Name: last_price, dtype: float64"
      ]
     },
     "metadata": {},
     "output_type": "display_data"
    }
   ],
   "source": [
    "plt.hist(data['last_price'], bins=30, range=(0,20000000))\n",
    "plt.title('Стоимость квартир')\n",
    "plt.xlabel('Стоимость')\n",
    "plt.ylabel('Количество квартир')\n",
    "plt.show()\n",
    "last_price_max = data['last_price'].sort_values(ascending=False).head(10)\n",
    "print(f'Наибольшие по цене варианты:\\n{last_price_max}')\n",
    "display('Цена объекта',data['last_price'].describe())"
   ]
  },
  {
   "cell_type": "markdown",
   "metadata": {},
   "source": [
    "Анализ количества комнат:"
   ]
  },
  {
   "cell_type": "code",
   "execution_count": 28,
   "metadata": {},
   "outputs": [
    {
     "data": {
      "image/png": "[encoded data removed]",
      "text/plain": [
       "<Figure size 432x288 with 1 Axes>"
      ]
     },
     "metadata": {
      "needs_background": "light"
     },
     "output_type": "display_data"
    },
    {
     "name": "stdout",
     "output_type": "stream",
     "text": [
      "Наибольшие по числу комнат варианты:\n",
      "14498    19\n",
      "18848    16\n",
      "5358     15\n",
      "20829    14\n",
      "866      14\n",
      "19540    12\n",
      "648      11\n",
      "9688     11\n",
      "18891    10\n",
      "18119    10\n",
      "Name: rooms, dtype: int64\n"
     ]
    },
    {
     "data": {
      "text/plain": [
       "'Число комнат'"
      ]
     },
     "metadata": {},
     "output_type": "display_data"
    },
    {
     "data": {
      "text/plain": [
       "count    23565.000000\n",
       "mean         2.073159\n",
       "std          1.074935\n",
       "min          0.000000\n",
       "25%          1.000000\n",
       "50%          2.000000\n",
       "75%          3.000000\n",
       "max         19.000000\n",
       "Name: rooms, dtype: float64"
      ]
     },
     "metadata": {},
     "output_type": "display_data"
    }
   ],
   "source": [
    "plt.hist(data['rooms'], bins=10, range=(1,10))\n",
    "plt.title('Комнаты')\n",
    "plt.xlabel('Количество комнат')\n",
    "plt.ylabel('Количество квартир')\n",
    "plt.show()\n",
    "rooms_max = data['rooms'].sort_values(ascending=False).head(10)\n",
    "print(f'Наибольшие по числу комнат варианты:\\n{rooms_max}')\n",
    "display('Число комнат',data['rooms'].describe())"
   ]
  },
  {
   "cell_type": "markdown",
   "metadata": {},
   "source": [
    "Анализ высоты потолков:\n"
   ]
  },
  {
   "cell_type": "code",
   "execution_count": 29,
   "metadata": {},
   "outputs": [
    {
     "data": {
      "image/png": "[encoded data removed]",
      "text/plain": [
       "<Figure size 432x288 with 1 Axes>"
      ]
     },
     "metadata": {
      "needs_background": "light"
     },
     "output_type": "display_data"
    },
    {
     "name": "stdout",
     "output_type": "stream",
     "text": [
      "Наибольшие по высоте потолков варианты:\n",
      "1977     3.98\n",
      "2176     3.95\n",
      "15119    3.95\n",
      "12199    3.95\n",
      "2676     3.95\n",
      "4917     3.95\n",
      "19852    3.95\n",
      "20197    3.95\n",
      "16466    3.95\n",
      "13982    3.93\n",
      "Name: ceiling_height, dtype: float64\n"
     ]
    },
    {
     "data": {
      "text/plain": [
       "'Высота потолков'"
      ]
     },
     "metadata": {},
     "output_type": "display_data"
    },
    {
     "data": {
      "text/plain": [
       "count    23563.000000\n",
       "mean         2.722826\n",
       "std          0.992460\n",
       "min          1.000000\n",
       "25%          2.600000\n",
       "50%          2.640000\n",
       "75%          2.700000\n",
       "max        100.000000\n",
       "Name: ceiling_height, dtype: float64"
      ]
     },
     "metadata": {},
     "output_type": "display_data"
    }
   ],
   "source": [
    "plt.hist(data.query('(ceiling_height > 2) & (ceiling_height < 4)')['ceiling_height'], bins=20)\n",
    "plt.title('Высота потолков')\n",
    "plt.xlabel('Метры')\n",
    "plt.ylabel('Количество квартир')\n",
    "plt.show()\n",
    "ceiling_height_max = data.query('(ceiling_height > 2) & (ceiling_height < 4)')['ceiling_height'].sort_values(ascending=False).head(10)\n",
    "print(f'Наибольшие по высоте потолков варианты:\\n{ceiling_height_max}')\n",
    "display('Высота потолков',data['ceiling_height'].describe())"
   ]
  },
  {
   "cell_type": "markdown",
   "metadata": {},
   "source": [
    "Анализ этажа квартиры:"
   ]
  },
  {
   "cell_type": "code",
   "execution_count": 30,
   "metadata": {},
   "outputs": [
    {
     "data": {
      "image/png": "[encoded data removed]",
      "text/plain": [
       "<Figure size 432x288 with 1 Axes>"
      ]
     },
     "metadata": {
      "needs_background": "light"
     },
     "output_type": "display_data"
    },
    {
     "name": "stdout",
     "output_type": "stream",
     "text": [
      "Наибольшие по числу комнат варианты:\n",
      "18218    33\n",
      "11575    32\n",
      "18629    31\n",
      "1917     30\n",
      "11079    29\n",
      "397      28\n",
      "12888    27\n",
      "16644    27\n",
      "23292    27\n",
      "4091     27\n",
      "Name: floor, dtype: int64\n"
     ]
    },
    {
     "data": {
      "text/plain": [
       "'Этаж объекта'"
      ]
     },
     "metadata": {},
     "output_type": "display_data"
    },
    {
     "data": {
      "text/plain": [
       "count    23565.000000\n",
       "mean         5.878124\n",
       "std          4.871485\n",
       "min          1.000000\n",
       "25%          2.000000\n",
       "50%          4.000000\n",
       "75%          8.000000\n",
       "max         33.000000\n",
       "Name: floor, dtype: float64"
      ]
     },
     "metadata": {},
     "output_type": "display_data"
    }
   ],
   "source": [
    "plt.hist(data['floor'], bins=35, range=(1,35))\n",
    "plt.title('Этаж')\n",
    "plt.xlabel('Этаж квартиры')\n",
    "plt.ylabel('Количество квартир')\n",
    "plt.show()\n",
    "floor_max = data['floor'].sort_values(ascending=False).head(10)\n",
    "print(f'Наибольшие по числу комнат варианты:\\n{floor_max}')\n",
    "display('Этаж объекта',data['floor'].describe())"
   ]
  },
  {
   "cell_type": "markdown",
   "metadata": {},
   "source": [
    "Анализ типа этажа квартиры («первый», «последний», «другой»):"
   ]
  },
  {
   "cell_type": "code",
   "execution_count": 31,
   "metadata": {},
   "outputs": [
    {
     "data": {
      "image/png": "[encoded data removed]",
      "text/plain": [
       "<Figure size 432x288 with 1 Axes>"
      ]
     },
     "metadata": {
      "needs_background": "light"
     },
     "output_type": "display_data"
    }
   ],
   "source": [
    "plt.hist(data['floor_category'], bins=3, range=(0,2))\n",
    "plt.title('Типы этажей')\n",
    "plt.xlabel('Тип этажа')\n",
    "plt.ylabel('Количество квартир')\n",
    "plt.show()"
   ]
  },
  {
   "cell_type": "markdown",
   "metadata": {},
   "source": [
    "Анализ общего количество этажей в доме:"
   ]
  },
  {
   "cell_type": "code",
   "execution_count": 32,
   "metadata": {},
   "outputs": [
    {
     "data": {
      "image/png": "[encoded data removed]",
      "text/plain": [
       "<Figure size 432x288 with 1 Axes>"
      ]
     },
     "metadata": {
      "needs_background": "light"
     },
     "output_type": "display_data"
    },
    {
     "name": "stdout",
     "output_type": "stream",
     "text": [
      "Наибольшие по числу этажей в доме:\n",
      "2253     60\n",
      "16731    52\n",
      "16934    37\n",
      "5807     36\n",
      "11079    36\n",
      "397      36\n",
      "13975    35\n",
      "2966     35\n",
      "9186     35\n",
      "1917     35\n",
      "Name: floors_total, dtype: int64\n"
     ]
    },
    {
     "data": {
      "text/plain": [
       "'Количество этажей в доме'"
      ]
     },
     "metadata": {},
     "output_type": "display_data"
    },
    {
     "data": {
      "text/plain": [
       "count    23565.000000\n",
       "mean        10.675875\n",
       "std          6.594823\n",
       "min          1.000000\n",
       "25%          5.000000\n",
       "50%          9.000000\n",
       "75%         16.000000\n",
       "max         60.000000\n",
       "Name: floors_total, dtype: float64"
      ]
     },
     "metadata": {},
     "output_type": "display_data"
    }
   ],
   "source": [
    "plt.hist(data['floors_total'], bins=60, range=(1,40))\n",
    "plt.title('Количество этажей в доме')\n",
    "plt.xlabel('Количество этажей')\n",
    "plt.ylabel('Количество квартир')\n",
    "plt.show()\n",
    "floors_total_max = data['floors_total'].sort_values(ascending=False).head(10)\n",
    "print(f'Наибольшие по числу этажей в доме:\\n{floors_total_max}')\n",
    "display('Количество этажей в доме',data['floors_total'].describe())"
   ]
  },
  {
   "cell_type": "markdown",
   "metadata": {},
   "source": [
    "Анализ расстояния до центра города:"
   ]
  },
  {
   "cell_type": "code",
   "execution_count": 33,
   "metadata": {},
   "outputs": [
    {
     "data": {
      "image/png": "[encoded data removed]",
      "text/plain": [
       "<Figure size 432x288 with 1 Axes>"
      ]
     },
     "metadata": {
      "needs_background": "light"
     },
     "output_type": "display_data"
    },
    {
     "name": "stdout",
     "output_type": "stream",
     "text": [
      "Наибольшие по расстоянию до центра города в метрах:\n",
      "9640     65968.0\n",
      "5340     65952.0\n",
      "577      65764.0\n",
      "20746    65105.0\n",
      "5218     64857.0\n",
      "18884    62706.0\n",
      "2974     62454.0\n",
      "16569    61495.0\n",
      "23123    60223.0\n",
      "4441     59626.0\n",
      "Name: city_centers_nearest, dtype: float64\n"
     ]
    },
    {
     "data": {
      "text/plain": [
       "'Расстояние до центра города в метрах'"
      ]
     },
     "metadata": {},
     "output_type": "display_data"
    },
    {
     "data": {
      "text/plain": [
       "count    18064.000000\n",
       "mean     14192.656056\n",
       "std       8613.348153\n",
       "min        181.000000\n",
       "25%       9238.000000\n",
       "50%      13096.500000\n",
       "75%      16285.000000\n",
       "max      65968.000000\n",
       "Name: city_centers_nearest, dtype: float64"
      ]
     },
     "metadata": {},
     "output_type": "display_data"
    }
   ],
   "source": [
    "plt.hist(data['city_centers_nearest'], bins=100, range=(1,66000))\n",
    "plt.title('Расстояние до центра города в метрах')\n",
    "plt.xlabel('Метры')\n",
    "plt.ylabel('Количество квартир')\n",
    "plt.show()\n",
    "city_centers_nearest_max = data['city_centers_nearest'].sort_values(ascending=False).head(10)\n",
    "print(f'Наибольшие по расстоянию до центра города в метрах:\\n{city_centers_nearest_max}')\n",
    "display('Расстояние до центра города в метрах',data['city_centers_nearest'].describe())"
   ]
  },
  {
   "cell_type": "markdown",
   "metadata": {},
   "source": [
    "Анализ расстояния до ближайшего аэропорта:"
   ]
  },
  {
   "cell_type": "code",
   "execution_count": 34,
   "metadata": {},
   "outputs": [
    {
     "data": {
      "image/png": "[encoded data removed]",
      "text/plain": [
       "<Figure size 432x288 with 1 Axes>"
      ]
     },
     "metadata": {
      "needs_background": "light"
     },
     "output_type": "display_data"
    },
    {
     "name": "stdout",
     "output_type": "stream",
     "text": [
      "Наибольшие по расстоянию до ближайшего аэропорта в метрах:\n",
      "9640     84869.0\n",
      "5340     84853.0\n",
      "577      84665.0\n",
      "20746    84006.0\n",
      "5218     83758.0\n",
      "18884    81607.0\n",
      "2974     81355.0\n",
      "4441     78527.0\n",
      "939      75646.0\n",
      "376      73827.0\n",
      "Name: airports_nearest, dtype: float64\n"
     ]
    },
    {
     "data": {
      "text/plain": [
       "'Расстояние до ближайшего аэропорта в метрах'"
      ]
     },
     "metadata": {},
     "output_type": "display_data"
    },
    {
     "data": {
      "text/plain": [
       "count    18041.000000\n",
       "mean     28797.082701\n",
       "std      12632.499735\n",
       "min          0.000000\n",
       "25%      18565.000000\n",
       "50%      26757.000000\n",
       "75%      37273.000000\n",
       "max      84869.000000\n",
       "Name: airports_nearest, dtype: float64"
      ]
     },
     "metadata": {},
     "output_type": "display_data"
    }
   ],
   "source": [
    "plt.hist(data['airports_nearest'], bins=100, range=(1,85000))\n",
    "plt.title('Расстояние до ближайшего аэропорта в метрах')\n",
    "plt.xlabel('Метры')\n",
    "plt.ylabel('Количество квартир')\n",
    "plt.show()\n",
    "airports_nearest_max = data['airports_nearest'].sort_values(ascending=False).head(10)\n",
    "print(f'Наибольшие по расстоянию до ближайшего аэропорта в метрах:\\n{airports_nearest_max}')\n",
    "display('Расстояние до ближайшего аэропорта в метрах',data['airports_nearest'].describe())"
   ]
  },
  {
   "cell_type": "markdown",
   "metadata": {},
   "source": [
    "Анализ расстояния до ближайшего парка:"
   ]
  },
  {
   "cell_type": "code",
   "execution_count": 35,
   "metadata": {},
   "outputs": [
    {
     "data": {
      "image/png": "[encoded data removed]",
      "text/plain": [
       "<Figure size 432x288 with 1 Axes>"
      ]
     },
     "metadata": {
      "needs_background": "light"
     },
     "output_type": "display_data"
    },
    {
     "name": "stdout",
     "output_type": "stream",
     "text": [
      "Наибольшие по расстоянию до ближайшего парка в метрах:\n",
      "10959    3190.0\n",
      "19430    3190.0\n",
      "1590     3064.0\n",
      "19208    3013.0\n",
      "23080    2984.0\n",
      "2659     2905.0\n",
      "1860     2888.0\n",
      "7855     2880.0\n",
      "3865     2847.0\n",
      "22003    2768.0\n",
      "Name: parks_nearest, dtype: float64\n"
     ]
    },
    {
     "data": {
      "text/plain": [
       "'Расстояние до ближайшего парка в метрах'"
      ]
     },
     "metadata": {},
     "output_type": "display_data"
    },
    {
     "data": {
      "text/plain": [
       "count    8030.000000\n",
       "mean      490.580448\n",
       "std       341.572956\n",
       "min         1.000000\n",
       "25%       288.000000\n",
       "50%       455.000000\n",
       "75%       612.000000\n",
       "max      3190.000000\n",
       "Name: parks_nearest, dtype: float64"
      ]
     },
     "metadata": {},
     "output_type": "display_data"
    }
   ],
   "source": [
    "plt.hist(data['parks_nearest'], bins=100, range=(1,3200))\n",
    "plt.title('Расстояние до ближайшего парка в метрах')\n",
    "plt.xlabel('Метры')\n",
    "plt.ylabel('Количество квартир')\n",
    "plt.show()\n",
    "parks_nearest_max = data['parks_nearest'].sort_values(ascending=False).head(10)\n",
    "print(f'Наибольшие по расстоянию до ближайшего парка в метрах:\\n{parks_nearest_max}')\n",
    "display('Расстояние до ближайшего парка в метрах',data['parks_nearest'].describe())"
   ]
  },
  {
   "cell_type": "markdown",
   "metadata": {},
   "source": [
    "Анализ публикации объявления:"
   ]
  },
  {
   "cell_type": "code",
   "execution_count": 36,
   "metadata": {},
   "outputs": [
    {
     "data": {
      "image/png": "[encoded data removed]",
      "text/plain": [
       "<Figure size 432x288 with 1 Axes>"
      ]
     },
     "metadata": {
      "needs_background": "light"
     },
     "output_type": "display_data"
    },
    {
     "data": {
      "image/png": "[encoded data removed]",
      "text/plain": [
       "<Figure size 432x288 with 1 Axes>"
      ]
     },
     "metadata": {
      "needs_background": "light"
     },
     "output_type": "display_data"
    }
   ],
   "source": [
    "plt.hist(data['weekday_exposition'], bins=7, range=(1,7))\n",
    "plt.title('Дни недели публикации объявления')\n",
    "plt.xlabel('Дни недели')\n",
    "plt.ylabel('Количество квартир')\n",
    "plt.show()\n",
    "plt.hist(data['month_exposition'], bins=12, range=(1,12))\n",
    "plt.title('Месяц публикации объявления')\n",
    "plt.xlabel('Месяц')\n",
    "plt.ylabel('Количество квартир')\n",
    "plt.show()"
   ]
  },
  {
   "cell_type": "markdown",
   "metadata": {},
   "source": [
    "Вывод: общая площадь большинства квартир в диапозоне 30-80 кв.м.; жилая площадь 10-50 кв.м.; площадь кухни 5-15 кв.м; цена объекта в основном 1.5-7.5 миллионов; количество комнат 1-4; высота потолков 2.5-3 метра; этаж квартиры в диапозоне 1-5; тип этажа квартиры преобладает «другой»; общее количество этажей в доме: больше всего 5-ти и 9-ти этажных домов; расстояние до центра города в метрах 5-20 км; расстояние до ближайшего аэропорта 10-50 км; расстояние до ближайшего парка состовляет от 0 до 750 метров; публикации объявления в основном понедельник, вторник, среда, четверг и февраль, март, апрель, ноябрь. В воскресенье публикаций нет."
   ]
  },
  {
   "cell_type": "markdown",
   "metadata": {},
   "source": [
    "Изучаем, зависит ли цена от общей площади:"
   ]
  },
  {
   "cell_type": "code",
   "execution_count": 37,
   "metadata": {},
   "outputs": [
    {
     "data": {
      "image/png": "[encoded data removed]",
      "text/plain": [
       "<Figure size 360x360 with 1 Axes>"
      ]
     },
     "metadata": {
      "needs_background": "light"
     },
     "output_type": "display_data"
    },
    {
     "data": {
      "text/plain": [
       "0.6536213939252808"
      ]
     },
     "execution_count": 37,
     "metadata": {},
     "output_type": "execute_result"
    }
   ],
   "source": [
    "data.pivot_table(index='total_area', values='last_price').plot(grid=True, style='o', figsize=(5, 5))\n",
    "plt.show()\n",
    "data['total_area'].corr(data['last_price'])"
   ]
  },
  {
   "cell_type": "markdown",
   "metadata": {},
   "source": [
    "Изучаем, зависит ли цена от жилой площади:"
   ]
  },
  {
   "cell_type": "code",
   "execution_count": 38,
   "metadata": {},
   "outputs": [
    {
     "data": {
      "image/png": "[encoded data removed]",
      "text/plain": [
       "<Figure size 360x360 with 1 Axes>"
      ]
     },
     "metadata": {
      "needs_background": "light"
     },
     "output_type": "display_data"
    },
    {
     "data": {
      "text/plain": [
       "0.585783004561039"
      ]
     },
     "execution_count": 38,
     "metadata": {},
     "output_type": "execute_result"
    }
   ],
   "source": [
    "data.pivot_table(index='living_area', values='last_price').plot(grid=True, style='o', figsize=(5, 5))\n",
    "plt.show()\n",
    "data['living_area'].corr(data['last_price'])"
   ]
  },
  {
   "cell_type": "markdown",
   "metadata": {},
   "source": [
    "Изучаем, зависит ли цена от площади кухни:"
   ]
  },
  {
   "cell_type": "code",
   "execution_count": 39,
   "metadata": {},
   "outputs": [
    {
     "data": {
      "image/png": "[encoded data removed]",
      "text/plain": [
       "<Figure size 360x360 with 1 Axes>"
      ]
     },
     "metadata": {
      "needs_background": "light"
     },
     "output_type": "display_data"
    },
    {
     "data": {
      "text/plain": [
       "0.5140364113009086"
      ]
     },
     "execution_count": 39,
     "metadata": {},
     "output_type": "execute_result"
    }
   ],
   "source": [
    "data.pivot_table(index='kitchen_area', values='last_price').plot(grid=True, style='o', figsize=(5, 5))\n",
    "plt.show()\n",
    "data['kitchen_area'].corr(data['last_price'])"
   ]
  },
  {
   "cell_type": "markdown",
   "metadata": {},
   "source": [
    "Вывод: Чем больше площадь, тем выше стоимость. Площадь кухни меньше влияет на повышение цены, чем жилая площадь.   \n"
   ]
  },
  {
   "cell_type": "markdown",
   "metadata": {},
   "source": [
    "Изучаем, зависит ли цена от количества комнат:"
   ]
  },
  {
   "cell_type": "code",
   "execution_count": 40,
   "metadata": {},
   "outputs": [
    {
     "data": {
      "image/png": "[encoded data removed]",
      "text/plain": [
       "<Figure size 360x360 with 1 Axes>"
      ]
     },
     "metadata": {
      "needs_background": "light"
     },
     "output_type": "display_data"
    },
    {
     "data": {
      "text/plain": [
       "0.36386428851838054"
      ]
     },
     "execution_count": 40,
     "metadata": {},
     "output_type": "execute_result"
    }
   ],
   "source": [
    "data.query('rooms > 0').pivot_table(index='rooms', values='last_price').plot(grid=True, style='o-', figsize=(5, 5))\n",
    "plt.show()\n",
    "data['rooms'].corr(data['last_price'])"
   ]
  },
  {
   "cell_type": "markdown",
   "metadata": {},
   "source": [
    "Вывод: Число комнат влияет на цену: с увиличение комнат от 1 до 7 - цена плавно увеличевается, потом плавно снижается до 11 комнат, квартиры с 12 комнатами самые дорогие."
   ]
  },
  {
   "cell_type": "markdown",
   "metadata": {},
   "source": [
    "Изучаем, зависит ли цена от этажа, на котором расположена квартира (первый, последний, другой):"
   ]
  },
  {
   "cell_type": "code",
   "execution_count": 41,
   "metadata": {},
   "outputs": [
    {
     "data": {
      "image/png": "[encoded data removed]",
      "text/plain": [
       "<Figure size 360x360 with 1 Axes>"
      ]
     },
     "metadata": {
      "needs_background": "light"
     },
     "output_type": "display_data"
    },
    {
     "data": {
      "text/plain": [
       "0.026841775356835604"
      ]
     },
     "execution_count": 41,
     "metadata": {},
     "output_type": "execute_result"
    }
   ],
   "source": [
    "data.pivot_table(index='floor_category', values='last_price', aggfunc='median').plot(grid=True, style='o-', figsize=(5, 5))\n",
    "plt.show()\n",
    "data['floor'].corr(data['last_price'])"
   ]
  },
  {
   "cell_type": "markdown",
   "metadata": {},
   "source": [
    "Вывод: Квартиры на первом этаже самые дешовые, средняя цена последний этаж, высокая другие этажи."
   ]
  },
  {
   "cell_type": "markdown",
   "metadata": {},
   "source": [
    "Изучаем, зависит ли цена от даты размещения (день недели, месяц, год):"
   ]
  },
  {
   "cell_type": "code",
   "execution_count": 43,
   "metadata": {},
   "outputs": [
    {
     "data": {
      "image/png": "[encoded data removed]",
      "text/plain": [
       "<Figure size 360x360 with 1 Axes>"
      ]
     },
     "metadata": {
      "needs_background": "light"
     },
     "output_type": "display_data"
    },
    {
     "data": {
      "text/plain": [
       "0.0013569211122710745"
      ]
     },
     "metadata": {},
     "output_type": "display_data"
    },
    {
     "data": {
      "image/png": "[encoded data removed]",
      "text/plain": [
       "<Figure size 720x360 with 1 Axes>"
      ]
     },
     "metadata": {
      "needs_background": "light"
     },
     "output_type": "display_data"
    },
    {
     "data": {
      "text/plain": [
       "0.0027259571647347564"
      ]
     },
     "metadata": {},
     "output_type": "display_data"
    },
    {
     "data": {
      "image/png": "[encoded data removed]",
      "text/plain": [
       "<Figure size 360x360 with 1 Axes>"
      ]
     },
     "metadata": {
      "needs_background": "light"
     },
     "output_type": "display_data"
    },
    {
     "data": {
      "text/plain": [
       "-0.04286415271361106"
      ]
     },
     "metadata": {},
     "output_type": "display_data"
    }
   ],
   "source": [
    "data.pivot_table(index='weekday_exposition', values='last_price').plot(grid=True, style='o-', figsize=(5, 5))\n",
    "plt.show()\n",
    "display (data['weekday_exposition'].corr(data['last_price']))\n",
    "data.pivot_table(index='month_exposition', values='last_price').plot(grid=True, style='o-', xlim=(1,12), figsize=(10, 5))\n",
    "plt.show()\n",
    "display (data['month_exposition'].corr(data['last_price']))\n",
    "data.pivot_table(index='year_exposition', values='last_price').plot(grid=True, style='o-', figsize=(5, 5))\n",
    "plt.show()\n",
    "display (data['year_exposition'].corr(data['last_price']))"
   ]
  },
  {
   "cell_type": "markdown",
   "metadata": {},
   "source": [
    "Вывод: В субботу размещают самые дорогие варианты квартир, самые дешевые в пятницу. В течение года самые дорогие варианты квартир - январь, апрель, июль, сентябрь, декабрь, остольные месяцы дешевые. Объявления с 2014 года самые дорогие варианты, постипенное снижение к самой низкой цены 2018 год, в 2019 небольшой рост."
   ]
  },
  {
   "cell_type": "markdown",
   "metadata": {},
   "source": [
    "Посчитаем среднюю цену одного квадратного метра в 10 населённых пунктах с наибольшим числом объявлений."
   ]
  },
  {
   "cell_type": "code",
   "execution_count": 46,
   "metadata": {},
   "outputs": [
    {
     "data": {
      "text/html": [
       "<div>\n",
       "<style scoped>\n",
       "    .dataframe tbody tr th:only-of-type {\n",
       "        vertical-align: middle;\n",
       "    }\n",
       "\n",
       "    .dataframe tbody tr th {\n",
       "        vertical-align: top;\n",
       "    }\n",
       "\n",
       "    .dataframe thead th {\n",
       "        text-align: right;\n",
       "    }\n",
       "</style>\n",
       "<table border=\"1\" class=\"dataframe\">\n",
       "  <thead>\n",
       "    <tr style=\"text-align: right;\">\n",
       "      <th></th>\n",
       "      <th>price_per_meter</th>\n",
       "    </tr>\n",
       "    <tr>\n",
       "      <th>locality_name</th>\n",
       "      <th></th>\n",
       "    </tr>\n",
       "  </thead>\n",
       "  <tbody>\n",
       "    <tr>\n",
       "      <th>Санкт-Петербург</th>\n",
       "      <td>114868</td>\n",
       "    </tr>\n",
       "    <tr>\n",
       "      <th>Пушкин</th>\n",
       "      <td>103125</td>\n",
       "    </tr>\n",
       "    <tr>\n",
       "      <th>деревня Кудрово</th>\n",
       "      <td>92473</td>\n",
       "    </tr>\n",
       "    <tr>\n",
       "      <th>поселок Парголово</th>\n",
       "      <td>90175</td>\n",
       "    </tr>\n",
       "    <tr>\n",
       "      <th>поселок Мурино</th>\n",
       "      <td>85629</td>\n",
       "    </tr>\n",
       "    <tr>\n",
       "      <th>поселок Шушары</th>\n",
       "      <td>78551</td>\n",
       "    </tr>\n",
       "    <tr>\n",
       "      <th>Колпино</th>\n",
       "      <td>75424</td>\n",
       "    </tr>\n",
       "    <tr>\n",
       "      <th>Гатчина</th>\n",
       "      <td>68746</td>\n",
       "    </tr>\n",
       "    <tr>\n",
       "      <th>Всеволожск</th>\n",
       "      <td>68654</td>\n",
       "    </tr>\n",
       "    <tr>\n",
       "      <th>Выборг</th>\n",
       "      <td>58141</td>\n",
       "    </tr>\n",
       "  </tbody>\n",
       "</table>\n",
       "</div>"
      ],
      "text/plain": [
       "                   price_per_meter\n",
       "locality_name                     \n",
       "Санкт-Петербург             114868\n",
       "Пушкин                      103125\n",
       "деревня Кудрово              92473\n",
       "поселок Парголово            90175\n",
       "поселок Мурино               85629\n",
       "поселок Шушары               78551\n",
       "Колпино                      75424\n",
       "Гатчина                      68746\n",
       "Всеволожск                   68654\n",
       "Выборг                       58141"
      ]
     },
     "execution_count": 46,
     "metadata": {},
     "output_type": "execute_result"
    }
   ],
   "source": [
    "city_ten = data['locality_name'].value_counts().head(10)\n",
    "city_sm_price = data.query('locality_name in (@city_ten.index)').pivot_table(values='price_per_meter', index='locality_name')\n",
    "city_sm_price = city_sm_price.astype(int)\n",
    "city_sm_price.sort_values('price_per_meter', ascending=False)"
   ]
  },
  {
   "cell_type": "markdown",
   "metadata": {},
   "source": [
    "Вывод: Наибольшая средняя стоимость квадратного метра в Санкт-Петербурге. Затем идёт Пушкин, потом идут районы, фактически являющиеся Санкт-Петербургом и непосредственно к нему примыкают. Из топ-10 наименьшая стоимость в Гатчине и Всеволожске, из которых далеко ехать до Санкт-Петербурга, а также неболшой по численности населения Выборг, расположенный на большом расстоянии от Санкт-Петербурга."
   ]
  },
  {
   "cell_type": "markdown",
   "metadata": {},
   "source": [
    "Анализ квартир Санкт-Петербурга, как стоимость объектов зависит от расстояния до центра города."
   ]
  },
  {
   "cell_type": "code",
   "execution_count": 49,
   "metadata": {},
   "outputs": [
    {
     "data": {
      "image/png": "[encoded data removed]",
      "text/plain": [
       "<Figure size 720x360 with 1 Axes>"
      ]
     },
     "metadata": {
      "needs_background": "light"
     },
     "output_type": "display_data"
    }
   ],
   "source": [
    "data.query('locality_name == \"Санкт-Петербург\"').pivot_table(index='center_km', values='last_price').plot(grid=True, style='o-', xlim=(0,15), figsize=(10, 5))\n",
    "plt.show()"
   ]
  },
  {
   "cell_type": "markdown",
   "metadata": {},
   "source": [
    "Вывод: Чем дальше от центра квартиры дешевле, но в диапозоне 3-7 км от центра небольшое повышение цены, наверное это спальные районы с наличием парков."
   ]
  },
  {
   "cell_type": "markdown",
   "metadata": {},
   "source": [
    "### Общий вывод"
   ]
  },
  {
   "cell_type": "markdown",
   "metadata": {},
   "source": [
    "Факторы, влияющие на стоимость:\n",
    "- на стоимость больше влияет площадь квартиры, нежели число комнат. \n",
    "- первый этаж значительно дешевле остальных вариантов. Также стоимость квартиры на последнем этаже ниже, чем на остальных, кроме первого.\n",
    "- Чем больше площадь, тем выше стоимость. Площадь кухни меньше влияет на повышение цены, чем жилая площадь.\n",
    "\n",
    "Стоимость квадратного метра в топ-10 населённых пунктов:\n",
    "- дороже всего квадратный метр в Санкт-Петербурге - 114868\n",
    "- дешевле всего квадратный метр в Выборге - 58141\n",
    "\n",
    "Факторы, влияющие на стоимость в Санкт-Петербурге:\n",
    "- чем дальше от центра квартиры дешевле, но в диапозоне 3-7 км от центра небольшое повышение цены, наверное это спальные районы с наличием парков."
   ]
  }
 ],
 "metadata": {
  "ExecuteTimeLog": [
   {
    "duration": 615,
    "start_time": "2022-10-20T02:47:41.921Z"
   },
   {
    "duration": 91,
    "start_time": "2022-10-20T02:48:02.158Z"
   },
   {
    "duration": 2372,
    "start_time": "2022-10-20T02:49:26.489Z"
   },
   {
    "duration": 1903,
    "start_time": "2022-10-20T02:49:57.867Z"
   },
   {
    "duration": 4,
    "start_time": "2022-10-20T04:11:00.883Z"
   },
   {
    "duration": 10,
    "start_time": "2022-10-20T04:12:26.621Z"
   },
   {
    "duration": 69,
    "start_time": "2022-10-20T04:32:51.184Z"
   },
   {
    "duration": 4,
    "start_time": "2022-10-20T04:33:10.043Z"
   },
   {
    "duration": 10,
    "start_time": "2022-10-20T04:33:27.233Z"
   },
   {
    "duration": 16,
    "start_time": "2022-10-20T04:42:29.759Z"
   },
   {
    "duration": 24,
    "start_time": "2022-10-20T04:59:02.087Z"
   },
   {
    "duration": 6,
    "start_time": "2022-10-20T05:04:12.836Z"
   },
   {
    "duration": 6,
    "start_time": "2022-10-20T05:05:08.191Z"
   },
   {
    "duration": 28,
    "start_time": "2022-10-20T05:05:16.721Z"
   },
   {
    "duration": 22,
    "start_time": "2022-10-20T05:07:15.368Z"
   },
   {
    "duration": 58,
    "start_time": "2022-10-20T05:08:41.402Z"
   },
   {
    "duration": 5,
    "start_time": "2022-10-20T05:09:25.690Z"
   },
   {
    "duration": 9,
    "start_time": "2022-10-20T05:10:05.933Z"
   },
   {
    "duration": 6,
    "start_time": "2022-10-20T05:10:58.200Z"
   },
   {
    "duration": 5,
    "start_time": "2022-10-20T05:11:51.884Z"
   },
   {
    "duration": 12,
    "start_time": "2022-10-20T05:14:19.794Z"
   },
   {
    "duration": 4,
    "start_time": "2022-10-20T05:15:49.831Z"
   },
   {
    "duration": 16,
    "start_time": "2022-10-20T05:16:00.761Z"
   },
   {
    "duration": 12,
    "start_time": "2022-10-20T05:16:31.477Z"
   },
   {
    "duration": 24,
    "start_time": "2022-10-20T05:25:18.525Z"
   },
   {
    "duration": 36,
    "start_time": "2022-10-20T05:29:10.423Z"
   },
   {
    "duration": 6,
    "start_time": "2022-10-20T05:31:27.397Z"
   },
   {
    "duration": 20,
    "start_time": "2022-10-20T05:31:50.895Z"
   },
   {
    "duration": 7,
    "start_time": "2022-10-20T05:31:54.107Z"
   },
   {
    "duration": 46,
    "start_time": "2022-10-20T05:37:52.787Z"
   },
   {
    "duration": 63,
    "start_time": "2022-10-20T05:38:11.831Z"
   },
   {
    "duration": 8,
    "start_time": "2022-10-20T05:38:37.989Z"
   },
   {
    "duration": 4,
    "start_time": "2022-10-20T05:39:08.672Z"
   },
   {
    "duration": 823,
    "start_time": "2022-10-20T05:43:01.008Z"
   },
   {
    "duration": 746,
    "start_time": "2022-10-20T05:45:07.637Z"
   },
   {
    "duration": 839,
    "start_time": "2022-10-20T05:45:24.742Z"
   },
   {
    "duration": 886,
    "start_time": "2022-10-20T05:46:08.599Z"
   },
   {
    "duration": 827,
    "start_time": "2022-10-20T05:47:13.858Z"
   },
   {
    "duration": 1603,
    "start_time": "2022-10-20T05:47:37.534Z"
   },
   {
    "duration": 876,
    "start_time": "2022-10-20T05:47:48.623Z"
   },
   {
    "duration": 810,
    "start_time": "2022-10-20T05:47:59.077Z"
   },
   {
    "duration": 700,
    "start_time": "2022-10-20T05:48:58.235Z"
   },
   {
    "duration": 843,
    "start_time": "2022-10-20T05:49:33.859Z"
   },
   {
    "duration": 806,
    "start_time": "2022-10-20T05:50:08.561Z"
   },
   {
    "duration": 841,
    "start_time": "2022-10-20T05:50:14.066Z"
   },
   {
    "duration": 16,
    "start_time": "2022-10-20T05:51:46.172Z"
   },
   {
    "duration": 818,
    "start_time": "2022-10-20T05:53:05.967Z"
   },
   {
    "duration": 811,
    "start_time": "2022-10-20T05:53:42.070Z"
   },
   {
    "duration": 827,
    "start_time": "2022-10-20T05:57:41.200Z"
   },
   {
    "duration": 10,
    "start_time": "2022-10-20T06:59:59.532Z"
   },
   {
    "duration": 9,
    "start_time": "2022-10-20T07:01:13.572Z"
   },
   {
    "duration": 2588,
    "start_time": "2022-10-20T07:01:32.338Z"
   },
   {
    "duration": 4,
    "start_time": "2022-10-20T07:01:43.155Z"
   },
   {
    "duration": 11,
    "start_time": "2022-10-20T07:01:47.539Z"
   },
   {
    "duration": 27,
    "start_time": "2022-10-20T07:01:53.474Z"
   },
   {
    "duration": 72,
    "start_time": "2022-10-20T07:01:58.158Z"
   },
   {
    "duration": 10,
    "start_time": "2022-10-20T07:03:12.593Z"
   },
   {
    "duration": 17,
    "start_time": "2022-10-20T07:03:38.249Z"
   },
   {
    "duration": 9,
    "start_time": "2022-10-20T07:04:32.744Z"
   },
   {
    "duration": 52,
    "start_time": "2022-10-20T07:06:13.235Z"
   },
   {
    "duration": 14,
    "start_time": "2022-10-20T07:07:16.458Z"
   },
   {
    "duration": 15,
    "start_time": "2022-10-20T07:07:30.626Z"
   },
   {
    "duration": 14,
    "start_time": "2022-10-20T07:08:22.265Z"
   },
   {
    "duration": 14,
    "start_time": "2022-10-20T07:12:53.959Z"
   },
   {
    "duration": 9,
    "start_time": "2022-10-20T07:16:08.072Z"
   },
   {
    "duration": 5,
    "start_time": "2022-10-20T07:19:37.109Z"
   },
   {
    "duration": 6,
    "start_time": "2022-10-20T07:22:42.833Z"
   },
   {
    "duration": 13,
    "start_time": "2022-10-20T07:25:14.944Z"
   },
   {
    "duration": 6,
    "start_time": "2022-10-20T07:25:36.347Z"
   },
   {
    "duration": 8,
    "start_time": "2022-10-20T07:32:00.557Z"
   },
   {
    "duration": 227,
    "start_time": "2022-10-20T07:32:24.567Z"
   },
   {
    "duration": 230,
    "start_time": "2022-10-20T07:32:58.021Z"
   },
   {
    "duration": 422,
    "start_time": "2022-10-20T07:34:52.037Z"
   },
   {
    "duration": 8,
    "start_time": "2022-10-20T07:38:59.638Z"
   },
   {
    "duration": 778,
    "start_time": "2022-10-20T08:01:31.245Z"
   },
   {
    "duration": 9,
    "start_time": "2022-10-20T08:01:52.553Z"
   },
   {
    "duration": 768,
    "start_time": "2022-10-20T08:02:39.049Z"
   },
   {
    "duration": 7,
    "start_time": "2022-10-20T08:02:43.122Z"
   },
   {
    "duration": 55,
    "start_time": "2022-10-21T07:19:46.771Z"
   },
   {
    "duration": 3469,
    "start_time": "2022-10-21T07:20:11.774Z"
   },
   {
    "duration": 5,
    "start_time": "2022-10-21T07:20:22.638Z"
   },
   {
    "duration": 15,
    "start_time": "2022-10-21T07:20:27.206Z"
   },
   {
    "duration": 36,
    "start_time": "2022-10-21T07:20:31.079Z"
   },
   {
    "duration": 78,
    "start_time": "2022-10-21T07:20:34.284Z"
   },
   {
    "duration": 19,
    "start_time": "2022-10-21T07:20:38.725Z"
   },
   {
    "duration": 21,
    "start_time": "2022-10-21T07:20:43.018Z"
   },
   {
    "duration": 5,
    "start_time": "2022-10-21T07:20:45.372Z"
   },
   {
    "duration": 12,
    "start_time": "2022-10-21T07:20:47.826Z"
   },
   {
    "duration": 500,
    "start_time": "2022-10-21T07:20:50.596Z"
   },
   {
    "duration": 967,
    "start_time": "2022-10-21T07:20:53.723Z"
   },
   {
    "duration": 15,
    "start_time": "2022-10-21T07:21:02.784Z"
   },
   {
    "duration": 21,
    "start_time": "2022-10-21T07:21:06.504Z"
   },
   {
    "duration": 786,
    "start_time": "2022-10-21T08:06:49.355Z"
   },
   {
    "duration": 14,
    "start_time": "2022-10-21T08:06:52.590Z"
   },
   {
    "duration": 862,
    "start_time": "2022-10-21T08:07:39.906Z"
   },
   {
    "duration": 19,
    "start_time": "2022-10-21T08:07:47.075Z"
   },
   {
    "duration": 846,
    "start_time": "2022-10-21T08:08:07.999Z"
   },
   {
    "duration": 7,
    "start_time": "2022-10-21T08:08:11.399Z"
   },
   {
    "duration": 13,
    "start_time": "2022-10-21T08:08:17.539Z"
   },
   {
    "duration": 2174,
    "start_time": "2022-10-21T08:09:45.974Z"
   },
   {
    "duration": 40,
    "start_time": "2022-10-21T08:10:00.520Z"
   },
   {
    "duration": 14,
    "start_time": "2022-10-21T08:10:04.514Z"
   },
   {
    "duration": 2922,
    "start_time": "2022-10-21T08:10:22.683Z"
   },
   {
    "duration": 43,
    "start_time": "2022-10-21T08:10:33.137Z"
   },
   {
    "duration": 20,
    "start_time": "2022-10-21T08:10:38.711Z"
   },
   {
    "duration": 15,
    "start_time": "2022-10-21T08:10:45.435Z"
   },
   {
    "duration": 5,
    "start_time": "2022-10-21T08:10:46.910Z"
   },
   {
    "duration": 9,
    "start_time": "2022-10-21T08:10:48.857Z"
   },
   {
    "duration": 520,
    "start_time": "2022-10-21T08:10:51.325Z"
   },
   {
    "duration": 933,
    "start_time": "2022-10-21T08:10:54.289Z"
   },
   {
    "duration": 12,
    "start_time": "2022-10-21T08:10:58.463Z"
   },
   {
    "duration": 926,
    "start_time": "2022-10-21T08:11:31.014Z"
   },
   {
    "duration": 14,
    "start_time": "2022-10-21T08:11:34.415Z"
   },
   {
    "duration": 100,
    "start_time": "2022-10-21T08:14:01.276Z"
   },
   {
    "duration": 1588,
    "start_time": "2022-10-21T08:38:21.578Z"
   },
   {
    "duration": 1220,
    "start_time": "2022-10-21T08:38:55.597Z"
   },
   {
    "duration": 1497,
    "start_time": "2022-10-21T08:39:31.229Z"
   },
   {
    "duration": 105,
    "start_time": "2022-10-21T08:42:22.549Z"
   },
   {
    "duration": 96,
    "start_time": "2022-10-21T08:42:43.467Z"
   },
   {
    "duration": 16,
    "start_time": "2022-10-21T08:44:09.479Z"
   },
   {
    "duration": 9,
    "start_time": "2022-10-21T08:46:45.356Z"
   },
   {
    "duration": 9,
    "start_time": "2022-10-21T08:47:17.463Z"
   },
   {
    "duration": 11,
    "start_time": "2022-10-21T08:48:07.363Z"
   },
   {
    "duration": 1646,
    "start_time": "2022-10-21T08:51:08.112Z"
   },
   {
    "duration": 2958,
    "start_time": "2022-10-21T09:02:01.819Z"
   },
   {
    "duration": 1913,
    "start_time": "2022-10-21T09:02:17.358Z"
   },
   {
    "duration": 254,
    "start_time": "2022-10-21T09:10:01.677Z"
   },
   {
    "duration": 41,
    "start_time": "2022-10-21T09:11:00.283Z"
   },
   {
    "duration": 14,
    "start_time": "2022-10-21T09:11:36.358Z"
   },
   {
    "duration": 4141,
    "start_time": "2022-10-21T09:17:37.764Z"
   },
   {
    "duration": 16,
    "start_time": "2022-10-21T09:17:52.045Z"
   },
   {
    "duration": 41,
    "start_time": "2022-10-21T09:17:57.182Z"
   },
   {
    "duration": 76,
    "start_time": "2022-10-21T09:18:00.878Z"
   },
   {
    "duration": 28,
    "start_time": "2022-10-21T09:18:05.866Z"
   },
   {
    "duration": 36,
    "start_time": "2022-10-21T09:18:09.503Z"
   },
   {
    "duration": 12,
    "start_time": "2022-10-21T09:18:11.982Z"
   },
   {
    "duration": 8,
    "start_time": "2022-10-21T09:18:16.360Z"
   },
   {
    "duration": 744,
    "start_time": "2022-10-21T09:18:23.536Z"
   },
   {
    "duration": 1040,
    "start_time": "2022-10-21T09:18:27.414Z"
   },
   {
    "duration": 18,
    "start_time": "2022-10-21T09:18:32.914Z"
   },
   {
    "duration": 15,
    "start_time": "2022-10-21T09:18:36.961Z"
   },
   {
    "duration": 109,
    "start_time": "2022-10-21T09:18:41.653Z"
   },
   {
    "duration": 7,
    "start_time": "2022-10-21T09:29:55.447Z"
   },
   {
    "duration": 7,
    "start_time": "2022-10-21T09:33:29.647Z"
   },
   {
    "duration": 17,
    "start_time": "2022-10-21T09:44:35.016Z"
   },
   {
    "duration": 61,
    "start_time": "2022-10-21T13:18:46.088Z"
   },
   {
    "duration": 2625,
    "start_time": "2022-10-21T13:19:10.018Z"
   },
   {
    "duration": 4,
    "start_time": "2022-10-21T13:19:22.152Z"
   },
   {
    "duration": 9,
    "start_time": "2022-10-21T13:19:24.564Z"
   },
   {
    "duration": 23,
    "start_time": "2022-10-21T13:19:28.455Z"
   },
   {
    "duration": 14,
    "start_time": "2022-10-21T13:19:30.785Z"
   },
   {
    "duration": 32,
    "start_time": "2022-10-21T13:19:41.928Z"
   },
   {
    "duration": 16,
    "start_time": "2022-10-21T13:19:46.848Z"
   },
   {
    "duration": 15,
    "start_time": "2022-10-21T13:19:52.868Z"
   },
   {
    "duration": 4,
    "start_time": "2022-10-21T13:19:54.638Z"
   },
   {
    "duration": 7,
    "start_time": "2022-10-21T13:19:57.139Z"
   },
   {
    "duration": 401,
    "start_time": "2022-10-21T13:20:00.056Z"
   },
   {
    "duration": 821,
    "start_time": "2022-10-21T13:20:03.798Z"
   },
   {
    "duration": 8,
    "start_time": "2022-10-21T13:20:09.263Z"
   },
   {
    "duration": 12,
    "start_time": "2022-10-21T13:20:15.135Z"
   },
   {
    "duration": 13,
    "start_time": "2022-10-21T13:21:04.898Z"
   },
   {
    "duration": 6,
    "start_time": "2022-10-21T13:21:09.035Z"
   },
   {
    "duration": 9,
    "start_time": "2022-10-21T13:24:37.596Z"
   },
   {
    "duration": 6,
    "start_time": "2022-10-21T13:24:46.533Z"
   },
   {
    "duration": 8,
    "start_time": "2022-10-21T13:26:18.371Z"
   },
   {
    "duration": 3,
    "start_time": "2022-10-21T13:33:20.116Z"
   },
   {
    "duration": 5,
    "start_time": "2022-10-21T13:35:28.633Z"
   },
   {
    "duration": 11,
    "start_time": "2022-10-21T13:38:06.201Z"
   },
   {
    "duration": 297,
    "start_time": "2022-10-21T13:40:03.277Z"
   },
   {
    "duration": 6,
    "start_time": "2022-10-21T13:43:24.725Z"
   },
   {
    "duration": 24,
    "start_time": "2022-10-21T13:44:08.219Z"
   },
   {
    "duration": 31,
    "start_time": "2022-10-21T13:47:24.199Z"
   },
   {
    "duration": 74,
    "start_time": "2022-10-21T14:04:50.461Z"
   },
   {
    "duration": 4,
    "start_time": "2022-10-21T14:22:30.884Z"
   },
   {
    "duration": 31,
    "start_time": "2022-10-21T14:23:18.804Z"
   },
   {
    "duration": 32,
    "start_time": "2022-10-21T14:23:44.929Z"
   },
   {
    "duration": 5,
    "start_time": "2022-10-21T14:45:49.431Z"
   },
   {
    "duration": 35,
    "start_time": "2022-10-21T14:45:57.848Z"
   },
   {
    "duration": 83,
    "start_time": "2022-10-21T14:48:30.068Z"
   },
   {
    "duration": 84,
    "start_time": "2022-10-21T14:53:52.267Z"
   },
   {
    "duration": 2467,
    "start_time": "2022-10-21T14:54:45.912Z"
   },
   {
    "duration": 69,
    "start_time": "2022-10-21T14:54:55.875Z"
   },
   {
    "duration": 68,
    "start_time": "2022-10-21T15:18:16.855Z"
   },
   {
    "duration": 10,
    "start_time": "2022-10-21T15:20:00.447Z"
   },
   {
    "duration": 9,
    "start_time": "2022-10-21T15:21:12.537Z"
   },
   {
    "duration": 1904,
    "start_time": "2022-10-21T15:21:34.769Z"
   },
   {
    "duration": 2415,
    "start_time": "2022-10-21T15:21:46.488Z"
   },
   {
    "duration": 84,
    "start_time": "2022-10-21T15:21:54.520Z"
   },
   {
    "duration": 3,
    "start_time": "2022-10-21T15:21:57.500Z"
   },
   {
    "duration": 8,
    "start_time": "2022-10-21T15:21:59.735Z"
   },
   {
    "duration": 25,
    "start_time": "2022-10-21T15:22:02.718Z"
   },
   {
    "duration": 39,
    "start_time": "2022-10-21T15:22:05.438Z"
   },
   {
    "duration": 15,
    "start_time": "2022-10-21T15:22:10.637Z"
   },
   {
    "duration": 14,
    "start_time": "2022-10-21T15:22:12.824Z"
   },
   {
    "duration": 4,
    "start_time": "2022-10-21T15:22:14.351Z"
   },
   {
    "duration": 7,
    "start_time": "2022-10-21T15:22:16.012Z"
   },
   {
    "duration": 402,
    "start_time": "2022-10-21T15:22:18.055Z"
   },
   {
    "duration": 761,
    "start_time": "2022-10-21T15:22:20.339Z"
   },
   {
    "duration": 7,
    "start_time": "2022-10-21T15:22:23.504Z"
   },
   {
    "duration": 12,
    "start_time": "2022-10-21T15:22:26.126Z"
   },
   {
    "duration": 7,
    "start_time": "2022-10-21T15:22:28.859Z"
   },
   {
    "duration": 295,
    "start_time": "2022-10-21T15:22:30.899Z"
   },
   {
    "duration": 5,
    "start_time": "2022-10-21T15:22:33.137Z"
   },
   {
    "duration": 11,
    "start_time": "2022-10-21T15:22:36.393Z"
   },
   {
    "duration": 12,
    "start_time": "2022-10-21T15:23:24.257Z"
   },
   {
    "duration": 4,
    "start_time": "2022-10-21T15:23:28.172Z"
   },
   {
    "duration": 24,
    "start_time": "2022-10-21T15:23:33.163Z"
   },
   {
    "duration": 13,
    "start_time": "2022-10-21T15:24:38.310Z"
   },
   {
    "duration": 25,
    "start_time": "2022-10-21T15:24:42.942Z"
   },
   {
    "duration": 62,
    "start_time": "2022-10-21T15:30:05.710Z"
   },
   {
    "duration": 8,
    "start_time": "2022-10-21T15:30:49.633Z"
   },
   {
    "duration": 822,
    "start_time": "2022-10-21T15:31:04.252Z"
   },
   {
    "duration": 743,
    "start_time": "2022-10-21T15:32:37.009Z"
   },
   {
    "duration": 21,
    "start_time": "2022-10-21T15:33:51.000Z"
   },
   {
    "duration": 23,
    "start_time": "2022-10-21T15:34:01.032Z"
   },
   {
    "duration": 2841,
    "start_time": "2022-10-22T12:59:22.712Z"
   },
   {
    "duration": 76,
    "start_time": "2022-10-22T12:59:33.261Z"
   },
   {
    "duration": 4,
    "start_time": "2022-10-22T12:59:36.875Z"
   },
   {
    "duration": 10,
    "start_time": "2022-10-22T12:59:39.508Z"
   },
   {
    "duration": 25,
    "start_time": "2022-10-22T12:59:42.597Z"
   },
   {
    "duration": 37,
    "start_time": "2022-10-22T12:59:45.421Z"
   },
   {
    "duration": 20,
    "start_time": "2022-10-22T12:59:48.746Z"
   },
   {
    "duration": 15,
    "start_time": "2022-10-22T12:59:50.887Z"
   },
   {
    "duration": 5,
    "start_time": "2022-10-22T12:59:52.836Z"
   },
   {
    "duration": 8,
    "start_time": "2022-10-22T12:59:54.443Z"
   },
   {
    "duration": 444,
    "start_time": "2022-10-22T12:59:56.607Z"
   },
   {
    "duration": 789,
    "start_time": "2022-10-22T12:59:59.762Z"
   },
   {
    "duration": 8,
    "start_time": "2022-10-22T13:00:03.731Z"
   },
   {
    "duration": 15,
    "start_time": "2022-10-22T13:00:06.543Z"
   },
   {
    "duration": 7,
    "start_time": "2022-10-22T13:00:09.242Z"
   },
   {
    "duration": 1900,
    "start_time": "2022-10-22T13:00:10.761Z"
   },
   {
    "duration": 18,
    "start_time": "2022-10-22T13:27:50.685Z"
   },
   {
    "duration": 330,
    "start_time": "2022-10-22T13:27:55.646Z"
   },
   {
    "duration": 5,
    "start_time": "2022-10-22T13:27:58.515Z"
   },
   {
    "duration": 14,
    "start_time": "2022-10-22T13:28:01.226Z"
   },
   {
    "duration": 6,
    "start_time": "2022-10-22T13:28:03.291Z"
   },
   {
    "duration": 25,
    "start_time": "2022-10-22T13:28:09.515Z"
   },
   {
    "duration": 9,
    "start_time": "2022-10-22T13:31:37.937Z"
   },
   {
    "duration": 1901,
    "start_time": "2022-10-22T13:32:33.467Z"
   },
   {
    "duration": 154,
    "start_time": "2022-10-22T13:32:42.671Z"
   },
   {
    "duration": 220,
    "start_time": "2022-10-22T13:37:46.256Z"
   },
   {
    "duration": 650,
    "start_time": "2022-10-22T13:38:35.313Z"
   },
   {
    "duration": 217,
    "start_time": "2022-10-22T13:39:06.131Z"
   },
   {
    "duration": 152,
    "start_time": "2022-10-22T13:39:27.476Z"
   },
   {
    "duration": 46,
    "start_time": "2022-10-22T13:40:31.290Z"
   },
   {
    "duration": 174,
    "start_time": "2022-10-22T13:40:54.986Z"
   },
   {
    "duration": 54,
    "start_time": "2022-10-22T13:41:15.996Z"
   },
   {
    "duration": 319,
    "start_time": "2022-10-22T13:41:50.420Z"
   },
   {
    "duration": 58,
    "start_time": "2022-10-22T13:42:46.319Z"
   },
   {
    "duration": 63,
    "start_time": "2022-10-22T13:43:27.496Z"
   },
   {
    "duration": 170,
    "start_time": "2022-10-22T13:45:02.258Z"
   },
   {
    "duration": 49,
    "start_time": "2022-10-22T13:45:45.221Z"
   },
   {
    "duration": 169,
    "start_time": "2022-10-22T13:46:03.889Z"
   },
   {
    "duration": 173,
    "start_time": "2022-10-22T13:46:23.285Z"
   },
   {
    "duration": 167,
    "start_time": "2022-10-22T13:46:31.735Z"
   },
   {
    "duration": 179,
    "start_time": "2022-10-22T13:47:00.132Z"
   },
   {
    "duration": 3093,
    "start_time": "2022-10-23T03:14:11.347Z"
   },
   {
    "duration": 73,
    "start_time": "2022-10-23T03:14:43.297Z"
   },
   {
    "duration": 5,
    "start_time": "2022-10-23T03:14:47.536Z"
   },
   {
    "duration": 11,
    "start_time": "2022-10-23T03:14:50.930Z"
   },
   {
    "duration": 25,
    "start_time": "2022-10-23T03:14:55.781Z"
   },
   {
    "duration": 38,
    "start_time": "2022-10-23T03:14:58.737Z"
   },
   {
    "duration": 23,
    "start_time": "2022-10-23T03:15:02.919Z"
   },
   {
    "duration": 15,
    "start_time": "2022-10-23T03:15:05.281Z"
   },
   {
    "duration": 4,
    "start_time": "2022-10-23T03:15:06.970Z"
   },
   {
    "duration": 7,
    "start_time": "2022-10-23T03:15:09.245Z"
   },
   {
    "duration": 467,
    "start_time": "2022-10-23T03:15:11.492Z"
   },
   {
    "duration": 822,
    "start_time": "2022-10-23T03:15:13.946Z"
   },
   {
    "duration": 8,
    "start_time": "2022-10-23T03:15:18.105Z"
   },
   {
    "duration": 16,
    "start_time": "2022-10-23T03:15:21.069Z"
   },
   {
    "duration": 7,
    "start_time": "2022-10-23T03:15:23.675Z"
   },
   {
    "duration": 26,
    "start_time": "2022-10-23T03:15:25.409Z"
   },
   {
    "duration": 317,
    "start_time": "2022-10-23T03:15:27.937Z"
   },
   {
    "duration": 5,
    "start_time": "2022-10-23T03:15:30.236Z"
   },
   {
    "duration": 15,
    "start_time": "2022-10-23T03:15:31.783Z"
   },
   {
    "duration": 5,
    "start_time": "2022-10-23T03:15:34.638Z"
   },
   {
    "duration": 32,
    "start_time": "2022-10-23T03:15:37.602Z"
   },
   {
    "duration": 170,
    "start_time": "2022-10-23T03:15:41.273Z"
   },
   {
    "duration": 145,
    "start_time": "2022-10-23T03:18:12.737Z"
   },
   {
    "duration": 201,
    "start_time": "2022-10-23T03:28:07.385Z"
   },
   {
    "duration": 173,
    "start_time": "2022-10-23T03:29:52.590Z"
   },
   {
    "duration": 136,
    "start_time": "2022-10-23T03:30:57.244Z"
   },
   {
    "duration": 260,
    "start_time": "2022-10-23T03:32:04.840Z"
   },
   {
    "duration": 220,
    "start_time": "2022-10-23T03:33:11.058Z"
   },
   {
    "duration": 137,
    "start_time": "2022-10-23T03:36:08.285Z"
   },
   {
    "duration": 143,
    "start_time": "2022-10-23T03:36:27.050Z"
   },
   {
    "duration": 142,
    "start_time": "2022-10-23T03:38:23.971Z"
   },
   {
    "duration": 161,
    "start_time": "2022-10-23T03:39:14.544Z"
   },
   {
    "duration": 146,
    "start_time": "2022-10-23T03:39:36.928Z"
   },
   {
    "duration": 125,
    "start_time": "2022-10-23T03:39:56.382Z"
   },
   {
    "duration": 221,
    "start_time": "2022-10-23T03:40:08.721Z"
   },
   {
    "duration": 135,
    "start_time": "2022-10-23T03:41:00.558Z"
   },
   {
    "duration": 204,
    "start_time": "2022-10-23T03:41:08.854Z"
   },
   {
    "duration": 260,
    "start_time": "2022-10-23T03:41:29.492Z"
   },
   {
    "duration": 177,
    "start_time": "2022-10-23T03:41:38.516Z"
   },
   {
    "duration": 147,
    "start_time": "2022-10-23T03:42:04.013Z"
   },
   {
    "duration": 144,
    "start_time": "2022-10-23T03:42:10.111Z"
   },
   {
    "duration": 159,
    "start_time": "2022-10-23T03:42:26.421Z"
   },
   {
    "duration": 179,
    "start_time": "2022-10-23T03:42:40.246Z"
   },
   {
    "duration": 173,
    "start_time": "2022-10-23T03:44:01.527Z"
   },
   {
    "duration": 168,
    "start_time": "2022-10-23T03:44:08.976Z"
   },
   {
    "duration": 153,
    "start_time": "2022-10-23T03:44:21.113Z"
   },
   {
    "duration": 194,
    "start_time": "2022-10-23T03:44:45.368Z"
   },
   {
    "duration": 144,
    "start_time": "2022-10-23T03:44:58.523Z"
   },
   {
    "duration": 244,
    "start_time": "2022-10-23T03:46:27.494Z"
   },
   {
    "duration": 177,
    "start_time": "2022-10-23T03:47:51.485Z"
   },
   {
    "duration": 231,
    "start_time": "2022-10-23T03:49:08.624Z"
   },
   {
    "duration": 115,
    "start_time": "2022-10-23T03:49:17.299Z"
   },
   {
    "duration": 152,
    "start_time": "2022-10-23T03:49:36.512Z"
   },
   {
    "duration": 132,
    "start_time": "2022-10-23T03:49:45.417Z"
   },
   {
    "duration": 159,
    "start_time": "2022-10-23T03:53:05.517Z"
   },
   {
    "duration": 12,
    "start_time": "2022-10-23T03:53:29.089Z"
   },
   {
    "duration": 48,
    "start_time": "2022-10-23T03:54:19.932Z"
   },
   {
    "duration": 47,
    "start_time": "2022-10-23T03:57:03.124Z"
   },
   {
    "duration": 38,
    "start_time": "2022-10-23T03:57:12.398Z"
   },
   {
    "duration": 131,
    "start_time": "2022-10-23T03:57:23.495Z"
   },
   {
    "duration": 129,
    "start_time": "2022-10-23T03:57:45.040Z"
   },
   {
    "duration": 118,
    "start_time": "2022-10-23T03:57:57.562Z"
   },
   {
    "duration": 118,
    "start_time": "2022-10-23T03:58:07.173Z"
   },
   {
    "duration": 124,
    "start_time": "2022-10-23T03:58:15.059Z"
   },
   {
    "duration": 118,
    "start_time": "2022-10-23T03:59:41.285Z"
   },
   {
    "duration": 222,
    "start_time": "2022-10-23T04:00:05.506Z"
   },
   {
    "duration": 109,
    "start_time": "2022-10-23T04:02:24.039Z"
   },
   {
    "duration": 166,
    "start_time": "2022-10-23T04:02:40.343Z"
   },
   {
    "duration": 189,
    "start_time": "2022-10-23T04:02:56.547Z"
   },
   {
    "duration": 259,
    "start_time": "2022-10-23T04:03:07.852Z"
   },
   {
    "duration": 193,
    "start_time": "2022-10-23T04:04:39.985Z"
   },
   {
    "duration": 692,
    "start_time": "2022-10-23T04:07:14.807Z"
   },
   {
    "duration": 17,
    "start_time": "2022-10-23T04:08:21.118Z"
   },
   {
    "duration": 705,
    "start_time": "2022-10-23T04:08:34.713Z"
   },
   {
    "duration": 788,
    "start_time": "2022-10-23T04:10:14.053Z"
   },
   {
    "duration": 2585,
    "start_time": "2022-10-23T04:11:17.601Z"
   },
   {
    "duration": 79,
    "start_time": "2022-10-23T04:11:26.476Z"
   },
   {
    "duration": 4,
    "start_time": "2022-10-23T04:11:29.717Z"
   },
   {
    "duration": 8,
    "start_time": "2022-10-23T04:11:32.207Z"
   },
   {
    "duration": 27,
    "start_time": "2022-10-23T04:11:34.884Z"
   },
   {
    "duration": 41,
    "start_time": "2022-10-23T04:11:37.077Z"
   },
   {
    "duration": 16,
    "start_time": "2022-10-23T04:11:40.672Z"
   },
   {
    "duration": 17,
    "start_time": "2022-10-23T04:11:43.169Z"
   },
   {
    "duration": 4,
    "start_time": "2022-10-23T04:11:46.220Z"
   },
   {
    "duration": 7,
    "start_time": "2022-10-23T04:11:47.702Z"
   },
   {
    "duration": 419,
    "start_time": "2022-10-23T04:11:49.435Z"
   },
   {
    "duration": 779,
    "start_time": "2022-10-23T04:11:51.606Z"
   },
   {
    "duration": 8,
    "start_time": "2022-10-23T04:11:53.774Z"
   },
   {
    "duration": 14,
    "start_time": "2022-10-23T04:11:55.957Z"
   },
   {
    "duration": 7,
    "start_time": "2022-10-23T04:11:59.106Z"
   },
   {
    "duration": 14,
    "start_time": "2022-10-23T04:12:00.456Z"
   },
   {
    "duration": 301,
    "start_time": "2022-10-23T04:12:02.080Z"
   },
   {
    "duration": 5,
    "start_time": "2022-10-23T04:12:04.306Z"
   },
   {
    "duration": 14,
    "start_time": "2022-10-23T04:12:05.555Z"
   },
   {
    "duration": 5,
    "start_time": "2022-10-23T04:12:07.580Z"
   },
   {
    "duration": 24,
    "start_time": "2022-10-23T04:12:09.494Z"
   },
   {
    "duration": 153,
    "start_time": "2022-10-23T04:12:12.060Z"
   },
   {
    "duration": 156,
    "start_time": "2022-10-23T04:12:14.995Z"
   },
   {
    "duration": 163,
    "start_time": "2022-10-23T04:12:17.473Z"
   },
   {
    "duration": 182,
    "start_time": "2022-10-23T04:12:20.103Z"
   },
   {
    "duration": 136,
    "start_time": "2022-10-23T04:12:22.856Z"
   },
   {
    "duration": 256,
    "start_time": "2022-10-23T04:12:25.968Z"
   },
   {
    "duration": 162,
    "start_time": "2022-10-23T04:12:29.475Z"
   },
   {
    "duration": 136,
    "start_time": "2022-10-23T04:12:32.290Z"
   },
   {
    "duration": 206,
    "start_time": "2022-10-23T04:12:35.569Z"
   },
   {
    "duration": 188,
    "start_time": "2022-10-23T04:12:39.876Z"
   },
   {
    "duration": 232,
    "start_time": "2022-10-23T04:13:48.995Z"
   },
   {
    "duration": 236,
    "start_time": "2022-10-23T04:14:33.348Z"
   },
   {
    "duration": 268,
    "start_time": "2022-10-23T04:14:41.616Z"
   },
   {
    "duration": 258,
    "start_time": "2022-10-23T04:14:53.753Z"
   },
   {
    "duration": 1445,
    "start_time": "2022-10-23T04:15:01.550Z"
   },
   {
    "duration": 255,
    "start_time": "2022-10-23T04:15:22.519Z"
   },
   {
    "duration": 233,
    "start_time": "2022-10-23T04:16:53.666Z"
   },
   {
    "duration": 1996,
    "start_time": "2022-10-23T06:30:07.608Z"
   },
   {
    "duration": 2460,
    "start_time": "2022-10-23T06:30:24.461Z"
   },
   {
    "duration": 70,
    "start_time": "2022-10-23T06:30:37.163Z"
   },
   {
    "duration": 4,
    "start_time": "2022-10-23T06:30:40.316Z"
   },
   {
    "duration": 9,
    "start_time": "2022-10-23T06:30:42.502Z"
   },
   {
    "duration": 25,
    "start_time": "2022-10-23T06:30:45.524Z"
   },
   {
    "duration": 38,
    "start_time": "2022-10-23T06:30:48.766Z"
   },
   {
    "duration": 21,
    "start_time": "2022-10-23T06:30:51.237Z"
   },
   {
    "duration": 17,
    "start_time": "2022-10-23T06:30:55.887Z"
   },
   {
    "duration": 5,
    "start_time": "2022-10-23T06:31:00.897Z"
   },
   {
    "duration": 8,
    "start_time": "2022-10-23T06:31:02.414Z"
   },
   {
    "duration": 422,
    "start_time": "2022-10-23T06:31:05.200Z"
   },
   {
    "duration": 822,
    "start_time": "2022-10-23T06:31:07.263Z"
   },
   {
    "duration": 8,
    "start_time": "2022-10-23T06:31:09.411Z"
   },
   {
    "duration": 17,
    "start_time": "2022-10-23T06:31:11.608Z"
   },
   {
    "duration": 8,
    "start_time": "2022-10-23T06:31:14.370Z"
   },
   {
    "duration": 20,
    "start_time": "2022-10-23T06:31:16.929Z"
   },
   {
    "duration": 324,
    "start_time": "2022-10-23T06:31:19.602Z"
   },
   {
    "duration": 6,
    "start_time": "2022-10-23T06:31:22.693Z"
   },
   {
    "duration": 14,
    "start_time": "2022-10-23T06:31:39.620Z"
   },
   {
    "duration": 6,
    "start_time": "2022-10-23T06:31:41.441Z"
   },
   {
    "duration": 24,
    "start_time": "2022-10-23T06:31:43.937Z"
   },
   {
    "duration": 161,
    "start_time": "2022-10-23T06:31:46.919Z"
   },
   {
    "duration": 149,
    "start_time": "2022-10-23T06:31:50.005Z"
   },
   {
    "duration": 153,
    "start_time": "2022-10-23T06:32:15.725Z"
   },
   {
    "duration": 150,
    "start_time": "2022-10-23T06:32:25.978Z"
   },
   {
    "duration": 229,
    "start_time": "2022-10-23T06:32:37.928Z"
   },
   {
    "duration": 127,
    "start_time": "2022-10-23T06:32:41.301Z"
   },
   {
    "duration": 176,
    "start_time": "2022-10-23T06:32:45.082Z"
   },
   {
    "duration": 180,
    "start_time": "2022-10-23T06:32:51.851Z"
   },
   {
    "duration": 110,
    "start_time": "2022-10-23T06:32:56.219Z"
   },
   {
    "duration": 235,
    "start_time": "2022-10-23T06:33:02.210Z"
   },
   {
    "duration": 262,
    "start_time": "2022-10-23T06:33:08.969Z"
   },
   {
    "duration": 213,
    "start_time": "2022-10-23T06:34:37.633Z"
   },
   {
    "duration": 306,
    "start_time": "2022-10-23T06:34:48.031Z"
   },
   {
    "duration": 245,
    "start_time": "2022-10-23T06:34:53.120Z"
   },
   {
    "duration": 146,
    "start_time": "2022-10-23T06:36:48.182Z"
   },
   {
    "duration": 138,
    "start_time": "2022-10-23T06:36:56.836Z"
   },
   {
    "duration": 137,
    "start_time": "2022-10-23T06:37:05.018Z"
   },
   {
    "duration": 128,
    "start_time": "2022-10-23T06:37:11.366Z"
   },
   {
    "duration": 124,
    "start_time": "2022-10-23T06:43:58.485Z"
   },
   {
    "duration": 123,
    "start_time": "2022-10-23T06:44:20.267Z"
   },
   {
    "duration": 120,
    "start_time": "2022-10-23T06:44:58.085Z"
   },
   {
    "duration": 200,
    "start_time": "2022-10-23T06:45:15.164Z"
   },
   {
    "duration": 145,
    "start_time": "2022-10-23T06:45:40.131Z"
   },
   {
    "duration": 428,
    "start_time": "2022-10-23T06:48:26.334Z"
   },
   {
    "duration": 23,
    "start_time": "2022-10-23T07:55:51.548Z"
   },
   {
    "duration": 7,
    "start_time": "2022-10-23T08:00:40.972Z"
   },
   {
    "duration": 23,
    "start_time": "2022-10-23T08:00:45.250Z"
   },
   {
    "duration": 158,
    "start_time": "2022-10-23T08:05:08.677Z"
   },
   {
    "duration": 2951,
    "start_time": "2022-10-23T15:24:29.676Z"
   },
   {
    "duration": 2688,
    "start_time": "2022-10-24T01:17:03.692Z"
   },
   {
    "duration": 29,
    "start_time": "2022-10-24T01:17:15.005Z"
   },
   {
    "duration": 30,
    "start_time": "2022-10-24T01:17:35.467Z"
   },
   {
    "duration": 3,
    "start_time": "2022-10-24T01:20:06.235Z"
   },
   {
    "duration": 29,
    "start_time": "2022-10-24T01:20:30.973Z"
   },
   {
    "duration": 4,
    "start_time": "2022-10-24T01:21:02.957Z"
   },
   {
    "duration": 9,
    "start_time": "2022-10-24T01:21:09.211Z"
   },
   {
    "duration": 25,
    "start_time": "2022-10-24T01:21:12.935Z"
   },
   {
    "duration": 37,
    "start_time": "2022-10-24T01:21:15.705Z"
   },
   {
    "duration": 16,
    "start_time": "2022-10-24T01:21:21.596Z"
   },
   {
    "duration": 20,
    "start_time": "2022-10-24T01:27:47.892Z"
   },
   {
    "duration": 26,
    "start_time": "2022-10-24T01:28:03.771Z"
   },
   {
    "duration": 95,
    "start_time": "2022-10-24T01:52:32.730Z"
   },
   {
    "duration": 37,
    "start_time": "2022-10-24T01:52:46.281Z"
   },
   {
    "duration": 40,
    "start_time": "2022-10-24T01:53:04.798Z"
   },
   {
    "duration": 13255,
    "start_time": "2022-10-24T02:02:55.557Z"
   },
   {
    "duration": 8,
    "start_time": "2022-10-24T02:06:33.680Z"
   },
   {
    "duration": 14,
    "start_time": "2022-10-24T02:06:38.954Z"
   },
   {
    "duration": 8,
    "start_time": "2022-10-24T02:06:43.627Z"
   },
   {
    "duration": 16,
    "start_time": "2022-10-24T02:11:31.949Z"
   },
   {
    "duration": 9,
    "start_time": "2022-10-24T02:15:15.491Z"
   },
   {
    "duration": 6,
    "start_time": "2022-10-24T02:15:49.362Z"
   },
   {
    "duration": 277,
    "start_time": "2022-10-24T02:18:50.888Z"
   },
   {
    "duration": 160,
    "start_time": "2022-10-24T02:20:11.148Z"
   },
   {
    "duration": 154,
    "start_time": "2022-10-24T02:21:03.700Z"
   },
   {
    "duration": 156,
    "start_time": "2022-10-24T02:21:47.252Z"
   },
   {
    "duration": 159,
    "start_time": "2022-10-24T02:22:31.877Z"
   },
   {
    "duration": 129,
    "start_time": "2022-10-24T02:24:31.967Z"
   },
   {
    "duration": 174,
    "start_time": "2022-10-24T02:25:01.893Z"
   },
   {
    "duration": 162,
    "start_time": "2022-10-24T02:25:31.857Z"
   },
   {
    "duration": 192,
    "start_time": "2022-10-24T02:26:02.456Z"
   },
   {
    "duration": 230,
    "start_time": "2022-10-24T02:26:30.413Z"
   },
   {
    "duration": 239,
    "start_time": "2022-10-24T02:26:55.603Z"
   },
   {
    "duration": 380,
    "start_time": "2022-10-24T02:27:22.158Z"
   },
   {
    "duration": 138,
    "start_time": "2022-10-24T02:29:28.095Z"
   },
   {
    "duration": 139,
    "start_time": "2022-10-24T02:30:30.020Z"
   },
   {
    "duration": 133,
    "start_time": "2022-10-24T02:30:54.585Z"
   },
   {
    "duration": 125,
    "start_time": "2022-10-24T02:31:07.128Z"
   },
   {
    "duration": 133,
    "start_time": "2022-10-24T02:31:22.195Z"
   },
   {
    "duration": 14,
    "start_time": "2022-10-24T02:31:36.754Z"
   },
   {
    "duration": 12,
    "start_time": "2022-10-24T02:32:24.558Z"
   },
   {
    "duration": 2411,
    "start_time": "2022-10-24T02:33:36.450Z"
   },
   {
    "duration": 69,
    "start_time": "2022-10-24T02:33:43.237Z"
   },
   {
    "duration": 30,
    "start_time": "2022-10-24T02:33:46.593Z"
   },
   {
    "duration": 4,
    "start_time": "2022-10-24T02:33:49.163Z"
   },
   {
    "duration": 9,
    "start_time": "2022-10-24T02:33:51.107Z"
   },
   {
    "duration": 24,
    "start_time": "2022-10-24T02:33:54.395Z"
   },
   {
    "duration": 36,
    "start_time": "2022-10-24T02:33:57.133Z"
   },
   {
    "duration": 18,
    "start_time": "2022-10-24T02:34:04.849Z"
   },
   {
    "duration": 37,
    "start_time": "2022-10-24T02:34:07.628Z"
   },
   {
    "duration": 5,
    "start_time": "2022-10-24T02:34:12.065Z"
   },
   {
    "duration": 8,
    "start_time": "2022-10-24T02:34:14.313Z"
   },
   {
    "duration": 414,
    "start_time": "2022-10-24T02:34:17.580Z"
   },
   {
    "duration": 13074,
    "start_time": "2022-10-24T02:34:20.915Z"
   },
   {
    "duration": 9,
    "start_time": "2022-10-24T02:34:38.968Z"
   },
   {
    "duration": 13,
    "start_time": "2022-10-24T02:34:42.353Z"
   },
   {
    "duration": 128,
    "start_time": "2022-10-24T02:34:46.179Z"
   },
   {
    "duration": 21,
    "start_time": "2022-10-24T02:34:48.968Z"
   },
   {
    "duration": 291,
    "start_time": "2022-10-24T02:34:53.405Z"
   },
   {
    "duration": 5,
    "start_time": "2022-10-24T02:34:55.743Z"
   },
   {
    "duration": 11,
    "start_time": "2022-10-24T02:34:58.687Z"
   },
   {
    "duration": 5,
    "start_time": "2022-10-24T02:35:01.002Z"
   },
   {
    "duration": 5,
    "start_time": "2022-10-24T02:35:03.785Z"
   },
   {
    "duration": 26,
    "start_time": "2022-10-24T02:35:07.036Z"
   },
   {
    "duration": 161,
    "start_time": "2022-10-24T02:35:10.169Z"
   },
   {
    "duration": 154,
    "start_time": "2022-10-24T02:35:13.405Z"
   },
   {
    "duration": 175,
    "start_time": "2022-10-24T02:35:16.354Z"
   },
   {
    "duration": 168,
    "start_time": "2022-10-24T02:35:19.467Z"
   },
   {
    "duration": 135,
    "start_time": "2022-10-24T02:35:22.288Z"
   },
   {
    "duration": 184,
    "start_time": "2022-10-24T02:35:24.902Z"
   },
   {
    "duration": 182,
    "start_time": "2022-10-24T02:35:27.618Z"
   },
   {
    "duration": 106,
    "start_time": "2022-10-24T02:35:30.206Z"
   },
   {
    "duration": 329,
    "start_time": "2022-10-24T02:35:32.439Z"
   },
   {
    "duration": 235,
    "start_time": "2022-10-24T02:35:35.247Z"
   },
   {
    "duration": 227,
    "start_time": "2022-10-24T02:35:38.096Z"
   },
   {
    "duration": 215,
    "start_time": "2022-10-24T02:35:40.668Z"
   },
   {
    "duration": 233,
    "start_time": "2022-10-24T02:35:44.195Z"
   },
   {
    "duration": 119,
    "start_time": "2022-10-24T02:35:47.983Z"
   },
   {
    "duration": 144,
    "start_time": "2022-10-24T02:35:50.254Z"
   },
   {
    "duration": 127,
    "start_time": "2022-10-24T02:35:52.521Z"
   },
   {
    "duration": 125,
    "start_time": "2022-10-24T02:35:56.545Z"
   },
   {
    "duration": 122,
    "start_time": "2022-10-24T02:35:59.347Z"
   },
   {
    "duration": 418,
    "start_time": "2022-10-24T02:36:06.759Z"
   },
   {
    "duration": 593,
    "start_time": "2022-10-24T02:38:10.985Z"
   }
  ],
  "kernelspec": {
   "display_name": "Python 3 (ipykernel)",
   "language": "python",
   "name": "python3"
  },
  "language_info": {
   "codemirror_mode": {
    "name": "ipython",
    "version": 3
   },
   "file_extension": ".py",
   "mimetype": "text/x-python",
   "name": "python",
   "nbconvert_exporter": "python",
   "pygments_lexer": "ipython3",
   "version": "3.9.13"
  },
  "toc": {
   "base_numbering": 1,
   "nav_menu": {},
   "number_sections": true,
   "sideBar": true,
   "skip_h1_title": true,
   "title_cell": "Table of Contents",
   "title_sidebar": "Contents",
   "toc_cell": false,
   "toc_position": {},
   "toc_section_display": true,
   "toc_window_display": false
  }
 },
 "nbformat": 4,
 "nbformat_minor": 2
}

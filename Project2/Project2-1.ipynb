{
 "cells": [
  {
   "cell_type": "markdown",
   "id": "0cd5039a",
   "metadata": {
    "deletable": false,
    "editable": false,
    "id": "c81daeeb"
   },
   "source": [
    "# Исследование надежности заемщиков"
   ]
  },
  {
   "cell_type": "markdown",
   "id": "ba79e906",
   "metadata": {
    "deletable": false,
    "editable": false,
    "id": "-G3EJWzf62s6"
   },
   "source": [
    "Это первая часть проекта, она будет проверена автоматически. Вторую часть проверит ревьюер. "
   ]
  },
  {
   "cell_type": "markdown",
   "id": "8c46fd2f",
   "metadata": {
    "deletable": false,
    "editable": false,
    "id": "744d7639"
   },
   "source": [
    "## Откройте таблицу и изучите общую информацию о данных"
   ]
  },
  {
   "cell_type": "markdown",
   "id": "bb73bc4c",
   "metadata": {
    "deletable": false,
    "editable": false,
    "id": "e7a14c31",
    "tags": [
     "start_task"
    ]
   },
   "source": [
    "**Задание 1. Импортируйте библиотеку pandas. Считайте данные из csv-файла в датафрейм и сохраните в переменную `data`. Путь к файлу:**\n",
    "\n",
    "`/datasets/data.csv`"
   ]
  },
  {
   "cell_type": "code",
   "execution_count": 1,
   "id": "65e0cf5d",
   "metadata": {
    "id": "7bcf75c9"
   },
   "outputs": [],
   "source": [
    "import pandas as pd # импортируйте библиотеку pandas"
   ]
  },
  {
   "cell_type": "code",
   "execution_count": 2,
   "id": "402e679e",
   "metadata": {
    "id": "4d240ee2"
   },
   "outputs": [],
   "source": [
    "data = pd.read_csv('/datasets/data.csv')# прочитайте csv-файл"
   ]
  },
  {
   "cell_type": "markdown",
   "id": "f31621c4",
   "metadata": {
    "deletable": false,
    "editable": false,
    "id": "b8038fe3",
    "tags": [
     "start_task"
    ]
   },
   "source": [
    "**Задание 2. Выведите первые 20 строчек датафрейма `data` на экран.**"
   ]
  },
  {
   "cell_type": "code",
   "execution_count": 3,
   "id": "bbf27417",
   "metadata": {
    "id": "2a7cab99"
   },
   "outputs": [
    {
     "data": {
      "text/html": [
       "<div>\n",
       "<style scoped>\n",
       "    .dataframe tbody tr th:only-of-type {\n",
       "        vertical-align: middle;\n",
       "    }\n",
       "\n",
       "    .dataframe tbody tr th {\n",
       "        vertical-align: top;\n",
       "    }\n",
       "\n",
       "    .dataframe thead th {\n",
       "        text-align: right;\n",
       "    }\n",
       "</style>\n",
       "<table border=\"1\" class=\"dataframe\">\n",
       "  <thead>\n",
       "    <tr style=\"text-align: right;\">\n",
       "      <th></th>\n",
       "      <th>children</th>\n",
       "      <th>days_employed</th>\n",
       "      <th>dob_years</th>\n",
       "      <th>education</th>\n",
       "      <th>education_id</th>\n",
       "      <th>family_status</th>\n",
       "      <th>family_status_id</th>\n",
       "      <th>gender</th>\n",
       "      <th>income_type</th>\n",
       "      <th>debt</th>\n",
       "      <th>total_income</th>\n",
       "      <th>purpose</th>\n",
       "    </tr>\n",
       "  </thead>\n",
       "  <tbody>\n",
       "    <tr>\n",
       "      <th>0</th>\n",
       "      <td>1</td>\n",
       "      <td>-8437.673028</td>\n",
       "      <td>42</td>\n",
       "      <td>высшее</td>\n",
       "      <td>0</td>\n",
       "      <td>женат / замужем</td>\n",
       "      <td>0</td>\n",
       "      <td>F</td>\n",
       "      <td>сотрудник</td>\n",
       "      <td>0</td>\n",
       "      <td>253875.639453</td>\n",
       "      <td>покупка жилья</td>\n",
       "    </tr>\n",
       "    <tr>\n",
       "      <th>1</th>\n",
       "      <td>1</td>\n",
       "      <td>-4024.803754</td>\n",
       "      <td>36</td>\n",
       "      <td>среднее</td>\n",
       "      <td>1</td>\n",
       "      <td>женат / замужем</td>\n",
       "      <td>0</td>\n",
       "      <td>F</td>\n",
       "      <td>сотрудник</td>\n",
       "      <td>0</td>\n",
       "      <td>112080.014102</td>\n",
       "      <td>приобретение автомобиля</td>\n",
       "    </tr>\n",
       "    <tr>\n",
       "      <th>2</th>\n",
       "      <td>0</td>\n",
       "      <td>-5623.422610</td>\n",
       "      <td>33</td>\n",
       "      <td>Среднее</td>\n",
       "      <td>1</td>\n",
       "      <td>женат / замужем</td>\n",
       "      <td>0</td>\n",
       "      <td>M</td>\n",
       "      <td>сотрудник</td>\n",
       "      <td>0</td>\n",
       "      <td>145885.952297</td>\n",
       "      <td>покупка жилья</td>\n",
       "    </tr>\n",
       "    <tr>\n",
       "      <th>3</th>\n",
       "      <td>3</td>\n",
       "      <td>-4124.747207</td>\n",
       "      <td>32</td>\n",
       "      <td>среднее</td>\n",
       "      <td>1</td>\n",
       "      <td>женат / замужем</td>\n",
       "      <td>0</td>\n",
       "      <td>M</td>\n",
       "      <td>сотрудник</td>\n",
       "      <td>0</td>\n",
       "      <td>267628.550329</td>\n",
       "      <td>дополнительное образование</td>\n",
       "    </tr>\n",
       "    <tr>\n",
       "      <th>4</th>\n",
       "      <td>0</td>\n",
       "      <td>340266.072047</td>\n",
       "      <td>53</td>\n",
       "      <td>среднее</td>\n",
       "      <td>1</td>\n",
       "      <td>гражданский брак</td>\n",
       "      <td>1</td>\n",
       "      <td>F</td>\n",
       "      <td>пенсионер</td>\n",
       "      <td>0</td>\n",
       "      <td>158616.077870</td>\n",
       "      <td>сыграть свадьбу</td>\n",
       "    </tr>\n",
       "    <tr>\n",
       "      <th>5</th>\n",
       "      <td>0</td>\n",
       "      <td>-926.185831</td>\n",
       "      <td>27</td>\n",
       "      <td>высшее</td>\n",
       "      <td>0</td>\n",
       "      <td>гражданский брак</td>\n",
       "      <td>1</td>\n",
       "      <td>M</td>\n",
       "      <td>компаньон</td>\n",
       "      <td>0</td>\n",
       "      <td>255763.565419</td>\n",
       "      <td>покупка жилья</td>\n",
       "    </tr>\n",
       "    <tr>\n",
       "      <th>6</th>\n",
       "      <td>0</td>\n",
       "      <td>-2879.202052</td>\n",
       "      <td>43</td>\n",
       "      <td>высшее</td>\n",
       "      <td>0</td>\n",
       "      <td>женат / замужем</td>\n",
       "      <td>0</td>\n",
       "      <td>F</td>\n",
       "      <td>компаньон</td>\n",
       "      <td>0</td>\n",
       "      <td>240525.971920</td>\n",
       "      <td>операции с жильем</td>\n",
       "    </tr>\n",
       "    <tr>\n",
       "      <th>7</th>\n",
       "      <td>0</td>\n",
       "      <td>-152.779569</td>\n",
       "      <td>50</td>\n",
       "      <td>СРЕДНЕЕ</td>\n",
       "      <td>1</td>\n",
       "      <td>женат / замужем</td>\n",
       "      <td>0</td>\n",
       "      <td>M</td>\n",
       "      <td>сотрудник</td>\n",
       "      <td>0</td>\n",
       "      <td>135823.934197</td>\n",
       "      <td>образование</td>\n",
       "    </tr>\n",
       "    <tr>\n",
       "      <th>8</th>\n",
       "      <td>2</td>\n",
       "      <td>-6929.865299</td>\n",
       "      <td>35</td>\n",
       "      <td>ВЫСШЕЕ</td>\n",
       "      <td>0</td>\n",
       "      <td>гражданский брак</td>\n",
       "      <td>1</td>\n",
       "      <td>F</td>\n",
       "      <td>сотрудник</td>\n",
       "      <td>0</td>\n",
       "      <td>95856.832424</td>\n",
       "      <td>на проведение свадьбы</td>\n",
       "    </tr>\n",
       "    <tr>\n",
       "      <th>9</th>\n",
       "      <td>0</td>\n",
       "      <td>-2188.756445</td>\n",
       "      <td>41</td>\n",
       "      <td>среднее</td>\n",
       "      <td>1</td>\n",
       "      <td>женат / замужем</td>\n",
       "      <td>0</td>\n",
       "      <td>M</td>\n",
       "      <td>сотрудник</td>\n",
       "      <td>0</td>\n",
       "      <td>144425.938277</td>\n",
       "      <td>покупка жилья для семьи</td>\n",
       "    </tr>\n",
       "    <tr>\n",
       "      <th>10</th>\n",
       "      <td>2</td>\n",
       "      <td>-4171.483647</td>\n",
       "      <td>36</td>\n",
       "      <td>высшее</td>\n",
       "      <td>0</td>\n",
       "      <td>женат / замужем</td>\n",
       "      <td>0</td>\n",
       "      <td>M</td>\n",
       "      <td>компаньон</td>\n",
       "      <td>0</td>\n",
       "      <td>113943.491460</td>\n",
       "      <td>покупка недвижимости</td>\n",
       "    </tr>\n",
       "    <tr>\n",
       "      <th>11</th>\n",
       "      <td>0</td>\n",
       "      <td>-792.701887</td>\n",
       "      <td>40</td>\n",
       "      <td>среднее</td>\n",
       "      <td>1</td>\n",
       "      <td>женат / замужем</td>\n",
       "      <td>0</td>\n",
       "      <td>F</td>\n",
       "      <td>сотрудник</td>\n",
       "      <td>0</td>\n",
       "      <td>77069.234271</td>\n",
       "      <td>покупка коммерческой недвижимости</td>\n",
       "    </tr>\n",
       "    <tr>\n",
       "      <th>12</th>\n",
       "      <td>0</td>\n",
       "      <td>NaN</td>\n",
       "      <td>65</td>\n",
       "      <td>среднее</td>\n",
       "      <td>1</td>\n",
       "      <td>гражданский брак</td>\n",
       "      <td>1</td>\n",
       "      <td>M</td>\n",
       "      <td>пенсионер</td>\n",
       "      <td>0</td>\n",
       "      <td>NaN</td>\n",
       "      <td>сыграть свадьбу</td>\n",
       "    </tr>\n",
       "    <tr>\n",
       "      <th>13</th>\n",
       "      <td>0</td>\n",
       "      <td>-1846.641941</td>\n",
       "      <td>54</td>\n",
       "      <td>неоконченное высшее</td>\n",
       "      <td>2</td>\n",
       "      <td>женат / замужем</td>\n",
       "      <td>0</td>\n",
       "      <td>F</td>\n",
       "      <td>сотрудник</td>\n",
       "      <td>0</td>\n",
       "      <td>130458.228857</td>\n",
       "      <td>приобретение автомобиля</td>\n",
       "    </tr>\n",
       "    <tr>\n",
       "      <th>14</th>\n",
       "      <td>0</td>\n",
       "      <td>-1844.956182</td>\n",
       "      <td>56</td>\n",
       "      <td>высшее</td>\n",
       "      <td>0</td>\n",
       "      <td>гражданский брак</td>\n",
       "      <td>1</td>\n",
       "      <td>F</td>\n",
       "      <td>компаньон</td>\n",
       "      <td>1</td>\n",
       "      <td>165127.911772</td>\n",
       "      <td>покупка жилой недвижимости</td>\n",
       "    </tr>\n",
       "    <tr>\n",
       "      <th>15</th>\n",
       "      <td>1</td>\n",
       "      <td>-972.364419</td>\n",
       "      <td>26</td>\n",
       "      <td>среднее</td>\n",
       "      <td>1</td>\n",
       "      <td>женат / замужем</td>\n",
       "      <td>0</td>\n",
       "      <td>F</td>\n",
       "      <td>сотрудник</td>\n",
       "      <td>0</td>\n",
       "      <td>116820.904450</td>\n",
       "      <td>строительство собственной недвижимости</td>\n",
       "    </tr>\n",
       "    <tr>\n",
       "      <th>16</th>\n",
       "      <td>0</td>\n",
       "      <td>-1719.934226</td>\n",
       "      <td>35</td>\n",
       "      <td>среднее</td>\n",
       "      <td>1</td>\n",
       "      <td>женат / замужем</td>\n",
       "      <td>0</td>\n",
       "      <td>F</td>\n",
       "      <td>сотрудник</td>\n",
       "      <td>0</td>\n",
       "      <td>289202.704229</td>\n",
       "      <td>недвижимость</td>\n",
       "    </tr>\n",
       "    <tr>\n",
       "      <th>17</th>\n",
       "      <td>0</td>\n",
       "      <td>-2369.999720</td>\n",
       "      <td>33</td>\n",
       "      <td>высшее</td>\n",
       "      <td>0</td>\n",
       "      <td>гражданский брак</td>\n",
       "      <td>1</td>\n",
       "      <td>M</td>\n",
       "      <td>сотрудник</td>\n",
       "      <td>0</td>\n",
       "      <td>90410.586745</td>\n",
       "      <td>строительство недвижимости</td>\n",
       "    </tr>\n",
       "    <tr>\n",
       "      <th>18</th>\n",
       "      <td>0</td>\n",
       "      <td>400281.136913</td>\n",
       "      <td>53</td>\n",
       "      <td>среднее</td>\n",
       "      <td>1</td>\n",
       "      <td>вдовец / вдова</td>\n",
       "      <td>2</td>\n",
       "      <td>F</td>\n",
       "      <td>пенсионер</td>\n",
       "      <td>0</td>\n",
       "      <td>56823.777243</td>\n",
       "      <td>на покупку подержанного автомобиля</td>\n",
       "    </tr>\n",
       "    <tr>\n",
       "      <th>19</th>\n",
       "      <td>0</td>\n",
       "      <td>-10038.818549</td>\n",
       "      <td>48</td>\n",
       "      <td>СРЕДНЕЕ</td>\n",
       "      <td>1</td>\n",
       "      <td>в разводе</td>\n",
       "      <td>3</td>\n",
       "      <td>F</td>\n",
       "      <td>сотрудник</td>\n",
       "      <td>0</td>\n",
       "      <td>242831.107982</td>\n",
       "      <td>на покупку своего автомобиля</td>\n",
       "    </tr>\n",
       "  </tbody>\n",
       "</table>\n",
       "</div>"
      ],
      "text/plain": [
       "    children  days_employed  dob_years            education  education_id  \\\n",
       "0          1   -8437.673028         42               высшее             0   \n",
       "1          1   -4024.803754         36              среднее             1   \n",
       "2          0   -5623.422610         33              Среднее             1   \n",
       "3          3   -4124.747207         32              среднее             1   \n",
       "4          0  340266.072047         53              среднее             1   \n",
       "5          0    -926.185831         27               высшее             0   \n",
       "6          0   -2879.202052         43               высшее             0   \n",
       "7          0    -152.779569         50              СРЕДНЕЕ             1   \n",
       "8          2   -6929.865299         35               ВЫСШЕЕ             0   \n",
       "9          0   -2188.756445         41              среднее             1   \n",
       "10         2   -4171.483647         36               высшее             0   \n",
       "11         0    -792.701887         40              среднее             1   \n",
       "12         0            NaN         65              среднее             1   \n",
       "13         0   -1846.641941         54  неоконченное высшее             2   \n",
       "14         0   -1844.956182         56               высшее             0   \n",
       "15         1    -972.364419         26              среднее             1   \n",
       "16         0   -1719.934226         35              среднее             1   \n",
       "17         0   -2369.999720         33               высшее             0   \n",
       "18         0  400281.136913         53              среднее             1   \n",
       "19         0  -10038.818549         48              СРЕДНЕЕ             1   \n",
       "\n",
       "       family_status  family_status_id gender income_type  debt  \\\n",
       "0    женат / замужем                 0      F   сотрудник     0   \n",
       "1    женат / замужем                 0      F   сотрудник     0   \n",
       "2    женат / замужем                 0      M   сотрудник     0   \n",
       "3    женат / замужем                 0      M   сотрудник     0   \n",
       "4   гражданский брак                 1      F   пенсионер     0   \n",
       "5   гражданский брак                 1      M   компаньон     0   \n",
       "6    женат / замужем                 0      F   компаньон     0   \n",
       "7    женат / замужем                 0      M   сотрудник     0   \n",
       "8   гражданский брак                 1      F   сотрудник     0   \n",
       "9    женат / замужем                 0      M   сотрудник     0   \n",
       "10   женат / замужем                 0      M   компаньон     0   \n",
       "11   женат / замужем                 0      F   сотрудник     0   \n",
       "12  гражданский брак                 1      M   пенсионер     0   \n",
       "13   женат / замужем                 0      F   сотрудник     0   \n",
       "14  гражданский брак                 1      F   компаньон     1   \n",
       "15   женат / замужем                 0      F   сотрудник     0   \n",
       "16   женат / замужем                 0      F   сотрудник     0   \n",
       "17  гражданский брак                 1      M   сотрудник     0   \n",
       "18    вдовец / вдова                 2      F   пенсионер     0   \n",
       "19         в разводе                 3      F   сотрудник     0   \n",
       "\n",
       "     total_income                                 purpose  \n",
       "0   253875.639453                           покупка жилья  \n",
       "1   112080.014102                 приобретение автомобиля  \n",
       "2   145885.952297                           покупка жилья  \n",
       "3   267628.550329              дополнительное образование  \n",
       "4   158616.077870                         сыграть свадьбу  \n",
       "5   255763.565419                           покупка жилья  \n",
       "6   240525.971920                       операции с жильем  \n",
       "7   135823.934197                             образование  \n",
       "8    95856.832424                   на проведение свадьбы  \n",
       "9   144425.938277                 покупка жилья для семьи  \n",
       "10  113943.491460                    покупка недвижимости  \n",
       "11   77069.234271       покупка коммерческой недвижимости  \n",
       "12            NaN                         сыграть свадьбу  \n",
       "13  130458.228857                 приобретение автомобиля  \n",
       "14  165127.911772              покупка жилой недвижимости  \n",
       "15  116820.904450  строительство собственной недвижимости  \n",
       "16  289202.704229                            недвижимость  \n",
       "17   90410.586745              строительство недвижимости  \n",
       "18   56823.777243      на покупку подержанного автомобиля  \n",
       "19  242831.107982            на покупку своего автомобиля  "
      ]
     },
     "execution_count": 3,
     "metadata": {},
     "output_type": "execute_result"
    }
   ],
   "source": [
    "data.head(20) # ваш код здесь"
   ]
  },
  {
   "cell_type": "markdown",
   "id": "0ede1cd5",
   "metadata": {
    "deletable": false,
    "editable": false,
    "id": "1c12e233",
    "tags": [
     "start_task"
    ]
   },
   "source": [
    "**Задание 3. Выведите основную информацию о датафрейме с помощью метода `info()`.**"
   ]
  },
  {
   "cell_type": "code",
   "execution_count": 3,
   "id": "3e8535e7",
   "metadata": {
    "id": "2b757bca"
   },
   "outputs": [
    {
     "name": "stdout",
     "output_type": "stream",
     "text": [
      "<class 'pandas.core.frame.DataFrame'>\n",
      "RangeIndex: 21525 entries, 0 to 21524\n",
      "Data columns (total 12 columns):\n",
      " #   Column            Non-Null Count  Dtype  \n",
      "---  ------            --------------  -----  \n",
      " 0   children          21525 non-null  int64  \n",
      " 1   days_employed     19351 non-null  float64\n",
      " 2   dob_years         21525 non-null  int64  \n",
      " 3   education         21525 non-null  object \n",
      " 4   education_id      21525 non-null  int64  \n",
      " 5   family_status     21525 non-null  object \n",
      " 6   family_status_id  21525 non-null  int64  \n",
      " 7   gender            21525 non-null  object \n",
      " 8   income_type       21525 non-null  object \n",
      " 9   debt              21525 non-null  int64  \n",
      " 10  total_income      19351 non-null  float64\n",
      " 11  purpose           21525 non-null  object \n",
      "dtypes: float64(2), int64(5), object(5)\n",
      "memory usage: 2.0+ MB\n"
     ]
    }
   ],
   "source": [
    "data.info() # ваш код здесь"
   ]
  },
  {
   "cell_type": "markdown",
   "id": "b8a153ce",
   "metadata": {
    "deletable": false,
    "editable": false,
    "id": "333ec665"
   },
   "source": [
    "## Предобработка данных"
   ]
  },
  {
   "cell_type": "markdown",
   "id": "7b053c7c",
   "metadata": {
    "deletable": false,
    "editable": false,
    "id": "02d92d53"
   },
   "source": [
    "### Удаление пропусков"
   ]
  },
  {
   "cell_type": "markdown",
   "id": "4db9ba3b",
   "metadata": {
    "deletable": false,
    "editable": false,
    "id": "cd84967c",
    "tags": [
     "start_task"
    ]
   },
   "source": [
    "**Задание 4. Выведите количество пропущенных значений для каждого столбца. Используйте комбинацию двух методов.**"
   ]
  },
  {
   "cell_type": "code",
   "execution_count": 4,
   "id": "36b62ed6",
   "metadata": {
    "id": "7f9b2309"
   },
   "outputs": [
    {
     "data": {
      "text/plain": [
       "children               0\n",
       "days_employed       2174\n",
       "dob_years              0\n",
       "education              0\n",
       "education_id           0\n",
       "family_status          0\n",
       "family_status_id       0\n",
       "gender                 0\n",
       "income_type            0\n",
       "debt                   0\n",
       "total_income        2174\n",
       "purpose                0\n",
       "dtype: int64"
      ]
     },
     "execution_count": 4,
     "metadata": {},
     "output_type": "execute_result"
    }
   ],
   "source": [
    "data.isnull().sum() # ваш код здесь"
   ]
  },
  {
   "cell_type": "markdown",
   "id": "888514d0",
   "metadata": {
    "deletable": false,
    "editable": false,
    "id": "db86e27b",
    "tags": [
     "start_task"
    ]
   },
   "source": [
    "**Задание 5. В двух столбцах есть пропущенные значения. Один из них — `days_employed`. Пропуски в этом столбце вы обработаете на следующем этапе. Другой столбец с пропущенными значениями — `total_income` — хранит данные о доходах. На сумму дохода сильнее всего влияет тип занятости, поэтому заполнить пропуски в этом столбце нужно медианным значением по каждому типу из столбца `income_type`. Например, у человека с типом занятости `сотрудник` пропуск в столбце `total_income` должен быть заполнен медианным доходом среди всех записей с тем же типом.**"
   ]
  },
  {
   "cell_type": "code",
   "execution_count": 3,
   "id": "0b902f78",
   "metadata": {
    "id": "42006a93"
   },
   "outputs": [],
   "source": [
    "data['total_income'] = data['total_income'].fillna(data.groupby('income_type')['total_income'].transform('median'))\n"
   ]
  },
  {
   "cell_type": "markdown",
   "id": "4a52bc2a",
   "metadata": {
    "deletable": false,
    "editable": false,
    "id": "89da5ece"
   },
   "source": [
    "### Обработка аномальных значений"
   ]
  },
  {
   "cell_type": "markdown",
   "id": "0a7179d7",
   "metadata": {
    "deletable": false,
    "editable": false,
    "id": "57964554",
    "tags": [
     "start_task"
    ]
   },
   "source": [
    "**Задание 6. В данных могут встречаться артефакты (аномалии) — значения, которые не отражают действительность и появились по какой-то ошибке. Таким артефактом будет отрицательное количество дней трудового стажа в столбце `days_employed`. Для реальных данных это нормально. Обработайте значения в этом столбце: замените все отрицательные значения положительными с помощью метода `abs()`.**"
   ]
  },
  {
   "cell_type": "code",
   "execution_count": 4,
   "id": "a3138a63",
   "metadata": {
    "id": "f6f055bf"
   },
   "outputs": [],
   "source": [
    "data['days_employed'] = data['days_employed'].abs()# ваш код здесь"
   ]
  },
  {
   "cell_type": "markdown",
   "id": "3d11f0c8",
   "metadata": {
    "deletable": false,
    "editable": false,
    "id": "6107dd2f",
    "tags": [
     "start_task"
    ]
   },
   "source": [
    "**Задание 7. Для каждого типа занятости выведите медианное значение трудового стажа `days_employed` в днях.**"
   ]
  },
  {
   "cell_type": "code",
   "execution_count": 6,
   "id": "7a6c0321",
   "metadata": {
    "id": "85a5faf6"
   },
   "outputs": [
    {
     "data": {
      "text/plain": [
       "income_type\n",
       "безработный        366413.652744\n",
       "в декрете            3296.759962\n",
       "госслужащий          2689.368353\n",
       "компаньон            1547.382223\n",
       "пенсионер          365213.306266\n",
       "предприниматель       520.848083\n",
       "сотрудник            1574.202821\n",
       "студент               578.751554\n",
       "Name: days_employed, dtype: float64"
      ]
     },
     "execution_count": 6,
     "metadata": {},
     "output_type": "execute_result"
    }
   ],
   "source": [
    "data.groupby('income_type')['days_employed'].agg('median')"
   ]
  },
  {
   "cell_type": "markdown",
   "id": "7acc484c",
   "metadata": {
    "deletable": false,
    "editable": false,
    "id": "38d1a030"
   },
   "source": [
    "У двух типов (безработные и пенсионеры) получатся аномально большие значения. Исправить такие значения сложно, поэтому оставьте их как есть. Тем более этот столбец не понадобится вам для исследования."
   ]
  },
  {
   "cell_type": "markdown",
   "id": "8c0581f1",
   "metadata": {
    "deletable": false,
    "editable": false,
    "id": "d8a9f147",
    "tags": [
     "start_task"
    ]
   },
   "source": [
    "**Задание 8. Выведите перечень уникальных значений столбца `children`.**"
   ]
  },
  {
   "cell_type": "code",
   "execution_count": 6,
   "id": "b7f4558a",
   "metadata": {
    "id": "ef5056eb"
   },
   "outputs": [
    {
     "data": {
      "text/plain": [
       "array([ 1,  0,  3,  2, -1,  4, 20,  5])"
      ]
     },
     "execution_count": 6,
     "metadata": {},
     "output_type": "execute_result"
    }
   ],
   "source": [
    "data['children'].unique()"
   ]
  },
  {
   "cell_type": "markdown",
   "id": "25243606",
   "metadata": {
    "deletable": false,
    "editable": false,
    "id": "40b9ebf2",
    "tags": [
     "start_task"
    ]
   },
   "source": [
    "**Задание 9. В столбце `children` есть два аномальных значения. Удалите строки, в которых встречаются такие аномальные значения из датафрейма `data`.**"
   ]
  },
  {
   "cell_type": "code",
   "execution_count": 5,
   "id": "2a299414",
   "metadata": {
    "id": "3ff9801d"
   },
   "outputs": [],
   "source": [
    "data = data.query(\"children not in [-1, 20]\")# ваш код здесь"
   ]
  },
  {
   "cell_type": "markdown",
   "id": "5f3e8153",
   "metadata": {
    "deletable": false,
    "editable": false,
    "id": "bbc4d0ce",
    "tags": [
     "start_task"
    ]
   },
   "source": [
    "**Задание 10. Ещё раз выведите перечень уникальных значений столбца `children`, чтобы убедиться, что артефакты удалены.**"
   ]
  },
  {
   "cell_type": "code",
   "execution_count": 8,
   "id": "42cb7e74",
   "metadata": {
    "id": "ad4fa8b7"
   },
   "outputs": [
    {
     "data": {
      "text/plain": [
       "array([1, 0, 3, 2, 4, 5])"
      ]
     },
     "execution_count": 8,
     "metadata": {},
     "output_type": "execute_result"
    }
   ],
   "source": [
    "data['children'].unique()# ваш код здесь"
   ]
  },
  {
   "cell_type": "markdown",
   "id": "a72089fa",
   "metadata": {
    "deletable": false,
    "editable": false,
    "id": "75440b63"
   },
   "source": [
    "### Удаление пропусков (продолжение)"
   ]
  },
  {
   "cell_type": "markdown",
   "id": "25b9f233",
   "metadata": {
    "deletable": false,
    "editable": false,
    "id": "f4ea573f",
    "tags": [
     "start_task"
    ]
   },
   "source": [
    "**Задание 11. Заполните пропуски в столбце `days_employed` медианными значениями по каждому типу занятости `income_type`.**"
   ]
  },
  {
   "cell_type": "code",
   "execution_count": 6,
   "id": "dd5487cc",
   "metadata": {
    "id": "af6b1a7e"
   },
   "outputs": [],
   "source": [
    "data['days_employed'] = data['days_employed'].fillna(data.groupby('income_type')['days_employed'].transform('median')) # ваш код здесь"
   ]
  },
  {
   "cell_type": "markdown",
   "id": "6ab8b23e",
   "metadata": {
    "deletable": false,
    "editable": false,
    "id": "2753f40d",
    "tags": [
     "start_task"
    ]
   },
   "source": [
    "**Задание 12. Убедитесь, что все пропуски заполнены. Проверьте себя и ещё раз выведите количество пропущенных значений для каждого столбца с помощью двух методов.**"
   ]
  },
  {
   "cell_type": "code",
   "execution_count": 10,
   "id": "cb096844",
   "metadata": {
    "id": "55f78bc2"
   },
   "outputs": [
    {
     "data": {
      "text/plain": [
       "children            0\n",
       "days_employed       0\n",
       "dob_years           0\n",
       "education           0\n",
       "education_id        0\n",
       "family_status       0\n",
       "family_status_id    0\n",
       "gender              0\n",
       "income_type         0\n",
       "debt                0\n",
       "total_income        0\n",
       "purpose             0\n",
       "dtype: int64"
      ]
     },
     "execution_count": 10,
     "metadata": {},
     "output_type": "execute_result"
    }
   ],
   "source": [
    "data.isnull().sum()# ваш код здесь"
   ]
  },
  {
   "cell_type": "markdown",
   "id": "3682ae5d",
   "metadata": {
    "deletable": false,
    "editable": false,
    "id": "ddc81e43"
   },
   "source": [
    "### Изменение типов данных"
   ]
  },
  {
   "cell_type": "markdown",
   "id": "4279aac0",
   "metadata": {
    "deletable": false,
    "editable": false,
    "id": "42d19d24",
    "tags": [
     "start_task"
    ]
   },
   "source": [
    "**Задание 13. Замените вещественный тип данных в столбце `total_income` на целочисленный с помощью метода `astype()`.**"
   ]
  },
  {
   "cell_type": "code",
   "execution_count": 7,
   "id": "7d895ef3",
   "metadata": {
    "id": "920b65ad"
   },
   "outputs": [],
   "source": [
    "data['total_income'] = data['total_income'].astype('int')\n",
    "# ваш код здесь"
   ]
  },
  {
   "cell_type": "markdown",
   "id": "d217cf60",
   "metadata": {
    "deletable": false,
    "editable": false,
    "id": "80c420ba"
   },
   "source": [
    "### Обработка дубликатов"
   ]
  },
  {
   "cell_type": "markdown",
   "id": "d9362859",
   "metadata": {
    "deletable": false,
    "editable": false,
    "tags": [
     "start_task"
    ]
   },
   "source": [
    "**Задание 14. Обработайте неявные дубликаты в столбце `education`. В этом столбце есть одни и те же значения, но записанные по-разному: с использованием заглавных и строчных букв. Приведите их к нижнему регистру. Проверьте остальные столбцы.**"
   ]
  },
  {
   "cell_type": "code",
   "execution_count": 8,
   "id": "2fff5828",
   "metadata": {},
   "outputs": [],
   "source": [
    "data['education'] = data['education'].astype(str).str.lower()# ваш код здесь"
   ]
  },
  {
   "cell_type": "markdown",
   "id": "45e47b0c",
   "metadata": {
    "deletable": false,
    "editable": false,
    "id": "dc587695",
    "tags": [
     "start_task"
    ]
   },
   "source": [
    "**Задание 15. Выведите на экран количество строк-дубликатов в данных. Если такие строки присутствуют, удалите их.**"
   ]
  },
  {
   "cell_type": "code",
   "execution_count": 9,
   "id": "cca36627",
   "metadata": {
    "id": "3ee445e4"
   },
   "outputs": [
    {
     "data": {
      "text/plain": [
       "71"
      ]
     },
     "execution_count": 9,
     "metadata": {},
     "output_type": "execute_result"
    }
   ],
   "source": [
    "data.duplicated().sum()# посчитайте дубликаты"
   ]
  },
  {
   "cell_type": "code",
   "execution_count": 9,
   "id": "e1723840",
   "metadata": {
    "id": "8575fe05"
   },
   "outputs": [],
   "source": [
    "data = data.drop_duplicates()# удалите дубликаты"
   ]
  },
  {
   "cell_type": "markdown",
   "id": "4b482fdd",
   "metadata": {
    "deletable": false,
    "editable": false,
    "id": "9904cf55"
   },
   "source": [
    "### Категоризация данных"
   ]
  },
  {
   "cell_type": "markdown",
   "id": "f0f52995",
   "metadata": {
    "deletable": false,
    "editable": false,
    "id": "72fcc8a2",
    "tags": [
     "start_task"
    ]
   },
   "source": [
    "**Задание 16. На основании диапазонов, указанных ниже, создайте в датафрейме `data` столбец `total_income_category` с категориями:**\n",
    "\n",
    "- 0–30000 — `'E'`;\n",
    "- 30001–50000 — `'D'`;\n",
    "- 50001–200000 — `'C'`;\n",
    "- 200001–1000000 — `'B'`;\n",
    "- 1000001 и выше — `'A'`.\n",
    "\n",
    "\n",
    "**Например, кредитополучателю с доходом 25000 нужно назначить категорию `'E'`, а клиенту, получающему 235000, — `'B'`. Используйте собственную функцию с именем `categorize_income()` и метод `apply()`.**"
   ]
  },
  {
   "cell_type": "code",
   "execution_count": 10,
   "id": "9452ba6b",
   "metadata": {
    "id": "e1771346"
   },
   "outputs": [],
   "source": [
    "def categorize_income(row):\n",
    "    total_income = row['total_income']\n",
    "    if total_income <= 30_000:\n",
    "        return 'E'\n",
    "    if total_income <= 50_000:\n",
    "        return 'D'\n",
    "    if total_income <= 200_000:\n",
    "        return 'C'\n",
    "    if total_income <= 1000_000:\n",
    "        return 'B'\n",
    "    if total_income > 1000_001:\n",
    "        return 'A'\n",
    "    return\n",
    "# создайте функцию categorize_income()"
   ]
  },
  {
   "cell_type": "code",
   "execution_count": 11,
   "id": "e83aaa3f",
   "metadata": {
    "id": "d5f3586d"
   },
   "outputs": [],
   "source": [
    "data['total_income_category'] = data.apply(categorize_income, axis=1)# примените функцию методом apply()"
   ]
  },
  {
   "cell_type": "markdown",
   "id": "cfe57a7d",
   "metadata": {
    "deletable": false,
    "editable": false,
    "id": "dde49b5c",
    "tags": [
     "start_task"
    ]
   },
   "source": [
    "**Задание 17. Выведите на экран перечень уникальных целей взятия кредита из столбца `purpose`.**"
   ]
  },
  {
   "cell_type": "code",
   "execution_count": 16,
   "id": "b1f034ab",
   "metadata": {
    "id": "f67ce9b3"
   },
   "outputs": [
    {
     "data": {
      "text/plain": [
       "array(['покупка жилья', 'приобретение автомобиля',\n",
       "       'дополнительное образование', 'сыграть свадьбу',\n",
       "       'операции с жильем', 'образование', 'на проведение свадьбы',\n",
       "       'покупка жилья для семьи', 'покупка недвижимости',\n",
       "       'покупка коммерческой недвижимости', 'покупка жилой недвижимости',\n",
       "       'строительство собственной недвижимости', 'недвижимость',\n",
       "       'строительство недвижимости', 'на покупку подержанного автомобиля',\n",
       "       'на покупку своего автомобиля',\n",
       "       'операции с коммерческой недвижимостью',\n",
       "       'строительство жилой недвижимости', 'жилье',\n",
       "       'операции со своей недвижимостью', 'автомобили',\n",
       "       'заняться образованием', 'сделка с подержанным автомобилем',\n",
       "       'получение образования', 'автомобиль', 'свадьба',\n",
       "       'получение дополнительного образования', 'покупка своего жилья',\n",
       "       'операции с недвижимостью', 'получение высшего образования',\n",
       "       'свой автомобиль', 'сделка с автомобилем',\n",
       "       'профильное образование', 'высшее образование',\n",
       "       'покупка жилья для сдачи', 'на покупку автомобиля', 'ремонт жилью',\n",
       "       'заняться высшим образованием'], dtype=object)"
      ]
     },
     "execution_count": 16,
     "metadata": {},
     "output_type": "execute_result"
    }
   ],
   "source": [
    "data['purpose'].unique()# ваш код здесь\n"
   ]
  },
  {
   "cell_type": "markdown",
   "id": "688888b5",
   "metadata": {
    "deletable": false,
    "editable": false,
    "id": "85d0aef0",
    "tags": [
     "start_task"
    ]
   },
   "source": [
    "**Задание 18. Создайте функцию, которая на основании данных из столбца `purpose` сформирует новый столбец `purpose_category`, в который войдут следующие категории:**\n",
    "\n",
    "- `'операции с автомобилем'`,\n",
    "- `'операции с недвижимостью'`,\n",
    "- `'проведение свадьбы'`,\n",
    "- `'получение образования'`.\n",
    "\n",
    "**Например, если в столбце `purpose` находится подстрока `'на покупку автомобиля'`, то в столбце `purpose_category` должна появиться строка `'операции с автомобилем'`.**\n",
    "\n",
    "**Используйте собственную функцию с именем `categorize_purpose()` и метод `apply()`. Изучите данные в столбце `purpose` и определите, какие подстроки помогут вам правильно определить категорию.**"
   ]
  },
  {
   "cell_type": "code",
   "execution_count": 13,
   "id": "791caa91",
   "metadata": {
    "id": "e149fab4"
   },
   "outputs": [],
   "source": [
    "def categorize_purpose(asd):\n",
    "    total_in = asd['purpose']\n",
    "    if total_in == 'на покупку автомобиля'or total_in =='приобретение автомобиля'or total_in =='на покупку своего автомобиля'or total_in =='на покупку своего автомобиля'or total_in =='автомобиль'or total_in =='сделка с подержанным автомобилем'or total_in =='автомобили'or total_in =='свой автомобиль'or total_in =='на покупку подержанного автомобиля' or total_in =='на покупку автомобиля'or total_in =='приобретение автомобиля'or total_in =='сделка с автомобилем':\n",
    "        return 'операции с автомобилем'\n",
    "    if total_in == 'покупка жилья'or total_in =='операции с жильем'or total_in =='операции с недвижимостью'or total_in =='покупка коммерческой недвижимости'or total_in =='покупка жилья для сдачи' or total_in =='операции с коммерческой недвижимостью'or total_in =='жилье' or total_in =='покупка жилья'or total_in == 'покупка жилья для семьи' or total_in =='недвижимость'or total_in =='строительство собственной недвижимости' or total_in =='операции со своей недвижимостью'or total_in =='строительство жилой недвижимости' or total_in =='покупка своего жилья'or total_in =='строительство недвижимости' or total_in =='покупка недвижимости' or total_in =='ремонт жилью' or total_in =='покупка жилой недвижимости':\n",
    "        return 'операции с недвижимостью'\n",
    "    if total_in == 'сыграть свадьбу'or total_in =='на проведение свадьбы' or total_in =='свадьба':\n",
    "        return 'проведение свадьбы'\n",
    "    if total_in =='дополнительное образование'or total_in =='образование'or total_in =='заняться высшим образованием'or total_in =='дополнительное образование'or total_in =='высшее образование'or total_in =='получение дополнительного образования'or total_in =='образование'or total_in =='получение образования'or total_in =='профильное образование'or total_in =='получение высшего образования'or total_in =='заняться образованием':\n",
    "        return 'получение образования'\n",
    "    # создайте функцию categorize_purpose()"
   ]
  },
  {
   "cell_type": "code",
   "execution_count": 14,
   "id": "43db3c78",
   "metadata": {
    "id": "bf36e69b"
   },
   "outputs": [],
   "source": [
    "data['purpose_category'] = data.apply(categorize_purpose, axis=1)# примените функцию методом apply()"
   ]
  },
  {
   "cell_type": "code",
   "execution_count": null,
   "id": "f10c4443",
   "metadata": {},
   "outputs": [],
   "source": []
  },
  {
   "cell_type": "code",
   "execution_count": null,
   "id": "634c4c4b",
   "metadata": {},
   "outputs": [],
   "source": []
  }
 ],
 "metadata": {
  "ExecuteTimeLog": [
   {
    "duration": 483,
    "start_time": "2022-10-05T06:08:36.454Z"
   },
   {
    "duration": 284,
    "start_time": "2022-10-05T06:08:40.476Z"
   },
   {
    "duration": 37,
    "start_time": "2022-10-05T06:09:31.354Z"
   },
   {
    "duration": 16,
    "start_time": "2022-10-05T06:10:23.834Z"
   },
   {
    "duration": 12,
    "start_time": "2022-10-05T06:46:48.340Z"
   },
   {
    "duration": 4,
    "start_time": "2022-10-05T07:06:00.344Z"
   },
   {
    "duration": 8,
    "start_time": "2022-10-05T07:06:12.384Z"
   },
   {
    "duration": 69,
    "start_time": "2022-10-05T07:07:16.704Z"
   },
   {
    "duration": 11,
    "start_time": "2022-10-05T07:08:19.003Z"
   },
   {
    "duration": 50,
    "start_time": "2022-10-05T07:09:36.235Z"
   },
   {
    "duration": 420,
    "start_time": "2022-10-05T07:10:11.959Z"
   },
   {
    "duration": 82,
    "start_time": "2022-10-05T07:10:15.567Z"
   },
   {
    "duration": 17,
    "start_time": "2022-10-05T07:10:23.484Z"
   },
   {
    "duration": 12,
    "start_time": "2022-10-05T07:10:29.344Z"
   },
   {
    "duration": 72,
    "start_time": "2022-10-05T07:11:04.508Z"
   },
   {
    "duration": 10,
    "start_time": "2022-10-05T07:26:13.911Z"
   },
   {
    "duration": 10,
    "start_time": "2022-10-05T07:26:28.080Z"
   },
   {
    "duration": 437,
    "start_time": "2022-10-05T07:26:43.243Z"
   },
   {
    "duration": 72,
    "start_time": "2022-10-05T07:26:45.582Z"
   },
   {
    "duration": 15,
    "start_time": "2022-10-05T07:26:52.362Z"
   },
   {
    "duration": 13,
    "start_time": "2022-10-05T07:26:56.499Z"
   },
   {
    "duration": 11,
    "start_time": "2022-10-05T07:28:38.434Z"
   },
   {
    "duration": 4,
    "start_time": "2022-10-05T07:32:47.808Z"
   },
   {
    "duration": 12,
    "start_time": "2022-10-05T07:34:24.412Z"
   },
   {
    "duration": 82,
    "start_time": "2022-10-05T07:35:17.900Z"
   },
   {
    "duration": 433,
    "start_time": "2022-10-05T07:35:36.681Z"
   },
   {
    "duration": 74,
    "start_time": "2022-10-05T07:35:39.621Z"
   },
   {
    "duration": 15,
    "start_time": "2022-10-05T07:35:48.478Z"
   },
   {
    "duration": 4,
    "start_time": "2022-10-05T07:35:53.215Z"
   },
   {
    "duration": 10,
    "start_time": "2022-10-05T07:35:56.750Z"
   },
   {
    "duration": 358,
    "start_time": "2022-10-05T07:53:50.017Z"
   },
   {
    "duration": 74,
    "start_time": "2022-10-05T07:53:51.911Z"
   },
   {
    "duration": 15,
    "start_time": "2022-10-05T07:54:04.135Z"
   },
   {
    "duration": 68,
    "start_time": "2022-10-05T07:54:08.007Z"
   },
   {
    "duration": 6,
    "start_time": "2022-10-05T07:54:23.646Z"
   },
   {
    "duration": 4,
    "start_time": "2022-10-05T07:54:53.007Z"
   },
   {
    "duration": 14,
    "start_time": "2022-10-05T07:56:14.584Z"
   },
   {
    "duration": 401,
    "start_time": "2022-10-05T07:58:51.477Z"
   },
   {
    "duration": 70,
    "start_time": "2022-10-05T07:58:53.169Z"
   },
   {
    "duration": 7,
    "start_time": "2022-10-05T07:58:59.945Z"
   },
   {
    "duration": 3,
    "start_time": "2022-10-05T07:59:03.791Z"
   },
   {
    "duration": 10,
    "start_time": "2022-10-05T07:59:06.512Z"
   },
   {
    "duration": 434,
    "start_time": "2022-10-05T07:59:41.281Z"
   },
   {
    "duration": 72,
    "start_time": "2022-10-05T07:59:43.093Z"
   },
   {
    "duration": 24,
    "start_time": "2022-10-05T07:59:55.364Z"
   },
   {
    "duration": 8,
    "start_time": "2022-10-05T08:00:17.186Z"
   },
   {
    "duration": 4,
    "start_time": "2022-10-05T08:00:27.429Z"
   },
   {
    "duration": 414,
    "start_time": "2022-10-05T08:21:39.407Z"
   },
   {
    "duration": 72,
    "start_time": "2022-10-05T08:21:41.162Z"
   },
   {
    "duration": 8,
    "start_time": "2022-10-05T08:21:50.440Z"
   },
   {
    "duration": 4,
    "start_time": "2022-10-05T08:21:53.941Z"
   },
   {
    "duration": 38,
    "start_time": "2022-10-05T08:21:59.093Z"
   },
   {
    "duration": 11,
    "start_time": "2022-10-05T08:28:14.790Z"
   },
   {
    "duration": 19,
    "start_time": "2022-10-05T08:28:30.185Z"
   },
   {
    "duration": 73,
    "start_time": "2022-10-05T08:38:36.297Z"
   },
   {
    "duration": 18,
    "start_time": "2022-10-05T08:39:01.350Z"
   },
   {
    "duration": 14,
    "start_time": "2022-10-05T08:39:14.473Z"
   },
   {
    "duration": 15,
    "start_time": "2022-10-05T08:40:04.719Z"
   },
   {
    "duration": 436,
    "start_time": "2022-10-05T08:40:30.445Z"
   },
   {
    "duration": 71,
    "start_time": "2022-10-05T08:40:32.655Z"
   },
   {
    "duration": 10,
    "start_time": "2022-10-05T08:40:40.501Z"
   },
   {
    "duration": 4,
    "start_time": "2022-10-05T08:40:46.077Z"
   },
   {
    "duration": 10,
    "start_time": "2022-10-05T08:40:49.273Z"
   },
   {
    "duration": 397,
    "start_time": "2022-10-06T05:48:59.899Z"
   },
   {
    "duration": 311,
    "start_time": "2022-10-06T05:49:03.105Z"
   },
   {
    "duration": 17,
    "start_time": "2022-10-06T05:49:14.590Z"
   },
   {
    "duration": 6,
    "start_time": "2022-10-06T05:49:19.429Z"
   },
   {
    "duration": 4,
    "start_time": "2022-10-06T05:49:25.176Z"
   },
   {
    "duration": 6,
    "start_time": "2022-10-06T05:53:25.988Z"
   },
   {
    "duration": 6,
    "start_time": "2022-10-06T05:53:59.862Z"
   },
   {
    "duration": 11,
    "start_time": "2022-10-06T05:54:32.564Z"
   },
   {
    "duration": 5,
    "start_time": "2022-10-06T05:56:42.982Z"
   },
   {
    "duration": 7,
    "start_time": "2022-10-06T06:00:53.631Z"
   },
   {
    "duration": 7,
    "start_time": "2022-10-06T06:03:07.691Z"
   },
   {
    "duration": 10,
    "start_time": "2022-10-06T06:04:10.025Z"
   },
   {
    "duration": 366,
    "start_time": "2022-10-06T06:06:06.376Z"
   },
   {
    "duration": 73,
    "start_time": "2022-10-06T06:06:07.497Z"
   },
   {
    "duration": 10,
    "start_time": "2022-10-06T06:06:16.067Z"
   },
   {
    "duration": 4,
    "start_time": "2022-10-06T06:06:19.255Z"
   },
   {
    "duration": 9,
    "start_time": "2022-10-06T06:06:21.928Z"
   },
   {
    "duration": 14,
    "start_time": "2022-10-06T06:07:03.606Z"
   },
   {
    "duration": 400,
    "start_time": "2022-10-06T06:14:35.429Z"
   },
   {
    "duration": 83,
    "start_time": "2022-10-06T06:14:36.493Z"
   },
   {
    "duration": 8,
    "start_time": "2022-10-06T06:14:44.645Z"
   },
   {
    "duration": 3,
    "start_time": "2022-10-06T06:14:47.459Z"
   },
   {
    "duration": 3,
    "start_time": "2022-10-06T06:14:49.962Z"
   },
   {
    "duration": 6,
    "start_time": "2022-10-06T06:15:03.644Z"
   },
   {
    "duration": 14,
    "start_time": "2022-10-06T06:15:07.333Z"
   },
   {
    "duration": 59,
    "start_time": "2022-10-06T06:26:31.831Z"
   },
   {
    "duration": 61,
    "start_time": "2022-10-06T06:28:15.363Z"
   },
   {
    "duration": 49,
    "start_time": "2022-10-06T06:34:17.541Z"
   },
   {
    "duration": 50,
    "start_time": "2022-10-06T06:34:59.671Z"
   },
   {
    "duration": 90,
    "start_time": "2022-10-06T06:35:41.107Z"
   },
   {
    "duration": 73,
    "start_time": "2022-10-06T06:36:01.956Z"
   },
   {
    "duration": 218,
    "start_time": "2022-10-06T06:36:34.979Z"
   },
   {
    "duration": 10,
    "start_time": "2022-10-06T06:36:56.890Z"
   },
   {
    "duration": 353,
    "start_time": "2022-10-06T06:37:19.379Z"
   },
   {
    "duration": 72,
    "start_time": "2022-10-06T06:37:20.670Z"
   },
   {
    "duration": 7,
    "start_time": "2022-10-06T06:37:33.135Z"
   },
   {
    "duration": 3,
    "start_time": "2022-10-06T06:37:36.832Z"
   },
   {
    "duration": 237,
    "start_time": "2022-10-06T06:37:39.854Z"
   },
   {
    "duration": 260,
    "start_time": "2022-10-06T06:41:10.073Z"
   },
   {
    "duration": 14,
    "start_time": "2022-10-06T06:49:25.560Z"
   },
   {
    "duration": 6,
    "start_time": "2022-10-06T06:58:21.122Z"
   },
   {
    "duration": 10,
    "start_time": "2022-10-06T06:58:25.624Z"
   },
   {
    "duration": 352,
    "start_time": "2022-10-06T06:58:48.588Z"
   },
   {
    "duration": 73,
    "start_time": "2022-10-06T06:58:49.571Z"
   },
   {
    "duration": 6,
    "start_time": "2022-10-06T06:58:59.821Z"
   },
   {
    "duration": 4,
    "start_time": "2022-10-06T06:59:02.870Z"
   },
   {
    "duration": 7,
    "start_time": "2022-10-06T06:59:04.782Z"
   },
   {
    "duration": 1007,
    "start_time": "2022-10-06T07:04:17.066Z"
   },
   {
    "duration": 1053,
    "start_time": "2022-10-06T07:06:39.641Z"
   },
   {
    "duration": 1499,
    "start_time": "2022-10-06T07:09:28.932Z"
   },
   {
    "duration": 373,
    "start_time": "2022-10-06T07:09:57.361Z"
   },
   {
    "duration": 78,
    "start_time": "2022-10-06T07:09:58.886Z"
   },
   {
    "duration": 7,
    "start_time": "2022-10-06T07:10:08.669Z"
   },
   {
    "duration": 4,
    "start_time": "2022-10-06T07:10:11.303Z"
   },
   {
    "duration": 1427,
    "start_time": "2022-10-06T07:10:14.014Z"
   },
   {
    "duration": 31,
    "start_time": "2022-10-06T07:14:44.044Z"
   },
   {
    "duration": 15,
    "start_time": "2022-10-06T07:14:57.154Z"
   },
   {
    "duration": 24,
    "start_time": "2022-10-06T07:15:13.466Z"
   },
   {
    "duration": 10,
    "start_time": "2022-10-06T07:15:17.523Z"
   },
   {
    "duration": 30,
    "start_time": "2022-10-06T07:15:34.548Z"
   },
   {
    "duration": 421,
    "start_time": "2022-10-06T07:16:16.286Z"
   },
   {
    "duration": 81,
    "start_time": "2022-10-06T07:16:18.174Z"
   },
   {
    "duration": 9,
    "start_time": "2022-10-06T07:16:23.727Z"
   },
   {
    "duration": 4,
    "start_time": "2022-10-06T07:16:30.939Z"
   },
   {
    "duration": 52,
    "start_time": "2022-10-06T07:16:30.945Z"
   },
   {
    "duration": 14,
    "start_time": "2022-10-06T08:14:49.862Z"
   },
   {
    "duration": 18,
    "start_time": "2022-10-06T08:15:23.169Z"
   },
   {
    "duration": 11,
    "start_time": "2022-10-06T08:23:42.871Z"
   },
   {
    "duration": 381,
    "start_time": "2022-10-06T08:24:05.370Z"
   },
   {
    "duration": 115,
    "start_time": "2022-10-06T08:24:06.429Z"
   },
   {
    "duration": 8,
    "start_time": "2022-10-06T08:24:12.472Z"
   },
   {
    "duration": 4,
    "start_time": "2022-10-06T08:24:15.124Z"
   },
   {
    "duration": 13,
    "start_time": "2022-10-06T08:24:17.300Z"
   },
   {
    "duration": 424,
    "start_time": "2022-10-06T12:45:15.868Z"
   },
   {
    "duration": 312,
    "start_time": "2022-10-06T12:45:17.281Z"
   },
   {
    "duration": 24,
    "start_time": "2022-10-06T12:45:21.768Z"
   },
   {
    "duration": 24,
    "start_time": "2022-10-06T12:45:25.243Z"
   },
   {
    "duration": 7,
    "start_time": "2022-10-06T12:45:28.895Z"
   },
   {
    "duration": 5,
    "start_time": "2022-10-06T12:45:31.307Z"
   },
   {
    "duration": 14,
    "start_time": "2022-10-06T12:45:33.768Z"
   },
   {
    "duration": 13,
    "start_time": "2022-10-06T12:54:07.609Z"
   },
   {
    "duration": 14,
    "start_time": "2022-10-06T12:54:45.487Z"
   },
   {
    "duration": 386,
    "start_time": "2022-10-06T12:55:19.701Z"
   },
   {
    "duration": 77,
    "start_time": "2022-10-06T12:55:21.959Z"
   },
   {
    "duration": 7,
    "start_time": "2022-10-06T12:55:28.821Z"
   },
   {
    "duration": 4,
    "start_time": "2022-10-06T12:55:32.589Z"
   },
   {
    "duration": 13,
    "start_time": "2022-10-06T12:55:36.041Z"
   },
   {
    "duration": 15,
    "start_time": "2022-10-06T12:56:28.113Z"
   },
   {
    "duration": 9,
    "start_time": "2022-10-06T13:08:45.900Z"
   },
   {
    "duration": 71,
    "start_time": "2022-10-06T13:13:50.011Z"
   },
   {
    "duration": 9,
    "start_time": "2022-10-06T13:14:16.018Z"
   },
   {
    "duration": 9,
    "start_time": "2022-10-06T13:22:16.850Z"
   },
   {
    "duration": 5,
    "start_time": "2022-10-06T13:25:01.010Z"
   },
   {
    "duration": 9,
    "start_time": "2022-10-06T13:30:40.041Z"
   },
   {
    "duration": 5,
    "start_time": "2022-10-06T13:31:26.043Z"
   },
   {
    "duration": 13,
    "start_time": "2022-10-06T13:32:30.194Z"
   },
   {
    "duration": 9,
    "start_time": "2022-10-06T13:34:26.442Z"
   },
   {
    "duration": 10,
    "start_time": "2022-10-06T13:36:51.618Z"
   },
   {
    "duration": 10,
    "start_time": "2022-10-06T13:37:54.990Z"
   },
   {
    "duration": 5,
    "start_time": "2022-10-06T13:43:43.461Z"
   },
   {
    "duration": 13,
    "start_time": "2022-10-06T13:46:13.212Z"
   },
   {
    "duration": 13,
    "start_time": "2022-10-06T13:46:30.849Z"
   },
   {
    "duration": 14,
    "start_time": "2022-10-06T13:46:46.910Z"
   },
   {
    "duration": 17,
    "start_time": "2022-10-06T13:52:47.248Z"
   },
   {
    "duration": 181,
    "start_time": "2022-10-06T13:54:38.453Z"
   },
   {
    "duration": 368,
    "start_time": "2022-10-06T13:55:18.965Z"
   },
   {
    "duration": 4,
    "start_time": "2022-10-06T13:57:10.403Z"
   },
   {
    "duration": 15,
    "start_time": "2022-10-06T13:57:18.017Z"
   },
   {
    "duration": 32,
    "start_time": "2022-10-06T14:05:19.359Z"
   },
   {
    "duration": 40,
    "start_time": "2022-10-06T14:06:11.162Z"
   },
   {
    "duration": 7,
    "start_time": "2022-10-06T14:07:59.116Z"
   },
   {
    "duration": 19,
    "start_time": "2022-10-06T14:08:17.911Z"
   },
   {
    "duration": 18,
    "start_time": "2022-10-06T14:08:44.806Z"
   },
   {
    "duration": 53,
    "start_time": "2022-10-06T14:10:26.666Z"
   },
   {
    "duration": 7,
    "start_time": "2022-10-06T14:10:40.738Z"
   },
   {
    "duration": 7,
    "start_time": "2022-10-06T14:11:57.223Z"
   },
   {
    "duration": 20,
    "start_time": "2022-10-06T14:12:19.461Z"
   },
   {
    "duration": 4,
    "start_time": "2022-10-06T14:30:17.688Z"
   },
   {
    "duration": 137,
    "start_time": "2022-10-06T14:30:37.800Z"
   },
   {
    "duration": 925,
    "start_time": "2022-10-06T14:34:36.553Z"
   },
   {
    "duration": 134,
    "start_time": "2022-10-06T14:35:34.798Z"
   },
   {
    "duration": 3,
    "start_time": "2022-10-06T14:41:59.765Z"
   },
   {
    "duration": 145,
    "start_time": "2022-10-06T14:42:02.211Z"
   },
   {
    "duration": 427,
    "start_time": "2022-10-06T14:43:10.460Z"
   },
   {
    "duration": 76,
    "start_time": "2022-10-06T14:43:11.971Z"
   },
   {
    "duration": 8,
    "start_time": "2022-10-06T14:43:20.411Z"
   },
   {
    "duration": 4,
    "start_time": "2022-10-06T14:43:23.150Z"
   },
   {
    "duration": 14,
    "start_time": "2022-10-06T14:43:25.879Z"
   },
   {
    "duration": 4,
    "start_time": "2022-10-06T14:43:29.026Z"
   },
   {
    "duration": 9,
    "start_time": "2022-10-06T14:43:32.991Z"
   },
   {
    "duration": 4,
    "start_time": "2022-10-06T14:43:36.343Z"
   },
   {
    "duration": 7,
    "start_time": "2022-10-06T14:43:39.171Z"
   },
   {
    "duration": 18,
    "start_time": "2022-10-06T14:43:42.238Z"
   },
   {
    "duration": 7,
    "start_time": "2022-10-06T14:43:45.292Z"
   },
   {
    "duration": 11,
    "start_time": "2022-10-06T14:43:48.509Z"
   },
   {
    "duration": 28,
    "start_time": "2022-10-06T14:43:51.174Z"
   },
   {
    "duration": 25,
    "start_time": "2022-10-06T14:43:53.469Z"
   },
   {
    "duration": 4,
    "start_time": "2022-10-06T14:43:59.219Z"
   },
   {
    "duration": 141,
    "start_time": "2022-10-06T14:44:01.587Z"
   },
   {
    "duration": 51,
    "start_time": "2022-10-06T14:51:47.821Z"
   },
   {
    "duration": 4,
    "start_time": "2022-10-06T14:53:57.756Z"
   },
   {
    "duration": 157,
    "start_time": "2022-10-06T14:54:01.089Z"
   },
   {
    "duration": 4,
    "start_time": "2022-10-06T14:56:47.028Z"
   },
   {
    "duration": 139,
    "start_time": "2022-10-06T14:56:48.737Z"
   },
   {
    "duration": 399,
    "start_time": "2022-10-06T14:57:12.397Z"
   },
   {
    "duration": 79,
    "start_time": "2022-10-06T14:57:14.708Z"
   },
   {
    "duration": 7,
    "start_time": "2022-10-06T14:57:21.460Z"
   },
   {
    "duration": 4,
    "start_time": "2022-10-06T14:57:24.683Z"
   },
   {
    "duration": 9,
    "start_time": "2022-10-06T14:57:31.803Z"
   },
   {
    "duration": 6,
    "start_time": "2022-10-06T14:57:35.081Z"
   },
   {
    "duration": 3,
    "start_time": "2022-10-06T14:57:39.323Z"
   },
   {
    "duration": 12,
    "start_time": "2022-10-06T14:57:41.984Z"
   },
   {
    "duration": 22,
    "start_time": "2022-10-06T14:57:44.313Z"
   },
   {
    "duration": 19,
    "start_time": "2022-10-06T14:57:46.377Z"
   },
   {
    "duration": 4,
    "start_time": "2022-10-06T14:57:49.773Z"
   },
   {
    "duration": 143,
    "start_time": "2022-10-06T14:57:51.621Z"
   },
   {
    "duration": 8,
    "start_time": "2022-10-07T04:55:49.523Z"
   },
   {
    "duration": 45,
    "start_time": "2022-10-07T04:55:51.373Z"
   },
   {
    "duration": 427,
    "start_time": "2022-10-07T04:56:14.392Z"
   },
   {
    "duration": 69,
    "start_time": "2022-10-07T04:56:23.346Z"
   },
   {
    "duration": 7,
    "start_time": "2022-10-07T04:56:31.356Z"
   },
   {
    "duration": 4,
    "start_time": "2022-10-07T04:56:34.188Z"
   },
   {
    "duration": 8,
    "start_time": "2022-10-07T04:56:43.443Z"
   },
   {
    "duration": 6,
    "start_time": "2022-10-07T04:56:46.670Z"
   },
   {
    "duration": 3,
    "start_time": "2022-10-07T04:56:50.577Z"
   },
   {
    "duration": 11,
    "start_time": "2022-10-07T04:56:52.828Z"
   },
   {
    "duration": 18,
    "start_time": "2022-10-07T04:56:55.663Z"
   },
   {
    "duration": 3,
    "start_time": "2022-10-07T04:56:58.319Z"
   },
   {
    "duration": 138,
    "start_time": "2022-10-07T04:57:00.113Z"
   },
   {
    "duration": 9,
    "start_time": "2022-10-07T05:05:59.999Z"
   },
   {
    "duration": 3,
    "start_time": "2022-10-07T05:22:13.484Z"
   },
   {
    "duration": 173,
    "start_time": "2022-10-07T05:22:15.791Z"
   },
   {
    "duration": 22,
    "start_time": "2022-10-07T05:22:48.948Z"
   },
   {
    "duration": 3,
    "start_time": "2022-10-07T05:25:37.311Z"
   },
   {
    "duration": 79,
    "start_time": "2022-10-07T05:25:39.944Z"
   },
   {
    "duration": 15,
    "start_time": "2022-10-07T05:25:43.071Z"
   },
   {
    "duration": 3,
    "start_time": "2022-10-07T05:26:48.108Z"
   },
   {
    "duration": 4,
    "start_time": "2022-10-07T05:27:26.752Z"
   },
   {
    "duration": 136,
    "start_time": "2022-10-07T05:27:40.649Z"
   },
   {
    "duration": 22,
    "start_time": "2022-10-07T05:27:44.060Z"
   },
   {
    "duration": 400,
    "start_time": "2022-10-07T05:28:48.084Z"
   },
   {
    "duration": 69,
    "start_time": "2022-10-07T05:28:49.342Z"
   },
   {
    "duration": 7,
    "start_time": "2022-10-07T05:28:57.696Z"
   },
   {
    "duration": 4,
    "start_time": "2022-10-07T05:29:00.394Z"
   },
   {
    "duration": 12,
    "start_time": "2022-10-07T05:29:03.162Z"
   },
   {
    "duration": 8,
    "start_time": "2022-10-07T05:29:04.984Z"
   },
   {
    "duration": 8,
    "start_time": "2022-10-07T05:29:09.593Z"
   },
   {
    "duration": 6,
    "start_time": "2022-10-07T05:29:12.889Z"
   },
   {
    "duration": 3,
    "start_time": "2022-10-07T05:29:17.344Z"
   },
   {
    "duration": 10,
    "start_time": "2022-10-07T05:29:19.612Z"
   },
   {
    "duration": 19,
    "start_time": "2022-10-07T05:29:24.674Z"
   },
   {
    "duration": 3,
    "start_time": "2022-10-07T05:29:27.764Z"
   },
   {
    "duration": 138,
    "start_time": "2022-10-07T05:29:30.194Z"
   },
   {
    "duration": 4,
    "start_time": "2022-10-07T05:29:35.682Z"
   },
   {
    "duration": 147,
    "start_time": "2022-10-07T05:29:38.204Z"
   },
   {
    "duration": 16,
    "start_time": "2022-10-07T05:29:41.061Z"
   },
   {
    "duration": 3,
    "start_time": "2022-10-07T05:30:19.629Z"
   },
   {
    "duration": 139,
    "start_time": "2022-10-07T05:30:21.651Z"
   },
   {
    "duration": 15,
    "start_time": "2022-10-07T05:30:23.916Z"
   },
   {
    "duration": 3,
    "start_time": "2022-10-07T05:34:26.371Z"
   },
   {
    "duration": 153,
    "start_time": "2022-10-07T05:34:28.074Z"
   },
   {
    "duration": 16,
    "start_time": "2022-10-07T05:34:31.446Z"
   },
   {
    "duration": 397,
    "start_time": "2022-10-07T05:35:06.394Z"
   },
   {
    "duration": 68,
    "start_time": "2022-10-07T05:35:08.102Z"
   },
   {
    "duration": 7,
    "start_time": "2022-10-07T05:35:15.024Z"
   },
   {
    "duration": 4,
    "start_time": "2022-10-07T05:35:18.024Z"
   },
   {
    "duration": 9,
    "start_time": "2022-10-07T05:35:25.740Z"
   },
   {
    "duration": 6,
    "start_time": "2022-10-07T05:35:29.844Z"
   },
   {
    "duration": 4,
    "start_time": "2022-10-07T05:35:34.261Z"
   },
   {
    "duration": 11,
    "start_time": "2022-10-07T05:35:37.611Z"
   },
   {
    "duration": 20,
    "start_time": "2022-10-07T05:35:39.949Z"
   },
   {
    "duration": 4,
    "start_time": "2022-10-07T05:35:42.871Z"
   },
   {
    "duration": 137,
    "start_time": "2022-10-07T05:35:44.752Z"
   },
   {
    "duration": 10,
    "start_time": "2022-10-07T05:35:50.620Z"
   },
   {
    "duration": 4,
    "start_time": "2022-10-07T05:35:54.891Z"
   },
   {
    "duration": 152,
    "start_time": "2022-10-07T05:35:59.268Z"
   },
   {
    "duration": 16,
    "start_time": "2022-10-07T05:36:02.159Z"
   },
   {
    "duration": 9,
    "start_time": "2022-10-07T05:38:10.669Z"
   },
   {
    "duration": 3,
    "start_time": "2022-10-07T05:40:45.440Z"
   },
   {
    "duration": 140,
    "start_time": "2022-10-07T05:40:48.219Z"
   },
   {
    "duration": 15,
    "start_time": "2022-10-07T05:40:51.519Z"
   },
   {
    "duration": 3,
    "start_time": "2022-10-07T05:41:52.780Z"
   },
   {
    "duration": 129,
    "start_time": "2022-10-07T05:41:55.612Z"
   },
   {
    "duration": 3,
    "start_time": "2022-10-07T05:42:44.864Z"
   },
   {
    "duration": 131,
    "start_time": "2022-10-07T05:42:47.374Z"
   },
   {
    "duration": 380,
    "start_time": "2022-10-07T05:43:17.674Z"
   },
   {
    "duration": 69,
    "start_time": "2022-10-07T05:43:19.544Z"
   },
   {
    "duration": 7,
    "start_time": "2022-10-07T05:43:26.593Z"
   },
   {
    "duration": 4,
    "start_time": "2022-10-07T05:43:28.909Z"
   },
   {
    "duration": 8,
    "start_time": "2022-10-07T05:43:32.922Z"
   },
   {
    "duration": 6,
    "start_time": "2022-10-07T05:43:35.440Z"
   },
   {
    "duration": 3,
    "start_time": "2022-10-07T05:43:39.409Z"
   },
   {
    "duration": 12,
    "start_time": "2022-10-07T05:43:41.628Z"
   },
   {
    "duration": 20,
    "start_time": "2022-10-07T05:43:45.573Z"
   },
   {
    "duration": 3,
    "start_time": "2022-10-07T05:43:48.180Z"
   },
   {
    "duration": 135,
    "start_time": "2022-10-07T05:43:50.400Z"
   },
   {
    "duration": 4,
    "start_time": "2022-10-07T05:43:56.992Z"
   },
   {
    "duration": 130,
    "start_time": "2022-10-07T05:43:59.313Z"
   },
   {
    "duration": 20,
    "start_time": "2022-10-07T05:44:02.128Z"
   },
   {
    "duration": 4,
    "start_time": "2022-10-07T05:52:01.262Z"
   },
   {
    "duration": 142,
    "start_time": "2022-10-07T05:52:03.215Z"
   },
   {
    "duration": 15,
    "start_time": "2022-10-07T05:52:05.691Z"
   },
   {
    "duration": 6,
    "start_time": "2022-10-07T06:14:17.218Z"
   },
   {
    "duration": 141,
    "start_time": "2022-10-07T06:14:20.797Z"
   },
   {
    "duration": 13,
    "start_time": "2022-10-07T06:15:09.587Z"
   },
   {
    "duration": 98,
    "start_time": "2022-10-07T06:17:32.831Z"
   },
   {
    "duration": 371,
    "start_time": "2022-10-07T06:17:47.831Z"
   },
   {
    "duration": 70,
    "start_time": "2022-10-07T06:17:49.414Z"
   },
   {
    "duration": 7,
    "start_time": "2022-10-07T06:17:57.508Z"
   },
   {
    "duration": 4,
    "start_time": "2022-10-07T06:17:59.823Z"
   },
   {
    "duration": 8,
    "start_time": "2022-10-07T06:18:03.329Z"
   },
   {
    "duration": 7,
    "start_time": "2022-10-07T06:18:05.808Z"
   },
   {
    "duration": 3,
    "start_time": "2022-10-07T06:18:09.026Z"
   },
   {
    "duration": 11,
    "start_time": "2022-10-07T06:18:11.328Z"
   },
   {
    "duration": 19,
    "start_time": "2022-10-07T06:18:14.005Z"
   },
   {
    "duration": 4,
    "start_time": "2022-10-07T06:18:17.036Z"
   },
   {
    "duration": 134,
    "start_time": "2022-10-07T06:18:19.101Z"
   },
   {
    "duration": 51,
    "start_time": "2022-10-07T06:18:25.371Z"
   },
   {
    "duration": 6,
    "start_time": "2022-10-07T06:19:15.538Z"
   },
   {
    "duration": 159,
    "start_time": "2022-10-07T06:19:19.156Z"
   },
   {
    "duration": 15,
    "start_time": "2022-10-07T06:19:23.211Z"
   },
   {
    "duration": 7,
    "start_time": "2022-10-07T06:51:06.480Z"
   }
  ],
  "colab": {
   "name": "dpp_template_part1.ipynb",
   "provenance": []
  },
  "kernelspec": {
   "display_name": "Python 3 (ipykernel)",
   "language": "python",
   "name": "python3"
  },
  "language_info": {
   "codemirror_mode": {
    "name": "ipython",
    "version": 3
   },
   "file_extension": ".py",
   "mimetype": "text/x-python",
   "name": "python",
   "nbconvert_exporter": "python",
   "pygments_lexer": "ipython3",
   "version": "3.9.5"
  },
  "toc": {
   "base_numbering": 1,
   "nav_menu": {},
   "number_sections": true,
   "sideBar": true,
   "skip_h1_title": true,
   "title_cell": "Table of Contents",
   "title_sidebar": "Contents",
   "toc_cell": false,
   "toc_position": {},
   "toc_section_display": true,
   "toc_window_display": false
  }
 },
 "nbformat": 4,
 "nbformat_minor": 5
}
